{
 "cells": [
  {
   "cell_type": "markdown",
   "metadata": {},
   "source": [
    "# <div style=\"text-align: center\"> Proyecto **Google Maps Research**</div>\n",
    "\n",
    "### <div style=\"text-align: justify\"> Lo que se pretende hacer en esta ocacion es generar una aplicacion, que permita extraer los tiempos y distancia de viajes para un conjunto de datos de entrada. </div> \n",
    "\n",
    "### <div Style='text-align: justify'> La motivacion para el desarrollo de este proyecto surge de la necesidad de reforzar algunos nuevos conceptos.</div> \n",
    "\n",
    "\n",
    "Estos en particular son:\n",
    "- Extraccion de datos de paginas web (**Selenium**)\n",
    "- Desarrollo de aplicaciones (**PyQt5-designer**)\n",
    "\n",
    "\n",
    "### <div style='text-align: justify; margin-top:1cm'> Asimismo, este proyecto parte desde la base de que es factible de realizarse, puesto que, cuando me encontraba trabajando en mi tesis de titulo, elabore un codigo similar para la extraccion de distancias entre varias locaciones.</div>\n",
    "\n",
    "    \n",
    "    "
   ]
  },
  {
   "cell_type": "markdown",
   "metadata": {},
   "source": [
    "## <div style = 'text-align: justify'> En consecuencia, en este cuadernillo pretendo cubrir parte de la funcionalidad de la aplicacion. </div>\n",
    "### <div style = 'text-align: justify'> Mas concretamente, todos aquellos **aspectos relacionados con la busqueda y extraccion de datos de Google Maps**.</div>"
   ]
  },
  {
   "cell_type": "code",
   "execution_count": 1,
   "metadata": {},
   "outputs": [],
   "source": [
    "# primero importemos las bibliotecas que vamos a utilizar\n",
    "import pandas as pd\n",
    "import os\n",
    "from selenium import webdriver\n",
    "from selenium.webdriver.common.keys import Keys\n",
    "from selenium.webdriver.support import expected_conditions as EC\n",
    "from selenium.webdriver.common.by import By\n",
    "from selenium.webdriver.support.wait import WebDriverWait\n"
   ]
  },
  {
   "cell_type": "markdown",
   "metadata": {},
   "source": [
    "### <div style = 'text-align: left'> Lo siguiente que hice fue generar un archivo que contenga locaciones origen-destino que nos sirva para experimentar (origen_destino_de_prueba.xlsx). </div>\n",
    "\n",
    "![imagen](https://raw.githubusercontent.com/raaraya1/raaraya1/main/imagenes/proyecto_google_maps/1.png)\n",
    "\n",
    "<div style='text-align:center'> Representacion de las locaciones contenidas en el archivo</div>"
   ]
  },
  {
   "cell_type": "code",
   "execution_count": 2,
   "metadata": {
    "scrolled": true
   },
   "outputs": [
    {
     "data": {
      "text/html": [
       "<div>\n",
       "<style scoped>\n",
       "    .dataframe tbody tr th:only-of-type {\n",
       "        vertical-align: middle;\n",
       "    }\n",
       "\n",
       "    .dataframe tbody tr th {\n",
       "        vertical-align: top;\n",
       "    }\n",
       "\n",
       "    .dataframe thead th {\n",
       "        text-align: right;\n",
       "    }\n",
       "</style>\n",
       "<table border=\"1\" class=\"dataframe\">\n",
       "  <thead>\n",
       "    <tr style=\"text-align: right;\">\n",
       "      <th></th>\n",
       "      <th>origen</th>\n",
       "      <th>destino</th>\n",
       "    </tr>\n",
       "  </thead>\n",
       "  <tbody>\n",
       "    <tr>\n",
       "      <th>0</th>\n",
       "      <td>-41.319428, -72.988576</td>\n",
       "      <td>-41.319428, -72.988576</td>\n",
       "    </tr>\n",
       "    <tr>\n",
       "      <th>1</th>\n",
       "      <td>-41.319428, -72.988576</td>\n",
       "      <td>-41.333551, -72.964070</td>\n",
       "    </tr>\n",
       "    <tr>\n",
       "      <th>2</th>\n",
       "      <td>-41.319428, -72.988576</td>\n",
       "      <td>-41.472136, -72.940394</td>\n",
       "    </tr>\n",
       "    <tr>\n",
       "      <th>3</th>\n",
       "      <td>-41.319428, -72.988576</td>\n",
       "      <td>-41.212923, -72.545460</td>\n",
       "    </tr>\n",
       "    <tr>\n",
       "      <th>4</th>\n",
       "      <td>-41.319428, -72.988576</td>\n",
       "      <td>-40.974946, -72.883882</td>\n",
       "    </tr>\n",
       "    <tr>\n",
       "      <th>...</th>\n",
       "      <td>...</td>\n",
       "      <td>...</td>\n",
       "    </tr>\n",
       "    <tr>\n",
       "      <th>95</th>\n",
       "      <td>NaN</td>\n",
       "      <td>NaN</td>\n",
       "    </tr>\n",
       "    <tr>\n",
       "      <th>96</th>\n",
       "      <td>NaN</td>\n",
       "      <td>NaN</td>\n",
       "    </tr>\n",
       "    <tr>\n",
       "      <th>97</th>\n",
       "      <td>NaN</td>\n",
       "      <td>NaN</td>\n",
       "    </tr>\n",
       "    <tr>\n",
       "      <th>98</th>\n",
       "      <td>NaN</td>\n",
       "      <td>NaN</td>\n",
       "    </tr>\n",
       "    <tr>\n",
       "      <th>99</th>\n",
       "      <td>NaN</td>\n",
       "      <td>NaN</td>\n",
       "    </tr>\n",
       "  </tbody>\n",
       "</table>\n",
       "<p>100 rows × 2 columns</p>\n",
       "</div>"
      ],
      "text/plain": [
       "                      origen                   destino\n",
       "0    -41.319428, -72.988576    -41.319428, -72.988576 \n",
       "1    -41.319428, -72.988576    -41.333551, -72.964070 \n",
       "2    -41.319428, -72.988576    -41.472136, -72.940394 \n",
       "3    -41.319428, -72.988576    -41.212923, -72.545460 \n",
       "4    -41.319428, -72.988576    -40.974946, -72.883882 \n",
       "..                       ...                       ...\n",
       "95                       NaN                       NaN\n",
       "96                       NaN                       NaN\n",
       "97                       NaN                       NaN\n",
       "98                       NaN                       NaN\n",
       "99                       NaN                       NaN\n",
       "\n",
       "[100 rows x 2 columns]"
      ]
     },
     "execution_count": 2,
     "metadata": {},
     "output_type": "execute_result"
    }
   ],
   "source": [
    "# Ahora, carguemos el archivo\n",
    "## este metodo es para cargarlo de forma local (todo tiene que estar en una misma carpeta)\n",
    "#ruta = os.getcwd()\n",
    "#archivo = 'origen_destino_de_prueba.xlsx'\n",
    "\n",
    "## Esto otro metodo es para cargar el archivo desde mi cuenta de github\n",
    "### ojo: que toda la aplicacion esta hecha para fucionar con archivos .xlsx\n",
    "### en esta parte lo hare con .csv solo para mostrar el funcionamiento\n",
    "\n",
    "ruta = 'https://raw.githubusercontent.com/raaraya1/Personal-Proyects/main/Proyectos/Google%20Maps%20Research/origen_destino_de_prueba.csv'\n",
    "df = pd.read_csv(ruta, sep=';', header=None, names=['origen', 'destino'])\n",
    "df\n",
    "                "
   ]
  },
  {
   "cell_type": "code",
   "execution_count": 3,
   "metadata": {},
   "outputs": [
    {
     "data": {
      "text/html": [
       "<div>\n",
       "<style scoped>\n",
       "    .dataframe tbody tr th:only-of-type {\n",
       "        vertical-align: middle;\n",
       "    }\n",
       "\n",
       "    .dataframe tbody tr th {\n",
       "        vertical-align: top;\n",
       "    }\n",
       "\n",
       "    .dataframe thead th {\n",
       "        text-align: right;\n",
       "    }\n",
       "</style>\n",
       "<table border=\"1\" class=\"dataframe\">\n",
       "  <thead>\n",
       "    <tr style=\"text-align: right;\">\n",
       "      <th></th>\n",
       "      <th>origen</th>\n",
       "      <th>destino</th>\n",
       "    </tr>\n",
       "  </thead>\n",
       "  <tbody>\n",
       "    <tr>\n",
       "      <th>0</th>\n",
       "      <td>-41.319428, -72.988576</td>\n",
       "      <td>-41.319428, -72.988576</td>\n",
       "    </tr>\n",
       "    <tr>\n",
       "      <th>1</th>\n",
       "      <td>-41.319428, -72.988576</td>\n",
       "      <td>-41.333551, -72.964070</td>\n",
       "    </tr>\n",
       "    <tr>\n",
       "      <th>2</th>\n",
       "      <td>-41.319428, -72.988576</td>\n",
       "      <td>-41.472136, -72.940394</td>\n",
       "    </tr>\n",
       "    <tr>\n",
       "      <th>3</th>\n",
       "      <td>-41.319428, -72.988576</td>\n",
       "      <td>-41.212923, -72.545460</td>\n",
       "    </tr>\n",
       "    <tr>\n",
       "      <th>4</th>\n",
       "      <td>-41.319428, -72.988576</td>\n",
       "      <td>-40.974946, -72.883882</td>\n",
       "    </tr>\n",
       "    <tr>\n",
       "      <th>5</th>\n",
       "      <td>-41.319428, -72.988576</td>\n",
       "      <td>-40.913432, -73.159804</td>\n",
       "    </tr>\n",
       "    <tr>\n",
       "      <th>6</th>\n",
       "      <td>-41.319428, -72.988576</td>\n",
       "      <td>-40.580283, -73.109887</td>\n",
       "    </tr>\n",
       "    <tr>\n",
       "      <th>7</th>\n",
       "      <td>-41.319428, -72.988576</td>\n",
       "      <td>-40.322364, -72.478941</td>\n",
       "    </tr>\n",
       "    <tr>\n",
       "      <th>8</th>\n",
       "      <td>-41.319428, -72.988576</td>\n",
       "      <td>-39.836906, -73.208262</td>\n",
       "    </tr>\n",
       "    <tr>\n",
       "      <th>9</th>\n",
       "      <td>-41.319428, -72.988576</td>\n",
       "      <td>-36.817464, -73.027056</td>\n",
       "    </tr>\n",
       "  </tbody>\n",
       "</table>\n",
       "</div>"
      ],
      "text/plain": [
       "                     origen                   destino\n",
       "0   -41.319428, -72.988576    -41.319428, -72.988576 \n",
       "1   -41.319428, -72.988576    -41.333551, -72.964070 \n",
       "2   -41.319428, -72.988576    -41.472136, -72.940394 \n",
       "3   -41.319428, -72.988576    -41.212923, -72.545460 \n",
       "4   -41.319428, -72.988576    -40.974946, -72.883882 \n",
       "5   -41.319428, -72.988576    -40.913432, -73.159804 \n",
       "6   -41.319428, -72.988576    -40.580283, -73.109887 \n",
       "7   -41.319428, -72.988576    -40.322364, -72.478941 \n",
       "8   -41.319428, -72.988576    -39.836906, -73.208262 \n",
       "9   -41.319428, -72.988576    -36.817464, -73.027056 "
      ]
     },
     "execution_count": 3,
     "metadata": {},
     "output_type": "execute_result"
    }
   ],
   "source": [
    "# Por alguna razon me aparecen algunas filas extra en el archivo, asi que simplemente cortare \n",
    "# el dataframe hasta la seccion sin errores\n",
    "\n",
    "df = df[:10]\n",
    "df"
   ]
  },
  {
   "cell_type": "code",
   "execution_count": 4,
   "metadata": {},
   "outputs": [],
   "source": [
    "# Ahora, es turno de realizar la busqueda y generar las nuevas columnas (distancias y tiempo)\n",
    "## Por este motivo, en esta seccion usaremos la biblioteca de selenium para investigar y extraer \n",
    "## las distancias y tiempos de viaje\n",
    "\n",
    "# Abramos el navegador (voy a usar firefox)\n",
    "## nota: es necesario contar con el navegador de firefox y el archivo 'geckodrive.exe'.\n",
    "## Aqui dejo un enlace para descargarlo: https://github.com/mozilla/geckodriver/releases\n",
    "## Este ultimo debe estar contenido en la misma carpeta que este cuadernillo.\n",
    "driver = webdriver.Firefox()\n",
    "driver.get('https://www.google.cl/maps')\n",
    "\n",
    "# Hagamos la primera busqueda a mano \n",
    "## Notemos que la primera busqueda tiene un origen igual a su destino\n",
    "origen = df['origen'][0]\n",
    "destino = df['destino'][0]\n",
    "#print(origen)  # -41.319428, -72.988576 \n",
    "#print(destino)  # -41.319428, -72.988576 \n",
    "\n",
    "\n",
    "# Para estos casos especiales pondremos la siguiente condicion \n",
    "## Si origen == destino -> distancia=0 y tiempo=0\n",
    "\n",
    "# Ahora probemos para un caso distinto \n",
    "origen = df['origen'][3]\n",
    "destino = df['destino'][8]\n",
    "#print(origen)    # -41.319428, -72.988576 \n",
    "#print(destino)   #  -39.836906, -73.208262 \n",
    "\n",
    "\n",
    "# Notemos la estructura de la ruta de busqueda\n",
    "## https://www.google.cl/maps/dir/+-41.319428,+-72.988576+/+-39.836906,+-73.208262+/@-40.567256,-73.0506017,8z/data=!4m9!4m8!1m3!2m2!1d-72.988576!2d-41.319428!1m3!2m2!1d-73.208262!2d-39.836906\n"
   ]
  },
  {
   "cell_type": "markdown",
   "metadata": {},
   "source": [
    "### <div style='text-align:justify'>Notemos que el enlace al cual nos redirecciono la pagina contiene las coordenadas que dimos como entrada. </div>\n",
    "\n",
    "![imagen](https://raw.githubusercontent.com/raaraya1/raaraya1/main/imagenes/proyecto_google_maps/2.png)\n",
    "\n",
    "<div style='text-align: center; margin-bottom:1cm'>Enlace:https://www.google.cl/maps/dir/+-41.319428,+-72.988576+/+-39.836906,+-73.208262+/@-40.567256,-73.0506017,8z/data=!4m9!4m8!1m3!2m2!1d-72.988576!2d-41.319428!1m3!2m2!1d-73.208262!2d-39.836906</div>\n",
    "\n",
    "## <div style='text-align: center'> ¿Que sucede si recortamos un poco el enlace? </div>\n",
    "\n",
    "![imagen](https://raw.githubusercontent.com/raaraya1/raaraya1/main/imagenes/proyecto_google_maps/3.png)\n",
    "\n",
    "<div style='text-align: center; margin-bottom:1cm'>Enlace recortado: https://www.google.cl/maps/dir/+-41.319428,+-72.988576+/+-39.836906,+-73.208262+</div>\n",
    "\n",
    "## <div style='text-align: center'> Bien, de esta manera rescatamos una **estructura base** de como efectuar las busquedas.</div>"
   ]
  },
  {
   "cell_type": "code",
   "execution_count": 16,
   "metadata": {},
   "outputs": [
    {
     "name": "stdout",
     "output_type": "stream",
     "text": [
      "https://www.google.cl/maps/dir/+-41.319428,+-72.988576+/+-40.322364,+-72.478941+\n"
     ]
    }
   ],
   "source": [
    "# Ahora, probemos a abrir esta pagina generando el enlace recortado\n",
    "origen = str(df['origen'][6]).replace(' ', '+')\n",
    "destino = str(df['destino'][7]).replace(' ', '+')\n",
    "enlace_recortado = 'https://www.google.cl/maps/dir/{}/{}'.format(origen, destino)\n",
    "print(enlace_recortado)\n",
    "\n",
    "# Abramos la pagina\n",
    "driver.get(enlace_recortado)\n"
   ]
  },
  {
   "cell_type": "markdown",
   "metadata": {},
   "source": [
    "## <div style='text-align:center; margin-button:1cm'> Ahora enfoquemonos en inspeccionar las salidas de los que nos interesa (**tiempo de viaje y distancia**) </div>\n",
    "\n",
    "![imagen](https://raw.githubusercontent.com/raaraya1/raaraya1/main/imagenes/proyecto_google_maps/4.png)\n",
    "\n",
    "<div style='text-align:center; margin-bottom:1cm'> Inspeccion del tiempo de viaje. </div>\n",
    "\n",
    "![imagen](https://raw.githubusercontent.com/raaraya1/raaraya1/main/imagenes/proyecto_google_maps/5.png)\n",
    "\n",
    "<div style='text-align:center; margin-bottom:1cm'> Inpeccion para la distancia. </div>\n"
   ]
  },
  {
   "cell_type": "code",
   "execution_count": 6,
   "metadata": {},
   "outputs": [
    {
     "data": {
      "text/plain": [
       "<selenium.webdriver.firefox.webelement.FirefoxWebElement (session=\"80a9753a-762e-4daa-b38f-3594cc2f3570\", element=\"87382f76-ed03-4ea0-af21-6f792c3e1e36\")>"
      ]
     },
     "execution_count": 6,
     "metadata": {},
     "output_type": "execute_result"
    }
   ],
   "source": [
    "# Algo que es sumamente importante antes de continuar es esperar a que los elementos de la pagina web\n",
    "# se terminen de cargar\n",
    "\n",
    "WebDriverWait(driver, 10).until(EC.element_to_be_clickable((By.CSS_SELECTOR, 'span[jstcache=\"290\"]')))\n",
    "WebDriverWait(driver, 10).until(EC.element_to_be_clickable((By.CSS_SELECTOR, 'div[class=\"section-directions-trip-duration delay-light\"]')))\n",
    "\n",
    "# Ojo que estas condiciones no funcionan para cualquier locacion.\n"
   ]
  },
  {
   "cell_type": "code",
   "execution_count": 17,
   "metadata": {
    "scrolled": false
   },
   "outputs": [
    {
     "name": "stdout",
     "output_type": "stream",
     "text": [
      "2 h 3 min\n",
      "168 km\n"
     ]
    }
   ],
   "source": [
    "# Ahora, rescatemos el tiempo de viaje (esta condicion si sirve para cualquie locacion)\n",
    "# extraido de la web: div class=\"section-directions-trip-numbers\"\n",
    "tiempo = driver.find_elements_by_tag_name('div[class=\"section-directions-trip-numbers\"]')[0].text\n",
    "print(tiempo)"
   ]
  },
  {
   "cell_type": "code",
   "execution_count": 12,
   "metadata": {
    "scrolled": true
   },
   "outputs": [
    {
     "name": "stdout",
     "output_type": "stream",
     "text": [
      "168 km\n"
     ]
    }
   ],
   "source": [
    "# Ahora, rescatemos la distancia (esta condicion si sirve para cualquie locacion)\n",
    "distancia = driver.find_elements_by_tag_name('div[class=\"section-directions-trip-distance section-directions-trip-secondary-text\"]')[0].text\n",
    "print(distancia)"
   ]
  },
  {
   "cell_type": "code",
   "execution_count": 14,
   "metadata": {
    "scrolled": true
   },
   "outputs": [
    {
     "name": "stdout",
     "output_type": "stream",
     "text": [
      "['0', '10 min\\n3,5 km', '29 min\\n21,9 km']\n",
      "['0', '3,5 km', '21,9 km']\n"
     ]
    }
   ],
   "source": [
    "# Ahora, automatizemos este proceso\n",
    "tiempos = []\n",
    "distancias = [] \n",
    "# abrimos el navegador\n",
    "driver = webdriver.Firefox()\n",
    "# por ahora solo voy a ir con los primeros 3 (ojo que toma su tiempo)\n",
    "for fila in range(3):    \n",
    "    # generar el enlace\n",
    "    origen = str(df['origen'][fila]).replace(' ', '+')\n",
    "    destino = str(df['destino'][fila]).replace(' ', '+')\n",
    "    enlace_recortado = 'https://www.google.cl/maps/dir/{}/{}'.format(origen, destino)\n",
    "    #print(enlace_recortado)\n",
    "    \n",
    "    if origen == destino:\n",
    "        tiempos.append('0')\n",
    "        distancias.append('0')\n",
    "    else:    \n",
    "        # cargar la pagina\n",
    "        driver.get(enlace_recortado)\n",
    "        # esperar a que se carguen los elementos\n",
    "        WebDriverWait(driver, 10).until(EC.element_to_be_clickable((By.CSS_SELECTOR, 'div[class=\"section-directions-trip-numbers\"]')))\n",
    "        # obtener tiempo de viaje\n",
    "        tiempo = driver.find_elements_by_tag_name('div[class=\"section-directions-trip-numbers\"]')[0].text\n",
    "        tiempos.append(tiempo)\n",
    "        # esperar a que se carguen los elementos\n",
    "        WebDriverWait(driver, 10).until(EC.element_to_be_clickable((By.CSS_SELECTOR, 'div[class=\"section-directions-trip-distance section-directions-trip-secondary-text\"]')))\n",
    "        # obtener distancia de viaje        \n",
    "        distancia = driver.find_elements_by_tag_name('div[class=\"section-directions-trip-distance section-directions-trip-secondary-text\"]')[0].text\n",
    "        distancias.append(distancia)  \n",
    "\n",
    "print(tiempos)\n",
    "print(distancias)\n",
    "    "
   ]
  },
  {
   "cell_type": "code",
   "execution_count": 110,
   "metadata": {
    "scrolled": true
   },
   "outputs": [
    {
     "name": "stdout",
     "output_type": "stream",
     "text": [
      "['0', '9 min', '25 min']\n",
      "['0', '3,5 km', '21,9 km']\n"
     ]
    },
    {
     "name": "stderr",
     "output_type": "stream",
     "text": [
      "<ipython-input-110-58665ba2ccb1>:6: SettingWithCopyWarning: \n",
      "A value is trying to be set on a copy of a slice from a DataFrame.\n",
      "Try using .loc[row_indexer,col_indexer] = value instead\n",
      "\n",
      "See the caveats in the documentation: https://pandas.pydata.org/pandas-docs/stable/user_guide/indexing.html#returning-a-view-versus-a-copy\n",
      "  mdb['tiempos'] = tiempos\n",
      "<ipython-input-110-58665ba2ccb1>:7: SettingWithCopyWarning: \n",
      "A value is trying to be set on a copy of a slice from a DataFrame.\n",
      "Try using .loc[row_indexer,col_indexer] = value instead\n",
      "\n",
      "See the caveats in the documentation: https://pandas.pydata.org/pandas-docs/stable/user_guide/indexing.html#returning-a-view-versus-a-copy\n",
      "  mdb['distancias'] = distancias\n"
     ]
    },
    {
     "data": {
      "text/html": [
       "<div>\n",
       "<style scoped>\n",
       "    .dataframe tbody tr th:only-of-type {\n",
       "        vertical-align: middle;\n",
       "    }\n",
       "\n",
       "    .dataframe tbody tr th {\n",
       "        vertical-align: top;\n",
       "    }\n",
       "\n",
       "    .dataframe thead th {\n",
       "        text-align: right;\n",
       "    }\n",
       "</style>\n",
       "<table border=\"1\" class=\"dataframe\">\n",
       "  <thead>\n",
       "    <tr style=\"text-align: right;\">\n",
       "      <th></th>\n",
       "      <th>origen</th>\n",
       "      <th>destino</th>\n",
       "      <th>tiempos</th>\n",
       "      <th>distancias</th>\n",
       "    </tr>\n",
       "  </thead>\n",
       "  <tbody>\n",
       "    <tr>\n",
       "      <th>0</th>\n",
       "      <td>-41.319428, -72.988576</td>\n",
       "      <td>-41.319428, -72.988576</td>\n",
       "      <td>0</td>\n",
       "      <td>0</td>\n",
       "    </tr>\n",
       "    <tr>\n",
       "      <th>1</th>\n",
       "      <td>-41.319428, -72.988576</td>\n",
       "      <td>-41.333551, -72.964070</td>\n",
       "      <td>9 min</td>\n",
       "      <td>3,5 km</td>\n",
       "    </tr>\n",
       "    <tr>\n",
       "      <th>2</th>\n",
       "      <td>-41.319428, -72.988576</td>\n",
       "      <td>-41.472136, -72.940394</td>\n",
       "      <td>25 min</td>\n",
       "      <td>21,9 km</td>\n",
       "    </tr>\n",
       "  </tbody>\n",
       "</table>\n",
       "</div>"
      ],
      "text/plain": [
       "                     origen                   destino tiempos distancias\n",
       "0   -41.319428, -72.988576    -41.319428, -72.988576        0          0\n",
       "1   -41.319428, -72.988576    -41.333551, -72.964070    9 min     3,5 km\n",
       "2   -41.319428, -72.988576    -41.472136, -72.940394   25 min    21,9 km"
      ]
     },
     "execution_count": 110,
     "metadata": {},
     "output_type": "execute_result"
    }
   ],
   "source": [
    "print(tiempos)\n",
    "print(distancias)\n",
    "\n",
    "# voy a hacer un DataFrame mas pequeño\n",
    "mdb = 0\n",
    "mdb = df[:3]\n",
    "mdb['tiempos'] = tiempos\n",
    "mdb['distancias'] = distancias\n",
    "mdb"
   ]
  },
  {
   "cell_type": "markdown",
   "metadata": {},
   "source": [
    "## <div style='text-align:center'> Lo que nos queda es generar el **archivo de salida** con los resultados. </div>\n"
   ]
  },
  {
   "cell_type": "code",
   "execution_count": 112,
   "metadata": {},
   "outputs": [],
   "source": [
    "# para cerrar el buscador\n",
    "#driver.close()\n",
    "\n",
    "# generar el archivo\n",
    "with open('output.xlsx', 'w') as fp:\n",
    "    pass\n",
    "\n",
    "# guardar la info en el excel\n",
    "mdb.to_excel(ruta + '/' + 'output.xlsx')\n"
   ]
  },
  {
   "cell_type": "markdown",
   "metadata": {},
   "source": [
    "## <div style='text-align:center'> **Terminamos**. Asi es como se ve nuestro archivo de salida </div>\n",
    "![imagen](https://raw.githubusercontent.com/raaraya1/raaraya1/main/imagenes/proyecto_google_maps/6.png)\n",
    "<div style='text-align:center'> Contenido del archivo 'output.xlsx' </div>\n",
    "\n",
    "\n",
    "## <div style='text-align:center'> Ademas, para los interesados en transformar estos codigos a una aplicacion, es que les dejo el siguiente enlace:\n",
    "https://drive.google.com/drive/folders/1P0xeFICjkvk2Amj7F6o-8wdNLuLa3uPz?usp=sharing </div>"
   ]
  },
  {
   "cell_type": "markdown",
   "metadata": {},
   "source": [
    "## <div style='text-align:center'> **Notas adicionales** (Errores) </div>\n",
    "\n",
    "####  <div style='text-align:justify'>1) No se puede llegar a escoger lugares tan aleatoriamente en el mapa.</div>\n",
    "**<div style='text-align:center; margin-bottom:1cm'>Revisar previamente que exista acceso entre las localidades</div>**\n",
    "\n",
    "####  <div style='text-align:justify'>2) Para el desarrollo de la aplicacion, se utilizo el siguiente codigo para extraer el tiempo de viaje.</div>\n",
    "\n",
    "    tiempo = driver.find_elements_by_tag_name('div[class=\"section-directions-trip-numbers\"]')[0].text\n",
    "\n",
    "<div style='text-align:justify; margin-top:1cm; margin-bottom:1cm'>Sucede que esta linea de codigo ahora esta incluyendo el valor de las distancias. Por esta razon, una forma sencilla de arreglarlo es sustituyendo lo anterior por lo siguiente.</div>\n",
    "\n",
    "    valor = driver.find_elements_by_tag_name('div[class=\"section-directions-trip-numbers\"]')[0].text\n",
    "    tiempo, distancia = valor.split('\\n')\n"
   ]
  }
 ],
 "metadata": {
  "kernelspec": {
   "display_name": "base",
   "language": "python",
   "name": "base"
  },
  "language_info": {
   "codemirror_mode": {
    "name": "ipython",
    "version": 3
   },
   "file_extension": ".py",
   "mimetype": "text/x-python",
   "name": "python",
   "nbconvert_exporter": "python",
   "pygments_lexer": "ipython3",
   "version": "3.8.5"
  }
 },
 "nbformat": 4,
 "nbformat_minor": 4
}
