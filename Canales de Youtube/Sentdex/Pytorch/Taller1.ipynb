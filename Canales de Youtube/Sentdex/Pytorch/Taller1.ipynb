{
  "nbformat": 4,
  "nbformat_minor": 0,
  "metadata": {
    "colab": {
      "name": "Taller1.ipynb",
      "provenance": [],
      "collapsed_sections": [],
      "authorship_tag": "ABX9TyOO9hvNUExVgxrjmhq/D5+F",
      "include_colab_link": true
    },
    "kernelspec": {
      "name": "python3",
      "display_name": "Python 3"
    }
  },
  "cells": [
    {
      "cell_type": "markdown",
      "metadata": {
        "id": "view-in-github",
        "colab_type": "text"
      },
      "source": [
        "<a href=\"https://colab.research.google.com/github/raaraya1/Personal-Proyects/blob/main/Canales%20de%20Youtube/Sentdex/Pytorch/Taller1.ipynb\" target=\"_parent\"><img src=\"https://colab.research.google.com/assets/colab-badge.svg\" alt=\"Open In Colab\"/></a>"
      ]
    },
    {
      "cell_type": "code",
      "metadata": {
        "colab": {
          "base_uri": "https://localhost:8080/"
        },
        "id": "1LzaPTsLEKW-",
        "outputId": "f5dc5e3c-e264-4911-8635-7a3e0ebe98db"
      },
      "source": [
        "import torch\n",
        "\n",
        "x = torch.Tensor([5, 3])\n",
        "y = torch.Tensor([2, 1])\n",
        "\n",
        "print(x*y)"
      ],
      "execution_count": null,
      "outputs": [
        {
          "output_type": "stream",
          "text": [
            "tensor([10.,  3.])\n"
          ],
          "name": "stdout"
        }
      ]
    },
    {
      "cell_type": "code",
      "metadata": {
        "colab": {
          "base_uri": "https://localhost:8080/"
        },
        "id": "NoQhvUVEIHwD",
        "outputId": "158ecb51-00fa-4366-9669-1f1d8b62eb9f"
      },
      "source": [
        "x = torch.zeros([2, 5])\n",
        "print(x)"
      ],
      "execution_count": null,
      "outputs": [
        {
          "output_type": "stream",
          "text": [
            "tensor([[0., 0., 0., 0., 0.],\n",
            "        [0., 0., 0., 0., 0.]])\n"
          ],
          "name": "stdout"
        }
      ]
    },
    {
      "cell_type": "markdown",
      "metadata": {
        "id": "dtO97o_mIPwj"
      },
      "source": [
        "x.shape"
      ]
    },
    {
      "cell_type": "code",
      "metadata": {
        "colab": {
          "base_uri": "https://localhost:8080/"
        },
        "id": "35ZKT06rIWwT",
        "outputId": "deab5585-c319-4c07-bb6b-9aa4c4462a94"
      },
      "source": [
        "y = torch.rand([2, 5])\n",
        "y"
      ],
      "execution_count": null,
      "outputs": [
        {
          "output_type": "execute_result",
          "data": {
            "text/plain": [
              "tensor([[0.1673, 0.1530, 0.1973, 0.8791, 0.1623],\n",
              "        [0.3085, 0.4254, 0.9303, 0.5905, 0.4349]])"
            ]
          },
          "metadata": {
            "tags": []
          },
          "execution_count": 5
        }
      ]
    },
    {
      "cell_type": "code",
      "metadata": {
        "colab": {
          "base_uri": "https://localhost:8080/"
        },
        "id": "sI1VrCmSIjqo",
        "outputId": "465778a6-0f92-4f64-cdd7-302e0f4bb16c"
      },
      "source": [
        "y.view([1, 10])"
      ],
      "execution_count": null,
      "outputs": [
        {
          "output_type": "execute_result",
          "data": {
            "text/plain": [
              "tensor([[0.1673, 0.1530, 0.1973, 0.8791, 0.1623, 0.3085, 0.4254, 0.9303, 0.5905,\n",
              "         0.4349]])"
            ]
          },
          "metadata": {
            "tags": []
          },
          "execution_count": 6
        }
      ]
    },
    {
      "cell_type": "code",
      "metadata": {
        "colab": {
          "base_uri": "https://localhost:8080/"
        },
        "id": "F0a2hS2gIp9A",
        "outputId": "5b06fa0d-6fda-420b-a643-5ebb6cfb0f2a"
      },
      "source": [
        "y = y.view([1, 10])\n",
        "y"
      ],
      "execution_count": null,
      "outputs": [
        {
          "output_type": "execute_result",
          "data": {
            "text/plain": [
              "tensor([[0.1673, 0.1530, 0.1973, 0.8791, 0.1623, 0.3085, 0.4254, 0.9303, 0.5905,\n",
              "         0.4349]])"
            ]
          },
          "metadata": {
            "tags": []
          },
          "execution_count": 7
        }
      ]
    },
    {
      "cell_type": "code",
      "metadata": {
        "id": "0oi11wLiIw4L"
      },
      "source": [
        ""
      ],
      "execution_count": null,
      "outputs": []
    }
  ]
}