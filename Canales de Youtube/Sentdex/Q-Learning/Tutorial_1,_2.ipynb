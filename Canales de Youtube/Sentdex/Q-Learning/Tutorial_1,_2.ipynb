{
  "nbformat": 4,
  "nbformat_minor": 0,
  "metadata": {
    "colab": {
      "name": "Tutorial 1, 2.ipynb",
      "provenance": [],
      "collapsed_sections": [],
      "authorship_tag": "ABX9TyMCPLbRhoLwVHdmh+Pa42as",
      "include_colab_link": true
    },
    "kernelspec": {
      "name": "python3",
      "display_name": "Python 3"
    },
    "accelerator": "GPU"
  },
  "cells": [
    {
      "cell_type": "markdown",
      "metadata": {
        "id": "view-in-github",
        "colab_type": "text"
      },
      "source": [
        "<a href=\"https://colab.research.google.com/github/raaraya1/Personal-Proyects/blob/main/Canales%20de%20Youtube/Sentdex/Q-Learning/Tutorial_1%2C_2.ipynb\" target=\"_parent\"><img src=\"https://colab.research.google.com/assets/colab-badge.svg\" alt=\"Open In Colab\"/></a>"
      ]
    },
    {
      "cell_type": "code",
      "metadata": {
        "id": "9kAknXyoDZ_r"
      },
      "source": [
        "import gym\n",
        "import numpy as np\n"
      ],
      "execution_count": null,
      "outputs": []
    },
    {
      "cell_type": "code",
      "metadata": {
        "id": "Z9AxV6R5Dk7S"
      },
      "source": [
        "env = gym.make('MountainCar-v0')\n",
        "\n",
        "LEARNING_RATE = 0.1\n",
        "DISCOUNT = 0.95\n",
        "EPISODES = 25000\n",
        "\n",
        "SHOW_EVERY = 2000\n",
        "\n",
        "DISCRETE_OS_SIZE = [20] * len(env.observation_space.high)\n",
        "discrete_os_win_size = (env.observation_space.high - env.observation_space.low) / DISCRETE_OS_SIZE\n",
        "\n",
        "epsilon = 0.5\n",
        "START_EPSILON_DECAYING = 1\n",
        "END_EPSILON_DECAYING = EPISODES // 2\n",
        "\n",
        "epsilon_decay_value = epsilon/(END_EPSILON_DECAYING)\n",
        "\n",
        "q_table = np.random.uniform(low=-2, high=0, size=(DISCRETE_OS_SIZE + [env.action_space.n]))\n",
        "\n",
        "def get_discrete_state(state):\n",
        "  discrete_state = (state - env.observation_space.low)/discrete_os_win_size\n",
        "  return tuple(discrete_state.astype(np.int))\n",
        "\n",
        "for episode in range(EPISODES):\n",
        "  if episode % SHOW_EVERY == 0:\n",
        "    print(episode)\n",
        "    render = True\n",
        "  else:\n",
        "    render = False\n",
        "\n",
        "  discrete_state = get_discrete_state(env.reset())\n",
        "  done = False\n",
        "  while not done:\n",
        "    action = np.argmax(q_table[discrete_state])\n",
        "    new_state, reward, done,_ = env.step(action)\n",
        "    new_discrete_state = get_discrete_state(new_state)\n",
        "    #if render:\n",
        "    #  env.render()\n",
        "    if not done:\n",
        "      max_future_q = np.max(q_table[new_discrete_state])\n",
        "      current_q = q_table[discrete_state +(action, )]\n",
        "      new_q = (1-LEARNING_RATE)*current_q + LEARNING_RATE*(reward + DISCOUNT*max_future_q)\n",
        "      q_table[discrete_state + (action,)] = new_q\n",
        "    elif new_state[0] >= env.goal_position:\n",
        "      print(f'we made it on episode {episode}')\n",
        "      q_table[discrete_state + (action, )] = 0\n",
        "\n",
        "    discrete_state = new_discrete_state\n",
        "\n",
        "  if END_EPSILON_DECAYING >= episode >= START_EPSILON_DECAYING:\n",
        "    epsilon -= epsilon_decay_value\n",
        "\n",
        "env.close()\n"
      ],
      "execution_count": null,
      "outputs": []
    }
  ]
}