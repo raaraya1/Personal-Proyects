{
  "nbformat": 4,
  "nbformat_minor": 0,
  "metadata": {
    "colab": {
      "name": "Decision Tree.ipynb",
      "provenance": [],
      "collapsed_sections": [],
      "authorship_tag": "ABX9TyOB6tHxFsM0cYN8K/mCjmw/",
      "include_colab_link": true
    },
    "kernelspec": {
      "name": "python3",
      "display_name": "Python 3"
    },
    "language_info": {
      "name": "python"
    }
  },
  "cells": [
    {
      "cell_type": "markdown",
      "metadata": {
        "id": "view-in-github",
        "colab_type": "text"
      },
      "source": [
        "<a href=\"https://colab.research.google.com/github/raaraya1/Personal-Proyects/blob/main/Canales%20de%20Youtube/Python%20Engineer/Decision_Tree.ipynb\" target=\"_parent\"><img src=\"https://colab.research.google.com/assets/colab-badge.svg\" alt=\"Open In Colab\"/></a>"
      ]
    },
    {
      "cell_type": "markdown",
      "metadata": {
        "id": "4hxsE0s2gKR4"
      },
      "source": [
        "# **Decision Tree**\n",
        "\n",
        "**Entropy**\n",
        "\n",
        "$$\n",
        "E = - \\sum p(X) \\cdot log_{2}(p(X))\n",
        "$$\n",
        "\n",
        "$$\n",
        "p(X) = \\frac{len(x)}{n}\n",
        "$$\n",
        "\n",
        "**Ganancia de informacion**\n",
        "\n",
        "$$\n",
        "IG = E(parent) - [weight \\quad average] \\cdot E(children) \n",
        "$$\n",
        "\n",
        "**Metodo (para construir el arbol)**\n",
        "\n",
        "- Se comienza desde el primer nodo y para cada se selecciona la mejor separacion en base a la ganancia de informacion.\n",
        "- De la ganancia de informacion mas alta se rescata la variable y el limite.\n",
        "- Luego se aplica la segmentacion a cada nodo, en base a la variable y limite encontrado.\n",
        "- Se itera con estos pasos hasta cumplirse algun criterio\n",
        " - **maximium depth**: cantidad de nodos maximos al final\n",
        " - **minimum samples**: cantidad minima de elementos que puede tener los nodos\n",
        " - **no more class distribution**: No existen mas elementos para segmentar\n",
        "\n",
        "**Aproximacion (prediccion)**\n",
        "\n",
        "- Se sigue las segmentaciones en el orden del arbol (de arriba a abajo)\n",
        "- Cuando se llega a un nodo al final del arbol se predice segun el valor mas comun en esa muestra.\n",
        "\n",
        "\n",
        "\n"
      ]
    },
    {
      "cell_type": "markdown",
      "metadata": {
        "id": "GEkG05qXmPPb"
      },
      "source": [
        "## **Armando el algoritmo desde cero**"
      ]
    },
    {
      "cell_type": "code",
      "metadata": {
        "id": "Y08isu1FgFHf"
      },
      "source": [
        "# Importando bibliotecas\n",
        "import numpy as np\n",
        "from collections import Counter"
      ],
      "execution_count": 1,
      "outputs": []
    },
    {
      "cell_type": "code",
      "metadata": {
        "id": "VjyikNeZmW3P"
      },
      "source": [
        "# Funcion de entropia\n",
        "def entropy(y):\n",
        "  hist = np.bincount(y)\n",
        "  ps = hist / len(y)\n",
        "  return -np.sum([p*np.log2(p) for p in ps if p > 0])\n",
        "\n",
        "# Se define una clase para cada nodo\n",
        "## Nota: este almecena la condicion de si corresponde a un nodo final (leaf node)\n",
        "class Node:\n",
        "  def __init__(self, feature=None, threshold=None, left=None, right=None, *, value=None):\n",
        "    self.feature = feature\n",
        "    self.threshold = threshold\n",
        "    self.left = left\n",
        "    self.right = right\n",
        "    self.value = value\n",
        "\n",
        "  def is_leaf_node(self):\n",
        "    return self.value is not None\n",
        "\n",
        "\n",
        "# Algoritmo de decision tree\n",
        "class DecisionTree:\n",
        "  def __init__(self, min_samples_split=2, max_depth=100, n_feats=None):\n",
        "    self.min_samples_split = min_samples_split\n",
        "    self.max_depth = max_depth\n",
        "    self.n_feats = n_feats\n",
        "    self.root = None\n",
        "\n",
        "  def fit(self, X, y):\n",
        "    self.n_feats = X.shape[1] if not self.n_feats else min(self.n_feats, X.shape[1])\n",
        "    self.root = self._grow_tree(X, y)\n",
        "\n",
        "  def _grow_tree(self, X, y, depth=0):\n",
        "    n_samples, n_features = X.shape \n",
        "    n_labels = len(np.unique(y)) # Cantidad de categorias de la variable dependiente\n",
        "\n",
        "    # Criterios de termino\n",
        "    if (depth >= self.max_depth\n",
        "        or n_labels == 1\n",
        "        or n_samples < self.min_samples_split):\n",
        "      leaf_value = self._most_common_label(y)\n",
        "      return Node(value=leaf_value)\n",
        "\n",
        "    feat_idxs = np.random.choice(n_features, self.n_feats, replace=False)\n",
        "\n",
        "    # Busqueda de la mejor categoria y limite para segmentar\n",
        "    best_feat, best_thresh = self._best_criteria(X, y, feat_idxs)\n",
        "    left_idxs, right_idxs = self._split(X[:, best_feat], best_thresh)\n",
        "    left = self._grow_tree(X[left_idxs, :], y[left_idxs], depth + 1)\n",
        "    right = self._grow_tree(X[right_idxs, :], y[right_idxs], depth + 1)\n",
        "    return Node(best_feat, best_thresh, left, right)\n",
        "\n",
        "  # Funcion para obtener la mejor categoria y limite para segmentar\n",
        "  ## Nota: esta utiliza la funcion de ganancia de informacion en cada categoria y limite, guardando siempre la que obtuvo mejor resultado\n",
        "  def _best_criteria(self, X, y, feat_idxs):\n",
        "    best_gain = -1\n",
        "    split_idx, split_threh = None, None\n",
        "    for feat_idx in feat_idxs:\n",
        "      X_column = X[:, feat_idx]\n",
        "      thresholds = np.unique(X_column)\n",
        "      for threshold in thresholds:\n",
        "        gain = self._information_gain(y, X_column, threshold)\n",
        "\n",
        "        if gain > best_gain:\n",
        "          best_gain = gain\n",
        "          split_idx = feat_idx\n",
        "          split_threh = threshold\n",
        "\n",
        "    return split_idx, split_threh\n",
        "\n",
        "  # Funcion para calcular la ganancia en la segmentacion\n",
        "  def _information_gain(self, y, X_column, split_threh):\n",
        "    # Entropia del nodo anterior\n",
        "    parent_entropy = entropy(y)\n",
        "\n",
        "    # Segmentamos la muestra\n",
        "    left_idxs, right_idxs = self._split(X_column, split_threh)\n",
        "    if len(left_idxs) == 0 or len(right_idxs) == 0:\n",
        "      return 0\n",
        "\n",
        "    # Ahora aplicamos la funcion de ganancia de informacion restando la entropia\n",
        "    # ponderada de los nuevos nodos a la entropia del nodo anterior\n",
        "    n = len(y)\n",
        "    n_l, n_r = len(left_idxs), len(right_idxs) \n",
        "    e_l, e_r = entropy(y[left_idxs]), entropy(y[right_idxs])\n",
        "    child_entropy = (n_l/n)*e_l + (n_r/n)*e_r    \n",
        "    ig = parent_entropy - child_entropy\n",
        "    return ig\n",
        "\n",
        "  # Funcion para segmetar la muestra en funcion del limite\n",
        "  def _split(self, X_column, split_threh):\n",
        "    left_idxs = np.argwhere(X_column <= split_threh).flatten()\n",
        "    right_idxs = np.argwhere(X_column > split_threh).flatten()\n",
        "    return left_idxs, right_idxs\n",
        "\n",
        "  # Funcion para predecir\n",
        "  # Nota: esta utiliza la funcion para recorrer el arbol\n",
        "  def predict(self, X):\n",
        "    return np.array([self._traverse_tree(x, self.root) for x in X])\n",
        "\n",
        "  # Funcion para recorrer el arbol (recursiva con condicion de termino)\n",
        "  def _traverse_tree(self, x, node):\n",
        "    if node.is_leaf_node():\n",
        "      return node.value\n",
        "\n",
        "    if x[node.feature] <= node.threshold:\n",
        "        return self._traverse_tree(x, node.left)\n",
        "    return self._traverse_tree(x, node.right)\n",
        " \n",
        " # Funcion para seleccionar la categoria mas frecuente en el nodo final\n",
        "  def _most_common_label(self, y):\n",
        "    counter = Counter(y)\n",
        "    most_common = counter.most_common(1)[0][0]\n",
        "    return most_common\n"
      ],
      "execution_count": 2,
      "outputs": []
    },
    {
      "cell_type": "markdown",
      "metadata": {
        "id": "-rvcU-7I1oxo"
      },
      "source": [
        "## **Ahora probemos el algoritmo**"
      ]
    },
    {
      "cell_type": "code",
      "metadata": {
        "colab": {
          "base_uri": "https://localhost:8080/"
        },
        "id": "CiGr_eTgviDZ",
        "outputId": "4da59644-056e-46fb-9d58-690e6131f909"
      },
      "source": [
        "# Importamos bibliotecas\n",
        "from sklearn import datasets\n",
        "from sklearn.model_selection import train_test_split\n",
        "\n",
        "# Funcion para medir el acierto del algoritmo\n",
        "def accuracy(y_true, y_pred):\n",
        "    accuracy = np.sum(y_true == y_pred) / len(y_true)\n",
        "    return accuracy\n",
        "\n",
        "# Cargamos y separamos los datos en los conjuntos de entrenamiento y validacion\n",
        "data = datasets.load_breast_cancer()\n",
        "X, y = data.data, data.target\n",
        "X_train, X_test, y_train, y_test = train_test_split(X, y, test_size=0.2, random_state=1234)\n",
        "\n",
        "# Llamamos al algoritmo y lo entrenamos\n",
        "clf = DecisionTree(max_depth=10)\n",
        "clf.fit(X_train, y_train)\n",
        "\n",
        "# Generamos las prediccion en base al conjunto de validacion y medimos el acierto que tuvo\n",
        "y_pred = clf.predict(X_test)\n",
        "acc = accuracy(y_test, y_pred)\n",
        "acc"
      ],
      "execution_count": 3,
      "outputs": [
        {
          "output_type": "execute_result",
          "data": {
            "text/plain": [
              "0.9210526315789473"
            ]
          },
          "metadata": {},
          "execution_count": 3
        }
      ]
    },
    {
      "cell_type": "markdown",
      "metadata": {
        "id": "WX-EF5ex2bMP"
      },
      "source": [
        "## **Ahora probemos desde la biblioteca de sklearn**"
      ]
    },
    {
      "cell_type": "code",
      "metadata": {
        "id": "RqS5wHOE2gjb"
      },
      "source": [
        "from sklearn.tree import DecisionTreeClassifier"
      ],
      "execution_count": 4,
      "outputs": []
    },
    {
      "cell_type": "code",
      "metadata": {
        "colab": {
          "base_uri": "https://localhost:8080/"
        },
        "id": "wv1uFfBl3RvD",
        "outputId": "5c7f9f19-d70f-4c15-9454-119cf9a323c2"
      },
      "source": [
        "# Cargamos y entremos al clasificador\n",
        "clf_sk = DecisionTreeClassifier(max_depth=10, random_state=1234)\n",
        "clf_sk.fit(X_train, y_train)\n",
        "\n",
        "pred_sk = clf.predict(X_test)\n",
        "acc_sk = accuracy(y_test, pred_sk)\n",
        "acc_sk"
      ],
      "execution_count": 5,
      "outputs": [
        {
          "output_type": "execute_result",
          "data": {
            "text/plain": [
              "0.9210526315789473"
            ]
          },
          "metadata": {},
          "execution_count": 5
        }
      ]
    }
  ]
}