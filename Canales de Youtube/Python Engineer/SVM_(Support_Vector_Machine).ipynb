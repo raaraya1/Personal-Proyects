{
  "nbformat": 4,
  "nbformat_minor": 0,
  "metadata": {
    "colab": {
      "name": "SVM (Support Vector Machine).ipynb",
      "provenance": [],
      "collapsed_sections": [],
      "authorship_tag": "ABX9TyOfSJGfEr5TVmcuky2/l6Mh",
      "include_colab_link": true
    },
    "kernelspec": {
      "name": "python3",
      "display_name": "Python 3"
    },
    "language_info": {
      "name": "python"
    }
  },
  "cells": [
    {
      "cell_type": "markdown",
      "metadata": {
        "id": "view-in-github",
        "colab_type": "text"
      },
      "source": [
        "<a href=\"https://colab.research.google.com/github/raaraya1/Personal-Proyects/blob/main/Canales%20de%20Youtube/Python%20Engineer/SVM_(Support_Vector_Machine).ipynb\" target=\"_parent\"><img src=\"https://colab.research.google.com/assets/colab-badge.svg\" alt=\"Open In Colab\"/></a>"
      ]
    },
    {
      "cell_type": "markdown",
      "metadata": {
        "id": "sFv8nE43agb8"
      },
      "source": [
        "# **Support Vector Machine**\n",
        "\n",
        "No conozco mucho sobre este algoritmo, pero al paracer tiene por objetivo la busqueda de un hiperplano que segregue los datos atendiendo a estas dos condiciones:\n",
        "\n",
        "$$\n",
        "wx - b = 0\n",
        "$$\n",
        "\n",
        "$$\n",
        "max \\quad \\frac{2}{||w||}\n",
        "$$\n",
        "\n",
        "**Linear model (2 categorias (1 y -1))**\n",
        "\n",
        "$$\n",
        "wx - b = 0\n",
        "$$\n",
        "\n",
        "$$\n",
        "wx_{i} - b \\geq 1 \\quad si \\quad y_{i} = 1\n",
        "$$\n",
        "\n",
        "$$\n",
        "wx_{i} - b \\leq 1 \\quad si \\quad y_{i} = -1\n",
        "$$\n",
        "\n",
        "**Estas 3 ecuaciones se resumen en la siguiente:**\n",
        "\n",
        "$$\n",
        "y_{i}(wx_{i} - b) \\geq 1\n",
        "$$\n",
        "\n",
        "**Funcion de costos (loss)**\n",
        "\n",
        "$$\n",
        "loss = λ||w||^2 + \\frac{1}{n} \\sum_{i=1}^{n} max(0, 1-y_{i}(wx_{i}-b))\n",
        "$$\n",
        "\n",
        "De esta manera las **derivadas** en funcion de los parametros siguen las siguientes reglas:\n",
        "\n",
        "- si $y_{i}(xw - b) \\geq 1$: \n",
        "\n",
        "$$\n",
        "\\left [\\begin{array}{11} \\frac{d_{loss}}{d_{w_{k}}} \\\\ \\frac{d_{loss}}{db} \\end{array} \\right] = \\left [\\begin{array}{11} 2 \\lambda w_{k} \\\\ 0 \\end{array} \\right] \n",
        "$$\n",
        "\n",
        "- si $y_{i}(xw - b) < 1$:\n",
        "\n",
        "$$\n",
        "\\left [\\begin{array}{11} \\frac{d_{loss}}{d_{w_{k}}} \\\\ \\frac{d_{loss}}{db} \\end{array} \\right] = \\left [\\begin{array}{11} 2 \\lambda w_{k} - y_{i} \\cdot x_{i} \\\\ y_{i} \\end{array} \\right] \n",
        "$$\n",
        "\n",
        "**Reglas de actualizacion (Gradient Descent)**\n",
        "\n",
        "- Inicializar parametros\n",
        "- Iterar\n",
        " - Calcular loss\n",
        " - Calcular gradiente\n",
        " - Actualizar parametros\n",
        "\n",
        " $$\n",
        "w = w - lr \\cdot dw\n",
        " $$\n",
        "\n",
        " $$\n",
        "b = b - lr \\cdot db\n",
        " $$\n",
        "\n",
        "- Terminar de iterar\n"
      ]
    },
    {
      "cell_type": "markdown",
      "metadata": {
        "id": "F2jbiLXgha1_"
      },
      "source": [
        "## **Armando el algoritmo desde cero**"
      ]
    },
    {
      "cell_type": "code",
      "metadata": {
        "id": "zUotWRUyiOvO"
      },
      "source": [
        "import numpy as np"
      ],
      "execution_count": 1,
      "outputs": []
    },
    {
      "cell_type": "code",
      "metadata": {
        "id": "04Om6vUfaZjV"
      },
      "source": [
        "class SVM:\n",
        "  def __init__(self, lr=0.001, lambda_par=0.01, n_iters=1000):\n",
        "    self.lr = lr\n",
        "    self.lambda_par = lambda_par\n",
        "    self.n_iters = n_iters\n",
        "    self.w = None\n",
        "    self.b = None\n",
        "\n",
        "  def fit(self, X, y):\n",
        "    n_samples, n_features = X.shape\n",
        "\n",
        "    y_ = np.where(y <= 0, -1, 1) # corregimos las categorias en caso que no se encuentren diferenciadas con -1 y 1\n",
        "\n",
        "    self.w = np.zeros(n_features)\n",
        "    self.b = 0\n",
        "\n",
        "    for _ in range(self.n_iters):\n",
        "      for idx, x_i in enumerate(X):\n",
        "        condition = y_[idx]*(np.dot(x_i, self.w) - self.b) >= 1\n",
        "        if condition:\n",
        "          self.w -= self.lr*(2*self.lambda_par*self.w)\n",
        "        else:\n",
        "          self.w -= self.lr*(2*self.lambda_par*self.w - np.dot(x_i, y_[idx]))\n",
        "          self.b -= self.lr*y_[idx]\n",
        "\n",
        "  def predict(self, X):\n",
        "    approx = np.dot(X, self.w) - self.b\n",
        "    return np.sign(approx)"
      ],
      "execution_count": 20,
      "outputs": []
    },
    {
      "cell_type": "markdown",
      "metadata": {
        "id": "lhvFROirjYkK"
      },
      "source": [
        "## **Probemos ahora el algoritmo**\n",
        "\n"
      ]
    },
    {
      "cell_type": "code",
      "metadata": {
        "id": "m_r-Oq3rjWVX"
      },
      "source": [
        "from sklearn import datasets \n",
        "import matplotlib.pyplot as plt\n",
        "from sklearn.model_selection import train_test_split\n",
        " "
      ],
      "execution_count": 21,
      "outputs": []
    },
    {
      "cell_type": "code",
      "metadata": {
        "id": "USg7WEWXjknj"
      },
      "source": [
        "X, y = datasets.make_blobs(n_samples=50, n_features=2, centers=2, cluster_std=1.05, random_state=40)\n",
        "y = np.where(y == 0, -1, 1)\n",
        "X_train, X_test, y_train, y_test = train_test_split(X, y, test_size=0.2, random_state=123)\n",
        "\n",
        "clf = SVM()\n",
        "clf.fit(X_train, y_train)\n",
        "\n",
        "def accuracy(y_true, y_pred):\n",
        "  return np.sum(y_true == y_pred) / len(y_true)\n",
        "\n",
        "\n"
      ],
      "execution_count": 22,
      "outputs": []
    },
    {
      "cell_type": "code",
      "metadata": {
        "colab": {
          "base_uri": "https://localhost:8080/"
        },
        "id": "3tNbtmcuo29K",
        "outputId": "0eeb5238-5cea-4fab-d725-d5e0e5cb5cec"
      },
      "source": [
        "predicciones = clf.predict(X_test)\n",
        "\n",
        "acc = accuracy(y_test, predicciones)\n",
        "acc"
      ],
      "execution_count": 23,
      "outputs": [
        {
          "output_type": "execute_result",
          "data": {
            "text/plain": [
              "1.0"
            ]
          },
          "metadata": {},
          "execution_count": 23
        }
      ]
    },
    {
      "cell_type": "markdown",
      "metadata": {
        "id": "eds8qptG8eTd"
      },
      "source": [
        "## **Visualizacion de resultados**"
      ]
    },
    {
      "cell_type": "code",
      "metadata": {
        "id": "JX3IajEzpVDp"
      },
      "source": [
        "def visualize_svm():\n",
        "  def get_hyperplane_value(x, w, b, offset):\n",
        "    return (-w[0]*x + b + offset) /w[1]\n",
        "\n",
        "  fig = plt.figure()\n",
        "  ax = fig.add_subplot(1, 1, 1)\n",
        "  plt.scatter(X[:, 0], X[:, 1], marker='o', c=y)\n",
        "\n",
        "  x0_1 = np.amin(X[:, 0])\n",
        "  x0_2 = np.amax(X[:, 0])\n",
        "\n",
        "  x1_1 = get_hyperplane_value(x0_1, clf.w, clf.b, 0)\n",
        "  x1_2 = get_hyperplane_value(x0_2, clf.w, clf.b, 0)\n",
        "\n",
        "  x1_1_m = get_hyperplane_value(x0_1, clf.w, clf.b, -1)\n",
        "  x1_2_m = get_hyperplane_value(x0_2, clf.w, clf.b, -1)\n",
        "\n",
        "  x1_1_p = get_hyperplane_value(x0_1, clf.w, clf.b, 1)\n",
        "  x1_2_p = get_hyperplane_value(x0_2, clf.w, clf.b, 1)\n",
        "\n",
        "  ax.plot([x0_1, x0_2], [x1_1, x1_2], 'y--')\n",
        "  ax.plot([x0_1, x0_2], [x1_1_m, x1_2_m], 'k')\n",
        "  ax.plot([x0_1, x0_2], [x1_1_p, x1_2_p], 'k')\n",
        "\n",
        "  x1_min = np.amin(X[:, 1])\n",
        "  x1_max = np.amax(X[:, 1])\n",
        "  ax.set_ylim([x1_min - 3, x1_max + 3])\n",
        "\n",
        "  plt.show()\n",
        "\n"
      ],
      "execution_count": 29,
      "outputs": []
    },
    {
      "cell_type": "code",
      "metadata": {
        "colab": {
          "base_uri": "https://localhost:8080/",
          "height": 265
        },
        "id": "cca1d_A4-OYk",
        "outputId": "6e4be2ef-b3de-4e1f-df21-ebd314d6cff6"
      },
      "source": [
        "visualize_svm()"
      ],
      "execution_count": 25,
      "outputs": [
        {
          "output_type": "display_data",
          "data": {
            "image/png": "[encoded data removed]",
            "text/plain": [
              "<Figure size 432x288 with 1 Axes>"
            ]
          },
          "metadata": {
            "needs_background": "light"
          }
        }
      ]
    },
    {
      "cell_type": "markdown",
      "metadata": {
        "id": "QFBGLllN-Tby"
      },
      "source": [
        "## **Probemos ahora con el algoritmo de sklearn**\n",
        "\n",
        "**Nota**: Creo que es el `LinearSVC`"
      ]
    },
    {
      "cell_type": "code",
      "metadata": {
        "id": "H-x5N7uO-amX"
      },
      "source": [
        "from sklearn.svm import LinearSVC"
      ],
      "execution_count": 26,
      "outputs": []
    },
    {
      "cell_type": "code",
      "metadata": {
        "colab": {
          "base_uri": "https://localhost:8080/"
        },
        "id": "UW1hC8nV-w2z",
        "outputId": "3c09dd7b-538b-445a-f38f-1616126c7f3f"
      },
      "source": [
        "clf_sk = LinearSVC()\n",
        "clf_sk.fit(X_train, y_train)"
      ],
      "execution_count": 27,
      "outputs": [
        {
          "output_type": "execute_result",
          "data": {
            "text/plain": [
              "LinearSVC()"
            ]
          },
          "metadata": {},
          "execution_count": 27
        }
      ]
    },
    {
      "cell_type": "code",
      "metadata": {
        "colab": {
          "base_uri": "https://localhost:8080/"
        },
        "id": "bexyJXRE-47l",
        "outputId": "af752649-7163-4d28-e613-d610dbb4cfdd"
      },
      "source": [
        "pred_sk = clf_sk.predict(X_test)\n",
        "\n",
        "acc_sk = accuracy(y_test, pred_sk)\n",
        "acc_sk"
      ],
      "execution_count": 28,
      "outputs": [
        {
          "output_type": "execute_result",
          "data": {
            "text/plain": [
              "1.0"
            ]
          },
          "metadata": {},
          "execution_count": 28
        }
      ]
    }
  ]
}