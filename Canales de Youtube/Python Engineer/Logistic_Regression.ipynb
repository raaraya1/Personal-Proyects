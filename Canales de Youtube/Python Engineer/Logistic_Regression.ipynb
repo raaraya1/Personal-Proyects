{
  "nbformat": 4,
  "nbformat_minor": 0,
  "metadata": {
    "colab": {
      "name": "Logistic Regression.ipynb",
      "provenance": [],
      "collapsed_sections": [],
      "authorship_tag": "ABX9TyOxUGlYySrCPLDvMfYTvzyn",
      "include_colab_link": true
    },
    "kernelspec": {
      "name": "python3",
      "display_name": "Python 3"
    },
    "language_info": {
      "name": "python"
    }
  },
  "cells": [
    {
      "cell_type": "markdown",
      "metadata": {
        "id": "view-in-github",
        "colab_type": "text"
      },
      "source": [
        "<a href=\"https://colab.research.google.com/github/raaraya1/Personal-Proyects/blob/main/Canales%20de%20Youtube/Python%20Engineer/Logistic_Regression.ipynb\" target=\"_parent\"><img src=\"https://colab.research.google.com/assets/colab-badge.svg\" alt=\"Open In Colab\"/></a>"
      ]
    },
    {
      "cell_type": "markdown",
      "metadata": {
        "id": "CXFZNgPCwbS4"
      },
      "source": [
        "# **Logistic Regresion**\n",
        "\n",
        "**Prediccion (Aproximacion)**\n",
        "\n",
        "$$\n",
        "z = wx + b\n",
        "$$\n",
        "\n",
        "$$\n",
        "\\hat{y} = \\frac{1}{1+e^{-z}}\n",
        "$$\n",
        "\n",
        "**Funcion de perdida (cross entropy)**\n",
        "\n",
        "$$\n",
        "loss = \\frac{1}{N} \\sum_{i=1}^{n} [y^{i}log(\\hat{y(x^{i})}) + (1-y^{i})log(1 - \\hat{y(x^{i})})]\n",
        "$$\n",
        "\n",
        "**Gradientes**\n",
        "\n",
        "$$\n",
        "\\left[\\begin{array}{11} \\frac{d_{loss}}{dw} \\\\ \\frac{d_{loss}}{db} \\end{array}\\right] = \\left[\\begin{array}{11} \\frac{1}{N} \\sum 2x_{i}(\\hat{y} - y_{i}) \\\\ \\frac{1}{N} \\sum 2(\\hat{y} - y_{i}) \\end{array}\\right]\n",
        "$$\n",
        "\n",
        "**Metodo de Gradient Descent**\n",
        "- Iniciar parametros\n",
        "- Iterar\n",
        " - Calcular el error (loss)\n",
        " - Actualizar los pesos ($lr$=learning rate)\n",
        "\n",
        " $$\n",
        "w = w - lr*dw\n",
        " $$\n",
        "\n",
        " $$\n",
        " b = b - lr*db\n",
        " $$\n",
        "\n",
        "- Terminar de iterar\n"
      ]
    },
    {
      "cell_type": "markdown",
      "metadata": {
        "id": "OtvnB88s2Q6C"
      },
      "source": [
        "## **Armando el algoritmo desde cero**"
      ]
    },
    {
      "cell_type": "code",
      "metadata": {
        "id": "8JaMMBMwvldS"
      },
      "source": [
        "import numpy as np\n",
        "\n",
        "class LogisticRegression:\n",
        "  def __init__(self, lr=0.001, n_iters=1000):\n",
        "    self.lr = lr\n",
        "    self.n_iters = n_iters\n",
        "    self.weights = None\n",
        "    self.bias = None\n",
        "\n",
        "  def fit(self, X, y):\n",
        "    # Inicializar los parametros\n",
        "    n_samples, n_features = X.shape\n",
        "    self.weights = np.zeros(n_features)\n",
        "    self.bias = 0\n",
        "\n",
        "    # gradiant descent\n",
        "    for _ in range(self.n_iters):\n",
        "      # prediccion\n",
        "      linear_model = np.dot(X, self.weights) + self.bias\n",
        "      y_predicted = self._sigmoid(linear_model)\n",
        "\n",
        "      # actualizar los pesos\n",
        "      dw = (1/n_samples)*np.dot(X.T, (y_predicted - y))\n",
        "      db = (1/n_samples)*np.sum((y_predicted - y))\n",
        "\n",
        "      self.weights -= self.lr*dw\n",
        "      self.bias -= self.lr*db\n",
        "\n",
        "  def predict(self, X):\n",
        "    linear_model = np.dot(X, self.weights) + self.bias\n",
        "    y_predicted = self._sigmoid(linear_model)\n",
        "    y_predicted_cls = [1 if i > 0.5 else 0 for i in y_predicted]\n",
        "    return y_predicted_cls\n",
        "\n",
        "  def _sigmoid(self, x):\n",
        "    return 1/(1 + np.exp(-x))\n",
        "\n"
      ],
      "execution_count": 1,
      "outputs": []
    },
    {
      "cell_type": "markdown",
      "metadata": {
        "id": "yjnP2XE75I-q"
      },
      "source": [
        "## **Probemos el algoritmo**"
      ]
    },
    {
      "cell_type": "code",
      "metadata": {
        "id": "-o9CQg_H5Hsw"
      },
      "source": [
        "# Importar bibliotecas\n",
        "import numpy as np\n",
        "from sklearn.model_selection import train_test_split\n",
        "from sklearn import datasets\n",
        "import matplotlib.pyplot as plt"
      ],
      "execution_count": 2,
      "outputs": []
    },
    {
      "cell_type": "code",
      "metadata": {
        "colab": {
          "base_uri": "https://localhost:8080/"
        },
        "id": "-5oCVUjc5clm",
        "outputId": "7badb021-227a-4c86-c27f-66aaeca49178"
      },
      "source": [
        "# Importamos los datos \n",
        "Bc = datasets.load_breast_cancer()\n",
        "X, y = Bc.data, Bc.target\n",
        "\n",
        "# Craemos los set de entrenamiento y validacion\n",
        "X_train, X_test, y_train, y_test = train_test_split(X, y, test_size=0.2, random_state=1234)\n",
        "\n",
        "def accuracy(y_true, y_pred):\n",
        "  accuracy = np.sum(y_true == y_pred)/len(y_true)\n",
        "  return accuracy\n",
        "\n",
        "# Entrenamos al algoritmo\n",
        "regressor = LogisticRegression(lr=0.0001, n_iters=1000)\n",
        "regressor.fit(X_train, y_train)\n",
        "predictions = regressor.predict(X_test)\n",
        "\n",
        "# Observemos su desempeño\n",
        "acc = accuracy(y_test, predictions)\n",
        "acc"
      ],
      "execution_count": 5,
      "outputs": [
        {
          "output_type": "execute_result",
          "data": {
            "text/plain": [
              "0.9298245614035088"
            ]
          },
          "metadata": {},
          "execution_count": 5
        }
      ]
    },
    {
      "cell_type": "markdown",
      "metadata": {
        "id": "gjdiJHYV7p17"
      },
      "source": [
        "## **Ahora probemos el algortimo de sklearn**"
      ]
    },
    {
      "cell_type": "code",
      "metadata": {
        "id": "fq8YvU4b7zAO"
      },
      "source": [
        "# Importamos el algoritmo\n",
        "from sklearn.linear_model import LogisticRegression as LR_sk"
      ],
      "execution_count": 7,
      "outputs": []
    },
    {
      "cell_type": "code",
      "metadata": {
        "colab": {
          "base_uri": "https://localhost:8080/"
        },
        "id": "tYYH6SVu8Jh-",
        "outputId": "a3b42dfa-dc32-4a64-92a4-a33af777de53"
      },
      "source": [
        "# Entrenemos al algoritmo\n",
        "clf = LR_sk(max_iter=1000, random_state=1234)\n",
        "clf.fit(X, y)\n",
        "\n",
        "predicciones = clf.predict(X_test)\n",
        "\n",
        "acc_sk = accuracy(y_test, predicciones) \n",
        "acc_sk"
      ],
      "execution_count": 10,
      "outputs": [
        {
          "output_type": "stream",
          "name": "stderr",
          "text": [
            "/usr/local/lib/python3.7/dist-packages/sklearn/linear_model/_logistic.py:818: ConvergenceWarning: lbfgs failed to converge (status=1):\n",
            "STOP: TOTAL NO. of ITERATIONS REACHED LIMIT.\n",
            "\n",
            "Increase the number of iterations (max_iter) or scale the data as shown in:\n",
            "    https://scikit-learn.org/stable/modules/preprocessing.html\n",
            "Please also refer to the documentation for alternative solver options:\n",
            "    https://scikit-learn.org/stable/modules/linear_model.html#logistic-regression\n",
            "  extra_warning_msg=_LOGISTIC_SOLVER_CONVERGENCE_MSG,\n"
          ]
        },
        {
          "output_type": "execute_result",
          "data": {
            "text/plain": [
              "0.9473684210526315"
            ]
          },
          "metadata": {},
          "execution_count": 10
        }
      ]
    },
    {
      "cell_type": "code",
      "metadata": {
        "id": "KUZ8OOOW9fsV"
      },
      "source": [
        ""
      ],
      "execution_count": null,
      "outputs": []
    }
  ]
}