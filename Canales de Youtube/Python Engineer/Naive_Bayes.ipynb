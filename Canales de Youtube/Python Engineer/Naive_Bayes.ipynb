{
  "nbformat": 4,
  "nbformat_minor": 0,
  "metadata": {
    "colab": {
      "name": "Naive Bayes.ipynb",
      "provenance": [],
      "collapsed_sections": [],
      "authorship_tag": "ABX9TyNxZX5KTmJsSK8QicvGyCek",
      "include_colab_link": true
    },
    "kernelspec": {
      "name": "python3",
      "display_name": "Python 3"
    },
    "language_info": {
      "name": "python"
    }
  },
  "cells": [
    {
      "cell_type": "markdown",
      "metadata": {
        "id": "view-in-github",
        "colab_type": "text"
      },
      "source": [
        "<a href=\"https://colab.research.google.com/github/raaraya1/Personal-Proyects/blob/main/Canales%20de%20Youtube/Python%20Engineer/Naive_Bayes.ipynb\" target=\"_parent\"><img src=\"https://colab.research.google.com/assets/colab-badge.svg\" alt=\"Open In Colab\"/></a>"
      ]
    },
    {
      "cell_type": "markdown",
      "metadata": {
        "id": "x1qcTocXxQKa"
      },
      "source": [
        "# **Naive Bayes**\n",
        "\n",
        "Particularmente, este algoritmo no lo conocia, y por lo que he visto hasta ahora funciona como un **clasificador** basandose principalmente en el **teorema de bayes**.\n",
        "\n",
        "**Teorema de bayes**\n",
        "\n",
        "$$\n",
        "P(A/B) = \\frac{P(B/A) \\cdot P(A)}{P(B)}\n",
        "$$\n",
        "\n",
        "Eso si, para aprovechar este teorema es que se tiene que cumplir la condicion de que los atributos o **componentes del vector X sean independientes entre si (Se asume que los eventos son independientes)**.\n",
        "\n",
        "$$\n",
        "P(y/X) = \\frac{P(X/y) \\cdot P(y)}{P(X)} = \\frac{P(x_{1}/y) \\quad ... \\quad P(x_{n}/y) \\cdot P(y)}{P(X)}\n",
        "$$\n",
        "\n",
        "Asi, luego la manera de escoger a que clasificacion pertenece el vector X, es calculando todas las probabilidades condicionales (**Nota**: el $P(x)$ lo podemos omitir ya que va a estar presente en todas las ecuaciones)\n",
        "\n",
        "$\n",
        "$\n",
        "\n",
        "$\n",
        "y = argmax_{y} \\quad P(x_{1}/y) \\quad ... \\quad P(x_{n}/y) \\cdot P(y)\n",
        "$\n",
        "\n",
        "$\n",
        "y = argmax_{y} \\quad log(P(x_{1}/y)) + \\quad ... \\quad + log(P(x_{n}/y)) + log(P(y))\n",
        "$\n",
        "\n",
        "$\n",
        "$\n",
        "\n",
        "**Por ultimo, nos falta definir:**\n",
        "\n",
        "$\n",
        "$\n",
        "\n",
        "$P(y)$: Frecuencia (cantidad de veces que esta presente la clasificacion y en los datos)\n",
        "\n",
        "$\n",
        "P(x_{i}/y) = \\frac{1}{\\sqrt{2\\pi \\sigma_{y}^{2}}} \\cdot e^{(-\\frac{(x_{i} - \\mu_{y})^2}{2σ_{y}^{2}})}\n",
        "$"
      ]
    },
    {
      "cell_type": "markdown",
      "metadata": {
        "id": "xqjWIWmKjRZV"
      },
      "source": [
        "# **Armando el algoritmo desde cero**"
      ]
    },
    {
      "cell_type": "code",
      "metadata": {
        "id": "_Mcd4s61xMoi"
      },
      "source": [
        "import numpy as np\n",
        "\n",
        "class NaiveBayes:\n",
        "\n",
        "  def fit(self, X, y):\n",
        "    n_samples, n_features = X.shape\n",
        "    self._classes = np.unique(y)\n",
        "    n_classes = len(self._classes)\n",
        "\n",
        "    # Ahora calculamos la media y varianza de cada componente de X (features)\n",
        "    self._mean = np.zeros((n_classes, n_features), dtype=np.float64)\n",
        "    self._var = np.zeros((n_classes, n_features), dtype=np.float64)\n",
        "    self._priors = np.zeros(n_classes, dtype=np.float64)\n",
        "\n",
        "    for c in self._classes:\n",
        "      X_c = X[c == y]\n",
        "      self._mean[c, :] = X_c.mean(axis=0)\n",
        "      self._var[c, :] = X_c.var(axis=0)\n",
        "      self._priors[c] = X_c.shape[0] / float(n_samples)\n",
        "\n",
        "  def predict(self, X):\n",
        "    y_pred = [self._predict(x) for x in X]\n",
        "    return y_pred\n",
        "\n",
        "  def _predict(self, x):\n",
        "    posteriors = []\n",
        "\n",
        "    for idx, c in enumerate(self._classes):\n",
        "      prior = np.log(self._priors[idx])\n",
        "      class_conditional = np.sum(np.log(self._pdf(idx, x)))\n",
        "      posterior = prior + class_conditional\n",
        "      posteriors.append(posterior)\n",
        "\n",
        "    return self._classes[np.argmax(posteriors)]\n",
        "\n",
        "  def _pdf(self, class_idx, x): # Probability Density Function\n",
        "    mean = self._mean[class_idx]\n",
        "    var = self._var[class_idx]\n",
        "    numerator = np.exp(-(x - mean)**2 / (2*var))\n",
        "    denominator = np.sqrt(2*np.pi*var)\n",
        "    return numerator/denominator\n"
      ],
      "execution_count": 9,
      "outputs": []
    },
    {
      "cell_type": "markdown",
      "metadata": {
        "id": "DRFAwkMbn8ME"
      },
      "source": [
        "## **Ahora probemos el algortimo**"
      ]
    },
    {
      "cell_type": "code",
      "metadata": {
        "id": "0tFMYcF5n44y"
      },
      "source": [
        "# Importamos las bibliotecas\n",
        "import numpy as np\n",
        "from sklearn.model_selection import train_test_split\n",
        "from sklearn import datasets\n",
        "import matplotlib.pyplot as plt\n"
      ],
      "execution_count": 2,
      "outputs": []
    },
    {
      "cell_type": "code",
      "metadata": {
        "id": "iSBEbhhWoNWI"
      },
      "source": [
        "# Definimos una funcion para medir el acierto en las predicciones\n",
        "def accuracy(y_true, y_pred):\n",
        "  accuracy = np.sum(y_true == y_pred) / len(y_true)\n",
        "  return accuracy"
      ],
      "execution_count": 3,
      "outputs": []
    },
    {
      "cell_type": "code",
      "metadata": {
        "colab": {
          "base_uri": "https://localhost:8080/"
        },
        "id": "zVl2H_0CoZ4F",
        "outputId": "545560e2-4649-4792-8a38-68a6296a9eb0"
      },
      "source": [
        "# Generamos y ordenamos los sets de entrenamiento y de validacion\n",
        "X, y = datasets.make_classification(n_samples=1000, n_features=10, n_classes=2, random_state=123)\n",
        "X_train, X_test, y_train, y_test = train_test_split(X, y, test_size=0.2, random_state=123)\n",
        "\n",
        "# Cargamos y entrenamos al algortimo\n",
        "nb = NaiveBayes()\n",
        "nb.fit(X_train, y_train)\n",
        "predictions = nb.predict(X_test)\n",
        "\n",
        "# Medimos el acierto que tuvo\n",
        "acc = accuracy(y_test, predictions)\n",
        "acc"
      ],
      "execution_count": 10,
      "outputs": [
        {
          "output_type": "execute_result",
          "data": {
            "text/plain": [
              "0.965"
            ]
          },
          "metadata": {},
          "execution_count": 10
        }
      ]
    },
    {
      "cell_type": "markdown",
      "metadata": {
        "id": "mhrgc4mwqkzR"
      },
      "source": [
        "## **Ahora probemos con el algoritmo de sklearn**"
      ]
    },
    {
      "cell_type": "code",
      "metadata": {
        "id": "lcQ7E8rQqrLa"
      },
      "source": [
        "# Importamos el algoritmo\n",
        "from sklearn.naive_bayes import GaussianNB"
      ],
      "execution_count": 12,
      "outputs": []
    },
    {
      "cell_type": "code",
      "metadata": {
        "id": "fzhGYP_Fq2-6"
      },
      "source": [
        "# Cargamos y entrenamos al algoritmo\n",
        "clf = GaussianNB()\n",
        "clf.fit(X_train, y_train)\n",
        "\n",
        "# Generamos las predicciones sobre el set de validacion\n",
        "predictions = clf.predict(X_test)"
      ],
      "execution_count": 13,
      "outputs": []
    },
    {
      "cell_type": "code",
      "metadata": {
        "colab": {
          "base_uri": "https://localhost:8080/"
        },
        "id": "XB0bcZP8rUsY",
        "outputId": "1648e182-1d52-4b79-d5e2-3696c629d3f7"
      },
      "source": [
        "# Medimos el acierto que tuvo\n",
        "acc_sk = accuracy(y_test, predictions)\n",
        "acc_sk"
      ],
      "execution_count": 14,
      "outputs": [
        {
          "output_type": "execute_result",
          "data": {
            "text/plain": [
              "0.965"
            ]
          },
          "metadata": {},
          "execution_count": 14
        }
      ]
    }
  ]
}