{
 "cells": [
  {
   "cell_type": "markdown",
   "metadata": {},
   "source": [
    "# La idea es generar un **clasificador de SPAMs** para una set de datos en particular\n",
    "## Para la realizacion de este clasificador, no se utilizará nada tan sotisficado (solo contabilizando las palabras de la oracion determinando si el mensaje corresponde a un SPAM)\n",
    "Fuente:\n",
    " - https://www.youtube.com/watch?v=VDg8fCW8LdM\n",
    " "
   ]
  },
  {
   "cell_type": "code",
   "execution_count": 3,
   "metadata": {},
   "outputs": [
    {
     "data": {
      "text/html": [
       "<div>\n",
       "<style scoped>\n",
       "    .dataframe tbody tr th:only-of-type {\n",
       "        vertical-align: middle;\n",
       "    }\n",
       "\n",
       "    .dataframe tbody tr th {\n",
       "        vertical-align: top;\n",
       "    }\n",
       "\n",
       "    .dataframe thead th {\n",
       "        text-align: right;\n",
       "    }\n",
       "</style>\n",
       "<table border=\"1\" class=\"dataframe\">\n",
       "  <thead>\n",
       "    <tr style=\"text-align: right;\">\n",
       "      <th></th>\n",
       "      <th>label</th>\n",
       "      <th>sms</th>\n",
       "    </tr>\n",
       "  </thead>\n",
       "  <tbody>\n",
       "    <tr>\n",
       "      <th>0</th>\n",
       "      <td>ham</td>\n",
       "      <td>Go until jurong point, crazy.. Available only ...</td>\n",
       "    </tr>\n",
       "    <tr>\n",
       "      <th>1</th>\n",
       "      <td>ham</td>\n",
       "      <td>Ok lar... Joking wif u oni...</td>\n",
       "    </tr>\n",
       "    <tr>\n",
       "      <th>2</th>\n",
       "      <td>spam</td>\n",
       "      <td>Free entry in 2 a wkly comp to win FA Cup fina...</td>\n",
       "    </tr>\n",
       "    <tr>\n",
       "      <th>3</th>\n",
       "      <td>ham</td>\n",
       "      <td>U dun say so early hor... U c already then say...</td>\n",
       "    </tr>\n",
       "    <tr>\n",
       "      <th>4</th>\n",
       "      <td>ham</td>\n",
       "      <td>Nah I don't think he goes to usf, he lives aro...</td>\n",
       "    </tr>\n",
       "  </tbody>\n",
       "</table>\n",
       "</div>"
      ],
      "text/plain": [
       "  label                                                sms\n",
       "0   ham  Go until jurong point, crazy.. Available only ...\n",
       "1   ham                      Ok lar... Joking wif u oni...\n",
       "2  spam  Free entry in 2 a wkly comp to win FA Cup fina...\n",
       "3   ham  U dun say so early hor... U c already then say...\n",
       "4   ham  Nah I don't think he goes to usf, he lives aro..."
      ]
     },
     "execution_count": 3,
     "metadata": {},
     "output_type": "execute_result"
    }
   ],
   "source": [
    "import pandas as pd\n",
    "\n",
    "ruta = 'C:/Users/rodrigo/Desktop/github/Canales de Youtube/Python Simplified/SMSSpamCollection.txt'\n",
    "archivo = pd.read_csv(ruta, sep='\\t', header=None, names=['label', 'sms']) # \\t es para indicar una separacion por tab\n",
    "archivo.head()"
   ]
  },
  {
   "cell_type": "code",
   "execution_count": 16,
   "metadata": {},
   "outputs": [
    {
     "name": "stdout",
     "output_type": "stream",
     "text": [
      "['i', 'me', 'my', 'myself', 'we']\n",
      "!\"#$%&'()*+,-./:;<=>?@[\\]^_`{|}~\n"
     ]
    },
    {
     "name": "stderr",
     "output_type": "stream",
     "text": [
      "[nltk_data] Downloading package stopwords to\n",
      "[nltk_data]     C:\\Users\\rodrigo\\AppData\\Roaming\\nltk_data...\n",
      "[nltk_data]   Package stopwords is already up-to-date!\n",
      "[nltk_data] Downloading package punkt to\n",
      "[nltk_data]     C:\\Users\\rodrigo\\AppData\\Roaming\\nltk_data...\n",
      "[nltk_data]   Package punkt is already up-to-date!\n"
     ]
    }
   ],
   "source": [
    "# remover simbolos de puntuacion y palabras como if, else, etc\n",
    "import string\n",
    "import nltk\n",
    "\n",
    "nltk.download('stopwords')\n",
    "nltk.download('punkt')\n",
    "\n",
    "stopwords = nltk.corpus.stopwords.words('english')\n",
    "punctuation = string.punctuation\n",
    "\n",
    "print(stopwords[:5])\n",
    "print(punctuation)"
   ]
  },
  {
   "cell_type": "code",
   "execution_count": 20,
   "metadata": {
    "scrolled": true
   },
   "outputs": [
    {
     "data": {
      "text/html": [
       "<div>\n",
       "<style scoped>\n",
       "    .dataframe tbody tr th:only-of-type {\n",
       "        vertical-align: middle;\n",
       "    }\n",
       "\n",
       "    .dataframe tbody tr th {\n",
       "        vertical-align: top;\n",
       "    }\n",
       "\n",
       "    .dataframe thead th {\n",
       "        text-align: right;\n",
       "    }\n",
       "</style>\n",
       "<table border=\"1\" class=\"dataframe\">\n",
       "  <thead>\n",
       "    <tr style=\"text-align: right;\">\n",
       "      <th></th>\n",
       "      <th>label</th>\n",
       "      <th>sms</th>\n",
       "      <th>processed</th>\n",
       "    </tr>\n",
       "  </thead>\n",
       "  <tbody>\n",
       "    <tr>\n",
       "      <th>0</th>\n",
       "      <td>ham</td>\n",
       "      <td>Go until jurong point, crazy.. Available only ...</td>\n",
       "      <td>[go, jurong, point, crazy, available, bugis, n...</td>\n",
       "    </tr>\n",
       "    <tr>\n",
       "      <th>1</th>\n",
       "      <td>ham</td>\n",
       "      <td>Ok lar... Joking wif u oni...</td>\n",
       "      <td>[ok, lar, joking, wif, u, oni]</td>\n",
       "    </tr>\n",
       "    <tr>\n",
       "      <th>2</th>\n",
       "      <td>spam</td>\n",
       "      <td>Free entry in 2 a wkly comp to win FA Cup fina...</td>\n",
       "      <td>[free, entry, 2, wkly, comp, win, fa, cup, fin...</td>\n",
       "    </tr>\n",
       "    <tr>\n",
       "      <th>3</th>\n",
       "      <td>ham</td>\n",
       "      <td>U dun say so early hor... U c already then say...</td>\n",
       "      <td>[u, dun, say, early, hor, u, c, already, say]</td>\n",
       "    </tr>\n",
       "    <tr>\n",
       "      <th>4</th>\n",
       "      <td>ham</td>\n",
       "      <td>Nah I don't think he goes to usf, he lives aro...</td>\n",
       "      <td>[nah, dont, think, goes, usf, lives, around, t...</td>\n",
       "    </tr>\n",
       "  </tbody>\n",
       "</table>\n",
       "</div>"
      ],
      "text/plain": [
       "  label                                                sms  \\\n",
       "0   ham  Go until jurong point, crazy.. Available only ...   \n",
       "1   ham                      Ok lar... Joking wif u oni...   \n",
       "2  spam  Free entry in 2 a wkly comp to win FA Cup fina...   \n",
       "3   ham  U dun say so early hor... U c already then say...   \n",
       "4   ham  Nah I don't think he goes to usf, he lives aro...   \n",
       "\n",
       "                                           processed  \n",
       "0  [go, jurong, point, crazy, available, bugis, n...  \n",
       "1                     [ok, lar, joking, wif, u, oni]  \n",
       "2  [free, entry, 2, wkly, comp, win, fa, cup, fin...  \n",
       "3      [u, dun, say, early, hor, u, c, already, say]  \n",
       "4  [nah, dont, think, goes, usf, lives, around, t...  "
      ]
     },
     "execution_count": 20,
     "metadata": {},
     "output_type": "execute_result"
    }
   ],
   "source": [
    "# crearemos unna funcion que preprocese los mensajes\n",
    "## una forma de estandarizar los mensajes\n",
    "def pre_process(sms):\n",
    "    # remover mayusculas y signos de puntuacion\n",
    "    lowercase = \"\".join([palabra.lower() for palabra in sms if palabra not in punctuation])\n",
    "    # devuelve las oraciones como lista de palabras\n",
    "    tokenize = nltk.tokenize.word_tokenize(lowercase)\n",
    "    # por ultimo, debemos remover las palabras que no sirven\n",
    "    remove_stopwords = [palabra for palabra in tokenize if palabra not in stopwords]\n",
    "    return remove_stopwords\n",
    "\n",
    "'''palabra = 'RODRIGO'\n",
    "print(palabra)\n",
    "palabra = pre_process(palabra)\n",
    "print(palabra)\n",
    "'''\n",
    "archivo['processed'] = archivo['sms'].apply(lambda x: pre_process(x))\n",
    "archivo.head()\n"
   ]
  },
  {
   "cell_type": "code",
   "execution_count": 22,
   "metadata": {
    "scrolled": true
   },
   "outputs": [
    {
     "name": "stdout",
     "output_type": "stream",
     "text": [
      "['free', 'entry', '2', 'wkly', 'comp']\n",
      "['go', 'jurong', 'point', 'crazy', 'available']\n"
     ]
    }
   ],
   "source": [
    "# ahora vamos a contabilizar las palabras segun las categorias (spam o no_spam)\n",
    "def categorize_words():\n",
    "    spam_words = []\n",
    "    ham_words = []\n",
    "    \n",
    "    # palabras asociadas con SPAMs\n",
    "    ## se agregan a una lista todas las palabras de todos los mensajes que son SPAM\n",
    "    for sms in archivo['processed'][archivo['label'] == 'spam']:\n",
    "        for word in sms:\n",
    "            spam_words.append(word)\n",
    "\n",
    "    # palabras asociadas con HAM\n",
    "    ## se agregan a una lista todas las palabras de todos los mensajes que son NO SON SPAM\n",
    "    for sms in archivo['processed'][archivo['label'] == 'ham']:\n",
    "        for word in sms:\n",
    "            ham_words.append(word)\n",
    "            \n",
    "    return spam_words, ham_words\n",
    "        \n",
    "# usemos la funcion que acabamos de crear\n",
    "lista_spam, lista_no_spam = categorize_words()\n",
    "\n",
    "print(lista_spam[:5])\n",
    "print(lista_no_spam[:5])\n",
    "        \n",
    "        "
   ]
  },
  {
   "cell_type": "code",
   "execution_count": 32,
   "metadata": {},
   "outputs": [],
   "source": [
    "# ahora vamos a hacer la funcion que predice si el nuevo mensaje va a corresponder a un SPAM o No\n",
    "## La manera que va a funcionar esta funcion es la siguiente:\n",
    "## 1) analizamos por separado cada palabra del mensaje que le entreguemos como input\n",
    "## 2) cada palabra individual se buscara si se encuentra mas repetida en la lista de SPAM o en la que No\n",
    "## 3) en un contador se suma la cantidad de veces que aparece cada palabra\n",
    "## 4) si al final del ejercicio, el contador de spam resulta mayor que el de ham -> predice que es SPAM\n",
    "\n",
    "def predict(mensaje_entrada):\n",
    "    spam_counter = 0\n",
    "    ham_counter = 0\n",
    "    \n",
    "    for palabra in mensaje_entrada:\n",
    "        spam_counter += lista_spam.count(palabra)\n",
    "        ham_counter += lista_no_spam.count(palabra)\n",
    "    \n",
    "    if ham_counter > spam_counter:\n",
    "        probabilidad = round(ham_counter/(ham_counter + spam_counter), 2)*100\n",
    "        print('-> el mensaje NO ES UN SPAM\\n')\n",
    "        print('--> probabilidad {} %'.format(probabilidad))\n",
    "    elif ham_counter < spam_counter:\n",
    "        probabilidad = round(spam_counter/(ham_counter + spam_counter), 2)*100\n",
    "        print('-> el mensaje es un SPAM\\n')\n",
    "        print('--> probabilidad {} %'.format(probabilidad))\n",
    "    elif ham_counter == spam_counter:\n",
    "        print('-> no se sabe')\n",
    "\n",
    "    "
   ]
  },
  {
   "cell_type": "code",
   "execution_count": 33,
   "metadata": {
    "scrolled": true
   },
   "outputs": [
    {
     "name": "stdout",
     "output_type": "stream",
     "text": [
      "escribe un mensaje y veamos si corresponde a un SPAM o NO: \n",
      "congratulations, you win\n",
      "-> el mensaje es un SPAM\n",
      "\n",
      "--> probabilidad 85.0 %\n"
     ]
    }
   ],
   "source": [
    "# ahora probemos la funcion\n",
    "mensaje_entrada = input('escribe un mensaje y veamos si corresponde a un SPAM o NO: \\n')\n",
    "\n",
    "# preprocesamos el mensaje de entrada\n",
    "mensaje_entrada = pre_process(mensaje_entrada)\n",
    "\n",
    "# predecimos si es un SPAM o NO\n",
    "predict(mensaje_entrada)"
   ]
  },
  {
   "cell_type": "markdown",
   "metadata": {},
   "source": [
    "## Lo que quiero hacer ahora, es ver si este codigo se puede adaptar para mansajes en español\n",
    "\n",
    "Algunas ideas:\n",
    " - Recuerdo haber visto que desde google drive en un excel, existia una funcion para traducir una celda\n",
    "  - Con lo cual, luego podria descargar el archivo, guardarlo como csv y cargarlo aqui como en el anterior codigo\n",
    " - Otra cosa que quiero ver es si la biblioteca 'nltk' cuenta con el idioma español, para filtrar las palabras conflictivas\n",
    " "
   ]
  },
  {
   "cell_type": "code",
   "execution_count": 11,
   "metadata": {
    "scrolled": true
   },
   "outputs": [
    {
     "data": {
      "text/plain": [
       "['de',\n",
       " 'la',\n",
       " 'que',\n",
       " 'el',\n",
       " 'en',\n",
       " 'y',\n",
       " 'a',\n",
       " 'los',\n",
       " 'del',\n",
       " 'se',\n",
       " 'las',\n",
       " 'por',\n",
       " 'un',\n",
       " 'para',\n",
       " 'con',\n",
       " 'no',\n",
       " 'una',\n",
       " 'su',\n",
       " 'al',\n",
       " 'lo',\n",
       " 'como',\n",
       " 'más',\n",
       " 'pero',\n",
       " 'sus',\n",
       " 'le',\n",
       " 'ya',\n",
       " 'o',\n",
       " 'este',\n",
       " 'sí',\n",
       " 'porque',\n",
       " 'esta',\n",
       " 'entre',\n",
       " 'cuando',\n",
       " 'muy',\n",
       " 'sin',\n",
       " 'sobre',\n",
       " 'también',\n",
       " 'me',\n",
       " 'hasta',\n",
       " 'hay',\n",
       " 'donde',\n",
       " 'quien',\n",
       " 'desde',\n",
       " 'todo',\n",
       " 'nos',\n",
       " 'durante',\n",
       " 'todos',\n",
       " 'uno',\n",
       " 'les',\n",
       " 'ni',\n",
       " 'contra',\n",
       " 'otros',\n",
       " 'ese',\n",
       " 'eso',\n",
       " 'ante',\n",
       " 'ellos',\n",
       " 'e',\n",
       " 'esto',\n",
       " 'mí',\n",
       " 'antes',\n",
       " 'algunos',\n",
       " 'qué',\n",
       " 'unos',\n",
       " 'yo',\n",
       " 'otro',\n",
       " 'otras',\n",
       " 'otra',\n",
       " 'él',\n",
       " 'tanto',\n",
       " 'esa',\n",
       " 'estos',\n",
       " 'mucho',\n",
       " 'quienes',\n",
       " 'nada',\n",
       " 'muchos',\n",
       " 'cual',\n",
       " 'poco',\n",
       " 'ella',\n",
       " 'estar',\n",
       " 'estas',\n",
       " 'algunas',\n",
       " 'algo',\n",
       " 'nosotros',\n",
       " 'mi',\n",
       " 'mis',\n",
       " 'tú',\n",
       " 'te',\n",
       " 'ti',\n",
       " 'tu',\n",
       " 'tus',\n",
       " 'ellas',\n",
       " 'nosotras',\n",
       " 'vosotros',\n",
       " 'vosotras',\n",
       " 'os',\n",
       " 'mío',\n",
       " 'mía',\n",
       " 'míos',\n",
       " 'mías',\n",
       " 'tuyo',\n",
       " 'tuya',\n",
       " 'tuyos',\n",
       " 'tuyas',\n",
       " 'suyo',\n",
       " 'suya',\n",
       " 'suyos',\n",
       " 'suyas',\n",
       " 'nuestro',\n",
       " 'nuestra',\n",
       " 'nuestros',\n",
       " 'nuestras',\n",
       " 'vuestro',\n",
       " 'vuestra',\n",
       " 'vuestros',\n",
       " 'vuestras',\n",
       " 'esos',\n",
       " 'esas',\n",
       " 'estoy',\n",
       " 'estás',\n",
       " 'está',\n",
       " 'estamos',\n",
       " 'estáis',\n",
       " 'están',\n",
       " 'esté',\n",
       " 'estés',\n",
       " 'estemos',\n",
       " 'estéis',\n",
       " 'estén',\n",
       " 'estaré',\n",
       " 'estarás',\n",
       " 'estará',\n",
       " 'estaremos',\n",
       " 'estaréis',\n",
       " 'estarán',\n",
       " 'estaría',\n",
       " 'estarías',\n",
       " 'estaríamos',\n",
       " 'estaríais',\n",
       " 'estarían',\n",
       " 'estaba',\n",
       " 'estabas',\n",
       " 'estábamos',\n",
       " 'estabais',\n",
       " 'estaban',\n",
       " 'estuve',\n",
       " 'estuviste',\n",
       " 'estuvo',\n",
       " 'estuvimos',\n",
       " 'estuvisteis',\n",
       " 'estuvieron',\n",
       " 'estuviera',\n",
       " 'estuvieras',\n",
       " 'estuviéramos',\n",
       " 'estuvierais',\n",
       " 'estuvieran',\n",
       " 'estuviese',\n",
       " 'estuvieses',\n",
       " 'estuviésemos',\n",
       " 'estuvieseis',\n",
       " 'estuviesen',\n",
       " 'estando',\n",
       " 'estado',\n",
       " 'estada',\n",
       " 'estados',\n",
       " 'estadas',\n",
       " 'estad',\n",
       " 'he',\n",
       " 'has',\n",
       " 'ha',\n",
       " 'hemos',\n",
       " 'habéis',\n",
       " 'han',\n",
       " 'haya',\n",
       " 'hayas',\n",
       " 'hayamos',\n",
       " 'hayáis',\n",
       " 'hayan',\n",
       " 'habré',\n",
       " 'habrás',\n",
       " 'habrá',\n",
       " 'habremos',\n",
       " 'habréis',\n",
       " 'habrán',\n",
       " 'habría',\n",
       " 'habrías',\n",
       " 'habríamos',\n",
       " 'habríais',\n",
       " 'habrían',\n",
       " 'había',\n",
       " 'habías',\n",
       " 'habíamos',\n",
       " 'habíais',\n",
       " 'habían',\n",
       " 'hube',\n",
       " 'hubiste',\n",
       " 'hubo',\n",
       " 'hubimos',\n",
       " 'hubisteis',\n",
       " 'hubieron',\n",
       " 'hubiera',\n",
       " 'hubieras',\n",
       " 'hubiéramos',\n",
       " 'hubierais',\n",
       " 'hubieran',\n",
       " 'hubiese',\n",
       " 'hubieses',\n",
       " 'hubiésemos',\n",
       " 'hubieseis',\n",
       " 'hubiesen',\n",
       " 'habiendo',\n",
       " 'habido',\n",
       " 'habida',\n",
       " 'habidos',\n",
       " 'habidas',\n",
       " 'soy',\n",
       " 'eres',\n",
       " 'es',\n",
       " 'somos',\n",
       " 'sois',\n",
       " 'son',\n",
       " 'sea',\n",
       " 'seas',\n",
       " 'seamos',\n",
       " 'seáis',\n",
       " 'sean',\n",
       " 'seré',\n",
       " 'serás',\n",
       " 'será',\n",
       " 'seremos',\n",
       " 'seréis',\n",
       " 'serán',\n",
       " 'sería',\n",
       " 'serías',\n",
       " 'seríamos',\n",
       " 'seríais',\n",
       " 'serían',\n",
       " 'era',\n",
       " 'eras',\n",
       " 'éramos',\n",
       " 'erais',\n",
       " 'eran',\n",
       " 'fui',\n",
       " 'fuiste',\n",
       " 'fue',\n",
       " 'fuimos',\n",
       " 'fuisteis',\n",
       " 'fueron',\n",
       " 'fuera',\n",
       " 'fueras',\n",
       " 'fuéramos',\n",
       " 'fuerais',\n",
       " 'fueran',\n",
       " 'fuese',\n",
       " 'fueses',\n",
       " 'fuésemos',\n",
       " 'fueseis',\n",
       " 'fuesen',\n",
       " 'sintiendo',\n",
       " 'sentido',\n",
       " 'sentida',\n",
       " 'sentidos',\n",
       " 'sentidas',\n",
       " 'siente',\n",
       " 'sentid',\n",
       " 'tengo',\n",
       " 'tienes',\n",
       " 'tiene',\n",
       " 'tenemos',\n",
       " 'tenéis',\n",
       " 'tienen',\n",
       " 'tenga',\n",
       " 'tengas',\n",
       " 'tengamos',\n",
       " 'tengáis',\n",
       " 'tengan',\n",
       " 'tendré',\n",
       " 'tendrás',\n",
       " 'tendrá',\n",
       " 'tendremos',\n",
       " 'tendréis',\n",
       " 'tendrán',\n",
       " 'tendría',\n",
       " 'tendrías',\n",
       " 'tendríamos',\n",
       " 'tendríais',\n",
       " 'tendrían',\n",
       " 'tenía',\n",
       " 'tenías',\n",
       " 'teníamos',\n",
       " 'teníais',\n",
       " 'tenían',\n",
       " 'tuve',\n",
       " 'tuviste',\n",
       " 'tuvo',\n",
       " 'tuvimos',\n",
       " 'tuvisteis',\n",
       " 'tuvieron',\n",
       " 'tuviera',\n",
       " 'tuvieras',\n",
       " 'tuviéramos',\n",
       " 'tuvierais',\n",
       " 'tuvieran',\n",
       " 'tuviese',\n",
       " 'tuvieses',\n",
       " 'tuviésemos',\n",
       " 'tuvieseis',\n",
       " 'tuviesen',\n",
       " 'teniendo',\n",
       " 'tenido',\n",
       " 'tenida',\n",
       " 'tenidos',\n",
       " 'tenidas',\n",
       " 'tened']"
      ]
     },
     "execution_count": 11,
     "metadata": {},
     "output_type": "execute_result"
    }
   ],
   "source": [
    "import nltk # The natural lenguage toolkit\n",
    "nltk.corpus.stopwords.words('spanish')\n"
   ]
  },
  {
   "attachments": {
    "image-2.png": {
     "image/png": "[encoded data removed]"
    }
   },
   "cell_type": "markdown",
   "metadata": {},
   "source": [
    "## Ahora veamos como traducir cada mensaje al español\n",
    "Aqui encontre la fuente:\n",
    "- https://gsuitetips.com/tips/sheets/translate-languages-in-google-sheets/\n",
    "\n",
    "Lo que dice que hay que hacer es utilizar la formula GOOGLETRANSLATE(A2, “en”,”es”)\n",
    "\n",
    "Pasos adicionales:\n",
    " - Hacer una copia del archivo de texto\n",
    " - Abrirlo y guardar la copia como un archivo .csv\n",
    " - Subir el archivo a google drive\n",
    " - Abrirlo con Google Sheets, utilizar esta formula, reemplazar los valores y guardar el archivo.\n",
    "\n",
    "Notas: Ojo que tuve que cambiar las ',' por ';'\n",
    "![image-2.png](attachment:image-2.png)"
   ]
  },
  {
   "cell_type": "markdown",
   "metadata": {},
   "source": [
    "## Listo, ahora cambiemos algunas partes del codigo anterior y veamos si funciona este clasificador adaptado al español\n"
   ]
  },
  {
   "cell_type": "code",
   "execution_count": 12,
   "metadata": {
    "scrolled": true
   },
   "outputs": [
    {
     "data": {
      "text/html": [
       "<div>\n",
       "<style scoped>\n",
       "    .dataframe tbody tr th:only-of-type {\n",
       "        vertical-align: middle;\n",
       "    }\n",
       "\n",
       "    .dataframe tbody tr th {\n",
       "        vertical-align: top;\n",
       "    }\n",
       "\n",
       "    .dataframe thead th {\n",
       "        text-align: right;\n",
       "    }\n",
       "</style>\n",
       "<table border=\"1\" class=\"dataframe\">\n",
       "  <thead>\n",
       "    <tr style=\"text-align: right;\">\n",
       "      <th></th>\n",
       "      <th>label</th>\n",
       "      <th>sms</th>\n",
       "    </tr>\n",
       "  </thead>\n",
       "  <tbody>\n",
       "    <tr>\n",
       "      <th>0</th>\n",
       "      <td>ham</td>\n",
       "      <td>Ir hasta el punto de jurong, loco .. Disponibl...</td>\n",
       "    </tr>\n",
       "    <tr>\n",
       "      <th>1</th>\n",
       "      <td>ham</td>\n",
       "      <td>lar bien ... Bromas WIF u oni ...</td>\n",
       "    </tr>\n",
       "    <tr>\n",
       "      <th>2</th>\n",
       "      <td>spam</td>\n",
       "      <td>Entrada libre en una imagen de obsequio 2 wkly...</td>\n",
       "    </tr>\n",
       "    <tr>\n",
       "      <th>3</th>\n",
       "      <td>ham</td>\n",
       "      <td>T Dun decir hor tan temprano ... t r ya contin...</td>\n",
       "    </tr>\n",
       "    <tr>\n",
       "      <th>4</th>\n",
       "      <td>ham</td>\n",
       "      <td>Nah no creo que vaya a USF, que vive por aquí,...</td>\n",
       "    </tr>\n",
       "  </tbody>\n",
       "</table>\n",
       "</div>"
      ],
      "text/plain": [
       "  label                                                sms\n",
       "0   ham  Ir hasta el punto de jurong, loco .. Disponibl...\n",
       "1   ham                  lar bien ... Bromas WIF u oni ...\n",
       "2  spam  Entrada libre en una imagen de obsequio 2 wkly...\n",
       "3   ham  T Dun decir hor tan temprano ... t r ya contin...\n",
       "4   ham  Nah no creo que vaya a USF, que vive por aquí,..."
      ]
     },
     "execution_count": 12,
     "metadata": {},
     "output_type": "execute_result"
    }
   ],
   "source": [
    "import pandas as pd\n",
    "\n",
    "ruta = 'C:/Users/rodrigo/Desktop/github/Canales de Youtube/Python Simplified/SMSSpamCollectionEspanol.csv'\n",
    "archivo = pd.read_csv(ruta, sep=',', header=None, names=['label', 'sms'])\n",
    "archivo.head()"
   ]
  },
  {
   "cell_type": "code",
   "execution_count": 13,
   "metadata": {
    "scrolled": true
   },
   "outputs": [
    {
     "name": "stdout",
     "output_type": "stream",
     "text": [
      "['de', 'la', 'que', 'el', 'en']\n",
      "!\"#$%&'()*+,-./:;<=>?@[\\]^_`{|}~\n"
     ]
    },
    {
     "name": "stderr",
     "output_type": "stream",
     "text": [
      "[nltk_data] Downloading package stopwords to\n",
      "[nltk_data]     C:\\Users\\rodrigo\\AppData\\Roaming\\nltk_data...\n",
      "[nltk_data]   Package stopwords is already up-to-date!\n",
      "[nltk_data] Downloading package punkt to\n",
      "[nltk_data]     C:\\Users\\rodrigo\\AppData\\Roaming\\nltk_data...\n",
      "[nltk_data]   Package punkt is already up-to-date!\n"
     ]
    }
   ],
   "source": [
    "# remover simbolos de puntuacion y palabras como if, else, etc\n",
    "import string\n",
    "import nltk\n",
    "\n",
    "nltk.download('stopwords')\n",
    "nltk.download('punkt')\n",
    "\n",
    "stopwords = nltk.corpus.stopwords.words('spanish')\n",
    "punctuation = string.punctuation\n",
    "\n",
    "print(stopwords[:5])\n",
    "print(punctuation)"
   ]
  },
  {
   "cell_type": "code",
   "execution_count": 14,
   "metadata": {
    "scrolled": true
   },
   "outputs": [
    {
     "data": {
      "text/html": [
       "<div>\n",
       "<style scoped>\n",
       "    .dataframe tbody tr th:only-of-type {\n",
       "        vertical-align: middle;\n",
       "    }\n",
       "\n",
       "    .dataframe tbody tr th {\n",
       "        vertical-align: top;\n",
       "    }\n",
       "\n",
       "    .dataframe thead th {\n",
       "        text-align: right;\n",
       "    }\n",
       "</style>\n",
       "<table border=\"1\" class=\"dataframe\">\n",
       "  <thead>\n",
       "    <tr style=\"text-align: right;\">\n",
       "      <th></th>\n",
       "      <th>label</th>\n",
       "      <th>sms</th>\n",
       "      <th>processed</th>\n",
       "    </tr>\n",
       "  </thead>\n",
       "  <tbody>\n",
       "    <tr>\n",
       "      <th>0</th>\n",
       "      <td>ham</td>\n",
       "      <td>Ir hasta el punto de jurong, loco .. Disponibl...</td>\n",
       "      <td>[ir, punto, jurong, loco, disponible, sólo, bu...</td>\n",
       "    </tr>\n",
       "    <tr>\n",
       "      <th>1</th>\n",
       "      <td>ham</td>\n",
       "      <td>lar bien ... Bromas WIF u oni ...</td>\n",
       "      <td>[lar, bien, bromas, wif, u, oni]</td>\n",
       "    </tr>\n",
       "    <tr>\n",
       "      <th>2</th>\n",
       "      <td>spam</td>\n",
       "      <td>Entrada libre en una imagen de obsequio 2 wkly...</td>\n",
       "      <td>[entrada, libre, imagen, obsequio, 2, wkly, ga...</td>\n",
       "    </tr>\n",
       "    <tr>\n",
       "      <th>3</th>\n",
       "      <td>ham</td>\n",
       "      <td>T Dun decir hor tan temprano ... t r ya contin...</td>\n",
       "      <td>[t, dun, decir, hor, tan, temprano, t, r, cont...</td>\n",
       "    </tr>\n",
       "    <tr>\n",
       "      <th>4</th>\n",
       "      <td>ham</td>\n",
       "      <td>Nah no creo que vaya a USF, que vive por aquí,...</td>\n",
       "      <td>[nah, creo, vaya, usf, vive, aquí, aunque]</td>\n",
       "    </tr>\n",
       "  </tbody>\n",
       "</table>\n",
       "</div>"
      ],
      "text/plain": [
       "  label                                                sms  \\\n",
       "0   ham  Ir hasta el punto de jurong, loco .. Disponibl...   \n",
       "1   ham                  lar bien ... Bromas WIF u oni ...   \n",
       "2  spam  Entrada libre en una imagen de obsequio 2 wkly...   \n",
       "3   ham  T Dun decir hor tan temprano ... t r ya contin...   \n",
       "4   ham  Nah no creo que vaya a USF, que vive por aquí,...   \n",
       "\n",
       "                                           processed  \n",
       "0  [ir, punto, jurong, loco, disponible, sólo, bu...  \n",
       "1                   [lar, bien, bromas, wif, u, oni]  \n",
       "2  [entrada, libre, imagen, obsequio, 2, wkly, ga...  \n",
       "3  [t, dun, decir, hor, tan, temprano, t, r, cont...  \n",
       "4         [nah, creo, vaya, usf, vive, aquí, aunque]  "
      ]
     },
     "execution_count": 14,
     "metadata": {},
     "output_type": "execute_result"
    }
   ],
   "source": [
    "def pre_process(sms):\n",
    "    lowercase = \"\".join([palabra.lower() for palabra in sms if palabra not in punctuation])\n",
    "    tokenize = nltk.tokenize.word_tokenize(lowercase)\n",
    "    remove_stopwords = [palabra for palabra in tokenize if palabra not in stopwords]\n",
    "    return remove_stopwords\n",
    "\n",
    "archivo['processed'] = archivo['sms'].apply(lambda x: pre_process(x))\n",
    "archivo.head()"
   ]
  },
  {
   "cell_type": "code",
   "execution_count": 15,
   "metadata": {
    "scrolled": true
   },
   "outputs": [
    {
     "name": "stdout",
     "output_type": "stream",
     "text": [
      "['entrada', 'libre', 'imagen', 'obsequio', '2']\n",
      "['ir', 'punto', 'jurong', 'loco', 'disponible']\n"
     ]
    }
   ],
   "source": [
    "def categorize_words():\n",
    "    spam_words = []\n",
    "    ham_words = []\n",
    "    \n",
    "    for sms in archivo['processed'][archivo['label'] == 'spam']:\n",
    "        for word in sms:\n",
    "            spam_words.append(word)\n",
    "\n",
    "    for sms in archivo['processed'][archivo['label'] == 'ham']:\n",
    "        for word in sms:\n",
    "            ham_words.append(word)\n",
    "            \n",
    "    return spam_words, ham_words\n",
    "        \n",
    "lista_spam, lista_no_spam = categorize_words()\n",
    "\n",
    "print(lista_spam[:5])\n",
    "print(lista_no_spam[:5])"
   ]
  },
  {
   "cell_type": "code",
   "execution_count": 16,
   "metadata": {},
   "outputs": [],
   "source": [
    "def predict(mensaje_entrada):\n",
    "    spam_counter = 0\n",
    "    ham_counter = 0\n",
    "    \n",
    "    for palabra in mensaje_entrada:\n",
    "        spam_counter += lista_spam.count(palabra)\n",
    "        ham_counter += lista_no_spam.count(palabra)\n",
    "    \n",
    "    if ham_counter > spam_counter:\n",
    "        probabilidad = round(ham_counter/(ham_counter + spam_counter), 2)*100\n",
    "        print('-> el mensaje NO ES UN SPAM\\n')\n",
    "        print('--> probabilidad {} %'.format(probabilidad))\n",
    "    elif ham_counter < spam_counter:\n",
    "        probabilidad = round(spam_counter/(ham_counter + spam_counter), 2)*100\n",
    "        print('-> el mensaje es un SPAM\\n')\n",
    "        print('--> probabilidad {} %'.format(probabilidad))\n",
    "    elif ham_counter == spam_counter:\n",
    "        print('-> no se sabe')"
   ]
  },
  {
   "cell_type": "code",
   "execution_count": 17,
   "metadata": {
    "scrolled": true
   },
   "outputs": [
    {
     "name": "stdout",
     "output_type": "stream",
     "text": [
      "escribe un mensaje y veamos si corresponde a un SPAM o NO: \n",
      "Felicitaciones, has ganado el premio mayor\n",
      "-> el mensaje es un SPAM\n",
      "\n",
      "--> probabilidad 93.0 %\n"
     ]
    }
   ],
   "source": [
    "mensaje_entrada = input('escribe un mensaje y veamos si corresponde a un SPAM o NO: \\n')\n",
    "mensaje_entrada = pre_process(mensaje_entrada)\n",
    "predict(mensaje_entrada)"
   ]
  },
  {
   "cell_type": "markdown",
   "metadata": {},
   "source": [
    "## Al parecer, tuvimos exito en la adaptación al Español. Pero, a medida que fui desarrollando esto, me quede con la duda sobre la proporcion de mesajes de SPAM vs NO SPAM.\n",
    "\n",
    "### Esto podria llegar a ser relevante, ya que el metodo que estamos utilizando solo suma la cantidad de veces en que aparece una palabra (**no contabiliza proporcionalmente**).\n",
    "\n",
    "### **Ojo: Que esto no se malinterprete como una critica, sino mas bien como un recordatorio de porque puede ser importante analizar, al menos, las proporciones en como vienen los datos.**\n",
    "\n",
    "Ejemplos de una situacion conflictiva:\n",
    "- NO_SPAM    '... ganaste ...'\n",
    "- NO_SPAM    '... ganaste ...'\n",
    "- NO_SPAM    '... ganaste ...'\n",
    "- NO_SPAM    '... hola ...'\n",
    "- SPAM       '... ganaste, ganaste ...' \n",
    "\n",
    "Si estos fueran nuestros datos y si preguntaramos por la palabra 'ganaste' con el anterior codigo, **este nos habria predicho NO_SPAM**, por la siguiente razon.\n",
    "- Contabilizador_SPAM = 2\n",
    "- Contabilizador_NO_SPAM = 3\n",
    "- -> NO_SPAM > SPAM, **se predice NO_SPAM**\n",
    "\n",
    "¿Que sucede si, en lugar de sumar el total de veces en que apararece una palabra, **sumamos las proporciones(num veces la palabra/total mensajes categoria)**? \n",
    "- Proporcion_SPAM = 2/1 = 2\n",
    "- Proporcion_NO_SPAM = 3/4 = 0.75\n",
    "- -> NO_SPAM < SPAM, **se predice SPAM**\n",
    "\n",
    "### Bien, ahora verifiquemos si la situacion anterior se encuentra presente en los datos de entrada"
   ]
  },
  {
   "cell_type": "code",
   "execution_count": 1,
   "metadata": {
    "scrolled": true
   },
   "outputs": [
    {
     "name": "stdout",
     "output_type": "stream",
     "text": [
      "Total_mensajes_spam:  747  proporcion_spam:  13.0 %\n",
      "Total_mensajes_no_spam:  4825  proporcion_no_spam:  87.0 %\n",
      "Total_mensajes:  5572\n"
     ]
    }
   ],
   "source": [
    "import pandas as pd\n",
    "\n",
    "ruta = 'C:/Users/rodrigo/Desktop/github/Canales de Youtube/Python Simplified/SMSSpamCollectionEspanol.csv'\n",
    "archivo = pd.read_csv(ruta, sep=',', header=None, names=['label', 'sms'])\n",
    "\n",
    "Total_mensajes = len(archivo)\n",
    "Total_mensajes_spam = 0\n",
    "Total_mensajes_no_spam = 0\n",
    "\n",
    "for mensaje in range(Total_mensajes):\n",
    "    if archivo['label'][mensaje] == 'spam':\n",
    "        Total_mensajes_spam += 1\n",
    "    elif archivo['label'][mensaje] == 'ham':\n",
    "        Total_mensajes_no_spam += 1\n",
    "\n",
    "proporcion_spam = round((Total_mensajes_spam/Total_mensajes), 2)*100\n",
    "proporcion_no_spam = round((Total_mensajes_no_spam/Total_mensajes), 2)*100\n",
    "\n",
    "print('Total_mensajes_spam: ', Total_mensajes_spam, ' proporcion_spam: ', proporcion_spam, '%')\n",
    "print('Total_mensajes_no_spam: ', Total_mensajes_no_spam, ' proporcion_no_spam: ', proporcion_no_spam, '%')\n",
    "print('Total_mensajes: ', Total_mensajes)\n"
   ]
  },
  {
   "cell_type": "markdown",
   "metadata": {},
   "source": [
    "## Mirando esto, resulta que es bastante posible que se generé la situacion antes descrita (**casi 9 de cada 10 mensajes NO SON SPAM**)\n",
    "### De hecho, no es tan descabellado pensar que, en la medida que la extension del mensaje aumente, tambien lo hará la posibilidad de que nuestro clasificador prediga un mensaje como NO_SPAM."
   ]
  },
  {
   "cell_type": "markdown",
   "metadata": {},
   "source": [
    "# Bien, no nos quedemos en la negativa y veamos alguna manera de combatir esta situacion.\n",
    "\n",
    "## Creo que, justamente, hacer un **arreglo proporcional** al final del codigo ayudaria a realizar una prediccion mas justa, pero, antes de continuar, aun nos falta decidir un metodo con el cual comprobar esta hipotesis.\n",
    "\n",
    "### Les propongo lo siguiente. Particionemos los datos en 2 grupos. En el primero se encontraran los datos 'Historicos' (por asi decirlo), siendo estos los mensajes de los que tendremos conocimiento. Asimismo, el segundo grupo contendra mensajes nunca antes vistos, los llamaremos mensajes de 'Prueba'. La particion se realizara un 80% mensajes Historicos y un 20% mensajes de prueba. Luego, el metodo predictivo se realizará en base a los datos historicos y se pondra a prueba su eficiencia, justamente, con los datos de prueba.\n"
   ]
  },
  {
   "cell_type": "code",
   "execution_count": 8,
   "metadata": {
    "scrolled": true
   },
   "outputs": [
    {
     "name": "stdout",
     "output_type": "stream",
     "text": [
      "     label                                                sms\n",
      "0      ham  Ir hasta el punto de jurong, loco .. Disponibl...\n",
      "1      ham                  lar bien ... Bromas WIF u oni ...\n",
      "2     spam  Entrada libre en una imagen de obsequio 2 wkly...\n",
      "3      ham  T Dun decir hor tan temprano ... t r ya contin...\n",
      "4      ham  Nah no creo que vaya a USF, que vive por aquí,...\n",
      "...    ...                                                ...\n",
      "4453   ham  Le he dicho que todo va a parar. Apenas no dej...\n",
      "4454   ham                        O supongo & lt; # & gt; min\n",
      "4455   ham            Estoy en casa. tiempo wat ARD u llegar?\n",
      "4456   ham  El asalto a msg: Wen u Levante phne d, u decir...\n",
      "4457   ham  Si desea Mapquest o algo mirar hacia arriba \"U...\n",
      "\n",
      "[4458 rows x 2 columns]\n",
      "     label                                                sms\n",
      "4458   ham  Aight debe planificar acabo de llegar más tard...\n",
      "4459   ham  Die ... He eliminado accidentalmente e msg sup...\n",
      "4460  spam  Bienvenido a UK-móvil actualizados este SMS es...\n",
      "4461   ham  Esto le está deseando un gran día. Moji me hab...\n",
      "4462   ham  Gracias de nuevo por su respuesta hoy. Cuando ...\n",
      "...    ...                                                ...\n",
      "5566  spam  RECORDATORIO DE O2: Para obtener 2,50 libras e...\n",
      "5567  spam  Esta es la segunda vez que hemos intentado 2 d...\n",
      "5568   ham                    Va a te va a casa explanada fr?\n",
      "5569   ham  Lástima, * estaba en el estado de ánimo para e...\n",
      "5570   ham  El chico hizo un poco de putear pero actuaba c...\n",
      "\n",
      "[1113 rows x 2 columns]\n"
     ]
    }
   ],
   "source": [
    "# Comenzemos particionando los datos\n",
    "total_historico = round(Total_mensajes*0.8)\n",
    "total_prueba = round(Total_mensajes*0.2)\n",
    "#print(total_historico) #4458\n",
    "#print(total_prueba) #1114\n",
    "\n",
    "historico = archivo[['label', 'sms']][:4458]\n",
    "prueba = archivo[['label', 'sms']][4458:5571]\n",
    "print(historico)\n",
    "print(prueba)\n",
    "\n"
   ]
  },
  {
   "cell_type": "markdown",
   "metadata": {},
   "source": [
    "## Bien, ahora tendremos que repetir el proceso"
   ]
  },
  {
   "cell_type": "code",
   "execution_count": 9,
   "metadata": {},
   "outputs": [
    {
     "name": "stderr",
     "output_type": "stream",
     "text": [
      "[nltk_data] Downloading package stopwords to\n",
      "[nltk_data]     C:\\Users\\rodrigo\\AppData\\Roaming\\nltk_data...\n",
      "[nltk_data]   Package stopwords is already up-to-date!\n",
      "[nltk_data] Downloading package punkt to\n",
      "[nltk_data]     C:\\Users\\rodrigo\\AppData\\Roaming\\nltk_data...\n",
      "[nltk_data]   Package punkt is already up-to-date!\n"
     ]
    }
   ],
   "source": [
    "import string\n",
    "import nltk\n",
    "\n",
    "nltk.download('stopwords')\n",
    "nltk.download('punkt')\n",
    "\n",
    "stopwords = nltk.corpus.stopwords.words('spanish')\n",
    "punctuation = string.punctuation\n",
    "\n",
    "def pre_process(sms):\n",
    "    lowercase = \"\".join([palabra.lower() for palabra in sms if palabra not in punctuation])\n",
    "    tokenize = nltk.tokenize.word_tokenize(lowercase)\n",
    "    remove_stopwords = [palabra for palabra in tokenize if palabra not in stopwords]\n",
    "    return remove_stopwords\n",
    "\n",
    "historico['processed'] = historico['sms'].apply(lambda x: pre_process(x))\n",
    "\n",
    "def categorize_words():\n",
    "    spam_words = []\n",
    "    ham_words = []\n",
    "    \n",
    "    for sms in historico['processed'][historico['label'] == 'spam']:\n",
    "        for word in sms:\n",
    "            spam_words.append(word)\n",
    "\n",
    "    for sms in historico['processed'][historico['label'] == 'ham']:\n",
    "        for word in sms:\n",
    "            ham_words.append(word)\n",
    "            \n",
    "    return spam_words, ham_words\n",
    "        \n",
    "lista_spam, lista_no_spam = categorize_words()\n",
    "\n"
   ]
  },
  {
   "cell_type": "code",
   "execution_count": 13,
   "metadata": {},
   "outputs": [],
   "source": [
    "def predict(mensaje_entrada):\n",
    "    spam_counter = 0\n",
    "    ham_counter = 0\n",
    "    prediccion = ''\n",
    "    \n",
    "    for palabra in mensaje_entrada:\n",
    "        spam_counter += lista_spam.count(palabra)\n",
    "        ham_counter += lista_no_spam.count(palabra)\n",
    "    \n",
    "    if ham_counter > spam_counter:\n",
    "        prediccion = 'ham'\n",
    "        #probabilidad = round(ham_counter/(ham_counter + spam_counter), 2)*100\n",
    "        #print('-> el mensaje NO ES UN SPAM\\n')\n",
    "        #print('--> probabilidad {} %'.format(probabilidad))\n",
    "    elif ham_counter < spam_counter:\n",
    "        prediccion = 'spam'\n",
    "        #probabilidad = round(spam_counter/(ham_counter + spam_counter), 2)*100\n",
    "        #print('-> el mensaje es un SPAM\\n')\n",
    "        #print('--> probabilidad {} %'.format(probabilidad))\n",
    "    elif ham_counter == spam_counter:\n",
    "        prediccion = 'NO SABE'\n",
    "        #print('-> no se sabe')\n",
    "        \n",
    "    return prediccion"
   ]
  },
  {
   "cell_type": "markdown",
   "metadata": {},
   "source": [
    "## Bien, hasta ahora todo igual (ojo: modifique un poco la funcion de prediccion). Lo siguiente es:\n",
    " - estandarizar los datos de prueba\n",
    " - utilizar los datos de prueba\n",
    " - utilizar la funcion de prediccion\n",
    " - generar el contraste con los datos reales\n",
    " - sumar los aciertos (al final, sacar la proporcion de aciertos vs total de mensajes)\n",
    " "
   ]
  },
  {
   "cell_type": "code",
   "execution_count": 16,
   "metadata": {
    "scrolled": true
   },
   "outputs": [
    {
     "name": "stdout",
     "output_type": "stream",
     "text": [
      "aciertos:  1035\n",
      "inseguros:  5\n",
      "total_prueba:  1114\n",
      "porcentaje de acierto: 93.0 %\n"
     ]
    }
   ],
   "source": [
    "# estandarizar los datos de prueba\n",
    "prueba['processed'] = prueba['sms'].apply(lambda x: pre_process(x))\n",
    "\n",
    "# aciertos (codigo sin modificar)\n",
    "aciertos = 0\n",
    "inseguros = 0  # se refiere en los casos que la prediccion no logra decidirse por una categoria \n",
    "for ind in range(len(prueba)):\n",
    "    # prediccion    \n",
    "    prediccion = predict(prueba['processed'][ind + total_historico])\n",
    "    # clasificacion real\n",
    "    real = prueba['label'][ind + total_historico]\n",
    "    if prediccion == real and prediccion != 'NO SABE':\n",
    "        aciertos += 1\n",
    "    elif prediccion == 'NO SABE':\n",
    "        inseguros += 1\n",
    "\n",
    "print('aciertos: ', aciertos)\n",
    "print('inseguros: ', inseguros)\n",
    "print('total_prueba: ', total_prueba)\n",
    "\n",
    "porcentaje_acierto = round((aciertos/total_prueba), 2)*100\n",
    "print('porcentaje de acierto: {} %'.format(porcentaje_acierto))"
   ]
  },
  {
   "cell_type": "markdown",
   "metadata": {},
   "source": [
    "## Ahora es que pudimos comprobar la efectividad de la funcion predictiva (93%)\n",
    "### Analicemos para el caso de utilizar un arreglo proporcional en la prediccion\n"
   ]
  },
  {
   "cell_type": "code",
   "execution_count": 19,
   "metadata": {},
   "outputs": [],
   "source": [
    "# cambiamos un poco la funcion\n",
    "def predict_mod(mensaje_entrada):\n",
    "    spam_counter = 0\n",
    "    ham_counter = 0\n",
    "    prediccion = ''\n",
    "    \n",
    "    for palabra in mensaje_entrada:\n",
    "        spam_counter += lista_spam.count(palabra)\n",
    "        ham_counter += lista_no_spam.count(palabra)\n",
    "    \n",
    "    spam_proportion = spam_counter/Total_mensajes_spam\n",
    "    ham_proportion = ham_counter/Total_mensajes_no_spam\n",
    "    \n",
    "    if ham_proportion > spam_proportion:\n",
    "        prediccion = 'ham'\n",
    "        #probabilidad = round(ham_counter/(ham_counter + spam_counter), 2)*100\n",
    "        #print('-> el mensaje NO ES UN SPAM\\n')\n",
    "        #print('--> probabilidad {} %'.format(probabilidad))\n",
    "    elif ham_proportion < spam_proportion:\n",
    "        prediccion = 'spam'\n",
    "        #probabilidad = round(spam_counter/(ham_counter + spam_counter), 2)*100\n",
    "        #print('-> el mensaje es un SPAM\\n')\n",
    "        #print('--> probabilidad {} %'.format(probabilidad))\n",
    "    elif ham_proportion == spam_proportion:\n",
    "        prediccion = 'NO SABE'\n",
    "        #print('-> no se sabe')\n",
    "        \n",
    "    return prediccion"
   ]
  },
  {
   "cell_type": "code",
   "execution_count": 20,
   "metadata": {
    "scrolled": true
   },
   "outputs": [
    {
     "name": "stdout",
     "output_type": "stream",
     "text": [
      "aciertos:  705\n",
      "inseguros:  5\n",
      "total_prueba:  1114\n",
      "porcentaje de acierto: 63.0 %\n"
     ]
    }
   ],
   "source": [
    "# aciertos (codigo modificado)\n",
    "aciertos = 0\n",
    "inseguros = 0  # se refiere en los casos que la prediccion no logra decidirse por una categoria \n",
    "for ind in range(len(prueba)):\n",
    "    # prediccion modificada    \n",
    "    prediccion = predict_mod(prueba['processed'][ind + total_historico])\n",
    "    # clasificacion real\n",
    "    real = prueba['label'][ind + total_historico]\n",
    "    if prediccion == real and prediccion != 'NO SABE':\n",
    "        aciertos += 1\n",
    "    elif prediccion == 'NO SABE':\n",
    "        inseguros += 1\n",
    "\n",
    "print('aciertos: ', aciertos)\n",
    "print('inseguros: ', inseguros)\n",
    "print('total_prueba: ', total_prueba)\n",
    "\n",
    "porcentaje_acierto = round((aciertos/total_prueba), 2)*100\n",
    "print('porcentaje de acierto: {} %'.format(porcentaje_acierto))"
   ]
  },
  {
   "cell_type": "markdown",
   "metadata": {},
   "source": [
    "## mmm, al parecer castiga mucho la forma las proporciones de las categorias.\n",
    "### Por ultimo, voy a probar un tercer metodo, con el cual espero sumar las proporciones de las palabras en lugar de solo sumar sus apariciones.\n"
   ]
  },
  {
   "cell_type": "code",
   "execution_count": 23,
   "metadata": {},
   "outputs": [],
   "source": [
    "# cambiamos un poco la funcion\n",
    "def predict_mod2(mensaje_entrada):\n",
    "    spam_counter = 0\n",
    "    ham_counter = 0\n",
    "    prediccion = ''\n",
    "    spam_proportion = 0\n",
    "    ham_proportion = 0\n",
    "    \n",
    "    for palabra in mensaje_entrada:\n",
    "        spam_counter = lista_spam.count(palabra)\n",
    "        ham_counter = lista_no_spam.count(palabra)\n",
    "        if (spam_counter + ham_counter) != 0:\n",
    "            spam_proportion += (spam_counter/(spam_counter + ham_counter))\n",
    "            ham_proportion += (ham_counter/(spam_counter + ham_counter))       \n",
    "            \n",
    "\n",
    "    if ham_proportion > spam_proportion:\n",
    "        prediccion = 'ham'\n",
    "        #probabilidad = round(ham_counter/(ham_counter + spam_counter), 2)*100\n",
    "        #print('-> el mensaje NO ES UN SPAM\\n')\n",
    "        #print('--> probabilidad {} %'.format(probabilidad))\n",
    "    elif ham_proportion < spam_proportion:\n",
    "        prediccion = 'spam'\n",
    "        #probabilidad = round(spam_counter/(ham_counter + spam_counter), 2)*100\n",
    "        #print('-> el mensaje es un SPAM\\n')\n",
    "        #print('--> probabilidad {} %'.format(probabilidad))\n",
    "    elif ham_proportion == spam_proportion:\n",
    "        prediccion = 'NO SABE'\n",
    "        #print('-> no se sabe')\n",
    "        \n",
    "    return prediccion"
   ]
  },
  {
   "cell_type": "code",
   "execution_count": 24,
   "metadata": {
    "scrolled": true
   },
   "outputs": [
    {
     "name": "stdout",
     "output_type": "stream",
     "text": [
      "aciertos:  1078\n",
      "inseguros:  6\n",
      "total_prueba:  1114\n",
      "porcentaje de acierto: 97.0 %\n"
     ]
    }
   ],
   "source": [
    "# aciertos (codigo modificado)\n",
    "aciertos = 0\n",
    "inseguros = 0  # se refiere en los casos que la prediccion no logra decidirse por una categoria \n",
    "for ind in range(len(prueba)):\n",
    "    # prediccion modificada    \n",
    "    prediccion = predict_mod2(prueba['processed'][ind + total_historico])\n",
    "    # clasificacion real\n",
    "    real = prueba['label'][ind + total_historico]\n",
    "    if prediccion == real and prediccion != 'NO SABE':\n",
    "        aciertos += 1\n",
    "    elif prediccion == 'NO SABE':\n",
    "        inseguros += 1\n",
    "\n",
    "print('aciertos: ', aciertos)\n",
    "print('inseguros: ', inseguros)\n",
    "print('total_prueba: ', total_prueba)\n",
    "\n",
    "porcentaje_acierto = round((aciertos/total_prueba), 2)*100\n",
    "print('porcentaje de acierto: {} %'.format(porcentaje_acierto))"
   ]
  },
  {
   "cell_type": "markdown",
   "metadata": {},
   "source": [
    "## Para este caso si se llego a aumetar el acierto de la funcion predictiva (97%).\n",
    "### De igual forma, seria conveniente definir nuevas particiones de datos, para asi ir obteniendo cada vez mas un numero mas certero sobre la efectividad de la funcion (**La ley de los grandes numeros**)"
   ]
  }
 ],
 "metadata": {
  "kernelspec": {
   "display_name": "base",
   "language": "python",
   "name": "base"
  },
  "language_info": {
   "codemirror_mode": {
    "name": "ipython",
    "version": 3
   },
   "file_extension": ".py",
   "mimetype": "text/x-python",
   "name": "python",
   "nbconvert_exporter": "python",
   "pygments_lexer": "ipython3",
   "version": "3.8.5"
  }
 },
 "nbformat": 4,
 "nbformat_minor": 4
}
