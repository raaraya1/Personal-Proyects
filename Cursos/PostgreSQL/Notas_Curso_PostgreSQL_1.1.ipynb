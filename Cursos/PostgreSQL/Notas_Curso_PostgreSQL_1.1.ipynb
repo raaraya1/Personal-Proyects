{
 "cells": [
  {
   "cell_type": "markdown",
   "metadata": {},
   "source": [
    "# Este cuadernillo sirve como notas para el uso de los comandos de PostgreSQL\n",
    "\n",
    "## Al igual que con el curso de PowerBi, la idea es trabajar con datos de trabajos anteriores y repasar algunos conceptos que se han visto durante el curso.\n",
    "\n",
    "## Como un extra, me interesa poder aplicar lenguaje de programación de Python y utilizar PowerBi para la visualizacion del contenido.\n",
    "\n",
    "\n",
    "### Referencias:\n",
    " - postgresqltutorial.com/postgresql-python/\n",
    " \n",
    "Lo primero será descargar la biblioteca:\n",
    "- pip install psycopg2\n",
    "\n",
    "**Nota**: Si adicionalmente se quiere utilizar jupyter y postgreSQL juntos, entonces recomiendo instalarlo tanto en el entorno de anaconda, como en la terminal del computador mismo.\n",
    "\n"
   ]
  },
  {
   "cell_type": "markdown",
   "metadata": {},
   "source": [
    "### Para establecer la coneccion entre PostgreSQL y Python"
   ]
  },
  {
   "cell_type": "code",
   "execution_count": 69,
   "metadata": {},
   "outputs": [],
   "source": [
    "# para establecer la coneccion con la base de datos\n",
    "import psycopg2a\n",
    "conn = psycopg2.connect('dbname=curso_postgresql user=Tester password=123456')\n"
   ]
  },
  {
   "cell_type": "markdown",
   "metadata": {},
   "source": [
    "### Observemos los datos que vamos a importar a PostgreSQL"
   ]
  },
  {
   "cell_type": "code",
   "execution_count": 16,
   "metadata": {},
   "outputs": [
    {
     "data": {
      "text/html": [
       "<div>\n",
       "<style scoped>\n",
       "    .dataframe tbody tr th:only-of-type {\n",
       "        vertical-align: middle;\n",
       "    }\n",
       "\n",
       "    .dataframe tbody tr th {\n",
       "        vertical-align: top;\n",
       "    }\n",
       "\n",
       "    .dataframe thead th {\n",
       "        text-align: right;\n",
       "    }\n",
       "</style>\n",
       "<table border=\"1\" class=\"dataframe\">\n",
       "  <thead>\n",
       "    <tr style=\"text-align: right;\">\n",
       "      <th></th>\n",
       "      <th>DCID</th>\n",
       "      <th>DCLocationLatitude</th>\n",
       "      <th>DCLocationLongitude</th>\n",
       "      <th>DCTransportationCapacityLiters</th>\n",
       "      <th>HandlingCostPerLiter</th>\n",
       "    </tr>\n",
       "  </thead>\n",
       "  <tbody>\n",
       "    <tr>\n",
       "      <th>0</th>\n",
       "      <td>DC001</td>\n",
       "      <td>-1.167.114.585</td>\n",
       "      <td>-8.322.489.278</td>\n",
       "      <td>88</td>\n",
       "      <td>48</td>\n",
       "    </tr>\n",
       "    <tr>\n",
       "      <th>1</th>\n",
       "      <td>DC002</td>\n",
       "      <td>-8.195.947.549</td>\n",
       "      <td>7.291.626.950</td>\n",
       "      <td>37</td>\n",
       "      <td>96</td>\n",
       "    </tr>\n",
       "    <tr>\n",
       "      <th>2</th>\n",
       "      <td>DC003</td>\n",
       "      <td>-1.422.731.698</td>\n",
       "      <td>6.443.633.751</td>\n",
       "      <td>58</td>\n",
       "      <td>82</td>\n",
       "    </tr>\n",
       "    <tr>\n",
       "      <th>3</th>\n",
       "      <td>DC004</td>\n",
       "      <td>4.358.105.746</td>\n",
       "      <td>8.986.685.836</td>\n",
       "      <td>48</td>\n",
       "      <td>29</td>\n",
       "    </tr>\n",
       "    <tr>\n",
       "      <th>4</th>\n",
       "      <td>DC005</td>\n",
       "      <td>8.411.115.264</td>\n",
       "      <td>-3.458.885.675</td>\n",
       "      <td>93</td>\n",
       "      <td>49</td>\n",
       "    </tr>\n",
       "  </tbody>\n",
       "</table>\n",
       "</div>"
      ],
      "text/plain": [
       "    DCID DCLocationLatitude DCLocationLongitude  \\\n",
       "0  DC001     -1.167.114.585      -8.322.489.278   \n",
       "1  DC002     -8.195.947.549       7.291.626.950   \n",
       "2  DC003     -1.422.731.698       6.443.633.751   \n",
       "3  DC004      4.358.105.746       8.986.685.836   \n",
       "4  DC005      8.411.115.264      -3.458.885.675   \n",
       "\n",
       "   DCTransportationCapacityLiters  HandlingCostPerLiter  \n",
       "0                              88                    48  \n",
       "1                              37                    96  \n",
       "2                              58                    82  \n",
       "3                              48                    29  \n",
       "4                              93                    49  "
      ]
     },
     "execution_count": 16,
     "metadata": {},
     "output_type": "execute_result"
    }
   ],
   "source": [
    "# lo siguiente que podemos intentar es hacer la siguiente tabla en postgreSQL\n",
    "import pandas as pd\n",
    "\n",
    "ruta = 'https://raw.githubusercontent.com/raaraya1/University-Projects/main/Logistics/Datos/DCs.csv'\n",
    "archivo = pd.read_csv(ruta, sep=';')\n",
    "df = pd.DataFrame(archivo)\n",
    "df"
   ]
  },
  {
   "cell_type": "code",
   "execution_count": 70,
   "metadata": {},
   "outputs": [],
   "source": [
    "# de esta manera tendremos que hacer una tabla, poniendo como primary key el 'DCID'\n",
    "# primero hacemos un cursor\n",
    "cur = conn.cursor()\n",
    "\n",
    "# luego escribimos el comando que queremos ejecutar\n",
    "comando = 'create table dc (DCID varchar(20) primary key, DCLocationLatitude varchar(20), DCLocationLongitude varchar(20), DCTransportationCapacityLiters int, HandlingCostPerLiter int)'\n",
    "                \n",
    "# luego tenemos que executar el cursor\n",
    "cur.execute(comando)\n",
    "\n",
    "# por ultimo cerramos el cursor\n",
    "cur.close()\n",
    "\n",
    "# para guardar los cambios\n",
    "conn.commit()"
   ]
  },
  {
   "cell_type": "markdown",
   "metadata": {},
   "source": [
    "### Para insertar los datos "
   ]
  },
  {
   "cell_type": "code",
   "execution_count": 76,
   "metadata": {},
   "outputs": [
    {
     "name": "stdout",
     "output_type": "stream",
     "text": [
      "insert into dc values ('DC001', '-1.167.114.585', '-8.322.489.278', 88, 48)\n",
      "insert into dc values ('DC002', '-8.195.947.549', '7.291.626.950', 37, 96)\n",
      "insert into dc values ('DC003', '-1.422.731.698', '6.443.633.751', 58, 82)\n",
      "insert into dc values ('DC004', '4.358.105.746', '8.986.685.836', 48, 29)\n",
      "insert into dc values ('DC005', '8.411.115.264', '-3.458.885.675', 93, 49)\n"
     ]
    }
   ],
   "source": [
    "# ahora vamos a insertar los datos\n",
    "# primero originemos los comandos que queremos ejecutar\n",
    "\n",
    "comandos = []\n",
    "for i in range(len(df)):    \n",
    "    id = df['DCID'][i]\n",
    "    latitud = df['DCLocationLatitude'][i]\n",
    "    longitud = df['DCLocationLongitude'][i]\n",
    "    capacidad = df['DCTransportationCapacityLiters'][i]\n",
    "    costo = df['HandlingCostPerLiter'][i]\n",
    "    comando = \"insert into dc values ('{}', '{}', '{}', {}, {})\".format(id, str(latitud), str(longitud), capacidad, costo)    \n",
    "    comandos.append(comando)\n",
    "for i in comandos:\n",
    "    print(i)\n",
    "\n"
   ]
  },
  {
   "cell_type": "code",
   "execution_count": 77,
   "metadata": {},
   "outputs": [],
   "source": [
    "# volvemos a repetir los pasos para ejecutar un comando en postgreSQL\n",
    "\n",
    "# establecer la coneccion con la base de datos    \n",
    "conn = psycopg2.connect('dbname=curso_postgresql user=Tester password=123456')\n",
    "\n",
    "# crear un cursor\n",
    "cur1 = conn.cursor()\n",
    "\n",
    "# ejecutamos los comandos\n",
    "for comando in comandos:\n",
    "    cur1.execute(comando)\n",
    "\n",
    "# cerramos el cursor\n",
    "cur1.close()\n",
    "\n",
    "# guardamos los cambios\n",
    "conn.commit()"
   ]
  },
  {
   "cell_type": "markdown",
   "metadata": {},
   "source": [
    "### Verficar que los datos fueron importados correctamente"
   ]
  },
  {
   "cell_type": "markdown",
   "metadata": {},
   "source": [
    "**Opcion 1:** Recorriendo las filas"
   ]
  },
  {
   "cell_type": "code",
   "execution_count": 82,
   "metadata": {
    "scrolled": true
   },
   "outputs": [
    {
     "name": "stdout",
     "output_type": "stream",
     "text": [
      "('DC001', '-1.167.114.585', '-8.322.489.278', 88, 48)\n",
      "('DC002', '-8.195.947.549', '7.291.626.950', 37, 96)\n",
      "('DC003', '-1.422.731.698', '6.443.633.751', 58, 82)\n",
      "('DC004', '4.358.105.746', '8.986.685.836', 48, 29)\n",
      "('DC005', '8.411.115.264', '-3.458.885.675', 93, 49)\n"
     ]
    }
   ],
   "source": [
    "# verificamos que los cambios se hallan efectuado\n",
    "# establecer la coneccion con la base de datos    \n",
    "conn = psycopg2.connect('dbname=curso_postgresql user=Tester password=123456')\n",
    "cur = conn.cursor()\n",
    "\n",
    "# seleccionar la tabla\n",
    "cur.execute('select * from dc')\n",
    "\n",
    "# recorrer las filas\n",
    "row = cur.fetchone()\n",
    "while row is not None:\n",
    "    print(row)\n",
    "    row = cur.fetchone()   \n",
    "\n",
    "\n",
    "# cerrar\n",
    "cur.close()\n",
    "conn.close()\n"
   ]
  },
  {
   "cell_type": "markdown",
   "metadata": {},
   "source": [
    "**Opcion 2:** Mostrando toda la tabla"
   ]
  },
  {
   "cell_type": "code",
   "execution_count": 84,
   "metadata": {},
   "outputs": [
    {
     "data": {
      "text/html": [
       "<div>\n",
       "<style scoped>\n",
       "    .dataframe tbody tr th:only-of-type {\n",
       "        vertical-align: middle;\n",
       "    }\n",
       "\n",
       "    .dataframe tbody tr th {\n",
       "        vertical-align: top;\n",
       "    }\n",
       "\n",
       "    .dataframe thead th {\n",
       "        text-align: right;\n",
       "    }\n",
       "</style>\n",
       "<table border=\"1\" class=\"dataframe\">\n",
       "  <thead>\n",
       "    <tr style=\"text-align: right;\">\n",
       "      <th></th>\n",
       "      <th>0</th>\n",
       "      <th>1</th>\n",
       "      <th>2</th>\n",
       "      <th>3</th>\n",
       "      <th>4</th>\n",
       "    </tr>\n",
       "  </thead>\n",
       "  <tbody>\n",
       "    <tr>\n",
       "      <th>0</th>\n",
       "      <td>DC001</td>\n",
       "      <td>-1.167.114.585</td>\n",
       "      <td>-8.322.489.278</td>\n",
       "      <td>88</td>\n",
       "      <td>48</td>\n",
       "    </tr>\n",
       "    <tr>\n",
       "      <th>1</th>\n",
       "      <td>DC002</td>\n",
       "      <td>-8.195.947.549</td>\n",
       "      <td>7.291.626.950</td>\n",
       "      <td>37</td>\n",
       "      <td>96</td>\n",
       "    </tr>\n",
       "    <tr>\n",
       "      <th>2</th>\n",
       "      <td>DC003</td>\n",
       "      <td>-1.422.731.698</td>\n",
       "      <td>6.443.633.751</td>\n",
       "      <td>58</td>\n",
       "      <td>82</td>\n",
       "    </tr>\n",
       "    <tr>\n",
       "      <th>3</th>\n",
       "      <td>DC004</td>\n",
       "      <td>4.358.105.746</td>\n",
       "      <td>8.986.685.836</td>\n",
       "      <td>48</td>\n",
       "      <td>29</td>\n",
       "    </tr>\n",
       "    <tr>\n",
       "      <th>4</th>\n",
       "      <td>DC005</td>\n",
       "      <td>8.411.115.264</td>\n",
       "      <td>-3.458.885.675</td>\n",
       "      <td>93</td>\n",
       "      <td>49</td>\n",
       "    </tr>\n",
       "  </tbody>\n",
       "</table>\n",
       "</div>"
      ],
      "text/plain": [
       "       0               1               2   3   4\n",
       "0  DC001  -1.167.114.585  -8.322.489.278  88  48\n",
       "1  DC002  -8.195.947.549   7.291.626.950  37  96\n",
       "2  DC003  -1.422.731.698   6.443.633.751  58  82\n",
       "3  DC004   4.358.105.746   8.986.685.836  48  29\n",
       "4  DC005   8.411.115.264  -3.458.885.675  93  49"
      ]
     },
     "execution_count": 84,
     "metadata": {},
     "output_type": "execute_result"
    }
   ],
   "source": [
    "# tambien se pueden obtener todas las filas (sin tener que recorrerlas)\n",
    "\n",
    "# establecer la coneccion con la base de datos    \n",
    "conn = psycopg2.connect('dbname=curso_postgresql user=Tester password=123456')\n",
    "cur = conn.cursor()\n",
    "\n",
    "# seleccionar la tabla\n",
    "cur.execute('select * from dc')\n",
    "    \n",
    "# obtener todas las filas\n",
    "rows = cur.fetchall()\n",
    "df1 = pd.DataFrame(rows)\n",
    "\n",
    "# cerrar\n",
    "cur.close()\n",
    "conn.close()\n",
    "\n",
    "df1"
   ]
  },
  {
   "cell_type": "markdown",
   "metadata": {},
   "source": [
    "### Llegados a este  punto, puede ser conveniente establecer una funcion para asi no estar constantemente estableciendo la conexion con el programa y creando un cursor para su interaccion.\n"
   ]
  },
  {
   "cell_type": "code",
   "execution_count": 16,
   "metadata": {},
   "outputs": [],
   "source": [
    "## la forma que esta interactuara es recibiendo un string como parametro \n",
    "\n",
    "# importar biblioteca\n",
    "import psycopg2\n",
    "\n",
    "# creamos la funcion\n",
    "def ejecutar(comando):\n",
    "    # establecer la conexion\n",
    "    conn = psycopg2.connect('dbname=curso_postgresql user=Tester password=123456')\n",
    "    \n",
    "    # creamos el cursor\n",
    "    cur = conn.cursor()\n",
    "    \n",
    "    # ejecutar comando\n",
    "    cur.execute(comando)\n",
    "\n",
    "    # guardamos los cambios\n",
    "    conn.commit()\n",
    "    \n",
    "    # cerrar\n",
    "    cur.close()\n",
    "    conn.close()\n",
    "    \n",
    "\n"
   ]
  },
  {
   "cell_type": "markdown",
   "metadata": {},
   "source": [
    "### Ahora probemos la funcion con algunos de los comandos que ejecutamos anteriormente"
   ]
  },
  {
   "cell_type": "code",
   "execution_count": 17,
   "metadata": {},
   "outputs": [],
   "source": [
    "# ahora vamos a crear la tabla 'customers'\n",
    "\n",
    "import pandas as pd\n",
    "\n",
    "ruta = 'https://raw.githubusercontent.com/raaraya1/University-Projects/main/Logistics/Datos/customers.csv'\n",
    "archivo = pd.read_csv(ruta, sep = ';')\n",
    "df2 = pd.DataFrame(archivo)\n",
    "df2\n",
    "\n",
    "# comando para crear la tabla\n",
    "comando_crear_tabla = '''create table customers(CustomerID varchar(20) primary key, \n",
    "CustomerLocationLatitude varchar(20), CustomerLocationLongitude varchar(20)); \n",
    "'''\n",
    "\n",
    "# ejecutamos el comando\n",
    "ejecutar(comando_crear_tabla)\n",
    "    "
   ]
  },
  {
   "cell_type": "markdown",
   "metadata": {},
   "source": [
    "### Ahora vamos a insertarle los datos"
   ]
  },
  {
   "cell_type": "code",
   "execution_count": 38,
   "metadata": {},
   "outputs": [],
   "source": [
    "# insertar los datos\n",
    "\n",
    "nombre_columnas = [columna for columna in df2]\n",
    "\n",
    "# ejemplo de comando\n",
    "#comando = \"inster into customers values ('{}', '{}', '{}')\".format(df2[nombre_columnas[0]][0], df2[nombre_columnas[1]][0], df2[nombre_columnas[2]][0])    \n",
    "#print(comando)\n",
    "\n",
    "for fila in range(len(df2)):    \n",
    "    comando = \"insert into customers values ('{}', '{}', '{}')\".format(df2[nombre_columnas[0]][fila], df2[nombre_columnas[1]][fila], df2[nombre_columnas[2]][fila])    \n",
    "    ejecutar(comando)   \n",
    "    "
   ]
  },
  {
   "cell_type": "markdown",
   "metadata": {},
   "source": [
    "### Revisemos que los datos se hallan guardado"
   ]
  },
  {
   "cell_type": "code",
   "execution_count": 39,
   "metadata": {},
   "outputs": [],
   "source": [
    "# esta funcion nos puede ayudar a mostrar mas rapidamente los datos\n",
    "\n",
    "def mostrar_tabla(comando):\n",
    "    # establecer la conexion\n",
    "    conn = psycopg2.connect('dbname=curso_postgresql user=Tester password=123456')\n",
    "    \n",
    "    # creamos el cursor\n",
    "    cur = conn.cursor()\n",
    "    \n",
    "    # ejecutar comando\n",
    "    cur.execute(comando)\n",
    "    \n",
    "    # obtener todas las filas\n",
    "    rows = cur.fetchall()\n",
    "    df = pd.DataFrame(rows)\n",
    "\n",
    "    # guardamos los cambios\n",
    "    conn.commit()\n",
    "    \n",
    "    # cerrar\n",
    "    cur.close()\n",
    "    conn.close()\n",
    "    \n",
    "    return df"
   ]
  },
  {
   "cell_type": "code",
   "execution_count": 40,
   "metadata": {},
   "outputs": [
    {
     "data": {
      "text/html": [
       "<div>\n",
       "<style scoped>\n",
       "    .dataframe tbody tr th:only-of-type {\n",
       "        vertical-align: middle;\n",
       "    }\n",
       "\n",
       "    .dataframe tbody tr th {\n",
       "        vertical-align: top;\n",
       "    }\n",
       "\n",
       "    .dataframe thead th {\n",
       "        text-align: right;\n",
       "    }\n",
       "</style>\n",
       "<table border=\"1\" class=\"dataframe\">\n",
       "  <thead>\n",
       "    <tr style=\"text-align: right;\">\n",
       "      <th></th>\n",
       "      <th>0</th>\n",
       "      <th>1</th>\n",
       "      <th>2</th>\n",
       "    </tr>\n",
       "  </thead>\n",
       "  <tbody>\n",
       "    <tr>\n",
       "      <th>0</th>\n",
       "      <td>Customer001</td>\n",
       "      <td>-6.974.150.410</td>\n",
       "      <td>0.572.172.540</td>\n",
       "    </tr>\n",
       "    <tr>\n",
       "      <th>1</th>\n",
       "      <td>Customer002</td>\n",
       "      <td>-1.774.631.895</td>\n",
       "      <td>0.771.807.615</td>\n",
       "    </tr>\n",
       "    <tr>\n",
       "      <th>2</th>\n",
       "      <td>Customer003</td>\n",
       "      <td>6.741.158.818</td>\n",
       "      <td>7.906.606.020</td>\n",
       "    </tr>\n",
       "    <tr>\n",
       "      <th>3</th>\n",
       "      <td>Customer004</td>\n",
       "      <td>-7.191.233.417</td>\n",
       "      <td>-2.539.319.369</td>\n",
       "    </tr>\n",
       "    <tr>\n",
       "      <th>4</th>\n",
       "      <td>Customer005</td>\n",
       "      <td>6.844.101.913</td>\n",
       "      <td>-6.249.004.925</td>\n",
       "    </tr>\n",
       "    <tr>\n",
       "      <th>5</th>\n",
       "      <td>Customer006</td>\n",
       "      <td>-5.887.849.020</td>\n",
       "      <td>-2.207.052.049</td>\n",
       "    </tr>\n",
       "    <tr>\n",
       "      <th>6</th>\n",
       "      <td>Customer007</td>\n",
       "      <td>2.739.095.208</td>\n",
       "      <td>-4.938.065.519</td>\n",
       "    </tr>\n",
       "  </tbody>\n",
       "</table>\n",
       "</div>"
      ],
      "text/plain": [
       "             0               1               2\n",
       "0  Customer001  -6.974.150.410   0.572.172.540\n",
       "1  Customer002  -1.774.631.895   0.771.807.615\n",
       "2  Customer003   6.741.158.818   7.906.606.020\n",
       "3  Customer004  -7.191.233.417  -2.539.319.369\n",
       "4  Customer005   6.844.101.913  -6.249.004.925\n",
       "5  Customer006  -5.887.849.020  -2.207.052.049\n",
       "6  Customer007   2.739.095.208  -4.938.065.519"
      ]
     },
     "execution_count": 40,
     "metadata": {},
     "output_type": "execute_result"
    }
   ],
   "source": [
    "comando = '''select * from customers'''\n",
    "customers = mostrar_tabla(comando)\n",
    "customers"
   ]
  }
 ],
 "metadata": {
  "celltoolbar": "Raw Cell Format",
  "kernelspec": {
   "display_name": "Python 3",
   "language": "python",
   "name": "python3"
  },
  "language_info": {
   "codemirror_mode": {
    "name": "ipython",
    "version": 3
   },
   "file_extension": ".py",
   "mimetype": "text/x-python",
   "name": "python",
   "nbconvert_exporter": "python",
   "pygments_lexer": "ipython3",
   "version": "3.9.0"
  }
 },
 "nbformat": 4,
 "nbformat_minor": 4
}
