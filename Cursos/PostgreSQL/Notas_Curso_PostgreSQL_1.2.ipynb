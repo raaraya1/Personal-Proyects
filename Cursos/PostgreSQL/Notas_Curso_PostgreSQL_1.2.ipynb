{
 "cells": [
  {
   "cell_type": "markdown",
   "metadata": {},
   "source": [
    "# Para esta continuación, la idea es seguir trabajando desde Python e ir completando las tablas que se emplearon como practica del curso de PowerBi\n"
   ]
  },
  {
   "cell_type": "markdown",
   "metadata": {},
   "source": [
    "## El metodo que se empleo en el cuadernillo anterior para generar las tablas e insertar los datos, no corresponde a la manera mas sencilla de hacerlo, de hecho, a continuación se muestran los pasos para realizar esto mismo desde la interfaz de PostgreSQL.\n"
   ]
  },
  {
   "cell_type": "code",
   "execution_count": 1,
   "metadata": {},
   "outputs": [],
   "source": [
    "# algunas funciones utiles que se desarrollaron en el cuadernillo anterior\n",
    "import psycopg2\n",
    "\n",
    "def ejecutar(comando):\n",
    "    conn = psycopg2.connect('dbname=curso_postgresql user=Tester password=123456')\n",
    "    cur = conn.cursor()\n",
    "    cur.execute(comando)\n",
    "    conn.commit()\n",
    "    cur.close()\n",
    "    conn.close()\n",
    "    \n",
    "def mostrar_tabla(comando):\n",
    "    conn = psycopg2.connect('dbname=curso_postgresql user=Tester password=123456')\n",
    "    cur = conn.cursor()\n",
    "    cur.execute(comando)\n",
    "    rows = cur.fetchall()\n",
    "    df = pd.DataFrame(rows)\n",
    "    conn.commit()\n",
    "    cur.close()\n",
    "    conn.close()\n",
    "    return df"
   ]
  },
  {
   "cell_type": "markdown",
   "metadata": {},
   "source": [
    "## **¿Como importar archivos a PostgreSQL?**\n"
   ]
  },
  {
   "attachments": {},
   "cell_type": "markdown",
   "metadata": {},
   "source": [
    "**1) Desde el mismo administrador de PostgreSQL**\n",
    "\n",
    "Lo primero que podemos hacer es ir a ver las tablas que creamos en el cuadernillo anterior.\n",
    "![imagen](https://raw.githubusercontent.com/raaraya1/raaraya1/main/imagenes/curso_postgre_sql/modulo2/1.png)\n",
    "\n",
    "Ahora para importar un archivo, lo primero que debemos hacer es crear una tabla vacia (Recomendacion: Utilizar el mismo nombre del archivo)\n"
   ]
  },
  {
   "cell_type": "code",
   "execution_count": 11,
   "metadata": {
    "scrolled": true
   },
   "outputs": [
    {
     "name": "stdout",
     "output_type": "stream",
     "text": [
      "detergents \n",
      "\n",
      "  DetergentID Composition  PurityPercentage    Packaging  NominalPricePerLiter\n",
      "0      Det001         C71                90  crysta500cc                   766 \n",
      "\n",
      "orders \n",
      "\n",
      "    OrderID ProductID   CustomerID  QuantityLiters\n",
      "0  Order001    Det004  Customer001               9 \n",
      "\n",
      "plants \n",
      "\n",
      "    PlantID PlantLocationLatitude PlantLocationLongitude  \\\n",
      "0  Plant001         6.795.458.019          3.095.143.418   \n",
      "\n",
      "   PlantProdCapacityLiters  PlantRailTransportationCapacityLiters  \\\n",
      "0                      760                                    324   \n",
      "\n",
      "   PlantRoadTransportationCapacityLiters  \n",
      "0                                    362   \n",
      "\n",
      "routes_available \n",
      "\n",
      "    RouteID StartRoute MiddleRoute     EndRoute  RailUse\n",
      "0  Route001   Plant001       DC001  Customer001        0 \n",
      "\n",
      "routes_endtoend \n",
      "\n",
      "      Start          End  EndToEndCostPerLiter\n",
      "0  Plant001  Customer001                     9 \n",
      "\n",
      "routes_segment \n",
      "\n",
      "  SegmentStart SegmentEnd SegmentMode  SegmentCostPerUnit\n",
      "0     Plant001      DC001        Road                   4 \n",
      "\n",
      "variable_costs \n",
      "\n",
      "    PlantID DetergentID  costPerliter\n",
      "0  Plant001      Det001            20 \n",
      "\n"
     ]
    }
   ],
   "source": [
    "# visualicemos las tablas que vamos a crear\n",
    "import pandas as pd\n",
    "\n",
    "Nombres_archivos = ['detergents', 'orders', 'plants', 'routes_available', 'routes_endtoend', 'routes_segment', 'variable_costs']\n",
    "ruta_base = 'https://raw.githubusercontent.com/raaraya1/University-Projects/main/Logistics/Datos/{}.csv'\n",
    "\n",
    "for nombre in Nombres_archivos:\n",
    "    ruta_archivo = ruta_base.format(nombre)\n",
    "    archivo = pd.read_csv(ruta_archivo, sep = ';')\n",
    "    df = pd.DataFrame(archivo)\n",
    "    print(nombre, '\\n')\n",
    "    print(df.head(1), '\\n')\n",
    "    \n"
   ]
  },
  {
   "cell_type": "markdown",
   "metadata": {},
   "source": [
    "**Ahora que mas menos conocemos la estructura de las tablas podemos proseguir a crearlas.**"
   ]
  },
  {
   "cell_type": "code",
   "execution_count": 62,
   "metadata": {},
   "outputs": [
    {
     "name": "stdout",
     "output_type": "stream",
     "text": [
      "create table variable_costs(PlantID varchar(20))\n"
     ]
    }
   ],
   "source": [
    "# Para crear las tablas\n",
    "\n",
    "import numpy as np\n",
    "\n",
    "## Primero creemos un comando de ejemplo\n",
    "nombre_tabla = Nombres_archivos[-1]\n",
    "\n",
    "## fijemonos en una columna de la tabla, por ejemplo la primera\n",
    "\n",
    "encabezados = list(df.columns)\n",
    "nombre_columna = encabezados[0]\n",
    "tipo_dato = type(df[encabezados[0]][0])\n",
    "\n",
    "lista = []\n",
    "\n",
    "if tipo_dato == str:\n",
    "    tipo_dato = 'varchar(20)'\n",
    "elif tipo_dato == int:\n",
    "    tipo_dato = 'int'\n",
    "else:\n",
    "    print('error')\n",
    "    \n",
    "lista.append((nombre_columna, tipo_dato))\n",
    "parametro = ''\n",
    "for i in lista:\n",
    "    parametro += i[0] + ' ' + i[1] + ','\n",
    "\n",
    "# remover la ultima ','\n",
    "parametro = parametro[:-1]\n",
    "\n",
    "prototipo_de_comando = 'create table {}({})'.format(nombre_tabla, parametro)\n",
    "print(prototipo_de_comando)\n"
   ]
  },
  {
   "cell_type": "code",
   "execution_count": 67,
   "metadata": {
    "scrolled": true
   },
   "outputs": [
    {
     "name": "stdout",
     "output_type": "stream",
     "text": [
      "create table variable_costs(PlantID varchar(20), DetergentID varchar(20), costPerliter int)\n"
     ]
    }
   ],
   "source": [
    "# ahora escribamos para una tabla cualquiera (recorrer solo las columnas)\n",
    "\n",
    "nombre_tabla = Nombres_archivos[-1]\n",
    "encabezados = list(df.columns)\n",
    "\n",
    "lista = []\n",
    "\n",
    "for columna in range(len(encabezados)):\n",
    "    nombre_columna = encabezados[columna]\n",
    "    tipo_dato = type(df[encabezados[columna]][0])\n",
    "\n",
    "    if tipo_dato == str:\n",
    "        tipo_dato = 'varchar(20)'\n",
    "    elif tipo_dato == np.int64:\n",
    "        tipo_dato = 'int'\n",
    "    else:\n",
    "        print('error')    \n",
    "    lista.append((nombre_columna, tipo_dato))\n",
    "\n",
    "parametro = ''\n",
    "for i in lista:\n",
    "    parametro += i[0] + ' ' + i[1] + ', '\n",
    "\n",
    "# remover la ultima ','\n",
    "parametro = parametro[:-2]\n",
    "\n",
    "prototipo_de_comando = 'create table {}({})'.format(nombre_tabla, parametro)\n",
    "print(prototipo_de_comando)\n",
    "\n"
   ]
  },
  {
   "cell_type": "code",
   "execution_count": 6,
   "metadata": {
    "scrolled": true
   },
   "outputs": [],
   "source": [
    "# ahora voy a utilizar el primer ciclo de la visualizacion de las tablas y la funcion ejecutar\n",
    "# que desarollamos en el cuadernillo anterior\n",
    "\n",
    "# bibliotecas\n",
    "import pandas as pd\n",
    "import numpy as np\n",
    "import psycopg2\n",
    "\n",
    "# crear tablas\n",
    "\n",
    "#Nombres_archivos = ['detergents', 'orders', 'plants', 'routes_available', 'routes_endtoend', 'routes_segment', 'variable_costs']\n",
    "Nombres_archivos = ['routes_segment', 'variable_costs']\n",
    "ruta_base = 'https://raw.githubusercontent.com/raaraya1/University-Projects/main/Logistics/Datos/{}.csv'\n",
    "\n",
    "# primer ciclo para leer el archivo\n",
    "for nombre in range(len(Nombres_archivos)):\n",
    "    ruta_archivo = ruta_base.format(Nombres_archivos[nombre])\n",
    "    archivo = pd.read_csv(ruta_archivo, sep = ';')\n",
    "    df = pd.DataFrame(archivo)\n",
    "    \n",
    "    # segundo ciclo para recorrer las columnas y crear las tablas\n",
    "    nombre_tabla = Nombres_archivos[nombre]\n",
    "    encabezados = list(df.columns)\n",
    "\n",
    "    lista = []\n",
    "\n",
    "    for columna in range(len(encabezados)):\n",
    "        nombre_columna = encabezados[columna]\n",
    "        tipo_dato = type(df[encabezados[columna]][0])\n",
    "\n",
    "        if tipo_dato == str:\n",
    "            tipo_dato = 'varchar(20)'\n",
    "        elif tipo_dato == np.int64:\n",
    "            tipo_dato = 'int'\n",
    "        else:\n",
    "            print('error')    \n",
    "        lista.append((nombre_columna, tipo_dato))\n",
    "\n",
    "    parametro = ''\n",
    "    for i in lista:\n",
    "        parametro += i[0] + ' ' + i[1] + ', '\n",
    "\n",
    "    parametro = parametro[:-2]\n",
    "    \n",
    "    # Eliminar tabla (Correccion para no generar tablas duplicadas)\n",
    "    #comando_drop = 'drop table {}'.format(nombre_tabla)\n",
    "    ejecutar(comando_drop)\n",
    "    \n",
    "    comando = 'create table {}({})'.format(nombre_tabla, parametro)\n",
    "    \n",
    "    # ejecutamos el comando\n",
    "    ejecutar(comando)\n",
    "\n"
   ]
  },
  {
   "attachments": {},
   "cell_type": "markdown",
   "metadata": {},
   "source": [
    "### Este error es bueno mostrarlo, porque no es que nos hallamos equivocado en el procedimiento, solo sucede que la palabra 'End' es una palabra reservada y no lo interpreta como el nombre de una columna. Es por esta razon **que es importante verificar que el nombre de las columnas no pertenezcan a palabras reservadas.**\n",
    "\n",
    "Las tablas que alcanzaron a cargarse correctamente son las siguientes:\n",
    "![imagen](https://raw.githubusercontent.com/raaraya1/raaraya1/main/imagenes/curso_postgre_sql/modulo2/2.png)\n",
    "\n"
   ]
  },
  {
   "cell_type": "markdown",
   "metadata": {},
   "source": [
    "### Ahora sucede que nuestro codigo se quedo en la mitad y si intentamos hacerlo correr de nuevo, va a intentar generar nuevamente las tablas que si lograron cargarse bien, arrojando un nuevo error por intentar generar tablas duplicadas.\n",
    "\n",
    "### Para corregir esto, podemos volver a ejecutar el codigo eliminando de la lista de nombres de tablas aquellas que si lograron cargarse bien (tambien quitar la que genera el problema)\n",
    "\n",
    "### La otra opcion es agregar un comando antes de generar la tabla, para eliminarla en caso de que esta exista."
   ]
  },
  {
   "cell_type": "code",
   "execution_count": 22,
   "metadata": {},
   "outputs": [],
   "source": [
    "# Vamos a cambiar el nombre de la columna de la tabla que nos esta generando problemas ('routes_endtoend')\n",
    "# imporat bibliotecas\n",
    "import pandas as pd\n",
    "\n",
    "# rescatemos el archivo\n",
    "nombre = 'routes_endtoend'\n",
    "ruta = 'https://raw.githubusercontent.com/raaraya1/University-Projects/main/Logistics/Datos/{}.csv'.format(nombre)\n",
    "archivo = pd.read_csv(ruta, sep = ';')\n",
    "tabla = pd.DataFrame(archivo)\n",
    "\n",
    "# ahora modifiquemos el nommbre de la columnas\n",
    "tabla.columns = ['SegmentStart', 'SegmentEnd', 'EndToEndCostPerLiter']\n",
    "columnas = list(tabla.columns)\n",
    "\n",
    "# ahora si vamos a poder generar la tabla\n",
    "comando_drop = 'drop table {}'.format(nombre)\n",
    "comando = 'create table {}({} varchar(20), {} varchar(20), {} int)'.format(nombre, columnas[0], columnas[1], columnas[2]) \n",
    "#ejecutar(comando_drop)\n",
    "ejecutar(comando)\n"
   ]
  },
  {
   "cell_type": "markdown",
   "metadata": {},
   "source": [
    "## Listo, ya tenemos todas nuestras tablas generadas en la base de datos\n",
    "\n",
    "## Lo que sigue es importar los datos de los archivos csv en estas.\n",
    "\n",
    "### Para hacer esto debemos realizar los siguientes pasos desde la interfaz de PosgreSQL.\n"
   ]
  },
  {
   "attachments": {},
   "cell_type": "markdown",
   "metadata": {},
   "source": [
    "### 1) Seleccionar la tabla, ir a 'Herramientas' y seleccionar la opcion para importar.\n",
    "![imagen](https://raw.githubusercontent.com/raaraya1/raaraya1/main/imagenes/curso_postgre_sql/modulo2/3.png)\n",
    "\n",
    "\n",
    "### 2) En esta ventana, fijarnos de habilitar la opción para importar, seleccionar el archivo correspondiente con la tabla que creamos y colocar en el delimitador por ';'\n",
    "![imagen](https://raw.githubusercontent.com/raaraya1/raaraya1/main/imagenes/curso_postgre_sql/modulo2/4.png)\n",
    "\n"
   ]
  },
  {
   "attachments": {},
   "cell_type": "markdown",
   "metadata": {},
   "source": [
    "### En el proceso de importacion del archivo de 'detergents' me aparecio el siguiente error.\n",
    "\n",
    "![imagen](https://raw.githubusercontent.com/raaraya1/raaraya1/main/imagenes/curso_postgre_sql/modulo2/5.png)\n",
    "\n",
    "Este parece corresponder a que en la columna de 'puritypercentage' no le acomoda manejar tipos de datos int. vamos a ver como arreglarlo.\n",
    "\n",
    "\n"
   ]
  },
  {
   "cell_type": "code",
   "execution_count": 27,
   "metadata": {},
   "outputs": [],
   "source": [
    "# al final termine cambiando el tipo de dato de int a varchar (despues corregiremos esto)\n",
    "## y eliminando las filas nulas que tenia presente el archivo\n",
    "import psycopg2\n",
    "comando1 = 'alter table detergents alter column puritypercentage type varchar(20)'\n",
    "ejecutar(comando1)\n",
    "comando2 = 'alter table detergents alter column nominalpriceperliter type varchar(20)'\n",
    "ejecutar(comando2)\n"
   ]
  },
  {
   "cell_type": "markdown",
   "metadata": {},
   "source": [
    "### **Corregir esto mismo, para el siguiente cuadernillo**"
   ]
  },
  {
   "attachments": {},
   "cell_type": "markdown",
   "metadata": {},
   "source": [
    "### Adicionales (**Errores**)\n",
    "\n",
    "**1) No funciona la contraseña de usuario**\n",
    "\n",
    "Al iniciar PostgreSQL y luego de introducir las contraseñas de administrador y usuario, se me generó el siguiente problema, al intentar ingresar la contraseña de usuario de 'Postgre'\n",
    "![imagen](https://raw.githubusercontent.com/raaraya1/raaraya1/main/imagenes/curso_postgre_sql/modulo2/6.png)\n",
    "\n",
    "\n",
    "Para resolver esto tuve que reiniciar el servicio. Para esto hay que ir a 'panel de control' -> 'herramientas administrativas'\n",
    "![imagen](https://raw.githubusercontent.com/raaraya1/raaraya1/main/imagenes/curso_postgre_sql/modulo2/7.png)\n",
    "\n",
    "\n",
    "Luego seleccionar el acceso directo a 'servicios'\n",
    "![imagen](https://raw.githubusercontent.com/raaraya1/raaraya1/main/imagenes/curso_postgre_sql/modulo2/8.png)\n",
    "\n",
    "\n",
    "Luego buscar en 'postgresql-X64' y dar en reiniciar.\n",
    "![imagen](https://raw.githubusercontent.com/raaraya1/raaraya1/main/imagenes/curso_postgre_sql/modulo2/9.png)\n"
   ]
  },
  {
   "attachments": {},
   "cell_type": "markdown",
   "metadata": {},
   "source": [
    "**2) No funciona la opcion para importar datos a las tablas**\n",
    "![imagen](https://raw.githubusercontent.com/raaraya1/raaraya1/main/imagenes/curso_postgre_sql/modulo2/10.png)\n",
    "\n",
    "\n",
    "Para arreglar esto, debemos ir a 'Archivo' en 'Preferencias' y buscar en rutas. En la de Postgre colocar la direccion C:\\Program Files\\PostgreSQL\\10\\bin (**nota: buscar en el PC esta ruta, ya que generalmente se encuentra ahi**)\n",
    "![imagen](https://raw.githubusercontent.com/raaraya1/raaraya1/main/imagenes/curso_postgre_sql/modulo2/11.png)\n",
    "\n",
    "\n",
    "\n"
   ]
  },
  {
   "attachments": {},
   "cell_type": "markdown",
   "metadata": {},
   "source": [
    "**3) Verificar los archivos csv, porque luego me di cuenta que tenian la siguiente estructura**\n",
    "![imagen](https://raw.githubusercontent.com/raaraya1/raaraya1/main/imagenes/curso_postgre_sql/modulo2/12.png)\n",
    "\n",
    "\n",
    "Sucedia que mirando los datos desde un dataframe, no era posible observar que en el archivo se encontraban filas con valores nulos."
   ]
  }
 ],
 "metadata": {
  "kernelspec": {
   "display_name": "Python 3",
   "language": "python",
   "name": "python3"
  },
  "language_info": {
   "codemirror_mode": {
    "name": "ipython",
    "version": 3
   },
   "file_extension": ".py",
   "mimetype": "text/x-python",
   "name": "python",
   "nbconvert_exporter": "python",
   "pygments_lexer": "ipython3",
   "version": "3.9.0"
  }
 },
 "nbformat": 4,
 "nbformat_minor": 4
}
