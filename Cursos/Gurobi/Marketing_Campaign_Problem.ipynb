{
  "nbformat": 4,
  "nbformat_minor": 0,
  "metadata": {
    "colab": {
      "name": "Marketing_Campaign_Problem.ipynb",
      "provenance": [],
      "collapsed_sections": [],
      "authorship_tag": "ABX9TyM6BPVHAVM857NtZO8FkwQF",
      "include_colab_link": true
    },
    "kernelspec": {
      "name": "python3",
      "display_name": "Python 3"
    },
    "language_info": {
      "name": "python"
    }
  },
  "cells": [
    {
      "cell_type": "markdown",
      "metadata": {
        "id": "view-in-github",
        "colab_type": "text"
      },
      "source": [
        "<a href=\"https://colab.research.google.com/github/raaraya1/Personal-Proyects/blob/main/Cursos/Gurobi/Marketing_Campaign_Problem.ipynb\" target=\"_parent\"><img src=\"https://colab.research.google.com/assets/colab-badge.svg\" alt=\"Open In Colab\"/></a>"
      ]
    },
    {
      "cell_type": "markdown",
      "metadata": {
        "id": "j8hz8yikqc7K"
      },
      "source": [
        "# **Problema de Campañas de Marketing (Solver Gurobi)**\n",
        "\n",
        "**Contexto:** El equipo de marketing necesita identificar que productos ofrecer a cada cliente en funcion de maximizar las utilidades de la empresa. Ademas, el problema se encuentra sujeto a restricciones del tipo:\n",
        "- Limites de presupuesto para invertir en campañas de publicidad.\n",
        "- Numero minimo de productos que se deben publicitar.\n",
        "- Tasas de retorno sobre la inversion que las campañas de publicidad deben cumplir.\n",
        "\n",
        "**Fuente:** https://www.gurobi.com/resource/marketing-campaign-optimization-jupyter-notebook/"
      ]
    },
    {
      "cell_type": "markdown",
      "metadata": {
        "id": "0YMhFaLYqetS"
      },
      "source": [
        "# **Modelo (Planificacion Agregada)**\n",
        "\n",
        "**Conjuntos:**\n",
        "\n",
        "$k \\in K$ : Segmentos de clientes.\n",
        "\n",
        "$j \\in J$ : Conjunto de productos.\n",
        "\n",
        "**Parametros:**\n",
        "\n",
        "$\\pi_{kj}$ : Rentabilidad esperada de ofrecer el producto j al segmento k.\n",
        "\n",
        "$v_{kj}$ : Costo variable de ofrecer el producto j al segmento k.\n",
        "\n",
        "$N_{k}$: Cantidad de clientes pertenecientes al segmento k.\n",
        "\n",
        "$Q_{j}$: Minimo de productos j que debo ofrecer.\n",
        "\n",
        "$R$: Tasa de rentabilidad minima que exige la empresa.\n",
        "\n",
        "$B$: Preupuesto disponible para invertir en campañas de publicidad.\n",
        "\n",
        "$M$: Gran M.\n",
        "\n",
        "**Variables:**\n",
        "\n",
        "$Y_{j k}$: Cantidad de clientes del segmento k a los cuales les ofrezco el producto j.\n",
        "\n",
        "$z$: Incremento en el prosupuesto B, en orden de hacer factible las campañas publicitarias.\n",
        "\n",
        "**Funcion Objetivo:**\n",
        "\n",
        "\\begin{equation}\n",
        "Max \\sum_{j} \\sum_{k} \\pi_{jk} Y_{jk} - M*z\n",
        "\\end{equation}\n",
        "\n",
        "**Restricciones:**\n",
        "\n",
        "1) No puedo ofrecer mas productos que los clientes existentes en un segmento.\n",
        "\n",
        "\\begin{equation}\n",
        "\\sum_{j}Y_{kj} \\leq N_{k} \\quad \\forall k \\in K\n",
        "\\end{equation}\n",
        "\n",
        "2) El costo de la campaña tiene que estar sujeto al presupuesto disponible (incluido la deuda que puedo sumar en orden de hacer factible el problema)\n",
        "\n",
        "\\begin{equation}\n",
        "\\sum_{k} \\sum_{j} v_{jk}Y_{jk} \\leq B + z\n",
        "\\end{equation}\n",
        "\n",
        "3) Se debe de cumplir un minimo de ofertas por producto.\n",
        "\n",
        "\\begin{equation}\n",
        "\\sum_{k} Y_{jk} \\geq Q_{j}\n",
        "\\quad \\forall j \\in J\n",
        "\\end{equation}\n",
        "\n",
        "4) El retorno esperado de hacer la campaña debe superar en un R% el costo de hacerla (inversion)\n",
        "\n",
        "\\begin{equation}\n",
        "\\sum_{k} \\sum_{j} \\pi_{jk}Y_{jk} \\geq (1 + R) \\sum_{k} \\sum_{j} v_{jk}Y_{jk}\n",
        "\\end{equation}\n"
      ]
    },
    {
      "cell_type": "code",
      "metadata": {
        "id": "OopOPkUmp_HC",
        "colab": {
          "base_uri": "https://localhost:8080/"
        },
        "outputId": "dea9855d-b3c3-49bd-8f0b-d8e603f9fee7"
      },
      "source": [
        "# importar bibliotecas\n",
        "%pip install gurobipy\n",
        "from gurobipy import Model, quicksum, GRB\n"
      ],
      "execution_count": null,
      "outputs": [
        {
          "output_type": "stream",
          "text": [
            "Collecting gurobipy\n",
            "  Downloading gurobipy-9.1.2-cp37-cp37m-manylinux1_x86_64.whl (11.1 MB)\n",
            "\u001b[K     |████████████████████████████████| 11.1 MB 157 kB/s \n",
            "\u001b[?25hInstalling collected packages: gurobipy\n",
            "Successfully installed gurobipy-9.1.2\n"
          ],
          "name": "stdout"
        }
      ]
    },
    {
      "cell_type": "code",
      "metadata": {
        "id": "kxJq7GXGAvrS"
      },
      "source": [
        "# Conjuntos\n",
        "productos = [1, 2]\n",
        "segmentos = [1, 2]"
      ],
      "execution_count": null,
      "outputs": []
    },
    {
      "cell_type": "code",
      "metadata": {
        "id": "rQh-0WCXBTUg"
      },
      "source": [
        "# Parametros\n",
        "\n",
        "## Rentabilidades esperadas\n",
        "pi_kj = {(1, 1):2000, \n",
        "         (1, 2):1000,\n",
        "         (2, 1):3000,\n",
        "         (2, 2):2000}\n",
        "\n",
        "## Costos esperados de aplicar la campaña\n",
        "v_kj = {(1, 1):200, \n",
        "        (1, 2):100,\n",
        "        (2, 1):300,\n",
        "        (2, 2):200}\n",
        "\n",
        "## Cantidad de clientes en cada segmento\n",
        "N_k = {1:5, \n",
        "       2:5}\n",
        "\n",
        "## Numero minimo de ofertas por producto\n",
        "Q_j = {1:2, \n",
        "       2:2} \n",
        "\n",
        "## Retorno sobre la inversion exigido por la empresa\n",
        "R = 0.20\n",
        "\n",
        "## Presupuesto para destinar a campañas\n",
        "B = 200\n",
        "\n",
        "## Gran M\n",
        "M = 10000"
      ],
      "execution_count": null,
      "outputs": []
    },
    {
      "cell_type": "code",
      "metadata": {
        "id": "56sXUWpDDSKB"
      },
      "source": [
        "# Declarar el modelo\n",
        "m = Model()\n",
        "\n",
        "# Variables\n",
        "## Cantidad de clientes del segmento k que les ofrezco el producto j\n",
        "Y = {}\n",
        "for k in segmentos:\n",
        "  for j in productos:\n",
        "    Y[k, j] = m.addVar(vtype=GRB.CONTINUOUS, name='Y[{}, {}]'.format(k, j)) # probemos luego cambiando esta a INTERGER\n",
        "\n",
        "\n",
        "## Presupueto adicional con el que me puedo endeudar para financiar las campañas\n",
        "z = m.addVar(name='z')\n",
        "\n",
        "## Variable objetivo\n",
        "s = m.addVar(lb=-10000000000000, name='obj') #Nota: al parecer se coloca por defecto un lb=0\n"
      ],
      "execution_count": null,
      "outputs": []
    },
    {
      "cell_type": "code",
      "metadata": {
        "colab": {
          "base_uri": "https://localhost:8080/"
        },
        "id": "gJpJYiQyFC_Y",
        "outputId": "86cf29f0-dde9-4136-fbeb-f9e51f282cf2"
      },
      "source": [
        "# Restricciones\n",
        "## 1) No puedo vender mas productos que la gente disponible en el segmento\n",
        "for k in segmentos:  \n",
        "  m.addConstr(quicksum(Y[k, j] for j in productos) <= N_k[k])\n",
        "  \n",
        "## 2) No puedo gastar mas del presupuesto disponible (incluyendo el extra)\n",
        "m.addConstr(quicksum(v_kj[k, j]*Y[k, j] for k in segmentos for j in productos) <= B + z)\n",
        "\n",
        "## 3) Debo respetar el minimo de ofertas por producto\n",
        "for j in productos:\n",
        "  m.addConstr(quicksum(Y[k, j] for k in segmentos) >= Q_j[j])\n",
        "\n",
        "## 4) Debo cumplir con la rentabilidad exigida por la empresa\n",
        "m.addConstr(quicksum(pi_kj[k, j]*Y[k, j] for k in segmentos for j in productos) - (1 + R)*quicksum(v_kj[k, j]*Y[k, j] for k in segmentos for j in productos) >= 0)\n",
        "\n",
        "# Defino la funcion objetivo\n",
        "m.addConstr(s == quicksum(pi_kj[k, j]*Y[k, j] for k in segmentos for j in productos) - M*z)\n"
      ],
      "execution_count": null,
      "outputs": [
        {
          "output_type": "execute_result",
          "data": {
            "text/plain": [
              "<gurobi.Constr *Awaiting Model Update*>"
            ]
          },
          "metadata": {
            "tags": []
          },
          "execution_count": 26
        }
      ]
    },
    {
      "cell_type": "code",
      "metadata": {
        "colab": {
          "base_uri": "https://localhost:8080/"
        },
        "id": "wAcZ83huI38c",
        "outputId": "7c58135e-75b1-4cd2-a671-014e851a1474"
      },
      "source": [
        "# Pedimos al modelo que optimize\n",
        "m.setObjective(s, GRB.MAXIMIZE)\n",
        "m.optimize()\n",
        "#print(z.x)"
      ],
      "execution_count": null,
      "outputs": [
        {
          "output_type": "stream",
          "text": [
            "Gurobi Optimizer version 9.1.2 build v9.1.2rc0 (linux64)\n",
            "Thread count: 1 physical cores, 2 logical processors, using up to 2 threads\n",
            "Optimize a model with 7 rows, 6 columns and 23 nonzeros\n",
            "Model fingerprint: 0xb6890fda\n",
            "Coefficient statistics:\n",
            "  Matrix range     [1e+00, 1e+04]\n",
            "  Objective range  [1e+00, 1e+00]\n",
            "  Bounds range     [1e+13, 1e+13]\n",
            "  RHS range        [2e+00, 2e+02]\n",
            "Warning: Model contains large bounds\n",
            "         Consider reformulating model or setting NumericFocus parameter\n",
            "         to avoid numerical issues.\n",
            "Presolve removed 1 rows and 0 columns\n",
            "Presolve time: 0.02s\n",
            "Presolved: 6 rows, 6 columns, 19 nonzeros\n",
            "\n",
            "Iteration    Objective       Primal Inf.    Dual Inf.      Time\n",
            "       0    1.2800000e+32   1.640000e+30   1.280000e+02      0s\n",
            "       5   -3.9940000e+06   0.000000e+00   0.000000e+00      0s\n",
            "\n",
            "Solved in 5 iterations and 0.03 seconds\n",
            "Optimal objective -3.994000000e+06\n"
          ],
          "name": "stdout"
        }
      ]
    },
    {
      "cell_type": "code",
      "metadata": {
        "colab": {
          "base_uri": "https://localhost:8080/"
        },
        "id": "i5367QnAKk7X",
        "outputId": "19186396-3240-4270-e753-546c73736818"
      },
      "source": [
        "# Mostrar los resultados\n",
        "\n",
        "for j in productos:\n",
        "  for k in segmentos:\n",
        "    if Y[k, j].x > 0:\n",
        "      print('Y[{}, {}] = {}'.format(k, j, Y[k, j].x))\n",
        "\n",
        "print('z = {}'.format(z.x))"
      ],
      "execution_count": null,
      "outputs": [
        {
          "output_type": "stream",
          "text": [
            "Y[1, 1] = 2.0\n",
            "Y[1, 2] = 2.0\n",
            "z = 400.0\n"
          ],
          "name": "stdout"
        }
      ]
    },
    {
      "cell_type": "code",
      "metadata": {
        "colab": {
          "base_uri": "https://localhost:8080/"
        },
        "id": "isfgqQ__XOe6",
        "outputId": "e047b68a-5871-445f-aedc-eaacaab79d93"
      },
      "source": [
        "# Analisis de los resutlados\n",
        "retorno_eperado_campaña = 0\n",
        "costo_esperado_campaña = 0\n",
        "\n",
        "for j in productos:\n",
        "  for k in segmentos:\n",
        "    if Y[k, j].x > 0:\n",
        "      retorno_eperado_campaña += pi_kj[k, j]*Y[k, j].x\n",
        "      costo_esperado_campaña += v_kj[k, j]*Y[k, j].x\n",
        "\n",
        "print('retorno_eperado_campaña: ', retorno_eperado_campaña)\n",
        "print('costo_esperado_campaña: ', costo_esperado_campaña)\n",
        "print('ROI: ', (retorno_eperado_campaña/costo_esperado_campaña)*100, '%')"
      ],
      "execution_count": null,
      "outputs": [
        {
          "output_type": "stream",
          "text": [
            "retorno_eperado_campaña:  6000.0\n",
            "costo_esperado_campaña:  600.0\n",
            "ROI:  1000.0 %\n"
          ],
          "name": "stdout"
        }
      ]
    },
    {
      "cell_type": "code",
      "metadata": {
        "id": "5LXbYPHyKvtQ",
        "colab": {
          "base_uri": "https://localhost:8080/"
        },
        "outputId": "98beae09-deb5-4067-f15b-2f5840dcf75b"
      },
      "source": [
        "m.write('mip.lp') # se obtiene el modelo generado\n",
        "#m.computeIIS() # Solo ejecutar esta linea en presencia de una solucion infactible\n",
        "#m.write('mip.ilp') # esto ayuda a encontrar los error que hacen a la solucion infactible"
      ],
      "execution_count": null,
      "outputs": [
        {
          "output_type": "stream",
          "text": [
            "Warning: variable name \"Y[1, 1]\" has a space\n",
            "Warning: to let Gurobi read it back, use rlp format\n"
          ],
          "name": "stdout"
        }
      ]
    },
    {
      "cell_type": "markdown",
      "metadata": {
        "id": "_YE4P3LaaKJM"
      },
      "source": [
        "## Aqui se encuentra el modelo que generamos.\n",
        "![imagen.png](data:image/png;base64,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)"
      ]
    },
    {
      "cell_type": "markdown",
      "metadata": {
        "id": "yzl0WKxqapbU"
      },
      "source": [
        "# **Desagregando el modelo (en funcion de los clientes)**\n",
        "\n",
        "**Conjuntos:**\n",
        "\n",
        "$c \\in C_k$: Conjunto de clientes que pertenecen al segmento k.\n",
        "\n",
        "$k \\in K$ : Segmentos de clientes.\n",
        "\n",
        "$j \\in J_k$ : Conjunto de productos que se ofrecen al segmento k.\n",
        "\n",
        "**Parametros:**\n",
        "\n",
        "$\\pi_{ckj}$ : Rentabilidad esperada de ofrecer el producto j al cliente c del segmento k.\n",
        "\n",
        "**Variables:**\n",
        "\n",
        "$X_{c j k} \\in (0, 1)$: Si al cliente c del segmento k, le ofrezco el producto j\n",
        "\n",
        "**Funcion Objetivo:**\n",
        "\n",
        "\\begin{equation}\n",
        "Max \\sum_{k} \\sum_{c \\in C_k} \\sum_{j \\in J_k} \\pi_{cjk} X_{cjk}\n",
        "\\end{equation}\n",
        "\n",
        "**Restricciones:**\n",
        "\n",
        "1) La cantidad de asignaciones de producto debe calzar con las cantidades agregadas de productos del modelo anterior.\n",
        "\n",
        "\\begin{equation}\n",
        "\\sum_{c \\in C_k}X_{ckj} \\leq Y_{k j} \\quad \\forall j \\in J_k, k \\in K\n",
        "\\end{equation}\n",
        "\n",
        "2) No puedo afrecer el mismo producto a dos clientes distintos.\n",
        "\n",
        "\\begin{equation}\n",
        "\\sum_{j \\in J_k} X_{cjk} \\leq 1\n",
        "\\quad \\forall c \\in C_k, k \\in K\n",
        "\\end{equation}\n",
        "\n",
        "3) Ajustar los costos de las campañas al nuevo presupusto disponible.\n",
        "\n",
        "\\begin{equation}\n",
        "\\sum_{k} \\sum_{c \\in C_k} \\sum_{j \\in J_k} v_{kcj} X_{kcj} \\leq B'\n",
        "\\end{equation}\n",
        "\n"
      ]
    },
    {
      "cell_type": "code",
      "metadata": {
        "id": "Tag2F2N5aQeJ"
      },
      "source": [
        "# Nuevos conjuntos\n",
        "\n",
        "## Clientes por segmento\n",
        "C_k = {1:[1, 2, 3, 4, 5], \n",
        "       2:[6, 7, 8, 9, 10]}\n",
        "\n",
        "## Productos por cliente (Para el ejercicio no hicieron que dependiera)\n",
        "J_k = {1:[1, 2], \n",
        "       2:[1, 2]}\n",
        "\n",
        "## Conjunto de segmentos\n",
        "K = [1, 2]\n"
      ],
      "execution_count": null,
      "outputs": []
    },
    {
      "cell_type": "code",
      "metadata": {
        "id": "7kj4ffNtkwxT"
      },
      "source": [
        "# Nuevo parametros\n",
        "\n",
        "## Rentibilidades de los clientes individuales\n",
        "pi_kcj = {\n",
        "    (1, 1, 1): 2050,\n",
        "    (1, 1, 2): 1050,\n",
        "    (1, 2, 1): 1950,\n",
        "    (1, 2, 2): 950,\n",
        "    (1, 3, 1): 2000,\n",
        "    (1, 3, 2): 1000,\n",
        "    (1, 4, 1): 2100,\n",
        "    (1, 4, 2): 1100,\n",
        "    (1, 5, 1): 1900,\n",
        "    (1, 5, 2): 900,\n",
        "    (2, 6, 1): 3000,\n",
        "    (2, 6, 2): 2000,\n",
        "    (2, 7, 1): 2900,\n",
        "    (2, 7, 2): 1900,\n",
        "    (2, 8, 1): 3050,\n",
        "    (2, 8, 2): 2050,\n",
        "    (2, 9, 1): 3100,\n",
        "    (2, 9, 2): 3100,\n",
        "    (2, 10, 1): 2950,\n",
        "    (2, 10, 2): 2950}\n",
        "\n",
        "# Costo de aplicar la campaña a los clientes de manera individual\n",
        "v_kcj = {\n",
        "    (1, 1, 1): 205,\n",
        "    (1, 1, 2): 105,\n",
        "    (1, 2, 1): 195,\n",
        "    (1, 2, 2): 95,\n",
        "    (1, 3, 1): 200,\n",
        "    (1, 3, 2): 100,\n",
        "    (1, 4, 1): 210,\n",
        "    (1, 4, 2): 110,\n",
        "    (1, 5, 1): 190,\n",
        "    (1, 5, 2): 90,\n",
        "    (2, 6, 1): 300,\n",
        "    (2, 6, 2): 200,\n",
        "    (2, 7, 1): 290,\n",
        "    (2, 7, 2): 190,\n",
        "    (2, 8, 1): 305,\n",
        "    (2, 8, 2): 205,\n",
        "    (2, 9, 1): 310,\n",
        "    (2, 9, 2): 310,\n",
        "    (2, 10, 1): 295,\n",
        "    (2, 10, 2): 295}\n",
        "\n",
        "# Nuevo presupuesto (son los 200 iniciales + 400 recomendados del modelo anterior)\n",
        "B_ = 600\n"
      ],
      "execution_count": null,
      "outputs": []
    },
    {
      "cell_type": "code",
      "metadata": {
        "id": "bbnz2ed3lRjW"
      },
      "source": [
        "# Nuevo modelo\n",
        "m2 = Model()\n",
        "\n",
        "# Nueva variable\n",
        "X = {}\n",
        "for k in K:\n",
        "  for c in C_k[k]:\n",
        "    for j in J_k[1]: # Esto lo deje asi, para no agregar variables que no se utilizan en este ejercicio particular\n",
        "      X[k, c, j] = m2.addVar(vtype=GRB.BINARY, name='X[{}, {}, {}]'.format(k, j, c))\n",
        "      #print('x[{}, {}, {}]'.format(k, c, j))\n",
        "\n",
        "obj = m2.addVar(lb=-100000000, name='obj')"
      ],
      "execution_count": null,
      "outputs": []
    },
    {
      "cell_type": "code",
      "metadata": {
        "id": "UxF8iJPotCWt"
      },
      "source": [
        "# Nuevas restricciones\n",
        "\n",
        "## 1) La cantidad de asignaciones debe corresponder con las obtenidas del mdoelo anterior\n",
        "for k in K:\n",
        "  for j in J_k[1]:\n",
        "    m2.addConstr(quicksum(X[k, c, j] for c in C_k[k]) == Y[k, j].x)"
      ],
      "execution_count": null,
      "outputs": []
    },
    {
      "cell_type": "code",
      "metadata": {
        "id": "rDAiJyH1t5pB"
      },
      "source": [
        "## 2) No puedo afrecer el mismo producto a mas de un cliente del mismo segmento\n",
        "for k in K:\n",
        "  for c in C_k[k]:\n",
        "    m2.addConstr(quicksum(X[k, c, j] for j in J_k[1]) <= 1)\n",
        "    "
      ],
      "execution_count": null,
      "outputs": []
    },
    {
      "cell_type": "code",
      "metadata": {
        "colab": {
          "base_uri": "https://localhost:8080/"
        },
        "id": "qLcHogSD06PU",
        "outputId": "bb3d19ed-7f0f-4837-a258-9d11ec6c3743"
      },
      "source": [
        "## 3) restriccion de presupuesto\n",
        "m2.addConstr(quicksum(v_kcj[k, c, j]*X[k, c, j] for k in K for j in J_k[1] for c in C_k[k]) <= B_)"
      ],
      "execution_count": null,
      "outputs": [
        {
          "output_type": "execute_result",
          "data": {
            "text/plain": [
              "<gurobi.Constr *Awaiting Model Update*>"
            ]
          },
          "metadata": {
            "tags": []
          },
          "execution_count": 81
        }
      ]
    },
    {
      "cell_type": "code",
      "metadata": {
        "colab": {
          "base_uri": "https://localhost:8080/"
        },
        "id": "26fMjUu4uaiO",
        "outputId": "36da4ee5-ddf6-4b0d-bd67-323bf3bda016"
      },
      "source": [
        "## 4) Funcion objetivo\n",
        "m2.addConstr(obj == quicksum(pi_kcj[k, c, j]*X[k, c, j] for k in K for j in J_k[1] for c in C_k[k]))\n"
      ],
      "execution_count": null,
      "outputs": [
        {
          "output_type": "execute_result",
          "data": {
            "text/plain": [
              "<gurobi.Constr *Awaiting Model Update*>"
            ]
          },
          "metadata": {
            "tags": []
          },
          "execution_count": 82
        }
      ]
    },
    {
      "cell_type": "code",
      "metadata": {
        "colab": {
          "base_uri": "https://localhost:8080/"
        },
        "id": "05uADUsXwYiA",
        "outputId": "3a057153-b184-471e-a40c-d77e40108c02"
      },
      "source": [
        "# Colocar el objetivo\n",
        "m2.setObjective(obj, GRB.MAXIMIZE)\n",
        "m2.optimize()"
      ],
      "execution_count": null,
      "outputs": [
        {
          "output_type": "stream",
          "text": [
            "Gurobi Optimizer version 9.1.2 build v9.1.2rc0 (linux64)\n",
            "Thread count: 1 physical cores, 2 logical processors, using up to 2 threads\n",
            "Optimize a model with 16 rows, 21 columns and 81 nonzeros\n",
            "Model fingerprint: 0x2076aa51\n",
            "Variable types: 1 continuous, 20 integer (20 binary)\n",
            "Coefficient statistics:\n",
            "  Matrix range     [1e+00, 3e+03]\n",
            "  Objective range  [1e+00, 1e+00]\n",
            "  Bounds range     [1e+00, 1e+08]\n",
            "  RHS range        [1e+00, 6e+02]\n",
            "Presolve removed 8 rows and 11 columns\n",
            "Presolve time: 0.00s\n",
            "Presolved: 8 rows, 10 columns, 28 nonzeros\n",
            "Variable types: 0 continuous, 10 integer (10 binary)\n",
            "Found heuristic solution: objective 6000.0000000\n",
            "\n",
            "Root relaxation: cutoff, 1 iterations, 0.00 seconds\n",
            "\n",
            "    Nodes    |    Current Node    |     Objective Bounds      |     Work\n",
            " Expl Unexpl |  Obj  Depth IntInf | Incumbent    BestBd   Gap | It/Node Time\n",
            "\n",
            "     0     0     cutoff    0      6000.00000 6000.00000  0.00%     -    0s\n",
            "\n",
            "Explored 0 nodes (1 simplex iterations) in 0.05 seconds\n",
            "Thread count was 2 (of 2 available processors)\n",
            "\n",
            "Solution count 1: 6000 \n",
            "\n",
            "Optimal solution found (tolerance 1.00e-04)\n",
            "Best objective 6.000000000000e+03, best bound 6.000000000000e+03, gap 0.0000%\n"
          ],
          "name": "stdout"
        }
      ]
    },
    {
      "cell_type": "code",
      "metadata": {
        "colab": {
          "base_uri": "https://localhost:8080/"
        },
        "id": "MDcTYhIgw-vW",
        "outputId": "88058b75-2d83-4543-c9c0-275621ea97d2"
      },
      "source": [
        "# Rescatar los valores de la salida\n",
        "for k in K:\n",
        "  for j in J_k[1]:\n",
        "    for c in C_k[k]:\n",
        "      if X[k, c, j].x > 0:\n",
        "        print('X[k={}, c={}, j={}]: {}     Ganancia: {}      costo: {}'.format(k, c, j, X[k, c, j].x, pi_kcj[k, c, j], v_kcj[k, c, j]))\n",
        "\n",
        "print('obj: ', obj.x)"
      ],
      "execution_count": null,
      "outputs": [
        {
          "output_type": "stream",
          "text": [
            "X[k=1, c=1, j=1]: 1.0     Ganancia: 2050      costo: 205\n",
            "X[k=1, c=2, j=1]: 1.0     Ganancia: 1950      costo: 195\n",
            "X[k=1, c=4, j=2]: 1.0     Ganancia: 1100      costo: 110\n",
            "X[k=1, c=5, j=2]: 1.0     Ganancia: 900      costo: 90\n",
            "obj:  6000.0\n"
          ],
          "name": "stdout"
        }
      ]
    }
  ]
}