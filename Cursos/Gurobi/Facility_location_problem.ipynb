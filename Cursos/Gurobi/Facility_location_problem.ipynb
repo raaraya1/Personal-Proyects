{
  "nbformat": 4,
  "nbformat_minor": 0,
  "metadata": {
    "colab": {
      "name": "Facility_location_problem.ipynb",
      "provenance": [],
      "collapsed_sections": [],
      "toc_visible": true,
      "authorship_tag": "ABX9TyMZh9BXWlsGEzb93jLZTO0D",
      "include_colab_link": true
    },
    "kernelspec": {
      "name": "python3",
      "display_name": "Python 3"
    },
    "language_info": {
      "name": "python"
    }
  },
  "cells": [
    {
      "cell_type": "markdown",
      "metadata": {
        "id": "view-in-github",
        "colab_type": "text"
      },
      "source": [
        "<a href=\"https://colab.research.google.com/github/raaraya1/Personal-Proyects/blob/main/Cursos/Gurobi/Facility_location_problem.ipynb\" target=\"_parent\"><img src=\"https://colab.research.google.com/assets/colab-badge.svg\" alt=\"Open In Colab\"/></a>"
      ]
    },
    {
      "cell_type": "markdown",
      "metadata": {
        "id": "d9jXqmHTQyDd"
      },
      "source": [
        "# **Problema de Facility Location (Solver Gurobi)**\n",
        "\n",
        "**Contexto:** Tengo que decidir donde abrir una bodega en funcion de minimizar los costos de tranporte y los costos de instalacion de la misma. Ademas, se pide extraer la configuracion optima de como realizar los despachos a los clientes.\n",
        "\n",
        "\n",
        "**Fuente:** https://www.gurobi.com/resource/facility-location-problem/\n"
      ]
    },
    {
      "cell_type": "markdown",
      "metadata": {
        "id": "m0_8P7hCQxUC"
      },
      "source": [
        "# **Modelo**\n",
        "\n",
        "**Conjuntos:**\n",
        "\n",
        "$i \\in I$ : Conjunto de clientes\n",
        "\n",
        "$j \\in J$ : Conjunto de posibles locaciones para la bodegas.\n",
        "\n",
        "**Parametros:**\n",
        "\n",
        "$Cinst_{j}$ : Costo de instalacion de la bodega j.\n",
        "\n",
        "$Dist_{ij}$ : Distancia entre el cliente i y la bodega j.\n",
        "\n",
        "$Cbenc$: Costo de la bencina por kilometro.\n",
        "\n",
        "**Variables:**\n",
        "\n",
        "$X_{j} \\in (0, 1)$: Si escojo instalar la bodeja j\n",
        "\n",
        "$Y_{ij}$: Porcentaje del pedido del cliente i que satisface la bodega j. (entre 0 a 1)\n",
        "\n",
        "**Funcion Objetivo:**\n",
        "\n",
        "\\begin{equation}\n",
        "Min \\sum_{j} Cinst_{j}X_{j} + \\sum_{i}\\sum_{j} Cbenc Dist_{ij} Y_{ij}\n",
        "\\end{equation}\n",
        "\n",
        "**Restricciones:**\n",
        "\n",
        "1) Tengo que completar el pedido de los clientes.\n",
        "\n",
        "\\begin{equation}\n",
        "\\sum_{j}Y_{i} = 1 \\quad \\forall i \\in I\n",
        "\\end{equation}\n",
        "\n",
        "2) No puedo transportar mercancia a un cliente desde una planta inhabilitada.\n",
        "\n",
        "\\begin{equation}\n",
        "Y_{ij} \\leq X_{j} \\quad \\forall j \\in J, i \\in I\n",
        "\\end{equation}\n"
      ]
    },
    {
      "cell_type": "code",
      "metadata": {
        "colab": {
          "base_uri": "https://localhost:8080/"
        },
        "id": "VA23Kq_0PFt8",
        "outputId": "cefc65ae-54e7-49c8-9e06-46aa8898ba9a"
      },
      "source": [
        "# Installar biblioteca de gurobi\n",
        "%pip install gurobipy"
      ],
      "execution_count": null,
      "outputs": [
        {
          "output_type": "stream",
          "text": [
            "Collecting gurobipy\n",
            "  Downloading gurobipy-9.1.2-cp37-cp37m-manylinux1_x86_64.whl (11.1 MB)\n",
            "\u001b[K     |████████████████████████████████| 11.1 MB 135 kB/s \n",
            "\u001b[?25hInstalling collected packages: gurobipy\n",
            "Successfully installed gurobipy-9.1.2\n"
          ],
          "name": "stdout"
        }
      ]
    },
    {
      "cell_type": "code",
      "metadata": {
        "id": "l0X7mYAufrtr"
      },
      "source": [
        "# Importar bibliotecas necesarias\n",
        "from gurobipy import Model, quicksum, GRB\n",
        "import pandas as pd"
      ],
      "execution_count": null,
      "outputs": []
    },
    {
      "cell_type": "code",
      "metadata": {
        "colab": {
          "base_uri": "https://localhost:8080/"
        },
        "id": "pA_cnIrIgnFQ",
        "outputId": "31d3aeb6-59ca-448e-be98-d0e3465a373f"
      },
      "source": [
        "# Cargar los datos necesarios\n",
        "!ls"
      ],
      "execution_count": null,
      "outputs": [
        {
          "output_type": "stream",
          "text": [
            "Facility_location_Gurobi.xlsx  sample_data\n"
          ],
          "name": "stdout"
        }
      ]
    },
    {
      "cell_type": "code",
      "metadata": {
        "colab": {
          "base_uri": "https://localhost:8080/",
          "height": 424
        },
        "id": "6Xn9Nqd9m1Fd",
        "outputId": "42a437f3-594d-49e6-e4d1-ab3340f9a365"
      },
      "source": [
        "# Extraer los datos del excel \n",
        "## Me voy a saltar las primeras 8 columnas\n",
        "df = pd.read_excel('/content/Facility_location_Gurobi.xlsx', usecols=[8, 9, 10])\n",
        "df"
      ],
      "execution_count": null,
      "outputs": [
        {
          "output_type": "execute_result",
          "data": {
            "text/html": [
              "<div>\n",
              "<style scoped>\n",
              "    .dataframe tbody tr th:only-of-type {\n",
              "        vertical-align: middle;\n",
              "    }\n",
              "\n",
              "    .dataframe tbody tr th {\n",
              "        vertical-align: top;\n",
              "    }\n",
              "\n",
              "    .dataframe thead th {\n",
              "        text-align: right;\n",
              "    }\n",
              "</style>\n",
              "<table border=\"1\" class=\"dataframe\">\n",
              "  <thead>\n",
              "    <tr style=\"text-align: right;\">\n",
              "      <th></th>\n",
              "      <th>Cliente i.1</th>\n",
              "      <th>Bodega j.1</th>\n",
              "      <th>Dist_{ij}</th>\n",
              "    </tr>\n",
              "  </thead>\n",
              "  <tbody>\n",
              "    <tr>\n",
              "      <th>0</th>\n",
              "      <td>1</td>\n",
              "      <td>1</td>\n",
              "      <td>126</td>\n",
              "    </tr>\n",
              "    <tr>\n",
              "      <th>1</th>\n",
              "      <td>1</td>\n",
              "      <td>2</td>\n",
              "      <td>123</td>\n",
              "    </tr>\n",
              "    <tr>\n",
              "      <th>2</th>\n",
              "      <td>1</td>\n",
              "      <td>3</td>\n",
              "      <td>209</td>\n",
              "    </tr>\n",
              "    <tr>\n",
              "      <th>3</th>\n",
              "      <td>1</td>\n",
              "      <td>4</td>\n",
              "      <td>90</td>\n",
              "    </tr>\n",
              "    <tr>\n",
              "      <th>4</th>\n",
              "      <td>1</td>\n",
              "      <td>5</td>\n",
              "      <td>295</td>\n",
              "    </tr>\n",
              "    <tr>\n",
              "      <th>...</th>\n",
              "      <td>...</td>\n",
              "      <td>...</td>\n",
              "      <td>...</td>\n",
              "    </tr>\n",
              "    <tr>\n",
              "      <th>175</th>\n",
              "      <td>20</td>\n",
              "      <td>5</td>\n",
              "      <td>211</td>\n",
              "    </tr>\n",
              "    <tr>\n",
              "      <th>176</th>\n",
              "      <td>20</td>\n",
              "      <td>6</td>\n",
              "      <td>269</td>\n",
              "    </tr>\n",
              "    <tr>\n",
              "      <th>177</th>\n",
              "      <td>20</td>\n",
              "      <td>7</td>\n",
              "      <td>301</td>\n",
              "    </tr>\n",
              "    <tr>\n",
              "      <th>178</th>\n",
              "      <td>20</td>\n",
              "      <td>8</td>\n",
              "      <td>108</td>\n",
              "    </tr>\n",
              "    <tr>\n",
              "      <th>179</th>\n",
              "      <td>20</td>\n",
              "      <td>9</td>\n",
              "      <td>100</td>\n",
              "    </tr>\n",
              "  </tbody>\n",
              "</table>\n",
              "<p>180 rows × 3 columns</p>\n",
              "</div>"
            ],
            "text/plain": [
              "     Cliente i.1  Bodega j.1  Dist_{ij}\n",
              "0              1           1        126\n",
              "1              1           2        123\n",
              "2              1           3        209\n",
              "3              1           4         90\n",
              "4              1           5        295\n",
              "..           ...         ...        ...\n",
              "175           20           5        211\n",
              "176           20           6        269\n",
              "177           20           7        301\n",
              "178           20           8        108\n",
              "179           20           9        100\n",
              "\n",
              "[180 rows x 3 columns]"
            ]
          },
          "metadata": {
            "tags": []
          },
          "execution_count": 10
        }
      ]
    },
    {
      "cell_type": "code",
      "metadata": {
        "colab": {
          "base_uri": "https://localhost:8080/"
        },
        "id": "lGucEFZcoDHu",
        "outputId": "07c88c8a-f790-4124-f858-d39ca70134a9"
      },
      "source": [
        "# Este df lo voy a pasar a un diccionario, para interactuar mas facilmente con los datos\n",
        "dist_ij = {}\n",
        "for i in range(len(df)):\n",
        "  dist_ij[(df['Cliente i.1'][i], df['Bodega j.1'][i])] = float(df['Dist_{ij}'][i])\n",
        "print(dist_ij)\n",
        "print(type(dist_ij[(1, 1)]))"
      ],
      "execution_count": null,
      "outputs": [
        {
          "output_type": "stream",
          "text": [
            "{(1, 1): 126.0, (1, 2): 123.0, (1, 3): 209.0, (1, 4): 90.0, (1, 5): 295.0, (1, 6): 261.0, (1, 7): 266.0, (1, 8): 107.0, (1, 9): 66.0, (2, 1): 162.0, (2, 2): 50.0, (2, 3): 136.0, (2, 4): 164.0, (2, 5): 233.0, (2, 6): 124.0, (2, 7): 109.0, (2, 8): 136.0, (2, 9): 196.0, (3, 1): 63.0, (3, 2): 172.0, (3, 3): 123.0, (3, 4): 93.0, (3, 5): 149.0, (3, 6): 216.0, (3, 7): 253.0, (3, 8): 91.0, (3, 9): 132.0, (4, 1): 243.0, (4, 2): 140.0, (4, 3): 181.0, (4, 4): 251.0, (4, 5): 261.0, (4, 6): 114.0, (4, 7): 69.0, (4, 8): 221.0, (4, 9): 287.0, (5, 1): 78.0, (5, 2): 161.0, (5, 3): 187.0, (5, 4): 51.0, (5, 5): 248.0, (5, 6): 267.0, (5, 7): 289.0, (5, 8): 85.0, (5, 9): 32.0, (6, 1): 101.0, (6, 2): 14.0, (6, 3): 107.0, (6, 4): 102.0, (6, 5): 206.0, (6, 6): 140.0, (6, 7): 147.0, (6, 8): 74.0, (6, 9): 139.0, (7, 1): 203.0, (7, 2): 151.0, (7, 3): 102.0, (7, 4): 227.0, (7, 5): 153.0, (7, 6): 10.0, (7, 7): 47.0, (7, 8): 192.0, (7, 9): 276.0, (8, 1): 152.0, (8, 2): 136.0, (8, 3): 43.0, (8, 4): 182.0, (8, 5): 101.0, (8, 6): 56.0, (8, 7): 102.0, (8, 8): 148.0, (8, 9): 234.0, (9, 1): 190.0, (9, 2): 89.0, (9, 3): 204.0, (9, 4): 174.0, (9, 5): 304.0, (9, 6): 205.0, (9, 7): 186.0, (9, 8): 161.0, (9, 9): 185.0, (10, 1): 119.0, (10, 2): 34.0, (10, 3): 147.0, (10, 4): 107.0, (10, 5): 245.0, (10, 6): 175.0, (10, 7): 174.0, (10, 8): 90.0, (10, 9): 129.0, (11, 1): 125.0, (11, 2): 14.0, (11, 3): 131.0, (11, 4): 120.0, (11, 5): 231.0, (11, 6): 151.0, (11, 7): 148.0, (11, 8): 97.0, (11, 9): 149.0, (12, 1): 79.0, (12, 2): 36.0, (12, 3): 100.0, (12, 4): 81.0, (12, 5): 196.0, (12, 6): 149.0, (12, 7): 161.0, (12, 8): 52.0, (12, 9): 121.0, (13, 1): 148.0, (13, 2): 51.0, (13, 3): 168.0, (13, 4): 134.0, (13, 5): 267.0, (13, 6): 183.0, (13, 7): 174.0, (13, 8): 119.0, (13, 9): 151.0, (14, 1): 152.0, (14, 2): 82.0, (14, 3): 80.0, (14, 4): 169.0, (14, 5): 170.0, (14, 6): 59.0, (14, 7): 69.0, (14, 8): 135.0, (14, 9): 214.0, (15, 1): 71.0, (15, 2): 70.0, (15, 3): 57.0, (15, 4): 93.0, (15, 5): 152.0, (15, 6): 125.0, (15, 7): 149.0, (15, 8): 58.0, (15, 9): 143.0, (16, 1): 112.0, (16, 2): 123.0, (16, 3): 199.0, (16, 4): 75.0, (16, 5): 283.0, (16, 6): 257.0, (16, 7): 265.0, (16, 8): 95.0, (16, 9): 49.0, (17, 1): 211.0, (17, 2): 240.0, (17, 3): 124.0, (17, 4): 249.0, (17, 5): 39.0, (17, 6): 150.0, (17, 7): 197.0, (17, 8): 221.0, (17, 9): 301.0, (18, 1): 71.0, (18, 2): 186.0, (18, 3): 155.0, (18, 4): 87.0, (18, 5): 183.0, (18, 6): 247.0, (18, 7): 280.0, (18, 8): 99.0, (18, 9): 114.0, (19, 1): 116.0, (19, 2): 42.0, (19, 3): 151.0, (19, 4): 101.0, (19, 5): 248.0, (19, 6): 183.0, (19, 7): 183.0, (19, 8): 87.0, (19, 9): 120.0, (20, 1): 83.0, (20, 2): 196.0, (20, 3): 179.0, (20, 4): 88.0, (20, 5): 211.0, (20, 6): 269.0, (20, 7): 301.0, (20, 8): 108.0, (20, 9): 100.0}\n",
            "<class 'float'>\n"
          ],
          "name": "stdout"
        }
      ]
    },
    {
      "cell_type": "code",
      "metadata": {
        "id": "X8L2mpopp7fN"
      },
      "source": [
        "# Coloquemos el resto de los parametros\n",
        "Cbenc = 1\n",
        "Cinst_j = {1:400,\n",
        "           2:250,\n",
        "           3:100,\n",
        "           4:300,\n",
        "           5:150,\n",
        "           6:200,\n",
        "           7:120,\n",
        "           8:600,\n",
        "           9:700}"
      ],
      "execution_count": null,
      "outputs": []
    },
    {
      "cell_type": "code",
      "metadata": {
        "colab": {
          "base_uri": "https://localhost:8080/"
        },
        "id": "qb8IE_jyq4sf",
        "outputId": "e36ca73e-5136-4d20-d2ce-0c873cc51a9d"
      },
      "source": [
        "# Ahora armemos el modelo\n",
        "\n",
        "N_clientes = 20\n",
        "N_bodegas = 9\n",
        "\n",
        "m = Model()\n",
        "\n",
        "# Variables\n",
        "X = {}\n",
        "for j in range(N_bodegas):\n",
        "  X[j] = m.addVar(vtype=GRB.BINARY)\n",
        "\n",
        "Y = {}\n",
        "for i in range(N_clientes):\n",
        "  for j in range(N_bodegas):\n",
        "    Y[i, j] = m.addVar(vtype=GRB.CONTINUOUS, lb=0, ub=1)\n",
        "\n",
        "Z = m.addVar(vtype=GRB.CONTINUOUS)\n",
        "\n",
        "# Restricciones\n",
        "\n",
        "## Satisfacer la demanda\n",
        "for i in range(N_clientes):\n",
        "  m.addConstr(quicksum(Y[i, j] for j in range(N_bodegas)) == 1)\n",
        "\n",
        "## No transportar si no se encuentra habilitado la bodega\n",
        "for i in range(N_clientes):\n",
        "  for j in range(N_bodegas):\n",
        "    m.addConstr(Y[i, j] <= X[j])\n",
        "\n",
        "# Asignar objetivo\n",
        "m.addConstr(Z == \n",
        "            quicksum(Cinst[j+1]*X[j] for j in range(N_bodegas)) + \n",
        "            quicksum(Cbenc*dist_ij[(i+1, j+1)]*Y[i, j] for i in range(N_clientes) for j in range(N_bodegas)))\n",
        "m.setObjective(Z, GRB.MINIMIZE)\n",
        "m.optimize() \n"
      ],
      "execution_count": null,
      "outputs": [
        {
          "output_type": "stream",
          "text": [
            "Gurobi Optimizer version 9.1.2 build v9.1.2rc0 (linux64)\n",
            "Thread count: 1 physical cores, 2 logical processors, using up to 2 threads\n",
            "Optimize a model with 201 rows, 190 columns and 730 nonzeros\n",
            "Model fingerprint: 0xe47ed68a\n",
            "Variable types: 181 continuous, 9 integer (9 binary)\n",
            "Coefficient statistics:\n",
            "  Matrix range     [1e+00, 7e+02]\n",
            "  Objective range  [1e+00, 1e+00]\n",
            "  Bounds range     [1e+00, 1e+00]\n",
            "  RHS range        [1e+00, 1e+00]\n",
            "Presolve removed 1 rows and 1 columns\n",
            "Presolve time: 0.00s\n",
            "Presolved: 200 rows, 189 columns, 540 nonzeros\n",
            "Variable types: 180 continuous, 9 integer (9 binary)\n",
            "\n",
            "Root relaxation: objective 1.993000e+03, 40 iterations, 0.00 seconds\n",
            "\n",
            "    Nodes    |    Current Node    |     Objective Bounds      |     Work\n",
            " Expl Unexpl |  Obj  Depth IntInf | Incumbent    BestBd   Gap | It/Node Time\n",
            "\n",
            "*    0     0               0    1993.0000000 1993.00000  0.00%     -    0s\n",
            "\n",
            "Explored 0 nodes (40 simplex iterations) in 0.05 seconds\n",
            "Thread count was 2 (of 2 available processors)\n",
            "\n",
            "Solution count 1: 1993 \n",
            "\n",
            "Optimal solution found (tolerance 1.00e-04)\n",
            "Best objective 1.993000000000e+03, best bound 1.993000000000e+03, gap 0.0000%\n"
          ],
          "name": "stdout"
        }
      ]
    },
    {
      "cell_type": "code",
      "metadata": {
        "colab": {
          "base_uri": "https://localhost:8080/"
        },
        "id": "iYYBPho2Uz1k",
        "outputId": "70544ec4-f61c-4141-b4fd-b41b8563292b"
      },
      "source": [
        "# Ahora, para mirar cuales son las variables que se utilizan para generar este resultado\n",
        "## Resultados varaible X\n",
        "for j in range(N_bodegas):\n",
        "  if X[j].x > 0:\n",
        "    print('X{}: {}'.format(j+1, X[j].x))"
      ],
      "execution_count": null,
      "outputs": [
        {
          "output_type": "stream",
          "text": [
            "X2: 1.0\n",
            "X3: 1.0\n",
            "X4: 1.0\n",
            "X7: 1.0\n"
          ],
          "name": "stdout"
        }
      ]
    },
    {
      "cell_type": "code",
      "metadata": {
        "colab": {
          "base_uri": "https://localhost:8080/"
        },
        "id": "jPhXtd2UWXg6",
        "outputId": "a76c5082-f641-4f4d-ebd6-1d9411a5ff99"
      },
      "source": [
        "## Resultados varaible Y\n",
        "for i in range(N_clientes):\n",
        "  for j in range(N_bodegas):\n",
        "    if Y[i, j].x > 0:\n",
        "      print('Y[{}, {}]: {}'.format(i+1, j+1, Y[i, j].x))\n"
      ],
      "execution_count": null,
      "outputs": [
        {
          "output_type": "stream",
          "text": [
            "Y[1, 4]: 1.0\n",
            "Y[2, 2]: 1.0\n",
            "Y[3, 4]: 1.0\n",
            "Y[4, 7]: 1.0\n",
            "Y[5, 4]: 1.0\n",
            "Y[6, 2]: 1.0\n",
            "Y[7, 7]: 1.0\n",
            "Y[8, 3]: 1.0\n",
            "Y[9, 2]: 1.0\n",
            "Y[10, 2]: 1.0\n",
            "Y[11, 2]: 1.0\n",
            "Y[12, 2]: 1.0\n",
            "Y[13, 2]: 1.0\n",
            "Y[14, 7]: 1.0\n",
            "Y[15, 3]: 1.0\n",
            "Y[16, 4]: 1.0\n",
            "Y[17, 3]: 1.0\n",
            "Y[18, 4]: 1.0\n",
            "Y[19, 2]: 1.0\n",
            "Y[20, 4]: 1.0\n"
          ],
          "name": "stdout"
        }
      ]
    }
  ]
}