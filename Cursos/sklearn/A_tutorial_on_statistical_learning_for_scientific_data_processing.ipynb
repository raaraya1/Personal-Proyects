{
  "nbformat": 4,
  "nbformat_minor": 0,
  "metadata": {
    "colab": {
      "name": "A tutorial on statistical-learning for scientific data processing.ipynb",
      "provenance": [],
      "collapsed_sections": [],
      "authorship_tag": "ABX9TyO6ZzjG4L4sVnUWV7aUKeNs",
      "include_colab_link": true
    },
    "kernelspec": {
      "name": "python3",
      "display_name": "Python 3"
    },
    "language_info": {
      "name": "python"
    }
  },
  "cells": [
    {
      "cell_type": "markdown",
      "metadata": {
        "id": "view-in-github",
        "colab_type": "text"
      },
      "source": [
        "<a href=\"https://colab.research.google.com/github/raaraya1/Personal-Proyects/blob/main/Cursos/sklearn/A_tutorial_on_statistical_learning_for_scientific_data_processing.ipynb\" target=\"_parent\"><img src=\"https://colab.research.google.com/assets/colab-badge.svg\" alt=\"Open In Colab\"/></a>"
      ]
    },
    {
      "cell_type": "markdown",
      "source": [
        "# **Statistical learning**"
      ],
      "metadata": {
        "id": "r5zBLPXiACv4"
      }
    },
    {
      "cell_type": "markdown",
      "source": [
        "Machine learning es una tecnica que esta cobrando importancia, en concordancia con el crecimiento del tamaño de las bases de datos. Los problemas van desde predecir sobre un conjunto de observaciones, clasificarlas o aprender a estructurar esta informacion.\n",
        "\n",
        "En este tutorial se tiene por objetivo explorar metodos de aprendizaje y el uso de tecnicas de machine learning para extraer inferencias estadisticas."
      ],
      "metadata": {
        "id": "OR_lsLacAQAY"
      }
    },
    {
      "cell_type": "markdown",
      "source": [
        "## **Statistical learning: the setting and the estimator object in scikit-learn**"
      ],
      "metadata": {
        "id": "_VrfrJL4BP_u"
      }
    },
    {
      "cell_type": "markdown",
      "source": [
        "### **Datasets**"
      ],
      "metadata": {
        "id": "3jjqLUh7BbFw"
      }
    },
    {
      "cell_type": "markdown",
      "source": [
        "sklearn trata con informacion que esencialmente se encuentra representada como **2D arrays**. Estos pueden ser entendidos como una lista multi-dimensional en la cual en la primera entrada se almacenan las muestras (**samples**) y en la segunda las caracteristicas (**features**)."
      ],
      "metadata": {
        "id": "w0UdvgsdKdaf"
      }
    },
    {
      "cell_type": "code",
      "source": [
        "# A simple example shipped with scikit-learn: iris dataset\n",
        "from sklearn import datasets\n",
        "iris = datasets.load_iris()\n",
        "data = iris.data\n",
        "data.shape\n",
        "\n",
        "# Aqui podemos observar que el set de datos contiene 150 observaciones\n",
        "# y para cada observacion se tiene un set de 4 caracteristicas"
      ],
      "metadata": {
        "colab": {
          "base_uri": "https://localhost:8080/"
        },
        "id": "JwL8GA3XLPoP",
        "outputId": "dddde248-3388-497c-81e8-388ca991e820"
      },
      "execution_count": null,
      "outputs": [
        {
          "output_type": "execute_result",
          "data": {
            "text/plain": [
              "(150, 4)"
            ]
          },
          "metadata": {},
          "execution_count": 1
        }
      ]
    },
    {
      "cell_type": "code",
      "source": [
        "# Descripcion del set de datos\n",
        "print(iris.DESCR)\n"
      ],
      "metadata": {
        "colab": {
          "base_uri": "https://localhost:8080/"
        },
        "id": "ijfFojWZLzp6",
        "outputId": "2fdd631d-e43d-4142-de7b-54945ccd9bf1"
      },
      "execution_count": null,
      "outputs": [
        {
          "output_type": "stream",
          "name": "stdout",
          "text": [
            ".. _iris_dataset:\n",
            "\n",
            "Iris plants dataset\n",
            "--------------------\n",
            "\n",
            "**Data Set Characteristics:**\n",
            "\n",
            "    :Number of Instances: 150 (50 in each of three classes)\n",
            "    :Number of Attributes: 4 numeric, predictive attributes and the class\n",
            "    :Attribute Information:\n",
            "        - sepal length in cm\n",
            "        - sepal width in cm\n",
            "        - petal length in cm\n",
            "        - petal width in cm\n",
            "        - class:\n",
            "                - Iris-Setosa\n",
            "                - Iris-Versicolour\n",
            "                - Iris-Virginica\n",
            "                \n",
            "    :Summary Statistics:\n",
            "\n",
            "    ============== ==== ==== ======= ===== ====================\n",
            "                    Min  Max   Mean    SD   Class Correlation\n",
            "    ============== ==== ==== ======= ===== ====================\n",
            "    sepal length:   4.3  7.9   5.84   0.83    0.7826\n",
            "    sepal width:    2.0  4.4   3.05   0.43   -0.4194\n",
            "    petal length:   1.0  6.9   3.76   1.76    0.9490  (high!)\n",
            "    petal width:    0.1  2.5   1.20   0.76    0.9565  (high!)\n",
            "    ============== ==== ==== ======= ===== ====================\n",
            "\n",
            "    :Missing Attribute Values: None\n",
            "    :Class Distribution: 33.3% for each of 3 classes.\n",
            "    :Creator: R.A. Fisher\n",
            "    :Donor: Michael Marshall (MARSHALL%PLU@io.arc.nasa.gov)\n",
            "    :Date: July, 1988\n",
            "\n",
            "The famous Iris database, first used by Sir R.A. Fisher. The dataset is taken\n",
            "from Fisher's paper. Note that it's the same as in R, but not as in the UCI\n",
            "Machine Learning Repository, which has two wrong data points.\n",
            "\n",
            "This is perhaps the best known database to be found in the\n",
            "pattern recognition literature.  Fisher's paper is a classic in the field and\n",
            "is referenced frequently to this day.  (See Duda & Hart, for example.)  The\n",
            "data set contains 3 classes of 50 instances each, where each class refers to a\n",
            "type of iris plant.  One class is linearly separable from the other 2; the\n",
            "latter are NOT linearly separable from each other.\n",
            "\n",
            ".. topic:: References\n",
            "\n",
            "   - Fisher, R.A. \"The use of multiple measurements in taxonomic problems\"\n",
            "     Annual Eugenics, 7, Part II, 179-188 (1936); also in \"Contributions to\n",
            "     Mathematical Statistics\" (John Wiley, NY, 1950).\n",
            "   - Duda, R.O., & Hart, P.E. (1973) Pattern Classification and Scene Analysis.\n",
            "     (Q327.D83) John Wiley & Sons.  ISBN 0-471-22361-1.  See page 218.\n",
            "   - Dasarathy, B.V. (1980) \"Nosing Around the Neighborhood: A New System\n",
            "     Structure and Classification Rule for Recognition in Partially Exposed\n",
            "     Environments\".  IEEE Transactions on Pattern Analysis and Machine\n",
            "     Intelligence, Vol. PAMI-2, No. 1, 67-71.\n",
            "   - Gates, G.W. (1972) \"The Reduced Nearest Neighbor Rule\".  IEEE Transactions\n",
            "     on Information Theory, May 1972, 431-433.\n",
            "   - See also: 1988 MLC Proceedings, 54-64.  Cheeseman et al\"s AUTOCLASS II\n",
            "     conceptual clustering system finds 3 classes in the data.\n",
            "   - Many, many more ...\n"
          ]
        }
      ]
    },
    {
      "cell_type": "markdown",
      "source": [
        "Cuando los datos no se encuentran ordenados en esta estructura **(n_samples, n_features)**, es deber nuestro arreglar los datos para que sigan esta estructura. Miremos el siguiente caso:"
      ],
      "metadata": {
        "id": "DCEKwGuAMAXk"
      }
    },
    {
      "cell_type": "code",
      "source": [
        "# Estructura presente inicialmente en los datos\n",
        "digits = datasets.load_digits()\n",
        "digits.images.shape"
      ],
      "metadata": {
        "colab": {
          "base_uri": "https://localhost:8080/"
        },
        "id": "Rm3HldBCMV5E",
        "outputId": "6b6a0ede-901c-4307-c5ba-c5d90924d9d8"
      },
      "execution_count": null,
      "outputs": [
        {
          "output_type": "execute_result",
          "data": {
            "text/plain": [
              "(1797, 8, 8)"
            ]
          },
          "metadata": {},
          "execution_count": 3
        }
      ]
    },
    {
      "cell_type": "code",
      "source": [
        "# Representacion de la informacion contenida en los datos\n",
        "import matplotlib.pyplot as plt\n",
        "plt.imshow(digits.images[-1], cmap=plt.cm.gray_r)"
      ],
      "metadata": {
        "colab": {
          "base_uri": "https://localhost:8080/",
          "height": 282
        },
        "id": "jLIIZ_puMl87",
        "outputId": "1fdef59b-0826-4cd2-f6b4-028752b705de"
      },
      "execution_count": null,
      "outputs": [
        {
          "output_type": "execute_result",
          "data": {
            "text/plain": [
              "<matplotlib.image.AxesImage at 0x7f77263eaf50>"
            ]
          },
          "metadata": {},
          "execution_count": 5
        },
        {
          "output_type": "display_data",
          "data": {
            "image/png": "[encoded data removed]",
            "text/plain": [
              "<Figure size 432x288 with 1 Axes>"
            ]
          },
          "metadata": {
            "needs_background": "light"
          }
        }
      ]
    },
    {
      "cell_type": "code",
      "source": [
        "# Para arreglar esta estructura deberemos hacer lo siguiente\n",
        "n_samples = digits.images.shape[0] # 1797 datos\n",
        "data = digits.images.reshape(n_samples, -1) # pasamos de 3 dim a 2 dim\n",
        "data.shape # (1797, 8, 8) -> (1797, 8x8)"
      ],
      "metadata": {
        "colab": {
          "base_uri": "https://localhost:8080/"
        },
        "id": "rjXBM9FoNyep",
        "outputId": "be07b5a0-8c87-4665-cf37-540ee1aab929"
      },
      "execution_count": null,
      "outputs": [
        {
          "output_type": "execute_result",
          "data": {
            "text/plain": [
              "(1797, 64)"
            ]
          },
          "metadata": {},
          "execution_count": 6
        }
      ]
    },
    {
      "cell_type": "markdown",
      "source": [
        "### **Estimators objects**"
      ],
      "metadata": {
        "id": "5nQGsCdBBfAU"
      }
    },
    {
      "cell_type": "markdown",
      "source": [
        "**Fitting data**: La unidad principal de la biblioteca de `sklearn` es el **estimador**. Un estimador es un objeto que puede aprender de los datos y tiene la capacidad de realizar **clasificaciones, regresiones o agrupaciones** o realizar transformaciones que **extraigan o filtren las caracteristicas mas utiles de los datos**.\n",
        "\n",
        "Todos los estimadores tienen integrado el metodo `fit` el cual en la mayoria de los casos recibe como input 2d array.\n",
        "\n",
        "```python\n",
        "estimator.fit(data)\n",
        "```\n",
        "\n",
        "**Estimator parameters**: Todos los parametros de un estimador pueden ser definidos en una instancia o por la modificacion de un atributo correspondiente:\n",
        "\n",
        "```python\n",
        "estimator = Estimator(param1=1, param2=2)\n",
        "estimator.param1\n",
        ">> 1\n",
        "```\n",
        "\n",
        "Estimated parameters: Cuando los datos son ajustados con un estimador, los parametros son definidos a mano. Todos los parametros estimados son atributos del estimador y se pueden acceder a ellos de la siguiente manera:\n",
        "\n",
        "```python\n",
        "estimator.estimated_param_\n",
        "```"
      ],
      "metadata": {
        "id": "fm2amYIJOhTk"
      }
    },
    {
      "cell_type": "markdown",
      "source": [
        "## **Supervised learning: predicting an output variable from high-dimensional observations**"
      ],
      "metadata": {
        "id": "lts8ruNBBl8Q"
      }
    },
    {
      "cell_type": "markdown",
      "source": [
        "**Supervised learning** consiste en apreder sobre el nexo entre dos conjuntos de datos: \n",
        "- Las observaciones (X)\n",
        "- La varaibles externa y, sobre la cual generalmente se pretende predecir (target o label)\n",
        "\n",
        "Todos los estimadores de la biblioteca de sklearn tiene implementado el metodo `fit(X, y)` para ajustar el modelo a los datos y el metodo `predict(X)` para etiquetar las observaciones X.\n"
      ],
      "metadata": {
        "id": "JlYSg7XwAGe2"
      }
    },
    {
      "cell_type": "markdown",
      "source": [
        "**Classification and regression**\n",
        "\n",
        "Si la tarea sobre la prediccion consiste en clasificar las observaciones en un numero finito de \"etiquetas\" (en otras palabras, nombrar el objeto mostrado), entonces se dice que estamos hablando de una tarea de **Clasificacion**. Por otro lado, si el prediccion es sobre una variable continua, entonces estamos hablando de una tarea de **regresion**.\n",
        "\n"
      ],
      "metadata": {
        "id": "38H_tXwoBFYh"
      }
    },
    {
      "cell_type": "markdown",
      "source": [
        "### **Nearest neighbor and the curse of dimensionality**\n",
        "\n"
      ],
      "metadata": {
        "id": "l5PoCwO9ByI_"
      }
    },
    {
      "cell_type": "markdown",
      "source": [
        "**Classifying irises**\n",
        "\n",
        "La base de datos **iris** tiene una tarea de clasificacion asociada, Asi, el objetivo es identificar 3 tipos diferentes de lirios (Setosa, Versicolour y Virginica) a traves del tipo de petalo y el ancho y largo del sepalo."
      ],
      "metadata": {
        "id": "hyy5g97NB3fb"
      }
    },
    {
      "cell_type": "code",
      "source": [
        "import numpy as np\n",
        "from sklearn import datasets\n",
        "iris_X, iris_y = datasets.load_iris(return_X_y=True)\n",
        "np.unique(iris_y)"
      ],
      "metadata": {
        "colab": {
          "base_uri": "https://localhost:8080/"
        },
        "id": "nRbZft7MCtyg",
        "outputId": "55ec90f8-060f-44a7-8c2f-b017291aea8c"
      },
      "execution_count": null,
      "outputs": [
        {
          "output_type": "execute_result",
          "data": {
            "text/plain": [
              "array([0, 1, 2])"
            ]
          },
          "metadata": {},
          "execution_count": 1
        }
      ]
    },
    {
      "cell_type": "markdown",
      "source": [
        "**Visualizacion de los datos (PCA)**"
      ],
      "metadata": {
        "id": "-nDmMVyhEAMc"
      }
    },
    {
      "cell_type": "code",
      "source": [
        "# Importamos las bibliotecas\n",
        "from sklearn import datasets\n",
        "from sklearn.decomposition import PCA\n",
        "import pandas as pd\n",
        "import plotly.express as px"
      ],
      "metadata": {
        "id": "7FWoTz1-IlwS"
      },
      "execution_count": null,
      "outputs": []
    },
    {
      "cell_type": "code",
      "source": [
        "# Cargamos los datos\n",
        "iris = datasets.load_iris()\n",
        "\n",
        "# Realizamos analisis de componentes principales\n",
        "X_pca = PCA(n_components=3).fit_transform(iris.data)\n",
        "y = [iris.target_names[i] for i in iris.target]"
      ],
      "metadata": {
        "id": "kciLz7hxFY45"
      },
      "execution_count": null,
      "outputs": []
    },
    {
      "cell_type": "code",
      "source": [
        "# Cargamos los resultados a un DataFrame\n",
        "df = pd.DataFrame(X_pca)\n",
        "df['iris class'] = y\n",
        "df.columns=['1st componente', '2nd componente', '3rd componente', 'iris class']\n",
        "df.head()"
      ],
      "metadata": {
        "colab": {
          "base_uri": "https://localhost:8080/",
          "height": 206
        },
        "id": "CQ5ihwSvF1nr",
        "outputId": "d0a12a2d-136d-4e04-cb59-099b62fc79cd"
      },
      "execution_count": null,
      "outputs": [
        {
          "output_type": "execute_result",
          "data": {
            "text/html": [
              "<div>\n",
              "<style scoped>\n",
              "    .dataframe tbody tr th:only-of-type {\n",
              "        vertical-align: middle;\n",
              "    }\n",
              "\n",
              "    .dataframe tbody tr th {\n",
              "        vertical-align: top;\n",
              "    }\n",
              "\n",
              "    .dataframe thead th {\n",
              "        text-align: right;\n",
              "    }\n",
              "</style>\n",
              "<table border=\"1\" class=\"dataframe\">\n",
              "  <thead>\n",
              "    <tr style=\"text-align: right;\">\n",
              "      <th></th>\n",
              "      <th>1st componente</th>\n",
              "      <th>2nd componente</th>\n",
              "      <th>3rd componente</th>\n",
              "      <th>iris class</th>\n",
              "    </tr>\n",
              "  </thead>\n",
              "  <tbody>\n",
              "    <tr>\n",
              "      <th>0</th>\n",
              "      <td>-2.684126</td>\n",
              "      <td>0.319397</td>\n",
              "      <td>-0.027915</td>\n",
              "      <td>setosa</td>\n",
              "    </tr>\n",
              "    <tr>\n",
              "      <th>1</th>\n",
              "      <td>-2.714142</td>\n",
              "      <td>-0.177001</td>\n",
              "      <td>-0.210464</td>\n",
              "      <td>setosa</td>\n",
              "    </tr>\n",
              "    <tr>\n",
              "      <th>2</th>\n",
              "      <td>-2.888991</td>\n",
              "      <td>-0.144949</td>\n",
              "      <td>0.017900</td>\n",
              "      <td>setosa</td>\n",
              "    </tr>\n",
              "    <tr>\n",
              "      <th>3</th>\n",
              "      <td>-2.745343</td>\n",
              "      <td>-0.318299</td>\n",
              "      <td>0.031559</td>\n",
              "      <td>setosa</td>\n",
              "    </tr>\n",
              "    <tr>\n",
              "      <th>4</th>\n",
              "      <td>-2.728717</td>\n",
              "      <td>0.326755</td>\n",
              "      <td>0.090079</td>\n",
              "      <td>setosa</td>\n",
              "    </tr>\n",
              "  </tbody>\n",
              "</table>\n",
              "</div>"
            ],
            "text/plain": [
              "   1st componente  2nd componente  3rd componente iris class\n",
              "0       -2.684126        0.319397       -0.027915     setosa\n",
              "1       -2.714142       -0.177001       -0.210464     setosa\n",
              "2       -2.888991       -0.144949        0.017900     setosa\n",
              "3       -2.745343       -0.318299        0.031559     setosa\n",
              "4       -2.728717        0.326755        0.090079     setosa"
            ]
          },
          "metadata": {},
          "execution_count": 21
        }
      ]
    },
    {
      "cell_type": "code",
      "source": [
        "# Graficamos los resultados\n",
        "fig = px.scatter_3d(df, x='1st componente', y='2nd componente', z='3rd componente', color='iris class')\n",
        "fig.show()  "
      ],
      "metadata": {
        "colab": {
          "base_uri": "https://localhost:8080/",
          "height": 542
        },
        "id": "Hqleb9rdE-VO",
        "outputId": "83fedbc7-f209-450f-aa05-1752d0423071"
      },
      "execution_count": null,
      "outputs": [
        {
          "output_type": "display_data",
          "data": {
            "text/html": [
              "<html>\n",
              "<head><meta charset=\"utf-8\" /></head>\n",
              "<body>\n",
              "    <div>\n",
              "            <script src=\"https://cdnjs.cloudflare.com/ajax/libs/mathjax/2.7.5/MathJax.js?config=TeX-AMS-MML_SVG\"></script><script type=\"text/javascript\">if (window.MathJax) {MathJax.Hub.Config({SVG: {font: \"STIX-Web\"}});}</script>\n",
              "                <script type=\"text/javascript\">window.PlotlyConfig = {MathJaxConfig: 'local'};</script>\n",
              "        <script src=\"https://cdn.plot.ly/plotly-latest.min.js\"></script>    \n",
              "            <div id=\"24def8a8-cbe6-46d5-8f25-2464fe044304\" class=\"plotly-graph-div\" style=\"height:525px; width:100%;\"></div>\n",
              "            <script type=\"text/javascript\">\n",
              "                \n",
              "                    window.PLOTLYENV=window.PLOTLYENV || {};\n",
              "                    \n",
              "                if (document.getElementById(\"24def8a8-cbe6-46d5-8f25-2464fe044304\")) {\n",
              "                    Plotly.newPlot(\n",
              "                        '24def8a8-cbe6-46d5-8f25-2464fe044304',\n",
              "                        [{\"hoverlabel\": {\"namelength\": 0}, \"hovertemplate\": \"iris class=setosa<br>1st componente=%{x}<br>2nd componente=%{y}<br>3rd componente=%{z}\", \"legendgroup\": \"iris class=setosa\", \"marker\": {\"color\": \"#636efa\", \"symbol\": \"circle\"}, \"mode\": \"markers\", \"name\": \"iris class=setosa\", \"scene\": \"scene\", \"showlegend\": true, \"type\": \"scatter3d\", \"x\": [-2.6841256259695383, -2.714141687294327, -2.8889905690592976, -2.74534285564141, -2.7287165365545314, -2.280859632844493, -2.820537750740609, -2.626144973146634, -2.8863827317805537, -2.672755797820954, -2.5069470906518565, -2.6127552309087227, -2.786109266188018, -3.223803743865653, -2.64475038994203, -2.3860390335311346, -2.623527875224427, -2.6482967062543823, -2.1998203236175806, -2.587986399878769, -2.310256215242519, -2.543705228757157, -3.215939415648611, -2.3027331822262074, -2.3557540491237723, -2.506668906925823, -2.4688200731213397, -2.5623199061960165, -2.639534715384544, -2.6319893872743467, -2.5873984766893527, -2.4099324970021754, -2.6488623343499125, -2.5987367491005884, -2.636926878105799, -2.8662416521186707, -2.6252380498503736, -2.8006841154482225, -2.9805020437819936, -2.590006313968097, -2.770102426027903, -2.8493687050431045, -2.9974065465949082, -2.405614485097487, -2.20948923778368, -2.714451426757708, -2.5381482589989406, -2.8394621676428504, -2.5430857498303934, -2.7033597823351605], \"y\": [0.3193972465851018, -0.1770012250647805, -0.14494942608555741, -0.3182989792519161, 0.3267545129349197, 0.7413304490629148, -0.08946138452856882, 0.1633849596983285, -0.5783117541867038, -0.11377424587411694, 0.6450688986485738, 0.014729939161374375, -0.23511200020171852, -0.5113945870063822, 1.1787646364375748, 1.3380623304006523, 0.8106795141812576, 0.3118491445933546, 0.8728390389622106, 0.5135603087492767, 0.3913459356538939, 0.4329960632790281, 0.13346806953852575, 0.09870885481409933, -0.03728185967738271, -0.14601688049526784, 0.13095148943525015, 0.36771885743419974, 0.3120399802352827, -0.1969612249243146, -0.20431849127413354, 0.4109242642295726, 0.8133638202969619, 1.0931457594493568, -0.12132234786586327, 0.06936447158008043, 0.5993700213794234, 0.2686437377979822, -0.4879583444286154, 0.22904383682701246, 0.26352753374425636, -0.9409605736411966, -0.3419260574716099, 0.18887142893026027, 0.4366631416391876, -0.25020820418521117, 0.5037711444614373, -0.22794556949382766, 0.5794100215198891, 0.10770608249941152], \"z\": [-0.027914827589415846, -0.21046427237824472, 0.017900256320890214, 0.03155937360568084, 0.09007924055120121, 0.16867765820910463, 0.2578921582556179, -0.02187931788671976, 0.020759570264780102, -0.19763272498814657, -0.07531800937912027, 0.10215025995658981, -0.20684443044964465, 0.061299672457099046, -0.1516275236178093, 0.2777769027031357, 0.1381832278807193, 0.02666831561259383, -0.12030552339473106, 0.21366517222471576, -0.23944404324495352, 0.20845723241671496, 0.2923967507452422, 0.039123258742880654, 0.1250210827028788, -0.2534200423446577, 0.09491057609939171, -0.07849420513792431, -0.14590889573002924, 0.04077107906717904, -0.07722298907343585, -0.14552497200513093, 0.22566914972011942, 0.15781081295822003, -0.14304958178613908, -0.1643323066530257, -0.2683503756939364, 0.09369908247980004, 0.0729270456926924, -0.0800823030173261, 0.07724769316110383, -0.3492303773059666, 0.19250921171270968, 0.26386794551341547, 0.2987427457551086, -0.09767814404562956, 0.16670563660480453, 0.08372684903359322, -0.01711502424851342, -0.08929400847882472]}, {\"hoverlabel\": {\"namelength\": 0}, \"hovertemplate\": \"iris class=versicolor<br>1st componente=%{x}<br>2nd componente=%{y}<br>3rd componente=%{z}\", \"legendgroup\": \"iris class=versicolor\", \"marker\": {\"color\": \"#EF553B\", \"symbol\": \"circle\"}, \"mode\": \"markers\", \"name\": \"iris class=versicolor\", \"scene\": \"scene\", \"showlegend\": true, \"type\": \"scatter3d\", \"x\": [1.2848256888583505, 0.9324885323123178, 1.464302321991393, 0.18331771995837023, 1.0881032577116654, 0.6416690842580774, 1.0950606626324462, -0.7491226698296575, 1.0441318260534354, -0.008745404082896239, -0.5078408838353262, 0.511698557447597, 0.2649765081120461, 0.9849345104708899, -0.17392537168176825, 0.9278607809442464, 0.6602837616969369, 0.23610499331767118, 0.9447337280198126, 0.045226976298699505, 1.1162831773500494, 0.3578884179973067, 1.2981838753589132, 0.9217289224470365, 0.7148533259114112, 0.900174373172167, 1.3320244367220875, 1.5578021550660697, 0.8132906498175408, -0.3055837780243095, -0.06812649206836398, -0.18962247237850235, 0.13642871155801448, 1.3800264359155106, 0.5880064433398632, 0.8068583125004116, 1.220690882444352, 0.8150952357665991, 0.24595767988669204, 0.1664132171454566, 0.4648002884037791, 0.8908151984694489, 0.23054802355945495, -0.704531759244664, 0.3569814947010468, 0.331934479945058, 0.37621565106667004, 0.6425760075543373, -0.9064698649488363, 0.2990008418781429], \"y\": [0.685160470467308, 0.3183336382626286, 0.5042628153092037, -0.827959011820632, 0.07459067519771585, -0.41824687156867896, 0.2834682700615287, -1.0048909611818955, 0.2283618997883952, -0.7230819050048342, -1.2659711905263937, -0.10398123549904062, -0.5500364636804749, -0.12481785412635771, -0.2548542087025894, 0.4671794944415102, -0.35296966572385063, -0.33361076682491564, -0.5431455507797666, -0.5838343774718645, -0.08461685219478826, -0.06892503165601417, -0.32778730833391756, -0.18273779362136777, 0.14905594436978442, 0.3285044738343229, 0.24444087601634307, 0.2674954473102543, -0.16335030068761647, -0.36826218975458813, -0.7051721317994654, -0.6802867635281334, -0.31403243824923693, -0.420954287313882, -0.4842874199812184, 0.19418231471315053, 0.40761959361100686, -0.37203705990950203, -0.2685243966220151, -0.6819267248636268, -0.6707115445117207, -0.034464444368269134, -0.4043858480073253, -1.0122482275317142, -0.5049100933371088, -0.21265468378117006, -0.2932189292514192, 0.01773819011241598, -0.756093366599014, -0.3488978064503361], \"z\": [-0.4065680254676944, -0.018014186646240455, -0.33832576498089645, -0.17959139187535547, -0.30775789623478494, 0.04107609082395582, 0.16981023986057506, 0.012302919237595125, -0.4153360847593978, 0.28114143117640966, -0.26981718276885286, 0.130547750240486, -0.6941468301444192, -0.06211440832226125, 0.09045769072570438, -0.3146209758321725, 0.32802752837859506, -0.2711618372510669, -0.4995190464851132, -0.23500210497205606, 0.4596209913591039, -0.22985388760895162, -0.3478543522573084, -0.23107177773628498, -0.3218009372444741, -0.3162090737115743, -0.5217027796644195, -0.16492098374358058, 0.03542450484616002, -0.31849158062304717, -0.24421381043355464, -0.30642056121765854, -0.17724276601124445, 0.01616712752072858, 0.4444334986398076, 0.38896306309821055, -0.237167009883876, -0.6147208425918225, 0.1883668116461946, -0.06000922585533825, -0.02430685571895185, -0.009946932894349012, -0.22941024143915675, -0.10569114890301978, 0.01661717019826532, 0.08320429089567648, 0.07799635108767548, -0.20539496698326096, -0.012599647557890269, 0.010581660495570517]}, {\"hoverlabel\": {\"namelength\": 0}, \"hovertemplate\": \"iris class=virginica<br>1st componente=%{x}<br>2nd componente=%{y}<br>3rd componente=%{z}\", \"legendgroup\": \"iris class=virginica\", \"marker\": {\"color\": \"#00cc96\", \"symbol\": \"circle\"}, \"mode\": \"markers\", \"name\": \"iris class=virginica\", \"scene\": \"scene\", \"showlegend\": true, \"type\": \"scatter3d\", \"x\": [2.531192727803628, 1.415235876703902, 2.616676015995689, 1.971531053043435, 2.3500059200446395, 3.3970387360532572, 0.5212322439097735, 2.9325870689936875, 2.3212288165733774, 2.9167509667860716, 1.661774153636531, 1.8034019529650906, 2.165591796080144, 1.3461635794584512, 1.5859282238732204, 1.9044563747934264, 1.9496890593990688, 3.487055364290278, 3.795645422072883, 1.3007917126376567, 2.4278179130660447, 1.1990011054655605, 3.499920038924537, 1.3887661316914648, 2.275430503872204, 2.61409047381083, 1.2585081605114872, 1.2911320591150204, 2.1236087227738945, 2.388003016003467, 2.8416727781038706, 3.230673661432092, 2.1594376424890496, 1.4441612423295092, 1.7812948100451118, 3.0764999316871866, 2.144243314302081, 1.9050981488140752, 1.1693263393414997, 2.107611143257241, 2.314154705235599, 1.9222678009026, 1.415235876703902, 2.5630133750774746, 2.418746182732824, 1.9441097945469672, 1.5271666148145164, 1.7643457170444283, 1.9009416142184226, 1.3901888619479132], \"y\": [-0.00984910949880229, -0.5749163475464896, 0.3439031513417338, -0.17972790435224575, -0.040260947142531374, 0.550836673028055, -1.1927587270006452, 0.35550000297749573, -0.24383150231069098, 0.782791948815278, 0.2422284077550667, -0.21563761733355566, 0.21627558507402436, -0.7768183473443396, -0.5396407140267188, 0.11925069209197245, 0.04194325966321102, 1.1757393297134284, 0.25732297342047883, -0.7611496364350635, 0.37819601261705027, -0.6060915277579306, 0.46067409891189437, -0.20439932735215113, 0.334990605821677, 0.5609013551230771, -0.17970479472274684, -0.11666865117401169, -0.20972947667730293, 0.4646398047087358, 0.3752691671951027, 1.3741650867930468, -0.21727757866904926, -0.14341341045758108, -0.4999016810781369, 0.6880856775711752, 0.14006420108978965, 0.04930052601302986, -0.16499026202310982, 0.3722878719607972, 0.1836512791690187, 0.4092034668160619, -0.5749163475464896, 0.2778626029291944, 0.3047981978546917, 0.18753230280060498, -0.3753169825804885, 0.07885885451847544, 0.11662795851202334, -0.28266093799055075], \"z\": [0.7601654272458954, 0.29632252738796433, -0.11078788321910907, 0.10842466246342278, 0.2853895631844412, -0.34843755579746755, 0.5456592956468126, -0.42023993576796825, -0.3483043949348453, 0.42333541768255833, 0.242440189725769, -0.03764816823148258, 0.03332664184432514, 0.28190288211846476, 0.6290293264080105, 0.4796398196265905, 0.04418616763012193, 0.1338948739360982, -0.5137677638178045, -0.34499503831341827, 0.2191193243019432, 0.511855508697001, -0.5731822425680029, -0.06452275663126851, 0.2861500911691497, -0.20553452435362507, 0.04584770392724987, 0.23125646265997035, 0.15418002392883, -0.44953019194185, -0.4988980758707691, -0.11454820547541922, 0.20876316713083756, -0.1532338880630902, -0.17287518911342006, -0.335592292434541, 0.7348789367255111, 0.1621802357707369, 0.28183584020848024, 0.027291132141630634, 0.32269374717305893, 0.1135865957993566, 0.29632252738796433, 0.2925695245967427, 0.5044826639771799, 0.17782509063265736, -0.12189817186718195, 0.13048163128784807, 0.723251563489917, 0.36290964808537557]}],\n",
              "                        {\"legend\": {\"tracegroupgap\": 0}, \"margin\": {\"t\": 60}, \"scene\": {\"domain\": {\"x\": [0.0, 1.0], \"y\": [0.0, 1.0]}, \"xaxis\": {\"title\": {\"text\": \"1st componente\"}}, \"yaxis\": {\"title\": {\"text\": \"2nd componente\"}}, \"zaxis\": {\"title\": {\"text\": \"3rd componente\"}}}, \"template\": {\"data\": {\"bar\": [{\"error_x\": {\"color\": \"#2a3f5f\"}, \"error_y\": {\"color\": \"#2a3f5f\"}, \"marker\": {\"line\": {\"color\": \"#E5ECF6\", \"width\": 0.5}}, \"type\": \"bar\"}], \"barpolar\": [{\"marker\": {\"line\": {\"color\": \"#E5ECF6\", \"width\": 0.5}}, \"type\": \"barpolar\"}], \"carpet\": [{\"aaxis\": {\"endlinecolor\": \"#2a3f5f\", \"gridcolor\": \"white\", \"linecolor\": \"white\", \"minorgridcolor\": \"white\", \"startlinecolor\": \"#2a3f5f\"}, \"baxis\": {\"endlinecolor\": \"#2a3f5f\", \"gridcolor\": \"white\", \"linecolor\": \"white\", \"minorgridcolor\": \"white\", \"startlinecolor\": \"#2a3f5f\"}, \"type\": \"carpet\"}], \"choropleth\": [{\"colorbar\": {\"outlinewidth\": 0, \"ticks\": \"\"}, \"type\": \"choropleth\"}], \"contour\": [{\"colorbar\": {\"outlinewidth\": 0, \"ticks\": \"\"}, \"colorscale\": [[0.0, \"#0d0887\"], [0.1111111111111111, \"#46039f\"], [0.2222222222222222, \"#7201a8\"], [0.3333333333333333, \"#9c179e\"], [0.4444444444444444, \"#bd3786\"], [0.5555555555555556, \"#d8576b\"], [0.6666666666666666, \"#ed7953\"], [0.7777777777777778, \"#fb9f3a\"], [0.8888888888888888, \"#fdca26\"], [1.0, \"#f0f921\"]], \"type\": \"contour\"}], \"contourcarpet\": [{\"colorbar\": {\"outlinewidth\": 0, \"ticks\": \"\"}, \"type\": \"contourcarpet\"}], \"heatmap\": [{\"colorbar\": {\"outlinewidth\": 0, \"ticks\": \"\"}, \"colorscale\": [[0.0, \"#0d0887\"], [0.1111111111111111, \"#46039f\"], [0.2222222222222222, \"#7201a8\"], [0.3333333333333333, \"#9c179e\"], [0.4444444444444444, \"#bd3786\"], [0.5555555555555556, \"#d8576b\"], [0.6666666666666666, \"#ed7953\"], [0.7777777777777778, \"#fb9f3a\"], [0.8888888888888888, \"#fdca26\"], [1.0, \"#f0f921\"]], \"type\": \"heatmap\"}], \"heatmapgl\": [{\"colorbar\": {\"outlinewidth\": 0, \"ticks\": \"\"}, \"colorscale\": [[0.0, \"#0d0887\"], [0.1111111111111111, \"#46039f\"], [0.2222222222222222, \"#7201a8\"], [0.3333333333333333, \"#9c179e\"], [0.4444444444444444, \"#bd3786\"], [0.5555555555555556, \"#d8576b\"], [0.6666666666666666, \"#ed7953\"], [0.7777777777777778, \"#fb9f3a\"], [0.8888888888888888, \"#fdca26\"], [1.0, \"#f0f921\"]], \"type\": \"heatmapgl\"}], \"histogram\": [{\"marker\": {\"colorbar\": {\"outlinewidth\": 0, \"ticks\": \"\"}}, \"type\": \"histogram\"}], \"histogram2d\": [{\"colorbar\": {\"outlinewidth\": 0, \"ticks\": \"\"}, \"colorscale\": [[0.0, \"#0d0887\"], [0.1111111111111111, \"#46039f\"], [0.2222222222222222, \"#7201a8\"], [0.3333333333333333, \"#9c179e\"], [0.4444444444444444, \"#bd3786\"], [0.5555555555555556, \"#d8576b\"], [0.6666666666666666, \"#ed7953\"], [0.7777777777777778, \"#fb9f3a\"], [0.8888888888888888, \"#fdca26\"], [1.0, \"#f0f921\"]], \"type\": \"histogram2d\"}], \"histogram2dcontour\": [{\"colorbar\": {\"outlinewidth\": 0, \"ticks\": \"\"}, \"colorscale\": [[0.0, \"#0d0887\"], [0.1111111111111111, \"#46039f\"], [0.2222222222222222, \"#7201a8\"], [0.3333333333333333, \"#9c179e\"], [0.4444444444444444, \"#bd3786\"], [0.5555555555555556, \"#d8576b\"], [0.6666666666666666, \"#ed7953\"], [0.7777777777777778, \"#fb9f3a\"], [0.8888888888888888, \"#fdca26\"], [1.0, \"#f0f921\"]], \"type\": \"histogram2dcontour\"}], \"mesh3d\": [{\"colorbar\": {\"outlinewidth\": 0, \"ticks\": \"\"}, \"type\": \"mesh3d\"}], \"parcoords\": [{\"line\": {\"colorbar\": {\"outlinewidth\": 0, \"ticks\": \"\"}}, \"type\": \"parcoords\"}], \"pie\": [{\"automargin\": true, \"type\": \"pie\"}], \"scatter\": [{\"marker\": {\"colorbar\": {\"outlinewidth\": 0, \"ticks\": \"\"}}, \"type\": \"scatter\"}], \"scatter3d\": [{\"line\": {\"colorbar\": {\"outlinewidth\": 0, \"ticks\": \"\"}}, \"marker\": {\"colorbar\": {\"outlinewidth\": 0, \"ticks\": \"\"}}, \"type\": \"scatter3d\"}], \"scattercarpet\": [{\"marker\": {\"colorbar\": {\"outlinewidth\": 0, \"ticks\": \"\"}}, \"type\": \"scattercarpet\"}], \"scattergeo\": [{\"marker\": {\"colorbar\": {\"outlinewidth\": 0, \"ticks\": \"\"}}, \"type\": \"scattergeo\"}], \"scattergl\": [{\"marker\": {\"colorbar\": {\"outlinewidth\": 0, \"ticks\": \"\"}}, \"type\": \"scattergl\"}], \"scattermapbox\": [{\"marker\": {\"colorbar\": {\"outlinewidth\": 0, \"ticks\": \"\"}}, \"type\": \"scattermapbox\"}], \"scatterpolar\": [{\"marker\": {\"colorbar\": {\"outlinewidth\": 0, \"ticks\": \"\"}}, \"type\": \"scatterpolar\"}], \"scatterpolargl\": [{\"marker\": {\"colorbar\": {\"outlinewidth\": 0, \"ticks\": \"\"}}, \"type\": \"scatterpolargl\"}], \"scatterternary\": [{\"marker\": {\"colorbar\": {\"outlinewidth\": 0, \"ticks\": \"\"}}, \"type\": \"scatterternary\"}], \"surface\": [{\"colorbar\": {\"outlinewidth\": 0, \"ticks\": \"\"}, \"colorscale\": [[0.0, \"#0d0887\"], [0.1111111111111111, \"#46039f\"], [0.2222222222222222, \"#7201a8\"], [0.3333333333333333, \"#9c179e\"], [0.4444444444444444, \"#bd3786\"], [0.5555555555555556, \"#d8576b\"], [0.6666666666666666, \"#ed7953\"], [0.7777777777777778, \"#fb9f3a\"], [0.8888888888888888, \"#fdca26\"], [1.0, \"#f0f921\"]], \"type\": \"surface\"}], \"table\": [{\"cells\": {\"fill\": {\"color\": \"#EBF0F8\"}, \"line\": {\"color\": \"white\"}}, \"header\": {\"fill\": {\"color\": \"#C8D4E3\"}, \"line\": {\"color\": \"white\"}}, \"type\": \"table\"}]}, \"layout\": {\"annotationdefaults\": {\"arrowcolor\": \"#2a3f5f\", \"arrowhead\": 0, \"arrowwidth\": 1}, \"coloraxis\": {\"colorbar\": {\"outlinewidth\": 0, \"ticks\": \"\"}}, \"colorscale\": {\"diverging\": [[0, \"#8e0152\"], [0.1, \"#c51b7d\"], [0.2, \"#de77ae\"], [0.3, \"#f1b6da\"], [0.4, \"#fde0ef\"], [0.5, \"#f7f7f7\"], [0.6, \"#e6f5d0\"], [0.7, \"#b8e186\"], [0.8, \"#7fbc41\"], [0.9, \"#4d9221\"], [1, \"#276419\"]], \"sequential\": [[0.0, \"#0d0887\"], [0.1111111111111111, \"#46039f\"], [0.2222222222222222, \"#7201a8\"], [0.3333333333333333, \"#9c179e\"], [0.4444444444444444, \"#bd3786\"], [0.5555555555555556, \"#d8576b\"], [0.6666666666666666, \"#ed7953\"], [0.7777777777777778, \"#fb9f3a\"], [0.8888888888888888, \"#fdca26\"], [1.0, \"#f0f921\"]], \"sequentialminus\": [[0.0, \"#0d0887\"], [0.1111111111111111, \"#46039f\"], [0.2222222222222222, \"#7201a8\"], [0.3333333333333333, \"#9c179e\"], [0.4444444444444444, \"#bd3786\"], [0.5555555555555556, \"#d8576b\"], [0.6666666666666666, \"#ed7953\"], [0.7777777777777778, \"#fb9f3a\"], [0.8888888888888888, \"#fdca26\"], [1.0, \"#f0f921\"]]}, \"colorway\": [\"#636efa\", \"#EF553B\", \"#00cc96\", \"#ab63fa\", \"#FFA15A\", \"#19d3f3\", \"#FF6692\", \"#B6E880\", \"#FF97FF\", \"#FECB52\"], \"font\": {\"color\": \"#2a3f5f\"}, \"geo\": {\"bgcolor\": \"white\", \"lakecolor\": \"white\", \"landcolor\": \"#E5ECF6\", \"showlakes\": true, \"showland\": true, \"subunitcolor\": \"white\"}, \"hoverlabel\": {\"align\": \"left\"}, \"hovermode\": \"closest\", \"mapbox\": {\"style\": \"light\"}, \"paper_bgcolor\": \"white\", \"plot_bgcolor\": \"#E5ECF6\", \"polar\": {\"angularaxis\": {\"gridcolor\": \"white\", \"linecolor\": \"white\", \"ticks\": \"\"}, \"bgcolor\": \"#E5ECF6\", \"radialaxis\": {\"gridcolor\": \"white\", \"linecolor\": \"white\", \"ticks\": \"\"}}, \"scene\": {\"xaxis\": {\"backgroundcolor\": \"#E5ECF6\", \"gridcolor\": \"white\", \"gridwidth\": 2, \"linecolor\": \"white\", \"showbackground\": true, \"ticks\": \"\", \"zerolinecolor\": \"white\"}, \"yaxis\": {\"backgroundcolor\": \"#E5ECF6\", \"gridcolor\": \"white\", \"gridwidth\": 2, \"linecolor\": \"white\", \"showbackground\": true, \"ticks\": \"\", \"zerolinecolor\": \"white\"}, \"zaxis\": {\"backgroundcolor\": \"#E5ECF6\", \"gridcolor\": \"white\", \"gridwidth\": 2, \"linecolor\": \"white\", \"showbackground\": true, \"ticks\": \"\", \"zerolinecolor\": \"white\"}}, \"shapedefaults\": {\"line\": {\"color\": \"#2a3f5f\"}}, \"ternary\": {\"aaxis\": {\"gridcolor\": \"white\", \"linecolor\": \"white\", \"ticks\": \"\"}, \"baxis\": {\"gridcolor\": \"white\", \"linecolor\": \"white\", \"ticks\": \"\"}, \"bgcolor\": \"#E5ECF6\", \"caxis\": {\"gridcolor\": \"white\", \"linecolor\": \"white\", \"ticks\": \"\"}}, \"title\": {\"x\": 0.05}, \"xaxis\": {\"automargin\": true, \"gridcolor\": \"white\", \"linecolor\": \"white\", \"ticks\": \"\", \"title\": {\"standoff\": 15}, \"zerolinecolor\": \"white\", \"zerolinewidth\": 2}, \"yaxis\": {\"automargin\": true, \"gridcolor\": \"white\", \"linecolor\": \"white\", \"ticks\": \"\", \"title\": {\"standoff\": 15}, \"zerolinecolor\": \"white\", \"zerolinewidth\": 2}}}},\n",
              "                        {\"responsive\": true}\n",
              "                    ).then(function(){\n",
              "                            \n",
              "var gd = document.getElementById('24def8a8-cbe6-46d5-8f25-2464fe044304');\n",
              "var x = new MutationObserver(function (mutations, observer) {{\n",
              "        var display = window.getComputedStyle(gd).display;\n",
              "        if (!display || display === 'none') {{\n",
              "            console.log([gd, 'removed!']);\n",
              "            Plotly.purge(gd);\n",
              "            observer.disconnect();\n",
              "        }}\n",
              "}});\n",
              "\n",
              "// Listen for the removal of the full notebook cells\n",
              "var notebookContainer = gd.closest('#notebook-container');\n",
              "if (notebookContainer) {{\n",
              "    x.observe(notebookContainer, {childList: true});\n",
              "}}\n",
              "\n",
              "// Listen for the clearing of the current output cell\n",
              "var outputEl = gd.closest('.output');\n",
              "if (outputEl) {{\n",
              "    x.observe(outputEl, {childList: true});\n",
              "}}\n",
              "\n",
              "                        })\n",
              "                };\n",
              "                \n",
              "            </script>\n",
              "        </div>\n",
              "</body>\n",
              "</html>"
            ]
          },
          "metadata": {}
        }
      ]
    },
    {
      "cell_type": "markdown",
      "source": [
        "**k-Nearest neighbors classifier**\n",
        "\n",
        "El clasificador mas sencillo que existe es el **\"Vecinos mas cernanos\"**: Lo que se hace es buscar para cada observacion el vector de caracteristicas mas cercano."
      ],
      "metadata": {
        "id": "1tIPBWNiJYuj"
      }
    },
    {
      "cell_type": "markdown",
      "source": [
        "**KNN (k nearest neighborns) classification example:**"
      ],
      "metadata": {
        "id": "-rV3FAMTKVs3"
      }
    },
    {
      "cell_type": "code",
      "source": [
        "import numpy as np\n",
        "from sklearn.datasets import load_iris"
      ],
      "metadata": {
        "id": "WRB1fPEzR32n"
      },
      "execution_count": null,
      "outputs": []
    },
    {
      "cell_type": "code",
      "source": [
        "np.random.seed(0)\n",
        "indices = np.random.permutation(len(iris_X)) # desordenar los datos\n",
        "iris_X_train = iris_X[indices[:-10]] # seleccionar todos los datos menos los 10 ultimos\n",
        "iris_y_train = iris_y[indices[:-10]]\n",
        "iris_X_test = iris_X[indices[-10:]] # asignamos los ultimos 10 valores como testeo\n",
        "iris_y_test = iris_y[indices[-10:]]\n",
        "\n",
        "# Creamos y ajustamos el algoritmo \n",
        "from sklearn.neighbors import KNeighborsClassifier\n",
        "knn = KNeighborsClassifier() \n",
        "knn.fit(iris_X_train, iris_y_train)"
      ],
      "metadata": {
        "colab": {
          "base_uri": "https://localhost:8080/"
        },
        "id": "g8mi8WC9SQIm",
        "outputId": "70712b28-3048-44f0-dcf6-5d847b280e7c"
      },
      "execution_count": null,
      "outputs": [
        {
          "output_type": "execute_result",
          "data": {
            "text/plain": [
              "KNeighborsClassifier()"
            ]
          },
          "metadata": {},
          "execution_count": 28
        }
      ]
    },
    {
      "cell_type": "code",
      "source": [
        "pred = knn.predict(iris_X_test)\n",
        "\n",
        "# Medimos los aciertos\n",
        "aciertos = 0\n",
        "for i in range(len(pred)): \n",
        "  if pred[i] == iris_y_test[i]: \n",
        "    aciertos += 1\n",
        "aciertos # Se obtienen 9 aciertos de un total de 10"
      ],
      "metadata": {
        "colab": {
          "base_uri": "https://localhost:8080/"
        },
        "id": "-qOQGIwjTpY8",
        "outputId": "8516150a-dca8-4577-8a9f-8da066e1a5d4"
      },
      "execution_count": null,
      "outputs": [
        {
          "output_type": "execute_result",
          "data": {
            "text/plain": [
              "9"
            ]
          },
          "metadata": {},
          "execution_count": 29
        }
      ]
    },
    {
      "cell_type": "markdown",
      "source": [
        "**The curse of dimensionality**\n",
        "\n",
        "Para que un estimador sea eficiente, se requeire que la distancia entre dos puntos vecinos sea menor que un valor $d$, siendo este depedinte del problema. \n",
        "\n",
        "Para el algortimo de Knn, si los datos son descritos con una caracteristica (feature) con valores entre 0 y 1 y con un conjunto de n datos de entrenamiento, luego los nuevos datos no se encontraran mas lejos que $\\frac{1}{n}$. Luego, la regla de decision del algoritmo se hará eficiente en la medida que $\\frac{1}{n}$ sea pequeño en comparacion con la variacion de las caracteristicas entre distintas clases.\n",
        "\n",
        "En consecuencia existe un numero de observaciones necesarias para entrenar al algoritmo y asegurar que este sea eficiente:\n",
        "\n",
        "$$\n",
        "n = \\frac{1}{d^{p}}\n",
        "$$\n",
        "\n",
        "Siendo:\n",
        "\n",
        "- $n$ el numero de observaciones necesarias para el entrenamiento\n",
        "- $d$ la distancia entre puntos cercanos (imaginar distnacias pequeñas con valores entre 0 y 1)\n",
        "- $p$ numero de dimensiones (**features**)\n",
        "\n",
        "De esta manera, si $d \\in[0, 1]$, entonces el numero de observaciones necesarias ($n$) crece de manera exponencialmente en funcion del aumento de dimensiones (**La maldicion de la dimensionalidad**) "
      ],
      "metadata": {
        "id": "17JyIQSyXk7g"
      }
    },
    {
      "cell_type": "markdown",
      "source": [
        "### **Linear model: from regression to sparsity**"
      ],
      "metadata": {
        "id": "TevKOpB9B-CB"
      }
    },
    {
      "cell_type": "markdown",
      "source": [
        "**Diabetes dataset**\n",
        "\n",
        "La base de datos \"Diabetes dataset\" consiste en 10 variables fisiologicas\n",
        "\n",
        "- Edad\n",
        "- Sexo \n",
        "- Peso \n",
        "- Presion sanguinea\n",
        "- +6 mediciones de suero sanguineo\n",
        "\n",
        "Todas estas medidas en 442 pacientes, con una indicacion de enfermedad progresiva pasado un año.\n",
        "\n",
        "De esta manera la tarea es predecir el progreso de la enfermedad a partir de las variables fisiologicas"
      ],
      "metadata": {
        "id": "qQcAcN2CDofo"
      }
    },
    {
      "cell_type": "code",
      "source": [
        "from sklearn.datasets import load_diabetes"
      ],
      "metadata": {
        "id": "6aW3q5U1ECov"
      },
      "execution_count": null,
      "outputs": []
    },
    {
      "cell_type": "code",
      "source": [
        "diabetes = load_diabetes()\n",
        "print(diabetes.DESCR)"
      ],
      "metadata": {
        "colab": {
          "base_uri": "https://localhost:8080/"
        },
        "id": "8xRIoMFyEMRj",
        "outputId": "23e3526c-ce10-406e-de6c-c2343dceb815"
      },
      "execution_count": null,
      "outputs": [
        {
          "output_type": "stream",
          "name": "stdout",
          "text": [
            ".. _diabetes_dataset:\n",
            "\n",
            "Diabetes dataset\n",
            "----------------\n",
            "\n",
            "Ten baseline variables, age, sex, body mass index, average blood\n",
            "pressure, and six blood serum measurements were obtained for each of n =\n",
            "442 diabetes patients, as well as the response of interest, a\n",
            "quantitative measure of disease progression one year after baseline.\n",
            "\n",
            "**Data Set Characteristics:**\n",
            "\n",
            "  :Number of Instances: 442\n",
            "\n",
            "  :Number of Attributes: First 10 columns are numeric predictive values\n",
            "\n",
            "  :Target: Column 11 is a quantitative measure of disease progression one year after baseline\n",
            "\n",
            "  :Attribute Information:\n",
            "      - age     age in years\n",
            "      - sex\n",
            "      - bmi     body mass index\n",
            "      - bp      average blood pressure\n",
            "      - s1      tc, total serum cholesterol\n",
            "      - s2      ldl, low-density lipoproteins\n",
            "      - s3      hdl, high-density lipoproteins\n",
            "      - s4      tch, total cholesterol / HDL\n",
            "      - s5      ltg, possibly log of serum triglycerides level\n",
            "      - s6      glu, blood sugar level\n",
            "\n",
            "Note: Each of these 10 feature variables have been mean centered and scaled by the standard deviation times `n_samples` (i.e. the sum of squares of each column totals 1).\n",
            "\n",
            "Source URL:\n",
            "https://www4.stat.ncsu.edu/~boos/var.select/diabetes.html\n",
            "\n",
            "For more information see:\n",
            "Bradley Efron, Trevor Hastie, Iain Johnstone and Robert Tibshirani (2004) \"Least Angle Regression,\" Annals of Statistics (with discussion), 407-499.\n",
            "(https://web.stanford.edu/~hastie/Papers/LARS/LeastAngle_2002.pdf)\n"
          ]
        }
      ]
    },
    {
      "cell_type": "code",
      "source": [
        "diabetes_X, diabetes_y = load_diabetes(return_X_y=True)\n",
        "diabetes_X_train = diabetes_X[:-20]\n",
        "diabetes_X_test = diabetes_X[-20:]\n",
        "diabetes_y_train = diabetes_y[:-20]\n",
        "diabetes_y_test = diabetes_y[-20:]\n"
      ],
      "metadata": {
        "id": "7aUP-V9EG-4W"
      },
      "execution_count": null,
      "outputs": []
    },
    {
      "cell_type": "markdown",
      "source": [
        "**Linear regression**\n",
        "\n",
        "`LinearRegression` es la manera mas simple de ajustar un modelo lineal a los datos, para esto es que se debe definir una serie de parametros en funcion de reducir la suma del cuadrado de los errores residuales.\n",
        "\n",
        "Linear models: $y=X \\beta + ϵ$\n",
        "\n",
        "- $X$: datos\n",
        "- $y$: variable objetivo\n",
        "- $\\beta$: Coeficientes\n",
        "- $ϵ$: ruido observado (errores)"
      ],
      "metadata": {
        "id": "trXW4-5YHhEd"
      }
    },
    {
      "cell_type": "code",
      "source": [
        "import numpy as np\n",
        "from sklearn import linear_model\n",
        "regr = linear_model.LinearRegression()\n",
        "regr.fit(diabetes_X_train, diabetes_y_train)"
      ],
      "metadata": {
        "colab": {
          "base_uri": "https://localhost:8080/"
        },
        "id": "9AdYiblSIjCT",
        "outputId": "983785f6-d175-4d4c-ba9c-c0241916e716"
      },
      "execution_count": null,
      "outputs": [
        {
          "output_type": "execute_result",
          "data": {
            "text/plain": [
              "LinearRegression()"
            ]
          },
          "metadata": {},
          "execution_count": 17
        }
      ]
    },
    {
      "cell_type": "code",
      "source": [
        "print(regr.coef_)"
      ],
      "metadata": {
        "colab": {
          "base_uri": "https://localhost:8080/"
        },
        "id": "kgqgA0-3Iz4C",
        "outputId": "e8c0f757-dd6f-417e-9d02-0b1f893ff1aa"
      },
      "execution_count": null,
      "outputs": [
        {
          "output_type": "stream",
          "name": "stdout",
          "text": [
            "[ 3.03499549e-01 -2.37639315e+02  5.10530605e+02  3.27736980e+02\n",
            " -8.14131709e+02  4.92814588e+02  1.02848452e+02  1.84606489e+02\n",
            "  7.43519617e+02  7.60951722e+01]\n"
          ]
        }
      ]
    },
    {
      "cell_type": "code",
      "source": [
        "# Error cuadratico medio (MSE)\n",
        "## Tambien llamado error residual para este caso\n",
        "preds = regr.predict(diabetes_X_test)\n",
        "MSE = np.mean((preds - diabetes_y_test)**2)\n",
        "MSE"
      ],
      "metadata": {
        "colab": {
          "base_uri": "https://localhost:8080/"
        },
        "id": "2TzBEzTlI9uq",
        "outputId": "431e6263-d443-4dcc-d724-d07e6333c0dd"
      },
      "execution_count": null,
      "outputs": [
        {
          "output_type": "execute_result",
          "data": {
            "text/plain": [
              "2004.5676026898211"
            ]
          },
          "metadata": {},
          "execution_count": 19
        }
      ]
    },
    {
      "cell_type": "markdown",
      "source": [
        "**Coeficiente de determinacion ($R^2$)**\n",
        "\n",
        "\n",
        "\n",
        "$$\n",
        "R^{2} = (1 - \\frac{u}{v})\n",
        "$$\n",
        "\n",
        "$$\n",
        "u = \\frac{1}{n} \\sum (Y_{pred} - Y_{real})^{2}\n",
        "$$\n",
        "\n",
        "$$\n",
        "v = \\frac{1}{n} \\sum (Y_{real} - \\bar{Y_{real}})^{2}\n",
        "$$"
      ],
      "metadata": {
        "id": "u3R9nGUnKtJG"
      }
    },
    {
      "cell_type": "code",
      "source": [
        "# R2 (1 es prediccion perfecta y 0 seria que no existe una relacion lineal)\n",
        "R2 = regr.score(diabetes_X_test, diabetes_y_test)\n",
        "R2"
      ],
      "metadata": {
        "colab": {
          "base_uri": "https://localhost:8080/"
        },
        "id": "D27tgUm3Jr8m",
        "outputId": "eaafa4f2-4f21-4923-a73f-e28d7bcdb7b6"
      },
      "execution_count": null,
      "outputs": [
        {
          "output_type": "execute_result",
          "data": {
            "text/plain": [
              "0.5850753022690574"
            ]
          },
          "metadata": {},
          "execution_count": 22
        }
      ]
    },
    {
      "cell_type": "markdown",
      "source": [
        "**Shrinkage**\n",
        "\n",
        "Si existen pocos puntos por dimension, entonces el ruido en la observacion induce una variacion alta."
      ],
      "metadata": {
        "id": "l3UOcWGDNYES"
      }
    },
    {
      "cell_type": "code",
      "source": [
        "X = np.c_[.5, 1].T \n",
        "y = [.5, 1]\n",
        "test = np.c_[0, 2].T\n",
        "regr = linear_model.LinearRegression()\n",
        "\n",
        "import matplotlib.pyplot as plt\n",
        "plt.figure()\n",
        "\n",
        "np.random.seed(0)\n",
        "for _ in range(6):\n",
        "  this_X = .1*np.random.normal(size=(2, 1)) + X \n",
        "  regr.fit(this_X, y)\n",
        "  plt.plot(test, regr.predict(test))\n",
        "  plt.scatter(this_X, y, s=3)\n",
        "  "
      ],
      "metadata": {
        "colab": {
          "base_uri": "https://localhost:8080/",
          "height": 265
        },
        "id": "K85Amk4uNpLU",
        "outputId": "6d1eb1ce-e798-4d74-e2d3-64de5dc999f6"
      },
      "execution_count": null,
      "outputs": [
        {
          "output_type": "display_data",
          "data": {
            "image/png": "[encoded data removed]",
            "text/plain": [
              "<Figure size 432x288 with 1 Axes>"
            ]
          },
          "metadata": {
            "needs_background": "light"
          }
        }
      ]
    },
    {
      "cell_type": "markdown",
      "source": [
        "Una solucion para aprendizaje estadistico en grandes dimensiones es shrink (encoger) los coeficientes de la regression a 0. Alguno de los 2 puntos de observaciones se encontraran **NO correlacionados**. A este metodo se le llama `Ridge`"
      ],
      "metadata": {
        "id": "cLFJVnZ0Ovuw"
      }
    },
    {
      "cell_type": "code",
      "source": [
        "regr = linear_model.Ridge(alpha=.1)\n",
        "\n",
        "plt.figure()\n",
        "\n",
        "np.random.seed(0)\n",
        "for _ in range(6):\n",
        "  this_X = .1*np.random.normal(size=(2, 1)) + X \n",
        "  regr.fit(this_X, y)\n",
        "  plt.plot(test, regr.predict(test))\n",
        "  plt.scatter(this_X, y, s=3)\n",
        "  "
      ],
      "metadata": {
        "colab": {
          "base_uri": "https://localhost:8080/",
          "height": 265
        },
        "id": "Ctns80CvQUwl",
        "outputId": "2359e464-8462-4f9a-ffb0-b396a403adc7"
      },
      "execution_count": null,
      "outputs": [
        {
          "output_type": "display_data",
          "data": {
            "image/png": "[encoded data removed]",
            "text/plain": [
              "<Figure size 432x288 with 1 Axes>"
            ]
          },
          "metadata": {
            "needs_background": "light"
          }
        }
      ]
    },
    {
      "cell_type": "markdown",
      "source": [
        "Asi, mientras mayor es el parametro alpha, mayor es el sesgo (bias) y menor es la varianza.\n",
        "\n",
        "Nosotros podemos escoger el `alpha` que minimiza el error."
      ],
      "metadata": {
        "id": "Z7JPkHQYRJyz"
      }
    },
    {
      "cell_type": "code",
      "source": [
        "# De esta manera verificamos que se tiene un R2 estable\n",
        "alphas = np.logspace(-4, -1, 6)\n",
        "print([regr.set_params(alpha=alpha)\n",
        "       .fit(diabetes_X_train, diabetes_y_train)\n",
        "       .score(diabetes_X_test, diabetes_y_test)\n",
        "       for alpha in alphas])"
      ],
      "metadata": {
        "colab": {
          "base_uri": "https://localhost:8080/"
        },
        "id": "Ub6zUYbTRgCs",
        "outputId": "5fb5a017-bfb7-4fd8-97f2-65a24156cc56"
      },
      "execution_count": null,
      "outputs": [
        {
          "output_type": "stream",
          "name": "stdout",
          "text": [
            "[0.5851110683883533, 0.5852073015444674, 0.585467754069849, 0.5855512036503914, 0.583071708555416, 0.570589994372801]\n"
          ]
        }
      ]
    },
    {
      "cell_type": "markdown",
      "source": [
        "**Sparsity**\n",
        "\n",
        "Como ya vimos las implicancias de trabajar con datos con muchas dimensiones, es que, aparte del metodo `ridge` ahora se introduce el metodo `lasso` para apoyer en la reduccion de las variables que poco aportan en la prediccion (o generan mucho ruido).\n",
        "\n"
      ],
      "metadata": {
        "id": "oQ0uMo4mRfLR"
      }
    },
    {
      "cell_type": "code",
      "source": [
        "regr = linear_model.Lasso()\n",
        "scores = [regr.set_params(alpha=alpha)\n",
        "          .fit(diabetes_X_train, diabetes_y_train)\n",
        "          .score(diabetes_X_test, diabetes_y_test)\n",
        "          for alpha in alphas]\n",
        "best_alpha = alphas[np.argmax(scores)]\n",
        "regr.alpha = best_alpha\n",
        "regr.fit(diabetes_X_train, diabetes_y_train)"
      ],
      "metadata": {
        "colab": {
          "base_uri": "https://localhost:8080/"
        },
        "id": "Qe0aJOSEUQYQ",
        "outputId": "419cb8fd-0e22-461e-cd95-bc866671b67f"
      },
      "execution_count": null,
      "outputs": [
        {
          "output_type": "execute_result",
          "data": {
            "text/plain": [
              "Lasso(alpha=0.025118864315095794)"
            ]
          },
          "metadata": {},
          "execution_count": 36
        }
      ]
    },
    {
      "cell_type": "code",
      "source": [
        "# Aqui podemos observar que el algoritmo no utilizara la primera y sexta variables\n",
        "regr.coef_"
      ],
      "metadata": {
        "colab": {
          "base_uri": "https://localhost:8080/"
        },
        "id": "M1DBG_pyUz8W",
        "outputId": "13ccc01d-6fea-4e89-b2e8-a899ee413050"
      },
      "execution_count": null,
      "outputs": [
        {
          "output_type": "execute_result",
          "data": {
            "text/plain": [
              "array([   0.        , -212.43764548,  517.19478111,  313.77959962,\n",
              "       -160.8303982 ,   -0.        , -187.19554705,   69.38229038,\n",
              "        508.66011217,   71.84239008])"
            ]
          },
          "metadata": {},
          "execution_count": 37
        }
      ]
    },
    {
      "cell_type": "markdown",
      "source": [
        "**Different algorith for the same problem**\n",
        "\n",
        "En general se puede abordar un problema con mas de un algoritmo. En particular, y para un problema de regression similar a este, si el set de datos es grande, podemo utilizar el objeto `Lasso`, pero si el set de datos es pequeño se recomienda utilizar el objeto `LassoLars` ."
      ],
      "metadata": {
        "id": "oFve2M6bVzg0"
      }
    },
    {
      "cell_type": "markdown",
      "source": [
        "**Classification**\n",
        "\n",
        "Para problemas de clasificacion, al igual como trabajabamos con la base de datos `iris`, el metodo de regresion lineal no es la manera optima de resolverlo. Asi, una manera de ajustarse a este tipo de problemas es utilizando la funcion sigmoide o funcion logistica.\n",
        "\n",
        "$$\n",
        "y = sigmoide(X \\beta - offset) + ϵ = \\frac{1}{1 + e^{-X \\beta + offset}} + ϵ\n",
        "$$"
      ],
      "metadata": {
        "id": "28qTol3oU8jl"
      }
    },
    {
      "cell_type": "code",
      "source": [
        "from sklearn.linear_model import LogisticRegression\n",
        "from sklearn.datasets import load_iris"
      ],
      "metadata": {
        "id": "7e-EN9FUWNkZ"
      },
      "execution_count": null,
      "outputs": []
    },
    {
      "cell_type": "code",
      "source": [
        "iris = load_iris()\n",
        "iris_X_train = iris.data[:-10]\n",
        "iris_y_train = iris.target[:-10]\n",
        "iris_X_test = iris.data[-10:0]\n",
        "iris_y_test = iris.target[-10:0]\n",
        "log = LogisticRegression(C=1e5)\n",
        "log.fit(iris_X_train, iris_y_train)\n"
      ],
      "metadata": {
        "colab": {
          "base_uri": "https://localhost:8080/"
        },
        "id": "PpDyKvt6WsFo",
        "outputId": "d15f77fd-164e-48cd-b8b0-1aea77a686ad"
      },
      "execution_count": null,
      "outputs": [
        {
          "output_type": "execute_result",
          "data": {
            "text/plain": [
              "LogisticRegression(C=100000.0)"
            ]
          },
          "metadata": {},
          "execution_count": 6
        }
      ]
    },
    {
      "cell_type": "markdown",
      "source": [
        "Esto se conoce como **Regresion Logistica**"
      ],
      "metadata": {
        "id": "GxrG0pM2X70w"
      }
    },
    {
      "cell_type": "code",
      "source": [
        "# Importar bibliotecas\n",
        "import numpy as np\n",
        "import matplotlib.pyplot as plt\n",
        "from sklearn.linear_model import LogisticRegression\n",
        "from sklearn import datasets\n"
      ],
      "metadata": {
        "id": "wp5-0Riihseq"
      },
      "execution_count": null,
      "outputs": []
    },
    {
      "cell_type": "code",
      "source": [
        "# Cargamos los datos\n",
        "iris = datasets.load_iris()\n",
        "X = iris.data[:, :2] # En esta parte solo vamos a trabajar con 2 caracteristicas\n",
        "y = iris.target"
      ],
      "metadata": {
        "id": "PVkmZoseiHYH"
      },
      "execution_count": null,
      "outputs": []
    },
    {
      "cell_type": "code",
      "source": [
        "# Llamamos al clasificador y lo ajustamos con los datos\n",
        "clf = LogisticRegression(C=1e5)\n",
        "clf.fit(X, y)"
      ],
      "metadata": {
        "colab": {
          "base_uri": "https://localhost:8080/"
        },
        "id": "USdIoKpDicJY",
        "outputId": "385a12e3-526c-4a44-bea3-65b792ffa2eb"
      },
      "execution_count": null,
      "outputs": [
        {
          "output_type": "execute_result",
          "data": {
            "text/plain": [
              "LogisticRegression(C=100000.0)"
            ]
          },
          "metadata": {},
          "execution_count": 4
        }
      ]
    },
    {
      "cell_type": "code",
      "source": [
        "# Lo que vamos a hacer ahora es graficar los limites que define el clasificador\n",
        "## x1 y x2 van a ser las caracteristicas que vamos a ocupar\n",
        "x1_min, x1_max = X[:, 0].min() - 0.5, X[:, 0].max() + 0.5\n",
        "x2_min, x2_max = X[:, 1].min() - 0.5, X[:, 1].max() + 0.5\n",
        "h = 0.02 # Salto que vamos dando\n",
        "x1_i = np.arange(x1_min, x1_max, h)\n",
        "x2_i = np.arange(x2_min, x2_max, h)\n",
        "x1_x1, x2_x2 = np.meshgrid(x1_i, x2_i)\n",
        "x2_x2.shape"
      ],
      "metadata": {
        "colab": {
          "base_uri": "https://localhost:8080/"
        },
        "id": "P4i68K_lixY6",
        "outputId": "e96ebce6-4cb4-493a-b638-dcb0ba47915b"
      },
      "execution_count": null,
      "outputs": [
        {
          "output_type": "execute_result",
          "data": {
            "text/plain": [
              "(171, 231)"
            ]
          },
          "metadata": {},
          "execution_count": 7
        }
      ]
    },
    {
      "cell_type": "code",
      "source": [
        "# Ahora hacemos una prediccion de clasificacion para cada par de puntos\n",
        "y_pred = clf.predict(np.c_[x1_x1.ravel(), x2_x2.ravel()]) # con .ravel() aplanamos y con c_[] concatenamos\n",
        "y_pred = y_pred.reshape(x1_x1.shape) # reestructuramos \n",
        "y_pred.shape"
      ],
      "metadata": {
        "colab": {
          "base_uri": "https://localhost:8080/"
        },
        "id": "oFqIy-k0kOzP",
        "outputId": "4177d8f9-cb42-4ba3-a463-45cd5dd5e039"
      },
      "execution_count": null,
      "outputs": [
        {
          "output_type": "execute_result",
          "data": {
            "text/plain": [
              "(171, 231)"
            ]
          },
          "metadata": {},
          "execution_count": 12
        }
      ]
    },
    {
      "cell_type": "code",
      "source": [
        "# Ahora generamos la figura y agregamos los elementos al grafico\n",
        "plt.figure(1, figsize=(4, 3))\n",
        "plt.pcolormesh(x1_x1, x2_x2, y_pred, cmap=plt.cm.Paired)\n",
        "\n",
        "# Lo que vamos a hacer ahora es agregar los puntos de que usaron para ajustar \n",
        "# al algoritmo (en este caso utilizamos todas las observaciones)\n",
        "plt.scatter(X[:, 0], X[:, 1], c=y, edgecolors='k', cmap=plt.cm.Paired)\n",
        "plt.xlim(x1_x1.min(), x1_x1.max())\n",
        "plt.ylim(x2_x2.min(), x2_x2.max())\n",
        "plt.show()"
      ],
      "metadata": {
        "colab": {
          "base_uri": "https://localhost:8080/",
          "height": 211
        },
        "id": "8aIZOj8DlnG4",
        "outputId": "f1c9ec76-9aae-47f5-e28b-dd859ccfe7d4"
      },
      "execution_count": null,
      "outputs": [
        {
          "output_type": "display_data",
          "data": {
            "image/png": "[encoded data removed]",
            "text/plain": [
              "<Figure size 288x216 with 1 Axes>"
            ]
          },
          "metadata": {
            "needs_background": "light"
          }
        }
      ]
    },
    {
      "cell_type": "markdown",
      "source": [
        "**Multiclass classification**\n",
        "\n",
        "Si tu tienes varias clases que predecir, una opcion que tu puedes usar es ajustar `one-versus-all classifier` y luego asignarle un voto a cada algoritmo para tomar la decision final."
      ],
      "metadata": {
        "id": "UZj-dG0_ZB_D"
      }
    },
    {
      "cell_type": "markdown",
      "source": [
        "**Shrinkage and sparsitu with logistic regression**\n",
        "\n",
        "El parametro `C` controla el nivel de regularizacion en el objeto `LogisticRegression`. Asi, un valor alto de `C` resulta en menor regularizacion. `penalty=\"12\"` es para usar **Shrinkage** mientras que con `penalty=\"11\"` se usa **Sparsity**"
      ],
      "metadata": {
        "id": "rzMj7yPpZq7V"
      }
    },
    {
      "cell_type": "markdown",
      "source": [
        "### **Ejercicio**\n"
      ],
      "metadata": {
        "id": "_Osv21n3gAkm"
      }
    },
    {
      "cell_type": "markdown",
      "source": [
        "Trata de clasificar los datos del set de digitos con **nearest neighborn** y con **linear model**. Deja al menos el 10% de los datos para testeo y por ultimo corrobora el desempeño de cada uno."
      ],
      "metadata": {
        "id": "BktC8qijafnE"
      }
    },
    {
      "cell_type": "code",
      "source": [
        "# Importamos bibliotecas\n",
        "from sklearn import datasets, neighbors, linear_model\n",
        "import numpy as np"
      ],
      "metadata": {
        "id": "zBTN8xQxbAnN"
      },
      "execution_count": null,
      "outputs": []
    },
    {
      "cell_type": "code",
      "source": [
        "# Cargamos los datos y definimos set de entrenamiento y testeo\n",
        "X_digits, y_digits = datasets.load_digits(return_X_y=True)\n",
        "X_digits = X_digits / X_digits.max() # normalizar\n",
        "\n",
        "# 10% de los datos\n",
        "k = int(np.round(0.1*X_digits.shape[0], 0))\n",
        "\n",
        "# Sets se entrenamiento y validacion\n",
        "X_train = X_digits[:-k] \n",
        "y_train = y_digits[:-k]\n",
        "X_test = X_digits[-k:]\n",
        "y_test = y_digits[-k:]"
      ],
      "metadata": {
        "id": "z36Z8MFCbZio"
      },
      "execution_count": null,
      "outputs": []
    },
    {
      "cell_type": "code",
      "source": [
        "# Funcion para medir el rendimiento\n",
        "def accuracy(y_pred, y_true):\n",
        "  return np.sum([1 for i in range(len(y_pred)) if y_pred[i] == y_true[i]])/ len(y_pred)"
      ],
      "metadata": {
        "id": "t2mHwuqpdfCA"
      },
      "execution_count": null,
      "outputs": []
    },
    {
      "cell_type": "markdown",
      "source": [
        "#### Nearest Neighborn"
      ],
      "metadata": {
        "id": "5eQA8LtDeUvH"
      }
    },
    {
      "cell_type": "code",
      "source": [
        "# Nearest Neighborn\n",
        "clf1 = neighbors.KNeighborsClassifier(n_neighbors=10)\n",
        "clf1.fit(X_train, y_train)\n",
        "\n",
        "# Generamos las predicciones\n",
        "y_preds = clf1.predict(X_test) \n",
        "\n",
        "# Medimos el rendimiento\n",
        "acc = accuracy(y_preds, y_test)\n",
        "acc"
      ],
      "metadata": {
        "colab": {
          "base_uri": "https://localhost:8080/"
        },
        "id": "SXfyajQlbzm7",
        "outputId": "52e683b0-c6f5-43ac-b980-dddead152701"
      },
      "execution_count": null,
      "outputs": [
        {
          "output_type": "execute_result",
          "data": {
            "text/plain": [
              "0.9611111111111111"
            ]
          },
          "metadata": {},
          "execution_count": 25
        }
      ]
    },
    {
      "cell_type": "markdown",
      "source": [
        "#### Linear model"
      ],
      "metadata": {
        "id": "bo2UL4dyeytE"
      }
    },
    {
      "cell_type": "code",
      "source": [
        "# Nearest Neighborn\n",
        "clf2 = linear_model.LogisticRegression()\n",
        "clf2.fit(X_train, y_train)\n",
        "\n",
        "# Generamos las predicciones\n",
        "y_preds = clf2.predict(X_test) \n",
        "\n",
        "# Medimos el rendimiento\n",
        "acc = accuracy(y_preds, y_test)\n",
        "acc"
      ],
      "metadata": {
        "colab": {
          "base_uri": "https://localhost:8080/"
        },
        "id": "nAjD0vdve2DD",
        "outputId": "dbfdb2d4-f3b6-4d08-ca9f-6a820d972139"
      },
      "execution_count": null,
      "outputs": [
        {
          "output_type": "stream",
          "name": "stderr",
          "text": [
            "/usr/local/lib/python3.7/dist-packages/sklearn/linear_model/_logistic.py:818: ConvergenceWarning: lbfgs failed to converge (status=1):\n",
            "STOP: TOTAL NO. of ITERATIONS REACHED LIMIT.\n",
            "\n",
            "Increase the number of iterations (max_iter) or scale the data as shown in:\n",
            "    https://scikit-learn.org/stable/modules/preprocessing.html\n",
            "Please also refer to the documentation for alternative solver options:\n",
            "    https://scikit-learn.org/stable/modules/linear_model.html#logistic-regression\n",
            "  extra_warning_msg=_LOGISTIC_SOLVER_CONVERGENCE_MSG,\n"
          ]
        },
        {
          "output_type": "execute_result",
          "data": {
            "text/plain": [
              "0.9333333333333333"
            ]
          },
          "metadata": {},
          "execution_count": 26
        }
      ]
    },
    {
      "cell_type": "markdown",
      "source": [
        "### **Support vector machines (SVMs)**"
      ],
      "metadata": {
        "id": "kxBQdSpdCFk3"
      }
    },
    {
      "cell_type": "markdown",
      "source": [
        "**Linear SVMs**\n",
        "\n",
        "**Support Vectors Machines** pertencen a la familia de modelos que descriminan. Asi, estos buscan la combinacion de muestras para construir un plano que maximice el margen entre 2 clases.\n",
        "\n",
        "La regularizacion se ajusta con el parametro `C`, el cual a menor valor implica que el margen es calculado utilizando un mayor numero de observaciones alrededor de la linea divisora. Por otro lado, un `C` mas grande implica un uso mas acotado de las observaciones entre las lineas divisoras."
      ],
      "metadata": {
        "id": "BCIims3vgL1y"
      }
    },
    {
      "cell_type": "markdown",
      "source": [
        "**SVMS** pueden ser utilizados tanto en tareas de **regression (SVR - Support Vector Regression)** o para tareas de **clasificacion (SVC - Support Vector Classification)**\n"
      ],
      "metadata": {
        "id": "TbMpXuw7oh1f"
      }
    },
    {
      "cell_type": "code",
      "source": [
        "from sklearn import svm \n",
        "from sklearn.datasets import load_iris\n",
        "\n",
        "X_train = load_iris().data[:-20]\n",
        "y_train = load_iris().target[:-20]\n",
        "\n",
        "clf = svm.SVC(kernel='linear')\n",
        "clf.fit(X_train, y_train)"
      ],
      "metadata": {
        "colab": {
          "base_uri": "https://localhost:8080/"
        },
        "id": "izf0bMMNpCGY",
        "outputId": "1f2d01cb-7c90-41a0-a07a-8de4650f3370"
      },
      "execution_count": null,
      "outputs": [
        {
          "output_type": "execute_result",
          "data": {
            "text/plain": [
              "SVC(kernel='linear')"
            ]
          },
          "metadata": {},
          "execution_count": 23
        }
      ]
    },
    {
      "cell_type": "code",
      "source": [
        "def accuracy_clf(y_pred, y_test):\n",
        "  return np.sum([1 for i in range(len(y_pred)) if y_pred[i] == y_test[i]]) / len(y_pred)"
      ],
      "metadata": {
        "id": "pnVrkAycp6B3"
      },
      "execution_count": null,
      "outputs": []
    },
    {
      "cell_type": "code",
      "source": [
        "x_test = load_iris().data[-20:]\n",
        "y_test = load_iris().target[-20:]\n",
        "\n",
        "y_pred = clf.predict(x_test)\n",
        "acc = accuracy_clf(y_pred, y_test)\n",
        "acc # 18 aciertos de 20 obervaciones"
      ],
      "metadata": {
        "colab": {
          "base_uri": "https://localhost:8080/"
        },
        "id": "vZBlAEFGqcmZ",
        "outputId": "48791389-e43b-456a-844e-270a86512dc0"
      },
      "execution_count": null,
      "outputs": [
        {
          "output_type": "execute_result",
          "data": {
            "text/plain": [
              "0.9"
            ]
          },
          "metadata": {},
          "execution_count": 25
        }
      ]
    },
    {
      "cell_type": "markdown",
      "source": [
        "**Warning: Normalizing data**\n",
        "\n",
        "Para muchos de los estimadores, incluyecndo SVMs, pueden presentar problemas en sus predicciones si antes no se asegura de trabajar con los datos normalizados"
      ],
      "metadata": {
        "id": "kfjxDC86rP0D"
      }
    },
    {
      "cell_type": "markdown",
      "source": [
        "Normalizemos entonces para ver si existen mejoras."
      ],
      "metadata": {
        "id": "oiq5Z7Uor8Xq"
      }
    },
    {
      "cell_type": "code",
      "source": [
        "# Corregimos los sets de entrenamiento y validacion\n",
        "# Normalizamos por categoria (son 4)\n",
        "X = load_iris().data\n",
        "x1 = X[:, 0] / X[:, 0].max()\n",
        "x2 = X[:, 1] / X[:, 1].max()\n",
        "x3 = X[:, 2] / X[:, 2].max()\n",
        "x4 = X[:, 3] / X[:, 3].max()\n",
        "X = np.c_[x1, x2, x3, x4]\n",
        "X_train = X[:-20]\n",
        "X_test = X[-20:]\n",
        "\n",
        "# Volvemos a ajustar el modelo\n",
        "clf = svm.SVC(kernel='linear')\n",
        "clf.fit(X_train, y_train)\n",
        "\n",
        "# Generamos las predicciones y medimos el acierto\n",
        "y_pred = clf.predict(X_test)\n",
        "acc = accuracy_clf(y_pred, y_test)\n",
        "acc \n",
        "# No se consiguio un mejor resultado, aunque tambien es cierto que podriamos\n",
        "# aumentar el numero de observaciones en el set de testeo y ver si cambia"
      ],
      "metadata": {
        "colab": {
          "base_uri": "https://localhost:8080/"
        },
        "id": "Dr7ZOqTFsEl0",
        "outputId": "57bb2cad-6b5b-4c54-93f2-8bab8baa5255"
      },
      "execution_count": null,
      "outputs": [
        {
          "output_type": "execute_result",
          "data": {
            "text/plain": [
              "0.85"
            ]
          },
          "metadata": {},
          "execution_count": 45
        }
      ]
    },
    {
      "cell_type": "markdown",
      "source": [
        "**Using kernels**\n",
        "\n",
        "Las clases no siempre son posible separarlas de manera lineal. De esta manera, la solucion podria ser construir clasificador que utilice una funcion polinomial. Esto es posible de realizar a traves del `kernel`. \n",
        "\n",
        "En el grafico de abajo, se encuentran tres tipos de kernels (`linear, poly, rbf`)."
      ],
      "metadata": {
        "id": "9lV4fNqswzCg"
      }
    },
    {
      "cell_type": "code",
      "source": [
        "import numpy as np\n",
        "import matplotlib.pyplot as plt\n",
        "from sklearn import svm\n",
        "\n",
        "X = np.c_[\n",
        "    (0.4, -0.7),\n",
        "    (-1.5, -1),\n",
        "    (-1.4, -0.9),\n",
        "    (-1.3, -1.2),\n",
        "    (-1.1, -0.2),\n",
        "    (-1.2, -0.4),\n",
        "    (-0.5, 1.2),\n",
        "    (-1.5, 2.1),\n",
        "    (1, 1),\n",
        "    # --\n",
        "    (1.3, 0.8),\n",
        "    (1.2, 0.5),\n",
        "    (0.2, -2),\n",
        "    (0.5, -2.4),\n",
        "    (0.2, -2.3),\n",
        "    (0, -2.7),\n",
        "    (1.3, 2.1),\n",
        "].T\n",
        "Y = [0] * 8 + [1] * 8"
      ],
      "metadata": {
        "id": "ZUE15DL7xqat"
      },
      "execution_count": null,
      "outputs": []
    },
    {
      "cell_type": "code",
      "source": [
        "# figure number\n",
        "fignum = 1\n",
        "\n",
        "# fit the model\n",
        "for kernel in (\"linear\", \"poly\", \"rbf\"):\n",
        "    clf = svm.SVC(kernel=kernel, gamma=2)\n",
        "    clf.fit(X, Y)\n",
        "\n",
        "    # plot the line, the points, and the nearest vectors to the plane\n",
        "    plt.figure(fignum, figsize=(4, 3))\n",
        "    plt.clf()\n",
        "\n",
        "    plt.scatter(\n",
        "        clf.support_vectors_[:, 0],\n",
        "        clf.support_vectors_[:, 1],\n",
        "        s=80,\n",
        "        facecolors=\"none\",\n",
        "        zorder=10,\n",
        "        edgecolors=\"k\",\n",
        "    )\n",
        "    plt.scatter(X[:, 0], X[:, 1], c=Y, zorder=10, cmap=plt.cm.Paired, edgecolors=\"k\")\n",
        "\n",
        "    plt.axis(\"tight\")\n",
        "    x_min = -3\n",
        "    x_max = 3\n",
        "    y_min = -3\n",
        "    y_max = 3\n",
        "\n",
        "    XX, YY = np.mgrid[x_min:x_max:200j, y_min:y_max:200j]\n",
        "    Z = clf.decision_function(np.c_[XX.ravel(), YY.ravel()])\n",
        "\n",
        "    # Put the result into a color plot\n",
        "    Z = Z.reshape(XX.shape)\n",
        "    plt.figure(fignum, figsize=(4, 3))\n",
        "    plt.pcolormesh(XX, YY, Z > 0, cmap=plt.cm.Paired)\n",
        "    plt.contour(\n",
        "        XX,\n",
        "        YY,\n",
        "        Z,\n",
        "        colors=[\"k\", \"k\", \"k\"],\n",
        "        linestyles=[\"--\", \"-\", \"--\"],\n",
        "        levels=[-0.5, 0, 0.5],\n",
        "    )\n",
        "    plt.title(label=f'kernel = {kernel}')\n",
        "\n",
        "    plt.xlim(x_min, x_max)\n",
        "    plt.ylim(y_min, y_max)\n",
        "\n",
        "    plt.xticks(())\n",
        "    plt.yticks(())\n",
        "    fignum = fignum + 1\n",
        "plt.show()"
      ],
      "metadata": {
        "colab": {
          "base_uri": "https://localhost:8080/",
          "height": 605
        },
        "id": "W3erRXNEyHNo",
        "outputId": "86263f4e-ad41-4ad1-9789-916d7a05d986"
      },
      "execution_count": null,
      "outputs": [
        {
          "output_type": "display_data",
          "data": {
            "image/png": "[encoded data removed]",
            "text/plain": [
              "<Figure size 288x216 with 1 Axes>"
            ]
          },
          "metadata": {}
        },
        {
          "output_type": "display_data",
          "data": {
            "image/png": "[encoded data removed]",
            "text/plain": [
              "<Figure size 288x216 with 1 Axes>"
            ]
          },
          "metadata": {}
        },
        {
          "output_type": "display_data",
          "data": {
            "image/png": "[encoded data removed]",
            "text/plain": [
              "<Figure size 288x216 with 1 Axes>"
            ]
          },
          "metadata": {}
        }
      ]
    },
    {
      "cell_type": "markdown",
      "source": [
        "### **Ejercicio**"
      ],
      "metadata": {
        "id": "svv7B9pjzpDG"
      }
    },
    {
      "cell_type": "markdown",
      "source": [
        "Trata de clasificar las clases 1 y 2 del conjunto de datos iris con los metodos de SVMs, con las 2 primeras caracteristicas. Deja un 10% de ambas clases para testeo.\n",
        "\n",
        "**Precuacion**: Las clases estan ordenadas, por lo que no vale dejar el 10% de los datos al final para definir los sets de entrenamiento y validacion."
      ],
      "metadata": {
        "id": "3LUFVvs0zxSC"
      }
    },
    {
      "cell_type": "code",
      "source": [
        "from sklearn.datasets import load_iris\n",
        "from sklearn.svm import SVC\n",
        "import numpy as np"
      ],
      "metadata": {
        "id": "7t3vQNYN0jsb"
      },
      "execution_count": null,
      "outputs": []
    },
    {
      "cell_type": "code",
      "source": [
        "# Cargamos los datos\n",
        "X = load_iris().data\n",
        "y = load_iris().target\n",
        "\n",
        "# categorias en y\n",
        "np.unique(y)"
      ],
      "metadata": {
        "colab": {
          "base_uri": "https://localhost:8080/"
        },
        "id": "6usqMclq18F9",
        "outputId": "d8568b14-ecfa-4f8f-ad98-ed858ca46a18"
      },
      "execution_count": null,
      "outputs": [
        {
          "output_type": "execute_result",
          "data": {
            "text/plain": [
              "array([0, 1, 2])"
            ]
          },
          "metadata": {},
          "execution_count": 87
        }
      ]
    },
    {
      "cell_type": "code",
      "source": [
        "# tenemos que obtener los todos los valores de la categoria 1 y 2\n",
        "X = X[y != 0]\n",
        "y = y[y != 0]\n",
        "\n",
        "# luego, para x tenemos 4 caracteristicas y se nos pide trabajar con las 2 primeras\n",
        "X = X[:, :2]\n",
        "X.shape"
      ],
      "metadata": {
        "colab": {
          "base_uri": "https://localhost:8080/"
        },
        "id": "ZsiTZFaw2zxg",
        "outputId": "3b2a3f0d-511f-4bae-dc21-5d4f35f45133"
      },
      "execution_count": null,
      "outputs": [
        {
          "output_type": "execute_result",
          "data": {
            "text/plain": [
              "(100, 2)"
            ]
          },
          "metadata": {},
          "execution_count": 88
        }
      ]
    },
    {
      "cell_type": "code",
      "source": [
        "# ahora vamos a definir los sets de entrenamiento\n",
        "## primero veamos cuanto es el 10% de los datos de cada categoria\n",
        "n_1 = int(np.round(len(y[y == 1])*0.1, 0))\n",
        "n_2 = int(np.round(len(y[y == 2])*0.1, 0))\n",
        "\n",
        "X_train = np.append(X[y == 1][:-n_1, :], X[y == 2][:-n_1, :], axis=0)\n",
        "X_test = np.append(X[y == 1][-n_1:, :], X[y == 2][-n_1:, :], axis=0)\n",
        "y_train = np.append(y[y == 1][:-n_1], y[y == 2][:-n_1])\n",
        "y_test = np.append(y[y == 1][-n_1:], y[y == 2][-n_1:])"
      ],
      "metadata": {
        "id": "2rOMSJE53jPf"
      },
      "execution_count": null,
      "outputs": []
    },
    {
      "cell_type": "code",
      "source": [
        "def accuracy_clf(y_pred, y_test):\n",
        "  return np.sum([1 for i in range(len(y_pred)) if y_pred[i] == y_test[i]]) / len(y_pred)"
      ],
      "metadata": {
        "id": "-sQzHVZm9ymB"
      },
      "execution_count": null,
      "outputs": []
    },
    {
      "cell_type": "code",
      "source": [
        "# Ahora vamos a crear y ajustar el clasificador\n",
        "## Linear\n",
        "clf_linear = SVC(kernel='linear')\n",
        "clf_linear.fit(X_train, y_train)\n",
        "y_pred = clf_linear.predict(X_test)\n",
        "acc = accuracy_clf(y_pred, y_test)\n",
        "print(f'Accuracy SVC linear {acc}')\n",
        "\n",
        "# Polinomio\n",
        "clf_poly = SVC(kernel='poly', degree=3)\n",
        "clf_poly.fit(X_train, y_train)\n",
        "y_pred = clf_poly.predict(X_test)\n",
        "acc = accuracy_clf(y_pred, y_test)\n",
        "print(f'Accuracy SVC poly {acc}')\n",
        "\n",
        "\n",
        "# Radial basis function\n",
        "clf_rbf = SVC(kernel='rbf')\n",
        "clf_rbf.fit(X_train, y_train)\n",
        "y_pred = clf_rbf.predict(X_test)\n",
        "acc = accuracy_clf(y_pred, y_test)\n",
        "print(f'Accuracy SVC rbf {acc}')\n"
      ],
      "metadata": {
        "colab": {
          "base_uri": "https://localhost:8080/"
        },
        "id": "RuFhRbkv9H38",
        "outputId": "09e66ff0-7780-4350-f730-f0503affa82f"
      },
      "execution_count": null,
      "outputs": [
        {
          "output_type": "stream",
          "name": "stdout",
          "text": [
            "Accuracy SVC linear 0.8\n",
            "Accuracy SVC poly 0.8\n",
            "Accuracy SVC rbf 0.8\n"
          ]
        }
      ]
    },
    {
      "cell_type": "markdown",
      "source": [
        "## **Model selection: choosing estimators and their parameters**"
      ],
      "metadata": {
        "id": "mKFOOmufCM1c"
      }
    },
    {
      "cell_type": "markdown",
      "source": [
        "### **Score, and cross-validated scores**"
      ],
      "metadata": {
        "id": "VbdtVlejCWTl"
      }
    },
    {
      "cell_type": "markdown",
      "source": [
        "Como ya hemos visto, cada estimador tiene un rendimiento asociodo con el cual nosotros podemos juzgar la calidad del ajuste del algoritmo con los datos. **Mientras mas mejor**"
      ],
      "metadata": {
        "id": "8OaeJRdOPk0x"
      }
    },
    {
      "cell_type": "code",
      "source": [
        "from sklearn import datasets, svm\n",
        "X_digits, y_digits = datasets.load_digits(return_X_y=True)\n",
        "clf = svm.SVC(C=1, kernel='linear')\n",
        "X_train = X_digits[:-100] \n",
        "X_test = X_digits[-100:]\n",
        "y_train = y_digits[:-100]\n",
        "y_test = y_digits[-100:]\n",
        "\n",
        "clf.fit(X_train, y_train).score(X_test, y_test)"
      ],
      "metadata": {
        "colab": {
          "base_uri": "https://localhost:8080/"
        },
        "id": "L6YO_N7iP63e",
        "outputId": "f43f09c6-bec4-4355-b475-b4ac5107c05e"
      },
      "execution_count": null,
      "outputs": [
        {
          "output_type": "execute_result",
          "data": {
            "text/plain": [
              "0.98"
            ]
          },
          "metadata": {},
          "execution_count": 1
        }
      ]
    },
    {
      "cell_type": "code",
      "source": [
        "import numpy as np\n",
        "def accuracy_clf(y_pred, y_true):\n",
        "  return np.sum([1 for i in range(len(y_pred)) if y_pred[i] == y_true[i]]) / len(y_test)"
      ],
      "metadata": {
        "id": "XAMTxzQuQ9fM"
      },
      "execution_count": null,
      "outputs": []
    },
    {
      "cell_type": "code",
      "source": [
        "y_pred = clf.predict(X_test)\n",
        "acc = accuracy_clf(y_pred, y_test) \n",
        "acc  # Es decir, es la misma funcion de accuracy que hemos estado usando siempre"
      ],
      "metadata": {
        "colab": {
          "base_uri": "https://localhost:8080/"
        },
        "id": "j9VBKiRERXPZ",
        "outputId": "3c2ced69-0da3-4ac8-b858-97da6e0ba017"
      },
      "execution_count": null,
      "outputs": [
        {
          "output_type": "execute_result",
          "data": {
            "text/plain": [
              "0.98"
            ]
          },
          "metadata": {},
          "execution_count": 3
        }
      ]
    },
    {
      "cell_type": "markdown",
      "source": [
        "Para obtener una mejor medicion sobre el acierto del algoritmo, lo que podriamos hacer es crear varias pruebas con un set de entrenamiento y validacion unico para cada una de estas."
      ],
      "metadata": {
        "id": "WxtgK6lYRtbZ"
      }
    },
    {
      "cell_type": "code",
      "source": [
        "# Aqui vamos a hacer 3 pruebas de ajustes con sets de entrenamiento y validacion distintos\n",
        "X_folds = np.array_split(X_digits, 3)\n",
        "y_folds = np.array_split(y_digits, 3)\n",
        "scores = list()\n",
        "for k in range(3):\n",
        "  X_train = list(X_folds) # lista con 3 elementos, cada uno contiene 599 observaciones\n",
        "  X_test = X_train.pop(k) # quitamos 1 de estos 3 elementos, segun el indice k\n",
        "  X_train = np.concatenate(X_train) # volvemos a agrupar los 2 elementos restantes\n",
        "  \n",
        "  # Hacemos lo mismo para el target\n",
        "  y_train = list(y_folds)\n",
        "  y_test = y_train.pop(k) \n",
        "  y_train = np.concatenate(y_train)\n",
        "\n",
        "  # Agregamos los rendimeintos a la lista de puntajes\n",
        "  clf.fit(X_train, y_train)\n",
        "  acc = clf.score(X_test, y_test)\n",
        "  scores.append(acc)\n",
        "\n",
        "scores"
      ],
      "metadata": {
        "colab": {
          "base_uri": "https://localhost:8080/"
        },
        "id": "qRtG_SveSHFC",
        "outputId": "5d309399-0d43-4ec4-c6f4-00fab25b347b"
      },
      "execution_count": null,
      "outputs": [
        {
          "output_type": "execute_result",
          "data": {
            "text/plain": [
              "[0.9348914858096828, 0.9565943238731218, 0.9398998330550918]"
            ]
          },
          "metadata": {},
          "execution_count": 16
        }
      ]
    },
    {
      "cell_type": "markdown",
      "source": [
        "A este tipo de medicion se le llama **kfold cross-validation**"
      ],
      "metadata": {
        "id": "WK_2Jkq1VIf3"
      }
    },
    {
      "cell_type": "markdown",
      "source": [
        "### **Cross-validation generators**"
      ],
      "metadata": {
        "id": "AB_TT8-1CdOi"
      }
    },
    {
      "cell_type": "markdown",
      "source": [
        "`sklearn` tiene una collecion de clases las cuales pueden ayudar a la generacion de sets de entrenamiento y validacion apuntando a estrategias de **cross-validation**\n",
        "\n",
        "A continuacion se expone como utilzar el metodo `.split(X)`"
      ],
      "metadata": {
        "id": "lQbsXCV9VS_W"
      }
    },
    {
      "cell_type": "code",
      "source": [
        "from sklearn.model_selection import KFold, cross_val_score \n",
        "X = ['a', 'a', 'a', 'b', 'b', 'c', 'c', 'c', 'c', 'c']\n",
        "k_fold = KFold(n_splits=5) # Esto son 5 carpetas (folds) para pruebas\n",
        "for train_indices, test_indices in k_fold.split(X):\n",
        "  print(f'train set: {train_indices}  validation set: {test_indices}')"
      ],
      "metadata": {
        "colab": {
          "base_uri": "https://localhost:8080/"
        },
        "id": "z1ZqxIFhV1K6",
        "outputId": "20219194-8507-42dc-f483-d54fc22e5e96"
      },
      "execution_count": null,
      "outputs": [
        {
          "output_type": "stream",
          "name": "stdout",
          "text": [
            "train set: [2 3 4 5 6 7 8 9]  validation set: [0 1]\n",
            "train set: [0 1 4 5 6 7 8 9]  validation set: [2 3]\n",
            "train set: [0 1 2 3 6 7 8 9]  validation set: [4 5]\n",
            "train set: [0 1 2 3 4 5 8 9]  validation set: [6 7]\n",
            "train set: [0 1 2 3 4 5 6 7]  validation set: [8 9]\n"
          ]
        }
      ]
    },
    {
      "cell_type": "code",
      "source": [
        "scores = []\n",
        "for train, test in k_fold.split(X_digits):\n",
        "  clf.fit(X_digits[train], y_digits[train])\n",
        "  acc = clf.score(X_digits[test], y_digits[test])\n",
        "  scores.append(acc)\n",
        "\n",
        "scores"
      ],
      "metadata": {
        "colab": {
          "base_uri": "https://localhost:8080/"
        },
        "id": "wboFZgitWyxz",
        "outputId": "2e023f7f-81b7-4361-a557-14dff6cb1ef8"
      },
      "execution_count": null,
      "outputs": [
        {
          "output_type": "execute_result",
          "data": {
            "text/plain": [
              "[0.9638888888888889,\n",
              " 0.9222222222222223,\n",
              " 0.9637883008356546,\n",
              " 0.9637883008356546,\n",
              " 0.9303621169916435]"
            ]
          },
          "metadata": {},
          "execution_count": 18
        }
      ]
    },
    {
      "cell_type": "markdown",
      "source": [
        "Los puntajes de **cross-validation scores** pueden ser directamente calculados utilizando el metodo `cross_val_score`. Asi, como se muestra a continuacion:\n"
      ],
      "metadata": {
        "id": "N6pMfzLCXwzP"
      }
    },
    {
      "cell_type": "code",
      "source": [
        "# metodo cross_val_score(algoritmo, X, y, cv, n_jobs)\n",
        "# cv: cross-validation method \n",
        "# n_jobs=-1: es para que el trabajo se realice utilizando todas las CPU disponibles\n",
        "scores = cross_val_score(clf, X_digits, y_digits, cv=k_fold, n_jobs=-1)\n",
        "scores"
      ],
      "metadata": {
        "colab": {
          "base_uri": "https://localhost:8080/"
        },
        "id": "rRlpwjnnYMM4",
        "outputId": "f7b9f309-b707-44f8-f042-06832dcd3c45"
      },
      "execution_count": null,
      "outputs": [
        {
          "output_type": "execute_result",
          "data": {
            "text/plain": [
              "array([0.96388889, 0.92222222, 0.9637883 , 0.9637883 , 0.93036212])"
            ]
          },
          "metadata": {},
          "execution_count": 19
        }
      ]
    },
    {
      "cell_type": "markdown",
      "source": [
        "**Alternativamente**, podriamos ocupar otra metrica para el proceso de cross-validation."
      ],
      "metadata": {
        "id": "2gw0kl_QYl86"
      }
    },
    {
      "cell_type": "code",
      "source": [
        "scores = cross_val_score(clf, X_digits, y_digits, cv=k_fold, scoring='precision_macro')\n",
        "scores"
      ],
      "metadata": {
        "colab": {
          "base_uri": "https://localhost:8080/"
        },
        "id": "RU4pzDRUZbYs",
        "outputId": "2afc59c5-ba14-41ba-e10a-6068fb7c5927"
      },
      "execution_count": null,
      "outputs": [
        {
          "output_type": "execute_result",
          "data": {
            "text/plain": [
              "array([0.96578289, 0.92708922, 0.96681476, 0.96362897, 0.93192644])"
            ]
          },
          "metadata": {},
          "execution_count": 21
        }
      ]
    },
    {
      "cell_type": "markdown",
      "source": [
        "**Cross-validation generators**\n",
        "\n",
        "|Metodos| Descripcion|\n",
        "|------|------------|\n",
        "|`KFold(n_splits, shuffle, random_state)`|Separa en k carpetas, con k-1 para entrenamiento y 1 para testeo|\n",
        "|`StratifiedKFold (n_splits, shuffle, random_state)`| Mismo que el antirior, pero conservando la distribucion de las clases por carpeta|\n",
        "|`GroupKFold (n_splits)`|Se asegura que un mismo grupo no se encuentre repetido|\n",
        "|`ShuffleSplit (n_splits, test_size, train_size, random_state)`|Genera los indices para los sets de entrenamiento y testeo permutando los datos de manera aleatoria|\n",
        "|`StratifiedShuffleSplit`|Lo mismo que `ShuffleSplit`, pero asegurando la distrucion uniforme de las clases|\n",
        "|`GroupShuffleSplit`| Asegura que no se generen grupo repetidos, ahora para los sets separados de manera desordenana|\n",
        "|`LeaveOneGroupOut ()`|Saca un grupo de observaciones|\n",
        "|`LeavePGroupsOut (n_groups)`|Saca una cantidad de grupos de observaciones|\n",
        "|`LeaveOneOut ()`|Deja una observacion afuera|\n",
        "|`LeavePOut (p)`|Deja **p** observaciones afuera|\n",
        "|`PredefinedSplit`|Genera los indices de entrenamiento y testeo en base a un separador predefinido|\n",
        "\n"
      ],
      "metadata": {
        "id": "3rd58tx8Z-60"
      }
    },
    {
      "cell_type": "markdown",
      "source": [
        "### **Ejercicio**\n",
        "\n"
      ],
      "metadata": {
        "id": "bmega1mqgMG_"
      }
    },
    {
      "cell_type": "markdown",
      "source": [
        "Trabajando sobre el set de datos de digitos, grafica los puntajes de **cross-validation** para el estimador SVC con kernel linear y en funcion del parametro C. (usa un espacio de puntos logaritmicos que vayan de 1 a 10)"
      ],
      "metadata": {
        "id": "wZCPVdHpgVY5"
      }
    },
    {
      "cell_type": "code",
      "source": [
        "import numpy as np \n",
        "from sklearn.model_selection import cross_val_score \n",
        "from sklearn import datasets, svm "
      ],
      "metadata": {
        "id": "A-TxWAp0gU7j"
      },
      "execution_count": null,
      "outputs": []
    },
    {
      "cell_type": "code",
      "source": [
        "X, y = datasets.load_digits(return_X_y=True) \n",
        "\n",
        "svc = svm.SVC(kernel='linear')\n",
        "C_s = np.logspace(-10, 0, 10)\n",
        "\n",
        "scores = list()\n",
        "scores_std = list()"
      ],
      "metadata": {
        "id": "-0uyTkcPhWWg"
      },
      "execution_count": null,
      "outputs": []
    },
    {
      "cell_type": "code",
      "source": [
        "kfold = KFold(n_splits=3)\n",
        "Groups = kfold.split(X, y)\n",
        "for c in C_s:\n",
        "  svc.C = c\n",
        "  acc = cross_val_score(svc, X, y, n_jobs=1)\n",
        "  mean = np.mean(acc)\n",
        "  std = np.std(acc)\n",
        "  scores.append(mean)\n",
        "  scores_std.append(std)\n"
      ],
      "metadata": {
        "id": "RJNSzznMLEC4"
      },
      "execution_count": null,
      "outputs": []
    },
    {
      "cell_type": "code",
      "source": [
        "import matplotlib.pyplot as plt\n",
        "\n",
        "plt.figure()\n",
        "plt.semilogx(C_s, scores) # valores medios\n",
        "plt.semilogx(C_s, np.array(scores) + np.array(scores_std), \"b--\") \n",
        "plt.semilogx(C_s, np.array(scores) - np.array(scores_std), \"b--\")\n",
        "\n",
        "plt.ylabel(\"CV score\")\n",
        "plt.xlabel(\"Parameter C\")\n",
        "plt.ylim(0, 1.1)\n",
        "plt.show()"
      ],
      "metadata": {
        "colab": {
          "base_uri": "https://localhost:8080/",
          "height": 283
        },
        "id": "5JnpmPMRNFA-",
        "outputId": "e447f945-4236-4c89-fce2-910e10dc9646"
      },
      "execution_count": null,
      "outputs": [
        {
          "output_type": "display_data",
          "data": {
            "image/png": "[encoded data removed]",
            "text/plain": [
              "<Figure size 432x288 with 1 Axes>"
            ]
          },
          "metadata": {
            "needs_background": "light"
          }
        }
      ]
    },
    {
      "cell_type": "markdown",
      "source": [
        "### **Grid-search and cross-validation estimators**"
      ],
      "metadata": {
        "id": "IZ3ViXV2CkVK"
      }
    },
    {
      "cell_type": "markdown",
      "source": [
        "`Sklearn` tiene un objeto que es capaz de, dado los datos, computar el rendimiento del algoritmo para un conjunto de parametros dados y asi regresar el que logro un mayor desempeño."
      ],
      "metadata": {
        "id": "Q0-4ED73b9_L"
      }
    },
    {
      "cell_type": "code",
      "source": [
        "from sklearn.model_selection import GridSearchCV, cross_val_score \n",
        "from sklearn.svm import SVC\n",
        "from sklearn.datasets import load_digits\n",
        "\n",
        "X_digits, y_digits = load_digits(return_X_y=True)\n",
        "svc = SVC(kernel='linear')\n",
        "Cs = np.logspace(-6, -1, 10)\n",
        "clf = GridSearchCV(estimator=svc, param_grid=dict(C=Cs), n_jobs=-1)\n",
        "clf.fit(X_digits[:1000], y_digits[:1000])\n"
      ],
      "metadata": {
        "colab": {
          "base_uri": "https://localhost:8080/"
        },
        "id": "ANJXsoUOcmLe",
        "outputId": "7f434b2f-c869-475d-edc7-fe3c7cf129c1"
      },
      "execution_count": null,
      "outputs": [
        {
          "output_type": "execute_result",
          "data": {
            "text/plain": [
              "GridSearchCV(estimator=SVC(kernel='linear'), n_jobs=-1,\n",
              "             param_grid={'C': array([1.00000000e-06, 3.59381366e-06, 1.29154967e-05, 4.64158883e-05,\n",
              "       1.66810054e-04, 5.99484250e-04, 2.15443469e-03, 7.74263683e-03,\n",
              "       2.78255940e-02, 1.00000000e-01])})"
            ]
          },
          "metadata": {},
          "execution_count": 32
        }
      ]
    },
    {
      "cell_type": "code",
      "source": [
        "clf.best_score_"
      ],
      "metadata": {
        "colab": {
          "base_uri": "https://localhost:8080/"
        },
        "id": "UmALdbY3d_3z",
        "outputId": "f040da58-79f5-4ed7-f5b8-c36ebe1bb8c6"
      },
      "execution_count": null,
      "outputs": [
        {
          "output_type": "execute_result",
          "data": {
            "text/plain": [
              "0.95"
            ]
          },
          "metadata": {},
          "execution_count": 33
        }
      ]
    },
    {
      "cell_type": "code",
      "source": [
        "clf.best_estimator_"
      ],
      "metadata": {
        "colab": {
          "base_uri": "https://localhost:8080/"
        },
        "id": "FGTN1vO8eDic",
        "outputId": "69523380-d1c1-40e9-a540-88a43fa1255d"
      },
      "execution_count": null,
      "outputs": [
        {
          "output_type": "execute_result",
          "data": {
            "text/plain": [
              "SVC(C=0.0021544346900318843, kernel='linear')"
            ]
          },
          "metadata": {},
          "execution_count": 34
        }
      ]
    },
    {
      "cell_type": "markdown",
      "source": [
        "Por defecto, el metodo `GridSearchCV` ocupa 5 \"carpetas\" para el **cross-validation**."
      ],
      "metadata": {
        "id": "CrICVT9NeOXI"
      }
    },
    {
      "cell_type": "markdown",
      "source": [
        "**Nested cross-validation**\n",
        "\n",
        "\n"
      ],
      "metadata": {
        "id": "ZrUBjVlQeyeA"
      }
    },
    {
      "cell_type": "markdown",
      "source": [
        "2 ciclos de cross-validation son ejecutados en paralelo: uno con el metodo de `GridSearchCV` para definir el parametro `gamma` y otro con el metodo de `cross_val_score` para obtener la metrica del mejor estimador. De esta manera, los resultados de los estimadores no se encontraran sesgados a los puntajes que pudieron haber obtenido con los nuevos datos"
      ],
      "metadata": {
        "id": "g79ka2fSe-5N"
      }
    },
    {
      "cell_type": "code",
      "source": [
        "from sklearn import linear_model, datasets \n",
        "lasso = linear_model.LassoCV()\n",
        "X_diabetes, y_diabetes = datasets.load_diabetes(return_X_y=True)\n",
        "lasso.fit(X_diabetes, y_diabetes)\n"
      ],
      "metadata": {
        "colab": {
          "base_uri": "https://localhost:8080/"
        },
        "id": "4TPQVlWRe4SZ",
        "outputId": "a053f4c1-8a47-469a-8b78-2c44df9bfe8e"
      },
      "execution_count": null,
      "outputs": [
        {
          "output_type": "execute_result",
          "data": {
            "text/plain": [
              "LassoCV()"
            ]
          },
          "metadata": {},
          "execution_count": 35
        }
      ]
    },
    {
      "cell_type": "code",
      "source": [
        "lasso.alpha_"
      ],
      "metadata": {
        "colab": {
          "base_uri": "https://localhost:8080/"
        },
        "id": "iujfkMJdgYOY",
        "outputId": "5e27010c-d4c4-4c93-de3b-ecccdda0e5e6"
      },
      "execution_count": null,
      "outputs": [
        {
          "output_type": "execute_result",
          "data": {
            "text/plain": [
              "0.003753767152692203"
            ]
          },
          "metadata": {},
          "execution_count": 36
        }
      ]
    },
    {
      "cell_type": "markdown",
      "source": [
        "Estos estimadores son llamados de una manera similar con sus contrapartes con el CV añadidos a su nombre (**estos ya incluyen un proceso de cross-validation**)\n"
      ],
      "metadata": {
        "id": "aSiasX9zgfx1"
      }
    },
    {
      "cell_type": "markdown",
      "source": [
        "### **Ejercicio**"
      ],
      "metadata": {
        "id": "KtBWsFxAgw9B"
      }
    },
    {
      "cell_type": "markdown",
      "source": [
        "Para la base de datos de diabetes, encuentra el parametro alpha que optimiza la regularizacion."
      ],
      "metadata": {
        "id": "Zfip2FsBg2N_"
      }
    },
    {
      "cell_type": "code",
      "source": [
        "from sklearn.linear_model import LassoCV \n",
        "from sklearn.linear_model import Lasso \n",
        "from sklearn.model_selection import KFold \n",
        "from sklearn.model_selection import GridSearchCV \n",
        "\n",
        "X, y = datasets.load_diabetes(return_X_y=True)\n",
        "X = X[:150]\n",
        "y = y[:150]"
      ],
      "metadata": {
        "id": "XtQiJxVygwna"
      },
      "execution_count": null,
      "outputs": []
    },
    {
      "cell_type": "code",
      "source": [
        "regr = Lasso()\n",
        "k_fold = KFold()\n",
        "alphas = np.logspace(-4, -0.5, 30)\n",
        "grid_search_cv = GridSearchCV(regr, param_grid=dict(alpha=alphas), cv=k_fold)\n",
        "grid_search_cv.fit(X, y)"
      ],
      "metadata": {
        "colab": {
          "base_uri": "https://localhost:8080/"
        },
        "id": "38V8V2_ciLvU",
        "outputId": "ec4fa531-36bf-4911-c35f-2d08914f2b74"
      },
      "execution_count": null,
      "outputs": [
        {
          "output_type": "stream",
          "name": "stderr",
          "text": [
            "/usr/local/lib/python3.7/dist-packages/sklearn/linear_model/_coordinate_descent.py:648: ConvergenceWarning: Objective did not converge. You might want to increase the number of iterations, check the scale of the features or consider increasing regularisation. Duality gap: 1.395e+02, tolerance: 7.284e+01\n",
            "  coef_, l1_reg, l2_reg, X, y, max_iter, tol, rng, random, positive\n",
            "/usr/local/lib/python3.7/dist-packages/sklearn/linear_model/_coordinate_descent.py:648: ConvergenceWarning: Objective did not converge. You might want to increase the number of iterations, check the scale of the features or consider increasing regularisation. Duality gap: 8.113e+01, tolerance: 7.284e+01\n",
            "  coef_, l1_reg, l2_reg, X, y, max_iter, tol, rng, random, positive\n"
          ]
        },
        {
          "output_type": "execute_result",
          "data": {
            "text/plain": [
              "GridSearchCV(cv=KFold(n_splits=5, random_state=None, shuffle=False),\n",
              "             estimator=Lasso(),\n",
              "             param_grid={'alpha': array([1.00000000e-04, 1.32035178e-04, 1.74332882e-04, 2.30180731e-04,\n",
              "       3.03919538e-04, 4.01280703e-04, 5.29831691e-04, 6.99564216e-04,\n",
              "       9.23670857e-04, 1.21957046e-03, 1.61026203e-03, 2.12611233e-03,\n",
              "       2.80721620e-03, 3.70651291e-03, 4.89390092e-03, 6.46167079e-03,\n",
              "       8.53167852e-03, 1.12648169e-02, 1.48735211e-02, 1.96382800e-02,\n",
              "       2.59294380e-02, 3.42359796e-02, 4.52035366e-02, 5.96845700e-02,\n",
              "       7.88046282e-02, 1.04049831e-01, 1.37382380e-01, 1.81393069e-01,\n",
              "       2.39502662e-01, 3.16227766e-01])})"
            ]
          },
          "metadata": {},
          "execution_count": 46
        }
      ]
    },
    {
      "cell_type": "code",
      "source": [
        "grid_search_cv.best_params_"
      ],
      "metadata": {
        "colab": {
          "base_uri": "https://localhost:8080/"
        },
        "id": "Csyl4LCvkuPI",
        "outputId": "0dbb895b-a7ab-43b1-ae10-fd8d40e232fe"
      },
      "execution_count": null,
      "outputs": [
        {
          "output_type": "execute_result",
          "data": {
            "text/plain": [
              "{'alpha': 0.07880462815669913}"
            ]
          },
          "metadata": {},
          "execution_count": 47
        }
      ]
    },
    {
      "cell_type": "markdown",
      "source": [
        "¿que tanto podemos confiar de este parametro `alpha`?"
      ],
      "metadata": {
        "id": "4VpBNvyjlwQZ"
      }
    },
    {
      "cell_type": "code",
      "source": [
        "regr = LassoCV(alphas=alphas, random_state=0, max_iter=10000)\n",
        "k_fold = KFold(3)\n",
        "grupos = k_fold.split(X, y)\n",
        "scores = []\n",
        "alphas = []\n",
        "for train, test in grupos:\n",
        "  regr.fit(X[train], y[train])\n",
        "  acc = regr.score(X[test], y[test])\n",
        "  scores.append(acc)\n",
        "  alphas.append(regr.alpha_)"
      ],
      "metadata": {
        "id": "6FTeeEt3l5op"
      },
      "execution_count": null,
      "outputs": []
    },
    {
      "cell_type": "code",
      "source": [
        "alphas"
      ],
      "metadata": {
        "colab": {
          "base_uri": "https://localhost:8080/"
        },
        "id": "nP_EtKMgnl5W",
        "outputId": "2676a33a-7c54-4d44-c19d-74a92635e515"
      },
      "execution_count": null,
      "outputs": [
        {
          "output_type": "execute_result",
          "data": {
            "text/plain": [
              "[0.05968456995122311, 0.04520353656360245, 0.07880462815669913]"
            ]
          },
          "metadata": {},
          "execution_count": 52
        }
      ]
    },
    {
      "cell_type": "code",
      "source": [
        "scores"
      ],
      "metadata": {
        "colab": {
          "base_uri": "https://localhost:8080/"
        },
        "id": "0diG3x_8nnxL",
        "outputId": "1262ccfc-06a6-4fbf-93cb-4b0b0d24c57b"
      },
      "execution_count": null,
      "outputs": [
        {
          "output_type": "execute_result",
          "data": {
            "text/plain": [
              "[0.5420934847477341, 0.15522627264991862, 0.45192716814674017]"
            ]
          },
          "metadata": {},
          "execution_count": 53
        }
      ]
    },
    {
      "cell_type": "markdown",
      "source": [
        "**Respuesta:** No se puede confiar mucho en el valor del parametro `alpha`, ya que este varia dependiendo del subconjunto de datos y, por sobre de todo, el puntaje por alpha cambia drasticamente."
      ],
      "metadata": {
        "id": "PgF7nScYn77C"
      }
    },
    {
      "cell_type": "markdown",
      "source": [
        "## **Unsupervised learning: seeking representations of the data**"
      ],
      "metadata": {
        "id": "LoVTditCI15y"
      }
    },
    {
      "cell_type": "markdown",
      "source": [
        "### **Clustering: grouping observations together**\n"
      ],
      "metadata": {
        "id": "ktFk4x3YI_mO"
      }
    },
    {
      "cell_type": "markdown",
      "source": [
        "**El problema que resolvemos con Clustering**\n",
        "\n",
        "Al utilizar la base de datos iris, nosotros podemos observar que existen 3 tipo de iris (Lirios), sin embargo, no tenemos acceso a la taxonomia de la etiqueta puestos en estos. Lo que podriamos tratar entonces en realizar una tarea de **clustering**. Asi, lo que haremos es separar las observaciones en grupos denominados \"clusters\""
      ],
      "metadata": {
        "id": "D96lLWmgmECt"
      }
    },
    {
      "cell_type": "markdown",
      "source": [
        "**K-means clustering**\n",
        "\n",
        "Antes de empezar debemos mencionar que existen varios criterios de agrupacion junto a los algoritmos asociados. En particular k-mean clustering es uno de los mas sencillos de ellos."
      ],
      "metadata": {
        "id": "Qvn0U8b5mwhv"
      }
    },
    {
      "cell_type": "code",
      "source": [
        "from sklearn import  cluster, datasets \n",
        "X_iris, y_iris = datasets.load_iris(return_X_y=True) \n",
        "\n",
        "k_means = cluster.KMeans(n_clusters=3)\n",
        "k_means.fit(X_iris)\n",
        "                                    "
      ],
      "metadata": {
        "colab": {
          "base_uri": "https://localhost:8080/"
        },
        "id": "3s0dpe2KnPUw",
        "outputId": "4c1ce76c-9c13-462a-80db-5035e8fcb155"
      },
      "execution_count": null,
      "outputs": [
        {
          "output_type": "execute_result",
          "data": {
            "text/plain": [
              "KMeans(n_clusters=3)"
            ]
          },
          "metadata": {},
          "execution_count": 3
        }
      ]
    },
    {
      "cell_type": "code",
      "source": [
        "# Etiquetas designadas por el algoritmo\n",
        "k_means.labels_[::10]"
      ],
      "metadata": {
        "colab": {
          "base_uri": "https://localhost:8080/"
        },
        "id": "No6f2VHJn2IA",
        "outputId": "b239f1db-4f06-4779-c963-bb55e5c297ca"
      },
      "execution_count": null,
      "outputs": [
        {
          "output_type": "execute_result",
          "data": {
            "text/plain": [
              "array([0, 0, 0, 0, 0, 2, 2, 2, 2, 2, 1, 1, 1, 1, 1], dtype=int32)"
            ]
          },
          "metadata": {},
          "execution_count": 4
        }
      ]
    },
    {
      "cell_type": "code",
      "source": [
        "# Etiquetas reales de los datos \n",
        "y_iris[::10]"
      ],
      "metadata": {
        "colab": {
          "base_uri": "https://localhost:8080/"
        },
        "id": "2XT1qy7XoFZ3",
        "outputId": "6ef9441e-a35c-4512-cb4c-da49074b13ee"
      },
      "execution_count": null,
      "outputs": [
        {
          "output_type": "execute_result",
          "data": {
            "text/plain": [
              "array([0, 0, 0, 0, 0, 1, 1, 1, 1, 1, 2, 2, 2, 2, 2])"
            ]
          },
          "metadata": {},
          "execution_count": 5
        }
      ]
    },
    {
      "cell_type": "markdown",
      "source": [
        "**Warning**: Con este procedimiento no se encuentra asegurado ningun nuevo hallazgo en los datos. En primer lugar, la tarea de definir un numero exactos de cluster es dificil y en segundo lugar, el algoritmo es tremendamente variable en funcion de la inicializacion, cayendo en un **minimo local**."
      ],
      "metadata": {
        "id": "kVWMV1YhqU7-"
      }
    },
    {
      "cell_type": "markdown",
      "source": [
        "**Application example: vector quantification**\n",
        "\n"
      ],
      "metadata": {
        "id": "dPe38a79rMTR"
      }
    },
    {
      "cell_type": "markdown",
      "source": [
        "Clustering, y en particular con `KMeans`, pueden ser vistos como una manera de escoger un pequeño numero de ejemplares para comprimir la informacion. Este problema en algunas ocaciones es conocido como **vector quantization**. Por el momento, esto lo podriamos utilizar para la **posterizacion (pasar de tonos continuos a unos pocos)** de una imagen."
      ],
      "metadata": {
        "id": "ZTt-Yb5KrUFi"
      }
    },
    {
      "cell_type": "code",
      "source": [
        "import scipy as sp \n",
        "try:\n",
        "  face = sp.face(grey=True)\n",
        "except AttributeError:\n",
        "  from scipy import misc\n",
        "  face = misc.face(gray=True)"
      ],
      "metadata": {
        "id": "V83QOksWshuK"
      },
      "execution_count": null,
      "outputs": []
    },
    {
      "cell_type": "code",
      "source": [
        "import matplotlib.pyplot as plt\n",
        "# Imagen original\n",
        "plt.figure(1, figsize=(3, 2.2))\n",
        "plt.imshow(face, cmap=plt.cm.gray)"
      ],
      "metadata": {
        "colab": {
          "base_uri": "https://localhost:8080/",
          "height": 188
        },
        "id": "DCfoH65Os9HT",
        "outputId": "7b66b733-6c2d-46ba-f4f4-830103453212"
      },
      "execution_count": null,
      "outputs": [
        {
          "output_type": "execute_result",
          "data": {
            "text/plain": [
              "<matplotlib.image.AxesImage at 0x7f2912cf7110>"
            ]
          },
          "metadata": {},
          "execution_count": 10
        },
        {
          "output_type": "display_data",
          "data": {
            "image/png": "[encoded data removed]",
            "text/plain": [
              "<Figure size 216x158.4 with 1 Axes>"
            ]
          },
          "metadata": {
            "needs_background": "light"
          }
        }
      ]
    },
    {
      "cell_type": "code",
      "source": [
        "# Miremos como esta construida esta imagen\n",
        "face.shape"
      ],
      "metadata": {
        "colab": {
          "base_uri": "https://localhost:8080/"
        },
        "id": "fl2bPkCptwan",
        "outputId": "c1e0a87c-2633-4e8a-91cd-3ae8fb166f38"
      },
      "execution_count": null,
      "outputs": [
        {
          "output_type": "execute_result",
          "data": {
            "text/plain": [
              "(768, 1024)"
            ]
          },
          "metadata": {},
          "execution_count": 11
        }
      ]
    },
    {
      "cell_type": "code",
      "source": [
        "# Lo que estamos haciendo aqui es adaptando la imagen a ala estructura\n",
        "# (n_sample, n_feature), asi cada pixel de la imagen pasa a ser una muestra\n",
        "# y la unica caracteristica que presenta es un valor entre 0 a 255 para la escala\n",
        "# de grises\n",
        "X = face.reshape((-1, 1))\n",
        "X.shape"
      ],
      "metadata": {
        "colab": {
          "base_uri": "https://localhost:8080/"
        },
        "id": "7NhTXDh8t_rE",
        "outputId": "2317b736-a9f9-4c38-bca9-1ffd5771a6de"
      },
      "execution_count": null,
      "outputs": [
        {
          "output_type": "execute_result",
          "data": {
            "text/plain": [
              "(786432, 1)"
            ]
          },
          "metadata": {},
          "execution_count": 12
        }
      ]
    },
    {
      "cell_type": "code",
      "source": [
        "# Agrupamos los pixeles en 5 grupos (clusters)\n",
        "k_means = cluster.KMeans(n_clusters=5, n_init=1)\n",
        "k_means.fit(X)"
      ],
      "metadata": {
        "colab": {
          "base_uri": "https://localhost:8080/"
        },
        "id": "wfwsSL7vuxTK",
        "outputId": "0698a0ad-b03a-4d6b-8461-cafffa2650d2"
      },
      "execution_count": null,
      "outputs": [
        {
          "output_type": "execute_result",
          "data": {
            "text/plain": [
              "KMeans(n_clusters=5, n_init=1)"
            ]
          },
          "metadata": {},
          "execution_count": 13
        }
      ]
    },
    {
      "cell_type": "code",
      "source": [
        "# Estos son los valores de escalar de grises que se ocuparian\n",
        "values = k_means.cluster_centers_.squeeze()\n",
        "values"
      ],
      "metadata": {
        "colab": {
          "base_uri": "https://localhost:8080/"
        },
        "id": "ISVMCp6uvRBb",
        "outputId": "e9b24ca8-af8e-4c2a-dd7d-2d4c72bb3524"
      },
      "execution_count": null,
      "outputs": [
        {
          "output_type": "execute_result",
          "data": {
            "text/plain": [
              "array([194.13840989,  27.62031146, 114.99362851, 153.31393344,\n",
              "        75.41095451])"
            ]
          },
          "metadata": {},
          "execution_count": 17
        }
      ]
    },
    {
      "cell_type": "code",
      "source": [
        "# Estas son las clases que representan cada uno de estos valores (colores de grises)\n",
        "import numpy as np\n",
        "labels = k_means.labels_\n",
        "np.unique(labels)"
      ],
      "metadata": {
        "colab": {
          "base_uri": "https://localhost:8080/"
        },
        "id": "12I25laEvtZ_",
        "outputId": "4f92b6e3-82cd-42c2-92f9-8eb277f5b5b5"
      },
      "execution_count": null,
      "outputs": [
        {
          "output_type": "execute_result",
          "data": {
            "text/plain": [
              "array([0, 1, 2, 3, 4], dtype=int32)"
            ]
          },
          "metadata": {},
          "execution_count": 22
        }
      ]
    },
    {
      "cell_type": "code",
      "source": [
        "# Generamos la nueva imagen\n",
        "face_compressed = np.choose(labels, values) # Para cada label le asignamos su escala de gris\n",
        "face_compressed.shape = face.shape # Dejamos a la nueva imagen con las mismas dim originales\n",
        "plt.figure(1, figsize=(3, 2.2))\n",
        "plt.imshow(face_compressed, cmap=plt.cm.gray)"
      ],
      "metadata": {
        "colab": {
          "base_uri": "https://localhost:8080/",
          "height": 188
        },
        "id": "3HTa3L3OwaIU",
        "outputId": "c600b764-e73d-4d75-9260-f4e6981ec484"
      },
      "execution_count": null,
      "outputs": [
        {
          "output_type": "execute_result",
          "data": {
            "text/plain": [
              "<matplotlib.image.AxesImage at 0x7f2912548ed0>"
            ]
          },
          "metadata": {},
          "execution_count": 24
        },
        {
          "output_type": "display_data",
          "data": {
            "image/png": "[encoded data removed]",
            "text/plain": [
              "<Figure size 216x158.4 with 1 Axes>"
            ]
          },
          "metadata": {
            "needs_background": "light"
          }
        }
      ]
    },
    {
      "cell_type": "markdown",
      "source": [
        "**Hieratical agglomerative clustering: Ward**\n",
        "\n"
      ],
      "metadata": {
        "id": "ZwCEwI_gxwIC"
      }
    },
    {
      "cell_type": "markdown",
      "source": [
        "Hieratical clustering es un tipo de analsis por agrupaciones que tiene por objetivo construi una jerarquia. En general podemos diferenciar 2 de ellas:\n",
        "\n",
        "- **Agglometative**: Foco ascendente, cada observacion parte en un grupo, e iterativamente se van mezclando los grupos buscando minimizar un criterio **linkage (de vinculacion)**. Es recomendable usar este metodo si se cuentan con pocas observaciones. Por otro lado, si existen un gran numero de **clusters** entonces es recomendable usar K-means.\n",
        "\n",
        "- **Divisive**: Foco descendente. Todas las observaciones comienzan en un cluster e iterativamente se van segmentando las observaciones en algunos nuevos. Tambien es importante señalar que para un gran numero de **clusters** este algoritmo es lento de entrenar, ya que tiene que partir desde un todo agrupado."
      ],
      "metadata": {
        "id": "ndP9qvRIlV6h"
      }
    },
    {
      "cell_type": "markdown",
      "source": [
        "**Conectivity-constrained clustering**\n",
        "\n",
        "Con el metodo de **agglomerative clustering**, es posible especificar cuales muestras seran clasificadas juntas, a traves de un **connectivity graph (grafico de concetividad)**. Usualmente se utiliza una matriz de dispersa. Esto puede ser util, por ejemplo, para conectar regiones de una imagen."
      ],
      "metadata": {
        "id": "LqCUPb-Unohx"
      }
    },
    {
      "cell_type": "code",
      "source": [
        "# Importamos bibliotecas\n",
        "from skimage.data import coins \n",
        "from scipy.ndimage.filters import gaussian_filter \n",
        "from skimage.transform import rescale\n",
        "import numpy as np"
      ],
      "metadata": {
        "id": "7oyv_sKCqcfb"
      },
      "execution_count": null,
      "outputs": []
    },
    {
      "cell_type": "code",
      "source": [
        "# Imagen de monedas\n",
        "rescaled_coins = rescale(\n",
        "    image=gaussian_filter(coins(), sigma=2), \n",
        "    scale=0.2, \n",
        "    mode='reflect', \n",
        "    anti_aliasing=False, \n",
        "    multichannel=False)"
      ],
      "metadata": {
        "id": "tCUgMpNQquV-"
      },
      "execution_count": null,
      "outputs": []
    },
    {
      "cell_type": "code",
      "source": [
        "# Visualizacion\n",
        "import matplotlib.pyplot as plt\n",
        "\n",
        "plt.figure(1, figsize=(3, 4))\n",
        "plt.imshow(rescaled_coins, cmap=plt.cm.gray)"
      ],
      "metadata": {
        "colab": {
          "base_uri": "https://localhost:8080/",
          "height": 200
        },
        "id": "28cbRomJrabi",
        "outputId": "904d72ca-77cf-49fe-ff98-6656b60e0eb1"
      },
      "execution_count": null,
      "outputs": [
        {
          "output_type": "execute_result",
          "data": {
            "text/plain": [
              "<matplotlib.image.AxesImage at 0x7f0d050cc790>"
            ]
          },
          "metadata": {},
          "execution_count": 5
        },
        {
          "output_type": "display_data",
          "data": {
            "image/png": "[encoded data removed]",
            "text/plain": [
              "<Figure size 216x288 with 1 Axes>"
            ]
          },
          "metadata": {
            "needs_background": "light"
          }
        }
      ]
    },
    {
      "cell_type": "code",
      "source": [
        "print(rescaled_coins.shape) # dimensiones de antes\n",
        "X = np.reshape(rescaled_coins, (-1, 1))\n",
        "print(X.shape) # dimensiones tipo (n_samples, n_features) -> (pixel, color)"
      ],
      "metadata": {
        "colab": {
          "base_uri": "https://localhost:8080/"
        },
        "id": "K4SaSHSkrZZM",
        "outputId": "c39a9bb1-c1bb-4f39-f1b0-53d92a57c568"
      },
      "execution_count": null,
      "outputs": [
        {
          "output_type": "stream",
          "name": "stdout",
          "text": [
            "(61, 77)\n",
            "(4697, 1)\n"
          ]
        }
      ]
    },
    {
      "cell_type": "code",
      "source": [
        "from sklearn.feature_extraction import grid_to_graph \n",
        "connectivity = grid_to_graph(*rescaled_coins.shape)"
      ],
      "metadata": {
        "id": "fWOUHalQs16z"
      },
      "execution_count": null,
      "outputs": []
    },
    {
      "cell_type": "code",
      "source": [
        "connectivity # matriz de dispersion (pixel, pixel)"
      ],
      "metadata": {
        "colab": {
          "base_uri": "https://localhost:8080/"
        },
        "id": "K6mQTZP-vTXC",
        "outputId": "7f8dd881-890b-4599-b290-ddab055d7897"
      },
      "execution_count": null,
      "outputs": [
        {
          "output_type": "execute_result",
          "data": {
            "text/plain": [
              "<4697x4697 sparse matrix of type '<class 'numpy.int64'>'\n",
              "\twith 23209 stored elements in COOrdinate format>"
            ]
          },
          "metadata": {},
          "execution_count": 13
        }
      ]
    },
    {
      "cell_type": "code",
      "source": [
        "n_clusters = 27\n",
        "from sklearn.cluster import AgglomerativeClustering \n",
        "ward = AgglomerativeClustering(n_clusters, linkage='ward', \n",
        "                               connectivity=connectivity)\n",
        "ward.fit(X)"
      ],
      "metadata": {
        "colab": {
          "base_uri": "https://localhost:8080/"
        },
        "id": "b6Io3Lz8tOkB",
        "outputId": "af909f7c-687f-48db-a120-2e213ca2ea3c"
      },
      "execution_count": null,
      "outputs": [
        {
          "output_type": "execute_result",
          "data": {
            "text/plain": [
              "AgglomerativeClustering(connectivity=<4697x4697 sparse matrix of type '<class 'numpy.int64'>'\n",
              "\twith 23209 stored elements in COOrdinate format>,\n",
              "                        n_clusters=27)"
            ]
          },
          "metadata": {},
          "execution_count": 11
        }
      ]
    },
    {
      "cell_type": "code",
      "source": [
        "label = np.reshape(ward.labels_, rescaled_coins.shape)\n",
        "plt.figure(1, figsize=(3, 4))\n",
        "plt.imshow(label, cmap=plt.cm.gray)"
      ],
      "metadata": {
        "colab": {
          "base_uri": "https://localhost:8080/",
          "height": 200
        },
        "id": "2-kpz2whtzUH",
        "outputId": "c9d8cae9-559c-409f-dc3e-2ae63052250a"
      },
      "execution_count": null,
      "outputs": [
        {
          "output_type": "execute_result",
          "data": {
            "text/plain": [
              "<matplotlib.image.AxesImage at 0x7f0cfeb21a50>"
            ]
          },
          "metadata": {},
          "execution_count": 12
        },
        {
          "output_type": "display_data",
          "data": {
            "image/png": "[encoded data removed]",
            "text/plain": [
              "<Figure size 216x288 with 1 Axes>"
            ]
          },
          "metadata": {
            "needs_background": "light"
          }
        }
      ]
    },
    {
      "cell_type": "markdown",
      "source": [
        "**Feature agglomeration**\n",
        "\n",
        "Ahora hemos visto como la dispersion puede ser usada para mitigar la maldicion de la dimensionalidad. Otro uso que podemos darle es **mezclar variables (features)** que sean **similares**"
      ],
      "metadata": {
        "id": "m1bNDtJ4v7Mb"
      }
    },
    {
      "cell_type": "code",
      "source": [
        "from sklearn import datasets\n",
        "digits = datasets.load_digits()\n",
        "images = digits.images \n",
        "X = np.reshape(images, (len(images), -1))\n",
        "X.shape # (n_samples, features) -> (imagenes, 8x8 pixeles)"
      ],
      "metadata": {
        "colab": {
          "base_uri": "https://localhost:8080/"
        },
        "id": "e_HmiDFewqDa",
        "outputId": "2e803e8d-8934-40b3-c5ea-2cb95dd0c03b"
      },
      "execution_count": null,
      "outputs": [
        {
          "output_type": "execute_result",
          "data": {
            "text/plain": [
              "(1797, 64)"
            ]
          },
          "metadata": {},
          "execution_count": 16
        }
      ]
    },
    {
      "cell_type": "code",
      "source": [
        "from sklearn import cluster\n",
        "connectivity = grid_to_graph(*images[0].shape)\n",
        "agglo = cluster.FeatureAgglomeration(connectivity=connectivity, \n",
        "                                     n_clusters=32)\n",
        "agglo.fit(X)"
      ],
      "metadata": {
        "colab": {
          "base_uri": "https://localhost:8080/"
        },
        "id": "LfVSy8yGxXYe",
        "outputId": "a8a0c219-1000-4e2a-d5f6-cfc052f7156c"
      },
      "execution_count": null,
      "outputs": [
        {
          "output_type": "execute_result",
          "data": {
            "text/plain": [
              "FeatureAgglomeration(connectivity=<64x64 sparse matrix of type '<class 'numpy.int64'>'\n",
              "\twith 288 stored elements in COOrdinate format>,\n",
              "                     n_clusters=32)"
            ]
          },
          "metadata": {},
          "execution_count": 18
        }
      ]
    },
    {
      "cell_type": "code",
      "source": [
        "X_reduced = agglo.transform(X)\n",
        "X_reduced.shape"
      ],
      "metadata": {
        "colab": {
          "base_uri": "https://localhost:8080/"
        },
        "id": "aNggPTGDx9FW",
        "outputId": "2c86f06f-e26e-4648-c0d3-804e9d725bea"
      },
      "execution_count": null,
      "outputs": [
        {
          "output_type": "execute_result",
          "data": {
            "text/plain": [
              "(1797, 32)"
            ]
          },
          "metadata": {},
          "execution_count": 20
        }
      ]
    },
    {
      "cell_type": "code",
      "source": [
        "X_approx = agglo.inverse_transform(X_reduced)\n",
        "images_approx = np.reshape(X_approx, images.shape)"
      ],
      "metadata": {
        "id": "ksTb1veSyNUP"
      },
      "execution_count": null,
      "outputs": []
    },
    {
      "cell_type": "code",
      "source": [
        "images_approx.shape"
      ],
      "metadata": {
        "colab": {
          "base_uri": "https://localhost:8080/"
        },
        "id": "yAWniMXUyf9n",
        "outputId": "1b122347-9e34-4958-8cc0-afedfeeb8c46"
      },
      "execution_count": null,
      "outputs": [
        {
          "output_type": "execute_result",
          "data": {
            "text/plain": [
              "(1797, 8, 8)"
            ]
          },
          "metadata": {},
          "execution_count": 22
        }
      ]
    },
    {
      "cell_type": "code",
      "source": [
        "import matplotlib.pyplot as plt\n",
        "\n",
        "fig, (ax1, ax2) = plt.subplots(1, 2)\n",
        "ax1.imshow(images[0], cmap=plt.cm.gray)\n",
        "ax2.imshow(images_approx[0], cmap=plt.cm.gray)"
      ],
      "metadata": {
        "colab": {
          "base_uri": "https://localhost:8080/",
          "height": 217
        },
        "id": "WRcXhSYYyvVD",
        "outputId": "86e9931a-2403-400f-b29f-a889f6360fd2"
      },
      "execution_count": null,
      "outputs": [
        {
          "output_type": "execute_result",
          "data": {
            "text/plain": [
              "<matplotlib.image.AxesImage at 0x7f0cf958b7d0>"
            ]
          },
          "metadata": {},
          "execution_count": 26
        },
        {
          "output_type": "display_data",
          "data": {
            "image/png": "[encoded data removed]",
            "text/plain": [
              "<Figure size 432x288 with 2 Axes>"
            ]
          },
          "metadata": {
            "needs_background": "light"
          }
        }
      ]
    },
    {
      "cell_type": "markdown",
      "source": [
        "**`transform` and `inverse_transform` methods**\n",
        "\n",
        "Algunos estimadores utilizan un metodo de transformacion, por ahora, para reducir la dimensionalidad en los datos"
      ],
      "metadata": {
        "id": "9rZCuMTI1StM"
      }
    },
    {
      "cell_type": "markdown",
      "source": [
        "### **Decompositions: from a signal to components and loadings**"
      ],
      "metadata": {
        "id": "wnfsnVdSJIRT"
      }
    },
    {
      "cell_type": "markdown",
      "source": [
        "**Components and loadings**\n",
        "\n",
        "si nuestra X se corresponde con datos multivariable, entonces el problema que estamos tratando de resolver es reescribirlo en una nueva base: Asi, esperamos aprender **loadings L** y un set de **componenetes C** de tal forma que $X = LC$. En consecuencia, para definir estos componentes existen diferentes criterios que podemos aplicar. "
      ],
      "metadata": {
        "id": "gLpnm9pIE3Kp"
      }
    },
    {
      "cell_type": "markdown",
      "source": [
        "**Principal component analysis: PCA**"
      ],
      "metadata": {
        "id": "pbyEhg10GD1r"
      }
    },
    {
      "cell_type": "markdown",
      "source": [
        "Principal component analysis (PCA) seleccion de manera sucesiva aquellos componentes que maximizan una señal de variacion."
      ],
      "metadata": {
        "id": "AScMLu_jGLx9"
      }
    },
    {
      "cell_type": "markdown",
      "source": [
        "Cuando buscamos transformar datos, PCA puede reducir la dimensionalidad presente en estos proyectando su principal subespacio."
      ],
      "metadata": {
        "id": "luXfq9CvGvP-"
      }
    },
    {
      "cell_type": "code",
      "source": [
        "import numpy as np\n",
        "x1 = np.random.normal(size=100) \n",
        "x2 = np.random.normal(size=100)\n",
        "x3 = x1 + x2 \n",
        "X = np.c_[x1, x2, x3]"
      ],
      "metadata": {
        "id": "oCGyMTN9G9Du"
      },
      "execution_count": null,
      "outputs": []
    },
    {
      "cell_type": "code",
      "source": [
        "from sklearn import decomposition \n",
        "pca = decomposition.PCA()\n",
        "pca.fit(X)"
      ],
      "metadata": {
        "colab": {
          "base_uri": "https://localhost:8080/"
        },
        "id": "pg1Ch4TOHXsv",
        "outputId": "d304e763-cefd-49bf-8849-d05519048bb2"
      },
      "execution_count": null,
      "outputs": [
        {
          "output_type": "execute_result",
          "data": {
            "text/plain": [
              "PCA()"
            ]
          },
          "metadata": {},
          "execution_count": 3
        }
      ]
    },
    {
      "cell_type": "code",
      "source": [
        "pca.explained_variance_ "
      ],
      "metadata": {
        "colab": {
          "base_uri": "https://localhost:8080/"
        },
        "id": "LAGlTF-zHhze",
        "outputId": "1e434045-96a9-47b4-be05-21adc271c424"
      },
      "execution_count": null,
      "outputs": [
        {
          "output_type": "execute_result",
          "data": {
            "text/plain": [
              "array([2.58793624e+00, 1.01018854e+00, 2.36816403e-32])"
            ]
          },
          "metadata": {},
          "execution_count": 4
        }
      ]
    },
    {
      "cell_type": "code",
      "source": [
        "pca.singular_values_"
      ],
      "metadata": {
        "colab": {
          "base_uri": "https://localhost:8080/"
        },
        "id": "p6A6P8voIOjU",
        "outputId": "9eb0e562-586c-47b9-8f88-405a912d0f87"
      },
      "execution_count": null,
      "outputs": [
        {
          "output_type": "execute_result",
          "data": {
            "text/plain": [
              "array([16.00642644, 10.00043324])"
            ]
          },
          "metadata": {},
          "execution_count": 6
        }
      ]
    },
    {
      "cell_type": "code",
      "source": [
        "pca.n_components = 2 \n",
        "X_reduced = pca.fit_transform(X)\n",
        "X_reduced.shape"
      ],
      "metadata": {
        "colab": {
          "base_uri": "https://localhost:8080/"
        },
        "id": "m0HgXh3-Hor5",
        "outputId": "956a0cd0-03fd-46b9-9902-a0733e106fcb"
      },
      "execution_count": null,
      "outputs": [
        {
          "output_type": "execute_result",
          "data": {
            "text/plain": [
              "(100, 2)"
            ]
          },
          "metadata": {},
          "execution_count": 5
        }
      ]
    },
    {
      "cell_type": "markdown",
      "source": [
        "**Independent component analisis: ICA**\n",
        "\n"
      ],
      "metadata": {
        "id": "onQECkp4Iw3E"
      }
    },
    {
      "cell_type": "markdown",
      "source": [
        "Independent component analysis (ICA) selecciona aquellas componentes con las cuales las distribuciones de los loadings cargan la mayor cantidad de informacion de manera independiente."
      ],
      "metadata": {
        "id": "Za7Rl8lSI3B3"
      }
    },
    {
      "cell_type": "code",
      "source": [
        "import numpy as np \n",
        "from scipy import signal \n",
        "time = np.linspace(0, 10, 2000)\n",
        "s1 = np.sin(2*time)\n",
        "s2 = np.sign(np.sin(3*time))\n",
        "s3 = signal.sawtooth(2*np.pi*time)\n",
        "\n",
        "S = np.c_[s1, s2, s3]\n",
        "S += np.random.normal(size=S.shape)\n",
        "S /= S.std(axis=0)\n",
        "\n",
        "A = np.array([[1, 1, 1], [0.5, 2, 1], [1.5, 1, 2]])\n",
        "X = np.dot(S, A.T)\n"
      ],
      "metadata": {
        "id": "KIyOz4ZIIcqB"
      },
      "execution_count": null,
      "outputs": []
    },
    {
      "cell_type": "code",
      "source": [
        "X.shape"
      ],
      "metadata": {
        "colab": {
          "base_uri": "https://localhost:8080/"
        },
        "id": "uA2XcH0wKgHY",
        "outputId": "ede21cef-74dd-4174-c5ed-b028f42dd33f"
      },
      "execution_count": null,
      "outputs": [
        {
          "output_type": "execute_result",
          "data": {
            "text/plain": [
              "(2000, 3)"
            ]
          },
          "metadata": {},
          "execution_count": 11
        }
      ]
    },
    {
      "cell_type": "code",
      "source": [
        "ica = decomposition.FastICA()\n",
        "S_ = ica.fit_transform(X)\n",
        "A_ = ica.mixing_.T \n",
        "np.allclose(X, np.dot(S_, A_) + ica.mean_) # esto es para captar que tan parecidos son estaos dos elementos"
      ],
      "metadata": {
        "colab": {
          "base_uri": "https://localhost:8080/"
        },
        "id": "skAztoTnKoOB",
        "outputId": "2945b923-264e-4d9f-91d3-a196777a3ac1"
      },
      "execution_count": null,
      "outputs": [
        {
          "output_type": "execute_result",
          "data": {
            "text/plain": [
              "True"
            ]
          },
          "metadata": {},
          "execution_count": 12
        }
      ]
    },
    {
      "cell_type": "code",
      "source": [
        "# Otra manera de verlo es con el error o distancia entre ambos elementos\n",
        "A = X\n",
        "B = np.dot(S_, A_) + ica.mean_\n",
        "error = np.sum((A - B)**2) / (A.shape[0]*A.shape[1])\n",
        "error # el error es muy pequeño, lo cual demuestra que el metodo ica capto bien las fuentes"
      ],
      "metadata": {
        "colab": {
          "base_uri": "https://localhost:8080/"
        },
        "id": "RyH9MGAjPk87",
        "outputId": "65933472-b6dd-471d-c839-6a2041876d67"
      },
      "execution_count": null,
      "outputs": [
        {
          "output_type": "execute_result",
          "data": {
            "text/plain": [
              "8.765724329923032e-30"
            ]
          },
          "metadata": {},
          "execution_count": 18
        }
      ]
    },
    {
      "cell_type": "code",
      "source": [
        "from sklearn.decomposition import PCA\n",
        "pca = PCA(n_components=3)\n",
        "H = pca.fit_transform(X)"
      ],
      "metadata": {
        "id": "pLYogMt7MZf_"
      },
      "execution_count": null,
      "outputs": []
    },
    {
      "cell_type": "code",
      "source": [
        "import matplotlib.pyplot as plt\n",
        "\n",
        "plt.figure()\n",
        "\n",
        "models = [X, S, S_, H]\n",
        "names = ['Observaciones', 'Fuentes', 'ICA', 'PCA']\n",
        "colors = ['red', 'steelblue', 'orange']\n",
        "\n",
        "for ii, (model, name) in enumerate(zip(models, names), 1):\n",
        "  plt.subplot(4, 1, ii)\n",
        "  plt.title(name)\n",
        "  for sig, color in zip(model.T, colors):\n",
        "    plt.plot(sig, color=color)\n",
        "\n",
        "plt.tight_layout()\n",
        "plt.show()"
      ],
      "metadata": {
        "colab": {
          "base_uri": "https://localhost:8080/",
          "height": 297
        },
        "id": "Cr_dSwfNMvg1",
        "outputId": "6958875d-e572-4e2b-bbab-bf5984b22f72"
      },
      "execution_count": null,
      "outputs": [
        {
          "output_type": "display_data",
          "data": {
            "image/png": "[encoded data removed]",
            "text/plain": [
              "<Figure size 432x288 with 4 Axes>"
            ]
          },
          "metadata": {
            "needs_background": "light"
          }
        }
      ]
    },
    {
      "cell_type": "markdown",
      "source": [
        "## **Putting it all together**"
      ],
      "metadata": {
        "id": "o80K3TMXJR0D"
      }
    },
    {
      "cell_type": "markdown",
      "source": [
        "### **Pipelining**"
      ],
      "metadata": {
        "id": "wHbxCNmAJW4F"
      }
    },
    {
      "cell_type": "markdown",
      "source": [
        "Ya hemos visto como algunos estimadores pueden transformar los datos y como otros pueden pueden predecir variables. De esta manera, lo que tambien podriamos hacer es combinar estos dos tipos de estimadores."
      ],
      "metadata": {
        "id": "ViDLRL-Huj8t"
      }
    },
    {
      "cell_type": "code",
      "source": [
        "from sklearn.decomposition import PCA \n",
        "from sklearn.linear_model import LogisticRegression \n",
        "from sklearn.pipeline import Pipeline \n",
        "from sklearn.model_selection import GridSearchCV \n",
        "from sklearn import datasets\n",
        "import numpy as np"
      ],
      "metadata": {
        "id": "wBtZlykdu0-T"
      },
      "execution_count": null,
      "outputs": []
    },
    {
      "cell_type": "code",
      "source": [
        "# Lo que vamos a hacer es un pipeline que utilice un PCA y un metodo de clasificacion \n",
        "pca = PCA()\n",
        "\n",
        "logistic = LogisticRegression(max_iter=10000, tol=0.1) # colocando un tol mas alto hace al ejercicio trabajar mas rapido\n",
        "pipe = Pipeline(steps=[(\"pca\", pca), (\"logistic\", logistic)])\n",
        "\n",
        "X_digits, y_digits = datasets.load_digits(return_X_y=True)\n",
        "\n",
        "param_grid = {\n",
        "    'pca__n_components': [5, 15, 30, 45, 64], \n",
        "    'logistic__C': np.logspace(-4, 4, 4),\n",
        "}\n",
        "\n",
        "search = GridSearchCV(pipe, param_grid, n_jobs=-1)\n",
        "search.fit(X_digits, y_digits)\n"
      ],
      "metadata": {
        "colab": {
          "base_uri": "https://localhost:8080/"
        },
        "id": "E6RXrJJIvNaa",
        "outputId": "3d1188fe-964e-415d-fb12-eff446581777"
      },
      "execution_count": null,
      "outputs": [
        {
          "output_type": "execute_result",
          "data": {
            "text/plain": [
              "GridSearchCV(estimator=Pipeline(steps=[('pca', PCA()),\n",
              "                                       ('logistic',\n",
              "                                        LogisticRegression(max_iter=10000,\n",
              "                                                           tol=0.1))]),\n",
              "             n_jobs=-1,\n",
              "             param_grid={'logistic__C': array([1.00000000e-04, 4.64158883e-02, 2.15443469e+01, 1.00000000e+04]),\n",
              "                         'pca__n_components': [5, 15, 30, 45, 64]})"
            ]
          },
          "metadata": {},
          "execution_count": 12
        }
      ]
    },
    {
      "cell_type": "code",
      "source": [
        "search.best_score_"
      ],
      "metadata": {
        "colab": {
          "base_uri": "https://localhost:8080/"
        },
        "id": "FsBfu_Z_y8BX",
        "outputId": "6bbc39f7-1293-4bfd-a54f-ba6c54be3cb8"
      },
      "execution_count": null,
      "outputs": [
        {
          "output_type": "execute_result",
          "data": {
            "text/plain": [
              "0.9198885793871865"
            ]
          },
          "metadata": {},
          "execution_count": 13
        }
      ]
    },
    {
      "cell_type": "code",
      "source": [
        "search.best_params_"
      ],
      "metadata": {
        "colab": {
          "base_uri": "https://localhost:8080/"
        },
        "id": "gh6xTyXqzBPg",
        "outputId": "fdc32466-e664-41d1-d818-634393ab7359"
      },
      "execution_count": null,
      "outputs": [
        {
          "output_type": "execute_result",
          "data": {
            "text/plain": [
              "{'logistic__C': 0.046415888336127774, 'pca__n_components': 45}"
            ]
          },
          "metadata": {},
          "execution_count": 14
        }
      ]
    },
    {
      "cell_type": "code",
      "source": [
        "# grafiquemos el analisis de PCA\n",
        "import matplotlib.pyplot as plt\n",
        "\n",
        "pca.fit(X_digits)\n",
        "\n",
        "fig, (ax0, ax1) = plt.subplots(nrows=2, sharex=True, figsize=(6, 6)) \n",
        "ax0.plot(np.arange(1, pca.n_components_ + 1), pca.explained_variance_ratio_, '+', linewidth=2)\n",
        "ax0.set_ylabel('PCA expeined variance ratio')\n",
        "\n",
        "ax0.axvline(\n",
        "    search.best_estimator_.named_steps['pca'].n_components, \n",
        "    linestyle=':', \n",
        "    label='n_components chosen'\n",
        ")\n",
        "ax0.legend(prop=dict(size=12))\n",
        "\n",
        "import pandas as pd\n",
        "results = pd.DataFrame(search.cv_results_)\n",
        "components_col = 'param_pca__n_components'\n",
        "best_clfs = results.groupby(components_col).apply(\n",
        "    lambda g: g.nlargest(1, \"mean_test_score\")\n",
        ")\n",
        "\n",
        "best_clfs.plot( \n",
        "    x=components_col, y='mean_test_score', yerr='std_test_score', legend=False, ax=ax1\n",
        ")\n",
        "ax1.set_ylabel('classification accuracy')\n",
        "ax1.set_xlabel('n_components')\n",
        "\n",
        "plt.show()"
      ],
      "metadata": {
        "colab": {
          "base_uri": "https://localhost:8080/",
          "height": 388
        },
        "id": "pLsXx4XTzJgd",
        "outputId": "d3078256-de01-412b-ad18-6812a97b7598"
      },
      "execution_count": null,
      "outputs": [
        {
          "output_type": "display_data",
          "data": {
            "image/png": "[encoded data removed]",
            "text/plain": [
              "<Figure size 432x432 with 2 Axes>"
            ]
          },
          "metadata": {
            "needs_background": "light"
          }
        }
      ]
    },
    {
      "cell_type": "markdown",
      "source": [
        "### **Face recognitions with eigenfaces**"
      ],
      "metadata": {
        "id": "05jKHSr8Jb42"
      }
    },
    {
      "cell_type": "code",
      "source": [
        "from time import time\n",
        "import logging \n",
        "import matplotlib.pyplot as plt\n",
        "\n",
        "from sklearn.model_selection import train_test_split \n",
        "from sklearn.model_selection import GridSearchCV \n",
        "from sklearn.datasets import fetch_lfw_people \n",
        "from sklearn.metrics import classification_report \n",
        "from sklearn.metrics import confusion_matrix \n",
        "from sklearn.decomposition import PCA \n",
        "from sklearn.svm import SVC "
      ],
      "metadata": {
        "id": "GTiTOrtsI_Pi"
      },
      "execution_count": null,
      "outputs": []
    },
    {
      "cell_type": "code",
      "execution_count": null,
      "metadata": {
        "id": "Lp-ot4uN_ol6"
      },
      "outputs": [],
      "source": [
        "logging.basicConfig(level=logging.INFO, format='%(asctime)s %(message)s')"
      ]
    },
    {
      "cell_type": "code",
      "source": [
        "lfw_people = fetch_lfw_people(min_faces_per_person=70, resize=0.4)\n",
        "\n",
        "n_samples, h, w = lfw_people.images.shape\n",
        "\n",
        "X = lfw_people.data \n",
        "n_features = X.shape[1] \n",
        "\n",
        "y = lfw_people.target \n",
        "target_names = lfw_people.target_names \n",
        "n_classes = target_names.shape[0]\n",
        "\n",
        "print(f'n_samples: {n_samples}')\n",
        "print(f'n_features: {n_features}')\n",
        "print(f'n_classes: {n_classes}')"
      ],
      "metadata": {
        "colab": {
          "base_uri": "https://localhost:8080/"
        },
        "id": "8WuqrCN6sUp1",
        "outputId": "37999a0f-9b9f-4500-d476-94cabba53f0f"
      },
      "execution_count": null,
      "outputs": [
        {
          "output_type": "stream",
          "name": "stdout",
          "text": [
            "n_samples: 1288\n",
            "n_features: 1850\n",
            "n_classes: 7\n"
          ]
        }
      ]
    },
    {
      "cell_type": "code",
      "source": [
        "X_train, X_test, y_train, y_test = train_test_split(X, y, test_size=0.25, random_state=42)"
      ],
      "metadata": {
        "id": "ZKZJYc9ntZCS"
      },
      "execution_count": null,
      "outputs": []
    },
    {
      "cell_type": "code",
      "source": [
        "n_components = 150 \n",
        "\n",
        "t0 = time()\n",
        "pca = PCA(n_components=n_components, \n",
        "          svd_solver='randomized', \n",
        "          whiten=True).fit(X_train)\n",
        "\n",
        "print(f'terminado en {time() - t0} segundos')"
      ],
      "metadata": {
        "colab": {
          "base_uri": "https://localhost:8080/"
        },
        "id": "0UeteRBAtmK9",
        "outputId": "fa1d6488-d83a-4afd-eda4-f415cad3c67a"
      },
      "execution_count": null,
      "outputs": [
        {
          "output_type": "stream",
          "name": "stdout",
          "text": [
            "terminado en 0.4954359531402588 segundos\n"
          ]
        }
      ]
    },
    {
      "cell_type": "code",
      "source": [
        "eigenfaces = pca.components_.reshape((n_components, h, w))"
      ],
      "metadata": {
        "id": "eSKI4dKVucXt"
      },
      "execution_count": null,
      "outputs": []
    },
    {
      "cell_type": "code",
      "source": [
        "X_train_pca = pca.transform(X_train)\n",
        "X_test_pca = pca.transform(X_test)"
      ],
      "metadata": {
        "id": "rVl5WSNTun9P"
      },
      "execution_count": null,
      "outputs": []
    },
    {
      "cell_type": "code",
      "source": [
        "param_grid = {\n",
        "    'C': [1e3, 5e3, 1e4, 5e4, 1e5], \n",
        "    'gamma' : [0.0001, 0.0005, 0.001, 0.005, 0.01, 0.1]\n",
        "}\n",
        "\n",
        "clf = GridSearchCV(SVC(kernel='rbf', class_weight='balanced'), param_grid)\n",
        "clf = clf.fit(X_train_pca, y_train)\n",
        "\n",
        "clf.best_estimator_"
      ],
      "metadata": {
        "colab": {
          "base_uri": "https://localhost:8080/"
        },
        "id": "FP7_7RBLu5Vz",
        "outputId": "73bb92f9-edd1-4d32-ac1b-a4b440053a26"
      },
      "execution_count": null,
      "outputs": [
        {
          "output_type": "execute_result",
          "data": {
            "text/plain": [
              "SVC(C=1000.0, class_weight='balanced', gamma=0.005)"
            ]
          },
          "metadata": {},
          "execution_count": 10
        }
      ]
    },
    {
      "cell_type": "code",
      "source": [
        "y_pred = clf.predict(X_test_pca)\n",
        "print(classification_report(y_test, y_pred, target_names=target_names))\n"
      ],
      "metadata": {
        "colab": {
          "base_uri": "https://localhost:8080/"
        },
        "id": "qv7UXLFIvu4M",
        "outputId": "caa98637-9bdc-412e-e82f-1b301d858ae9"
      },
      "execution_count": null,
      "outputs": [
        {
          "output_type": "stream",
          "name": "stdout",
          "text": [
            "                   precision    recall  f1-score   support\n",
            "\n",
            "     Ariel Sharon       0.88      0.54      0.67        13\n",
            "     Colin Powell       0.81      0.87      0.84        60\n",
            "  Donald Rumsfeld       0.94      0.59      0.73        27\n",
            "    George W Bush       0.81      0.98      0.89       146\n",
            "Gerhard Schroeder       0.95      0.80      0.87        25\n",
            "      Hugo Chavez       1.00      0.53      0.70        15\n",
            "       Tony Blair       1.00      0.75      0.86        36\n",
            "\n",
            "         accuracy                           0.85       322\n",
            "        macro avg       0.91      0.72      0.79       322\n",
            "     weighted avg       0.86      0.85      0.84       322\n",
            "\n"
          ]
        }
      ]
    },
    {
      "cell_type": "code",
      "source": [
        "confusion_matrix(y_test, y_pred, labels=range(n_classes))"
      ],
      "metadata": {
        "colab": {
          "base_uri": "https://localhost:8080/"
        },
        "id": "2plp3AKwv86e",
        "outputId": "1744ec77-2cad-4f14-eacf-8c19320b03e5"
      },
      "execution_count": null,
      "outputs": [
        {
          "output_type": "execute_result",
          "data": {
            "text/plain": [
              "array([[  7,   1,   0,   5,   0,   0,   0],\n",
              "       [  1,  52,   0,   7,   0,   0,   0],\n",
              "       [  0,   2,  16,   9,   0,   0,   0],\n",
              "       [  0,   3,   0, 143,   0,   0,   0],\n",
              "       [  0,   1,   0,   4,  20,   0,   0],\n",
              "       [  0,   4,   0,   2,   1,   8,   0],\n",
              "       [  0,   1,   1,   7,   0,   0,  27]])"
            ]
          },
          "metadata": {},
          "execution_count": 12
        }
      ]
    },
    {
      "cell_type": "code",
      "source": [
        "def plot_gallery(images, titles, h, w, n_row=3, n_col=4):\n",
        "    \"\"\"Helper function to plot a gallery of portraits\"\"\"\n",
        "    plt.figure(figsize=(1.8 * n_col, 2.4 * n_row))\n",
        "    plt.subplots_adjust(bottom=0, left=0.01, right=0.99, top=0.90, hspace=0.35)\n",
        "    for i in range(n_row * n_col):\n",
        "        plt.subplot(n_row, n_col, i + 1)\n",
        "        plt.imshow(images[i].reshape((h, w)), cmap=plt.cm.gray)\n",
        "        plt.title(titles[i], size=12)\n",
        "        plt.xticks(())\n",
        "        plt.yticks(())"
      ],
      "metadata": {
        "id": "cJlF4MeGwRIX"
      },
      "execution_count": null,
      "outputs": []
    },
    {
      "cell_type": "code",
      "source": [
        "def title(y_pred, y_test, target_names, i):\n",
        "    pred_name = target_names[y_pred[i]].rsplit(\" \", 1)[-1]\n",
        "    true_name = target_names[y_test[i]].rsplit(\" \", 1)[-1]\n",
        "    return \"predicted: %s\\ntrue:      %s\" % (pred_name, true_name)"
      ],
      "metadata": {
        "id": "HzXJHZm-wVSL"
      },
      "execution_count": null,
      "outputs": []
    },
    {
      "cell_type": "code",
      "source": [
        "prediction_titles = [\n",
        "    title(y_pred, y_test, target_names, i) for i in range(y_pred.shape[0])\n",
        "]\n",
        "\n",
        "plot_gallery(X_test, prediction_titles, h, w)\n",
        "\n",
        "# plot the gallery of the most significative eigenfaces\n",
        "\n",
        "eigenface_titles = [\"eigenface %d\" % i for i in range(eigenfaces.shape[0])]\n",
        "plot_gallery(eigenfaces, eigenface_titles, h, w)\n",
        "\n",
        "plt.show()"
      ],
      "metadata": {
        "colab": {
          "base_uri": "https://localhost:8080/",
          "height": 1000
        },
        "id": "A_b5ze_lwZOP",
        "outputId": "f7c6206a-d01e-48bd-ecaf-c8ab7a81cfaa"
      },
      "execution_count": null,
      "outputs": [
        {
          "output_type": "display_data",
          "data": {
            "image/png": "[encoded data removed]",
            "text/plain": [
              "<Figure size 518.4x518.4 with 12 Axes>"
            ]
          },
          "metadata": {}
        },
        {
          "output_type": "display_data",
          "data": {
            "image/png": "[encoded data removed]",
            "text/plain": [
              "<Figure size 518.4x518.4 with 12 Axes>"
            ]
          },
          "metadata": {}
        }
      ]
    }
  ]
}