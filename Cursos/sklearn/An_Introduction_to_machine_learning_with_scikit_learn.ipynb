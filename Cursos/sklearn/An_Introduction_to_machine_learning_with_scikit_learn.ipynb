{
  "nbformat": 4,
  "nbformat_minor": 0,
  "metadata": {
    "colab": {
      "name": "An Introduction to machine learning with scikit-learn.ipynb",
      "provenance": [],
      "collapsed_sections": [],
      "authorship_tag": "ABX9TyOw2Az9gJYoiEcm6t13jLdk",
      "include_colab_link": true
    },
    "kernelspec": {
      "name": "python3",
      "display_name": "Python 3"
    },
    "language_info": {
      "name": "python"
    }
  },
  "cells": [
    {
      "cell_type": "markdown",
      "metadata": {
        "id": "view-in-github",
        "colab_type": "text"
      },
      "source": [
        "<a href=\"https://colab.research.google.com/github/raaraya1/Personal-Proyects/blob/main/Cursos/sklearn/An_Introduction_to_machine_learning_with_scikit_learn.ipynb\" target=\"_parent\"><img src=\"https://colab.research.google.com/assets/colab-badge.svg\" alt=\"Open In Colab\"/></a>"
      ]
    },
    {
      "cell_type": "markdown",
      "source": [
        "# **Machine Learning**"
      ],
      "metadata": {
        "id": "JcQbX9NQ1xJ5"
      }
    },
    {
      "cell_type": "markdown",
      "source": [
        "Generalmente un problema de apredizaje considera un conjunto de muestras de datos de los cuales se intenta predecir alguna propiedad desconocida. Luego, si para una muestra de datos existe mas de una caracteristica (feature), entonces estamos hablando de un problema con una entrada multi-dimensional.\n",
        "\n",
        "Los problemas de apendizaje los podemos dividir en las siguientes categorias:\n",
        "\n",
        "- **Supervised learning**: Se cuenta con un atributo adicional del cual se pretende generar una prediccion.\n",
        " - **Classification**: Las muestras de datos pertenecen a dos o mas clases, entonces el objetivo es etiquetar los datos donde correspondan.\n",
        " - **Regression**: Esto si la salida consiste en una o mas variables **continuas**\n",
        "\n",
        "- **Unsupervised learning**: Paa este tipo de aprendizaje los datos no vienen con un objetivo (**target**). De esta manera, lo que se busca es descubrir los grupos con mayores caracteristicas similares (**clustering**) o determinar la distribucion de los datos en el espacio (luego si esta distribucion se encuentra en muchas dimensiones, la podemos reducir a 2 o 3 con fin de poder visualizar los datos)\n",
        "\n",
        "**Training set and testing set**\n",
        "\n",
        "Machine learning va de aprender algunas propiedades de los datos y luego probar esas propiedad sobre nuevos datos nunca antes vistos. Asi, una practica comun es separar los datos disponibles en 2. Llamamos al **training set** a todos aquellos datos que utilizamos para descubrir las propiedades y llamamos al **testing set** a todos aquellos datos con los que ponemos a prueba las propiedades aprendidas.\n",
        "\n"
      ],
      "metadata": {
        "id": "aevfQXqhxlCV"
      }
    },
    {
      "cell_type": "markdown",
      "source": [
        "# **Loading an example dataset**"
      ],
      "metadata": {
        "id": "orMOICNb1s7E"
      }
    },
    {
      "cell_type": "markdown",
      "source": [
        "`scikit-learn` vienen con algunos pocos set de datos estandarizados, por ahora tenemos `iris` y `digits` como bases de datos para clasificacion y la base de datos `diabetes dataset` para las regresiones.\n",
        "\n",
        "A continuacion cargaremos las bases de datos `iris` y `digits`"
      ],
      "metadata": {
        "id": "v2jjj8G71_bG"
      }
    },
    {
      "cell_type": "code",
      "execution_count": null,
      "metadata": {
        "id": "8zm8kAT5xUTO"
      },
      "outputs": [],
      "source": [
        "from sklearn import datasets\n",
        "iris = datasets.load_iris()\n",
        "digits = datasets.load_digits()"
      ]
    },
    {
      "cell_type": "markdown",
      "source": [
        "Un dataset tiene un comportamiento similar al de un diccionario, conteniendo asi todos los datos y otras informaciones. Los datos son guardados en `.data`, el cual a su vez se encuentra estructurado como un `array` con `n_smaples` y `n_features`. Asimismo, para el caso de problemas supervisados, uno o mas variables son guardadas como objetivos en `.target`"
      ],
      "metadata": {
        "id": "O28jhWpX3KIM"
      }
    },
    {
      "cell_type": "code",
      "source": [
        "digits.data"
      ],
      "metadata": {
        "colab": {
          "base_uri": "https://localhost:8080/"
        },
        "id": "vPScjgZm3_Qf",
        "outputId": "04680f84-8286-4831-a4c9-1c0f1ce31d76"
      },
      "execution_count": null,
      "outputs": [
        {
          "output_type": "execute_result",
          "data": {
            "text/plain": [
              "array([[ 0.,  0.,  5., ...,  0.,  0.,  0.],\n",
              "       [ 0.,  0.,  0., ..., 10.,  0.,  0.],\n",
              "       [ 0.,  0.,  0., ..., 16.,  9.,  0.],\n",
              "       ...,\n",
              "       [ 0.,  0.,  1., ...,  6.,  0.,  0.],\n",
              "       [ 0.,  0.,  2., ..., 12.,  0.,  0.],\n",
              "       [ 0.,  0., 10., ..., 12.,  1.,  0.]])"
            ]
          },
          "metadata": {},
          "execution_count": 2
        }
      ]
    },
    {
      "cell_type": "code",
      "source": [
        "digits.target"
      ],
      "metadata": {
        "colab": {
          "base_uri": "https://localhost:8080/"
        },
        "id": "fFDEKQT_4FAE",
        "outputId": "a3d2ddbe-4ba8-47dc-8446-68c3ce18a1f4"
      },
      "execution_count": null,
      "outputs": [
        {
          "output_type": "execute_result",
          "data": {
            "text/plain": [
              "array([0, 1, 2, ..., 8, 9, 8])"
            ]
          },
          "metadata": {},
          "execution_count": 3
        }
      ]
    },
    {
      "cell_type": "markdown",
      "source": [
        "**Shape of the data arrays**\n",
        " Los datos son siempre tratados con un `array` de dos dimensiones (`n_samples, n_features`) aunque los datos originales podrian haber tenido estructura. Para el caso de los digitos, cada dato originalmente correspondia a una imagen de (8 X 8) la cual se puede acceder usando:\n",
        "\n",
        " "
      ],
      "metadata": {
        "id": "BkFYbsb14Ngt"
      }
    },
    {
      "cell_type": "code",
      "source": [
        "digits.images[0]"
      ],
      "metadata": {
        "colab": {
          "base_uri": "https://localhost:8080/"
        },
        "id": "rEVH8J5Q5DiY",
        "outputId": "e6d7ad70-2f4e-40d0-8162-7865f9c434cf"
      },
      "execution_count": null,
      "outputs": [
        {
          "output_type": "execute_result",
          "data": {
            "text/plain": [
              "array([[ 0.,  0.,  5., 13.,  9.,  1.,  0.,  0.],\n",
              "       [ 0.,  0., 13., 15., 10., 15.,  5.,  0.],\n",
              "       [ 0.,  3., 15.,  2.,  0., 11.,  8.,  0.],\n",
              "       [ 0.,  4., 12.,  0.,  0.,  8.,  8.,  0.],\n",
              "       [ 0.,  5.,  8.,  0.,  0.,  9.,  8.,  0.],\n",
              "       [ 0.,  4., 11.,  0.,  1., 12.,  7.,  0.],\n",
              "       [ 0.,  2., 14.,  5., 10., 12.,  0.,  0.],\n",
              "       [ 0.,  0.,  6., 13., 10.,  0.,  0.,  0.]])"
            ]
          },
          "metadata": {},
          "execution_count": 4
        }
      ]
    },
    {
      "cell_type": "markdown",
      "source": [
        "# **Learning and predicting**"
      ],
      "metadata": {
        "id": "Pxz0j9OO5Ndc"
      }
    },
    {
      "cell_type": "markdown",
      "source": [
        "Para el caso de la base de datos de numeros, la tarea es predecir el numero que se encuentra contenido en la imagen. Para esto nosotros vamos dando muestras de datos con 10 posibles clases (de 0 a 9) para asi ir ajustando (**fit**) un estimador, y que luego este sea capaz de predecir sobre muestras de datos que nunca ha visto.\n",
        "\n",
        "En scikit-learn, un estimador para clasificacion cuenta con los metodos `fit(X, y)` y `predict(T)`.\n",
        "\n",
        "Un ejemplo de estimador de clasificacion podria ser `sklearn.svm.SVC` (**Support Vector Machine**). Asi, para construir el estimador debemos definir los parametros del algoritmo.\n",
        "\n",
        "Por ahora consideremos el estimador como una \"caja negra\"."
      ],
      "metadata": {
        "id": "6o1wRrdX5SgS"
      }
    },
    {
      "cell_type": "code",
      "source": [
        "from sklearn import svm\n",
        "clf = svm.SVC(gamma=0.001, C=100.)"
      ],
      "metadata": {
        "id": "ZdR9qGWJ5QsL"
      },
      "execution_count": null,
      "outputs": []
    },
    {
      "cell_type": "markdown",
      "source": [
        "**Choosing the parameters of the model**\n",
        "\n",
        "Para el caso anterior, se establecio el parametro gamma de manera manual. Para encontrar buenos valores en estos parametros, nosotros podriamos ocupara herramientas como `grid search` y `cross validation`.\n",
        "\n",
        "\n"
      ],
      "metadata": {
        "id": "DW3bCI6R7iQi"
      }
    },
    {
      "cell_type": "markdown",
      "source": [
        "Lo que haremos a continuacion es pasar por el calsificador, todo nuestro set de imagenes con la excepcion de la ultima, ya que esta la utilizaremos para predecir."
      ],
      "metadata": {
        "id": "Oo_afpHB8J6z"
      }
    },
    {
      "cell_type": "code",
      "source": [
        "X_train = digits.data[:-1]\n",
        "y_train = digits.target[:-1]\n",
        "clf.fit(X_train, y_train)"
      ],
      "metadata": {
        "colab": {
          "base_uri": "https://localhost:8080/"
        },
        "id": "hGqWaLMv7CqA",
        "outputId": "5e9e99b9-0de2-4d07-a387-6ab4b06710b6"
      },
      "execution_count": null,
      "outputs": [
        {
          "output_type": "execute_result",
          "data": {
            "text/plain": [
              "SVC(C=100.0, gamma=0.001)"
            ]
          },
          "metadata": {},
          "execution_count": 8
        }
      ]
    },
    {
      "cell_type": "markdown",
      "source": [
        "Lo que podemos hacer ahora es predecir el digito de la ultima imagen."
      ],
      "metadata": {
        "id": "pgP0CD-Y88k3"
      }
    },
    {
      "cell_type": "code",
      "source": [
        "X_test = digits.data[-1:]\n",
        "clf.predict(X_test)"
      ],
      "metadata": {
        "colab": {
          "base_uri": "https://localhost:8080/"
        },
        "id": "qvfOxFf49Gz-",
        "outputId": "017445ec-01be-4eb6-b7dc-17fc3d38aa22"
      },
      "execution_count": null,
      "outputs": [
        {
          "output_type": "execute_result",
          "data": {
            "text/plain": [
              "array([8])"
            ]
          },
          "metadata": {},
          "execution_count": 12
        }
      ]
    },
    {
      "cell_type": "markdown",
      "source": [
        "# **Conventions**\n"
      ],
      "metadata": {
        "id": "exWZxkuGBwiV"
      }
    },
    {
      "cell_type": "markdown",
      "source": [
        "Los estimadores de sklearn siguen una serie de reglas para hacer su comportamiento mas predictivo.\n",
        "\n"
      ],
      "metadata": {
        "id": "n7ZPCt-oBZ3c"
      }
    },
    {
      "cell_type": "markdown",
      "source": [
        "**Type casting**\n",
        "\n",
        "A menos que se especifique lo contrario, los resultados se encuentraran calculados en `float64`."
      ],
      "metadata": {
        "id": "5iUVosT0B0hl"
      }
    },
    {
      "cell_type": "code",
      "source": [
        "import numpy as np\n",
        "from sklearn import random_projection\n",
        "\n",
        "rng = np.random.RandomState(0)\n",
        "X = rng.rand(10, 2000)\n",
        "X = np.array(X, dtype='float32')\n",
        "X.dtype"
      ],
      "metadata": {
        "colab": {
          "base_uri": "https://localhost:8080/"
        },
        "id": "w1BnYsg6BtuG",
        "outputId": "2721f38c-3b28-4c6f-912a-b69927c2c924"
      },
      "execution_count": null,
      "outputs": [
        {
          "output_type": "execute_result",
          "data": {
            "text/plain": [
              "dtype('float32')"
            ]
          },
          "metadata": {},
          "execution_count": 35
        }
      ]
    },
    {
      "cell_type": "code",
      "source": [
        "transformer = random_projection.GaussianRandomProjection()\n",
        "X_new = transformer.fit_transform(X)\n",
        "X_new.dtype"
      ],
      "metadata": {
        "colab": {
          "base_uri": "https://localhost:8080/"
        },
        "id": "_O2zIBpUCd9y",
        "outputId": "5066162d-6545-4762-95b1-3acbf9637025"
      },
      "execution_count": null,
      "outputs": [
        {
          "output_type": "execute_result",
          "data": {
            "text/plain": [
              "dtype('float64')"
            ]
          },
          "metadata": {},
          "execution_count": 36
        }
      ]
    },
    {
      "cell_type": "markdown",
      "source": [
        "Los objetivos de una regresion son puestos en `float64` y los objetivos de algoritmos de clasificacion son mantenidos."
      ],
      "metadata": {
        "id": "QN9D1KVzCvlK"
      }
    },
    {
      "cell_type": "code",
      "source": [
        "from sklearn import datasets \n",
        "from sklearn.svm import SVC \n",
        "iris = datasets.load_iris()\n",
        "clf = SVC()\n",
        "clf.fit(iris.data, iris.target)"
      ],
      "metadata": {
        "colab": {
          "base_uri": "https://localhost:8080/"
        },
        "id": "4sNORaQrC-90",
        "outputId": "53d5ae31-649a-4dae-c89a-56b25f3d57d5"
      },
      "execution_count": null,
      "outputs": [
        {
          "output_type": "execute_result",
          "data": {
            "text/plain": [
              "SVC()"
            ]
          },
          "metadata": {},
          "execution_count": 37
        }
      ]
    },
    {
      "cell_type": "code",
      "source": [
        "list(clf.predict(iris.data[:3]))"
      ],
      "metadata": {
        "colab": {
          "base_uri": "https://localhost:8080/"
        },
        "id": "vaa-tS7sDZ5j",
        "outputId": "510610cb-a004-4512-c133-cf25409716a9"
      },
      "execution_count": null,
      "outputs": [
        {
          "output_type": "execute_result",
          "data": {
            "text/plain": [
              "[0, 0, 0]"
            ]
          },
          "metadata": {},
          "execution_count": 38
        }
      ]
    },
    {
      "cell_type": "code",
      "source": [
        "clf.fit(iris.data, iris.target_names[iris.target])\n",
        "list(clf.predict(iris.data[:3]))"
      ],
      "metadata": {
        "colab": {
          "base_uri": "https://localhost:8080/"
        },
        "id": "UkXh8leiDhCa",
        "outputId": "85b9403b-5d3b-4596-83ea-6107fd7c0e7f"
      },
      "execution_count": null,
      "outputs": [
        {
          "output_type": "execute_result",
          "data": {
            "text/plain": [
              "['setosa', 'setosa', 'setosa']"
            ]
          },
          "metadata": {},
          "execution_count": 39
        }
      ]
    },
    {
      "cell_type": "markdown",
      "source": [
        "Asi, la primera vez que predijimos se obtuvo una lista con valores enteros. En cambio en la segunda vez se obtuvieron los nombres de las clasificaciones."
      ],
      "metadata": {
        "id": "uA_ZSiTWDylq"
      }
    },
    {
      "cell_type": "markdown",
      "source": [
        "**Refitting and updating parametrs**\n",
        "\n",
        "Los Hyper-parametros de un estimador pueden ser actualizados luego de que se encuentra constuido el algoritmo a traves del metodo `set_params()`. Llamando al metodo `fit()` nuevamente sobreescribira lo que fue aprendido anteriormente."
      ],
      "metadata": {
        "id": "JauoF2d6FoW5"
      }
    },
    {
      "cell_type": "code",
      "source": [
        "import numpy as np\n",
        "from sklearn.datasets import load_iris \n",
        "from sklearn.svm import SVC \n",
        "\n",
        "X, y = load_iris(return_X_y=True)\n",
        "clf = SVC()\n",
        "clf.set_params(kernel='linear').fit(X, y)"
      ],
      "metadata": {
        "colab": {
          "base_uri": "https://localhost:8080/"
        },
        "id": "jzdxF3hAEDYO",
        "outputId": "55b25dd6-e7ee-48c4-8696-9851d3a615a0"
      },
      "execution_count": null,
      "outputs": [
        {
          "output_type": "execute_result",
          "data": {
            "text/plain": [
              "SVC(kernel='linear')"
            ]
          },
          "metadata": {},
          "execution_count": 40
        }
      ]
    },
    {
      "cell_type": "code",
      "source": [
        "clf.predict(X[:5])"
      ],
      "metadata": {
        "colab": {
          "base_uri": "https://localhost:8080/"
        },
        "id": "uriJU5nSGvu-",
        "outputId": "f4378712-d89a-45a9-c067-67ddcefb4547"
      },
      "execution_count": null,
      "outputs": [
        {
          "output_type": "execute_result",
          "data": {
            "text/plain": [
              "array([0, 0, 0, 0, 0])"
            ]
          },
          "metadata": {},
          "execution_count": 41
        }
      ]
    },
    {
      "cell_type": "code",
      "source": [
        "clf.set_params(kernel='rbf').fit(X, y)\n",
        "clf.predict(X[:5])"
      ],
      "metadata": {
        "colab": {
          "base_uri": "https://localhost:8080/"
        },
        "id": "HZW66zbgG3UY",
        "outputId": "fa7854c4-a251-4f2c-8dd5-e6ef7654eaab"
      },
      "execution_count": null,
      "outputs": [
        {
          "output_type": "execute_result",
          "data": {
            "text/plain": [
              "array([0, 0, 0, 0, 0])"
            ]
          },
          "metadata": {},
          "execution_count": 42
        }
      ]
    },
    {
      "cell_type": "markdown",
      "source": [
        "Lo que se hizo aqui fue cambiar el kernel que viene por defecto a 'linear' y luego lo volvimos a reestablecer.\n",
        "\n",
        "**Multiclass vs. multilabel fitting**\n",
        "\n",
        "Cuando usamos `multiclass classifiers`, el rendimiento del algoritmo dependera del formato del `target`."
      ],
      "metadata": {
        "id": "3ui21gyYG2oq"
      }
    },
    {
      "cell_type": "code",
      "source": [
        "from sklearn.svm import SVC\n",
        "from sklearn.multiclass import OneVsRestClassifier \n",
        "from sklearn.preprocessing import LabelBinarizer \n",
        "\n",
        "X = [[1, 2], [2, 4], [4, 5], [3, 2], [3, 1]]\n",
        "y = [0, 0, 1, 1, 2]\n",
        "\n",
        "classif = OneVsRestClassifier(estimator=SVC(random_state=0))\n",
        "classif.fit(X, y).predict(X)"
      ],
      "metadata": {
        "colab": {
          "base_uri": "https://localhost:8080/"
        },
        "id": "PKNDI1FIHxqG",
        "outputId": "c6345dc7-6881-4265-bcf4-bc682b4f18b0"
      },
      "execution_count": null,
      "outputs": [
        {
          "output_type": "execute_result",
          "data": {
            "text/plain": [
              "array([0, 0, 1, 1, 2])"
            ]
          },
          "metadata": {},
          "execution_count": 43
        }
      ]
    },
    {
      "cell_type": "markdown",
      "source": [
        "En el caso anterior, el clasificador es ajustado a 1d `array` de multiples clases y el metodo `predict()` se ajusta a las categorias existentes. Tambien es posible ajustar hasta un 2d `array` con opciones binarias."
      ],
      "metadata": {
        "id": "uM6rcmqTIlHp"
      }
    },
    {
      "cell_type": "code",
      "source": [
        "y = LabelBinarizer().fit_transform(y)\n",
        "classif.fit(X, y).predict(X)"
      ],
      "metadata": {
        "colab": {
          "base_uri": "https://localhost:8080/"
        },
        "id": "mJUZjkXVJQPV",
        "outputId": "202541fc-f149-4fba-b330-fefa712e0330"
      },
      "execution_count": null,
      "outputs": [
        {
          "output_type": "execute_result",
          "data": {
            "text/plain": [
              "array([[1, 0, 0],\n",
              "       [1, 0, 0],\n",
              "       [0, 1, 0],\n",
              "       [0, 0, 0],\n",
              "       [0, 0, 0]])"
            ]
          },
          "metadata": {},
          "execution_count": 44
        }
      ]
    },
    {
      "cell_type": "markdown",
      "source": [
        "Notemos que para el cuarto y quinto dato regreso el valor de 0, indicando que **no encontro relacion con ninguno de las 3 categorias presentadas**. Para salida con varias categorias, tambien es posible que **se asigne mas de una categoria**."
      ],
      "metadata": {
        "id": "cWjko9LgJnry"
      }
    },
    {
      "cell_type": "code",
      "source": [
        "from sklearn.preprocessing import MultiLabelBinarizer\n",
        "y = [[0, 1], [0, 2], [1, 3], [0, 2, 3], [2, 4]]\n",
        "y = MultiLabelBinarizer().fit_transform(y)\n",
        "classif.fit(X, y).predict(X)"
      ],
      "metadata": {
        "colab": {
          "base_uri": "https://localhost:8080/"
        },
        "id": "qXSTN5C1KLfe",
        "outputId": "c6d9ed93-ff11-4070-b886-8cd924ae7714"
      },
      "execution_count": null,
      "outputs": [
        {
          "output_type": "execute_result",
          "data": {
            "text/plain": [
              "array([[1, 1, 0, 0, 0],\n",
              "       [1, 0, 1, 0, 0],\n",
              "       [0, 1, 0, 1, 0],\n",
              "       [1, 0, 1, 0, 0],\n",
              "       [1, 0, 1, 0, 0]])"
            ]
          },
          "metadata": {},
          "execution_count": 45
        }
      ]
    }
  ]
}