{
 "cells": [
  {
   "cell_type": "markdown",
   "metadata": {},
   "source": [
    "# Notas del curso de PowerBi\n",
    "\n",
    "## La idea es rescatar algunos comandos que sean mayormente relevantes para trabajar con el programa de Microsoft PowerBi.\n",
    "\n",
    "### Como segundo objetivo será modificar algunos de mis trabajos previos para asi generar y visualizar informes, y por ultimo, buscar la forma de trabajar desde PowerBi utilizando un entorno virtual de Python generado desde anaconda con bibliotecas utiles para el analisis de datos (Pandas por ejemplo).\n"
   ]
  },
  {
   "attachments": {},
   "cell_type": "markdown",
   "metadata": {},
   "source": [
    "## **Para la instalacion de un entorno vitual**\n",
    "\n",
    "### Lo primero sera tener instalado Anaconda, sino descargar desde su pagina oficial (https://www.anaconda.com/)\n",
    "\n",
    "Una vez instaladado se podra observar una interfaz como la siguiente:\n",
    "\n",
    "![imagen](https://raw.githubusercontent.com/raaraya1/raaraya1/main/imagenes/curso_power_bi/modulo1/1.png)\n",
    "\n",
    "En el panel a la izquierda, ir a la seccion de 'Enviorements'\n",
    "\n",
    "![imagen](https://raw.githubusercontent.com/raaraya1/raaraya1/main/imagenes/curso_power_bi/modulo1/2.png)\n",
    "\n",
    "Luego dar al boton create (Este lo llame PowerBi para luego reconocerlo), RECORDAR QUE MAS TARDE SERÁ NECESARIO RECORDAR EN QUE DIRECCIÓN SE ESTA CREANDO ESTE ENTORNO.\n",
    "\n",
    "Una vez creado este lo podemos abrir desde la teminal de anaconda."
   ]
  },
  {
   "cell_type": "markdown",
   "metadata": {},
   "source": [
    "### Una vez en la terminal podemos activar el entorno escribiendo:\n",
    "    conda activate PowerBi\n",
    "(Recordar cambiar el nombre del entorno si no lo llamaron igual)\n",
    "\n",
    "Si este se llega a encontrar activado, debiese aparecer con el nombre del entorno en cada nueva linea nueva que escribamos en la terminal.\n",
    "\n",
    "Por ultimo, le instalamos las bibliotecas que consideramos necesarias para el analisis de datos.\n",
    "En mi caso instale las siguientes librerias:\n",
    "- Jupyter (Ejecutar desde la consola con el entorno activado)\n",
    "\n",
    "pip install jupyter\n",
    "\n",
    "- Pandas (Ejecutar desde la consola con el entorno activado)\n",
    "\n",
    "pip install pandas\n",
    "\n",
    "**Mas adelante, probablemente instalare algunas bibliotecas adicionales**\n"
   ]
  },
  {
   "attachments": {},
   "cell_type": "markdown",
   "metadata": {},
   "source": [
    "## Lo siguiente será conectar nuestro entorno virtual recien creado con el programa de Microsoft PowerBi\n",
    "\n",
    "### Este no lo utilizaremos de inmediato, pero será necesario posteriormente para estudiar las opciones que nos brinda trabajar con Scripts de Python en PowerBi.\n",
    "\n",
    "El programa se puede descargar desde su pagina oficial (https://www.microsoft.com/es-ES/download/details.aspx?id=58494) y en mi caso estas son las espicificaciones de la descarga (Lo dejo en claro, por si llegasen a observarse diferencia en la locacion de las herramientas de la interfaz por temas de versión)\n",
    "![imagen](https://raw.githubusercontent.com/raaraya1/raaraya1/main/imagenes/curso_power_bi/modulo1/3.png)\n",
    "\n",
    "\n",
    "### Una vez instalado el programa, en la interfaz debiese observarse algo como esto:\n",
    "![imagen](https://raw.githubusercontent.com/raaraya1/raaraya1/main/imagenes/curso_power_bi/modulo1/4.png)\n",
    "\n",
    "\n",
    "Lo siguiente sera dirigirnos a la sección de 'Archivos' y en dar en la cinta de 'Opciones y configuración'.\n",
    "![imagen](https://raw.githubusercontent.com/raaraya1/raaraya1/main/imagenes/curso_power_bi/modulo1/5.png)\n",
    "\n",
    "\n",
    "Dar click en 'Opciones'.\n",
    "![imagen](https://raw.githubusercontent.com/raaraya1/raaraya1/main/imagenes/curso_power_bi/modulo1/6.png)\n",
    "\n",
    "\n",
    "Se abrirá una pestaña nueva y en esta debemos buscar a la izquierda la opcion 'Creación de scipts de Python'.\n",
    "![imagen](https://raw.githubusercontent.com/raaraya1/raaraya1/main/imagenes/curso_power_bi/modulo1/7.png)\n",
    "\n",
    "\n",
    "En esta parte, en la seccion de 'directorios raiz de Python detectados' debemos dar a 'Otros' y buscar la direccion donde se encuentra almacenado nuestro entorno de Anaconda. Luego damos a aceptar y listo.\n",
    "![imagen](https://raw.githubusercontent.com/raaraya1/raaraya1/main/imagenes/curso_power_bi/modulo1/8.png)\n",
    "\n",
    "\n",
    "**Recordar que cuando creamos un entorno virtual este nos indicará donde se instalará.**\n",
    "![imagen](https://raw.githubusercontent.com/raaraya1/raaraya1/main/imagenes/curso_power_bi/modulo1/9.png)\n",
    "\n",
    "\n",
    "\n",
    "\n",
    "\n",
    "\n"
   ]
  },
  {
   "cell_type": "markdown",
   "metadata": {},
   "source": [
    "En mi caso esta se encontraba en la siguiente dirección 'C:\\ProgramData\\Anaconda3\\envs\\PowerBi' **(Ojo que esta se generó en una carpeta oculta 'ProgramData', por lo cual será necesario antes cambiar esta opción en la visualizacion de las carpetas)**"
   ]
  }
 ],
 "metadata": {
  "kernelspec": {
   "display_name": "Python 3",
   "language": "python",
   "name": "python3"
  },
  "language_info": {
   "codemirror_mode": {
    "name": "ipython",
    "version": 3
   },
   "file_extension": ".py",
   "mimetype": "text/x-python",
   "name": "python",
   "nbconvert_exporter": "python",
   "pygments_lexer": "ipython3",
   "version": "3.9.0"
  }
 },
 "nbformat": 4,
 "nbformat_minor": 5
}
