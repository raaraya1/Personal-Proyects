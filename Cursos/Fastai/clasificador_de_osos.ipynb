{
 "cells": [
  {
   "cell_type": "code",
   "execution_count": 1,
   "metadata": {},
   "outputs": [
    {
     "name": "stderr",
     "output_type": "stream",
     "text": [
      "C:\\Users\\rodrigo\\.conda\\envs\\pytorch\\lib\\site-packages\\fastbook\\__init__.py:18: UserWarning: Missing `graphviz` - please run `conda install fastbook`\n",
      "  except ModuleNotFoundError: warn(\"Missing `graphviz` - please run `conda install fastbook`\")\n"
     ]
    }
   ],
   "source": [
    "# Importar las bibliotecas que vamos a usar\n",
    "!pip install -Uqq fastbook\n",
    "import fastbook\n",
    "from fastbook import *\n",
    "from fastai.vision.widgets import *"
   ]
  },
  {
   "cell_type": "code",
   "execution_count": 2,
   "metadata": {},
   "outputs": [],
   "source": [
    "# IMPORTANTE: Si se esta usando windows hay que agregar esto\n",
    "## Si se quiere probar esta aplicacion con voila\n",
    "## Desde cmd (en la ruta con el venv) ejecutar voila clasificador_de_osos.ipynb\n",
    "import pathlib\n",
    "temp = pathlib.PosixPath\n",
    "pathlib.PosixPath = pathlib.WindowsPath"
   ]
  },
  {
   "cell_type": "code",
   "execution_count": 3,
   "metadata": {
    "scrolled": true
   },
   "outputs": [
    {
     "data": {
      "text/plain": [
       "(#1) [Path('export.pkl')]"
      ]
     },
     "execution_count": 3,
     "metadata": {},
     "output_type": "execute_result"
    }
   ],
   "source": [
    "# Importar el clasificador\n",
    "path = Path()\n",
    "path.ls(file_exts='.pkl')"
   ]
  },
  {
   "cell_type": "code",
   "execution_count": 4,
   "metadata": {},
   "outputs": [],
   "source": [
    "# Llamamos al clasificador\n",
    "learn_inf = load_learner('export.pkl')"
   ]
  },
  {
   "cell_type": "code",
   "execution_count": 5,
   "metadata": {},
   "outputs": [],
   "source": [
    "# creamos los widgets\n",
    "# Boton para cargar\n",
    "btn_upload = widgets.FileUpload()\n",
    "\n",
    "# Imagen de salida\n",
    "out_pl = widgets.Output()\n",
    "\n",
    "# Categorias para predecir\n",
    "lbl_cat = widgets.Label()\n",
    "    \n",
    "# Prediccion\n",
    "lbl_pred = widgets.Label()\n",
    "\n",
    "# Boton para generar la prediccion\n",
    "btn_run = widgets.Button(description='Classify')\n",
    "\n",
    "# Funcion del boton predictivo\n",
    "def on_click_classify(change):\n",
    "    img = PILImage.create(btn_upload.data[-1])\n",
    "    out_pl.clear_output()\n",
    "    with out_pl: display(img.to_thumb(128,128))\n",
    "    pred,pred_idx,probs = learn_inf.predict(img)\n",
    "    lbl_pred.value = f'Pred: {pred} ; Prob: {probs[pred_idx]:.04f}'\n",
    "\n",
    "# Entregamos esta funcion al boton\n",
    "btn_run.on_click(on_click_classify)"
   ]
  },
  {
   "cell_type": "code",
   "execution_count": 8,
   "metadata": {},
   "outputs": [
    {
     "data": {
      "application/vnd.jupyter.widget-view+json": {
       "model_id": "87c0b62ab8454e33a8f21df11bc9b11e",
       "version_major": 2,
       "version_minor": 0
      },
      "text/plain": [
       "VBox(children=(Label(value='Carga una imagen de oso!'), Label(value='Las categorias de osos son: Grizzly - Bla…"
      ]
     },
     "metadata": {},
     "output_type": "display_data"
    }
   ],
   "source": [
    "# Ahora ordenamos los elementos\n",
    "lbl_cat.value = 'Las categorias de osos son: Grizzly - Black - Teddy'\n",
    "btn_upload = widgets.FileUpload()\n",
    "VBox([widgets.Label('Carga una imagen de oso!'), lbl_cat,\n",
    "      btn_upload, btn_run, out_pl, lbl_pred])"
   ]
  }
 ],
 "metadata": {
  "kernelspec": {
   "display_name": "pytorch",
   "language": "python",
   "name": "pytorch"
  },
  "language_info": {
   "codemirror_mode": {
    "name": "ipython",
    "version": 3
   },
   "file_extension": ".py",
   "mimetype": "text/x-python",
   "name": "python",
   "nbconvert_exporter": "python",
   "pygments_lexer": "ipython3",
   "version": "3.6.12"
  }
 },
 "nbformat": 4,
 "nbformat_minor": 4
}
