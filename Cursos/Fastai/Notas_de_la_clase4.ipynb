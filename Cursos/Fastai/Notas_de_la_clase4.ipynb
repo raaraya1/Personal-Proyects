{
  "nbformat": 4,
  "nbformat_minor": 0,
  "metadata": {
    "colab": {
      "name": "Notas de la clase4.ipynb",
      "provenance": [],
      "collapsed_sections": [],
      "authorship_tag": "ABX9TyPe6U+1IO0Ix/V1kTMGOSVV",
      "include_colab_link": true
    },
    "kernelspec": {
      "name": "python3",
      "display_name": "Python 3"
    },
    "language_info": {
      "name": "python"
    },
    "accelerator": "GPU",
    "widgets": {
      "application/vnd.jupyter.widget-state+json": {
        "a7b6c7a071e142e7bdfb75f1ec542225": {
          "model_module": "@jupyter-widgets/controls",
          "model_name": "HBoxModel",
          "model_module_version": "1.5.0",
          "state": {
            "_view_name": "HBoxView",
            "_dom_classes": [],
            "_model_name": "HBoxModel",
            "_view_module": "@jupyter-widgets/controls",
            "_model_module_version": "1.5.0",
            "_view_count": null,
            "_view_module_version": "1.5.0",
            "box_style": "",
            "layout": "IPY_MODEL_de175cc09af643e2a18f5fa789d9c093",
            "_model_module": "@jupyter-widgets/controls",
            "children": [
              "IPY_MODEL_558dcae7c8df468a8c61cfab7d8398e4",
              "IPY_MODEL_6163e0ca252f4fed8aa5f2df320e6c23",
              "IPY_MODEL_a92d7e8854f64dd88614084f7279256b"
            ]
          }
        },
        "de175cc09af643e2a18f5fa789d9c093": {
          "model_module": "@jupyter-widgets/base",
          "model_name": "LayoutModel",
          "model_module_version": "1.2.0",
          "state": {
            "_view_name": "LayoutView",
            "grid_template_rows": null,
            "right": null,
            "justify_content": null,
            "_view_module": "@jupyter-widgets/base",
            "overflow": null,
            "_model_module_version": "1.2.0",
            "_view_count": null,
            "flex_flow": null,
            "width": null,
            "min_width": null,
            "border": null,
            "align_items": null,
            "bottom": null,
            "_model_module": "@jupyter-widgets/base",
            "top": null,
            "grid_column": null,
            "overflow_y": null,
            "overflow_x": null,
            "grid_auto_flow": null,
            "grid_area": null,
            "grid_template_columns": null,
            "flex": null,
            "_model_name": "LayoutModel",
            "justify_items": null,
            "grid_row": null,
            "max_height": null,
            "align_content": null,
            "visibility": null,
            "align_self": null,
            "height": null,
            "min_height": null,
            "padding": null,
            "grid_auto_rows": null,
            "grid_gap": null,
            "max_width": null,
            "order": null,
            "_view_module_version": "1.2.0",
            "grid_template_areas": null,
            "object_position": null,
            "object_fit": null,
            "grid_auto_columns": null,
            "margin": null,
            "display": null,
            "left": null
          }
        },
        "558dcae7c8df468a8c61cfab7d8398e4": {
          "model_module": "@jupyter-widgets/controls",
          "model_name": "HTMLModel",
          "model_module_version": "1.5.0",
          "state": {
            "_view_name": "HTMLView",
            "style": "IPY_MODEL_4d72de080faa498a8215652dcdff173f",
            "_dom_classes": [],
            "description": "",
            "_model_name": "HTMLModel",
            "placeholder": "​",
            "_view_module": "@jupyter-widgets/controls",
            "_model_module_version": "1.5.0",
            "value": "100%",
            "_view_count": null,
            "_view_module_version": "1.5.0",
            "description_tooltip": null,
            "_model_module": "@jupyter-widgets/controls",
            "layout": "IPY_MODEL_03b460b5ee5a43f69c167a267b50ca6b"
          }
        },
        "6163e0ca252f4fed8aa5f2df320e6c23": {
          "model_module": "@jupyter-widgets/controls",
          "model_name": "FloatProgressModel",
          "model_module_version": "1.5.0",
          "state": {
            "_view_name": "ProgressView",
            "style": "IPY_MODEL_9c5a91d4971c452d9ce3f28163e09c4c",
            "_dom_classes": [],
            "description": "",
            "_model_name": "FloatProgressModel",
            "bar_style": "success",
            "max": 87319819,
            "_view_module": "@jupyter-widgets/controls",
            "_model_module_version": "1.5.0",
            "value": 87319819,
            "_view_count": null,
            "_view_module_version": "1.5.0",
            "orientation": "horizontal",
            "min": 0,
            "description_tooltip": null,
            "_model_module": "@jupyter-widgets/controls",
            "layout": "IPY_MODEL_1aa806f6c40446dbb097593e8be9bae5"
          }
        },
        "a92d7e8854f64dd88614084f7279256b": {
          "model_module": "@jupyter-widgets/controls",
          "model_name": "HTMLModel",
          "model_module_version": "1.5.0",
          "state": {
            "_view_name": "HTMLView",
            "style": "IPY_MODEL_a634cd96f5e74e27ac70f10aa41261e1",
            "_dom_classes": [],
            "description": "",
            "_model_name": "HTMLModel",
            "placeholder": "​",
            "_view_module": "@jupyter-widgets/controls",
            "_model_module_version": "1.5.0",
            "value": " 83.3M/83.3M [00:01&lt;00:00, 76.6MB/s]",
            "_view_count": null,
            "_view_module_version": "1.5.0",
            "description_tooltip": null,
            "_model_module": "@jupyter-widgets/controls",
            "layout": "IPY_MODEL_35bc589fbe9c4f58931a356d054e5d7c"
          }
        },
        "4d72de080faa498a8215652dcdff173f": {
          "model_module": "@jupyter-widgets/controls",
          "model_name": "DescriptionStyleModel",
          "model_module_version": "1.5.0",
          "state": {
            "_view_name": "StyleView",
            "_model_name": "DescriptionStyleModel",
            "description_width": "",
            "_view_module": "@jupyter-widgets/base",
            "_model_module_version": "1.5.0",
            "_view_count": null,
            "_view_module_version": "1.2.0",
            "_model_module": "@jupyter-widgets/controls"
          }
        },
        "03b460b5ee5a43f69c167a267b50ca6b": {
          "model_module": "@jupyter-widgets/base",
          "model_name": "LayoutModel",
          "model_module_version": "1.2.0",
          "state": {
            "_view_name": "LayoutView",
            "grid_template_rows": null,
            "right": null,
            "justify_content": null,
            "_view_module": "@jupyter-widgets/base",
            "overflow": null,
            "_model_module_version": "1.2.0",
            "_view_count": null,
            "flex_flow": null,
            "width": null,
            "min_width": null,
            "border": null,
            "align_items": null,
            "bottom": null,
            "_model_module": "@jupyter-widgets/base",
            "top": null,
            "grid_column": null,
            "overflow_y": null,
            "overflow_x": null,
            "grid_auto_flow": null,
            "grid_area": null,
            "grid_template_columns": null,
            "flex": null,
            "_model_name": "LayoutModel",
            "justify_items": null,
            "grid_row": null,
            "max_height": null,
            "align_content": null,
            "visibility": null,
            "align_self": null,
            "height": null,
            "min_height": null,
            "padding": null,
            "grid_auto_rows": null,
            "grid_gap": null,
            "max_width": null,
            "order": null,
            "_view_module_version": "1.2.0",
            "grid_template_areas": null,
            "object_position": null,
            "object_fit": null,
            "grid_auto_columns": null,
            "margin": null,
            "display": null,
            "left": null
          }
        },
        "9c5a91d4971c452d9ce3f28163e09c4c": {
          "model_module": "@jupyter-widgets/controls",
          "model_name": "ProgressStyleModel",
          "model_module_version": "1.5.0",
          "state": {
            "_view_name": "StyleView",
            "_model_name": "ProgressStyleModel",
            "description_width": "",
            "_view_module": "@jupyter-widgets/base",
            "_model_module_version": "1.5.0",
            "_view_count": null,
            "_view_module_version": "1.2.0",
            "bar_color": null,
            "_model_module": "@jupyter-widgets/controls"
          }
        },
        "1aa806f6c40446dbb097593e8be9bae5": {
          "model_module": "@jupyter-widgets/base",
          "model_name": "LayoutModel",
          "model_module_version": "1.2.0",
          "state": {
            "_view_name": "LayoutView",
            "grid_template_rows": null,
            "right": null,
            "justify_content": null,
            "_view_module": "@jupyter-widgets/base",
            "overflow": null,
            "_model_module_version": "1.2.0",
            "_view_count": null,
            "flex_flow": null,
            "width": null,
            "min_width": null,
            "border": null,
            "align_items": null,
            "bottom": null,
            "_model_module": "@jupyter-widgets/base",
            "top": null,
            "grid_column": null,
            "overflow_y": null,
            "overflow_x": null,
            "grid_auto_flow": null,
            "grid_area": null,
            "grid_template_columns": null,
            "flex": null,
            "_model_name": "LayoutModel",
            "justify_items": null,
            "grid_row": null,
            "max_height": null,
            "align_content": null,
            "visibility": null,
            "align_self": null,
            "height": null,
            "min_height": null,
            "padding": null,
            "grid_auto_rows": null,
            "grid_gap": null,
            "max_width": null,
            "order": null,
            "_view_module_version": "1.2.0",
            "grid_template_areas": null,
            "object_position": null,
            "object_fit": null,
            "grid_auto_columns": null,
            "margin": null,
            "display": null,
            "left": null
          }
        },
        "a634cd96f5e74e27ac70f10aa41261e1": {
          "model_module": "@jupyter-widgets/controls",
          "model_name": "DescriptionStyleModel",
          "model_module_version": "1.5.0",
          "state": {
            "_view_name": "StyleView",
            "_model_name": "DescriptionStyleModel",
            "description_width": "",
            "_view_module": "@jupyter-widgets/base",
            "_model_module_version": "1.5.0",
            "_view_count": null,
            "_view_module_version": "1.2.0",
            "_model_module": "@jupyter-widgets/controls"
          }
        },
        "35bc589fbe9c4f58931a356d054e5d7c": {
          "model_module": "@jupyter-widgets/base",
          "model_name": "LayoutModel",
          "model_module_version": "1.2.0",
          "state": {
            "_view_name": "LayoutView",
            "grid_template_rows": null,
            "right": null,
            "justify_content": null,
            "_view_module": "@jupyter-widgets/base",
            "overflow": null,
            "_model_module_version": "1.2.0",
            "_view_count": null,
            "flex_flow": null,
            "width": null,
            "min_width": null,
            "border": null,
            "align_items": null,
            "bottom": null,
            "_model_module": "@jupyter-widgets/base",
            "top": null,
            "grid_column": null,
            "overflow_y": null,
            "overflow_x": null,
            "grid_auto_flow": null,
            "grid_area": null,
            "grid_template_columns": null,
            "flex": null,
            "_model_name": "LayoutModel",
            "justify_items": null,
            "grid_row": null,
            "max_height": null,
            "align_content": null,
            "visibility": null,
            "align_self": null,
            "height": null,
            "min_height": null,
            "padding": null,
            "grid_auto_rows": null,
            "grid_gap": null,
            "max_width": null,
            "order": null,
            "_view_module_version": "1.2.0",
            "grid_template_areas": null,
            "object_position": null,
            "object_fit": null,
            "grid_auto_columns": null,
            "margin": null,
            "display": null,
            "left": null
          }
        }
      }
    }
  },
  "cells": [
    {
      "cell_type": "markdown",
      "metadata": {
        "id": "view-in-github",
        "colab_type": "text"
      },
      "source": [
        "<a href=\"https://colab.research.google.com/github/raaraya1/Personal-Proyects/blob/main/Cursos/Fastai/Notas_de_la_clase4.ipynb\" target=\"_parent\"><img src=\"https://colab.research.google.com/assets/colab-badge.svg\" alt=\"Open In Colab\"/></a>"
      ]
    },
    {
      "cell_type": "markdown",
      "metadata": {
        "id": "NHcBeTuwNVN0"
      },
      "source": [
        "# **Clase 4 - Deep Learning for Coders**"
      ]
    },
    {
      "cell_type": "markdown",
      "metadata": {
        "id": "xHH-uTT61qAT"
      },
      "source": [
        "# **Respuestas al cuestionario**\n",
        "\n",
        "1. **¿Por qué cambiamos las dimensiones de la imagen, primero a un tamaño grande en la CPU y luego a un tamaño más pequeño en la GPU?**\n",
        "\n",
        "No estoy tan seguro si esta sera la respuesta correcta, pero me imagino que esta pregunta esta relacionada con el proceso de precizing. Justamente el primer objetivo con este proceso es obtener una imagen cuadrada, utilizando el largo o ancho mas grande para encuadrar. Por otro lado, la segunda transformacion de tamaño se hace con el objetivo de trabajar con una menor cantidad de informacion junto con estandarizar las imagenes que se utilizar para el entrenamiento (que todas las fotos tengan las mismas dimensiones).\n",
        "\n",
        "\n",
        "2. **Si no está familiarizado con las expresiones regulares, busque un tutorial de expresiones regulares y algunos conjuntos de problemas y complételos. Eche un vistazo al sitio web del libro para obtener sugerencias.**\n",
        "\n",
        "Al final de este notebook deje un par de ejemplos de como trabajar con esta biblioteca (junto a un resumen de sus principales funciones)\n",
        "\n",
        "3. **¿Cuáles son las dos formas en que los datos se proporcionan con más frecuencia para la mayoría de los conjuntos de datos de aprendizaje profundo?**\n",
        "\n",
        "- Archivos individuales organizados en carpetas.\n",
        "- Tabla de datos, siendo las filas los elementos de informacion.\n",
        "\n",
        "4. **Busque la documentación de `L` e intente usar algunos de los nuevos métodos que agrega.**\n",
        "\n",
        "```\n",
        "class L\n",
        "[source]\n",
        "\n",
        "    L(items=None, *rest, use_list=False, match=None) :: GetAttr\n",
        "\n",
        "Behaves like a list of items but can also index with list of indices or masks\n",
        "```\n",
        "\n",
        "Al final del notebook, anduve probando algunos de sus metodos.\n",
        "\n",
        "5. **Busque la documentación del módulo `pathlib` de Python e intente usar algunos métodos de la clase` Path`.**\n",
        "\n",
        "Tambien desarrolle algunos ejercicios con la libreria de pathlib al final de este notebook.\n",
        "\n",
        "6. **Dé dos ejemplos de formas en que las transformaciones de imágenes pueden degradar la calidad de los datos.**\n",
        "\n",
        "- Cuando rotamos una imagen debemos rellenar los espacios que se generan en las esquinas (tipicamente se interpolan los pixel) y al hacer este completado es que normalmente se puede observar distorsiones en la imagen.\n",
        "\n",
        "- Con el metodo para estrechar las imagenes, estas tambien resultan destorsionadas, puesto que lo contenido en la imagen pierden sus proporciones originales (se ven mas angostas o estrechas de los que son)\n",
        "\n",
        "7. **¿Qué método proporciona fastai para ver los datos en un \"DataLoaders\"?**\n",
        "\n",
        "Fastai proporciona el metodo `show_batch`.\n",
        "\n",
        "8. **¿Qué método proporciona fastai para ayudarlo a depurar un `DataBlock`?**\n",
        "\n",
        "Fastai nos proporciona el metodo `summary` para hacer corregir errores al cargar los datos.\n",
        "\n",
        "9. **¿Debería retrasar el entrenamiento de un modelo hasta que haya limpiado a fondo sus datos?**\n",
        "\n",
        "La respuesta es NO. Fastai recomienda iniciar un entenamiento pequeño y con este averiguar cuales son los datos que le resultan mas conflictivos.\n",
        "\n",
        "10. **¿Cuáles son las dos piezas que se combinan en cross-entropy loss en PyTorch?**\n",
        "\n",
        "- Softmax: La cual transforma las predicciones en valores entre 0 y 1 (probabilidades)\n",
        "- Log likelihood: La cual toma estos valores entre 0 y 1, los trata con logaritmos y retorna valores entre menos infinito y cero (este corresponde luego pasa a ser la perdida)\n",
        "\n",
        "11. **¿Cuáles son las dos propiedades de las activaciones que asegura softmax? ¿Porque es esto importante?**\n",
        "\n",
        "No estoy tan seguro si se referira a esto, pero la funcion softmax permite obtener valores entre 0 y 1, sin nunca llegarse a obtener 0 o 1. Asi, esta funcion permite 'exagerar' las diferencias que se generan entre las predicciones, dado que estas pasan por una funcion exponencial, antes de calcular el total.\n",
        "\n",
        "12. **¿Cuándo podría desear que sus activaciones no tengan estas dos propiedades?**\n",
        "\n",
        "Una podria ser, por ejemplo, cuando no se intente 'exagerar las diferencias', con esto me refiero a que cross-entropy funciona particularmente bien para los casos en que se busque armar un clasificador que escoja 1 sola de las categorias, pero no funcionaria tan bien, por ejemplo si de los resultados que espero obtener contienen mas de una respuesta o en lugar de eso obtener una respuesta distinta a un modelo de clasificacion (como la de obtener un numero continuo en lugar de obtener una probabilidad)\n",
        "\n",
        "\n",
        "13. **Calcule las columnas `exp` y` softmax` de 'bear_softmax' usted mismo (es decir, en una hoja de cálculo, con una calculadora o en un cuaderno).**\n",
        "\n",
        "```python\n",
        "from numpy import exp, sum, array, round\n",
        "\n",
        "salida = array([0.02, -2.49, 1.25])\n",
        "\n",
        "salida_exp = round(array([exp(i) for i in salida]), 2)\n",
        "\n",
        "def softmax(x):\n",
        "  suma = array([exp(i) for i in x]).sum()\n",
        "  lista = [round(exp(i)/suma, 2) for i in x]\n",
        "  return lista\n",
        "\n",
        "print(salida_exp)\n",
        ">> [1.02 0.08 3.49]\n",
        "\n",
        "print(softmax(salida)\n",
        ">> [0.22, 0.02, 0.76]\n",
        "```\n",
        "\n",
        "\n",
        "14. **¿Por qué no podemos usar `torch.where` para crear una función de pérdida para conjuntos de datos donde nuestra etiqueta puede tener más de dos categorías?**\n",
        "\n",
        "La estructura del `torch.where` tiene una estructura como la que sigue: `if condicion == True: categoria1 else: categoria2`. Asi, esta puede revisar una condicion a la vez. Para el caso del clasificador de 3 y 7, esta funcion, mas que funcionar como un clasificador, lo que hacia era preguntarse si el numero era un 3 y si no lo era, por descarte corresponderia a un 7.\n",
        "\n",
        "15. **¿Cuál es el valor de log (-2)? ¿Por qué?**\n",
        "\n",
        "```python\n",
        "import numpy as np\n",
        "\n",
        "print(np.log(-2))\n",
        ">> nan\n",
        "```\n",
        "\n",
        "Esto resulta ser asi porque la funcion `log` solo soporta valores mayores a 0. El siguiente grafico muestra como actua la funcion `log`.\n",
        "\n",
        "```python\n",
        "import numpy as np\n",
        "import matplotlib.pyplot as plt\n",
        "\n",
        "x = np.linspace(-4, 4, 500)\n",
        "y = [np.log(i) for i in x]\n",
        "plt.plot(x, y)\n",
        "plt.show()\n",
        "```\n",
        "![imagen.png](data:image/png;base64,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)\n",
        "\n",
        "\n",
        "16. **¿Cuáles son dos buenas reglas generales para elegir una tasa de aprendizaje del buscador de tasas de aprendizaje?**\n",
        "\n",
        "Una posibilidad es utilizando el metodo que proporciona Fastai para su busqueda `lr_find()`. Este es un metodo iterativo por el cual en cada iteracion se hace pasar un batch, utilziando algun learning rate (el cual va ir aumentando en cada iteracion) y caclulando el loss generado. Asi luego podemos visualizar cual fue el learning rate que produjo la menor perdida.\n",
        "\n",
        "Una segunda manera es utilizando 'Discriminative Learning Rates', a lo que se refiere es utilizar un larning rate que no sea fijo, sino que vaya cambiando a medida que va trascurriendo el entrenamiento.\n",
        "\n",
        "17. **¿Cuáles son los dos pasos que realiza el método `fine_tune`?**\n",
        "\n",
        "- Reemplazar la ultima capa del modelo para ajustarlo a la respuesta que esperamos obtener. En este se congelan los parametros del modelo preentrenado y se trabaja ajustando los de la capa que agregamos.\n",
        "\n",
        "- Cuando ya ajustamos mas menos los parametros de la ultima capa, lo que sigue es descongelar el resto de los parametros del modelo y realizar algunos nuevos ciclos de entrenamiento (para esto tmabien es recomendable volver a sacar un buen learning rate con `lr_find()`)\n",
        "\n",
        "\n",
        "18. **En Jupyter Notebook, ¿cómo se obtiene el código fuente de un método o función?**\n",
        "\n",
        "Este se obtiene con `??`, luego de llamar a la funcion. Adicionalmente los metodos de Fastai se pueden revisar con la funcion `doc()`\n",
        "\n",
        "19. **¿Qué son las tasas de aprendizaje discriminativas?**\n",
        "\n",
        "Son learning rates que varian a medida que avanza el entrenamiento. Tipicamente, este tiene una configuracion decreciente, en la cual se inicia con LR mas altos (lo cual permite tomar pasos mas grandes en la direccion que apunta el gradiente) y se termina con LR mas bajos (para luego no generar divergencias con el gradiente)\n",
        "\n",
        "20. **¿Cómo se interpreta un objeto `slice` de Python cuando se pasa como una tasa de aprendizaje a fastai?**\n",
        "\n",
        "En la clase se utilizo de esta manera `lr_max=slice(1e-6,1e-4)` y lo que representa es el inicio y el final de lo que va a variar nuestro LR a medida que transcurre el entrenamiento. Para este caso, este incia con un valor de `1e-4` disminuyendo en `(1e-4 - 1e-6)/num_epochs` hasta llegar al valor de `1e-6`.\n",
        "\n",
        "21. **¿Por qué detenerse antes de tiempo es una mala elección cuando se usa el entrenamiento de 1 ciclo?**\n",
        "\n",
        "Porque no se da suficiente tiempo para observar en que punto el modelo empieza a empeorar en sus predicciones.\n",
        "\n",
        "22. **¿Cuál es la diferencia entre `resnet50` y` resnet101`?**\n",
        "\n",
        "La principal diferencia se encuentra en las arquitecturas de los modelos, puesto que la 'resnet50' cuenta con una menor cantidad de parametros y capas que el modelo 'resnet101' (si no mal recuerdo el numero inidca la cantidad de capas que posee el modelo). Asimismo modelos con una mayor cantidad de parametros presentan una mayor condicion de memoria para su entrenamiento.\n",
        "\n",
        "23. **¿Qué hace `to_fp16`?**\n",
        "\n",
        "Esto reduce el formato de los numeros que se utilizan en el modelo. En otras palabras ayuda a trabajar con una menor cantidad de memoria, ya que estos nuevos no son tan precisos (poseen una menor cantidad de decimales por ejemplo)"
      ]
    },
    {
      "cell_type": "markdown",
      "metadata": {
        "id": "8zo4laaE14Ar"
      },
      "source": [
        "## **Clasificador razas de mascotas**\n",
        "\n",
        "En la primera clase se contruyo un modelo para clasificar fotos de perros y gatos, sin emgargo, este dataset presenta un segundo desafio, el cual consiste en segmentar por la raza de las mascotas.\n",
        "\n",
        "Esto resulta mas complicado de hacer y sucede que para elaborar clasificadores con mas de dos respuestas, es que a continuacion se introduce la funcion Softmax."
      ]
    },
    {
      "cell_type": "markdown",
      "metadata": {
        "id": "C8d4_X8b5J9e"
      },
      "source": [
        "### **Preparativos**"
      ]
    },
    {
      "cell_type": "code",
      "metadata": {
        "id": "jvNgapRG0zgF"
      },
      "source": [
        "# Importar bobliotecas\n",
        "!pip install -Uqq fastbook\n",
        "import fastbook\n",
        "from fastai.vision.all import *\n",
        "from fastbook import *"
      ],
      "execution_count": null,
      "outputs": []
    },
    {
      "cell_type": "code",
      "metadata": {
        "colab": {
          "base_uri": "https://localhost:8080/",
          "height": 37
        },
        "id": "MUpjUtP113Oq",
        "outputId": "a9ade127-9cfb-4db9-b982-92c55fc919d7"
      },
      "source": [
        "# importar dataset\n",
        "from fastai.vision.all import *\n",
        "path = untar_data(URLs.PETS)"
      ],
      "execution_count": null,
      "outputs": [
        {
          "output_type": "display_data",
          "data": {
            "text/html": [
              "\n",
              "    <div>\n",
              "        <style>\n",
              "            /* Turns off some styling */\n",
              "            progress {\n",
              "                /* gets rid of default border in Firefox and Opera. */\n",
              "                border: none;\n",
              "                /* Needs to be in here for Safari polyfill so background images work as expected. */\n",
              "                background-size: auto;\n",
              "            }\n",
              "            .progress-bar-interrupted, .progress-bar-interrupted::-webkit-progress-bar {\n",
              "                background: #F44336;\n",
              "            }\n",
              "        </style>\n",
              "      <progress value='811712512' class='' max='811706944' style='width:300px; height:20px; vertical-align: middle;'></progress>\n",
              "      100.00% [811712512/811706944 00:16<00:00]\n",
              "    </div>\n",
              "    "
            ],
            "text/plain": [
              "<IPython.core.display.HTML object>"
            ]
          },
          "metadata": {
            "tags": []
          }
        }
      ]
    },
    {
      "cell_type": "code",
      "metadata": {
        "colab": {
          "base_uri": "https://localhost:8080/"
        },
        "id": "dLhiNyXe1Da-",
        "outputId": "a518b1f7-ee9b-4f38-8327-adc5ec37cdaf"
      },
      "source": [
        "# Veamos el contenido de la carpeta\n",
        "Path.BASE_PATH = path\n",
        "path.ls()"
      ],
      "execution_count": null,
      "outputs": [
        {
          "output_type": "execute_result",
          "data": {
            "text/plain": [
              "(#2) [Path('annotations'),Path('images')]"
            ]
          },
          "metadata": {
            "tags": []
          },
          "execution_count": 3
        }
      ]
    },
    {
      "cell_type": "code",
      "metadata": {
        "colab": {
          "base_uri": "https://localhost:8080/"
        },
        "id": "ptbBUvMR4Cfd",
        "outputId": "8f3f935b-9809-4a99-a675-7046d85eff32"
      },
      "source": [
        "# Ahora el contenido de la carpeta de imagenes\n",
        "(path/\"images\").ls()"
      ],
      "execution_count": null,
      "outputs": [
        {
          "output_type": "execute_result",
          "data": {
            "text/plain": [
              "(#7393) [Path('images/chihuahua_98.jpg'),Path('images/Russian_Blue_10.jpg'),Path('images/Birman_134.jpg'),Path('images/leonberger_9.jpg'),Path('images/yorkshire_terrier_64.jpg'),Path('images/great_pyrenees_182.jpg'),Path('images/Egyptian_Mau_67.jpg'),Path('images/British_Shorthair_174.jpg'),Path('images/Persian_76.jpg'),Path('images/Abyssinian_175.jpg')...]"
            ]
          },
          "metadata": {
            "tags": []
          },
          "execution_count": 4
        }
      ]
    },
    {
      "cell_type": "code",
      "metadata": {
        "colab": {
          "base_uri": "https://localhost:8080/"
        },
        "id": "7Q54IWT34MNP",
        "outputId": "7af090e1-226c-44b2-e7dc-e415336e5664"
      },
      "source": [
        "# Notemos que la raza se encuentra en los nombre de las imagenes\n",
        "# Esto me imprime la ruta, pero solo quiero la raza\n",
        "## En el libro se recomenienda utilizar 'regular expresions' para abordar esto\n",
        "fname = (path/\"images\").ls()[0]\n",
        "re.findall(r'(.+)_\\d+.jpg$', fname.name)\n"
      ],
      "execution_count": null,
      "outputs": [
        {
          "output_type": "execute_result",
          "data": {
            "text/plain": [
              "['chihuahua']"
            ]
          },
          "metadata": {
            "tags": []
          },
          "execution_count": 5
        }
      ]
    },
    {
      "cell_type": "markdown",
      "metadata": {
        "id": "aIE5lGB4NZ-Y"
      },
      "source": [
        "#### **Usando la funcion del libro**"
      ]
    },
    {
      "cell_type": "code",
      "metadata": {
        "id": "fGRkQkAaCRRC",
        "colab": {
          "base_uri": "https://localhost:8080/"
        },
        "outputId": "cf5a9db2-b68b-42a2-ae79-67a4db733124"
      },
      "source": [
        "# esta es la manera de la clase\n",
        "pets = DataBlock(blocks = (ImageBlock, CategoryBlock),\n",
        "                 get_items=get_image_files, \n",
        "                 splitter=RandomSplitter(seed=42),\n",
        "                 get_y=using_attr(RegexLabeller(r'(.+)_\\d+.jpg$'), 'name'),\n",
        "                 item_tfms=Resize(460),\n",
        "                 batch_tfms=aug_transforms(size=224, min_scale=0.75))\n",
        "dls = pets.dataloaders(path/\"images\")"
      ],
      "execution_count": null,
      "outputs": [
        {
          "output_type": "stream",
          "text": [
            "/usr/local/lib/python3.7/dist-packages/torch/_tensor.py:1023: UserWarning: torch.solve is deprecated in favor of torch.linalg.solveand will be removed in a future PyTorch release.\n",
            "torch.linalg.solve has its arguments reversed and does not return the LU factorization.\n",
            "To get the LU factorization see torch.lu, which can be used with torch.lu_solve or torch.lu_unpack.\n",
            "X = torch.solve(B, A).solution\n",
            "should be replaced with\n",
            "X = torch.linalg.solve(A, B) (Triggered internally at  /pytorch/aten/src/ATen/native/BatchLinearAlgebra.cpp:760.)\n",
            "  ret = func(*args, **kwargs)\n"
          ],
          "name": "stderr"
        }
      ]
    },
    {
      "cell_type": "markdown",
      "metadata": {
        "id": "sra98g8UNh5e"
      },
      "source": [
        "#### **Definiendo mi propia funcion**"
      ]
    },
    {
      "cell_type": "code",
      "metadata": {
        "colab": {
          "base_uri": "https://localhost:8080/"
        },
        "id": "TGC988ajBDoC",
        "outputId": "0639da75-54ba-4f47-a11e-ac86a36bb0c0"
      },
      "source": [
        "# Esto es lo que se me ocurriria hacer a mi\n",
        "## Ojo que toma un tiempo (no esta optimizado para nada)\n",
        "\n",
        "lista_final = []\n",
        "\n",
        "for i in range(len((path/\"images\").ls())):\n",
        "  # Transformar a str\n",
        "  fname = str((path/\"images\").ls()[i])\n",
        "\n",
        "  # Borrar la parte inicial\n",
        "  fname = fname.replace('/root/.fastai/data/oxford-iiit-pet/images/', '')\n",
        "\n",
        "  # Borrar la parte del final\n",
        "  fname = fname.replace('.jpg', '')\n",
        "\n",
        "  # Separo con '_'\n",
        "  # Elimino el ultimo elemento y vuelvo a pegar\n",
        "  fname = fname.split('_')\n",
        "  fname.pop()\n",
        "  \n",
        "  if len(fname) > 1:\n",
        "    fname1 = ''\n",
        "    for i in range(len(fname)):\n",
        "      fname1 += fname[i] + '_'\n",
        "    fname1 = fname1[:-1]\n",
        "    lista_final.append(fname1)\n",
        "  else:\n",
        "    lista_final.append(fname[0])\n",
        "\n",
        "print(lista_final[:10])\n",
        "print(len(lista_final))"
      ],
      "execution_count": null,
      "outputs": [
        {
          "output_type": "stream",
          "text": [
            "['chihuahua', 'Russian_Blue', 'Birman', 'leonberger', 'yorkshire_terrier', 'great_pyrenees', 'Egyptian_Mau', 'British_Shorthair', 'Persian', 'Abyssinian']\n",
            "7393\n"
          ],
          "name": "stdout"
        }
      ]
    },
    {
      "cell_type": "code",
      "metadata": {
        "id": "nCCqauBoF0KA"
      },
      "source": [
        "def funcion1(name):\n",
        "  fname = str(name)\n",
        "  fname = fname.replace('/root/.fastai/data/oxford-iiit-pet/images/', '')\n",
        "  fname = fname.replace('.jpg', '')\n",
        "  fname = fname.split('_')\n",
        "  fname.pop()\n",
        "  if len(fname) > 1:\n",
        "    fname1 = ''\n",
        "    for i in range(len(fname)):\n",
        "      fname1 += fname[i] + '_'\n",
        "    fname1 = fname1[:-1]\n",
        "  else:\n",
        "    fname1 = fname[0]  \n",
        "  return fname1\n"
      ],
      "execution_count": null,
      "outputs": []
    },
    {
      "cell_type": "code",
      "metadata": {
        "id": "IFPPjMo1LiiO"
      },
      "source": [
        "# En get_y coloque la funcion\n",
        "pets = DataBlock(blocks = (ImageBlock, CategoryBlock),\n",
        "                 get_items=get_image_files, \n",
        "                 splitter=RandomSplitter(seed=42),\n",
        "                 get_y=using_attr(funcion1, 'name'),\n",
        "                 item_tfms=Resize(460),\n",
        "                 batch_tfms=aug_transforms(size=224, min_scale=0.75))\n",
        "dls = pets.dataloaders(path/\"images\")"
      ],
      "execution_count": null,
      "outputs": []
    },
    {
      "cell_type": "code",
      "metadata": {
        "colab": {
          "base_uri": "https://localhost:8080/",
          "height": 195
        },
        "id": "x8qZI5fGJyVn",
        "outputId": "747453f4-a529-4326-89af-f3c922791f23"
      },
      "source": [
        "# parece que cargo bien las etiquetas de las imagenes\n",
        "dls.show_batch(nrows=1, ncols=3)"
      ],
      "execution_count": null,
      "outputs": [
        {
          "output_type": "display_data",
          "data": {
            "image/png": "[encoded data removed]",
            "text/plain": [
              "<Figure size 648x216 with 3 Axes>"
            ]
          },
          "metadata": {
            "tags": [],
            "needs_background": "light"
          }
        }
      ]
    },
    {
      "cell_type": "markdown",
      "metadata": {
        "id": "whuhAHylOyKc"
      },
      "source": [
        "### **Precizing**\n",
        "\n",
        "Este concepto hace referencia a cuando aplicamos transformaciones en las imagenes, generando espacios vacios, los cuales debemos rellenar con algun contenido. \n",
        "\n",
        "Por ejemplo, si tenemos una imagen puesta en un marco cuadrado y la rotamos en 45 grados, habra ciertos sectores de la imagen que se perderan (las esquinas) y en su lugar se vera el fondo del marco.\n",
        "\n",
        "El metodo 'tradicional' con el cual se aborda este problema es utilizando iterpolacion entre los pixeles de la imagen. Sin emgargo, Fastai utiliza un enfoque distinto.\n",
        "\n",
        "- Se recorta una imagen, dejandola cuadrada de largo y ancho igual al minimo entro los largos y anchos originales de la imagen. (esto se hace para todas la imagenes en item_tfms)\n",
        "- Se aplica un 'random crop' y algunas de las tecnicas de 'augmentation'. (se aplica a las imagenes del batch en item_tfms)\n",
        "\n",
        "En estas lineas de codigo fue donde se implemento este proceso.\n",
        "```\n",
        "item_tfms=Resize(460)\n",
        "batch_tfms=aug_transforms(size=224, min_scale=0.75)\n",
        "```"
      ]
    },
    {
      "cell_type": "markdown",
      "metadata": {
        "id": "4P4EaacrU99J"
      },
      "source": [
        "### **Debuggin**"
      ]
    },
    {
      "cell_type": "code",
      "metadata": {
        "colab": {
          "base_uri": "https://localhost:8080/"
        },
        "id": "Wk1VcFHYO3uj",
        "outputId": "842fdad1-73bd-4aa9-b806-f6a4c2ea54e0"
      },
      "source": [
        "pets.summary(path/\"images\")"
      ],
      "execution_count": null,
      "outputs": [
        {
          "output_type": "stream",
          "text": [
            "Setting-up type transforms pipelines\n",
            "Collecting items from /root/.fastai/data/oxford-iiit-pet/images\n",
            "Found 7390 items\n",
            "2 datasets of sizes 5912,1478\n",
            "Setting up Pipeline: PILBase.create\n",
            "Setting up Pipeline: partial -> Categorize -- {'vocab': None, 'sort': True, 'add_na': False}\n",
            "\n",
            "Building one sample\n",
            "  Pipeline: PILBase.create\n",
            "    starting from\n",
            "      /root/.fastai/data/oxford-iiit-pet/images/Bengal_120.jpg\n",
            "    applying PILBase.create gives\n",
            "      PILImage mode=RGB size=500x375\n",
            "  Pipeline: partial -> Categorize -- {'vocab': None, 'sort': True, 'add_na': False}\n",
            "    starting from\n",
            "      /root/.fastai/data/oxford-iiit-pet/images/Bengal_120.jpg\n",
            "    applying partial gives\n",
            "      Bengal\n",
            "    applying Categorize -- {'vocab': None, 'sort': True, 'add_na': False} gives\n",
            "      TensorCategory(1)\n",
            "\n",
            "Final sample: (PILImage mode=RGB size=500x375, TensorCategory(1))\n",
            "\n",
            "\n",
            "Collecting items from /root/.fastai/data/oxford-iiit-pet/images\n",
            "Found 7390 items\n",
            "2 datasets of sizes 5912,1478\n",
            "Setting up Pipeline: PILBase.create\n",
            "Setting up Pipeline: partial -> Categorize -- {'vocab': None, 'sort': True, 'add_na': False}\n",
            "Setting up after_item: Pipeline: Resize -- {'size': (460, 460), 'method': 'crop', 'pad_mode': 'reflection', 'resamples': (2, 0), 'p': 1.0} -> ToTensor\n",
            "Setting up before_batch: Pipeline: \n",
            "Setting up after_batch: Pipeline: IntToFloatTensor -- {'div': 255.0, 'div_mask': 1} -> Flip -- {'size': None, 'mode': 'bilinear', 'pad_mode': 'reflection', 'mode_mask': 'nearest', 'align_corners': True, 'p': 0.5} -> RandomResizedCropGPU -- {'size': (224, 224), 'min_scale': 0.75, 'ratio': (1, 1), 'mode': 'bilinear', 'valid_scale': 1.0, 'max_scale': 1.0, 'p': 1.0} -> Brightness -- {'max_lighting': 0.2, 'p': 1.0, 'draw': None, 'batch': False}\n",
            "\n",
            "Building one batch\n",
            "Applying item_tfms to the first sample:\n",
            "  Pipeline: Resize -- {'size': (460, 460), 'method': 'crop', 'pad_mode': 'reflection', 'resamples': (2, 0), 'p': 1.0} -> ToTensor\n",
            "    starting from\n",
            "      (PILImage mode=RGB size=500x375, TensorCategory(1))\n",
            "    applying Resize -- {'size': (460, 460), 'method': 'crop', 'pad_mode': 'reflection', 'resamples': (2, 0), 'p': 1.0} gives\n",
            "      (PILImage mode=RGB size=460x460, TensorCategory(1))\n",
            "    applying ToTensor gives\n",
            "      (TensorImage of size 3x460x460, TensorCategory(1))\n",
            "\n",
            "Adding the next 3 samples\n",
            "\n",
            "No before_batch transform to apply\n",
            "\n",
            "Collating items in a batch\n",
            "\n",
            "Applying batch_tfms to the batch built\n",
            "  Pipeline: IntToFloatTensor -- {'div': 255.0, 'div_mask': 1} -> Flip -- {'size': None, 'mode': 'bilinear', 'pad_mode': 'reflection', 'mode_mask': 'nearest', 'align_corners': True, 'p': 0.5} -> RandomResizedCropGPU -- {'size': (224, 224), 'min_scale': 0.75, 'ratio': (1, 1), 'mode': 'bilinear', 'valid_scale': 1.0, 'max_scale': 1.0, 'p': 1.0} -> Brightness -- {'max_lighting': 0.2, 'p': 1.0, 'draw': None, 'batch': False}\n",
            "    starting from\n",
            "      (TensorImage of size 4x3x460x460, TensorCategory([ 1, 10, 23, 18], device='cuda:0'))\n",
            "    applying IntToFloatTensor -- {'div': 255.0, 'div_mask': 1} gives\n",
            "      (TensorImage of size 4x3x460x460, TensorCategory([ 1, 10, 23, 18], device='cuda:0'))\n",
            "    applying Flip -- {'size': None, 'mode': 'bilinear', 'pad_mode': 'reflection', 'mode_mask': 'nearest', 'align_corners': True, 'p': 0.5} gives\n",
            "      (TensorImage of size 4x3x460x460, TensorCategory([ 1, 10, 23, 18], device='cuda:0'))\n",
            "    applying RandomResizedCropGPU -- {'size': (224, 224), 'min_scale': 0.75, 'ratio': (1, 1), 'mode': 'bilinear', 'valid_scale': 1.0, 'max_scale': 1.0, 'p': 1.0} gives\n",
            "      (TensorImage of size 4x3x224x224, TensorCategory([ 1, 10, 23, 18], device='cuda:0'))\n",
            "    applying Brightness -- {'max_lighting': 0.2, 'p': 1.0, 'draw': None, 'batch': False} gives\n",
            "      (TensorImage of size 4x3x224x224, TensorCategory([ 1, 10, 23, 18], device='cuda:0'))\n"
          ],
          "name": "stdout"
        }
      ]
    },
    {
      "cell_type": "markdown",
      "metadata": {
        "id": "-3VHrwoTVuCY"
      },
      "source": [
        "## **Generando el modelo**\n"
      ]
    },
    {
      "cell_type": "code",
      "metadata": {
        "colab": {
          "base_uri": "https://localhost:8080/",
          "height": 284,
          "referenced_widgets": [
            "a7b6c7a071e142e7bdfb75f1ec542225",
            "de175cc09af643e2a18f5fa789d9c093",
            "558dcae7c8df468a8c61cfab7d8398e4",
            "6163e0ca252f4fed8aa5f2df320e6c23",
            "a92d7e8854f64dd88614084f7279256b",
            "4d72de080faa498a8215652dcdff173f",
            "03b460b5ee5a43f69c167a267b50ca6b",
            "9c5a91d4971c452d9ce3f28163e09c4c",
            "1aa806f6c40446dbb097593e8be9bae5",
            "a634cd96f5e74e27ac70f10aa41261e1",
            "35bc589fbe9c4f58931a356d054e5d7c"
          ]
        },
        "id": "J3CdV0_hVzUD",
        "outputId": "5ed62a96-e02a-42a6-d7ec-1f0e869dadfe"
      },
      "source": [
        "learn = cnn_learner(dls, resnet34, metrics=error_rate)\n",
        "learn.fine_tune(2)"
      ],
      "execution_count": null,
      "outputs": [
        {
          "output_type": "stream",
          "text": [
            "Downloading: \"https://download.pytorch.org/models/resnet34-b627a593.pth\" to /root/.cache/torch/hub/checkpoints/resnet34-b627a593.pth\n"
          ],
          "name": "stderr"
        },
        {
          "output_type": "display_data",
          "data": {
            "application/vnd.jupyter.widget-view+json": {
              "model_id": "a7b6c7a071e142e7bdfb75f1ec542225",
              "version_minor": 0,
              "version_major": 2
            },
            "text/plain": [
              "  0%|          | 0.00/83.3M [00:00<?, ?B/s]"
            ]
          },
          "metadata": {
            "tags": []
          }
        },
        {
          "output_type": "stream",
          "text": [
            "/usr/local/lib/python3.7/dist-packages/torch/nn/functional.py:718: UserWarning: Named tensors and all their associated APIs are an experimental feature and subject to change. Please do not use them for anything important until they are released as stable. (Triggered internally at  /pytorch/c10/core/TensorImpl.h:1156.)\n",
            "  return torch.max_pool2d(input, kernel_size, stride, padding, dilation, ceil_mode)\n"
          ],
          "name": "stderr"
        },
        {
          "output_type": "display_data",
          "data": {
            "text/html": [
              "<table border=\"1\" class=\"dataframe\">\n",
              "  <thead>\n",
              "    <tr style=\"text-align: left;\">\n",
              "      <th>epoch</th>\n",
              "      <th>train_loss</th>\n",
              "      <th>valid_loss</th>\n",
              "      <th>error_rate</th>\n",
              "      <th>time</th>\n",
              "    </tr>\n",
              "  </thead>\n",
              "  <tbody>\n",
              "    <tr>\n",
              "      <td>0</td>\n",
              "      <td>1.514722</td>\n",
              "      <td>0.327224</td>\n",
              "      <td>0.110284</td>\n",
              "      <td>01:10</td>\n",
              "    </tr>\n",
              "  </tbody>\n",
              "</table>"
            ],
            "text/plain": [
              "<IPython.core.display.HTML object>"
            ]
          },
          "metadata": {
            "tags": []
          }
        },
        {
          "output_type": "display_data",
          "data": {
            "text/html": [
              "<table border=\"1\" class=\"dataframe\">\n",
              "  <thead>\n",
              "    <tr style=\"text-align: left;\">\n",
              "      <th>epoch</th>\n",
              "      <th>train_loss</th>\n",
              "      <th>valid_loss</th>\n",
              "      <th>error_rate</th>\n",
              "      <th>time</th>\n",
              "    </tr>\n",
              "  </thead>\n",
              "  <tbody>\n",
              "    <tr>\n",
              "      <td>0</td>\n",
              "      <td>0.499464</td>\n",
              "      <td>0.297745</td>\n",
              "      <td>0.085250</td>\n",
              "      <td>01:14</td>\n",
              "    </tr>\n",
              "    <tr>\n",
              "      <td>1</td>\n",
              "      <td>0.329423</td>\n",
              "      <td>0.222157</td>\n",
              "      <td>0.072395</td>\n",
              "      <td>01:14</td>\n",
              "    </tr>\n",
              "  </tbody>\n",
              "</table>"
            ],
            "text/plain": [
              "<IPython.core.display.HTML object>"
            ]
          },
          "metadata": {
            "tags": []
          }
        }
      ]
    },
    {
      "cell_type": "code",
      "metadata": {
        "colab": {
          "base_uri": "https://localhost:8080/",
          "height": 743
        },
        "id": "InuBGcqlW6ST",
        "outputId": "d7d1ec5b-f51f-4e46-a559-a4a988d78b1f"
      },
      "source": [
        "interp = ClassificationInterpretation.from_learner(learn)\n",
        "interp.plot_confusion_matrix(figsize=(12,12), dpi=60)"
      ],
      "execution_count": null,
      "outputs": [
        {
          "output_type": "display_data",
          "data": {
            "text/html": [
              ""
            ],
            "text/plain": [
              "<IPython.core.display.HTML object>"
            ]
          },
          "metadata": {
            "tags": []
          }
        },
        {
          "output_type": "display_data",
          "data": {
            "image/png": "[encoded data removed]",
            "text/plain": [
              "<Figure size 720x720 with 1 Axes>"
            ]
          },
          "metadata": {
            "tags": [],
            "needs_background": "light"
          }
        }
      ]
    },
    {
      "cell_type": "markdown",
      "metadata": {
        "id": "FxXfcsZ1E_ct"
      },
      "source": [
        "## **Cross-Entropy Loss**\n",
        "\n",
        "Caracteristicas:\n",
        "\n",
        "- Sirve para clasificacion con mas de dos categorias (la sigmoide solo para dos).\n",
        "- Tiene buen desempeño en velocidad de entrenamiento.\n",
        "\n"
      ]
    },
    {
      "cell_type": "code",
      "metadata": {
        "id": "la0Jat5rFJHb",
        "colab": {
          "base_uri": "https://localhost:8080/"
        },
        "outputId": "5688f747-65d3-491c-b880-7d7d2f7f8f56"
      },
      "source": [
        "# saquemos una muestra\n",
        "x,y = dls.one_batch()\n",
        "y"
      ],
      "execution_count": null,
      "outputs": [
        {
          "output_type": "execute_result",
          "data": {
            "text/plain": [
              "TensorCategory([ 3, 32,  1,  1, 23, 24, 18,  0, 20, 24, 12, 26,  0, 10,  9,  8, 20, 24, 12, 24, 25, 28,  2, 13, 22, 35,  6, 35, 24, 34,  3, 28, 17, 15, 30,  6, 32, 25, 30, 22,  0, 23, 33, 31, 31, 28, 19, 28,\n",
              "        32, 35, 21, 31, 35, 19, 17, 23,  2, 23,  7, 19, 27, 21,  4,  3], device='cuda:0')"
            ]
          },
          "metadata": {
            "tags": []
          },
          "execution_count": 13
        }
      ]
    },
    {
      "cell_type": "code",
      "metadata": {
        "id": "V3IZJP_dGVmW",
        "colab": {
          "base_uri": "https://localhost:8080/",
          "height": 93
        },
        "outputId": "bc3f27d9-28ee-450d-d2eb-44fc461a5deb"
      },
      "source": [
        "# la funcion get_preds retorna las predicciones y las etiquetas por defecto\n",
        "# el indice 0 es para referirnos al set de entranamiento\n",
        "preds,_ = learn.get_preds(dl=[(x,y)])\n",
        "preds[0]"
      ],
      "execution_count": null,
      "outputs": [
        {
          "output_type": "display_data",
          "data": {
            "text/html": [
              ""
            ],
            "text/plain": [
              "<IPython.core.display.HTML object>"
            ]
          },
          "metadata": {
            "tags": []
          }
        },
        {
          "output_type": "execute_result",
          "data": {
            "text/plain": [
              "tensor([5.0334e-06, 2.8207e-05, 1.0780e-06, 9.9933e-01, 1.8678e-04, 8.3221e-07, 3.8392e-05, 1.9252e-05, 8.3272e-06, 8.5113e-05, 1.6376e-04, 3.1505e-05, 1.1164e-08, 1.2514e-07, 1.7051e-07, 2.7224e-08,\n",
              "        4.5587e-06, 2.8459e-06, 9.3249e-07, 1.3647e-07, 9.4903e-07, 1.5347e-07, 5.1631e-08, 4.8029e-06, 2.2869e-06, 4.0709e-07, 6.2117e-06, 5.4192e-07, 5.7374e-05, 8.2853e-06, 9.5271e-08, 1.2107e-06,\n",
              "        2.4807e-06, 1.7800e-06, 4.0538e-07, 5.2954e-07, 3.0796e-06])"
            ]
          },
          "metadata": {
            "tags": []
          },
          "execution_count": 14
        }
      ]
    },
    {
      "cell_type": "markdown",
      "metadata": {
        "id": "Om4VrDybGyEq"
      },
      "source": [
        "### **Softmax Function**\n",
        "\n",
        "Similar a como utilizabamos la funcion sigmoide para transformar las predicciones en valores entre 0 y 1, esta funcion pretende hacer lo mismo, pero no solo aplicado a 2 categorias.\n",
        "\n",
        "\\begin{equation}\n",
        "F(pred_{i}) = \\frac{e^{pred_{i}}}{\\sum_{i} e^{pred_{i}}}\n",
        "\\end{equation}"
      ]
    },
    {
      "cell_type": "code",
      "metadata": {
        "id": "NEkawrA8G4L9",
        "colab": {
          "base_uri": "https://localhost:8080/"
        },
        "outputId": "6af24b06-251d-43c0-a8a7-b66d04574a41"
      },
      "source": [
        "# ejemplo 2 categorias\n",
        "torch.random.manual_seed(42)\n",
        "acts = torch.randn((6,2))*2\n",
        "acts\n",
        "\n",
        "# sigmoide\n",
        "(acts[:,0]-acts[:,1]).sigmoid()"
      ],
      "execution_count": null,
      "outputs": [
        {
          "output_type": "execute_result",
          "data": {
            "text/plain": [
              "tensor([0.6025, 0.5021, 0.1332, 0.9966, 0.5959, 0.3661])"
            ]
          },
          "metadata": {
            "tags": []
          },
          "execution_count": 15
        }
      ]
    },
    {
      "cell_type": "code",
      "metadata": {
        "id": "q3x_WYS3J1br",
        "colab": {
          "base_uri": "https://localhost:8080/"
        },
        "outputId": "1553773e-11cf-48c5-9668-fea2c6218ce3"
      },
      "source": [
        "# softmax\n",
        "sm_acts = torch.softmax(acts, dim=1)\n",
        "sm_acts"
      ],
      "execution_count": null,
      "outputs": [
        {
          "output_type": "execute_result",
          "data": {
            "text/plain": [
              "tensor([[0.6025, 0.3975],\n",
              "        [0.5021, 0.4979],\n",
              "        [0.1332, 0.8668],\n",
              "        [0.9966, 0.0034],\n",
              "        [0.5959, 0.4041],\n",
              "        [0.3661, 0.6339]])"
            ]
          },
          "metadata": {
            "tags": []
          },
          "execution_count": 16
        }
      ]
    },
    {
      "cell_type": "markdown",
      "metadata": {
        "id": "x1fiaGTuMafh"
      },
      "source": [
        "### **Log Likelihood**\n",
        "\n",
        "Recordando cuando trabajamos con la sigmoide.\n",
        "```python\n",
        "def mnist_loss(inputs, targets):\n",
        "    inputs = inputs.sigmoid()\n",
        "    return torch.where(targets==1, 1-inputs, inputs).mean()\n",
        "```\n",
        "\n",
        "Ahora, en lugar de utilir el `torch.where`, tenemos que guiarnos por el target, para retornar la perdida.\n"
      ]
    },
    {
      "cell_type": "code",
      "metadata": {
        "id": "rO5A-K47OTWK",
        "colab": {
          "base_uri": "https://localhost:8080/"
        },
        "outputId": "4e5f9064-7d5f-40b5-f53b-0f3a0124e94b"
      },
      "source": [
        "targ = tensor([0,1,0,1,1,0])\n",
        "idx = range(6)\n",
        "sm_acts[idx, targ]"
      ],
      "execution_count": null,
      "outputs": [
        {
          "output_type": "execute_result",
          "data": {
            "text/plain": [
              "tensor([0.6025, 0.4979, 0.1332, 0.0034, 0.4041, 0.3661])"
            ]
          },
          "metadata": {
            "tags": []
          },
          "execution_count": 17
        }
      ]
    },
    {
      "cell_type": "code",
      "metadata": {
        "id": "pnZrCplAM17z",
        "colab": {
          "base_uri": "https://localhost:8080/",
          "height": 237
        },
        "outputId": "b84db510-4d4f-4d3f-dd56-7f73b382683b"
      },
      "source": [
        "df = pd.DataFrame(sm_acts, columns=[\"3\",\"7\"])\n",
        "df['targ'] = targ\n",
        "df['idx'] = idx\n",
        "df['loss'] = sm_acts[range(6), targ]\n",
        "df"
      ],
      "execution_count": null,
      "outputs": [
        {
          "output_type": "execute_result",
          "data": {
            "text/html": [
              "<div>\n",
              "<style scoped>\n",
              "    .dataframe tbody tr th:only-of-type {\n",
              "        vertical-align: middle;\n",
              "    }\n",
              "\n",
              "    .dataframe tbody tr th {\n",
              "        vertical-align: top;\n",
              "    }\n",
              "\n",
              "    .dataframe thead th {\n",
              "        text-align: right;\n",
              "    }\n",
              "</style>\n",
              "<table border=\"1\" class=\"dataframe\">\n",
              "  <thead>\n",
              "    <tr style=\"text-align: right;\">\n",
              "      <th></th>\n",
              "      <th>3</th>\n",
              "      <th>7</th>\n",
              "      <th>targ</th>\n",
              "      <th>idx</th>\n",
              "      <th>loss</th>\n",
              "    </tr>\n",
              "  </thead>\n",
              "  <tbody>\n",
              "    <tr>\n",
              "      <th>0</th>\n",
              "      <td>0.602469</td>\n",
              "      <td>0.397531</td>\n",
              "      <td>0</td>\n",
              "      <td>0</td>\n",
              "      <td>0.602469</td>\n",
              "    </tr>\n",
              "    <tr>\n",
              "      <th>1</th>\n",
              "      <td>0.502065</td>\n",
              "      <td>0.497935</td>\n",
              "      <td>1</td>\n",
              "      <td>1</td>\n",
              "      <td>0.497935</td>\n",
              "    </tr>\n",
              "    <tr>\n",
              "      <th>2</th>\n",
              "      <td>0.133188</td>\n",
              "      <td>0.866811</td>\n",
              "      <td>0</td>\n",
              "      <td>2</td>\n",
              "      <td>0.133188</td>\n",
              "    </tr>\n",
              "    <tr>\n",
              "      <th>3</th>\n",
              "      <td>0.996640</td>\n",
              "      <td>0.003360</td>\n",
              "      <td>1</td>\n",
              "      <td>3</td>\n",
              "      <td>0.003360</td>\n",
              "    </tr>\n",
              "    <tr>\n",
              "      <th>4</th>\n",
              "      <td>0.595949</td>\n",
              "      <td>0.404051</td>\n",
              "      <td>1</td>\n",
              "      <td>4</td>\n",
              "      <td>0.404051</td>\n",
              "    </tr>\n",
              "    <tr>\n",
              "      <th>5</th>\n",
              "      <td>0.366118</td>\n",
              "      <td>0.633882</td>\n",
              "      <td>0</td>\n",
              "      <td>5</td>\n",
              "      <td>0.366118</td>\n",
              "    </tr>\n",
              "  </tbody>\n",
              "</table>\n",
              "</div>"
            ],
            "text/plain": [
              "          3         7  targ  idx      loss\n",
              "0  0.602469  0.397531     0    0  0.602469\n",
              "1  0.502065  0.497935     1    1  0.497935\n",
              "2  0.133188  0.866811     0    2  0.133188\n",
              "3  0.996640  0.003360     1    3  0.003360\n",
              "4  0.595949  0.404051     1    4  0.404051\n",
              "5  0.366118  0.633882     0    5  0.366118"
            ]
          },
          "metadata": {
            "tags": []
          },
          "execution_count": 19
        }
      ]
    },
    {
      "cell_type": "code",
      "metadata": {
        "id": "mIp5hThxPVqn",
        "colab": {
          "base_uri": "https://localhost:8080/"
        },
        "outputId": "b9584b75-4541-4255-813f-330e581cfb7c"
      },
      "source": [
        "# Esta funcion sirve para ir buscando por los indices \n",
        "## La unica diferencia es que deja los valores negativos \n",
        "## NO APLICA NINGUNA FUNCION DE LOG\n",
        "### SI SE QUIERE APLICAR CON LOG, ES NECESARIO USAR log_softmax EN LUGAR DE SOLO softmax\n",
        "F.nll_loss(sm_acts, targ, reduction='none')"
      ],
      "execution_count": null,
      "outputs": [
        {
          "output_type": "execute_result",
          "data": {
            "text/plain": [
              "tensor([-0.6025, -0.4979, -0.1332, -0.0034, -0.4041, -0.3661])"
            ]
          },
          "metadata": {
            "tags": []
          },
          "execution_count": 20
        }
      ]
    },
    {
      "cell_type": "markdown",
      "metadata": {
        "id": "LLm7hpgcR0oQ"
      },
      "source": [
        "Ahora que tenemos asegurado el trabajar con valores que no se nos vayan a ir a cero (por todo el tema de los gradientes cuando se iban a 0) al utilzar la funcion de softmax (regresa valores entre 0 y 1) se nos genera un problema, no muy grande, pero si que afecta a la manera de hacer diferencias entre lo correcto y lo que no.\n",
        "\n",
        "Es por eso que, ahora que nos aseguramos trabajar con un dominio comodo (valores entre 0 y 1), lo que vamos a hacer ahora es incrementar estas diferencias utilizando logaritmos (recordar que los logaritmos tienen un comportamiento similar a trabajar con porcentajes).\n",
        "\n",
        "Importante de recordar para la funcion de log:\n",
        "- Para valores entre 0 y 1, los mas cercanos a cero se vuelven mas negativos, en cambio los cercanos a 1 se vuelven mas cercanos a cero.\n",
        "\n",
        "\n",
        "\\begin{equation}\n",
        "Loss = -\\sum_{i} y_{i}^{real}log(y_{i}^{pred})\n",
        "\\end{equation}\n",
        "\n",
        "Recordando que:\n",
        "\\begin{equation}\n",
        "y_{i}^{pred} = F(pred_{i}) = \\frac{e^{pred_{i}}}{\\sum_{i} e^{pred_{i}}}\n",
        "\\end{equation}"
      ]
    },
    {
      "cell_type": "code",
      "metadata": {
        "id": "qvX-bOzwUV-W",
        "colab": {
          "base_uri": "https://localhost:8080/"
        },
        "outputId": "6b684991-b18f-4e94-be71-c2e2daa44cf0"
      },
      "source": [
        "# este proceso se resume en la siguiente funcion de perdida\n",
        "loss_func = nn.CrossEntropyLoss() # esta ya incluye el paso de la softmax y el log\n",
        "loss_func(acts, targ)"
      ],
      "execution_count": null,
      "outputs": [
        {
          "output_type": "execute_result",
          "data": {
            "text/plain": [
              "tensor(1.8045)"
            ]
          },
          "metadata": {
            "tags": []
          },
          "execution_count": 21
        }
      ]
    },
    {
      "cell_type": "code",
      "metadata": {
        "id": "wAhBk_JAWuNw",
        "colab": {
          "base_uri": "https://localhost:8080/"
        },
        "outputId": "61e46dba-0bfe-4085-83b4-f84dd4d26c93"
      },
      "source": [
        "# la misma varsion pero como funcion\n",
        "F.cross_entropy(acts, targ)"
      ],
      "execution_count": null,
      "outputs": [
        {
          "output_type": "execute_result",
          "data": {
            "text/plain": [
              "tensor(1.8045)"
            ]
          },
          "metadata": {
            "tags": []
          },
          "execution_count": 22
        }
      ]
    },
    {
      "cell_type": "markdown",
      "metadata": {
        "id": "6pnubftiXzD1"
      },
      "source": [
        "## **Mejorando el modelo**\n"
      ]
    },
    {
      "cell_type": "markdown",
      "metadata": {
        "id": "H4fGfDtFX-Hi"
      },
      "source": [
        "### **Learning Rate Finder**\n",
        "\n",
        "Herramienta super util que proporciona Fastai para **identificar un Learning Rate**, que funcione bien el modelo de redes neuronales. \n",
        "\n",
        "Se basa principalmente en ir modificando el LR pasando un mini-batch por el modelo e ir monitoreando en con que LR se produjo el menor Loss (se aplica entre medio la funcion log para tener una medida mas porcentual de la perdida)"
      ]
    },
    {
      "cell_type": "code",
      "metadata": {
        "id": "awLa_CgGX23b",
        "colab": {
          "base_uri": "https://localhost:8080/",
          "height": 302
        },
        "outputId": "89ed39fa-52c5-4bfe-f3c1-89badf89a4a1"
      },
      "source": [
        "# En la clase aparece que esta funcion regresa dos valores, pero \n",
        "# revisando la funcion a mi solo me aparece 1\n",
        "learn = cnn_learner(dls, resnet34, metrics=error_rate)\n",
        "lr_min = learn.lr_find()\n",
        "print(f\"Minimum/10: {lr_min[0]:.2e}\")"
      ],
      "execution_count": null,
      "outputs": [
        {
          "output_type": "display_data",
          "data": {
            "text/html": [
              ""
            ],
            "text/plain": [
              "<IPython.core.display.HTML object>"
            ]
          },
          "metadata": {
            "tags": []
          }
        },
        {
          "output_type": "stream",
          "text": [
            "Minimum/10: 1.00e-03\n"
          ],
          "name": "stdout"
        },
        {
          "output_type": "display_data",
          "data": {
            "image/png": "[encoded data removed]",
            "text/plain": [
              "<Figure size 432x288 with 1 Axes>"
            ]
          },
          "metadata": {
            "tags": [],
            "needs_background": "light"
          }
        }
      ]
    },
    {
      "cell_type": "markdown",
      "metadata": {
        "id": "U6P3C_yVnu30"
      },
      "source": [
        "### **Transfer learning**\n",
        "\n",
        "Lo que se hace con transfer learning es utilizar un modelo preentrenado (que sirva para los propositos que buscamos), quitarle la ultima capa (donde se encuetran las categorias) y cambiarlas por las categorias que nosotros buscamos.\n",
        "\n",
        "Al reemplazar esta capa con la nueva, esta se encontrara con pesos asignados de manera aleatoria. Asi, el objetivo es ajustar los pesos de la ultima capa de forma tal que se ajuste con la tarea solicitada.\n",
        "\n",
        "Cuando llamamos a la funcion `fine_tune` lo que se hace es lo siguiente:\n",
        "1. Corremos 1 iteracion, cambiando solo los pesos de la capa que añadimos (el resto de los parametros se 'congelan')\n",
        "2. Luego 'descongelamos' el resto de los parametros y lo entrenamos de manera normal.\n"
      ]
    },
    {
      "cell_type": "code",
      "metadata": {
        "colab": {
          "base_uri": "https://localhost:8080/",
          "height": 143
        },
        "id": "Thr-YFPAn0jC",
        "outputId": "6ed60157-f925-4497-fe61-4a1b6c73ff4e"
      },
      "source": [
        "# Con fit_one_cycle corremos una iteracion y solo cambiamos los pesos de la ultima capa\n",
        "learn = cnn_learner(dls, resnet34, metrics=error_rate)\n",
        "learn.fit_one_cycle(3, 3e-3)"
      ],
      "execution_count": null,
      "outputs": [
        {
          "output_type": "display_data",
          "data": {
            "text/html": [
              "<table border=\"1\" class=\"dataframe\">\n",
              "  <thead>\n",
              "    <tr style=\"text-align: left;\">\n",
              "      <th>epoch</th>\n",
              "      <th>train_loss</th>\n",
              "      <th>valid_loss</th>\n",
              "      <th>error_rate</th>\n",
              "      <th>time</th>\n",
              "    </tr>\n",
              "  </thead>\n",
              "  <tbody>\n",
              "    <tr>\n",
              "      <td>0</td>\n",
              "      <td>1.120074</td>\n",
              "      <td>0.282585</td>\n",
              "      <td>0.091340</td>\n",
              "      <td>01:12</td>\n",
              "    </tr>\n",
              "    <tr>\n",
              "      <td>1</td>\n",
              "      <td>0.544851</td>\n",
              "      <td>0.244229</td>\n",
              "      <td>0.076455</td>\n",
              "      <td>01:14</td>\n",
              "    </tr>\n",
              "    <tr>\n",
              "      <td>2</td>\n",
              "      <td>0.322937</td>\n",
              "      <td>0.220510</td>\n",
              "      <td>0.062923</td>\n",
              "      <td>01:13</td>\n",
              "    </tr>\n",
              "  </tbody>\n",
              "</table>"
            ],
            "text/plain": [
              "<IPython.core.display.HTML object>"
            ]
          },
          "metadata": {
            "tags": []
          }
        }
      ]
    },
    {
      "cell_type": "code",
      "metadata": {
        "id": "wyFwciPVn-ms"
      },
      "source": [
        "# Ahora descongelamos el resto de los parametros del modelo\n",
        "learn.unfreeze()"
      ],
      "execution_count": null,
      "outputs": []
    },
    {
      "cell_type": "code",
      "metadata": {
        "colab": {
          "base_uri": "https://localhost:8080/",
          "height": 302
        },
        "id": "DGmV4v3MoA6i",
        "outputId": "1623a3de-2ffc-4862-a52b-bced20c92e3d"
      },
      "source": [
        "# Volvemos a buscar el learning rate que mas reduce la perdida en el modelo\n",
        "learn.lr_find()"
      ],
      "execution_count": null,
      "outputs": [
        {
          "output_type": "display_data",
          "data": {
            "text/html": [
              ""
            ],
            "text/plain": [
              "<IPython.core.display.HTML object>"
            ]
          },
          "metadata": {
            "tags": []
          }
        },
        {
          "output_type": "execute_result",
          "data": {
            "text/plain": [
              "SuggestedLRs(valley=7.585775892948732e-05)"
            ]
          },
          "metadata": {
            "tags": []
          },
          "execution_count": 41
        },
        {
          "output_type": "display_data",
          "data": {
            "image/png": "[encoded data removed]",
            "text/plain": [
              "<Figure size 432x288 with 1 Axes>"
            ]
          },
          "metadata": {
            "tags": [],
            "needs_background": "light"
          }
        }
      ]
    },
    {
      "cell_type": "code",
      "metadata": {
        "colab": {
          "base_uri": "https://localhost:8080/",
          "height": 237
        },
        "id": "XRq2GaZwoEbT",
        "outputId": "c9954704-a4a6-4e6a-e57f-b78a866abf8d"
      },
      "source": [
        "# Seguimos entrenando de manera normal\n",
        "learn.fit_one_cycle(6, lr_max=7e-5)"
      ],
      "execution_count": null,
      "outputs": [
        {
          "output_type": "display_data",
          "data": {
            "text/html": [
              "<table border=\"1\" class=\"dataframe\">\n",
              "  <thead>\n",
              "    <tr style=\"text-align: left;\">\n",
              "      <th>epoch</th>\n",
              "      <th>train_loss</th>\n",
              "      <th>valid_loss</th>\n",
              "      <th>error_rate</th>\n",
              "      <th>time</th>\n",
              "    </tr>\n",
              "  </thead>\n",
              "  <tbody>\n",
              "    <tr>\n",
              "      <td>0</td>\n",
              "      <td>0.252885</td>\n",
              "      <td>0.231448</td>\n",
              "      <td>0.070365</td>\n",
              "      <td>01:17</td>\n",
              "    </tr>\n",
              "    <tr>\n",
              "      <td>1</td>\n",
              "      <td>0.276185</td>\n",
              "      <td>0.251703</td>\n",
              "      <td>0.072395</td>\n",
              "      <td>01:16</td>\n",
              "    </tr>\n",
              "    <tr>\n",
              "      <td>2</td>\n",
              "      <td>0.228403</td>\n",
              "      <td>0.233608</td>\n",
              "      <td>0.069689</td>\n",
              "      <td>01:16</td>\n",
              "    </tr>\n",
              "    <tr>\n",
              "      <td>3</td>\n",
              "      <td>0.162780</td>\n",
              "      <td>0.195193</td>\n",
              "      <td>0.058187</td>\n",
              "      <td>01:17</td>\n",
              "    </tr>\n",
              "    <tr>\n",
              "      <td>4</td>\n",
              "      <td>0.123508</td>\n",
              "      <td>0.181858</td>\n",
              "      <td>0.056157</td>\n",
              "      <td>01:16</td>\n",
              "    </tr>\n",
              "    <tr>\n",
              "      <td>5</td>\n",
              "      <td>0.111799</td>\n",
              "      <td>0.175270</td>\n",
              "      <td>0.054804</td>\n",
              "      <td>01:17</td>\n",
              "    </tr>\n",
              "  </tbody>\n",
              "</table>"
            ],
            "text/plain": [
              "<IPython.core.display.HTML object>"
            ]
          },
          "metadata": {
            "tags": []
          }
        }
      ]
    },
    {
      "cell_type": "code",
      "metadata": {
        "colab": {
          "base_uri": "https://localhost:8080/",
          "height": 265
        },
        "id": "15aL71zg3kJ3",
        "outputId": "967726da-e226-4c6d-8f06-4256c23c294e"
      },
      "source": [
        "learn.recorder.plot_loss()"
      ],
      "execution_count": null,
      "outputs": [
        {
          "output_type": "display_data",
          "data": {
            "image/png": "[encoded data removed]",
            "text/plain": [
              "<Figure size 432x288 with 1 Axes>"
            ]
          },
          "metadata": {
            "tags": [],
            "needs_background": "light"
          }
        }
      ]
    },
    {
      "cell_type": "markdown",
      "metadata": {
        "id": "FrME7LgS3VJQ"
      },
      "source": [
        "### **Discriminative Learning Rates**"
      ]
    },
    {
      "cell_type": "code",
      "metadata": {
        "colab": {
          "base_uri": "https://localhost:8080/",
          "height": 552
        },
        "id": "D0CD2hjL3eJO",
        "outputId": "42d2f34b-cf66-4490-a24e-34a53fb88c2d"
      },
      "source": [
        "learn = cnn_learner(dls, resnet34, metrics=error_rate)\n",
        "learn.fit_one_cycle(3, 3e-3)\n",
        "learn.unfreeze()\n",
        "learn.fit_one_cycle(12, lr_max=slice(7e-6,7e-4)) # en promedio da 7e-5 (el anterior que use)"
      ],
      "execution_count": null,
      "outputs": [
        {
          "output_type": "display_data",
          "data": {
            "text/html": [
              "<table border=\"1\" class=\"dataframe\">\n",
              "  <thead>\n",
              "    <tr style=\"text-align: left;\">\n",
              "      <th>epoch</th>\n",
              "      <th>train_loss</th>\n",
              "      <th>valid_loss</th>\n",
              "      <th>error_rate</th>\n",
              "      <th>time</th>\n",
              "    </tr>\n",
              "  </thead>\n",
              "  <tbody>\n",
              "    <tr>\n",
              "      <td>0</td>\n",
              "      <td>1.102594</td>\n",
              "      <td>0.294723</td>\n",
              "      <td>0.089986</td>\n",
              "      <td>01:11</td>\n",
              "    </tr>\n",
              "    <tr>\n",
              "      <td>1</td>\n",
              "      <td>0.525076</td>\n",
              "      <td>0.240873</td>\n",
              "      <td>0.078484</td>\n",
              "      <td>01:11</td>\n",
              "    </tr>\n",
              "    <tr>\n",
              "      <td>2</td>\n",
              "      <td>0.330368</td>\n",
              "      <td>0.193184</td>\n",
              "      <td>0.064276</td>\n",
              "      <td>01:12</td>\n",
              "    </tr>\n",
              "  </tbody>\n",
              "</table>"
            ],
            "text/plain": [
              "<IPython.core.display.HTML object>"
            ]
          },
          "metadata": {
            "tags": []
          }
        },
        {
          "output_type": "display_data",
          "data": {
            "text/html": [
              "<table border=\"1\" class=\"dataframe\">\n",
              "  <thead>\n",
              "    <tr style=\"text-align: left;\">\n",
              "      <th>epoch</th>\n",
              "      <th>train_loss</th>\n",
              "      <th>valid_loss</th>\n",
              "      <th>error_rate</th>\n",
              "      <th>time</th>\n",
              "    </tr>\n",
              "  </thead>\n",
              "  <tbody>\n",
              "    <tr>\n",
              "      <td>0</td>\n",
              "      <td>0.257553</td>\n",
              "      <td>0.192604</td>\n",
              "      <td>0.065629</td>\n",
              "      <td>01:18</td>\n",
              "    </tr>\n",
              "    <tr>\n",
              "      <td>1</td>\n",
              "      <td>0.246240</td>\n",
              "      <td>0.216538</td>\n",
              "      <td>0.065629</td>\n",
              "      <td>01:15</td>\n",
              "    </tr>\n",
              "    <tr>\n",
              "      <td>2</td>\n",
              "      <td>0.270239</td>\n",
              "      <td>0.260855</td>\n",
              "      <td>0.077808</td>\n",
              "      <td>01:16</td>\n",
              "    </tr>\n",
              "    <tr>\n",
              "      <td>3</td>\n",
              "      <td>0.244116</td>\n",
              "      <td>0.223683</td>\n",
              "      <td>0.068336</td>\n",
              "      <td>01:15</td>\n",
              "    </tr>\n",
              "    <tr>\n",
              "      <td>4</td>\n",
              "      <td>0.175532</td>\n",
              "      <td>0.216621</td>\n",
              "      <td>0.067659</td>\n",
              "      <td>01:17</td>\n",
              "    </tr>\n",
              "    <tr>\n",
              "      <td>5</td>\n",
              "      <td>0.141088</td>\n",
              "      <td>0.206561</td>\n",
              "      <td>0.062923</td>\n",
              "      <td>01:16</td>\n",
              "    </tr>\n",
              "    <tr>\n",
              "      <td>6</td>\n",
              "      <td>0.106554</td>\n",
              "      <td>0.204736</td>\n",
              "      <td>0.058863</td>\n",
              "      <td>01:16</td>\n",
              "    </tr>\n",
              "    <tr>\n",
              "      <td>7</td>\n",
              "      <td>0.083757</td>\n",
              "      <td>0.178477</td>\n",
              "      <td>0.050068</td>\n",
              "      <td>01:17</td>\n",
              "    </tr>\n",
              "    <tr>\n",
              "      <td>8</td>\n",
              "      <td>0.063875</td>\n",
              "      <td>0.177435</td>\n",
              "      <td>0.052097</td>\n",
              "      <td>01:17</td>\n",
              "    </tr>\n",
              "    <tr>\n",
              "      <td>9</td>\n",
              "      <td>0.056280</td>\n",
              "      <td>0.179013</td>\n",
              "      <td>0.051421</td>\n",
              "      <td>01:15</td>\n",
              "    </tr>\n",
              "    <tr>\n",
              "      <td>10</td>\n",
              "      <td>0.040078</td>\n",
              "      <td>0.169176</td>\n",
              "      <td>0.051421</td>\n",
              "      <td>01:17</td>\n",
              "    </tr>\n",
              "    <tr>\n",
              "      <td>11</td>\n",
              "      <td>0.036125</td>\n",
              "      <td>0.170789</td>\n",
              "      <td>0.048714</td>\n",
              "      <td>01:17</td>\n",
              "    </tr>\n",
              "  </tbody>\n",
              "</table>"
            ],
            "text/plain": [
              "<IPython.core.display.HTML object>"
            ]
          },
          "metadata": {
            "tags": []
          }
        }
      ]
    },
    {
      "cell_type": "code",
      "metadata": {
        "colab": {
          "base_uri": "https://localhost:8080/",
          "height": 265
        },
        "id": "E_khTpPY3h8a",
        "outputId": "8f6b48cd-9bf2-43c2-e231-0967fa6feabc"
      },
      "source": [
        "learn.recorder.plot_loss()"
      ],
      "execution_count": null,
      "outputs": [
        {
          "output_type": "display_data",
          "data": {
            "image/png": "[encoded data removed]",
            "text/plain": [
              "<Figure size 432x288 with 1 Axes>"
            ]
          },
          "metadata": {
            "tags": [],
            "needs_background": "light"
          }
        }
      ]
    },
    {
      "cell_type": "markdown",
      "metadata": {
        "id": "R_b1rV5lS35k"
      },
      "source": [
        "### **Mixed-Precision Training**"
      ]
    },
    {
      "cell_type": "code",
      "metadata": {
        "id": "q3MlyBnlS43J"
      },
      "source": [
        "from fastai.callback.fp16 import *\n",
        "learn = cnn_learner(dls, resnet50, metrics=error_rate).to_fp16()\n",
        "learn.fine_tune(6, freeze_epochs=3)"
      ],
      "execution_count": null,
      "outputs": []
    },
    {
      "cell_type": "markdown",
      "metadata": {
        "id": "Ph_PCTQpY6E0"
      },
      "source": [
        "# **Adicionales**"
      ]
    },
    {
      "cell_type": "markdown",
      "metadata": {
        "id": "hwDQxCH0BZBG"
      },
      "source": [
        "## **Regular Expresions**\n",
        "\n",
        "Fuente original: https://github.com/CoreyMSchafer/code_snippets/tree/master/Python-Regular-Expressions\n",
        "\n",
        "```\n",
        "\n",
        ".       - Any Character Except New Line\n",
        "\\d      - Digit (0-9)\n",
        "\\D      - Not a Digit (0-9)\n",
        "\\w      - Word Character (a-z, A-Z, 0-9, _)\n",
        "\\W      - Not a Word Character\n",
        "\\s      - Whitespace (space, tab, newline)\n",
        "\\S      - Not Whitespace (space, tab, newline)\n",
        "\n",
        "\\b      - Word Boundary\n",
        "\\B      - Not a Word Boundary\n",
        "^       - Beginning of a String\n",
        "$       - End of a String\n",
        "\n",
        "[]      - Matches Characters in brackets\n",
        "[^ ]    - Matches Characters NOT in brackets\n",
        "|       - Either Or\n",
        "( )     - Group\n",
        "\n",
        "Quantifiers:\n",
        "*       - 0 or More\n",
        "+       - 1 or More\n",
        "?       - 0 or One\n",
        "{3}     - Exact Number\n",
        "{3,4}   - Range of Numbers (Minimum, Maximum)\n",
        "\n",
        "\n",
        "#### Sample Regexs ####\n",
        "\n",
        "[a-zA-Z0-9_.+-]+@[a-zA-Z0-9-]+\\.[a-zA-Z0-9-.]+\n",
        "\n",
        "```\n"
      ]
    },
    {
      "cell_type": "code",
      "metadata": {
        "id": "wttDUhD_Cb2U"
      },
      "source": [
        "# Importar biblioteca\n",
        "import re"
      ],
      "execution_count": null,
      "outputs": []
    },
    {
      "cell_type": "code",
      "metadata": {
        "id": "1MKvBhhyBndK"
      },
      "source": [
        "# Algunos ejemplos\n",
        "\n",
        "archivos = '''\n",
        "images/chihuahua_98.jpg\n",
        "images/Russian_Blue_10.jpg\n",
        "images/Birman_134.jpg\n",
        "images/leonberger_9.jpg\n",
        "images/yorkshire_terrier_64.jpg\n",
        "images/great_pyrenees_182.jpg\n",
        "images/Egyptian_Mau_67.jpg\n",
        "images/British_Shorthair_174.jpg\n",
        "images/Persian_76.jpg\n",
        "images/Abyssinian_175.jpg\n",
        "'''\n",
        "\n",
        "# Esta funcion me ayudara a resolver los ejemplos\n",
        "def mostrar(patron, archivo, lista=False, grupo=0):\n",
        "  pattern = re.compile(r'{}'.format(patron))  \n",
        "  matches = pattern.finditer(archivos)\n",
        "  if lista == False:  \n",
        "    for match in matches:\n",
        "        print(match.group(grupo))\n",
        "  else:    \n",
        "    lista = [match.group(grupo) for match in matches]    \n",
        "    return lista"
      ],
      "execution_count": null,
      "outputs": []
    },
    {
      "cell_type": "code",
      "metadata": {
        "colab": {
          "base_uri": "https://localhost:8080/"
        },
        "id": "iIwue-yZEU_6",
        "outputId": "00ede20d-a95b-42f8-d45d-1adac26e0570"
      },
      "source": [
        "# 1) Buscar digitos\n",
        "patron = '\\d'\n",
        "lista = mostrar(patron, archivos, lista=True)\n",
        "print(lista)"
      ],
      "execution_count": null,
      "outputs": [
        {
          "output_type": "stream",
          "text": [
            "['9', '8', '1', '0', '1', '3', '4', '9', '6', '4', '1', '8', '2', '6', '7', '1', '7', '4', '7', '6', '1', '7', '5']\n"
          ],
          "name": "stdout"
        }
      ]
    },
    {
      "cell_type": "code",
      "metadata": {
        "colab": {
          "base_uri": "https://localhost:8080/"
        },
        "id": "Evp987JJJaFC",
        "outputId": "c5933531-2622-4c75-e9cc-c59ad8b68dee"
      },
      "source": [
        "# 2) Buscar extension\n",
        "patron = '\\.[a-z A-Z]*' # Ojo que si quiero que aparezca el punto lo tengo que poner como \\.\n",
        "lista = mostrar(patron, archivos, lista=True)\n",
        "print(lista)"
      ],
      "execution_count": null,
      "outputs": [
        {
          "output_type": "stream",
          "text": [
            "['.jpg', '.jpg', '.jpg', '.jpg', '.jpg', '.jpg', '.jpg', '.jpg', '.jpg', '.jpg']\n"
          ],
          "name": "stdout"
        }
      ]
    },
    {
      "cell_type": "code",
      "metadata": {
        "colab": {
          "base_uri": "https://localhost:8080/"
        },
        "id": "6SCIsT97KBu3",
        "outputId": "2809dc93-88b5-43e6-e0b9-b340f7549578"
      },
      "source": [
        "# 3) Buscar el nombre de la carpeta\n",
        "patron = '([a-z A-Z 0-9]*)\\/'\n",
        "lista = mostrar(patron, archivos, lista=True, grupo=1)\n",
        "print(lista)"
      ],
      "execution_count": null,
      "outputs": [
        {
          "output_type": "stream",
          "text": [
            "['images', 'images', 'images', 'images', 'images', 'images', 'images', 'images', 'images', 'images']\n"
          ],
          "name": "stdout"
        }
      ]
    },
    {
      "cell_type": "code",
      "metadata": {
        "colab": {
          "base_uri": "https://localhost:8080/"
        },
        "id": "duNXZRsZKr7h",
        "outputId": "6353fc26-a92e-4e63-a7d6-252f81e30b85"
      },
      "source": [
        "# 4) Buscar el numero de la imagen\n",
        "patron = '\\d[0-9]*'\n",
        "lista = mostrar(patron, archivos, lista=True)\n",
        "print(lista)"
      ],
      "execution_count": null,
      "outputs": [
        {
          "output_type": "stream",
          "text": [
            "['98', '10', '134', '9', '64', '182', '67', '174', '76', '175']\n"
          ],
          "name": "stdout"
        }
      ]
    },
    {
      "cell_type": "code",
      "metadata": {
        "colab": {
          "base_uri": "https://localhost:8080/"
        },
        "id": "24fWFtVqL7ev",
        "outputId": "1f99854a-4945-466a-f154-b14295439b42"
      },
      "source": [
        "# 5) Buscar el nombre de la imagen\n",
        "patron = '\\/([a-z A-Z _]*)_\\d'\n",
        "lista = mostrar(patron, archivos, lista=True, grupo=1)\n",
        "print(lista)"
      ],
      "execution_count": null,
      "outputs": [
        {
          "output_type": "stream",
          "text": [
            "['chihuahua', 'Russian_Blue', 'Birman', 'leonberger', 'yorkshire_terrier', 'great_pyrenees', 'Egyptian_Mau', 'British_Shorthair', 'Persian', 'Abyssinian']\n"
          ],
          "name": "stdout"
        }
      ]
    },
    {
      "cell_type": "markdown",
      "metadata": {
        "id": "EotlDcUyZIte"
      },
      "source": [
        "## **Clase L**\n",
        "\n",
        "Hay mas funciones, pero rescate las que encontre mas interesantes.\n",
        "\n",
        "Fuente: https://fastcore.fast.ai/foundation#L.range"
      ]
    },
    {
      "cell_type": "code",
      "metadata": {
        "id": "pdOVc89tZMgp"
      },
      "source": [
        "# Importar biblioteca\n",
        "from fastcore.utils import gt"
      ],
      "execution_count": null,
      "outputs": []
    },
    {
      "cell_type": "code",
      "metadata": {
        "colab": {
          "base_uri": "https://localhost:8080/"
        },
        "id": "FqeKhwUYZXWK",
        "outputId": "7923ab9a-b24d-4777-e396-3dca25c260f6"
      },
      "source": [
        "# Ejemplo de entrada\n",
        "## itemgot\n",
        "## map\n",
        "## filter\n",
        "\n",
        "d = dict(a=1,b=-5,d=6,e=9).items()\n",
        "L(d).itemgot(1).map(abs).filter(gt(4)).sum()"
      ],
      "execution_count": null,
      "outputs": [
        {
          "output_type": "execute_result",
          "data": {
            "text/plain": [
              "20"
            ]
          },
          "metadata": {
            "tags": []
          },
          "execution_count": 7
        }
      ]
    },
    {
      "cell_type": "code",
      "metadata": {
        "colab": {
          "base_uri": "https://localhost:8080/"
        },
        "id": "CGp0HnqzbYb0",
        "outputId": "e6b5887a-996f-4c99-dbe5-5b192a15bc82"
      },
      "source": [
        "# Filtros que regreson los elementos\n",
        "t = L({1:1, 2:2, 3:3, 4:4, 5:5, 6:6, 7:7, 8:8, 9:9, 10:10, 11:11, 12:12})\n",
        "print(t.filter(lambda o:o<5))\n",
        "print(t.filter(lambda o:o<5, negate=True))"
      ],
      "execution_count": null,
      "outputs": [
        {
          "output_type": "stream",
          "text": [
            "[1, 2, 3, 4]\n",
            "[5, 6, 7, 8, 9, 10, 11, 12]\n"
          ],
          "name": "stdout"
        }
      ]
    },
    {
      "cell_type": "code",
      "metadata": {
        "colab": {
          "base_uri": "https://localhost:8080/"
        },
        "id": "1YPWtt3_bwaz",
        "outputId": "a18159de-8292-49d9-c86a-306482941747"
      },
      "source": [
        "# Filtros que regresan los indices\n",
        "print(t.argwhere(lambda o:o<5))\n"
      ],
      "execution_count": null,
      "outputs": [
        {
          "output_type": "stream",
          "text": [
            "[0, 1, 2, 3]\n"
          ],
          "name": "stdout"
        }
      ]
    },
    {
      "cell_type": "code",
      "metadata": {
        "colab": {
          "base_uri": "https://localhost:8080/"
        },
        "id": "f2HennwNb6nL",
        "outputId": "8d416db7-b0c4-4341-cd92-da523729cdf3"
      },
      "source": [
        "# map, para hacer pasar cada elemento por una funcion\n",
        "print(L.range(4).map(operator.neg))"
      ],
      "execution_count": null,
      "outputs": [
        {
          "output_type": "stream",
          "text": [
            "[0, -1, -2, -3]\n"
          ],
          "name": "stdout"
        }
      ]
    },
    {
      "cell_type": "code",
      "metadata": {
        "colab": {
          "base_uri": "https://localhost:8080/"
        },
        "id": "Uewlqu0Xb_PC",
        "outputId": "758aed3c-fb15-4f23-ca32-003ce4d2f55e"
      },
      "source": [
        "# zip, para unir dos lista del mismo tamaño por el indice correspondiente\n",
        "t = L([[1,2,3],'abc'])\n",
        "print(t.zip())"
      ],
      "execution_count": null,
      "outputs": [
        {
          "output_type": "stream",
          "text": [
            "[(1, 'a'), (2, 'b'), (3, 'c')]\n"
          ],
          "name": "stdout"
        }
      ]
    },
    {
      "cell_type": "code",
      "metadata": {
        "colab": {
          "base_uri": "https://localhost:8080/"
        },
        "id": "riv_MJk1cGdI",
        "outputId": "5c26e615-8645-4b2d-8970-2c1496804222"
      },
      "source": [
        "# itemgot, para obtener el valor del indice indicado\n",
        "print(t.itemgot(1))"
      ],
      "execution_count": null,
      "outputs": [
        {
          "output_type": "stream",
          "text": [
            "[2, 'b']\n"
          ],
          "name": "stdout"
        }
      ]
    },
    {
      "cell_type": "code",
      "metadata": {
        "colab": {
          "base_uri": "https://localhost:8080/"
        },
        "id": "25G8fHqIcNg8",
        "outputId": "84f8577b-c61f-419b-d88d-329b619c3a7a"
      },
      "source": [
        "# sorted, al igual que en las listas sirve para ordenar los elementos\n",
        "t = L([1, 3, 4, 2, 1])\n",
        "print(L(t).sorted())"
      ],
      "execution_count": null,
      "outputs": [
        {
          "output_type": "stream",
          "text": [
            "[1, 1, 2, 3, 4]\n"
          ],
          "name": "stdout"
        }
      ]
    },
    {
      "cell_type": "code",
      "metadata": {
        "colab": {
          "base_uri": "https://localhost:8080/"
        },
        "id": "ace5hOtdcOYc",
        "outputId": "3943daf8-0e27-4606-fabb-2ac96d62c3e7"
      },
      "source": [
        "# split, para separar (por defecto separa por espacios)\n",
        "print(L.split('a b c'))"
      ],
      "execution_count": null,
      "outputs": [
        {
          "output_type": "stream",
          "text": [
            "['a', 'b', 'c']\n"
          ],
          "name": "stdout"
        }
      ]
    },
    {
      "cell_type": "code",
      "metadata": {
        "colab": {
          "base_uri": "https://localhost:8080/"
        },
        "id": "_MCciy20cUzB",
        "outputId": "2ed67482-96c4-456b-bbac-edd1427fb6c6"
      },
      "source": [
        "# concat y copy, para juntar listas y hacer copias, respectivamente\n",
        "t = L([0,1,2,3],4,L(5,6)).copy()\n",
        "print(t.concat())"
      ],
      "execution_count": null,
      "outputs": [
        {
          "output_type": "stream",
          "text": [
            "[0, 1, 2, 3, 4, 5, 6]\n"
          ],
          "name": "stdout"
        }
      ]
    },
    {
      "cell_type": "markdown",
      "metadata": {
        "id": "NidRpJhGdt_t"
      },
      "source": [
        "## **Pathlib**\n",
        "\n",
        "Fuente: https://www.youtube.com/watch?v=YwhOUyTxXVE&ab_channel=PyCharmbyJetBrains"
      ]
    },
    {
      "cell_type": "code",
      "metadata": {
        "id": "dZ5gEAHIdzfV"
      },
      "source": [
        "# importar biblioteca\n",
        "from pathlib import Path"
      ],
      "execution_count": null,
      "outputs": []
    },
    {
      "cell_type": "code",
      "metadata": {
        "colab": {
          "base_uri": "https://localhost:8080/"
        },
        "id": "UfNd0eQceHMl",
        "outputId": "dca5d8a3-ff32-4519-ac0a-ae65ab296ffb"
      },
      "source": [
        "# crear una ruta (opcion1)\n",
        "new_path = Path('.')\n",
        "print(new_path)"
      ],
      "execution_count": null,
      "outputs": [
        {
          "output_type": "stream",
          "text": [
            ".\n"
          ],
          "name": "stdout"
        }
      ]
    },
    {
      "cell_type": "code",
      "metadata": {
        "colab": {
          "base_uri": "https://localhost:8080/"
        },
        "id": "N3XxdXj4eNZm",
        "outputId": "93b176c4-714c-4b66-b887-3dded71fa96e"
      },
      "source": [
        "# crear una ruta (opcion2)\n",
        "new_file_path = new_path / 'carpeta'\n",
        "print(new_file_path)\n"
      ],
      "execution_count": null,
      "outputs": [
        {
          "output_type": "stream",
          "text": [
            "carpeta\n"
          ],
          "name": "stdout"
        }
      ]
    },
    {
      "cell_type": "code",
      "metadata": {
        "colab": {
          "base_uri": "https://localhost:8080/"
        },
        "id": "vphr1EvVe4Pl",
        "outputId": "0b32c1b5-5262-448e-ec15-4891b1fa81b9"
      },
      "source": [
        "# Esto verifica si existe la ruta\n",
        "print(new_file_path.exists())"
      ],
      "execution_count": null,
      "outputs": [
        {
          "output_type": "stream",
          "text": [
            "False\n"
          ],
          "name": "stdout"
        }
      ]
    },
    {
      "cell_type": "code",
      "metadata": {
        "colab": {
          "base_uri": "https://localhost:8080/"
        },
        "id": "aiR1nQ5tfDAq",
        "outputId": "944b4916-b15a-4334-cf80-aa7d02720564"
      },
      "source": [
        "# Nos dice que no, ahora creemos la carpeta\n",
        "new_file_path.mkdir()\n",
        "\n",
        "# Corroboremos si se creo\n",
        "print(new_file_path.exists())"
      ],
      "execution_count": null,
      "outputs": [
        {
          "output_type": "stream",
          "text": [
            "True\n"
          ],
          "name": "stdout"
        }
      ]
    },
    {
      "cell_type": "markdown",
      "metadata": {
        "id": "yuUid-IXfZ3Y"
      },
      "source": [
        "Si se esta trabajando desde Google Collab, se puede ver si se creo la carpeta a la izquierda.\n",
        "\n",
        "![imagen.png](data:image/png;base64,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)"
      ]
    },
    {
      "cell_type": "code",
      "metadata": {
        "colab": {
          "base_uri": "https://localhost:8080/"
        },
        "id": "P0T1oRBgfwI7",
        "outputId": "28eda6a5-46b4-4f8c-932a-4fa96c7b982c"
      },
      "source": [
        "# Esto nos entrega los elementos que conforman la ruta\n",
        "print(new_file_path.parts)"
      ],
      "execution_count": null,
      "outputs": [
        {
          "output_type": "stream",
          "text": [
            "('carpeta',)\n"
          ],
          "name": "stdout"
        }
      ]
    },
    {
      "cell_type": "code",
      "metadata": {
        "colab": {
          "base_uri": "https://localhost:8080/"
        },
        "id": "GCwyeSHBgNkK",
        "outputId": "e6d11e40-2d0f-4c68-c17b-6b455518ee9a"
      },
      "source": [
        "# esto es para obtener la ruta completa\n",
        "print(new_file_path.absolute())"
      ],
      "execution_count": null,
      "outputs": [
        {
          "output_type": "stream",
          "text": [
            "/content/carpeta\n"
          ],
          "name": "stdout"
        }
      ]
    },
    {
      "cell_type": "code",
      "metadata": {
        "colab": {
          "base_uri": "https://localhost:8080/"
        },
        "id": "otKRkI2sgbiX",
        "outputId": "e2dcd51b-8eff-44e6-84da-c63cc63f5d1f"
      },
      "source": [
        " # Para agregar algun nuevo elemento a la ruta\n",
        " new_file_path /= 'apuntes.txt'\n",
        " new_file_path.touch() # Con esta linea generamos el archivo\n",
        " print(new_file_path)"
      ],
      "execution_count": null,
      "outputs": [
        {
          "output_type": "stream",
          "text": [
            "carpeta/apuntes.txt\n"
          ],
          "name": "stdout"
        }
      ]
    },
    {
      "cell_type": "code",
      "metadata": {
        "colab": {
          "base_uri": "https://localhost:8080/"
        },
        "id": "7a2KRLv8g_zw",
        "outputId": "d340e427-778c-4ff9-f526-81352c6c50ce"
      },
      "source": [
        "# Si queremos realizar alguna iteracion sobre el contenido de una carpeta\n",
        "for file_name in new_file_path.parent.iterdir(): \n",
        "  if file_name.match('*.txt'):\n",
        "    print(file_name)\n",
        "\n",
        "# parent hace referencia a la carpeta que contiene a file_name\n",
        "print(new_file_path.absolute().parent)\n",
        "print(new_file_path.absolute().parent.parent)"
      ],
      "execution_count": null,
      "outputs": [
        {
          "output_type": "stream",
          "text": [
            "carpeta/apuntes.txt\n",
            "/content/carpeta\n",
            "/content\n"
          ],
          "name": "stdout"
        }
      ]
    },
    {
      "cell_type": "code",
      "metadata": {
        "colab": {
          "base_uri": "https://localhost:8080/"
        },
        "id": "f8ufV6Jwi72Z",
        "outputId": "ab7a366c-6a1f-475a-ac2a-3ba172b385af"
      },
      "source": [
        "# para eliminar archivo se utiliza unlink\n",
        "print(new_file_path)\n",
        "new_file_path.unlink()\n",
        "print(new_file_path.exists())"
      ],
      "execution_count": null,
      "outputs": [
        {
          "output_type": "stream",
          "text": [
            "carpeta/apuntes.txt\n",
            "False\n"
          ],
          "name": "stdout"
        }
      ]
    }
  ]
}