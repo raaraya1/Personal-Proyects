{
  "nbformat": 4,
  "nbformat_minor": 0,
  "metadata": {
    "colab": {
      "name": "Notas de la clase6.ipynb",
      "provenance": [],
      "collapsed_sections": [],
      "authorship_tag": "ABX9TyPWw1rWwLNTPue1NNxyJQzV",
      "include_colab_link": true
    },
    "kernelspec": {
      "name": "python3",
      "display_name": "Python 3"
    },
    "language_info": {
      "name": "python"
    }
  },
  "cells": [
    {
      "cell_type": "markdown",
      "metadata": {
        "id": "view-in-github",
        "colab_type": "text"
      },
      "source": [
        "<a href=\"https://colab.research.google.com/github/raaraya1/Personal-Proyects/blob/main/Cursos/Fastai/Notas_de_la_clase6.ipynb\" target=\"_parent\"><img src=\"https://colab.research.google.com/assets/colab-badge.svg\" alt=\"Open In Colab\"/></a>"
      ]
    },
    {
      "cell_type": "markdown",
      "metadata": {
        "id": "FKIlqMpL6cnz"
      },
      "source": [
        "# **Clase 6 - Deep Learning for Coders**"
      ]
    },
    {
      "cell_type": "markdown",
      "metadata": {
        "id": "Z0_EJNHuP18z"
      },
      "source": [
        "# **Respuestas al cuestionario**\n",
        "\n",
        "1. **¿Qué problemas resuelve el filtrado colaborativo?**\n",
        "\n",
        "En la clase se dan como ejemplos, problemas mas orientados a sistemas de recomendaciones, en las cuales son los usuarios los que colocan una calificacion sobre algun item. \n",
        "\n",
        "Para el caso del notebook, se trabaja sobre una base de datos sobre calificaciones que colocaban los usuarios a distintas peliculas que habian visto. Asi, se pretende extraer de este modelo, un sistema de recomendaciones para las personas que aun no han visto una pelicula.\n",
        "\n",
        "2. **¿Cómo lo resuelve?**\n",
        "\n",
        "La manera en como estos lo resulven es la siguiente:\n",
        "- Primero se plantea un set de factores tanto para los usuario como para los items, con los cuales se pretende dar alguna explicacion a la calificacion colocada.\n",
        "\n",
        "\n",
        "- A partir de aqui se pueden desarrollar dos modelos:\n",
        "  - El primero hace un cruce de estos factores haciendo un producto punto, luego suma un factor de sesgo (bias) y por ultimo se hace ajustar por un rango. Asi, con el metodo de SGD, cada uno de estos factores son actualizados en funcion de la perdida del modelo (MSE, por defecto).\n",
        "  - El segundo modelo hace uso de redes neuronales (dos capas ajustables en su numero de parametros). Asi, estos dos set de parametros los transforma en un tensor y los hace pasar por el modelo. Este, al igual que el resto de los modelos de redes neuronales, tambien se trabaja con un optimizador (como SGD).\n",
        "\n",
        "3. **¿Por qué un modelo predictivo de filtrado colaborativo puede no ser un sistema de recomendación muy útil?**\n",
        "\n",
        "Quizas y volviendo a alguna de las respuestas de los notebooks anteriores. Estos estan construidos bajo la hipotesis de que la gente califica o compra en base a sus gustos, lo cual ya discutimos, esto no siempre es cierto.\n",
        "\n",
        "4. **¿Qué aspecto tiene una representación de tabla de referencias cruzadas de datos de filtrado colaborativo?**\n",
        "\n",
        "La representacion cruzada tiene como referencia a los usuarios en las filas y a los items en las columnas. Asi, los valores cruzados corresponden a las calificacion que da cada usuario sobre el item seleccionado.\n",
        "\n",
        "5. **Escriba el código para crear una representación de tabla de referencias cruzadas de los datos de MovieLens (¡es posible que deba realizar una búsqueda en la web!).**\n",
        "\n",
        "Este lo deje en el notebook.\n",
        "\n",
        "6. **¿Qué es un factor latente? ¿Por qué está \"latente\"?**\n",
        "\n",
        "Corresponde a un parametro con el cual se intenta explicar la manera en que un usuario coloca cierta calificacion sobre algun item. El que sea latente o no, guarda relacion al grado de impacto que pueda tener este factor sobre la calificacion del item.\n",
        "\n",
        "7. **¿Qué es un producto escalar? Calcule un producto escalar manualmente usando Python puro con listas.**\n",
        "\n",
        "Un producto escalar es la suma de la multiplicacion de los elementos de cada vector (respetando las posiciones)\n",
        "\n",
        "```python\n",
        "# definamos dos vectores\n",
        "lista1 = [1, 2, 3, 4, 5, 6]\n",
        "lista2 = [2, 4, 6, 8, 10, 12]\n",
        "\n",
        "# el producto escalar vendria a ser lo siguiente\n",
        "lista3 = []\n",
        "for i in range(len(lista1)):\n",
        "  lista3.append(lista1[i] * lista2[i])\n",
        "\n",
        "producto_escalar = sum(lista3)\n",
        "print(producto_escalar)\n",
        ">> 182\n",
        "```\n",
        "\n",
        "8. **¿Qué hace `pandas.DataFrame.merge`?**\n",
        "\n",
        "El metodo `merge` junta dos `DataFrames` mirando alguna columna en comun.\n",
        "\n",
        "9. **¿A que se refiere con Embedding Matrix?**\n",
        "\n",
        "Me parece que se esta refiriendo al producto entre vectores tipo one-hot encoding con las matrices que contienen los factores latentes y cuyas filas se encuentran ordenadas por un indice. (Para el caso del notebook, se utilizan dos de estas matrices, la primera hace referencia a los factores latentes de los usuarios y la segunda hace referencia a los factores latentes de las peliculas) \n",
        "\n",
        "10. **¿Cuál es la relación entre un Embedding y una matriz de vectores tipo one-hot encoding?**\n",
        "\n",
        "En el cuaderno nos explican que la operacion de un Embedding es equivalente a realizar una multiplicacion matricial entre la matriz de factores (transpuesta) por el vector de one-hot enconding (vector lleno de ceros a excepcion del indice que indiquemos)\n",
        "\n",
        "\n",
        "11. **¿Por qué necesitamos hacer un Embedding si podemos usar vectores tipo one-hot encoding para lo mismo?**\n",
        "\n",
        "La razon principal es que este metodo necesita ocupar mas espacio de memoria para almacenar los vectores de one-hot encoding.\n",
        "\n",
        "12. **¿Qué contiene un Embedding antes de que comencemos a entrenar (asumiendo que no estamos usando un modelo pre entrenado)?**\n",
        "\n",
        "Contiene un numero de parametros igual al numero de factores latentes que especifiquemos para los usuarios y los items. Ademas, y dado que estamos trabajando con la biblioteca de Pytorch, debemos utilizar el metodo `nn.Parameter` para que asi el modelo luego sea capaz de actualizarlos con el proceso de SGD.\n",
        "\n",
        "\n",
        "13. **Cree una clase (¡sin mirar a escondidas, si es posible!) Y úsela.**\n",
        "\n",
        "```python\n",
        "# Definiendo una clase de ejemplo\n",
        "class registro():\n",
        "  def __init__(self, historial={}):\n",
        "    self.historial = historial\n",
        "    self.cant_registros = len(self.historial)\n",
        "\n",
        "  def sumar_registro(self, nombre, apellido, telefono):\n",
        "    self.cant_registros += 1\n",
        "    self.historial[self.cant_registros] = [nombre, apellido, telefono]    \n",
        "\n",
        "  def mostrar_registros(self):\n",
        "    print(self.historial)\n",
        "\n",
        "# Ejemplo de usos\n",
        "contactos = registro(historial={})\n",
        "\n",
        "# Agreguemos registros\n",
        "contactos.sumar_registro('Rodrigo', 'Araya', '9 66627482')\n",
        "contactos.sumar_registro('Diego', 'Araya', '9 66627482')\n",
        "\n",
        "# Mostramos los registros\n",
        "contactos.mostrar_registros()\n",
        ">> {1: ['Rodrigo', 'Araya', '9 66627482'], 2: ['Diego', 'Araya', '9 66627482']}\n",
        "```\n",
        "\n",
        "14. **¿Qué devuelve `x [:, 0]`?**\n",
        "\n",
        "Mas abajo lo dejo mas claro (voy siguiendo el proceso paso a paso), pero en forma resumida el x va a contener 3 valores (usuario, item, calificacion). Asi, `x[:, 0]` esta tomando todos los id de usuarios del batch (de 64 por defecto).\n",
        "\n",
        "15. **Vuelva a escribir la clase `DotProduct` (¡sin mirar, si es posible!) Y entrene un modelo con ella.**\n",
        "\n",
        "```python\n",
        "# importar bibliotecas\n",
        "!pip install -Uqq fastbook\n",
        "import fastbook\n",
        "from fastbook import *\n",
        "from fastai.collab import *\n",
        "from fastai.tabular.all import *\n",
        "\n",
        "# resumen de los preparativos\n",
        "path = untar_data(URLs.ML_100k)\n",
        "ratings = pd.read_csv(path/'u.data', delimiter='\\t', header=None,\n",
        "                      names=['user','movie','rating','timestamp'])\n",
        "movies = pd.read_csv(path/'u.item',  delimiter='|', encoding='latin-1',\n",
        "                     usecols=(0,1), names=('movie','title'), header=None)\n",
        "ratings = ratings.merge(movies)\n",
        "dls = CollabDataLoaders.from_df(ratings, item_name='title', bs=64)\n",
        "\n",
        "# ahora creamos la clase del producto punto\n",
        "class producto_punto(Module):\n",
        "  def __init__(self, cant_usuarios, cant_items, fact_usuario, fact_items):\n",
        "    self.emb_usuario = Embedding(cant_usuarios, fact_usuario)\n",
        "    self.emb_item = Embedding(cant_items, fact_items)\n",
        "    self.emb_bias_usuario = Embedding(cant_usuarios, 1)\n",
        "    self.emb_bias_item = Embedding(cant_items, 1)\n",
        "\n",
        "  def forward(self, x):\n",
        "    user_fact = self.emb_usuario(x[:, 0])\n",
        "    item_fact = self.emb_item(x[:, 1])\n",
        "    res = (user_fact*item_fact).sum(dim=1, keepdim=True)\n",
        "    res += self.emb_bias_usuario(x[:, 0]) + self.emb_bias_item(x[:, 1])\n",
        "    res = sigmoid_range(res, 0, 5.5)\n",
        "    return res \n",
        "\n",
        "# veamos un batch\n",
        "x, y = dls.one_batch()\n",
        "print(x.shape)\n",
        ">> torch.Size([64, 2])\n",
        "\n",
        "# ahora llamemos a la clase\n",
        "## parametros\n",
        "cant_usuarios = len(dls.classes['user'])\n",
        "cant_items = len(dls.classes['title'])\n",
        "fact_usuario = 5 # utilicemos la misma cantidad de factores\n",
        "fact_items = 5\n",
        "funcion = producto_punto(cant_usuarios, cant_items, fact_usuario, fact_items)\n",
        "\n",
        "# Ahora hagamos pasar el batch por la funcion\n",
        "salida = funcion.forward(x)\n",
        "print(salida.shape)\n",
        ">> torch.Size([64, 1])\n",
        "\n",
        "# Ahora entrenemos utilizando esta funcion\n",
        "funcion = producto_punto(cant_usuarios, cant_items, fact_usuario, fact_items)\n",
        "learn = Learner(dls, funcion, loss_func=MSELossFlat())\n",
        "learn.fit_one_cycle(5, 5e-3)\n",
        "```\n",
        "\n",
        "16. **¿Cuál es una buena función de pérdida para utilizar con MovieLens? ¿Por qué?**\n",
        "\n",
        "Una buena funcion de perdida que podemos utilizar para este modelo, es la MSE (promedio de los valores al cuadrado) o la L2 (promedio de los valores absolutos). Y la razon de porque utilizarlas, se debe principalmente a que estamos trabajando con valores continuos (como en una regresion).\n",
        "\n",
        "17. **¿Qué pasaría si usáramos la pérdida de entropía cruzada con MovieLens? ¿Cómo necesitaríamos cambiar el modelo?**\n",
        "\n",
        "No estoy seguro si con esto bastará, pero creo que el principal cambio que deberiamos hacer se encontraria en la salida. Ya que tenemos que cambiar el tensor de tamaño 1, por uno que se ajuste a las categorias de clasificacion 1 - 2 - 3 - 4 - 5, para este caso. \n",
        "\n",
        "18. **¿Cuál es el uso del sesgo en un modelo de producto escalar?**\n",
        "\n",
        "Este se utiliza como un parametro suelto para indicar la tendencia de un usuario a calificar positiva o negativamente cualquier pelicula en general. Del mismo modo, se añade otro parametro suelto en las peliculas, el cual tambien puede capturar esa tendencia a que la pelicula sea bien recibida o mal recibida en general. Asi, este parametro adicional es caracteristico de cada usuario y de cada item, y lo que busca es capturar todo aquello que no logran explicar los factores latentes.\n",
        "\n",
        "19. **¿Cuál es otro nombre para weight decay?**\n",
        "\n",
        "L2 Regularization.\n",
        "\n",
        "20. **Escribe la ecuación para la disminución del peso (¡sin mirar!).**\n",
        "\n",
        "Sea $p_{i}$: los parametros del modelo (los pesos)\n",
        "\n",
        "Entonces:\n",
        "\\begin{equation}\n",
        "Loss_{new} = Loss_{old} + wd*\\sum_{i} p_{i}^2\n",
        "\\end{equation}\n",
        "\n",
        "21. **Escribe la ecuación para el gradiente del weight decay. ¿Por qué ayuda a reducir el peso?**\n",
        "\n",
        "\\begin{equation}\n",
        "Grad(Loss_{new}) = Grad(Loss_{old}) + 2*wd*p_{i}\n",
        "\\end{equation}\n",
        "\n",
        "Esto creo que queda mas claro en la ecuacion anterior. Y sucede que si el objetivo es siempre lograr obtener la menor perdida (Loss) posible, es que nos interesara hacer al termino $wd*\\sum_{i} p_{i}^2$ lo mas cercano a cero (nota: wb > 0). En consecuencia, esto se traduce en trabajar con parametros p_{i} cercanos a cero.\n",
        "\n",
        "22. **¿Por qué weight decay conduce a una mejor generalización?**\n",
        "\n",
        "En este caso, lo que esta haciendo el weight decay es reducir el espacio factible que puede utilizar cada uno de los parametros.\n",
        "\n",
        "23. **¿Qué hace `argsort` en PyTorch?**\n",
        "\n",
        "El metodo argsort regresa los indices de un tensor, de forma, que sus valores esten ordenados de manera ascendente.\n",
        "\n",
        "```python\n",
        "lista = [1, 3, 4, 2, 5]\n",
        "tensor = torch.Tensor(lista)\n",
        "print(tensor)\n",
        ">> tensor([1., 3., 4., 2., 5.])\n",
        "print(torch.argsort(tensor))\n",
        ">> tensor([0, 3, 1, 2, 4])\n",
        "```\n",
        "\n",
        "24. **¿La clasificación de los sesgos de películas da el mismo resultado que el promedio de calificaciones de películas por película? ¿Por qué por qué no?**\n",
        "\n",
        "No lo creo y por una sencilla razon. El promedio de la clasificacion de una pelicula se obtiene de los datos reales, con lo cual, este valor es fijo y no variara en el tiempo. Por el contrario, el sesgo o bias para las pelicualas, son parametros que se van modificando en cada iteracion del modelo.\n",
        "\n",
        "25. **¿Cómo imprime los nombres y detalles de las capas en un \n",
        "modelo?**\n",
        "\n",
        "Solo face falta hacer un print en la funcion del modelo.\n",
        "\n",
        "26. **¿Cuál es el \"problema de bootstrapping \" en el filtrado colaborativo?**\n",
        "\n",
        "En el texto, se menciona este problema cuando intentamos generar recomenciones de peliculas a un usuario nuevo en la plataforma. Sucede que al ser un usuario nuevo, no tenemos idea de sus gustos o que tipo de peliculas a visto en el pasado.\n",
        "\n",
        "27. **¿Cómo podría lidiar con el problema del bootstrapping para los nuevos usuarios? ¿Para nuevas películas?**\n",
        "\n",
        "En le caso de los nuevos usuarios, se podria hacer que en el registro de la plataforma, se le solicite al usuario un minimo de informacion para asi generar las recomendaciones. Luego, ha medida que este usario se vaya interiorizando con la plataforma y vaya genrarndo sus clasificaciones, es que se podra utilizar un sistema de recomendacion como el visto en esta clase.\n",
        "\n",
        "28. **¿Cómo pueden los feedback loops impactar los sistemas de filtrado colaborativo?**\n",
        "\n",
        "En la clase se da a entender que si, por ejemplo, a un grupo de usuarios les gusta una mismo genero de peliculas y estos a su vez tienen la tendencia a reseñar un mayor numero de veces y con buenas reseñas a este tipo de genero, lo mas probable es que en el sistema se genere un feedback loop con tendencia a este tipo de genero, ya que, aparentemente es a lo que la mayoria le gusta.\n",
        "\n",
        "29. **Al usar una red neuronal en el filtrado colaborativo, ¿por qué podemos tener diferentes números de factores para películas y usuarios?**\n",
        "\n",
        "La razon es muy sencilla, y es que para hacer el producto punto es necesario contar con dos vectores con la misma cantidad de parametros. Para el caso de las redes neuronales no, ya que estos dos vectores son concatenados en uno y luego se hace pasar por la red.\n",
        "\n",
        "30. **¿Por qué hay un `nn.Sequential` en el modelo` CollabNN`?**\n",
        "\n",
        "Esto es porque el modelo `CollabNN` utiliza uan red neuronal como el metodo por el cual actualizar los valores de los factores latentes. Asi, el `nn.Sequential` determina el recorrido de como estos factores son introducidos y transformados en el tensor de salida. (contiene la cantidad de neuronas en cada capa y las funciones de activacion entre estas)\n",
        "\n",
        "31. **¿Qué tipo de modelo deberíamos usar si queremos agregar metadatos sobre usuarios y elementos, o información como fecha y hora, a un modelo de filtrado colaborativo?**\n",
        "\n",
        "Creo que lo mas facil seria utilizar el modelo `CollabNN` y extender el tensor de entrada, concatenando todo aquello nuevo que queremos agregar al modelo."
      ]
    },
    {
      "cell_type": "markdown",
      "metadata": {
        "id": "cferAvJRP6Ar"
      },
      "source": [
        "# **Collaborative filtering deep dive**"
      ]
    },
    {
      "cell_type": "markdown",
      "metadata": {
        "id": "t_gX9zdqQWar"
      },
      "source": [
        "## **Preparativos**"
      ]
    },
    {
      "cell_type": "code",
      "metadata": {
        "colab": {
          "base_uri": "https://localhost:8080/",
          "height": 150
        },
        "id": "dAd0vehrPwES",
        "outputId": "05d7e45f-1434-4bc8-9720-b6a60a84d956"
      },
      "source": [
        "# importar bibliotecas\n",
        "!pip install -Uqq fastbook\n",
        "import fastbook\n",
        "from fastbook import *\n",
        "from fastai.collab import *\n",
        "from fastai.tabular.all import *\n",
        "path = untar_data(URLs.ML_100k)"
      ],
      "execution_count": null,
      "outputs": [
        {
          "output_type": "stream",
          "text": [
            "\u001b[K     |████████████████████████████████| 720 kB 5.0 MB/s \n",
            "\u001b[K     |████████████████████████████████| 186 kB 35.7 MB/s \n",
            "\u001b[K     |████████████████████████████████| 46 kB 4.1 MB/s \n",
            "\u001b[K     |████████████████████████████████| 1.2 MB 41.7 MB/s \n",
            "\u001b[K     |████████████████████████████████| 56 kB 3.7 MB/s \n",
            "\u001b[K     |████████████████████████████████| 51 kB 280 kB/s \n",
            "\u001b[?25h"
          ],
          "name": "stdout"
        },
        {
          "output_type": "display_data",
          "data": {
            "text/html": [
              "\n",
              "    <div>\n",
              "        <style>\n",
              "            /* Turns off some styling */\n",
              "            progress {\n",
              "                /* gets rid of default border in Firefox and Opera. */\n",
              "                border: none;\n",
              "                /* Needs to be in here for Safari polyfill so background images work as expected. */\n",
              "                background-size: auto;\n",
              "            }\n",
              "            .progress-bar-interrupted, .progress-bar-interrupted::-webkit-progress-bar {\n",
              "                background: #F44336;\n",
              "            }\n",
              "        </style>\n",
              "      <progress value='4931584' class='' max='4924029' style='width:300px; height:20px; vertical-align: middle;'></progress>\n",
              "      100.15% [4931584/4924029 00:02<00:00]\n",
              "    </div>\n",
              "    "
            ],
            "text/plain": [
              "<IPython.core.display.HTML object>"
            ]
          },
          "metadata": {}
        }
      ]
    },
    {
      "cell_type": "code",
      "metadata": {
        "colab": {
          "base_uri": "https://localhost:8080/",
          "height": 771
        },
        "id": "DURtwYwxskQG",
        "outputId": "a4c1a3c9-edf8-4ff9-8020-fa1c22da6199"
      },
      "source": [
        "# contenido de la carpeta\n",
        "lista = list(path.ls())\n",
        "lista = [i.name for i in lista]\n",
        "df = pd.DataFrame(lista, columns=['Archivos'])\n",
        "df\n"
      ],
      "execution_count": null,
      "outputs": [
        {
          "output_type": "execute_result",
          "data": {
            "text/html": [
              "<div>\n",
              "<style scoped>\n",
              "    .dataframe tbody tr th:only-of-type {\n",
              "        vertical-align: middle;\n",
              "    }\n",
              "\n",
              "    .dataframe tbody tr th {\n",
              "        vertical-align: top;\n",
              "    }\n",
              "\n",
              "    .dataframe thead th {\n",
              "        text-align: right;\n",
              "    }\n",
              "</style>\n",
              "<table border=\"1\" class=\"dataframe\">\n",
              "  <thead>\n",
              "    <tr style=\"text-align: right;\">\n",
              "      <th></th>\n",
              "      <th>Archivos</th>\n",
              "    </tr>\n",
              "  </thead>\n",
              "  <tbody>\n",
              "    <tr>\n",
              "      <th>0</th>\n",
              "      <td>ub.test</td>\n",
              "    </tr>\n",
              "    <tr>\n",
              "      <th>1</th>\n",
              "      <td>ua.base</td>\n",
              "    </tr>\n",
              "    <tr>\n",
              "      <th>2</th>\n",
              "      <td>u.info</td>\n",
              "    </tr>\n",
              "    <tr>\n",
              "      <th>3</th>\n",
              "      <td>u.user</td>\n",
              "    </tr>\n",
              "    <tr>\n",
              "      <th>4</th>\n",
              "      <td>u.item</td>\n",
              "    </tr>\n",
              "    <tr>\n",
              "      <th>5</th>\n",
              "      <td>u4.base</td>\n",
              "    </tr>\n",
              "    <tr>\n",
              "      <th>6</th>\n",
              "      <td>allbut.pl</td>\n",
              "    </tr>\n",
              "    <tr>\n",
              "      <th>7</th>\n",
              "      <td>ua.test</td>\n",
              "    </tr>\n",
              "    <tr>\n",
              "      <th>8</th>\n",
              "      <td>u.genre</td>\n",
              "    </tr>\n",
              "    <tr>\n",
              "      <th>9</th>\n",
              "      <td>u2.base</td>\n",
              "    </tr>\n",
              "    <tr>\n",
              "      <th>10</th>\n",
              "      <td>u.occupation</td>\n",
              "    </tr>\n",
              "    <tr>\n",
              "      <th>11</th>\n",
              "      <td>u3.test</td>\n",
              "    </tr>\n",
              "    <tr>\n",
              "      <th>12</th>\n",
              "      <td>u5.base</td>\n",
              "    </tr>\n",
              "    <tr>\n",
              "      <th>13</th>\n",
              "      <td>mku.sh</td>\n",
              "    </tr>\n",
              "    <tr>\n",
              "      <th>14</th>\n",
              "      <td>ub.base</td>\n",
              "    </tr>\n",
              "    <tr>\n",
              "      <th>15</th>\n",
              "      <td>u1.test</td>\n",
              "    </tr>\n",
              "    <tr>\n",
              "      <th>16</th>\n",
              "      <td>u2.test</td>\n",
              "    </tr>\n",
              "    <tr>\n",
              "      <th>17</th>\n",
              "      <td>u4.test</td>\n",
              "    </tr>\n",
              "    <tr>\n",
              "      <th>18</th>\n",
              "      <td>u1.base</td>\n",
              "    </tr>\n",
              "    <tr>\n",
              "      <th>19</th>\n",
              "      <td>u3.base</td>\n",
              "    </tr>\n",
              "    <tr>\n",
              "      <th>20</th>\n",
              "      <td>u5.test</td>\n",
              "    </tr>\n",
              "    <tr>\n",
              "      <th>21</th>\n",
              "      <td>u.data</td>\n",
              "    </tr>\n",
              "    <tr>\n",
              "      <th>22</th>\n",
              "      <td>README</td>\n",
              "    </tr>\n",
              "  </tbody>\n",
              "</table>\n",
              "</div>"
            ],
            "text/plain": [
              "        Archivos\n",
              "0        ub.test\n",
              "1        ua.base\n",
              "2         u.info\n",
              "3         u.user\n",
              "4         u.item\n",
              "5        u4.base\n",
              "6      allbut.pl\n",
              "7        ua.test\n",
              "8        u.genre\n",
              "9        u2.base\n",
              "10  u.occupation\n",
              "11       u3.test\n",
              "12       u5.base\n",
              "13        mku.sh\n",
              "14       ub.base\n",
              "15       u1.test\n",
              "16       u2.test\n",
              "17       u4.test\n",
              "18       u1.base\n",
              "19       u3.base\n",
              "20       u5.test\n",
              "21        u.data\n",
              "22        README"
            ]
          },
          "metadata": {},
          "execution_count": 2
        }
      ]
    },
    {
      "cell_type": "code",
      "metadata": {
        "colab": {
          "base_uri": "https://localhost:8080/",
          "height": 206
        },
        "id": "RMcjjSxPQeNf",
        "outputId": "aabe76b2-31cf-4695-8aaf-b8a94642993d"
      },
      "source": [
        "# En u.data se encuentran los datos para el modelo\n",
        "ratings = pd.read_csv(path/'u.data', delimiter='\\t', header=None,\n",
        "                      names=['user','movie','rating','timestamp'])\n",
        "ratings.head()\n"
      ],
      "execution_count": null,
      "outputs": [
        {
          "output_type": "execute_result",
          "data": {
            "text/html": [
              "<div>\n",
              "<style scoped>\n",
              "    .dataframe tbody tr th:only-of-type {\n",
              "        vertical-align: middle;\n",
              "    }\n",
              "\n",
              "    .dataframe tbody tr th {\n",
              "        vertical-align: top;\n",
              "    }\n",
              "\n",
              "    .dataframe thead th {\n",
              "        text-align: right;\n",
              "    }\n",
              "</style>\n",
              "<table border=\"1\" class=\"dataframe\">\n",
              "  <thead>\n",
              "    <tr style=\"text-align: right;\">\n",
              "      <th></th>\n",
              "      <th>user</th>\n",
              "      <th>movie</th>\n",
              "      <th>rating</th>\n",
              "      <th>timestamp</th>\n",
              "    </tr>\n",
              "  </thead>\n",
              "  <tbody>\n",
              "    <tr>\n",
              "      <th>0</th>\n",
              "      <td>196</td>\n",
              "      <td>242</td>\n",
              "      <td>3</td>\n",
              "      <td>881250949</td>\n",
              "    </tr>\n",
              "    <tr>\n",
              "      <th>1</th>\n",
              "      <td>186</td>\n",
              "      <td>302</td>\n",
              "      <td>3</td>\n",
              "      <td>891717742</td>\n",
              "    </tr>\n",
              "    <tr>\n",
              "      <th>2</th>\n",
              "      <td>22</td>\n",
              "      <td>377</td>\n",
              "      <td>1</td>\n",
              "      <td>878887116</td>\n",
              "    </tr>\n",
              "    <tr>\n",
              "      <th>3</th>\n",
              "      <td>244</td>\n",
              "      <td>51</td>\n",
              "      <td>2</td>\n",
              "      <td>880606923</td>\n",
              "    </tr>\n",
              "    <tr>\n",
              "      <th>4</th>\n",
              "      <td>166</td>\n",
              "      <td>346</td>\n",
              "      <td>1</td>\n",
              "      <td>886397596</td>\n",
              "    </tr>\n",
              "  </tbody>\n",
              "</table>\n",
              "</div>"
            ],
            "text/plain": [
              "   user  movie  rating  timestamp\n",
              "0   196    242       3  881250949\n",
              "1   186    302       3  891717742\n",
              "2    22    377       1  878887116\n",
              "3   244     51       2  880606923\n",
              "4   166    346       1  886397596"
            ]
          },
          "metadata": {},
          "execution_count": 3
        }
      ]
    },
    {
      "cell_type": "code",
      "metadata": {
        "colab": {
          "base_uri": "https://localhost:8080/",
          "height": 206
        },
        "id": "DO_Mu-dHwN2-",
        "outputId": "a9067f7f-0110-4f1d-80b3-d9b5c227c203"
      },
      "source": [
        "# Asi vienen los datos\n",
        "with open(path/'u.item', encoding='latin-1') as f:\n",
        "  contenido = []\n",
        "  for line in f:\n",
        "    contenido.append(line)\n",
        "df = pd.DataFrame(contenido)\n",
        "df.head()"
      ],
      "execution_count": null,
      "outputs": [
        {
          "output_type": "execute_result",
          "data": {
            "text/html": [
              "<div>\n",
              "<style scoped>\n",
              "    .dataframe tbody tr th:only-of-type {\n",
              "        vertical-align: middle;\n",
              "    }\n",
              "\n",
              "    .dataframe tbody tr th {\n",
              "        vertical-align: top;\n",
              "    }\n",
              "\n",
              "    .dataframe thead th {\n",
              "        text-align: right;\n",
              "    }\n",
              "</style>\n",
              "<table border=\"1\" class=\"dataframe\">\n",
              "  <thead>\n",
              "    <tr style=\"text-align: right;\">\n",
              "      <th></th>\n",
              "      <th>0</th>\n",
              "    </tr>\n",
              "  </thead>\n",
              "  <tbody>\n",
              "    <tr>\n",
              "      <th>0</th>\n",
              "      <td>1|Toy Story (1995)|01-Jan-1995||http://us.imdb.com/M/title-exact?Toy%20Story%20(1995)|0|0|0|1|1|1|0|0|0|0|0|0|0|0|0|0|0|0|0\\n</td>\n",
              "    </tr>\n",
              "    <tr>\n",
              "      <th>1</th>\n",
              "      <td>2|GoldenEye (1995)|01-Jan-1995||http://us.imdb.com/M/title-exact?GoldenEye%20(1995)|0|1|1|0|0|0|0|0|0|0|0|0|0|0|0|0|1|0|0\\n</td>\n",
              "    </tr>\n",
              "    <tr>\n",
              "      <th>2</th>\n",
              "      <td>3|Four Rooms (1995)|01-Jan-1995||http://us.imdb.com/M/title-exact?Four%20Rooms%20(1995)|0|0|0|0|0|0|0|0|0|0|0|0|0|0|0|0|1|0|0\\n</td>\n",
              "    </tr>\n",
              "    <tr>\n",
              "      <th>3</th>\n",
              "      <td>4|Get Shorty (1995)|01-Jan-1995||http://us.imdb.com/M/title-exact?Get%20Shorty%20(1995)|0|1|0|0|0|1|0|0|1|0|0|0|0|0|0|0|0|0|0\\n</td>\n",
              "    </tr>\n",
              "    <tr>\n",
              "      <th>4</th>\n",
              "      <td>5|Copycat (1995)|01-Jan-1995||http://us.imdb.com/M/title-exact?Copycat%20(1995)|0|0|0|0|0|0|1|0|1|0|0|0|0|0|0|0|1|0|0\\n</td>\n",
              "    </tr>\n",
              "  </tbody>\n",
              "</table>\n",
              "</div>"
            ],
            "text/plain": [
              "                                                                                                                                 0\n",
              "0    1|Toy Story (1995)|01-Jan-1995||http://us.imdb.com/M/title-exact?Toy%20Story%20(1995)|0|0|0|1|1|1|0|0|0|0|0|0|0|0|0|0|0|0|0\\n\n",
              "1      2|GoldenEye (1995)|01-Jan-1995||http://us.imdb.com/M/title-exact?GoldenEye%20(1995)|0|1|1|0|0|0|0|0|0|0|0|0|0|0|0|0|1|0|0\\n\n",
              "2  3|Four Rooms (1995)|01-Jan-1995||http://us.imdb.com/M/title-exact?Four%20Rooms%20(1995)|0|0|0|0|0|0|0|0|0|0|0|0|0|0|0|0|1|0|0\\n\n",
              "3  4|Get Shorty (1995)|01-Jan-1995||http://us.imdb.com/M/title-exact?Get%20Shorty%20(1995)|0|1|0|0|0|1|0|0|1|0|0|0|0|0|0|0|0|0|0\\n\n",
              "4          5|Copycat (1995)|01-Jan-1995||http://us.imdb.com/M/title-exact?Copycat%20(1995)|0|0|0|0|0|0|1|0|1|0|0|0|0|0|0|0|1|0|0\\n"
            ]
          },
          "metadata": {},
          "execution_count": 4
        }
      ]
    },
    {
      "cell_type": "code",
      "metadata": {
        "colab": {
          "base_uri": "https://localhost:8080/",
          "height": 206
        },
        "id": "iIXXwnxFQphN",
        "outputId": "8b54e00c-740b-443c-fa3b-e2892c3a8b3a"
      },
      "source": [
        "# Aqui notamos que este archivo contiene mas informacion de la que nos interesa\n",
        "# Adamas podemos notar que la separacion de la informacion viene dada por el delimitador |\n",
        "# Todo esto lo podemos corregir con las siguientes lineas de codigo\n",
        "movies = pd.read_csv(path/'u.item',  delimiter='|', encoding='latin-1',\n",
        "                     usecols=(0,1), names=('movie','title'), header=None)\n",
        "movies.head()"
      ],
      "execution_count": null,
      "outputs": [
        {
          "output_type": "execute_result",
          "data": {
            "text/html": [
              "<div>\n",
              "<style scoped>\n",
              "    .dataframe tbody tr th:only-of-type {\n",
              "        vertical-align: middle;\n",
              "    }\n",
              "\n",
              "    .dataframe tbody tr th {\n",
              "        vertical-align: top;\n",
              "    }\n",
              "\n",
              "    .dataframe thead th {\n",
              "        text-align: right;\n",
              "    }\n",
              "</style>\n",
              "<table border=\"1\" class=\"dataframe\">\n",
              "  <thead>\n",
              "    <tr style=\"text-align: right;\">\n",
              "      <th></th>\n",
              "      <th>movie</th>\n",
              "      <th>title</th>\n",
              "    </tr>\n",
              "  </thead>\n",
              "  <tbody>\n",
              "    <tr>\n",
              "      <th>0</th>\n",
              "      <td>1</td>\n",
              "      <td>Toy Story (1995)</td>\n",
              "    </tr>\n",
              "    <tr>\n",
              "      <th>1</th>\n",
              "      <td>2</td>\n",
              "      <td>GoldenEye (1995)</td>\n",
              "    </tr>\n",
              "    <tr>\n",
              "      <th>2</th>\n",
              "      <td>3</td>\n",
              "      <td>Four Rooms (1995)</td>\n",
              "    </tr>\n",
              "    <tr>\n",
              "      <th>3</th>\n",
              "      <td>4</td>\n",
              "      <td>Get Shorty (1995)</td>\n",
              "    </tr>\n",
              "    <tr>\n",
              "      <th>4</th>\n",
              "      <td>5</td>\n",
              "      <td>Copycat (1995)</td>\n",
              "    </tr>\n",
              "  </tbody>\n",
              "</table>\n",
              "</div>"
            ],
            "text/plain": [
              "   movie              title\n",
              "0      1   Toy Story (1995)\n",
              "1      2   GoldenEye (1995)\n",
              "2      3  Four Rooms (1995)\n",
              "3      4  Get Shorty (1995)\n",
              "4      5     Copycat (1995)"
            ]
          },
          "metadata": {},
          "execution_count": 5
        }
      ]
    },
    {
      "cell_type": "code",
      "metadata": {
        "colab": {
          "base_uri": "https://localhost:8080/",
          "height": 206
        },
        "id": "YDI3gULmQxbf",
        "outputId": "92a7b7dc-a548-4cd6-8671-dddb81ad600f"
      },
      "source": [
        "# El metodo merge no lo conocia, pero sirve para unir dos dataframes con alguna llave\n",
        "# que tengan en comun (para este caso se utiliza la llave 'movie')\n",
        "ratings = ratings.merge(movies)\n",
        "ratings.head()"
      ],
      "execution_count": null,
      "outputs": [
        {
          "output_type": "execute_result",
          "data": {
            "text/html": [
              "<div>\n",
              "<style scoped>\n",
              "    .dataframe tbody tr th:only-of-type {\n",
              "        vertical-align: middle;\n",
              "    }\n",
              "\n",
              "    .dataframe tbody tr th {\n",
              "        vertical-align: top;\n",
              "    }\n",
              "\n",
              "    .dataframe thead th {\n",
              "        text-align: right;\n",
              "    }\n",
              "</style>\n",
              "<table border=\"1\" class=\"dataframe\">\n",
              "  <thead>\n",
              "    <tr style=\"text-align: right;\">\n",
              "      <th></th>\n",
              "      <th>user</th>\n",
              "      <th>movie</th>\n",
              "      <th>rating</th>\n",
              "      <th>timestamp</th>\n",
              "      <th>title</th>\n",
              "    </tr>\n",
              "  </thead>\n",
              "  <tbody>\n",
              "    <tr>\n",
              "      <th>0</th>\n",
              "      <td>196</td>\n",
              "      <td>242</td>\n",
              "      <td>3</td>\n",
              "      <td>881250949</td>\n",
              "      <td>Kolya (1996)</td>\n",
              "    </tr>\n",
              "    <tr>\n",
              "      <th>1</th>\n",
              "      <td>63</td>\n",
              "      <td>242</td>\n",
              "      <td>3</td>\n",
              "      <td>875747190</td>\n",
              "      <td>Kolya (1996)</td>\n",
              "    </tr>\n",
              "    <tr>\n",
              "      <th>2</th>\n",
              "      <td>226</td>\n",
              "      <td>242</td>\n",
              "      <td>5</td>\n",
              "      <td>883888671</td>\n",
              "      <td>Kolya (1996)</td>\n",
              "    </tr>\n",
              "    <tr>\n",
              "      <th>3</th>\n",
              "      <td>154</td>\n",
              "      <td>242</td>\n",
              "      <td>3</td>\n",
              "      <td>879138235</td>\n",
              "      <td>Kolya (1996)</td>\n",
              "    </tr>\n",
              "    <tr>\n",
              "      <th>4</th>\n",
              "      <td>306</td>\n",
              "      <td>242</td>\n",
              "      <td>5</td>\n",
              "      <td>876503793</td>\n",
              "      <td>Kolya (1996)</td>\n",
              "    </tr>\n",
              "  </tbody>\n",
              "</table>\n",
              "</div>"
            ],
            "text/plain": [
              "   user  movie  rating  timestamp         title\n",
              "0   196    242       3  881250949  Kolya (1996)\n",
              "1    63    242       3  875747190  Kolya (1996)\n",
              "2   226    242       5  883888671  Kolya (1996)\n",
              "3   154    242       3  879138235  Kolya (1996)\n",
              "4   306    242       5  876503793  Kolya (1996)"
            ]
          },
          "metadata": {},
          "execution_count": 6
        }
      ]
    },
    {
      "cell_type": "code",
      "metadata": {
        "colab": {
          "base_uri": "https://localhost:8080/",
          "height": 168
        },
        "id": "7tyCCOqO0Uy0",
        "outputId": "932c481c-f519-4118-f444-19f479b89348"
      },
      "source": [
        "doc(CollabDataLoaders.from_df)"
      ],
      "execution_count": null,
      "outputs": [
        {
          "output_type": "display_data",
          "data": {
            "text/html": [
              "<h4 id=\"CollabDataLoaders.from_df\" class=\"doc_header\"><code>CollabDataLoaders.from_df</code><a href=\"https://github.com/fastai/fastai/tree/master/fastai/collab.py#L16\" class=\"source_link\" style=\"float:right\">[source]</a></h4><blockquote><p><code>CollabDataLoaders.from_df</code>(<strong><code>ratings</code></strong>, <strong><code>valid_pct</code></strong>=<em><code>0.2</code></em>, <strong><code>user_name</code></strong>=<em><code>None</code></em>, <strong><code>item_name</code></strong>=<em><code>None</code></em>, <strong><code>rating_name</code></strong>=<em><code>None</code></em>, <strong><code>seed</code></strong>=<em><code>None</code></em>, <strong><code>path</code></strong>=<em><code>'.'</code></em>, <strong><code>bs</code></strong>=<em><code>64</code></em>, <strong><code>val_bs</code></strong>=<em><code>None</code></em>, <strong><code>shuffle</code></strong>=<em><code>True</code></em>, <strong><code>device</code></strong>=<em><code>None</code></em>)</p>\n",
              "</blockquote>\n",
              "<p>Create a <code>DataLoaders</code> suitable for collaborative filtering from <code>ratings</code>.</p>\n",
              "<p><a href=\"https://docs.fast.ai/collab#CollabDataLoaders.from_df\" target=\"_blank\" rel=\"noreferrer noopener\">Show in docs</a></p>\n"
            ],
            "text/plain": [
              "<IPython.core.display.HTML object>"
            ]
          },
          "metadata": {}
        }
      ]
    },
    {
      "cell_type": "code",
      "metadata": {
        "colab": {
          "base_uri": "https://localhost:8080/",
          "height": 363
        },
        "id": "c1yMs9yOQ0TG",
        "outputId": "9276ef9d-a484-4196-d993-afd58d92b275"
      },
      "source": [
        "# Para trabajar estos este tipo de datos, Fastai ya tiene preparado un metodo especial.\n",
        "# Este es CollabDataLoaders, el cual si cargamos los datos desde un df, debemos especificar\n",
        "# 3 valores (user_name, item_name, rating_name) \n",
        "dls = CollabDataLoaders.from_df(ratings, item_name='title', bs=64)\n",
        "dls.show_batch()"
      ],
      "execution_count": null,
      "outputs": [
        {
          "output_type": "display_data",
          "data": {
            "text/html": [
              "<table border=\"1\" class=\"dataframe\">\n",
              "  <thead>\n",
              "    <tr style=\"text-align: right;\">\n",
              "      <th></th>\n",
              "      <th>user</th>\n",
              "      <th>title</th>\n",
              "      <th>rating</th>\n",
              "    </tr>\n",
              "  </thead>\n",
              "  <tbody>\n",
              "    <tr>\n",
              "      <th>0</th>\n",
              "      <td>542</td>\n",
              "      <td>My Left Foot (1989)</td>\n",
              "      <td>4</td>\n",
              "    </tr>\n",
              "    <tr>\n",
              "      <th>1</th>\n",
              "      <td>422</td>\n",
              "      <td>Event Horizon (1997)</td>\n",
              "      <td>3</td>\n",
              "    </tr>\n",
              "    <tr>\n",
              "      <th>2</th>\n",
              "      <td>311</td>\n",
              "      <td>African Queen, The (1951)</td>\n",
              "      <td>4</td>\n",
              "    </tr>\n",
              "    <tr>\n",
              "      <th>3</th>\n",
              "      <td>595</td>\n",
              "      <td>Face/Off (1997)</td>\n",
              "      <td>4</td>\n",
              "    </tr>\n",
              "    <tr>\n",
              "      <th>4</th>\n",
              "      <td>617</td>\n",
              "      <td>Evil Dead II (1987)</td>\n",
              "      <td>1</td>\n",
              "    </tr>\n",
              "    <tr>\n",
              "      <th>5</th>\n",
              "      <td>158</td>\n",
              "      <td>Jurassic Park (1993)</td>\n",
              "      <td>5</td>\n",
              "    </tr>\n",
              "    <tr>\n",
              "      <th>6</th>\n",
              "      <td>836</td>\n",
              "      <td>Chasing Amy (1997)</td>\n",
              "      <td>3</td>\n",
              "    </tr>\n",
              "    <tr>\n",
              "      <th>7</th>\n",
              "      <td>474</td>\n",
              "      <td>Emma (1996)</td>\n",
              "      <td>3</td>\n",
              "    </tr>\n",
              "    <tr>\n",
              "      <th>8</th>\n",
              "      <td>466</td>\n",
              "      <td>Jackie Chan's First Strike (1996)</td>\n",
              "      <td>3</td>\n",
              "    </tr>\n",
              "    <tr>\n",
              "      <th>9</th>\n",
              "      <td>554</td>\n",
              "      <td>Scream (1996)</td>\n",
              "      <td>3</td>\n",
              "    </tr>\n",
              "  </tbody>\n",
              "</table>"
            ],
            "text/plain": [
              "<IPython.core.display.HTML object>"
            ]
          },
          "metadata": {}
        }
      ]
    },
    {
      "cell_type": "code",
      "metadata": {
        "colab": {
          "base_uri": "https://localhost:8080/",
          "height": 520
        },
        "id": "UPWAHjSU91a0",
        "outputId": "6aab695d-2fe0-4cf3-df74-25179d7c2cc8"
      },
      "source": [
        "# Esta parte es para hacer la representacion que se pide en la pregunta 5\n",
        "## Se me ocurre hacer algo parecido a la forma en que en la clase4 se represento una \n",
        "## imagen en escala de grises usando un df.\n",
        "\n",
        "# Primero tengo que armar un tensor de dimension 3 (usuario, pelicula, puntuacion)\n",
        "datos = ratings[['user', 'movie', 'rating']]\n",
        "cant_user = len(set(datos['user']))\n",
        "cant_movies = len(set(datos['movie']))\n",
        "lista = datos.to_numpy()\n",
        "\n",
        "# Voy a crear un vector vacio y llenarlo con los datos ordenados\n",
        "tensor = torch.zeros([944, 1683])\n",
        "for ind in range(len(lista)):\n",
        "  tensor[lista[ind][0], lista[ind][1]] = lista[ind][2]\n",
        "\n",
        "df = pd.DataFrame(tensor[0:15,0:15])\n",
        "df"
      ],
      "execution_count": null,
      "outputs": [
        {
          "output_type": "execute_result",
          "data": {
            "text/html": [
              "<div>\n",
              "<style scoped>\n",
              "    .dataframe tbody tr th:only-of-type {\n",
              "        vertical-align: middle;\n",
              "    }\n",
              "\n",
              "    .dataframe tbody tr th {\n",
              "        vertical-align: top;\n",
              "    }\n",
              "\n",
              "    .dataframe thead th {\n",
              "        text-align: right;\n",
              "    }\n",
              "</style>\n",
              "<table border=\"1\" class=\"dataframe\">\n",
              "  <thead>\n",
              "    <tr style=\"text-align: right;\">\n",
              "      <th></th>\n",
              "      <th>0</th>\n",
              "      <th>1</th>\n",
              "      <th>2</th>\n",
              "      <th>3</th>\n",
              "      <th>4</th>\n",
              "      <th>5</th>\n",
              "      <th>6</th>\n",
              "      <th>7</th>\n",
              "      <th>8</th>\n",
              "      <th>9</th>\n",
              "      <th>10</th>\n",
              "      <th>11</th>\n",
              "      <th>12</th>\n",
              "      <th>13</th>\n",
              "      <th>14</th>\n",
              "    </tr>\n",
              "  </thead>\n",
              "  <tbody>\n",
              "    <tr>\n",
              "      <th>0</th>\n",
              "      <td>0.0</td>\n",
              "      <td>0.0</td>\n",
              "      <td>0.0</td>\n",
              "      <td>0.0</td>\n",
              "      <td>0.0</td>\n",
              "      <td>0.0</td>\n",
              "      <td>0.0</td>\n",
              "      <td>0.0</td>\n",
              "      <td>0.0</td>\n",
              "      <td>0.0</td>\n",
              "      <td>0.0</td>\n",
              "      <td>0.0</td>\n",
              "      <td>0.0</td>\n",
              "      <td>0.0</td>\n",
              "      <td>0.0</td>\n",
              "    </tr>\n",
              "    <tr>\n",
              "      <th>1</th>\n",
              "      <td>0.0</td>\n",
              "      <td>5.0</td>\n",
              "      <td>3.0</td>\n",
              "      <td>4.0</td>\n",
              "      <td>3.0</td>\n",
              "      <td>3.0</td>\n",
              "      <td>5.0</td>\n",
              "      <td>4.0</td>\n",
              "      <td>1.0</td>\n",
              "      <td>5.0</td>\n",
              "      <td>3.0</td>\n",
              "      <td>2.0</td>\n",
              "      <td>5.0</td>\n",
              "      <td>5.0</td>\n",
              "      <td>5.0</td>\n",
              "    </tr>\n",
              "    <tr>\n",
              "      <th>2</th>\n",
              "      <td>0.0</td>\n",
              "      <td>4.0</td>\n",
              "      <td>0.0</td>\n",
              "      <td>0.0</td>\n",
              "      <td>0.0</td>\n",
              "      <td>0.0</td>\n",
              "      <td>0.0</td>\n",
              "      <td>0.0</td>\n",
              "      <td>0.0</td>\n",
              "      <td>0.0</td>\n",
              "      <td>2.0</td>\n",
              "      <td>0.0</td>\n",
              "      <td>0.0</td>\n",
              "      <td>4.0</td>\n",
              "      <td>4.0</td>\n",
              "    </tr>\n",
              "    <tr>\n",
              "      <th>3</th>\n",
              "      <td>0.0</td>\n",
              "      <td>0.0</td>\n",
              "      <td>0.0</td>\n",
              "      <td>0.0</td>\n",
              "      <td>0.0</td>\n",
              "      <td>0.0</td>\n",
              "      <td>0.0</td>\n",
              "      <td>0.0</td>\n",
              "      <td>0.0</td>\n",
              "      <td>0.0</td>\n",
              "      <td>0.0</td>\n",
              "      <td>0.0</td>\n",
              "      <td>0.0</td>\n",
              "      <td>0.0</td>\n",
              "      <td>0.0</td>\n",
              "    </tr>\n",
              "    <tr>\n",
              "      <th>4</th>\n",
              "      <td>0.0</td>\n",
              "      <td>0.0</td>\n",
              "      <td>0.0</td>\n",
              "      <td>0.0</td>\n",
              "      <td>0.0</td>\n",
              "      <td>0.0</td>\n",
              "      <td>0.0</td>\n",
              "      <td>0.0</td>\n",
              "      <td>0.0</td>\n",
              "      <td>0.0</td>\n",
              "      <td>0.0</td>\n",
              "      <td>4.0</td>\n",
              "      <td>0.0</td>\n",
              "      <td>0.0</td>\n",
              "      <td>0.0</td>\n",
              "    </tr>\n",
              "    <tr>\n",
              "      <th>5</th>\n",
              "      <td>0.0</td>\n",
              "      <td>4.0</td>\n",
              "      <td>3.0</td>\n",
              "      <td>0.0</td>\n",
              "      <td>0.0</td>\n",
              "      <td>0.0</td>\n",
              "      <td>0.0</td>\n",
              "      <td>0.0</td>\n",
              "      <td>0.0</td>\n",
              "      <td>0.0</td>\n",
              "      <td>0.0</td>\n",
              "      <td>0.0</td>\n",
              "      <td>0.0</td>\n",
              "      <td>0.0</td>\n",
              "      <td>0.0</td>\n",
              "    </tr>\n",
              "    <tr>\n",
              "      <th>6</th>\n",
              "      <td>0.0</td>\n",
              "      <td>4.0</td>\n",
              "      <td>0.0</td>\n",
              "      <td>0.0</td>\n",
              "      <td>0.0</td>\n",
              "      <td>0.0</td>\n",
              "      <td>0.0</td>\n",
              "      <td>2.0</td>\n",
              "      <td>4.0</td>\n",
              "      <td>4.0</td>\n",
              "      <td>0.0</td>\n",
              "      <td>0.0</td>\n",
              "      <td>4.0</td>\n",
              "      <td>2.0</td>\n",
              "      <td>5.0</td>\n",
              "    </tr>\n",
              "    <tr>\n",
              "      <th>7</th>\n",
              "      <td>0.0</td>\n",
              "      <td>0.0</td>\n",
              "      <td>0.0</td>\n",
              "      <td>0.0</td>\n",
              "      <td>5.0</td>\n",
              "      <td>0.0</td>\n",
              "      <td>0.0</td>\n",
              "      <td>5.0</td>\n",
              "      <td>5.0</td>\n",
              "      <td>5.0</td>\n",
              "      <td>4.0</td>\n",
              "      <td>3.0</td>\n",
              "      <td>5.0</td>\n",
              "      <td>0.0</td>\n",
              "      <td>0.0</td>\n",
              "    </tr>\n",
              "    <tr>\n",
              "      <th>8</th>\n",
              "      <td>0.0</td>\n",
              "      <td>0.0</td>\n",
              "      <td>0.0</td>\n",
              "      <td>0.0</td>\n",
              "      <td>0.0</td>\n",
              "      <td>0.0</td>\n",
              "      <td>0.0</td>\n",
              "      <td>3.0</td>\n",
              "      <td>0.0</td>\n",
              "      <td>0.0</td>\n",
              "      <td>0.0</td>\n",
              "      <td>3.0</td>\n",
              "      <td>0.0</td>\n",
              "      <td>0.0</td>\n",
              "      <td>0.0</td>\n",
              "    </tr>\n",
              "    <tr>\n",
              "      <th>9</th>\n",
              "      <td>0.0</td>\n",
              "      <td>0.0</td>\n",
              "      <td>0.0</td>\n",
              "      <td>0.0</td>\n",
              "      <td>0.0</td>\n",
              "      <td>0.0</td>\n",
              "      <td>5.0</td>\n",
              "      <td>4.0</td>\n",
              "      <td>0.0</td>\n",
              "      <td>0.0</td>\n",
              "      <td>0.0</td>\n",
              "      <td>0.0</td>\n",
              "      <td>0.0</td>\n",
              "      <td>0.0</td>\n",
              "      <td>0.0</td>\n",
              "    </tr>\n",
              "    <tr>\n",
              "      <th>10</th>\n",
              "      <td>0.0</td>\n",
              "      <td>4.0</td>\n",
              "      <td>0.0</td>\n",
              "      <td>0.0</td>\n",
              "      <td>4.0</td>\n",
              "      <td>0.0</td>\n",
              "      <td>0.0</td>\n",
              "      <td>4.0</td>\n",
              "      <td>0.0</td>\n",
              "      <td>4.0</td>\n",
              "      <td>0.0</td>\n",
              "      <td>4.0</td>\n",
              "      <td>5.0</td>\n",
              "      <td>3.0</td>\n",
              "      <td>0.0</td>\n",
              "    </tr>\n",
              "    <tr>\n",
              "      <th>11</th>\n",
              "      <td>0.0</td>\n",
              "      <td>0.0</td>\n",
              "      <td>0.0</td>\n",
              "      <td>0.0</td>\n",
              "      <td>0.0</td>\n",
              "      <td>0.0</td>\n",
              "      <td>0.0</td>\n",
              "      <td>0.0</td>\n",
              "      <td>4.0</td>\n",
              "      <td>5.0</td>\n",
              "      <td>0.0</td>\n",
              "      <td>2.0</td>\n",
              "      <td>2.0</td>\n",
              "      <td>0.0</td>\n",
              "      <td>0.0</td>\n",
              "    </tr>\n",
              "    <tr>\n",
              "      <th>12</th>\n",
              "      <td>0.0</td>\n",
              "      <td>0.0</td>\n",
              "      <td>0.0</td>\n",
              "      <td>0.0</td>\n",
              "      <td>5.0</td>\n",
              "      <td>0.0</td>\n",
              "      <td>0.0</td>\n",
              "      <td>0.0</td>\n",
              "      <td>0.0</td>\n",
              "      <td>0.0</td>\n",
              "      <td>0.0</td>\n",
              "      <td>0.0</td>\n",
              "      <td>0.0</td>\n",
              "      <td>0.0</td>\n",
              "      <td>0.0</td>\n",
              "    </tr>\n",
              "    <tr>\n",
              "      <th>13</th>\n",
              "      <td>0.0</td>\n",
              "      <td>3.0</td>\n",
              "      <td>3.0</td>\n",
              "      <td>0.0</td>\n",
              "      <td>5.0</td>\n",
              "      <td>1.0</td>\n",
              "      <td>0.0</td>\n",
              "      <td>2.0</td>\n",
              "      <td>4.0</td>\n",
              "      <td>3.0</td>\n",
              "      <td>0.0</td>\n",
              "      <td>1.0</td>\n",
              "      <td>5.0</td>\n",
              "      <td>5.0</td>\n",
              "      <td>4.0</td>\n",
              "    </tr>\n",
              "    <tr>\n",
              "      <th>14</th>\n",
              "      <td>0.0</td>\n",
              "      <td>0.0</td>\n",
              "      <td>0.0</td>\n",
              "      <td>0.0</td>\n",
              "      <td>0.0</td>\n",
              "      <td>0.0</td>\n",
              "      <td>0.0</td>\n",
              "      <td>5.0</td>\n",
              "      <td>0.0</td>\n",
              "      <td>4.0</td>\n",
              "      <td>0.0</td>\n",
              "      <td>0.0</td>\n",
              "      <td>5.0</td>\n",
              "      <td>4.0</td>\n",
              "      <td>3.0</td>\n",
              "    </tr>\n",
              "  </tbody>\n",
              "</table>\n",
              "</div>"
            ],
            "text/plain": [
              "     0    1    2    3    4    5    6    7    8    9    10   11   12   13   14\n",
              "0   0.0  0.0  0.0  0.0  0.0  0.0  0.0  0.0  0.0  0.0  0.0  0.0  0.0  0.0  0.0\n",
              "1   0.0  5.0  3.0  4.0  3.0  3.0  5.0  4.0  1.0  5.0  3.0  2.0  5.0  5.0  5.0\n",
              "2   0.0  4.0  0.0  0.0  0.0  0.0  0.0  0.0  0.0  0.0  2.0  0.0  0.0  4.0  4.0\n",
              "3   0.0  0.0  0.0  0.0  0.0  0.0  0.0  0.0  0.0  0.0  0.0  0.0  0.0  0.0  0.0\n",
              "4   0.0  0.0  0.0  0.0  0.0  0.0  0.0  0.0  0.0  0.0  0.0  4.0  0.0  0.0  0.0\n",
              "5   0.0  4.0  3.0  0.0  0.0  0.0  0.0  0.0  0.0  0.0  0.0  0.0  0.0  0.0  0.0\n",
              "6   0.0  4.0  0.0  0.0  0.0  0.0  0.0  2.0  4.0  4.0  0.0  0.0  4.0  2.0  5.0\n",
              "7   0.0  0.0  0.0  0.0  5.0  0.0  0.0  5.0  5.0  5.0  4.0  3.0  5.0  0.0  0.0\n",
              "8   0.0  0.0  0.0  0.0  0.0  0.0  0.0  3.0  0.0  0.0  0.0  3.0  0.0  0.0  0.0\n",
              "9   0.0  0.0  0.0  0.0  0.0  0.0  5.0  4.0  0.0  0.0  0.0  0.0  0.0  0.0  0.0\n",
              "10  0.0  4.0  0.0  0.0  4.0  0.0  0.0  4.0  0.0  4.0  0.0  4.0  5.0  3.0  0.0\n",
              "11  0.0  0.0  0.0  0.0  0.0  0.0  0.0  0.0  4.0  5.0  0.0  2.0  2.0  0.0  0.0\n",
              "12  0.0  0.0  0.0  0.0  5.0  0.0  0.0  0.0  0.0  0.0  0.0  0.0  0.0  0.0  0.0\n",
              "13  0.0  3.0  3.0  0.0  5.0  1.0  0.0  2.0  4.0  3.0  0.0  1.0  5.0  5.0  4.0\n",
              "14  0.0  0.0  0.0  0.0  0.0  0.0  0.0  5.0  0.0  4.0  0.0  0.0  5.0  4.0  3.0"
            ]
          },
          "metadata": {},
          "execution_count": 9
        }
      ]
    },
    {
      "cell_type": "code",
      "metadata": {
        "id": "9YXtn5g9Q4vX"
      },
      "source": [
        "# Ahora continuamos con la clase y lo que sigue es generar dos tensores (una para \n",
        "# usuario y otro para pelicula), donde cada uno de estos se le asignan factores latentes\n",
        "## Para este caso se utilizan 5 factores latentes y e asignan de manera aleatoria\n",
        "n_users  = len(dls.classes['user'])\n",
        "n_movies = len(dls.classes['title'])\n",
        "n_factors = 5\n",
        "\n",
        "user_factors = torch.randn(n_users, n_factors)\n",
        "movie_factors = torch.randn(n_movies, n_factors)"
      ],
      "execution_count": null,
      "outputs": []
    },
    {
      "cell_type": "markdown",
      "metadata": {
        "id": "yKcBUXBIQ7nA"
      },
      "source": [
        "### **Embeding**\n",
        "\n",
        "El embeding no es otra cosa que la funcion 'look up', la cual sirve para buscar un valor por algun indice que demos por entrada. Lo distinto en este caso es que se utiliza un one-hot encoding y multiplicacion matricial para la obtencion de los valores buscados."
      ]
    },
    {
      "cell_type": "code",
      "metadata": {
        "id": "4ozshsqRRBZ9",
        "colab": {
          "base_uri": "https://localhost:8080/"
        },
        "outputId": "0d7413a0-54b8-4bd0-8e2b-356d3dc2d48e"
      },
      "source": [
        "# Por ejemplo\n",
        "## si buscaramos los factores latentes del usuario con id=3\n",
        "## Tendriamos que hacer un one_hot encoding con 3, es decir un tensor de tamaño\n",
        "## igual al numero de usuarios, en el cual la posicion 3 tiene un 1 y el resto de las \n",
        "## posiciones tienen ceros. \n",
        "one_hot_3 = one_hot(3, n_users).float()\n",
        "print(one_hot_3.shape)\n",
        "one_hot_3[:10]\n"
      ],
      "execution_count": null,
      "outputs": [
        {
          "output_type": "stream",
          "text": [
            "torch.Size([944])\n"
          ],
          "name": "stdout"
        },
        {
          "output_type": "execute_result",
          "data": {
            "text/plain": [
              "tensor([0., 0., 0., 1., 0., 0., 0., 0., 0., 0.])"
            ]
          },
          "metadata": {},
          "execution_count": 11
        }
      ]
    },
    {
      "cell_type": "code",
      "metadata": {
        "colab": {
          "base_uri": "https://localhost:8080/"
        },
        "id": "RyeNVaiWRFT0",
        "outputId": "d82ecff9-2f10-42fc-b3f9-74919022af1d"
      },
      "source": [
        "# veamos primero las dimensiones\n",
        "print(user_factors.shape)\n",
        "print(user_factors.t().shape)\n",
        "\n",
        "# Con esto notamos que la multiplicacion matricial que sigue es de \n",
        "# [5, 945] x [945] = [5]\n",
        "res = user_factors.t() @ one_hot_3\n",
        "print(res)\n",
        "print(res.shape)\n"
      ],
      "execution_count": null,
      "outputs": [
        {
          "output_type": "stream",
          "text": [
            "torch.Size([944, 5])\n",
            "torch.Size([5, 944])\n",
            "tensor([-0.4586, -0.9915, -0.4052, -0.3621, -0.5908])\n",
            "torch.Size([5])\n"
          ],
          "name": "stdout"
        }
      ]
    },
    {
      "cell_type": "code",
      "metadata": {
        "colab": {
          "base_uri": "https://localhost:8080/"
        },
        "id": "-QILAFPQRG4c",
        "outputId": "ba361901-7758-426b-d012-89bbcb5c65a0"
      },
      "source": [
        "# Ahora veamos si es correcto el resultado\n",
        "# Para esto debemos buscar los factores latentes del usuario con indice 3\n",
        "user_factors[3]"
      ],
      "execution_count": null,
      "outputs": [
        {
          "output_type": "execute_result",
          "data": {
            "text/plain": [
              "tensor([-0.4586, -0.9915, -0.4052, -0.3621, -0.5908])"
            ]
          },
          "metadata": {},
          "execution_count": 13
        }
      ]
    },
    {
      "cell_type": "code",
      "metadata": {
        "colab": {
          "base_uri": "https://localhost:8080/"
        },
        "id": "aU7fl2O_u838",
        "outputId": "35b88f1e-6e30-43f6-ba7f-3fb8414db4eb"
      },
      "source": [
        "# Aqui por ejemplo voy a generar un batch, el cual luego estaria entrando al modelo\n",
        "# Voy a aprovechar de mostrar como funciona la funcion Embedding\n",
        "user_factors = Embedding(n_users, n_factors)\n",
        "x, y = dls.one_batch()\n",
        "print(x[:,0])"
      ],
      "execution_count": null,
      "outputs": [
        {
          "output_type": "stream",
          "text": [
            "tensor([661, 861, 766,  13, 429, 488, 675, 271, 677, 301, 874, 593, 814, 897, 635, 567, 399, 649, 309, 378, 104, 197, 886,  78, 480, 457, 815, 840, 804, 627, 102, 904, 301, 561, 301, 439, 171, 730,\n",
            "        239, 454, 871, 653, 116, 189, 524, 280, 122, 477,  59, 882, 896, 896, 222, 184, 174, 653, 244,  90, 292, 183, 931, 550, 137,  10])\n"
          ],
          "name": "stdout"
        }
      ]
    },
    {
      "cell_type": "code",
      "metadata": {
        "colab": {
          "base_uri": "https://localhost:8080/"
        },
        "id": "-n0BVEmUplow",
        "outputId": "f730c964-183c-409c-8acf-f0b7a502b7d8"
      },
      "source": [
        "# aqui consulto por una posicion en especifico\n",
        "z = torch.Tensor([472]).int()\n",
        "print(z)\n",
        "\n",
        "# Este es el resultado de buscar especificamente por el indice\n",
        "users = user_factors(z)\n",
        "print(users)\n",
        "\n",
        "# En esta parte estoy consultado por el primer indice del batch (el cual calza ser 472)\n",
        "users = user_factors(x[0, 0])\n",
        "print(users)"
      ],
      "execution_count": null,
      "outputs": [
        {
          "output_type": "stream",
          "text": [
            "tensor([472], dtype=torch.int32)\n",
            "tensor([[-0.0038,  0.0113,  0.0034, -0.0067, -0.0018]], grad_fn=<EmbeddingBackward>)\n",
            "tensor([ 0.0084, -0.0097, -0.0009,  0.0029,  0.0080], grad_fn=<EmbeddingBackward>)\n"
          ],
          "name": "stdout"
        }
      ]
    },
    {
      "cell_type": "markdown",
      "metadata": {
        "id": "KHO2lzj_YaqS"
      },
      "source": [
        "## **Collaborating filtering desde cero**"
      ]
    },
    {
      "cell_type": "code",
      "metadata": {
        "id": "QlDB7EDNYaMY"
      },
      "source": [
        "# Siguiendo un poco la logica de arriba, podemos crear la siguiente clase\n",
        "class DotProduct(Module):\n",
        "    def __init__(self, n_users, n_movies, n_factors):\n",
        "        self.user_factors = Embedding(n_users, n_factors)\n",
        "        self.movie_factors = Embedding(n_movies, n_factors)\n",
        "        \n",
        "    def forward(self, x):\n",
        "        users = self.user_factors(x[:,0])\n",
        "        movies = self.movie_factors(x[:,1])\n",
        "        return (users * movies).sum(dim=1)"
      ],
      "execution_count": null,
      "outputs": []
    },
    {
      "cell_type": "code",
      "metadata": {
        "id": "YZ4EPb2sYrAA"
      },
      "source": [
        "# Cargamos los parametros al modelo y generamos el metodo de aprendizaje\n",
        "# Utilizamos como funcion de perdida la MSE, ya que principalmente estamos trabajando sobre\n",
        "# valore continuos\n",
        "model = DotProduct(n_users, n_movies, 50)\n",
        "learn = Learner(dls, model, loss_func=MSELossFlat())"
      ],
      "execution_count": null,
      "outputs": []
    },
    {
      "cell_type": "code",
      "metadata": {
        "colab": {
          "base_uri": "https://localhost:8080/",
          "height": 206
        },
        "id": "tMDrgeHeYtEO",
        "outputId": "a9f587d7-d741-4374-d504-75a4aa89c1af"
      },
      "source": [
        "# Empezamos el entrenamiento\n",
        "learn.fit_one_cycle(5, 5e-3)"
      ],
      "execution_count": null,
      "outputs": [
        {
          "output_type": "display_data",
          "data": {
            "text/html": [
              "<table border=\"1\" class=\"dataframe\">\n",
              "  <thead>\n",
              "    <tr style=\"text-align: left;\">\n",
              "      <th>epoch</th>\n",
              "      <th>train_loss</th>\n",
              "      <th>valid_loss</th>\n",
              "      <th>time</th>\n",
              "    </tr>\n",
              "  </thead>\n",
              "  <tbody>\n",
              "    <tr>\n",
              "      <td>0</td>\n",
              "      <td>1.327531</td>\n",
              "      <td>1.312012</td>\n",
              "      <td>00:08</td>\n",
              "    </tr>\n",
              "    <tr>\n",
              "      <td>1</td>\n",
              "      <td>1.059078</td>\n",
              "      <td>1.108475</td>\n",
              "      <td>00:08</td>\n",
              "    </tr>\n",
              "    <tr>\n",
              "      <td>2</td>\n",
              "      <td>0.968709</td>\n",
              "      <td>0.984471</td>\n",
              "      <td>00:08</td>\n",
              "    </tr>\n",
              "    <tr>\n",
              "      <td>3</td>\n",
              "      <td>0.873064</td>\n",
              "      <td>0.893918</td>\n",
              "      <td>00:08</td>\n",
              "    </tr>\n",
              "    <tr>\n",
              "      <td>4</td>\n",
              "      <td>0.777111</td>\n",
              "      <td>0.881089</td>\n",
              "      <td>00:08</td>\n",
              "    </tr>\n",
              "  </tbody>\n",
              "</table>"
            ],
            "text/plain": [
              "<IPython.core.display.HTML object>"
            ]
          },
          "metadata": {}
        }
      ]
    },
    {
      "cell_type": "code",
      "metadata": {
        "id": "HZUoUuIIYwJt"
      },
      "source": [
        "# Todavia podemos mejorar los resultados de arriba.\n",
        "## Lo que vamos a hacer ahora es limitar el rango de la salida a valores\n",
        "## entre 0 y 5.5 (dado que el ranking se genera en base a una escala de 0 a 5)\n",
        "## De esta manera se sigue todo igual, pero al final se agrega una sigmoide\n",
        "## para limitar el rango de la salida (en el cuadarno anterior se explica en mayor\n",
        "## detalle como se hace esto)\n",
        "class DotProduct(Module):\n",
        "    def __init__(self, n_users, n_movies, n_factors, y_range=(0,5.5)):\n",
        "        self.user_factors = Embedding(n_users, n_factors)\n",
        "        self.movie_factors = Embedding(n_movies, n_factors)\n",
        "        self.y_range = y_range\n",
        "        \n",
        "    def forward(self, x):\n",
        "        users = self.user_factors(x[:,0])\n",
        "        movies = self.movie_factors(x[:,1])\n",
        "        return sigmoid_range((users * movies).sum(dim=1), *self.y_range)"
      ],
      "execution_count": null,
      "outputs": []
    },
    {
      "cell_type": "code",
      "metadata": {
        "colab": {
          "base_uri": "https://localhost:8080/",
          "height": 206
        },
        "id": "zmP1bvtlYyaL",
        "outputId": "c2a88044-eebf-4ef0-8cd5-5fffcf676a16"
      },
      "source": [
        "# Volvemos a entrenar y a observar los resultados\n",
        "model = DotProduct(n_users, n_movies, 50)\n",
        "learn = Learner(dls, model, loss_func=MSELossFlat())\n",
        "learn.fit_one_cycle(5, 5e-3)"
      ],
      "execution_count": null,
      "outputs": [
        {
          "output_type": "display_data",
          "data": {
            "text/html": [
              "<table border=\"1\" class=\"dataframe\">\n",
              "  <thead>\n",
              "    <tr style=\"text-align: left;\">\n",
              "      <th>epoch</th>\n",
              "      <th>train_loss</th>\n",
              "      <th>valid_loss</th>\n",
              "      <th>time</th>\n",
              "    </tr>\n",
              "  </thead>\n",
              "  <tbody>\n",
              "    <tr>\n",
              "      <td>0</td>\n",
              "      <td>0.977554</td>\n",
              "      <td>0.984534</td>\n",
              "      <td>00:08</td>\n",
              "    </tr>\n",
              "    <tr>\n",
              "      <td>1</td>\n",
              "      <td>0.867117</td>\n",
              "      <td>0.918871</td>\n",
              "      <td>00:08</td>\n",
              "    </tr>\n",
              "    <tr>\n",
              "      <td>2</td>\n",
              "      <td>0.695463</td>\n",
              "      <td>0.878067</td>\n",
              "      <td>00:08</td>\n",
              "    </tr>\n",
              "    <tr>\n",
              "      <td>3</td>\n",
              "      <td>0.469045</td>\n",
              "      <td>0.881740</td>\n",
              "      <td>00:08</td>\n",
              "    </tr>\n",
              "    <tr>\n",
              "      <td>4</td>\n",
              "      <td>0.364114</td>\n",
              "      <td>0.886125</td>\n",
              "      <td>00:08</td>\n",
              "    </tr>\n",
              "  </tbody>\n",
              "</table>"
            ],
            "text/plain": [
              "<IPython.core.display.HTML object>"
            ]
          },
          "metadata": {}
        }
      ]
    },
    {
      "cell_type": "code",
      "metadata": {
        "id": "MXNSwmklY3-H"
      },
      "source": [
        "# Del resultado anterior se puede obeservar overfitting, ya que el valid_loss\n",
        "# empieza  a empeorar cuando el train_loss aun se encuentra descendiendo.\n",
        "\n",
        "## Lo que vamos a hacer ahora es agregar un parametro adicional (bias) el cual\n",
        "## no se relaciona con los factores latentes, pero si pretende capturar el que \n",
        "## por ejemplo un usuario tenga la tendencia a calificar peliculas con nota baja\n",
        "## o que por ejemplo una pelicula tenga fama de ser buena.\n",
        "\n",
        "### La unica diferencia con el metodo anterior, es que se agrega este parametro\n",
        "### a al producto punto de los factores latentes y luego este resultado se ajusta \n",
        "### con la sigmoide\n",
        "\n",
        "class DotProductBias(Module):\n",
        "    def __init__(self, n_users, n_movies, n_factors, y_range=(0,5.5)):\n",
        "        self.user_factors = Embedding(n_users, n_factors)\n",
        "        self.user_bias = Embedding(n_users, 1)\n",
        "        self.movie_factors = Embedding(n_movies, n_factors)\n",
        "        self.movie_bias = Embedding(n_movies, 1)\n",
        "        self.y_range = y_range\n",
        "        \n",
        "    def forward(self, x):\n",
        "        users = self.user_factors(x[:,0])\n",
        "        movies = self.movie_factors(x[:,1])\n",
        "        res = (users * movies).sum(dim=1, keepdim=True)\n",
        "        res += self.user_bias(x[:,0]) + self.movie_bias(x[:,1])\n",
        "        return sigmoid_range(res, *self.y_range)"
      ],
      "execution_count": null,
      "outputs": []
    },
    {
      "cell_type": "code",
      "metadata": {
        "colab": {
          "base_uri": "https://localhost:8080/",
          "height": 206
        },
        "id": "DuDqsLbiY6gQ",
        "outputId": "7f4c58bf-5e2f-41bb-8566-b0d8c72687f1"
      },
      "source": [
        "# Volvemos a entranar el modelo y observar los resultados\n",
        "model = DotProductBias(n_users, n_movies, 50)\n",
        "learn = Learner(dls, model, loss_func=MSELossFlat())\n",
        "learn.fit_one_cycle(5, 5e-3)"
      ],
      "execution_count": null,
      "outputs": [
        {
          "output_type": "display_data",
          "data": {
            "text/html": [
              "<table border=\"1\" class=\"dataframe\">\n",
              "  <thead>\n",
              "    <tr style=\"text-align: left;\">\n",
              "      <th>epoch</th>\n",
              "      <th>train_loss</th>\n",
              "      <th>valid_loss</th>\n",
              "      <th>time</th>\n",
              "    </tr>\n",
              "  </thead>\n",
              "  <tbody>\n",
              "    <tr>\n",
              "      <td>0</td>\n",
              "      <td>0.933094</td>\n",
              "      <td>0.940606</td>\n",
              "      <td>00:08</td>\n",
              "    </tr>\n",
              "    <tr>\n",
              "      <td>1</td>\n",
              "      <td>0.856591</td>\n",
              "      <td>0.869237</td>\n",
              "      <td>00:08</td>\n",
              "    </tr>\n",
              "    <tr>\n",
              "      <td>2</td>\n",
              "      <td>0.622841</td>\n",
              "      <td>0.867798</td>\n",
              "      <td>00:08</td>\n",
              "    </tr>\n",
              "    <tr>\n",
              "      <td>3</td>\n",
              "      <td>0.386210</td>\n",
              "      <td>0.889252</td>\n",
              "      <td>00:08</td>\n",
              "    </tr>\n",
              "    <tr>\n",
              "      <td>4</td>\n",
              "      <td>0.293149</td>\n",
              "      <td>0.896106</td>\n",
              "      <td>00:08</td>\n",
              "    </tr>\n",
              "  </tbody>\n",
              "</table>"
            ],
            "text/plain": [
              "<IPython.core.display.HTML object>"
            ]
          },
          "metadata": {}
        }
      ]
    },
    {
      "cell_type": "markdown",
      "metadata": {
        "id": "1zmrmwi_ZzLY"
      },
      "source": [
        "### **Weight decay**"
      ]
    },
    {
      "cell_type": "code",
      "metadata": {
        "colab": {
          "base_uri": "https://localhost:8080/",
          "height": 206
        },
        "id": "tMbNzsMhZ36P",
        "outputId": "929661d3-c61d-4e9a-caed-14d7a5958160"
      },
      "source": [
        "# Para hacer todo lo que aparace arriba, lo unico que debemos hacer es ajustar \n",
        "# parametro wd\n",
        "\n",
        "model = DotProductBias(n_users, n_movies, 50)\n",
        "learn = Learner(dls, model, loss_func=MSELossFlat())\n",
        "learn.fit_one_cycle(5, 5e-3, wd=0.1)"
      ],
      "execution_count": null,
      "outputs": [
        {
          "output_type": "display_data",
          "data": {
            "text/html": [
              "<table border=\"1\" class=\"dataframe\">\n",
              "  <thead>\n",
              "    <tr style=\"text-align: left;\">\n",
              "      <th>epoch</th>\n",
              "      <th>train_loss</th>\n",
              "      <th>valid_loss</th>\n",
              "      <th>time</th>\n",
              "    </tr>\n",
              "  </thead>\n",
              "  <tbody>\n",
              "    <tr>\n",
              "      <td>0</td>\n",
              "      <td>0.929547</td>\n",
              "      <td>0.939862</td>\n",
              "      <td>00:08</td>\n",
              "    </tr>\n",
              "    <tr>\n",
              "      <td>1</td>\n",
              "      <td>0.860190</td>\n",
              "      <td>0.885294</td>\n",
              "      <td>00:09</td>\n",
              "    </tr>\n",
              "    <tr>\n",
              "      <td>2</td>\n",
              "      <td>0.727500</td>\n",
              "      <td>0.836623</td>\n",
              "      <td>00:08</td>\n",
              "    </tr>\n",
              "    <tr>\n",
              "      <td>3</td>\n",
              "      <td>0.573001</td>\n",
              "      <td>0.823237</td>\n",
              "      <td>00:08</td>\n",
              "    </tr>\n",
              "    <tr>\n",
              "      <td>4</td>\n",
              "      <td>0.486131</td>\n",
              "      <td>0.822641</td>\n",
              "      <td>00:08</td>\n",
              "    </tr>\n",
              "  </tbody>\n",
              "</table>"
            ],
            "text/plain": [
              "<IPython.core.display.HTML object>"
            ]
          },
          "metadata": {}
        }
      ]
    },
    {
      "cell_type": "markdown",
      "metadata": {
        "id": "Zl3SKCybfs7y"
      },
      "source": [
        "### **Creando un Embedding**"
      ]
    },
    {
      "cell_type": "code",
      "metadata": {
        "id": "hppeBISGf_Lf"
      },
      "source": [
        "# Aqui vamos a crear una funcion de embedding\n",
        "def create_params(size):\n",
        "    return nn.Parameter(torch.zeros(*size).normal_(0, 0.01))"
      ],
      "execution_count": null,
      "outputs": []
    },
    {
      "cell_type": "code",
      "metadata": {
        "colab": {
          "base_uri": "https://localhost:8080/"
        },
        "id": "DwX3x_O-2iR1",
        "outputId": "60567d94-4e9f-4355-c237-f112023e45ac"
      },
      "source": [
        "# Ahora probemosla\n",
        "## La unica diferencia es que esta funcion no utiliza un one_hot encodding\n",
        "## y en lugar de eso utiliza una funcion normal con media 0 y des. est. 0.01\n",
        "n_usuarios = 3\n",
        "n_factores = 2\n",
        "\n",
        "factores_usuario = create_params([n_usuarios, n_factores])\n",
        "print(factores_usuario)\n",
        "\n",
        "# Notar que de esta forma, ya nos estamos asegurando de trabajar con parametros \n",
        "# pequeños"
      ],
      "execution_count": null,
      "outputs": [
        {
          "output_type": "stream",
          "text": [
            "Parameter containing:\n",
            "tensor([[-0.0146,  0.0054],\n",
            "        [-0.0013,  0.0090],\n",
            "        [ 0.0049,  0.0062]], requires_grad=True)\n"
          ],
          "name": "stdout"
        }
      ]
    },
    {
      "cell_type": "code",
      "metadata": {
        "id": "7o_855_ugBzo"
      },
      "source": [
        "class DotProductBias(Module):\n",
        "    def __init__(self, n_users, n_movies, n_factors, y_range=(0,5.5)):\n",
        "        self.user_factors = create_params([n_users, n_factors])\n",
        "        self.user_bias = create_params([n_users])\n",
        "        self.movie_factors = create_params([n_movies, n_factors])\n",
        "        self.movie_bias = create_params([n_movies])\n",
        "        self.y_range = y_range\n",
        "        \n",
        "    def forward(self, x):\n",
        "        users = self.user_factors[x[:,0]]\n",
        "        movies = self.movie_factors[x[:,1]]\n",
        "        res = (users*movies).sum(dim=1)\n",
        "        res += self.user_bias[x[:,0]] + self.movie_bias[x[:,1]]\n",
        "        return sigmoid_range(res, *self.y_range)"
      ],
      "execution_count": null,
      "outputs": []
    },
    {
      "cell_type": "code",
      "metadata": {
        "colab": {
          "base_uri": "https://localhost:8080/",
          "height": 206
        },
        "id": "uHgDZXgLgERQ",
        "outputId": "3e924228-2c38-4483-c2cc-b1f71f10fedc"
      },
      "source": [
        "# Ahora volvemos a entrenar el modelo y a observar los resultados\n",
        "model = DotProductBias(n_users, n_movies, 50)\n",
        "learn = Learner(dls, model, loss_func=MSELossFlat())\n",
        "learn.fit_one_cycle(5, 5e-3, wd=0.1)"
      ],
      "execution_count": null,
      "outputs": [
        {
          "output_type": "display_data",
          "data": {
            "text/html": [
              "<table border=\"1\" class=\"dataframe\">\n",
              "  <thead>\n",
              "    <tr style=\"text-align: left;\">\n",
              "      <th>epoch</th>\n",
              "      <th>train_loss</th>\n",
              "      <th>valid_loss</th>\n",
              "      <th>time</th>\n",
              "    </tr>\n",
              "  </thead>\n",
              "  <tbody>\n",
              "    <tr>\n",
              "      <td>0</td>\n",
              "      <td>0.966084</td>\n",
              "      <td>0.942515</td>\n",
              "      <td>00:08</td>\n",
              "    </tr>\n",
              "    <tr>\n",
              "      <td>1</td>\n",
              "      <td>0.862211</td>\n",
              "      <td>0.881859</td>\n",
              "      <td>00:08</td>\n",
              "    </tr>\n",
              "    <tr>\n",
              "      <td>2</td>\n",
              "      <td>0.724546</td>\n",
              "      <td>0.839486</td>\n",
              "      <td>00:08</td>\n",
              "    </tr>\n",
              "    <tr>\n",
              "      <td>3</td>\n",
              "      <td>0.580858</td>\n",
              "      <td>0.827606</td>\n",
              "      <td>00:08</td>\n",
              "    </tr>\n",
              "    <tr>\n",
              "      <td>4</td>\n",
              "      <td>0.488041</td>\n",
              "      <td>0.827749</td>\n",
              "      <td>00:08</td>\n",
              "    </tr>\n",
              "  </tbody>\n",
              "</table>"
            ],
            "text/plain": [
              "<IPython.core.display.HTML object>"
            ]
          },
          "metadata": {}
        }
      ]
    },
    {
      "cell_type": "markdown",
      "metadata": {
        "id": "dJ6IjMBWgIMz"
      },
      "source": [
        "### **Interpretando Embeddings y Bias**"
      ]
    },
    {
      "cell_type": "code",
      "metadata": {
        "colab": {
          "base_uri": "https://localhost:8080/"
        },
        "id": "77AtQbgUgOkw",
        "outputId": "c6c37e7f-6738-4b46-8832-e8e71a253904"
      },
      "source": [
        "# Si recordamos la intrepretacion que le podiamos entregar al bias, es que tan\n",
        "# buena es la opinion de los usuarios de una pelicula en general.\n",
        "\n",
        "# Asi, podemos ordenarestos parametros en orden ascendente y sacar los ultimos \n",
        "# para asi obtener las 'peores peliculas'\n",
        "movie_bias = learn.model.movie_bias.squeeze()\n",
        "idxs = movie_bias.argsort()[:5]\n",
        "[dls.classes['title'][i] for i in idxs]"
      ],
      "execution_count": null,
      "outputs": [
        {
          "output_type": "execute_result",
          "data": {
            "text/plain": [
              "['Children of the Corn: The Gathering (1996)',\n",
              " 'Lawnmower Man 2: Beyond Cyberspace (1996)',\n",
              " 'Robocop 3 (1993)',\n",
              " 'Crow: City of Angels, The (1996)',\n",
              " 'Amityville 3-D (1983)']"
            ]
          },
          "metadata": {},
          "execution_count": 93
        }
      ]
    },
    {
      "cell_type": "code",
      "metadata": {
        "colab": {
          "base_uri": "https://localhost:8080/"
        },
        "id": "Gx4mB8SKgVHh",
        "outputId": "14633ca6-d9ef-4f2d-9b2b-e0823568ea7f"
      },
      "source": [
        "# y caso contrario, podemos ordenarlas en forma descendiente e imprimir los primeros\n",
        "# 5 para ver las 'las cinco mejores peliculas'\n",
        "idxs = movie_bias.argsort(descending=True)[:5]\n",
        "[dls.classes['title'][i] for i in idxs]"
      ],
      "execution_count": null,
      "outputs": [
        {
          "output_type": "execute_result",
          "data": {
            "text/plain": [
              "['L.A. Confidential (1997)',\n",
              " \"Schindler's List (1993)\",\n",
              " 'Silence of the Lambs, The (1991)',\n",
              " 'Titanic (1997)',\n",
              " 'Shawshank Redemption, The (1994)']"
            ]
          },
          "metadata": {},
          "execution_count": 94
        }
      ]
    },
    {
      "cell_type": "code",
      "metadata": {
        "colab": {
          "base_uri": "https://localhost:8080/",
          "height": 700
        },
        "id": "H9b_NxM8gaDy",
        "outputId": "cf27388f-ef07-4520-db5b-403c51170090"
      },
      "source": [
        "# Con esto podemos observar, mas menos, como se da esta relacion entre los factores\n",
        "# latentes con las distintas peliculas, asi las que se encuentran mas cercanas\n",
        "# podrian compartir algun genero en particular.\n",
        "g = ratings.groupby('title')['rating'].count()\n",
        "top_movies = g.sort_values(ascending=False).index.values[:1000]\n",
        "top_idxs = ([learn.dls.classes['title'].o2i[m] for m in top_movies])\n",
        "movie_w = learn.model.movie_factors[top_idxs].cpu().detach()\n",
        "movie_pca = movie_w.pca(3)\n",
        "fac0,fac1,fac2 = movie_pca.t()\n",
        "idxs = list(range(50))\n",
        "X = fac0[idxs]\n",
        "Y = fac2[idxs]\n",
        "plt.figure(figsize=(12,12))\n",
        "plt.scatter(X, Y)\n",
        "for i, x, y in zip(top_movies[idxs], X, Y):\n",
        "    plt.text(x,y,i, color=np.random.rand(3)*0.7, fontsize=11)\n",
        "plt.show()"
      ],
      "execution_count": null,
      "outputs": [
        {
          "output_type": "display_data",
          "data": {
            "image/png": "[encoded data removed]",
            "text/plain": [
              "<Figure size 864x864 with 1 Axes>"
            ]
          },
          "metadata": {
            "needs_background": "light"
          }
        }
      ]
    },
    {
      "cell_type": "markdown",
      "metadata": {
        "id": "Ii5zLXUVgmgI"
      },
      "source": [
        "## **Usando fastai.collab**"
      ]
    },
    {
      "cell_type": "code",
      "metadata": {
        "colab": {
          "base_uri": "https://localhost:8080/",
          "height": 206
        },
        "id": "inX92QMXgmCD",
        "outputId": "cdfcecf0-8ee1-41fd-b574-7e6c3882659d"
      },
      "source": [
        "# Ahora que ya conocemos el procedimiento basico, es que podemos volver a utilzar\n",
        "# Los atajos que nos proporciona la biblioteca de fastai\n",
        "learn = collab_learner(dls, n_factors=50, y_range=(0, 5.5))\n",
        "learn.fit_one_cycle(5, 5e-3, wd=0.1)"
      ],
      "execution_count": null,
      "outputs": [
        {
          "output_type": "display_data",
          "data": {
            "text/html": [
              "<table border=\"1\" class=\"dataframe\">\n",
              "  <thead>\n",
              "    <tr style=\"text-align: left;\">\n",
              "      <th>epoch</th>\n",
              "      <th>train_loss</th>\n",
              "      <th>valid_loss</th>\n",
              "      <th>time</th>\n",
              "    </tr>\n",
              "  </thead>\n",
              "  <tbody>\n",
              "    <tr>\n",
              "      <td>0</td>\n",
              "      <td>0.961170</td>\n",
              "      <td>0.950290</td>\n",
              "      <td>00:08</td>\n",
              "    </tr>\n",
              "    <tr>\n",
              "      <td>1</td>\n",
              "      <td>0.854235</td>\n",
              "      <td>0.873218</td>\n",
              "      <td>00:08</td>\n",
              "    </tr>\n",
              "    <tr>\n",
              "      <td>2</td>\n",
              "      <td>0.741331</td>\n",
              "      <td>0.833566</td>\n",
              "      <td>00:08</td>\n",
              "    </tr>\n",
              "    <tr>\n",
              "      <td>3</td>\n",
              "      <td>0.596551</td>\n",
              "      <td>0.820317</td>\n",
              "      <td>00:08</td>\n",
              "    </tr>\n",
              "    <tr>\n",
              "      <td>4</td>\n",
              "      <td>0.486857</td>\n",
              "      <td>0.822143</td>\n",
              "      <td>00:08</td>\n",
              "    </tr>\n",
              "  </tbody>\n",
              "</table>"
            ],
            "text/plain": [
              "<IPython.core.display.HTML object>"
            ]
          },
          "metadata": {}
        }
      ]
    },
    {
      "cell_type": "code",
      "metadata": {
        "colab": {
          "base_uri": "https://localhost:8080/"
        },
        "id": "K6jXpcGpg29g",
        "outputId": "c637859c-cde5-4d89-b9eb-72461f4898d1"
      },
      "source": [
        "# Asi podemos ver en embedding\n",
        "learn.model"
      ],
      "execution_count": null,
      "outputs": [
        {
          "output_type": "execute_result",
          "data": {
            "text/plain": [
              "EmbeddingDotBias(\n",
              "  (u_weight): Embedding(944, 50)\n",
              "  (i_weight): Embedding(1665, 50)\n",
              "  (u_bias): Embedding(944, 1)\n",
              "  (i_bias): Embedding(1665, 1)\n",
              ")"
            ]
          },
          "metadata": {},
          "execution_count": 101
        }
      ]
    },
    {
      "cell_type": "code",
      "metadata": {
        "colab": {
          "base_uri": "https://localhost:8080/"
        },
        "id": "IsSMaPBug60C",
        "outputId": "35282325-d904-4c8e-adf9-418326757cf7"
      },
      "source": [
        "# Mismo analisis para las mejores peliculas\n",
        "movie_bias = learn.model.i_bias.weight.squeeze()\n",
        "idxs = movie_bias.argsort(descending=True)[:5]\n",
        "[dls.classes['title'][i] for i in idxs]"
      ],
      "execution_count": null,
      "outputs": [
        {
          "output_type": "execute_result",
          "data": {
            "text/plain": [
              "['L.A. Confidential (1997)',\n",
              " 'Titanic (1997)',\n",
              " 'Silence of the Lambs, The (1991)',\n",
              " \"Schindler's List (1993)\",\n",
              " 'Shawshank Redemption, The (1994)']"
            ]
          },
          "metadata": {},
          "execution_count": 102
        }
      ]
    },
    {
      "cell_type": "code",
      "metadata": {
        "colab": {
          "base_uri": "https://localhost:8080/",
          "height": 36
        },
        "id": "nJNMAv_mhBa1",
        "outputId": "f0304ba7-e478-4f9f-ac3e-5ca84a777330"
      },
      "source": [
        "# Este analisis sirve para hacer una recomendacion en base a una pelicula que se \n",
        "# acaba de ver (se busca la pelicula que tiene una menor distancia)\n",
        "movie_factors = learn.model.i_weight.weight\n",
        "idx = dls.classes['title'].o2i['Silence of the Lambs, The (1991)']\n",
        "distances = nn.CosineSimilarity(dim=1)(movie_factors, movie_factors[idx][None])\n",
        "idx = distances.argsort(descending=True)[1]\n",
        "dls.classes['title'][idx]"
      ],
      "execution_count": null,
      "outputs": [
        {
          "output_type": "execute_result",
          "data": {
            "application/vnd.google.colaboratory.intrinsic+json": {
              "type": "string"
            },
            "text/plain": [
              "'Affair to Remember, An (1957)'"
            ]
          },
          "metadata": {},
          "execution_count": 103
        }
      ]
    },
    {
      "cell_type": "markdown",
      "metadata": {
        "id": "RhBIznmvhREh"
      },
      "source": [
        "### **Deep Learning for Collaborative Filtering**\n",
        "\n",
        "Este enfoque es por si en lugar de utilizar el producto punto entre los factores latentes, decidimos utilizar un metodo de aprendizaje profundo. (es mas similar a lo que hemos estado hacciendo en el resto de los notebooks)"
      ]
    },
    {
      "cell_type": "code",
      "metadata": {
        "colab": {
          "base_uri": "https://localhost:8080/"
        },
        "id": "5ZOfpTuKhcQa",
        "outputId": "cb4a8faf-5e85-40b9-c02b-43daab6abb33"
      },
      "source": [
        "# Este metodo nos entrega recomendaciones en relacion a cuantos factores latentes\n",
        "# ocupar para los usuarios y para los items (peliculas para este caso)\n",
        "embs = get_emb_sz(dls)\n",
        "embs"
      ],
      "execution_count": null,
      "outputs": [
        {
          "output_type": "execute_result",
          "data": {
            "text/plain": [
              "[(944, 74), (1665, 102)]"
            ]
          },
          "metadata": {},
          "execution_count": 16
        }
      ]
    },
    {
      "cell_type": "code",
      "metadata": {
        "id": "ZDBAQPBhhnlb"
      },
      "source": [
        "# Como en este caso vamos a utilzar una red neuronal, debemos definir la estructura\n",
        "# que tendra esta. \n",
        "## Notar que entra un tensor de tamaño (74 + 102 x 100 -> Relu -> 100 x 1) \n",
        "## para todos los 64 elementos del batch\n",
        "\n",
        "\n",
        "class CollabNN(Module):\n",
        "    def __init__(self, user_sz, item_sz, y_range=(0,5.5), n_act=100):\n",
        "        self.user_factors = Embedding(*user_sz)\n",
        "        self.item_factors = Embedding(*item_sz)\n",
        "        self.layers = nn.Sequential(\n",
        "            nn.Linear(user_sz[1]+item_sz[1], n_act),\n",
        "            nn.ReLU(),\n",
        "            nn.Linear(n_act, 1))\n",
        "        self.y_range = y_range\n",
        "        \n",
        "    def forward(self, x):\n",
        "        embs = self.user_factors(x[:,0]),self.item_factors(x[:,1])\n",
        "        x = self.layers(torch.cat(embs, dim=1))\n",
        "        return sigmoid_range(x, *self.y_range)"
      ],
      "execution_count": null,
      "outputs": []
    },
    {
      "cell_type": "code",
      "metadata": {
        "colab": {
          "base_uri": "https://localhost:8080/"
        },
        "id": "osFkb6782wky",
        "outputId": "7304184a-1ede-41bf-f312-967d251ffb83"
      },
      "source": [
        "# Para dejar mas claro este recorrido, hagamos pasar un batch por el modelo \n",
        "# y veamos que nos devuelve\n",
        "\n",
        "# generamos un batch\n",
        "x, y = dls.one_batch()\n",
        "print('Esta es la estructura del batch: ', x.shape)\n",
        "\n",
        "# generamos los factores de los usuarios (ojo, estoy usando los recomendados)\n",
        "user_factors = Embedding(944, 74)\n",
        "\n",
        "# generamos los factores de los items (peliculas)\n",
        "item_factors = Embedding(1665, 102)\n",
        "\n",
        "# ahora hacemos pasar el batch por los embeddings\n",
        "embs = user_factors(x[:,0]), item_factors(x[:,1])         \n",
        "\n",
        "# ahora generemos el tensor que va a recorrer el modelo\n",
        "x_entra = torch.cat(embs, dim=1)\n",
        "print('Con esta estructura entra la modelo: ', x_entra.shape)\n",
        "\n",
        "# ahora lo hacemos pasar lor el primer recorrido\n",
        "etapa1 = nn.Linear(176, 100)\n",
        "funcion_activacion = nn.ReLU()\n",
        "x_etapa1 = funcion_activacion(etapa1(x_entra))\n",
        "print('Asi queda luego de la primera capa: ', x_etapa1.shape)\n",
        "\n",
        "# ahora vamos por la segunda capa\n",
        "etapa2 = nn.Linear(100, 1)\n",
        "x_etapa2 = etapa2(x_etapa1)\n",
        "print('Asi queda luego de la segunda capa: ', x_etapa2.shape)\n",
        "\n",
        "# por ultimo se aplica la sigmoide con las cotas modificadas (y_range)\n",
        "x_final = sigmoid_range(x_etapa2, low=0, high=5.5)\n",
        "print('Esta es la estructura de salida: ', x_final.shape)\n",
        "print(x_final[:10])\n"
      ],
      "execution_count": null,
      "outputs": [
        {
          "output_type": "stream",
          "text": [
            "Esta es la estructura del batch:  torch.Size([64, 2])\n",
            "Con esta estructura entra la modelo:  torch.Size([64, 176])\n",
            "Asi queda luego de la primera capa:  torch.Size([64, 100])\n",
            "Asi queda luego de la segunda capa:  torch.Size([64, 1])\n",
            "Esta es la estructura de salida:  torch.Size([64, 1])\n",
            "tensor([[2.6880],\n",
            "        [2.6850],\n",
            "        [2.6835],\n",
            "        [2.6881],\n",
            "        [2.6866],\n",
            "        [2.6872],\n",
            "        [2.6879],\n",
            "        [2.6828],\n",
            "        [2.6916],\n",
            "        [2.6791]], grad_fn=<SliceBackward>)\n"
          ],
          "name": "stdout"
        }
      ]
    },
    {
      "cell_type": "code",
      "metadata": {
        "colab": {
          "base_uri": "https://localhost:8080/",
          "height": 206
        },
        "id": "q6VEAg2lhr_d",
        "outputId": "3109e2f1-0ef7-4047-bac9-3129ae6c47f4"
      },
      "source": [
        "# Ahora que sabemos como es la pasada por el modelo, podemos entrenarlo.\n",
        "learn = Learner(dls, model, loss_func=MSELossFlat())\n",
        "learn.fit_one_cycle(5, 5e-3, wd=0.01)"
      ],
      "execution_count": null,
      "outputs": [
        {
          "output_type": "display_data",
          "data": {
            "text/html": [
              "<table border=\"1\" class=\"dataframe\">\n",
              "  <thead>\n",
              "    <tr style=\"text-align: left;\">\n",
              "      <th>epoch</th>\n",
              "      <th>train_loss</th>\n",
              "      <th>valid_loss</th>\n",
              "      <th>time</th>\n",
              "    </tr>\n",
              "  </thead>\n",
              "  <tbody>\n",
              "    <tr>\n",
              "      <td>0</td>\n",
              "      <td>0.926338</td>\n",
              "      <td>0.961950</td>\n",
              "      <td>00:10</td>\n",
              "    </tr>\n",
              "    <tr>\n",
              "      <td>1</td>\n",
              "      <td>0.901816</td>\n",
              "      <td>0.910675</td>\n",
              "      <td>00:10</td>\n",
              "    </tr>\n",
              "    <tr>\n",
              "      <td>2</td>\n",
              "      <td>0.851982</td>\n",
              "      <td>0.890656</td>\n",
              "      <td>00:10</td>\n",
              "    </tr>\n",
              "    <tr>\n",
              "      <td>3</td>\n",
              "      <td>0.816303</td>\n",
              "      <td>0.873657</td>\n",
              "      <td>00:10</td>\n",
              "    </tr>\n",
              "    <tr>\n",
              "      <td>4</td>\n",
              "      <td>0.764312</td>\n",
              "      <td>0.875695</td>\n",
              "      <td>00:10</td>\n",
              "    </tr>\n",
              "  </tbody>\n",
              "</table>"
            ],
            "text/plain": [
              "<IPython.core.display.HTML object>"
            ]
          },
          "metadata": {}
        }
      ]
    },
    {
      "cell_type": "code",
      "metadata": {
        "colab": {
          "base_uri": "https://localhost:8080/",
          "height": 206
        },
        "id": "r2EmZmhQhv45",
        "outputId": "46e6f0fd-1750-40fa-da78-d450693d969b"
      },
      "source": [
        "# Esto es para hacerlo mediante los metodos que nos facilita fastai\n",
        "learn = collab_learner(dls, use_nn=True, y_range=(0, 5.5), layers=[100,50])\n",
        "learn.fit_one_cycle(5, 5e-3, wd=0.1)"
      ],
      "execution_count": null,
      "outputs": [
        {
          "output_type": "display_data",
          "data": {
            "text/html": [
              "<table border=\"1\" class=\"dataframe\">\n",
              "  <thead>\n",
              "    <tr style=\"text-align: left;\">\n",
              "      <th>epoch</th>\n",
              "      <th>train_loss</th>\n",
              "      <th>valid_loss</th>\n",
              "      <th>time</th>\n",
              "    </tr>\n",
              "  </thead>\n",
              "  <tbody>\n",
              "    <tr>\n",
              "      <td>0</td>\n",
              "      <td>0.980071</td>\n",
              "      <td>0.974163</td>\n",
              "      <td>00:12</td>\n",
              "    </tr>\n",
              "    <tr>\n",
              "      <td>1</td>\n",
              "      <td>0.913792</td>\n",
              "      <td>0.919904</td>\n",
              "      <td>00:12</td>\n",
              "    </tr>\n",
              "    <tr>\n",
              "      <td>2</td>\n",
              "      <td>0.892764</td>\n",
              "      <td>0.891102</td>\n",
              "      <td>00:12</td>\n",
              "    </tr>\n",
              "    <tr>\n",
              "      <td>3</td>\n",
              "      <td>0.831222</td>\n",
              "      <td>0.861914</td>\n",
              "      <td>00:12</td>\n",
              "    </tr>\n",
              "    <tr>\n",
              "      <td>4</td>\n",
              "      <td>0.761098</td>\n",
              "      <td>0.863395</td>\n",
              "      <td>00:11</td>\n",
              "    </tr>\n",
              "  </tbody>\n",
              "</table>"
            ],
            "text/plain": [
              "<IPython.core.display.HTML object>"
            ]
          },
          "metadata": {}
        }
      ]
    }
  ]
}