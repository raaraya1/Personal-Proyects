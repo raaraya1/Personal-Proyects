{
  "nbformat": 4,
  "nbformat_minor": 0,
  "metadata": {
    "colab": {
      "name": "Notas de la clase9.ipynb",
      "provenance": [],
      "collapsed_sections": [
        "2vQTantXIpIn",
        "LNZLHjdYIox2",
        "kk6PFJLPIobk",
        "sz40BcIt3c8F",
        "JvCfLk_RIoNh",
        "b7I38wkUInv6",
        "R7WgqetGInZ9",
        "0bSPpD-DJI07",
        "XgAFTqmOInDy",
        "8atWbLTcCsGi",
        "OvBWnVslImt_",
        "yUV53c5tImZN",
        "d7TdauU-Ilte"
      ],
      "authorship_tag": "ABX9TyMVAFFrL4ZqZ7bkl3KmB2Es",
      "include_colab_link": true
    },
    "kernelspec": {
      "name": "python3",
      "display_name": "Python 3"
    },
    "language_info": {
      "name": "python"
    },
    "accelerator": "GPU"
  },
  "cells": [
    {
      "cell_type": "markdown",
      "metadata": {
        "id": "view-in-github",
        "colab_type": "text"
      },
      "source": [
        "<a href=\"https://colab.research.google.com/github/raaraya1/Personal-Proyects/blob/main/Cursos/Fastai/Notas_de_la_clase9.ipynb\" target=\"_parent\"><img src=\"https://colab.research.google.com/assets/colab-badge.svg\" alt=\"Open In Colab\"/></a>"
      ]
    },
    {
      "cell_type": "markdown",
      "metadata": {
        "id": "c-lwB7bFC8IC"
      },
      "source": [
        "# **Clase 9 - Deep Learning for Coders**"
      ]
    },
    {
      "cell_type": "markdown",
      "metadata": {
        "id": "-Qlxy9AsGek8"
      },
      "source": [
        "# **Respuestas al cuestionario**\n",
        "\n",
        "**1. Si el conjunto de datos de su proyecto llegará a ser muy grande y complejo de trabajar (con él lleva una cantidad significativa de tiempo) ¿qué debe hacer?**\n",
        "\n",
        "A lo largo del curso, hemos visto varias opciones que podriamos aplicar. Por ejemplo reducir el batch size o utilizar el metodo `to_fp16`. Sin embargo, y conforme a lo visto en la clase, seria recomendable armar un nuevo conjunto de datos (con el cual sea mas sencillo de trabajar) y luego de asegurar que este funcione correctamente, aventurarse a trabajar con el set de datos mas complejo.\n",
        "\n",
        "\n",
        "**2. ¿Por qué concatenamos los documentos en nuestro conjunto de datos antes de crear un modelo de lenguaje?**\n",
        "\n",
        "Esto lo hacemos, principalmente, para generar un diccionario completo. Sucede que si no lo hacemos asi, podriamos comenter el error de presentar una palabra nueva en el conjunto de validacion, con lo cual, no se encontraria considerada en la matriz de embedding y como consecuencia, el modelo no tendria forma de generar alguna interpretacion sobre esta.\n",
        "\n",
        "**3. Para usar una red estándar completamente conectada para predecir la cuarta palabra dadas las tres palabras anteriores, ¿Cuales son las 2 cosas que necesitamos hacer en nuestro modelo?**\n",
        "\n",
        "1. Que la primera capa utilice los embeddings de la primera palabra como sus activaciones, luego que la segunda capa utilice el embedding de la segunda palabra y las activaciones de la primera (se suman), luego que en la tercera capa se ocupe los embeddings de la tercera palabra y se sumen las activaciones de la segunda capa (tambien se suman).\n",
        "\n",
        "2. La segunda cosa que es necesaria, es que la matriz de embeddings que se utiliza en las palabras sea la misma. Esto es asi, para que los parametros de la matriz no cambien mientras nos vamos desplazando por las capas (no hace sentido que estos valores vayan cambiando por capas, pero si que podrian cambiar por epoch)\n",
        "\n",
        "\n",
        "**4. ¿Cómo podemos compartir una matriz de peso en varias capas en PyTorch?**\n",
        "\n",
        "Tenemos que repetir esta matriz cada vez que la queramos usar (cada vez que integramos una nueva palabra de la secuencia al modelo)\n",
        "\n",
        "Mirando el modelo, esto hace referencia a la capa `self.i_h`\n",
        "\n",
        "\n",
        "**5. Escribe un módulo que prediga la tercera palabra dadas las dos palabras anteriores de una oración, sin mirar.**\n",
        "\n",
        "```python\n",
        "# Como tengo que utilzar las dos palabras anteriores para predecir la tercera, \n",
        "# voy a tener que realzar algunos cambios antes\n",
        "\n",
        "# Preparativos\n",
        "path = untar_data(URLs.HUMAN_NUMBERS)\n",
        "Path.BASE_PATH = path\n",
        "lines = L()\n",
        "with open(path/'train.txt') as f: lines += L(*f.readlines())\n",
        "with open(path/'valid.txt') as f: lines += L(*f.readlines())\n",
        "text = ' . '.join([l.strip() for l in lines])\n",
        "tokens = text.split(' ')\n",
        "vocab = L(*tokens).unique()\n",
        "word2idx = {w:i for i,w in enumerate(vocab)}\n",
        "nums = L(word2idx[i] for i in tokens)\n",
        "\n",
        "## Aqui realizamos un cambio (cambiamos 3 por 2)\n",
        "seqs = L((tensor(nums[i:i+2]), nums[i+2]) for i in range(0,len(nums)-3,2))\n",
        "\n",
        "# Luego, continueamos normal (recordar agregar el drop_last)\n",
        "bs = 64\n",
        "cut = int(len(seqs) * 0.8)\n",
        "dls = DataLoaders.from_dsets(seqs[:cut], seqs[cut:], bs=64, shuffle=False, drop_last=True)\n",
        "\n",
        "# Luego definimos el modulo \n",
        "## Por ahora, no le voy a hacer todos los arreglos que vimos en la clase\n",
        "class model(Module):\n",
        "  def __init__(self, bs, vocab):\n",
        "    self.input_layer = nn.Embedding(vocab, bs)\n",
        "    self.midle_layer = nn.Linear(bs, bs)\n",
        "    self.output_layer = nn.Linear(bs, vocab)\n",
        "    self.h = 0\n",
        "\n",
        "  def forward(self, x):\n",
        "    word1 = self.input_layer(x[:, 0])\n",
        "    self.h = self.h + word1\n",
        "    self.h = self.midle_layer(self.h)\n",
        "    self.h = torch.relu(self.h)\n",
        "    word2 = self.input_layer(x[:, 1])\n",
        "    self.h = self.h + word2\n",
        "    out = self.output_layer(self.h)\n",
        "    self.h = self.h.detach()\n",
        "    return out\n",
        "  \n",
        "  def reset(self): \n",
        "    self.h = 0\n",
        "\n",
        "# Cargamos un Batch y observamos como este sale del modelo\n",
        "x = dls.train.one_batch()\n",
        "input = x[0]\n",
        "modelo = model(64, len(vocab))\n",
        "salida = modelo.forward(input)\n",
        "print(salida.shape )\n",
        ">> torch.Size([64, 30])\n",
        "\n",
        "# Luego lo cargamos a un learner\n",
        "learn = Learner(dls, model(64, len(vocab)), loss_func=F.cross_entropy, \n",
        "                metrics=accuracy)\n",
        "lr = learn.lr_find()[0]\n",
        "learn.fit_one_cycle(4, lr)\n",
        ">> \n",
        "epoch\ttrain_loss\tvalid_loss\taccuracy\ttime\n",
        "  0\t  1.324382\t  2.229915\t  0.452168\t00:03\n",
        "  1\t  1.188938\t  2.135392\t  0.500638\t00:03\n",
        "  2\t  1.087693\t  2.121493\t  0.509726\t00:03\n",
        "  3\t  1.238023\t  1.665929\t  0.506059\t00:03\n",
        "```\n",
        "\n",
        "**6. ¿Qué es una red neuronal recurrente?**\n",
        "\n",
        "Es una red neuronal que utiliza ciclos (volviendo a ocupar sus capas), en lugar de utilizar capas nuevas.\n",
        "\n",
        "**7. ¿Qué es el \"Hidden State\"?**\n",
        "\n",
        "Son las activaciones (neuronas) que se van actualizando en cada paso de la red neuronal. (distinto a por ejemplo de as matriz de embedding, que se actualiza por epoch)\n",
        "\n",
        "**8. ¿Cuál es el equivalente al 'Hidden State' en 'LMModel1'?**\n",
        "\n",
        "Este es el modelo 'LMModel1'.\n",
        "\n",
        "```python\n",
        "class LMModel1(Module):\n",
        "    def __init__(self, vocab_sz, n_hidden):\n",
        "        self.i_h = nn.Embedding(vocab_sz, n_hidden)  \n",
        "        self.h_h = nn.Linear(n_hidden, n_hidden)     \n",
        "        self.h_o = nn.Linear(n_hidden,vocab_sz)\n",
        "        \n",
        "    def forward(self, x):\n",
        "        h = F.relu(self.h_h(self.i_h(x[:,0])))\n",
        "        h = h + self.i_h(x[:,1])\n",
        "        h = F.relu(self.h_h(h))\n",
        "        h = h + self.i_h(x[:,2])\n",
        "        h = F.relu(self.h_h(h))\n",
        "        return self.h_o(h)\n",
        "```\n",
        "\n",
        "De esta manera, el 'Hidden State' son los parametros que se van guardando en h.\n",
        "\n",
        "**9. Para mantener el estado en una RNN, ¿por qué es importante pasar el texto al modelo en orden?**\n",
        "\n",
        "Esto se hace asi, porque la idea es que el modelo, aparte de predecir una palabra, reconozca la estructura y efectue una prediccion en base a esta. POr esto no sirve entregar los datos con un `shuffle`, sino que estos hay que entregarlos en secuencias.\n",
        "\n",
        "**10. ¿Qué es una representación 'unrolled' de una RNN?**\n",
        "\n",
        "Cuando armamos una RNN, existe una capa que utilizamos varias veces y esta solemos representarla como un ciclo. Sin embargo, en una representacion 'unrolled' lo que se hace es mostrar efectivamente todos los pasos que se resumen en ese ciclo. Para el caso de los modelos del lenguaje vistos en clase, se hace una representacion como si se tratara de una red neuronal profunda con una cantidad de capas ocultas igual al numero de palabras contenidos en las secuencias.\n",
        "\n",
        "**11. ¿Por qué mantener el estado oculto en un RNN puede provocar problemas de memoria y rendimiento? ¿Cómo solucionamos este problema?**\n",
        "\n",
        "Esto sucede porque a la hora de hacer el paso de backpropagation, se esta calculando las derivadas mirando todo el historial guardado en la capa oculta. Para evitar esto, tenemos que utilizar el metodo `detach` cuando se termine el recorrido de la red (al final del metodo `formward`).\n",
        "\n",
        "**12. ¿Qué es \"BPTT\"?**\n",
        "\n",
        "BPTT: Back Propagation Through Time. Realiza el metodo de backpropagation, pero todo lo que sucede en el metodo `forward` lo considera como una unica capa.\n",
        "\n",
        "**13. Escriba código para imprimir los primeros batches del conjunto de validación, incluida la conversión de los ID del token a palabras en inglés, como mostramos para lotes de datos IMDb en chapter_nlp.**\n",
        "\n",
        "```python\n",
        "# Preparativos\n",
        "path = untar_data(URLs.HUMAN_NUMBERS)\n",
        "Path.BASE_PATH = path\n",
        "lines = L()\n",
        "with open(path/'train.txt') as f: lines += L(*f.readlines())\n",
        "with open(path/'valid.txt') as f: lines += L(*f.readlines())\n",
        "text = ' . '.join([l.strip() for l in lines])\n",
        "tokens = text.split(' ')\n",
        "vocab = L(*tokens).unique()\n",
        "word2idx = {w:i for i,w in enumerate(vocab)}\n",
        "nums = L(word2idx[i] for i in tokens)\n",
        "seqs = L((tensor(nums[i:i+3]), nums[i+3]) for i in range(0,len(nums)-4,3))\n",
        "bs = 64\n",
        "cut = int(len(seqs) * 0.8)\n",
        "dls = DataLoaders.from_dsets(seqs[:cut], seqs[cut:], bs=64, shuffle=False, drop_last=True)\n",
        "\n",
        "# Luego, para imprimir lo contenido en el conjunto de validacion\n",
        "## Nota: para trabajar con un batch podemos usar dls.valid.one_batch()\n",
        "validation_set = dls.valid.items\n",
        "print(validation_set[:3])\n",
        ">> [(tensor([ 1,  8, 29]), 26), \n",
        "(tensor([26,  5,  1]), 8), \n",
        "(tensor([ 8, 29, 26]), 6)]\n",
        "\n",
        "validation_to_word = [([vocab[j] for j in i[0]], vocab[i[1]]) for i in validation_set]\n",
        "print(validation_to_word[:3])\n",
        ">> [(['.', 'eight', 'thousand'], 'eighty'),\n",
        " (['eighty', 'five', '.'], 'eight'),\n",
        " (['eight', 'thousand', 'eighty'], 'six')]\n",
        "```\n",
        "\n",
        "**14. ¿Qué hace `ModelResetter`? ¿Por qué lo necesitamos?**\n",
        "\n",
        "Lo que hace es ejecutar la funcion `reset` contenida en la clase del modelo. Esto se hace necesario en caso de que nosotros queramos volver a entrenar la red neuronal, ya que asi nos aseguramos de partir con un hidden state limpio.\n",
        "\n",
        "**15. ¿Cuáles son las desventajas de predecir una sola palabra de salida por cada tres palabras de entrada?**\n",
        "\n",
        "La desventaja, es que no estamos aprovechando la oportunidad de utilizar todas las palabras para hacer predicciones sobre la siguiente. Es decir, podemos agregar mas 'señales' al modelo para que asi este tambien realice predicciones sobre la primera y segundo palabra. (De esta manera, entiende mejor la secuencia, porque se fija en mas palabras a la hora de efectuar las predicciones)\n",
        "\n",
        "**16. ¿Por qué necesitamos una función de pérdida personalizada para `LMModel4`?**\n",
        "\n",
        "Esta es la funcion de perdida que se personaliza.\n",
        "```python\n",
        "def loss_func(inp, targ):\n",
        "    return F.cross_entropy(inp.view(-1, len(vocab)), targ.view(-1))\n",
        "```\n",
        "\n",
        "Esto se hace asi, porque la salida de la red sale con una dimension adicional (producto del `stack`). Asi, con este metodo nos aseguramos que al calcular el error, se este trabajando bajo las mismas dimensiones.\n",
        "\n",
        "**17. ¿Por qué es inestable el entrenamiento de \"LMModel4\"?**\n",
        "\n",
        "En la clase se nos explica que este modelo tiene un funcionamiento mas complicado, lo cual resulta en ocaciones en la generacion de grandes y pequeños gradientes. Por eso, todo lo que resta del notebook son metodos para corregir estos gradientes (LSTM por ejemplo)\n",
        "\n",
        "**18. En la representación desenrollada, podemos ver que una red neuronal recurrente en realidad tiene muchas capas. Entonces, ¿por qué necesitamos apilar RNN para obtener mejores resultados?**\n",
        "\n",
        "En la clase no se especifica porque razon agregar mas capas de RNN ayuna a mejorar las predicciones (solo se intuye). Sin embargo, y mirando la estructura desenrollada, pareciera armarse un mini-modelo de red profunda para cada palabra nueva que ingresa.\n",
        "\n",
        "**19. Dibuje una representación de un modelo RNN multicapa.**\n",
        "\n",
        "![image.png](data:image/png;base64,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)\n",
        "\n",
        "**20. ¿Por qué deberíamos obtener mejores resultados en un RNN si llamamos a `detach` con menos frecuencia? ¿Por qué no podría suceder esto en la práctica con un simple RNN?**\n",
        "\n",
        "Si llamamos utilizamos el `detach` menos veces, lo que va a pasar es que vamos a ir guardando mayor infomacion en los hidden states (de hecho, sino lo llamamos para nada, se iran guardando las informaciones de todas las veces que ingresa una nueva palabra de la secuencia). La razon de porque no hacerlo en la practica, es por el out of memory y el numero de calculos que tendria que realizar el modelo (en otras palabras, tomaria mucho tiempo el entrenamiento)\n",
        "\n",
        "**21. ¿Por qué una red profunda puede resultar en activaciones muy grandes o muy pequeñas? ¿Por qué importa esto?**\n",
        "\n",
        "La razon de porque las activaciones pueden resultar muy grandes o pequeñas, es porque los valores entre capas se van multiplindo. Asi 2*2*2..., en unas pocas capas puede resultar en un numero bastante grandes, de la misma manera 0.1*0.1*0.1... tambien puede resultar en valores muy pequeños.\n",
        "\n",
        "Importa, porque los computadores tienen cirtos limites al registrar los numeros. \n",
        "\n",
        "Por ejemplo, supongamos que el computador es capaz de registrar valores hasta 5 decimales y tenemos los siguientes numeros (muy chicos)\n",
        "\n",
        "```python\n",
        "valor1 = 0.000001\n",
        "valor2 = 0.000002\n",
        "\n",
        "# luego como el computador solo es capaz de rescatar valores hasta 5 decimales\n",
        "# esta seria la interpretacion de los numero que extrae\n",
        "valor1 = 0.00000\n",
        "valor2 = 0.00000\n",
        "\n",
        "# ahora, imaginemos por un momento que estos valores los dejamos de llamar valor 1 y valor 2, y los empezamos a llamar output y target. Aqui resulta facil notar que el metodo de backpropagation no sirve, puesto que no hay perdida (loss)\n",
        "```\n",
        "\n",
        "**22. En la representación de números de punto flotante de una computadora, ¿qué números son los más precisos?**\n",
        "\n",
        "La forma en que los computadores guardan los numeros, es a lo que se refiere el termino 'floating point' y en particular estos se vuelven cada vez menos precisos a meidda que nos vamos alejando del 0. (en este sentido, en este sentido, seria bueno siempre buscar la alternativa de normalizan en funcion de 0)\n",
        "\n",
        "**23. ¿Por qué los gradientes que desaparecen impiden el entrenamiento?**\n",
        "\n",
        "Esto es asi, porque el metodo de SGD requiere algun valor de perdida, pero si no le entregamos nada, entonces el modelo se encontrara estancado en el entrenamiento (con un gradiente cero, todos las activaciones de las capas quedaran igual)\n",
        "\n",
        "**24. ¿Por qué ayuda tener dos estados ocultos en la arquitectura LSTM? ¿Cuál es el propósito de cada uno?**\n",
        "\n",
        "- cell state: Ayuda a memorizar todo lo que va sucediendo al ir recorriendo la oracion.\n",
        "\n",
        "- hidden state: Esta se focaliza en predecir la siguiente palabra (para esto deben trabajar con la infomacion correcta)\n",
        "\n",
        "**25. ¿Cómo se llaman estos dos estados en un LSTM?**\n",
        "\n",
        "cell state ($c_{t}$) y hidden state ($h_{t}$)\n",
        "\n",
        "**26. ¿Qué es tanh y cómo se relaciona con el sigmoide?**\n",
        "\n",
        "\\begin{equation}\n",
        "tanh(x) = \\frac{senh(x)}{cosh(x)} = \\frac{e^{x} - e^{-x}}{e^{x} + e^{-x}} = 2\\sigma(2x)-1\n",
        "\\end{equation}\n",
        "\n",
        "**27. ¿Cuál es el propósito de este código en `LSTMCell`:` h = torch.cat ([h, input], dim = 1) `**\n",
        "\n",
        "Esto es para juntar el $x_{t}$ con el $h_{t-1}$, ya que esta es la manera en que van entrando por las puertas.\n",
        "\n",
        "**28. ¿Qué hace `chunk` en PyTorch?**\n",
        "\n",
        "Diveide en partes iguales un tensor. (divide el tensor ordenadamente, de manera de generar nuevos tensores con la misma cantidad de elementos)\n",
        "\n",
        "**29. Estudie la versión refactorizada de `LSTMCell` cuidadosamente para asegurarse de que comprende cómo y por qué hace lo mismo que la versión no refactorizada.**\n",
        "\n",
        "**Version original**\n",
        "```python\n",
        "class LSTMCell(Module):\n",
        "    def __init__(self, ni, nh):\n",
        "        self.forget_gate = nn.Linear(ni + nh, nh)\n",
        "        self.input_gate  = nn.Linear(ni + nh, nh)\n",
        "        self.cell_gate   = nn.Linear(ni + nh, nh)\n",
        "        self.output_gate = nn.Linear(ni + nh, nh)\n",
        "\n",
        "    def forward(self, input, state):\n",
        "        h,c = state\n",
        "        h = torch.cat([h, input], dim=1)\n",
        "        forget = torch.sigmoid(self.forget_gate(h))\n",
        "        c = c * forget\n",
        "        inp = torch.sigmoid(self.input_gate(h))\n",
        "        cell = torch.tanh(self.cell_gate(h))\n",
        "        c = c + inp * cell\n",
        "        out = torch.sigmoid(self.output_gate(h))\n",
        "        h = out * torch.tanh(c)\n",
        "        return h, (h,c)\n",
        "```\n",
        "\n",
        "**Version refactorizada**\n",
        "\n",
        "```python\n",
        "class LSTMCell(Module):\n",
        "    def __init__(self, ni, nh):\n",
        "        self.ih = nn.Linear(ni,4*nh)\n",
        "        self.hh = nn.Linear(nh,4*nh)\n",
        "\n",
        "    def forward(self, input, state):\n",
        "        h,c = state\n",
        "        # juntamos x(t) con h(t-1)\n",
        "        gates = (self.ih(input) + self.hh(h)).chunk(4, 1)\n",
        "        # calculamos todas las salidas con la funcion sigmoide\n",
        "        ingate,forgetgate,outgate = map(torch.sigmoid, gates[:3])\n",
        "        # La ultima la usamos on  tanh()\n",
        "        cellgate = gates[3].tanh()\n",
        "\n",
        "        # generamos el recorrido de arriba (lo que se va recordando)\n",
        "        c = (forgetgate*c) + (ingate*cellgate)\n",
        "        # generamos el recorrido del final (lo que se predice)\n",
        "        h = outgate * c.tanh()\n",
        "        return h, (h,c)\n",
        "```\n",
        "\n",
        "\n",
        "**30. ¿Por qué podemos utilizar una tasa de aprendizaje más alta para \"LMModel6\"?**\n",
        "\n",
        "En la clase no se da una razon explicita de porque se puede utilizar un LR mas alto, aunque intuyo que, gracias a la LSTM, vamos a tener mas 'controlados' los valores de las activaciones, de manera que se flexibilizaria la limitante de trabajar con LR bajo en funncion de evitar el fenomeno de 'Exploding'\n",
        "\n",
        "**31. ¿Cuáles son las tres técnicas de regularización que se utilizan en un modelo AWD-LSTM?**\n",
        "\n",
        "1. Dropout\n",
        "2. Activation Regularization\n",
        "3. Temporal Activation Regularization\n",
        "\n",
        "**32. ¿Qué es la \"Dropout\"?**\n",
        "\n",
        "Este metodo consiste en desactivar, de manera aleatoria, algunas de las activaciones de la red, mientras esta se encuentra entrenando.\n",
        "\n",
        "Lo otro que se tiene que hacer, es rescalar la salida (es por esta razon que se divide por (1-p), siendo p la probabilidad de desactivar una neurona condsiderando una distribucion bernoulli)\n",
        "\n",
        "**33. ¿Por qué escalamos las actividades con el dropout? ¿Se aplica esto durante el entrenamiento, la inferencia o ambos?**\n",
        "\n",
        "Miremos la siguiente situacion.\n",
        "\n",
        "![image.png](data:image/png;base64,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)\n",
        "\n",
        "Si antes de desactivar, teniamos que 4 que valdria $w_{1} + w_{2} + w_{3}$, en la segunda imagen pasa a valer $w_{1} + w_{3}$. Esto es un problema, porque al quitar activaciones cambiará los valores que normalmente esperariamos obtener en las activaciones siguientes. De esta manera, aqui la palabra clave es **esperar**, puesto que al repetir esto un alto numero de veces (y recordando que la probabilidad de activacion es de (1-p)) nos encontraremos con la siguiente figura.\n",
        "\n",
        "![image.png](data:image/png;base64,iVBORw0KGgoAAAANSUhEUgAAAOYAAADPCAYAAADhya1FAAAgAElEQVR4Ae2d6YscxRvHJz/jfUeNmsMjMfHARAVfCApKSAhRcU2UiIoHiorikaCieJ9ZD4IJGg0adZWQRQwx/4H7bl8ICoJgCCgiZEUQg0giiaZ+fGr32ent6Zk+pruruvspGHqmp7ur6vs833qeeqq6qnXFFVcY/SgGqgN+6UBLBeKXQFQeKg90YJKYhw4dMpoUAUXAPQL//fefEtO9GLQEisBUBJSYU/HQX4qAFwgoMb0QgxZCEZiKQCWIOTIyYqI+33333dTa6C9FoCYIeEFMCDY0NGTWrFljrrnmGtNqtTJ9TjrpJHv/Sy+9ZHbu3Gl+/vnnmohJq9E0BJwQ8+uvv44k4dVXX20ee+wx8+KLL5qvvvrKcJ18wiSDzPIfx08//dTeNzAwYM4+++xJYgtZN2zYoERtmnZXuL6lERNiYRHPOeccS5pLLrnEkhBCFeGS/vnnn5a477zzjrnrrrvMiSeeaPO99NJLrXXmf02KgK8IFEpMlB9LBRlwT7FkWMQiiJgEYKwwJBVX+cYbb7TkTXKvXqMIlIlAYcSkz4gbiaWCDLibviQaDCw1bi8kpV/rU/l8wUnL4Q6B3ImJgou7inX03WWkvPRtIejdd9+t/VB3uqg5BxDIjZi4pxJRxRKFgzWBPL38ipsrQSOiur43KF6CqIXKDYFciIlbiNuK5am6S0iwCPebfrGrvnBu0tUHVRaBvolJpBU3ELe1LglrSdSYxgZLqkkRKBuBzMREeXFdsS5YzDomieDi2mpSBMpEIBMxcfEI8NAnq7u7R6ODR8DQiiZFoCwEUhMTSwkpcfWaEiCh8cEzIGqrSREoA4HUxMR9xVI2hZQiBPqaWM66uu1STz36gUAqYhLgwXLU3X3tJhrm8ELOpta/Gy56Pn8EEhNT+lpNtxiM0RKtbZrHkL/q6RN7IZCYmPQriVI2PUFIXHnFoumaUGz9ExFTrGXVZvMUBR2TENRqFoWuPhcEEhGTWTBeWIjRQdvHGxgecyo9rCZ9bfqcmhSBIhCIJSZT7NwHPMbM8EB7VQPXxEQQkBL3XpMiUAQCscQk2MEcWC/S2LAZaLWMD8TErafB0il7XmhG7QoRS0xI6Y3L5hEx0QSCQN5gUzvVbHaFYomJVSDY4UXyjJg0WnWavO+FjLUQFoGexCTIATG9eZXLM2JCSm/cfFXoWiHQk5gS+PFmmMQzYmoAqFZc8KoyiYjpTYk9I6bMn/UGHy1IbRBIRExv5oZ6RkwsJm/ZaFIE8kagJzHJTPuY3SFn0oX2Mbvjo/9kRyCWmF7NcPHMYno1lJRdB/RODxGIJaYvyjc62J75gxVvtQaM45l5dr6sjmN6qNU1KFIsMXHXdOpZp6Tpd9NAeNP/7iyinqkwArHE1Kln0dKlwdLATzQ2erZ/BGKJSRbMl2VJEU3jCEhj1fSXxlUfikMgETFlooG6beOCoF/JPFlNikBRCCQiJpnjtqnVNHbrB16S1qBPUSqpzwWBxMTEWjJ00uRJ28wd5qXxJi3dqTRxg0BiYlI8WWKkqX0rFn2mcYKgmhSBIhFIRUwKgsXElWtafxPXVYdHilRFfXYQgdTE5GYmHTSJnOyKDSmb6ikEFUa/l4NAJmLiyjGEUndlpZ5si0A9b7vttnIkorkoAmmCP1FoiXtXxz09GKsk0EOfctWqVZac8+fPN5988kkUFOWem5gzTIPR/gya0V6lkHsGe17V6wn6X4kIZLKYwfLxTiLKixLXJSjCuC2uOtFXeUn8+++/tzt+TZs2zZx33nnWrf3333+DUJTyXeYMh/kl56MWKpP/LInDN5ZSas0kLQJ9E5MMCQShxChzlbdJh4REXlFgptxFNTQ//PCDufnmmw0EPffcc81HH31kDh48mBb3TNePE6z75P2x4fHuRRQ5jRk1g1hYJWYm7Mu+KRdiUmiUGNcW68mk96GhobLrkjk/yi47YzOjJ8kaRz/++KO55ZZbzP/+9z87C2jz5s3mwIEDmcsQe+PEYte9iTVBvlaUW6vEjMXYowtyI6bUCSXH2mB1cG+TKLnc6+KIhcfS06Bkibru3r3b3H777eawww4zc+bMMe+99575559/cq+KuKPR1rCdnVzXaRiVmG2U/P+WOzGlyriFDKtAUCwoBJD+mlzj6rhz504bbRVCYumj3NY05fvpp5/MnXfeaQk6a9Yss3HjRrN///40j+hxbXsl+k7CTb1NiNlJYCXmVKT8/lUYMaXa9D+ZlICLKFYUN7dfIsjzkx4pB+4qjQTloE/Merl5lwOC3nPPPWb69OnmjDPOMOvXr8+BoMmJ2b2fqcRMqis+XFc4MYOVJIKLm4vbKCRlqIUB/JGRkeClfX2HbDwPK00wR8hI40AjUYbl/uWXX8x9991nDj/8cDNz5kzz1ltvmX379mWuV3dLOPWRcl2nZVViTkXK71+lElOggDiQFBcSd1eIKmTlLRasG8SSD+4nZJMPVlf+4wjBuU9IyLMgIhMhyMfVFMJff/3VPPjgg+aII44wp556qlm3bp35+++/BYrkRw3+JMeqBlc6IWYUblixIFkhrHwgWdQHQss1HIWEBJzydlGjypzm3J49e8zDDz9sjjrqKDNjxgzz6quvmr/++ivFI+Ld2e5uLNmoxUwBtvNLvSGmcyRKKsBvv/1mvYGjjz7aRoOx5nv37k2Y+wS5Wi0TdlWFlN2HU5SYCUH24jIlpiMx/P777+bxxx83xxxzjDnhhBPMc889l9jKT5JwiicRP/Eg6HWEie0IBs22CwJKzC7AlHX6jz/+ME899ZQ57rjjzPHHH2+efvppw7n41HZtfVjKM768ekUaBJSYadAq8Fr6xM8884wl57HHHmuefPJJg1WNSxKFbUXO9om7W//3FQElpmeSob/5/PPP20g1bu7atWsN/dKeSd4c8WS37Z5l1T8TIaDETART+RdB0JdfftmcfPLJNpL76KOPxhNUIq9K0PIFlnOOSsycAc37cQypvPbaa+aUU04xRx55pHnooYcMQy+a6o2AErMi8mVSwhtvvGFOO+00O1nhgQceMExe0FRPBJSYFZMr0/refvttc/rpp9vpfvfee69h+p+meiGgxKyoPHlzhUn4Z555pp0wz5REJtBrqgcCSswayHHTpk1m9uzZdtoii4bt2rWrBrVqdhWUmDWRP6snvP/+++ass86yqyrceuuthpe4NVUTASVmNeXWtdSsP/Thhx/at2xY9oTlT1gGRVO1EFBiVkteiUsLQbds2WIXDIOgq1evVoImRs/9hUpM9zIotAQssfnxxx+befPm2ZX9WOGPlf40+Y2AEtNv+eRWOgjKYmOsicvSmyxirQTNDd7cH6TEzB1Svx+IwD/77DOzYMECS9CVK1cqQT0UmRLTQ6GUUSQE//nnn5uFCxdagrL6A6vNa/IDASWmH3JwVgoUYOvWreaCCy6w46A33HCDEtSZNNoZKzHbWDT6G4qwbds2c+GFF1qCXn/99ebbb79tNCYuK6/EdIm+h3mjEMPDw+aiiy6yBL322muVoA7kpMR0AHoVsjx06JD54osvzMUXX2wJumLFCvPNN98kLrpvqxQmLrgnF1aKmLKmrKs1Yj2RWanFgKBffvmlWbRokSXo8uXLExGUYJKPcqJMokelApkyMy+ISesKWCzczMrpLNzMhkTBVd16fWcPEu6RhaJZDNpHpUgpG+8u3759u1m8eLGVy7Jly7oSlHV9kRdLo5QpB/JC9iwWLvqAbvTSneB/6Bz3oYPoIjrpyvI7ISaLO7MtQnD7AgCSBZxZa1U+LAKNoLt9GDSXa9n+gIWfg2AHyeoKZO8Y1meBduzYMdlwLl261IyOTt2l+sorr7SvoiEHFhYrgpzIMkjCoMzRAXRB9AId6aY/nJeFxuV67g/uDsDq/ugqOlvG9hqIpzRiCpBiCal4cOX0vCuMMiCQIFlpPXlvke0WNPWPAAp92WWX2YZwyZIllqAoepAkbA3Bspx5kTO4Uxv5CAmRdV55CDLh3QGErOgwjUKRDX3hxARIWhsRFpsKIdCyEyAiPHb5oiyQFJcnb2GWXS8f8sPFlSAR+7Ow05nIm2O/5ERGyErcUmSILIskRjdc0V3Z/5W6odtFNPSFEZOWU6wjltEVkFEA0xLitsjWgFjRvC12VL51P8eiYUFCBr9D1rSWE5kgG56DrJCZL3KShh7dpnzoOjqfV8qdmABHv47CUmhfgOwGGC2gEJQOv4tWuFvZqnY+2LcMklK+s+t2EnIiA2TBfcjGhYeVBnt0XGIb6H4eOp8bMQFTWjcKmWfrkQakrNeyfg59CNwlOvma0iEQ7lsKGcPHOHKCPTJAFsikSgkMpKsEF/pp5HMhJgUCTFo3XNaqJoDEXUKZcE36AbZQDAIrr7cVf9BMjY22S9DeRmF8O8PObeDb12b9xlImvJDdLk/01on8H0VOsJauDzLwFvsEAMEBuAAnshqovolJCwfYdIirDGYQb4INtHwA61twSEgW3q1LzodJx/ngtXJd9+36gkgk+47rFiYk+4CGzwV/B8kJxmAN5r7hnQyBzqvgggSJsnhgmYlJxuK6Vs3l6ISx8wz1o4+MwvjiBYyTKn67vUlyjg2b4Q4zKruEdbewnWgkOwOpsBDoA1YPxaTfyRq4QVLynUgtR/DlCNZ1adiDaIEF9Uvr2mYiJgDidtAPyGqqg4X3+TvjoABLuN5p6nur93bpLcEHhs1Y+1Qp37Cs6AsNHcRlNQWwPf/882tJSgGVOsOVNN2j1MQUUuJ25BF9ksL7fESRUCCUyVUSF3TSGnYpiFwXdF+nXjpuMeOeM/We/H+BJZj6HnHNq+ZwBc4kJWdqYmKSYX9TSCmCEXK6USRxP6f2F6VswaMQsyvxsLwOrGWwjGAIKX3pIgTLVuR3XH24A4fiUipiir9cd/e1G2j0mdwEhJITU7aBjyYmz+neR+1W7zzPS6AHLJuY4A6NUlxcJjExkz6w7mCncUfyxCLWEk5kJtdFubL8F3U+z3L2ehbdICaEM87d5JTEwCUmJoASOWt6QrlwR0rvb/YZ/MGSuiQlegNmjO+BYdMTXIJT3VIiYkqfoGn9ym6goWC4tOUqWLw7282N5XyHazs2bAaHy4vLghWYld6gdROi4/NwqVfwKxExmf/n1lq2lZLK8HHZ+ovVLD94MWoGu9RfSBmeODB5fuI+wa/VKrevCVZ4GuU2Zt3ZN45L/mO53XPs/AeXHm5FpVhi0llHmO4CPuGARZukHVYgqoYFnSN40csVKShb+9hosnUSLfo6mSpXrlKClTcBn8kpjeViENYJidvAsXCKJSZgEvBwlkaHTafHNWE5HIb9xRVx22AJyTpJWYS8aOGvu+661C8J+9UVGm/oBwbAzi0xkRHcimqwYomJMPzrF0xYTZf+rDE2kOEaG4nClqFk6IK4wiwZwnhckpeEwYigjw8JLwJPaxw398QEG3ANp1hi0mGPG3MJP7T43+MW0zEvJ5e1KL6+MTlMumatziBPzK1p/g4SE4IyEZ3jcccdZ0nazXuQ5V3S5FXIteA04WX5Qky4BcfCKZaYbvuX4eKO/7Z9J9esNMa6IFGtXXSpyzjbDg4V0f8OE1OsJ0eZlD5r1qyOJVu4D3K6TXhZbQvpCzGlnxnGpicx5Sa/hklQvjbA4QqV+Rs3ZO7cuTYwBlZ1/1x++eWTrmyQlOHvsubPnDlz7EoEHF27/DTmwbbcF2J2C64mImaZyt47r/GOe2cwqPddRf0r82fDilnX3zNmzEhEzKj68/qXs4QLG2SlMd70McEEvGjUgykRMX2xmKOD5UQfgwD1+o4VwBrU3VJK/ZJaTOl7zp4921pKOfbCssj/eg8btUx47LfIsoSfncli8pAoNocfXsZvXI9Qo0ez13mujMJM5EGY268+ZrGV79XHPPzww62unHnmmbY/GRyb86OPORUbX1xZGj04Fk49LSYXM1vDdVR2HEQZswse3fY1fVS4sIDz/B0mpqzxQ1SWRirsjkne3kRlpUAeubJwC46FUywxEYbLjnt3Uracv1fIbBaX2ISFWfTvIDHZlwQyJnk/FYxczZLqhokvFhNswDWcYokJ+Lx1rWkqAu5n/kwtTxm/UCDmTBP0SjPn1a+ZP2UglTwPuAXHwimWmN06p+EHNe03YPoym6UK2INVlAJWoexFlVH6l8H+uOQVS0wulJZSbmr6UV5hKv/tkuoiD1blvyrnN168WRLlxlLqRMRUV2SqgOkX+PQK09TS+flLXpVrUp+8lySkK9Stj56ImGSAK8LORk1PYi1VwdJrApgRBErTP02fSzXugEu9ukKJiSn+sOuhE9ew01nnVR1VrvSSADOUsenBRDgUNz8gMTERQ5IHphdXde6QpTujOuvVqYXbkoId3YAkSzi6LWkxuUu3MM7ApSImRSWyRie+acop82K79QmKEWM9nyrK2bTgGZyBO0mi06mJiTsiSzj6Moe2aPUVUmq/Mj+kwRJ3rinkhCtpukGpiYlohJywv9s0rPxE6PZJ7FmCArl/n9AtDnnkjnKOjIzYpUnYmPaiiy6y2M6fP7/WfXY4AlfSxCYyERMhQU5MMkqbZZuxPARd5DOoH+NM9Ie8a9UDKxaA//inx7xhWZPWXlvcGzq4ahAPfYB4RB6vuuoqu8JBu5zj5ZUXq8844wxzwgkn2GvBvG4puE1lmrplJqZkIgEhOvN1ARYFI6xPBNG3vrTMHQ6/aSPnO1YugJSBi8evy5ecMiYXJB8T24O/w9+ZAM814MuHBhBXzze8Rc/THuECnKDecYGeqGf3TUweiqkGWJR5aGgoKp9KnANMWnrATON2lFW5OFLJe4dtco6Z4fAGmRPWNsDVXIp/7bXXmmnTpvUko5AzSErJHOzBnGuQQZUbeTgAF+BE1q5eLsQEXIAU15aWL2uBRFBlH3E56Ad46boChrijPRkla/7EubU9/s8IPPIW4vU6RpEymCXWBRkgi6p1kcAA3af+cKGfxiU3Ygq4uDXM/6Nw9NH47XMidC+tG5HCfsAssp5dXdVQpnJdJH8tufMnpRSB5UNk9YIocsaRUp6DDCRqi2x8H6JCx9F16ozu56HzuRNTwKX1ENeEQmPefVF6gMNdQujSuuUBptQ9/+PEOroJtoYQYrbdWWNMKFg05b8cC/vyyy9bPPshZbA4yES8MGSFzHyRE7qMTgsh0fU8vcTCiCkA09rxDp8Iiw5xkkWC5f68jgCJaySuBoEdhkB8EXTveiYnZmc/M/hkcXXzXX92+/bt5uKLL7YyPvXUUzusJsuOSKAnWJqk3wkIIStkhh4hQ1cNPborQR1p1Iuw6IUTU8CHGAw7iJtLH4LWhlaQyuZNEISJ8BiHlFaNvgstcBFASj2LOkZawojM5LpIV9ZeP0HOHLaXAMfLLrvMkmXJkiVmdHTUWg1phDn2S8pwFckTGSJLno9skTGyzjuii06im+go+aCz5IkOo8tFeoClETMIMBWmk48llVaQCgfJChhCWsbGun2wgnJtkIQ8T0CktS0ayGD9CvmeV/BH1rvpg5g7duyY9DyWLl1qCRmsc7CvyVYKeROGvKShR7bS2IvMhayiF+hIN/3hvJBPrg+SkGfipqKr6GzeBiSIW/C7E2IGCyAg459TcVpDgA6DLaBHHWk95R4hYRHKEC53ub/j3dnebmy7tFjVLP1MXNbFixfbBm/ZsmXmm2++aT808A1ZIqejjz66EFIGspryFZnTAAtZ0QmxrFF6Ez4nOoQOoot59hmnFDTBDy+ImaCc9hKA4lM/0iVFoN1HDLuqQsrgZILJoE/gYntdCmt56NAh8+WXX5pFixZZsi1fvrwrIYO1wML4KCfKJHoULK9v3ytFTN/Ac1WeSRJOTsfDbY+azdMmsliHpJYSQn7xxReTQZ0VK1YkIqQrTOqWrxKzshJtu7bRpMxWMRRieHh4coI5M3q+/fbbbA/TuzIjoMTMDJ0fN0oUtt/9MVGEbdu2mQsvvNC6rNdff70S0qGIlZgOwc8t68AEgqSuquSNAmzdutVccMEFlpA33HCD+f777+VvPTpCQInpCPhism33KeMIiuA///xzs3DhQjv5nGCNErIYqWR5qhIzC2oVvgeBf/bZZ2bBggWWkCtXrjQ//PBDhWtUz6IrMesp145a/fvvv3aM77zzzrOEXLVqlRKyAyV/Tigx/ZFFISWBkB9//LGZN2+eJeTNN9+shCwE6XwfqsTMF09vnnbw4EGzZcsWc+655xpet1q9erX58ccfvSmfFqQ3AkrM3vhU7l8I+eGHH9pX2iDkLbfcooSsnBQT7l1SwXo1rsgHDhwwH3zwgX0pAELeeuutZvfu3Y3DoS4VVotZA0m+++67Zvbs2XYc8o477jC7du2qQa2aXQUlZkXlv3//fvvi96xZs8z06dPtWzk//fRTRWujxQ4joMQMI+L573379pn169cb1mPlJeR7773X/PLLL56XWouXFgElZlrEHF3/999/mzfffNOcdtpphsWS77//fvPrr786Ko1mWzQCSsyiEe7z+RDy9ddfN6eccoo58sgjzUMPPWT27NnT51P1dt8RUGJ6KqG//vrLvPLKK+bkk082Rx11lHnkkUeUkJ7KqohiKTGLQLWPZ+7du9e88MILdv2jY445xqxdu9b89ttvfTxRb60iAkpMT6TG4lLPPvus3WCHBayeeOIJ8/vvv3tSOi1G2QgoMctGPJTfH3/8YZ566im77urxxx9vnn76acM5Tc1GQInpSP5YQ6wi1pFt6J577rlC1yl1VE3NNiMCSsyMwGW9jf4i69+ytCPr6LJHB/1KTYpAEAFviBle9ZpFd/nIlgayylvwKAtEy7VslMqivSziW+Qq2UEAk35niOPhhx+2EdYZM2aYV1991RB51aQIRCHghJiQRla/jlr1moV3sSTBD0vjy3qgHFnYN/i/LBQdXNmdjWiErK7WOGUSwIMPPmjHINnXY926dYaxSU2KQC8ESiUmZGRDFtkDgqXni1j1GuJDXogb3IYBouJGlrHMPdPk7rvvPjttbubMmeatt94yTKfTpAgkQaBwYmKpIEOQjC72EaEcLJ0vFhUXmT0t8iYpE8nvueceO7Gc+azMa2XCuSZFIA0ChREThcdNpU8IGbBeeZMgTUWD12JNsdSyrwX90n77pBDyzjvvtFvQ8cbHxo0blZBB0PV7KgRyJyYKLvsH5r2ZZ6qaJbyYzWMgKBadrdzSJl5Gvv322y0h586dazZt2mT++eeftI/R6xWBKQjkRkwIieVBwbGQuKtVSZQdi451px+KRY1LrJ/Dsh2sFkB9N2/ebFhFQJMikAcCuRCT/hsKjeVBwft1C/OoWJZn4Grj4kJQrH5UPViD9aabbrIrzrHyHAtesc6OJkUgTwT6JibDGFhJhjiiFDnPwpb1LCwmjQwBIukXs0o5Qy/Tpk2ziyXjEbA0pCZFoAgE+iImrivWhWhn3RKEpI9Mo8PiyNRz/vz55pNPPqlbVbU+HiKQiZhYRqwHylqlvmRa/KmnuLYscqVJESgLgUzEZBgEV8/VbJqywJF8iNzWvRGSuurRDwRSExO3tUmkFDFJ1LYpjZHUW49uEEhFTNzWJlsOpvfR56xLkMuNymmuSRBITEwsBUpZx0BPEqC4BkISECJaq+RMippelwWBxMREGRkSaXoiWivjtU3HQutfHAKJiMm4Hi6s9q/GBUF/kwkVmhSBohBIREz6Vmot2yLAaja5r91GQr8VhUAsMUUJmeHjMo0ND1gyQIhWa9CMuiyMMXZ8E/dekyJQBAKxxGSAnUnaLhOkHBgemyjCmBkecE9O3Hp1711qRb3zjiWmLPPhDoZRMzxJyolSjA6aVmvAhE+XXUYNApWNeHPyiyUmQyQEO3xK1q0dGDZiQ12VzX2j5armmm/RCMQSE3ctyfuJRRdUnu8LKSkPbr4GxUQyeswTgZ7E9GqYxLqv9C3HP4Ouoz/GWE9CA0B5qqM+SxBIREy52Ivj2LAZ8IScRKppKDQpAnkjkIiYDJl4lYScjs0mfW/XEWuv5KKFyQ2BnsQkF9/6mOM1nxgycUxM5g1rHzM3XdQHBRBIREzeR/QrjRPTMS8tKZs8qd8vnahXaWKJ6XxIYCLo055gYMzoYMu0XLPSGDtf1rehpHqpZ3NrE0tM5smyYoGzJP3JiYAPrrUHnLSLdFEW11MVnclFMy4UgVhiejVkUigU6R6ugZ90eOnV6RCIJSaPk81/0j26vlfzkrSPM6Lqi3jzapaImLKkiHfDJo7kJdsq6CoGjgTQgGwTERMcGK9jClrTE2TkJWnFoumaUGz9ExNTrGad15FNAjXr6fJWiVrLJGjpNVkRSExMMmDMjr5VU5cYIeBDJLap9c+qZHpfegRSEZPHM64JOZtmMWRebNM9hvQqpndkQSA1MSFk05ZwxELSGGm/MouK6T1ZEEhNTDJBUQkGEQSpu1snfWsmWmhSBMpCIBMxKRyWU9zaurp3sjO2TrsrSx01H0EgMzHlAQSECIisWbNGTlX+SKPDC9BEX3XKXeXFWckK9E1Mao3FRImZU+vTMiRZJLJhwwbbn6QfXXc3PQs+ek85CORCTIrKrCBcW6wnY31VmyWEZaTPTPlxXZsWdS5H3TSXpAjkRkzJEItJYEjcW98VnPJi6SkvUdeqNSiCux7rhUDuxBR4xL1lmIEgys6dO+Uv50cai6GhoUlCYumr7oI7B1ULkCsChRGTUkIAJnzTX8Mi4SoSJHLVd6NxkEgr5WEIRAmZqz7pw3JCoFBiBsuIi0gEV9xcop6QFMtVBFFpFEZGRsxLL71k+7xYbsiIdcSa++5iB7HT781DoDRiBqGFiJBUgkUQhg99PcgKmSAsxJJPuO/HM+Q/jkRThYQSxOGZRIvJB8sdfkawTPpdEfAJASfEDAMAybBiUWQV0iY5Yo1xT4mqEmVVIoaR1rrhzoIAAABfSURBVN9VQcALYsaBRT8w6qPEi0NO/68qApUgZlXB1XIrAlkRUGJmRU7vUwQKRECJWSC4+mhFICsCSsysyOl9ikCBCEwh5hVXXGH0oxioDvihAy0VhB+CUDmoHII68H97rkYeBRTkNAAAAABJRU5ErkJggg==)\n",
        "\n",
        "Siendo los valores $Q_{1} = w_{1}(1-p), Q_{2} = w_{2}(1-p), Q_{3} = w_{3}(1-p)$.\n",
        "\n",
        "Asi el valor esperado en 4 seria.\n",
        "\n",
        "$E(4) = Q_{1} + Q_{2} + Q_{3} = w_{1}(1-p) + w_{2}(1-p) + w_{3}(1-p) = (1-p)(w_{1} + w_{2} + w_{3})$\n",
        "\n",
        "Luego, si queremos que este valor esperado se ajuste con los valores que obteniamos al inicio (sin la utilizacion de dropout), tenemos que dividir por (1-p).\n",
        "\n",
        "Por ultimo, y en relacion a cuando ocupamos el dropout, este lo hacemos solo en el entrenamiento (para eso tenemos que decirle al programa con el metodo `train` activado)\n",
        "\n",
        "**34. ¿Cuál es el propósito de esta línea de `Dropout`:` if not self.training: return x`**\n",
        "\n",
        "Esta linea esta pensada justamente para cuando realicemos inferencias, ya lo que hace es verificar si estamos entrenando y en el caso de que no, obviara el proceso de desactivar las neuronas.\n",
        "\n",
        "**35. Experimente con `bernoulli_` para entender cómo funciona.**\n",
        "\n",
        "La experimentacion se encuetra mas abajo.\n",
        "\n",
        "**36. ¿Cómo configura su modelo en modo de entrenamiento en PyTorch? ¿En modo de evaluación?**\n",
        "\n",
        "Llamando con el metodo `train` se deja como `True` el parametro `training`. Por el contrario, con el metodo `eval` se deja al parametro `training` en `False`.\n",
        "\n",
        "**37. Escriba la ecuación para la regularización de la activación (en matemáticas o código, como prefiera). ¿En qué se diferencia de la pérdida de peso?**\n",
        "\n",
        "\\begin{equation}\n",
        "loss = loss + \\alpha \\frac{\\sum_{i=1}^{len(vocab)} n_{ho}^2}{len(vocab)}\n",
        "\\end{equation}\n",
        "\n",
        "```python\n",
        "loss += alpha * activations.pow(2).mean()\n",
        "```\n",
        "\n",
        "La diferencia con weight decay (como su nombre lo indica), es que este utiliza los pesos en lugar de las activaciones.\n",
        "\n",
        "**38. Escriba la ecuación para la regularización de la activación temporal (en matemáticas o código, como prefiera). ¿Por qué no usaríamos esto para problemas de visión por computadora?**\n",
        "\n",
        "\\begin{equation}\n",
        "loss = loss + \\beta \\frac{\\sum_{i=1}^{n_{capas}}\\sum_{j=1}^{seqc-1} (n_{i, j+1}-n_{i, j})^2}{n_{capas}*(seqc-1)}\n",
        "\\end{equation}\n",
        "\n",
        "```python\n",
        "loss += beta * (activations[:,1:] - activations[:,:-1]).pow(2).mean()\n",
        "```\n",
        "\n",
        "En la clase no se dice explicitamente porque no utilizarlo, sin embargo, el metodo TAR, esta mas orientado a penalizar en el loss si las predicciones no se siñen a una secuencia de palabras. De esta manera, creo que si utilizaramos este metodo para imagenes, estariamos incrementando la funcion de perdida innesesariamente, ya que de antemano, no tenemos una secuencia u orden que respetar (en este caso un ordenamiento entre pixeles) \n",
        "\n",
        "**39. ¿Qué es \"weight tying\" en un modelo de lenguaje?**\n",
        "\n",
        "Lo que se hace es ir cambiando los pesos de salida que convierten las activaciones de la ultima capa a palabras. Asi utilizamos los mismo pesos de la matriz de embedding, teniendo presente que esta tiene el trabajo justo a la inversa, es decir, transformar de palabras a activaciones.\n",
        "\n",
        "```python\n",
        "self.h_o.weight = self.i_h.weight\n",
        "```"
      ]
    },
    {
      "cell_type": "markdown",
      "metadata": {
        "id": "y5vxqfR5Fl_a"
      },
      "source": [
        "# **A language model from scratch**"
      ]
    },
    {
      "cell_type": "code",
      "metadata": {
        "id": "lpHxG797EQmL",
        "colab": {
          "base_uri": "https://localhost:8080/"
        },
        "outputId": "a6182209-2ec0-472f-8908-1729bb7b8cf9"
      },
      "source": [
        "!pip install -Uqq fastbook\n",
        "import fastbook\n",
        "from fastbook import *"
      ],
      "execution_count": null,
      "outputs": [
        {
          "output_type": "stream",
          "name": "stdout",
          "text": [
            "\u001b[?25l\r\u001b[K     |▌                               | 10 kB 19.0 MB/s eta 0:00:01\r\u001b[K     |█                               | 20 kB 24.8 MB/s eta 0:00:01\r\u001b[K     |█▍                              | 30 kB 14.3 MB/s eta 0:00:01\r\u001b[K     |█▉                              | 40 kB 11.0 MB/s eta 0:00:01\r\u001b[K     |██▎                             | 51 kB 5.6 MB/s eta 0:00:01\r\u001b[K     |██▊                             | 61 kB 5.8 MB/s eta 0:00:01\r\u001b[K     |███▏                            | 71 kB 5.5 MB/s eta 0:00:01\r\u001b[K     |███▋                            | 81 kB 6.1 MB/s eta 0:00:01\r\u001b[K     |████                            | 92 kB 5.9 MB/s eta 0:00:01\r\u001b[K     |████▌                           | 102 kB 5.4 MB/s eta 0:00:01\r\u001b[K     |█████                           | 112 kB 5.4 MB/s eta 0:00:01\r\u001b[K     |█████▌                          | 122 kB 5.4 MB/s eta 0:00:01\r\u001b[K     |██████                          | 133 kB 5.4 MB/s eta 0:00:01\r\u001b[K     |██████▍                         | 143 kB 5.4 MB/s eta 0:00:01\r\u001b[K     |██████▉                         | 153 kB 5.4 MB/s eta 0:00:01\r\u001b[K     |███████▎                        | 163 kB 5.4 MB/s eta 0:00:01\r\u001b[K     |███████▊                        | 174 kB 5.4 MB/s eta 0:00:01\r\u001b[K     |████████▏                       | 184 kB 5.4 MB/s eta 0:00:01\r\u001b[K     |████████▋                       | 194 kB 5.4 MB/s eta 0:00:01\r\u001b[K     |█████████                       | 204 kB 5.4 MB/s eta 0:00:01\r\u001b[K     |█████████▋                      | 215 kB 5.4 MB/s eta 0:00:01\r\u001b[K     |██████████                      | 225 kB 5.4 MB/s eta 0:00:01\r\u001b[K     |██████████▌                     | 235 kB 5.4 MB/s eta 0:00:01\r\u001b[K     |███████████                     | 245 kB 5.4 MB/s eta 0:00:01\r\u001b[K     |███████████▍                    | 256 kB 5.4 MB/s eta 0:00:01\r\u001b[K     |███████████▉                    | 266 kB 5.4 MB/s eta 0:00:01\r\u001b[K     |████████████▎                   | 276 kB 5.4 MB/s eta 0:00:01\r\u001b[K     |████████████▊                   | 286 kB 5.4 MB/s eta 0:00:01\r\u001b[K     |█████████████▏                  | 296 kB 5.4 MB/s eta 0:00:01\r\u001b[K     |█████████████▋                  | 307 kB 5.4 MB/s eta 0:00:01\r\u001b[K     |██████████████                  | 317 kB 5.4 MB/s eta 0:00:01\r\u001b[K     |██████████████▋                 | 327 kB 5.4 MB/s eta 0:00:01\r\u001b[K     |███████████████                 | 337 kB 5.4 MB/s eta 0:00:01\r\u001b[K     |███████████████▌                | 348 kB 5.4 MB/s eta 0:00:01\r\u001b[K     |████████████████                | 358 kB 5.4 MB/s eta 0:00:01\r\u001b[K     |████████████████▍               | 368 kB 5.4 MB/s eta 0:00:01\r\u001b[K     |████████████████▉               | 378 kB 5.4 MB/s eta 0:00:01\r\u001b[K     |█████████████████▎              | 389 kB 5.4 MB/s eta 0:00:01\r\u001b[K     |█████████████████▊              | 399 kB 5.4 MB/s eta 0:00:01\r\u001b[K     |██████████████████▏             | 409 kB 5.4 MB/s eta 0:00:01\r\u001b[K     |██████████████████▋             | 419 kB 5.4 MB/s eta 0:00:01\r\u001b[K     |███████████████████▏            | 430 kB 5.4 MB/s eta 0:00:01\r\u001b[K     |███████████████████▋            | 440 kB 5.4 MB/s eta 0:00:01\r\u001b[K     |████████████████████            | 450 kB 5.4 MB/s eta 0:00:01\r\u001b[K     |████████████████████▌           | 460 kB 5.4 MB/s eta 0:00:01\r\u001b[K     |█████████████████████           | 471 kB 5.4 MB/s eta 0:00:01\r\u001b[K     |█████████████████████▍          | 481 kB 5.4 MB/s eta 0:00:01\r\u001b[K     |█████████████████████▉          | 491 kB 5.4 MB/s eta 0:00:01\r\u001b[K     |██████████████████████▎         | 501 kB 5.4 MB/s eta 0:00:01\r\u001b[K     |██████████████████████▊         | 512 kB 5.4 MB/s eta 0:00:01\r\u001b[K     |███████████████████████▏        | 522 kB 5.4 MB/s eta 0:00:01\r\u001b[K     |███████████████████████▋        | 532 kB 5.4 MB/s eta 0:00:01\r\u001b[K     |████████████████████████▏       | 542 kB 5.4 MB/s eta 0:00:01\r\u001b[K     |████████████████████████▋       | 552 kB 5.4 MB/s eta 0:00:01\r\u001b[K     |█████████████████████████       | 563 kB 5.4 MB/s eta 0:00:01\r\u001b[K     |█████████████████████████▌      | 573 kB 5.4 MB/s eta 0:00:01\r\u001b[K     |██████████████████████████      | 583 kB 5.4 MB/s eta 0:00:01\r\u001b[K     |██████████████████████████▍     | 593 kB 5.4 MB/s eta 0:00:01\r\u001b[K     |██████████████████████████▉     | 604 kB 5.4 MB/s eta 0:00:01\r\u001b[K     |███████████████████████████▎    | 614 kB 5.4 MB/s eta 0:00:01\r\u001b[K     |███████████████████████████▊    | 624 kB 5.4 MB/s eta 0:00:01\r\u001b[K     |████████████████████████████▏   | 634 kB 5.4 MB/s eta 0:00:01\r\u001b[K     |████████████████████████████▊   | 645 kB 5.4 MB/s eta 0:00:01\r\u001b[K     |█████████████████████████████▏  | 655 kB 5.4 MB/s eta 0:00:01\r\u001b[K     |█████████████████████████████▋  | 665 kB 5.4 MB/s eta 0:00:01\r\u001b[K     |██████████████████████████████  | 675 kB 5.4 MB/s eta 0:00:01\r\u001b[K     |██████████████████████████████▌ | 686 kB 5.4 MB/s eta 0:00:01\r\u001b[K     |███████████████████████████████ | 696 kB 5.4 MB/s eta 0:00:01\r\u001b[K     |███████████████████████████████▍| 706 kB 5.4 MB/s eta 0:00:01\r\u001b[K     |███████████████████████████████▉| 716 kB 5.4 MB/s eta 0:00:01\r\u001b[K     |████████████████████████████████| 720 kB 5.4 MB/s \n",
            "\u001b[K     |████████████████████████████████| 46 kB 3.3 MB/s \n",
            "\u001b[K     |████████████████████████████████| 1.2 MB 31.3 MB/s \n",
            "\u001b[K     |████████████████████████████████| 186 kB 43.1 MB/s \n",
            "\u001b[K     |████████████████████████████████| 56 kB 3.6 MB/s \n",
            "\u001b[K     |████████████████████████████████| 51 kB 280 kB/s \n",
            "\u001b[?25h"
          ]
        }
      ]
    },
    {
      "cell_type": "markdown",
      "metadata": {
        "id": "2vQTantXIpIn"
      },
      "source": [
        "## **The Data**\n",
        "\n",
        "En esta ocación los datos corresponden a numeros escritos. Asi, este modelo de lenguaje recibira una gran cantidad de numeros escritos y tratará de predecir el siguiente.\n"
      ]
    },
    {
      "cell_type": "code",
      "metadata": {
        "id": "LJ8MeaKxLMA0",
        "colab": {
          "base_uri": "https://localhost:8080/",
          "height": 37
        },
        "outputId": "5fd0d08f-647a-4df3-803e-0aed2f43621a"
      },
      "source": [
        "# Importamos los datos (esta base de datos fue generada por fastai)\n",
        "from fastai.text.all import *\n",
        "path = untar_data(URLs.HUMAN_NUMBERS)"
      ],
      "execution_count": null,
      "outputs": [
        {
          "output_type": "display_data",
          "data": {
            "text/html": [
              "\n",
              "    <div>\n",
              "        <style>\n",
              "            /* Turns off some styling */\n",
              "            progress {\n",
              "                /* gets rid of default border in Firefox and Opera. */\n",
              "                border: none;\n",
              "                /* Needs to be in here for Safari polyfill so background images work as expected. */\n",
              "                background-size: auto;\n",
              "            }\n",
              "            .progress-bar-interrupted, .progress-bar-interrupted::-webkit-progress-bar {\n",
              "                background: #F44336;\n",
              "            }\n",
              "        </style>\n",
              "      <progress value='32768' class='' max='30252' style='width:300px; height:20px; vertical-align: middle;'></progress>\n",
              "      108.32% [32768/30252 00:00<00:00]\n",
              "    </div>\n",
              "    "
            ],
            "text/plain": [
              "<IPython.core.display.HTML object>"
            ]
          },
          "metadata": {}
        }
      ]
    },
    {
      "cell_type": "code",
      "metadata": {
        "id": "rCAPQ1fmLL1c"
      },
      "source": [
        "Path.BASE_PATH = path"
      ],
      "execution_count": null,
      "outputs": []
    },
    {
      "cell_type": "code",
      "metadata": {
        "colab": {
          "base_uri": "https://localhost:8080/"
        },
        "id": "XtxRorIFLLkj",
        "outputId": "cb08cccd-8eb4-49d9-e1f4-44889a625b78"
      },
      "source": [
        "# miramos el contenido del archivo\n",
        "path.ls()"
      ],
      "execution_count": null,
      "outputs": [
        {
          "output_type": "execute_result",
          "data": {
            "text/plain": [
              "(#2) [Path('valid.txt'),Path('train.txt')]"
            ]
          },
          "metadata": {},
          "execution_count": 4
        }
      ]
    },
    {
      "cell_type": "code",
      "metadata": {
        "colab": {
          "base_uri": "https://localhost:8080/"
        },
        "id": "vX744dksLXvv",
        "outputId": "7ee8e80f-ccea-4772-8b07-ab26dcb60149"
      },
      "source": [
        "# sumamos los conjuntos de entrenamiento y validacion\n",
        "lines = L()\n",
        "with open(path/'train.txt') as f: lines += L(*f.readlines())\n",
        "with open(path/'valid.txt') as f: lines += L(*f.readlines())\n",
        "lines"
      ],
      "execution_count": null,
      "outputs": [
        {
          "output_type": "execute_result",
          "data": {
            "text/plain": [
              "(#9998) ['one \\n','two \\n','three \\n','four \\n','five \\n','six \\n','seven \\n','eight \\n','nine \\n','ten \\n'...]"
            ]
          },
          "metadata": {},
          "execution_count": 5
        }
      ]
    },
    {
      "cell_type": "code",
      "metadata": {
        "colab": {
          "base_uri": "https://localhost:8080/",
          "height": 35
        },
        "id": "pFY5Lbq8LXhM",
        "outputId": "cc98d7c1-1707-4f18-b4d3-f726df9b2ce9"
      },
      "source": [
        "# ahora generamos una secuencia y separamos por un punto (ojo, incluye espacios)\n",
        "text = ' . '.join([l.strip() for l in lines])\n",
        "text[:100]"
      ],
      "execution_count": null,
      "outputs": [
        {
          "output_type": "execute_result",
          "data": {
            "application/vnd.google.colaboratory.intrinsic+json": {
              "type": "string"
            },
            "text/plain": [
              "'one . two . three . four . five . six . seven . eight . nine . ten . eleven . twelve . thirteen . fo'"
            ]
          },
          "metadata": {},
          "execution_count": 6
        }
      ]
    },
    {
      "cell_type": "code",
      "metadata": {
        "colab": {
          "base_uri": "https://localhost:8080/"
        },
        "id": "yKv80gzqLXTr",
        "outputId": "cc112fb0-06f7-4140-ed22-23e7233dd762"
      },
      "source": [
        "# aqui separameos por espacios\n",
        "tokens = text.split(' ')\n",
        "tokens[:10]"
      ],
      "execution_count": null,
      "outputs": [
        {
          "output_type": "execute_result",
          "data": {
            "text/plain": [
              "['one', '.', 'two', '.', 'three', '.', 'four', '.', 'five', '.']"
            ]
          },
          "metadata": {},
          "execution_count": 7
        }
      ]
    },
    {
      "cell_type": "code",
      "metadata": {
        "colab": {
          "base_uri": "https://localhost:8080/"
        },
        "id": "IHhdcxCwLXEE",
        "outputId": "719280dc-e435-4a93-bba4-e9401169a7e2"
      },
      "source": [
        "# guardamos todos los valres unicos\n",
        "vocab = L(*tokens).unique()\n",
        "vocab"
      ],
      "execution_count": null,
      "outputs": [
        {
          "output_type": "execute_result",
          "data": {
            "text/plain": [
              "(#30) ['one','.','two','three','four','five','six','seven','eight','nine'...]"
            ]
          },
          "metadata": {},
          "execution_count": 8
        }
      ]
    },
    {
      "cell_type": "code",
      "metadata": {
        "colab": {
          "base_uri": "https://localhost:8080/"
        },
        "id": "8IoKuw6lLWuV",
        "outputId": "7e7ab7ae-3de6-4aa8-c498-317b84d3f96e"
      },
      "source": [
        "# por ultimo, generamos el diccionario\n",
        "word2idx = {w:i for i,w in enumerate(vocab)}\n",
        "nums = L(word2idx[i] for i in tokens)\n",
        "nums"
      ],
      "execution_count": null,
      "outputs": [
        {
          "output_type": "execute_result",
          "data": {
            "text/plain": [
              "(#63095) [0,1,2,1,3,1,4,1,5,1...]"
            ]
          },
          "metadata": {},
          "execution_count": 9
        }
      ]
    },
    {
      "cell_type": "markdown",
      "metadata": {
        "id": "LNZLHjdYIox2"
      },
      "source": [
        "## **Our First Language Model from Scratch**"
      ]
    },
    {
      "cell_type": "code",
      "metadata": {
        "colab": {
          "base_uri": "https://localhost:8080/"
        },
        "id": "dymRWvWFLmmH",
        "outputId": "458bfe58-db0a-413c-ad43-6ca3ab1a2889"
      },
      "source": [
        "# vamos a hacer una secuencia de tres tokens, con el objetivo de predecir el cuarto\n",
        "L((tokens[i:i+3], tokens[i+3]) for i in range(0,len(tokens)-4,3))"
      ],
      "execution_count": null,
      "outputs": [
        {
          "output_type": "execute_result",
          "data": {
            "text/plain": [
              "(#21031) [(['one', '.', 'two'], '.'),(['.', 'three', '.'], 'four'),(['four', '.', 'five'], '.'),(['.', 'six', '.'], 'seven'),(['seven', '.', 'eight'], '.'),(['.', 'nine', '.'], 'ten'),(['ten', '.', 'eleven'], '.'),(['.', 'twelve', '.'], 'thirteen'),(['thirteen', '.', 'fourteen'], '.'),(['.', 'fifteen', '.'], 'sixteen')...]"
            ]
          },
          "metadata": {},
          "execution_count": 10
        }
      ]
    },
    {
      "cell_type": "code",
      "metadata": {
        "colab": {
          "base_uri": "https://localhost:8080/"
        },
        "id": "FU9FWVlBLmZm",
        "outputId": "343e94e5-f37e-48b4-813f-332c11d54982"
      },
      "source": [
        "# Lo mismo, pero en numero (esto es lo que en realidad entra al modelo)\n",
        "seqs = L((tensor(nums[i:i+3]), nums[i+3]) for i in range(0,len(nums)-4,3))\n",
        "seqs"
      ],
      "execution_count": null,
      "outputs": [
        {
          "output_type": "execute_result",
          "data": {
            "text/plain": [
              "(#21031) [(tensor([0, 1, 2]), 1),(tensor([1, 3, 1]), 4),(tensor([4, 1, 5]), 1),(tensor([1, 6, 1]), 7),(tensor([7, 1, 8]), 1),(tensor([1, 9, 1]), 10),(tensor([10,  1, 11]), 1),(tensor([ 1, 12,  1]), 13),(tensor([13,  1, 14]), 1),(tensor([ 1, 15,  1]), 16)...]"
            ]
          },
          "metadata": {},
          "execution_count": 71
        }
      ]
    },
    {
      "cell_type": "code",
      "metadata": {
        "id": "7Y8YJp8PLmOJ"
      },
      "source": [
        "# Por ultimo, definimos los valores del batch size y el tamaño de los conjunto de \n",
        "# entrenamiento y validacion (80% entrenamiento y 20% validacion)\n",
        "bs = 64\n",
        "cut = int(len(seqs) * 0.8)\n",
        "dls = DataLoaders.from_dsets(seqs[:cut], seqs[cut:], bs=64, shuffle=False)"
      ],
      "execution_count": null,
      "outputs": []
    },
    {
      "cell_type": "code",
      "metadata": {
        "colab": {
          "base_uri": "https://localhost:8080/"
        },
        "id": "Gna_ZD9L4BLV",
        "outputId": "5e2cd696-4e58-4de0-8723-d51e5c01b8a8"
      },
      "source": [
        "# Aqui esta, por ejemplo, el primer elemento del batch (input, target)\n",
        "x, y = dls.train.one_batch()\n",
        "x[0], y[0]"
      ],
      "execution_count": null,
      "outputs": [
        {
          "output_type": "execute_result",
          "data": {
            "text/plain": [
              "(tensor([0, 1, 2]), tensor(1))"
            ]
          },
          "metadata": {},
          "execution_count": 73
        }
      ]
    },
    {
      "cell_type": "markdown",
      "metadata": {
        "id": "kk6PFJLPIobk"
      },
      "source": [
        "### **Our Language Model in PyTorch**\n",
        "\n",
        "El modelo que se contruye a continuacion, tiene la particularidad que la matriz del Embadding no cambia en el recorrido de la red.\n",
        "\n",
        "La manera en como se va recorriendo la red (y en particular para este ejercicio con 3 palabras de input y una de output) es la siguiente.\n",
        "\n"
      ]
    },
    {
      "cell_type": "code",
      "metadata": {
        "colab": {
          "base_uri": "https://localhost:8080/"
        },
        "id": "y60fxW9kt1UL",
        "outputId": "a5e96b24-8858-4131-ef7b-4af09ad32f4e"
      },
      "source": [
        "# Representacion del modelo\n",
        "gv('''word_1->act_lay_1[label=Emb_lay];\n",
        "      act_lay_1->act_lay_2;\n",
        "      word_2->act_lay_2[label=Emb_lay]\n",
        "      act_lay_2->act_lay_3;\n",
        "      word_3->act_lay_3[label=Emb_lay];\n",
        "      act_lay_3->out_lay\n",
        "      ''')"
      ],
      "execution_count": null,
      "outputs": [
        {
          "output_type": "execute_result",
          "data": {
            "text/plain": [
              "<graphviz.files.Source at 0x7fa5fef54250>"
            ],
            "image/svg+xml": "<?xml version=\"1.0\" encoding=\"UTF-8\" standalone=\"no\"?>\n<!DOCTYPE svg PUBLIC \"-//W3C//DTD SVG 1.1//EN\"\n \"http://www.w3.org/Graphics/SVG/1.1/DTD/svg11.dtd\">\n<!-- Generated by graphviz version 2.40.1 (20161225.0304)\n -->\n<!-- Title: G Pages: 1 -->\n<svg width=\"751pt\" height=\"131pt\"\n viewBox=\"0.00 0.00 751.36 131.00\" xmlns=\"http://www.w3.org/2000/svg\" xmlns:xlink=\"http://www.w3.org/1999/xlink\">\n<g id=\"graph0\" class=\"graph\" transform=\"scale(1 1) rotate(0) translate(4 127)\">\n<title>G</title>\n<polygon fill=\"#ffffff\" stroke=\"transparent\" points=\"-4,4 -4,-127 747.361,-127 747.361,4 -4,4\"/>\n<!-- word_1 -->\n<g id=\"node1\" class=\"node\">\n<title>word_1</title>\n<ellipse fill=\"none\" stroke=\"#000000\" cx=\"40.2964\" cy=\"-105\" rx=\"40.0939\" ry=\"18\"/>\n<text text-anchor=\"middle\" x=\"40.2964\" y=\"-101.3\" font-family=\"Times,serif\" font-size=\"14.00\" fill=\"#000000\">word_1</text>\n</g>\n<!-- act_lay_1 -->\n<g id=\"node2\" class=\"node\">\n<title>act_lay_1</title>\n<ellipse fill=\"none\" stroke=\"#000000\" cx=\"216.3887\" cy=\"-105\" rx=\"46.5926\" ry=\"18\"/>\n<text text-anchor=\"middle\" x=\"216.3887\" y=\"-101.3\" font-family=\"Times,serif\" font-size=\"14.00\" fill=\"#000000\">act_lay_1</text>\n</g>\n<!-- word_1&#45;&gt;act_lay_1 -->\n<g id=\"edge1\" class=\"edge\">\n<title>word_1&#45;&gt;act_lay_1</title>\n<path fill=\"none\" stroke=\"#000000\" d=\"M80.6955,-105C103.899,-105 133.4204,-105 158.9979,-105\"/>\n<polygon fill=\"#000000\" stroke=\"#000000\" points=\"159.3185,-108.5001 169.3185,-105 159.3185,-101.5001 159.3185,-108.5001\"/>\n<text text-anchor=\"middle\" x=\"125.0928\" y=\"-108.8\" font-family=\"Times,serif\" font-size=\"14.00\" fill=\"#000000\">Emb_lay</text>\n</g>\n<!-- act_lay_2 -->\n<g id=\"node3\" class=\"node\">\n<title>act_lay_2</title>\n<ellipse fill=\"none\" stroke=\"#000000\" cx=\"398.9804\" cy=\"-72\" rx=\"46.5926\" ry=\"18\"/>\n<text text-anchor=\"middle\" x=\"398.9804\" y=\"-68.3\" font-family=\"Times,serif\" font-size=\"14.00\" fill=\"#000000\">act_lay_2</text>\n</g>\n<!-- act_lay_1&#45;&gt;act_lay_2 -->\n<g id=\"edge2\" class=\"edge\">\n<title>act_lay_1&#45;&gt;act_lay_2</title>\n<path fill=\"none\" stroke=\"#000000\" d=\"M259.1983,-97.263C285.2966,-92.5462 318.8417,-86.4835 346.5283,-81.4797\"/>\n<polygon fill=\"#000000\" stroke=\"#000000\" points=\"347.2209,-84.9113 356.439,-79.6886 345.9759,-78.0229 347.2209,-84.9113\"/>\n</g>\n<!-- act_lay_3 -->\n<g id=\"node5\" class=\"node\">\n<title>act_lay_3</title>\n<ellipse fill=\"none\" stroke=\"#000000\" cx=\"581.5721\" cy=\"-33\" rx=\"46.5926\" ry=\"18\"/>\n<text text-anchor=\"middle\" x=\"581.5721\" y=\"-29.3\" font-family=\"Times,serif\" font-size=\"14.00\" fill=\"#000000\">act_lay_3</text>\n</g>\n<!-- act_lay_2&#45;&gt;act_lay_3 -->\n<g id=\"edge4\" class=\"edge\">\n<title>act_lay_2&#45;&gt;act_lay_3</title>\n<path fill=\"none\" stroke=\"#000000\" d=\"M439.9575,-63.2476C466.7633,-57.5222 501.9856,-49.999 530.5965,-43.8879\"/>\n<polygon fill=\"#000000\" stroke=\"#000000\" points=\"531.3679,-47.3022 540.4162,-41.7905 529.9057,-40.4566 531.3679,-47.3022\"/>\n</g>\n<!-- word_2 -->\n<g id=\"node4\" class=\"node\">\n<title>word_2</title>\n<ellipse fill=\"none\" stroke=\"#000000\" cx=\"216.3887\" cy=\"-51\" rx=\"40.0939\" ry=\"18\"/>\n<text text-anchor=\"middle\" x=\"216.3887\" y=\"-47.3\" font-family=\"Times,serif\" font-size=\"14.00\" fill=\"#000000\">word_2</text>\n</g>\n<!-- word_2&#45;&gt;act_lay_2 -->\n<g id=\"edge3\" class=\"edge\">\n<title>word_2&#45;&gt;act_lay_2</title>\n<path fill=\"none\" stroke=\"#000000\" d=\"M255.6684,-55.2065C278.5779,-57.692 308.0269,-60.942 334.1845,-64 337.4494,-64.3817 340.806,-64.7796 344.1918,-65.185\"/>\n<polygon fill=\"#000000\" stroke=\"#000000\" points=\"344.0259,-68.6904 354.3737,-66.4158 344.866,-61.741 344.0259,-68.6904\"/>\n<text text-anchor=\"middle\" x=\"307.6845\" y=\"-67.8\" font-family=\"Times,serif\" font-size=\"14.00\" fill=\"#000000\">Emb_lay</text>\n</g>\n<!-- out_lay -->\n<g id=\"node7\" class=\"node\">\n<title>out_lay</title>\n<ellipse fill=\"none\" stroke=\"#000000\" cx=\"704.3645\" cy=\"-33\" rx=\"38.9931\" ry=\"18\"/>\n<text text-anchor=\"middle\" x=\"704.3645\" y=\"-29.3\" font-family=\"Times,serif\" font-size=\"14.00\" fill=\"#000000\">out_lay</text>\n</g>\n<!-- act_lay_3&#45;&gt;out_lay -->\n<g id=\"edge6\" class=\"edge\">\n<title>act_lay_3&#45;&gt;out_lay</title>\n<path fill=\"none\" stroke=\"#000000\" d=\"M628.6957,-33C637.3485,-33 646.4016,-33 655.1149,-33\"/>\n<polygon fill=\"#000000\" stroke=\"#000000\" points=\"655.1429,-36.5001 665.1429,-33 655.1429,-29.5001 655.1429,-36.5001\"/>\n</g>\n<!-- word_3 -->\n<g id=\"node6\" class=\"node\">\n<title>word_3</title>\n<ellipse fill=\"none\" stroke=\"#000000\" cx=\"398.9804\" cy=\"-18\" rx=\"40.0939\" ry=\"18\"/>\n<text text-anchor=\"middle\" x=\"398.9804\" y=\"-14.3\" font-family=\"Times,serif\" font-size=\"14.00\" fill=\"#000000\">word_3</text>\n</g>\n<!-- word_3&#45;&gt;act_lay_3 -->\n<g id=\"edge5\" class=\"edge\">\n<title>word_3&#45;&gt;act_lay_3</title>\n<path fill=\"none\" stroke=\"#000000\" d=\"M439.0509,-21.2918C464.4819,-23.381 497.7534,-26.1143 525.753,-28.4144\"/>\n<polygon fill=\"#000000\" stroke=\"#000000\" points=\"525.5527,-31.9097 535.8058,-29.2403 526.1259,-24.9332 525.5527,-31.9097\"/>\n<text text-anchor=\"middle\" x=\"490.2762\" y=\"-30.8\" font-family=\"Times,serif\" font-size=\"14.00\" fill=\"#000000\">Emb_lay</text>\n</g>\n</g>\n</svg>\n"
          },
          "metadata": {},
          "execution_count": 74
        }
      ]
    },
    {
      "cell_type": "code",
      "metadata": {
        "id": "nWXokHE_L8E4"
      },
      "source": [
        "# ahora vamos a construir esta estructura\n",
        "# Recordar ocultar los print, para cuando se utilice el modelo para entrenar\n",
        "class LMModel1(Module):\n",
        "    def __init__(self, vocab_sz, n_hidden):\n",
        "        self.i_h = nn.Embedding(vocab_sz, n_hidden)  \n",
        "        self.h_h = nn.Linear(n_hidden, n_hidden)     \n",
        "        self.h_o = nn.Linear(n_hidden,vocab_sz)\n",
        "        \n",
        "    def forward(self, x):\n",
        "        #print(f' 1) usamos la primera dimension del batch (la primera palabra) ({x[:, 0].shape}) \\n {x[:, 0]}')\n",
        "        h = F.relu(self.h_h(self.i_h(x[:,0])))\n",
        "        #print(f'\\n2) asi resulta su embedding ({self.i_h(x[:,0]).shape}) \\n {self.i_h(x[:,0])}')\n",
        "        #print(f'\\n3) luego lo hacemos pasar por la capa lineal ({self.h_h(self.i_h(x[:,0])).shape}) \\n {self.h_h(self.i_h(x[:,0]))} ')\n",
        "        #print(f'\\n4) luego aplicamos la funcion de activacion (ReLU) ({h.shape}) \\n {h}')\n",
        "        h = h + self.i_h(x[:,1])\n",
        "        #print(f'\\n5) ahora usamos la segunda dimension del batch (segunda palabra) ({x[:, 1].shape}) \\n {x[:, 1]}')\n",
        "        #print(f'\\n6) le aplicamos el embedding ({self.i_h(x[:,1]).shape}) \\n {self.i_h(x[:,1])}')\n",
        "        #print(f'\\n7) ahora sumamos las activaciones anteriores con el ebedding(segunda palabra) ({h.shape}) \\n {h}')\n",
        "        h = F.relu(self.h_h(h))\n",
        "        #print(f'\\n8) luego aplicamos la funcion de activacion (ReLU) ({h.shape}) \\n {h}')\n",
        "        h = h + self.i_h(x[:,2])\n",
        "        #print(f'\\n9) ahora usamos la tercera dimension del batch (tercera palabra) ({x[:, 2].shape}) \\n {x[:, 2]}')\n",
        "        #print(f'\\n10) le aplicamos el embedding ({self.i_h(x[:,2]).shape}) \\n {self.i_h(x[:,2])}')\n",
        "        #print(f'\\n11) ahora sumamos las activaciones anteriores con el ebedding(segunda palabra) ({h.shape}) \\n {h}')        \n",
        "        h = F.relu(self.h_h(h))\n",
        "        #print(f'\\n12) luego aplicamos la funcion de activacion (ReLU) ({h.shape}) \\n {h}')\n",
        "        #print(f'\\n13) por ultimo le aplicamos una capa lineal a la salida ({self.h_o(h).shape}) \\n {self.h_o(h)}')\n",
        "        return self.h_o(h)"
      ],
      "execution_count": null,
      "outputs": []
    },
    {
      "cell_type": "code",
      "metadata": {
        "id": "LM8eU56pyaCd",
        "colab": {
          "base_uri": "https://localhost:8080/"
        },
        "outputId": "dd890aa1-d78f-4d9f-a005-311be6e8f808"
      },
      "source": [
        "# Veamos la entrada, el recorrido y la salida\n",
        "# batch1 palabra1\n",
        "print(x[0, 1].shape)\n",
        "# batch con todas las palabras 1\n",
        "print(x[:, 0].shape)\n",
        "# batch con todas las palabras 2\n",
        "print(x[:, 1].shape)\n",
        "# batch con todas las palabras 3\n",
        "print(x[:, 2].shape)\n",
        "\n",
        "# el tensor que entra al modelo\n",
        "print(x.shape)"
      ],
      "execution_count": null,
      "outputs": [
        {
          "output_type": "stream",
          "name": "stdout",
          "text": [
            "torch.Size([])\n",
            "torch.Size([64])\n",
            "torch.Size([64])\n",
            "torch.Size([64])\n",
            "torch.Size([64, 3])\n"
          ]
        }
      ]
    },
    {
      "cell_type": "code",
      "metadata": {
        "colab": {
          "base_uri": "https://localhost:8080/"
        },
        "id": "jzEd4IJIoYn9",
        "outputId": "bbd66517-841f-464f-cba6-08f85147c9c6"
      },
      "source": [
        "# veamos el recorrido (en esta parte voy a activar los print comentados arriba)\n",
        "modelo = LMModel1(len(vocab), 64)\n",
        "modelo.forward(x)"
      ],
      "execution_count": null,
      "outputs": [
        {
          "output_type": "execute_result",
          "data": {
            "text/plain": [
              "tensor([[-0.1132, -0.4100, -0.2762,  ..., -0.0883, -0.2911, -0.0709],\n",
              "        [-0.1540,  0.0603,  0.0940,  ...,  0.0830, -0.5265, -0.6186],\n",
              "        [ 0.1819, -0.1436,  0.0520,  ...,  0.3193, -0.3657,  0.1965],\n",
              "        ...,\n",
              "        [ 0.4798, -0.1558, -0.3993,  ...,  0.2716, -0.4619,  0.4034],\n",
              "        [ 0.5655, -0.1392, -0.4306,  ...,  0.2195, -0.5167,  0.4027],\n",
              "        [ 0.4212, -0.0585, -0.3862,  ...,  0.2385, -0.4919,  0.4068]], grad_fn=<AddmmBackward>)"
            ]
          },
          "metadata": {},
          "execution_count": 77
        }
      ]
    },
    {
      "cell_type": "markdown",
      "metadata": {
        "id": "wRnu17OduGJX"
      },
      "source": [
        "**Importante**: Si bien en el anterior recorrido no se observa la matriz de Embedding, si es posible verificar que, en todo momento el token 1 ('.') termina con el tensor `[ 0.1100,  2.4751,  0.7828,  ..., -0.5626, -1.1394, -0.8253]`. Esto quiere decir que se utilizo la misma matriz en todo el recorrido."
      ]
    },
    {
      "cell_type": "code",
      "metadata": {
        "colab": {
          "base_uri": "https://localhost:8080/"
        },
        "id": "EAezPrJfL70E",
        "outputId": "824ecaea-e60d-4dad-f7ff-a9afe9ee3d76"
      },
      "source": [
        "# Ahora que ya sabemos como se trabajan los datos, falta denefir la funcion de perdida\n",
        "## Recordemos que cross entropy es ideal para trabajar con categorias\n",
        "learn = Learner(dls, LMModel1(len(vocab), 64), loss_func=F.cross_entropy, \n",
        "                metrics=accuracy)\n",
        "learn.fit_one_cycle(4, 1e-3)"
      ],
      "execution_count": null,
      "outputs": [
        {
          "output_type": "display_data",
          "data": {
            "text/html": [
              "<table border=\"1\" class=\"dataframe\">\n",
              "  <thead>\n",
              "    <tr style=\"text-align: left;\">\n",
              "      <th>epoch</th>\n",
              "      <th>train_loss</th>\n",
              "      <th>valid_loss</th>\n",
              "      <th>accuracy</th>\n",
              "      <th>time</th>\n",
              "    </tr>\n",
              "  </thead>\n",
              "  <tbody>\n",
              "    <tr>\n",
              "      <td>0</td>\n",
              "      <td>1.854007</td>\n",
              "      <td>1.978972</td>\n",
              "      <td>0.462325</td>\n",
              "      <td>00:02</td>\n",
              "    </tr>\n",
              "    <tr>\n",
              "      <td>1</td>\n",
              "      <td>1.394722</td>\n",
              "      <td>1.792281</td>\n",
              "      <td>0.480152</td>\n",
              "      <td>00:02</td>\n",
              "    </tr>\n",
              "    <tr>\n",
              "      <td>2</td>\n",
              "      <td>1.403728</td>\n",
              "      <td>1.669184</td>\n",
              "      <td>0.488947</td>\n",
              "      <td>00:02</td>\n",
              "    </tr>\n",
              "    <tr>\n",
              "      <td>3</td>\n",
              "      <td>1.373266</td>\n",
              "      <td>1.684499</td>\n",
              "      <td>0.435702</td>\n",
              "      <td>00:02</td>\n",
              "    </tr>\n",
              "  </tbody>\n",
              "</table>"
            ],
            "text/plain": [
              "<IPython.core.display.HTML object>"
            ]
          },
          "metadata": {}
        }
      ]
    },
    {
      "cell_type": "code",
      "metadata": {
        "colab": {
          "base_uri": "https://localhost:8080/"
        },
        "id": "f6BvOHrOL7kC",
        "outputId": "d1ec9119-68b4-4229-8dc1-3491ffb428f2"
      },
      "source": [
        "# Todo va bien, pero ¿como sabemos si el resultado anterior es bueno o malo?\n",
        "## Para responder a esta pregunta, armemos un modelo sencillo con el cual comparar\n",
        "### Lo que se hace a continuacion es obtener la palabra que mas se repite y utilizarla\n",
        "### como la prediccion para todo el conjunto de validacion\n",
        "n,counts = 0,torch.zeros(len(vocab))\n",
        "for x,y in dls.valid:\n",
        "    n += y.shape[0]\n",
        "    for i in range_of(vocab): \n",
        "      counts[i] += (y==i).long().sum()\n",
        "idx = torch.argmax(counts)\n",
        "idx, vocab[idx.item()], counts[idx].item()/n"
      ],
      "execution_count": null,
      "outputs": [
        {
          "output_type": "execute_result",
          "data": {
            "text/plain": [
              "(tensor(29), 'thousand', 0.15165200855716662)"
            ]
          },
          "metadata": {},
          "execution_count": 79
        }
      ]
    },
    {
      "cell_type": "markdown",
      "metadata": {
        "id": "sz40BcIt3c8F"
      },
      "source": [
        "#### **Escrito de otra forma**"
      ]
    },
    {
      "cell_type": "code",
      "metadata": {
        "colab": {
          "base_uri": "https://localhost:8080/"
        },
        "id": "Lhb6QAZ2yBwd",
        "outputId": "ac2a31f7-a067-4af8-f0ec-4a7321d2a26b"
      },
      "source": [
        "# sacar los target del conjunto de validacion\n",
        "valores_y = []\n",
        "for x, y in dls.valid:\n",
        "  for element in y:\n",
        "    valores_y.append(element.item())\n",
        "    \n",
        "print(len(valores_y))"
      ],
      "execution_count": null,
      "outputs": [
        {
          "output_type": "stream",
          "name": "stdout",
          "text": [
            "4207\n"
          ]
        }
      ]
    },
    {
      "cell_type": "code",
      "metadata": {
        "colab": {
          "base_uri": "https://localhost:8080/"
        },
        "id": "lzX_ZE_T1YYq",
        "outputId": "ec8a1d73-27e3-4d38-ef63-c69b2fb8dcf8"
      },
      "source": [
        "# ahora voy a contar\n",
        "contador = np.zeros(len(vocab)) # son 30 numeros distintos\n",
        "for valor in valores_y:\n",
        "  contador[valor] += 1\n",
        "print(np.argmax(contador))\n",
        "print(np.max(contador)/len(valores_y))\n",
        "\n",
        "# Lo que nos dice este 0.15 es que si utilizamos el token 29 como prediccion sobre \n",
        "# todo el conjunto de validacion, entonces acertaremos el 15% de las veces\n",
        "## Notar que este valor es bastante menor al 0.49 obtenido del modelo de red neuronal"
      ],
      "execution_count": null,
      "outputs": [
        {
          "output_type": "stream",
          "name": "stdout",
          "text": [
            "29\n",
            "0.15165200855716662\n"
          ]
        }
      ]
    },
    {
      "cell_type": "markdown",
      "metadata": {
        "id": "JvCfLk_RIoNh"
      },
      "source": [
        "### **Our First Recurrent Neural Network**"
      ]
    },
    {
      "cell_type": "code",
      "metadata": {
        "id": "2OCrbkwFMIUX"
      },
      "source": [
        "# Lo que vamos a hacer ahora es reescribir el modelo anterior, pero\n",
        "# acortando con un ciclo for\n",
        "class LMModel2(Module):\n",
        "    def __init__(self, vocab_sz, n_hidden):\n",
        "        self.i_h = nn.Embedding(vocab_sz, n_hidden)  \n",
        "        self.h_h = nn.Linear(n_hidden, n_hidden)     \n",
        "        self.h_o = nn.Linear(n_hidden,vocab_sz)\n",
        "        \n",
        "    def forward(self, x):\n",
        "        h = 0\n",
        "        for i in range(3):\n",
        "            h = h + self.i_h(x[:,i])\n",
        "            h = F.relu(self.h_h(h))\n",
        "        return self.h_o(h)"
      ],
      "execution_count": null,
      "outputs": []
    },
    {
      "cell_type": "code",
      "metadata": {
        "colab": {
          "base_uri": "https://localhost:8080/"
        },
        "id": "WmdTGkR-MIDM",
        "outputId": "6b21d90e-29c5-46ca-9e7f-13df0f96e231"
      },
      "source": [
        "# Verifiquemos obtener resultados similares\n",
        "learn = Learner(dls, LMModel2(len(vocab), 64), loss_func=F.cross_entropy, \n",
        "                metrics=accuracy)\n",
        "learn.fit_one_cycle(4, 1e-3)"
      ],
      "execution_count": null,
      "outputs": [
        {
          "output_type": "display_data",
          "data": {
            "text/html": [
              "<table border=\"1\" class=\"dataframe\">\n",
              "  <thead>\n",
              "    <tr style=\"text-align: left;\">\n",
              "      <th>epoch</th>\n",
              "      <th>train_loss</th>\n",
              "      <th>valid_loss</th>\n",
              "      <th>accuracy</th>\n",
              "      <th>time</th>\n",
              "    </tr>\n",
              "  </thead>\n",
              "  <tbody>\n",
              "    <tr>\n",
              "      <td>0</td>\n",
              "      <td>1.875688</td>\n",
              "      <td>1.921878</td>\n",
              "      <td>0.463513</td>\n",
              "      <td>00:02</td>\n",
              "    </tr>\n",
              "    <tr>\n",
              "      <td>1</td>\n",
              "      <td>1.397101</td>\n",
              "      <td>1.767072</td>\n",
              "      <td>0.468980</td>\n",
              "      <td>00:02</td>\n",
              "    </tr>\n",
              "    <tr>\n",
              "      <td>2</td>\n",
              "      <td>1.397369</td>\n",
              "      <td>1.639939</td>\n",
              "      <td>0.492988</td>\n",
              "      <td>00:02</td>\n",
              "    </tr>\n",
              "    <tr>\n",
              "      <td>3</td>\n",
              "      <td>1.354895</td>\n",
              "      <td>1.623882</td>\n",
              "      <td>0.491799</td>\n",
              "      <td>00:02</td>\n",
              "    </tr>\n",
              "  </tbody>\n",
              "</table>"
            ],
            "text/plain": [
              "<IPython.core.display.HTML object>"
            ]
          },
          "metadata": {}
        }
      ]
    },
    {
      "cell_type": "markdown",
      "metadata": {
        "id": "b7I38wkUInv6"
      },
      "source": [
        "## **Improving the RNN**"
      ]
    },
    {
      "cell_type": "markdown",
      "metadata": {
        "id": "R7WgqetGInZ9"
      },
      "source": [
        "### **Maintaining the State of an RNN**\n",
        "\n",
        "Problema:\n",
        "- Al colocar el `self.h=0` en el metodo forward, estamos empezando con una 'hoja en blanco', cuando podriamos hacer uso de los pesos guardados de una secuencia anterior.\n",
        "\n",
        "Solucion:\n",
        "- Colocar el `self.h` como una de los atributos de la clase (`__init__`).\n",
        "\n",
        "Subproblema:\n",
        "- Lo malo con esta medida es que, por asi decirlo, transforma nuestra red neuronal en una similar a una deep neuronal network con 10.000 capas (una por cada token). Asi, cuando analizemos los tokens de las ultimas secuencias, tendremos que calcular las derivadas desde el final hasta la primera capa.\n",
        "\n",
        "Solucion:\n",
        "- Utilizar el metodo `detach` para borrar el historial de gradientes y asi solo conservar el de las ultimas tres capas.\n",
        "\n",
        "**Nota**: Este metodo es llamado 'back propagation through time' (Realiza el metodo de back propagation, pero simulando que cada recursion como una unica capa). Tambien hay que tener ojo que este metodo es valido para un dataset en el que se pueda observar el 'flujo de texto' entre los batches (no vale desordenar los batches, tienen que estar ordenados para darle la logica al texto)"
      ]
    },
    {
      "cell_type": "code",
      "metadata": {
        "id": "Dt5xUbPEMnHG"
      },
      "source": [
        "# Justamente lo que se hace aqui es arreglar los problemas antes mencionados\n",
        "class LMModel3(Module):\n",
        "    def __init__(self, vocab_sz, n_hidden):\n",
        "        self.i_h = nn.Embedding(vocab_sz, n_hidden)  \n",
        "        self.h_h = nn.Linear(n_hidden, n_hidden)     \n",
        "        self.h_o = nn.Linear(n_hidden,vocab_sz)\n",
        "        self.h = 0\n",
        "        \n",
        "    def forward(self, x):\n",
        "        for i in range(3):\n",
        "            self.h = self.h + self.i_h(x[:,i])\n",
        "            self.h = F.relu(self.h_h(self.h))\n",
        "        out = self.h_o(self.h)\n",
        "        self.h = self.h.detach()\n",
        "        return out\n",
        "    \n",
        "    def reset(self): self.h = 0"
      ],
      "execution_count": null,
      "outputs": []
    },
    {
      "cell_type": "code",
      "metadata": {
        "colab": {
          "base_uri": "https://localhost:8080/"
        },
        "id": "JZBynNY4Mm1-",
        "outputId": "62a72fff-4a5e-408e-c028-1728ab62a778"
      },
      "source": [
        "# Lo que vamos a hacer aqui es construir el metodo por el cual fastai ordena los\n",
        "# batches\n",
        "m = len(seqs)//bs\n",
        "m,bs,len(seqs)\n",
        "\n",
        "# (cantidad de grupos, cantidad de tokes por grupos, cantidad total de tokens)"
      ],
      "execution_count": null,
      "outputs": [
        {
          "output_type": "execute_result",
          "data": {
            "text/plain": [
              "(328, 64, 21031)"
            ]
          },
          "metadata": {},
          "execution_count": 25
        }
      ]
    },
    {
      "cell_type": "code",
      "metadata": {
        "id": "vDpxY5dcMmlB"
      },
      "source": [
        "# Aqui generamos la funcion para generar estos grupos\n",
        "def group_chunks(ds, bs):\n",
        "    m = len(ds) // bs\n",
        "    new_ds = L()\n",
        "    for i in range(m): \n",
        "      new_ds += L(ds[i + m*j] for j in range(bs))\n",
        "    return new_ds"
      ],
      "execution_count": null,
      "outputs": []
    },
    {
      "cell_type": "code",
      "metadata": {
        "colab": {
          "base_uri": "https://localhost:8080/"
        },
        "id": "8Fd_7QpLvp-g",
        "outputId": "4b3acb40-d1e6-43d9-de3e-b0f0d41e1106"
      },
      "source": [
        "# Probemosla para un batch size cualquiera\n",
        "bs = 4\n",
        "lista = group_chunks(seqs, bs)\n",
        "for i in range(10):\n",
        "  fila = [(vocab[lista[i + bs*j][0]], vocab[lista[i + bs*j][1]]) for j in range(bs)]\n",
        "  print(fila)  \n",
        "\n",
        "# Aqui podemos observar el ordenamiento"
      ],
      "execution_count": null,
      "outputs": [
        {
          "output_type": "stream",
          "name": "stdout",
          "text": [
            "[(['one', '.', 'two'], '.'), (['.', 'three', '.'], 'four'), (['four', '.', 'five'], '.'), (['.', 'six', '.'], 'seven')]\n",
            "[(['nine', '.', 'two'], 'thousand'), (['thousand', 'seven', 'hundred'], 'forty'), (['forty', '.', 'two'], 'thousand'), (['thousand', 'seven', 'hundred'], 'forty')]\n",
            "[(['hundred', 'seventy', 'eight'], '.'), (['.', 'five', 'thousand'], 'one'), (['one', 'hundred', 'seventy'], 'nine'), (['nine', '.', 'five'], 'thousand')]\n",
            "[(['thousand', 'five', 'hundred'], 'eighty'), (['eighty', 'eight', '.'], 'seven'), (['seven', 'thousand', 'five'], 'hundred'), (['hundred', 'eighty', 'nine'], '.')]\n",
            "[(['.', 'three', '.'], 'four'), (['four', '.', 'five'], '.'), (['.', 'six', '.'], 'seven'), (['seven', '.', 'eight'], '.')]\n",
            "[(['thousand', 'seven', 'hundred'], 'forty'), (['forty', '.', 'two'], 'thousand'), (['thousand', 'seven', 'hundred'], 'forty'), (['forty', 'one', '.'], 'two')]\n",
            "[(['.', 'five', 'thousand'], 'one'), (['one', 'hundred', 'seventy'], 'nine'), (['nine', '.', 'five'], 'thousand'), (['thousand', 'one', 'hundred'], 'eighty')]\n",
            "[(['eighty', 'eight', '.'], 'seven'), (['seven', 'thousand', 'five'], 'hundred'), (['hundred', 'eighty', 'nine'], '.'), (['.', 'seven', 'thousand'], 'five')]\n",
            "[(['four', '.', 'five'], '.'), (['.', 'six', '.'], 'seven'), (['seven', '.', 'eight'], '.'), (['.', 'nine', '.'], 'ten')]\n",
            "[(['forty', '.', 'two'], 'thousand'), (['thousand', 'seven', 'hundred'], 'forty'), (['forty', 'one', '.'], 'two'), (['two', 'thousand', 'seven'], 'hundred')]\n"
          ]
        }
      ]
    },
    {
      "cell_type": "code",
      "metadata": {
        "id": "Tn06RieVMmRC"
      },
      "source": [
        "# Debidimos el conjunto de entrenamiento y el de validacion (80 y 20)\n",
        "cut = int(len(seqs) * 0.8)\n",
        "dls = DataLoaders.from_dsets(\n",
        "    group_chunks(seqs[:cut], bs), \n",
        "    group_chunks(seqs[cut:], bs), \n",
        "    bs=bs, drop_last=True, shuffle=False)"
      ],
      "execution_count": null,
      "outputs": []
    },
    {
      "cell_type": "code",
      "metadata": {
        "colab": {
          "base_uri": "https://localhost:8080/",
          "height": 283
        },
        "id": "0TMveZZxMmBf",
        "outputId": "8ab09744-cef2-4450-c61e-6f9401560b7e"
      },
      "source": [
        "# por ultimo, volvemos a entrenar\n",
        "learn = Learner(dls, LMModel3(len(vocab), 64), loss_func=F.cross_entropy,\n",
        "                metrics=accuracy, cbs=ModelResetter)\n",
        "lr = learn.lr_find()[0]"
      ],
      "execution_count": null,
      "outputs": [
        {
          "output_type": "display_data",
          "data": {
            "text/html": [
              ""
            ],
            "text/plain": [
              "<IPython.core.display.HTML object>"
            ]
          },
          "metadata": {}
        },
        {
          "output_type": "display_data",
          "data": {
            "image/png": "[encoded data removed]",
            "text/plain": [
              "<Figure size 432x288 with 1 Axes>"
            ]
          },
          "metadata": {
            "needs_background": "light"
          }
        }
      ]
    },
    {
      "cell_type": "code",
      "metadata": {
        "colab": {
          "base_uri": "https://localhost:8080/",
          "height": 363
        },
        "id": "wUGyB25L_Umj",
        "outputId": "c3b76800-d006-4a63-c07c-32577c65a8a0"
      },
      "source": [
        "learn.fit_one_cycle(10, lr)"
      ],
      "execution_count": null,
      "outputs": [
        {
          "output_type": "display_data",
          "data": {
            "text/html": [
              "<table border=\"1\" class=\"dataframe\">\n",
              "  <thead>\n",
              "    <tr style=\"text-align: left;\">\n",
              "      <th>epoch</th>\n",
              "      <th>train_loss</th>\n",
              "      <th>valid_loss</th>\n",
              "      <th>accuracy</th>\n",
              "      <th>time</th>\n",
              "    </tr>\n",
              "  </thead>\n",
              "  <tbody>\n",
              "    <tr>\n",
              "      <td>0</td>\n",
              "      <td>1.023762</td>\n",
              "      <td>2.149230</td>\n",
              "      <td>0.424834</td>\n",
              "      <td>00:32</td>\n",
              "    </tr>\n",
              "    <tr>\n",
              "      <td>1</td>\n",
              "      <td>1.183364</td>\n",
              "      <td>3.230545</td>\n",
              "      <td>0.352046</td>\n",
              "      <td>00:32</td>\n",
              "    </tr>\n",
              "    <tr>\n",
              "      <td>2</td>\n",
              "      <td>1.626408</td>\n",
              "      <td>2.985545</td>\n",
              "      <td>0.265224</td>\n",
              "      <td>00:32</td>\n",
              "    </tr>\n",
              "    <tr>\n",
              "      <td>3</td>\n",
              "      <td>1.769459</td>\n",
              "      <td>2.469400</td>\n",
              "      <td>0.360133</td>\n",
              "      <td>00:32</td>\n",
              "    </tr>\n",
              "    <tr>\n",
              "      <td>4</td>\n",
              "      <td>1.713362</td>\n",
              "      <td>2.523513</td>\n",
              "      <td>0.262607</td>\n",
              "      <td>00:32</td>\n",
              "    </tr>\n",
              "    <tr>\n",
              "      <td>5</td>\n",
              "      <td>1.460294</td>\n",
              "      <td>2.798985</td>\n",
              "      <td>0.295671</td>\n",
              "      <td>00:32</td>\n",
              "    </tr>\n",
              "    <tr>\n",
              "      <td>6</td>\n",
              "      <td>1.445482</td>\n",
              "      <td>2.278750</td>\n",
              "      <td>0.295671</td>\n",
              "      <td>00:32</td>\n",
              "    </tr>\n",
              "    <tr>\n",
              "      <td>7</td>\n",
              "      <td>1.394172</td>\n",
              "      <td>2.185858</td>\n",
              "      <td>0.394624</td>\n",
              "      <td>00:32</td>\n",
              "    </tr>\n",
              "    <tr>\n",
              "      <td>8</td>\n",
              "      <td>1.554979</td>\n",
              "      <td>2.281764</td>\n",
              "      <td>0.400571</td>\n",
              "      <td>00:33</td>\n",
              "    </tr>\n",
              "    <tr>\n",
              "      <td>9</td>\n",
              "      <td>1.876936</td>\n",
              "      <td>2.076117</td>\n",
              "      <td>0.431732</td>\n",
              "      <td>00:33</td>\n",
              "    </tr>\n",
              "  </tbody>\n",
              "</table>"
            ],
            "text/plain": [
              "<IPython.core.display.HTML object>"
            ]
          },
          "metadata": {}
        }
      ]
    },
    {
      "cell_type": "markdown",
      "metadata": {
        "id": "0bSPpD-DJI07"
      },
      "source": [
        "#### **Prediccion Manual**\n",
        "\n",
        "No me resulto el metodo tradicional para predecir con fastai, asi que lo hice mas o menos a mano.\n",
        "\n",
        "**Nota:** No consegui obtener los mismos resultados del accuracy."
      ]
    },
    {
      "cell_type": "code",
      "metadata": {
        "colab": {
          "base_uri": "https://localhost:8080/"
        },
        "id": "vpLVn5pfF5Ax",
        "outputId": "4e767fb8-a16b-4f46-abf7-66ff4ea486d6"
      },
      "source": [
        "x, y = dls.valid.one_batch()\n",
        "tensor_prueba = x[0]\n",
        "tensor_prueba = tensor_prueba.unsqueeze(0)\n",
        "tensor_prueba.shape"
      ],
      "execution_count": null,
      "outputs": [
        {
          "output_type": "execute_result",
          "data": {
            "text/plain": [
              "torch.Size([1, 3])"
            ]
          },
          "metadata": {},
          "execution_count": 55
        }
      ]
    },
    {
      "cell_type": "code",
      "metadata": {
        "colab": {
          "base_uri": "https://localhost:8080/"
        },
        "id": "coJ_WSKRFYMn",
        "outputId": "1592dc14-16c1-4bd0-c030-240ce6a41b08"
      },
      "source": [
        "prediccion = learn.model.forward(tensor_prueba)\n",
        "prediccion.shape"
      ],
      "execution_count": null,
      "outputs": [
        {
          "output_type": "execute_result",
          "data": {
            "text/plain": [
              "torch.Size([1, 30])"
            ]
          },
          "metadata": {},
          "execution_count": 56
        }
      ]
    },
    {
      "cell_type": "code",
      "metadata": {
        "colab": {
          "base_uri": "https://localhost:8080/",
          "height": 36
        },
        "id": "gvQfiUfBJENO",
        "outputId": "3225ce78-ea34-49cf-bc72-12c6ac0f3973"
      },
      "source": [
        "# Por ultimo, lo tengo que hacer es hacerlo pasar por la funcion softmax\n",
        "#funcion_salida = F.softmax\n",
        "#prediccion = funcion_salida(prediccion)\n",
        "prediccion = torch.argmax(prediccion)\n",
        "prediccion = vocab[prediccion]\n",
        "prediccion"
      ],
      "execution_count": null,
      "outputs": [
        {
          "output_type": "execute_result",
          "data": {
            "application/vnd.google.colaboratory.intrinsic+json": {
              "type": "string"
            },
            "text/plain": [
              "'eight'"
            ]
          },
          "metadata": {},
          "execution_count": 57
        }
      ]
    },
    {
      "cell_type": "code",
      "metadata": {
        "colab": {
          "base_uri": "https://localhost:8080/",
          "height": 36
        },
        "id": "7CFqwsFXNADD",
        "outputId": "98ea3b8c-2ab2-4a8b-898d-0f6dec0c6958"
      },
      "source": [
        "# este es el valor esperado (no acerto)\n",
        "vocab[y[0]]"
      ],
      "execution_count": null,
      "outputs": [
        {
          "output_type": "execute_result",
          "data": {
            "application/vnd.google.colaboratory.intrinsic+json": {
              "type": "string"
            },
            "text/plain": [
              "'eighty'"
            ]
          },
          "metadata": {},
          "execution_count": 58
        }
      ]
    },
    {
      "cell_type": "code",
      "metadata": {
        "id": "aA7tS2dWjOX2"
      },
      "source": [
        "funcion_salida = F.log_softmax\n"
      ],
      "execution_count": null,
      "outputs": []
    },
    {
      "cell_type": "code",
      "metadata": {
        "id": "Q-2RJqyCNTnU"
      },
      "source": [
        "def predict(tensor_prueba, num=False):\n",
        "  tensor_prueba = tensor_prueba.unsqueeze(0)\n",
        "  prediccion = learn.model.forward(tensor_prueba)\n",
        "  prediccion = funcion_salida(prediccion, dim=1)\n",
        "  prediccion = torch.argmax(prediccion)\n",
        "  if num == False:\n",
        "    prediccion = vocab[prediccion]\n",
        "  return prediccion"
      ],
      "execution_count": null,
      "outputs": []
    },
    {
      "cell_type": "code",
      "metadata": {
        "colab": {
          "base_uri": "https://localhost:8080/"
        },
        "id": "qsASE_i3N5O3",
        "outputId": "1fe47dd9-0bc0-4d7b-bac0-a6b0860c72f4"
      },
      "source": [
        "# para este caso si acerto\n",
        "tensor_prueba = x[2]\n",
        "valor_esperado = vocab[y[2]]\n",
        "valor_predicho = predict(tensor_prueba)\n",
        "print(f'tensor de entrada: {vocab[tensor_prueba]}')\n",
        "print(f'valor esperado: {valor_esperado}')\n",
        "print(f'valor predicho: {valor_predicho}')"
      ],
      "execution_count": null,
      "outputs": [
        {
          "output_type": "stream",
          "name": "stdout",
          "text": [
            "tensor de entrada: ['thousand', 'forty', 'three']\n",
            "valor esperado: .\n",
            "valor predicho: .\n"
          ]
        }
      ]
    },
    {
      "cell_type": "code",
      "metadata": {
        "colab": {
          "base_uri": "https://localhost:8080/"
        },
        "id": "fqD3n_Z7d6mg",
        "outputId": "65a0afcc-3628-49db-b1e3-f91e36896436"
      },
      "source": [
        "# por ultimo, y solo para corroborar que la funcion de prediccion esta funcionando\n",
        "# bien, lo que hare sera calcular el accuracy para el set de validacion (este deberia\n",
        "# calzar con el obtenido en el ultimo epoch del entrenamiento)\n",
        "\n",
        "# Aqui obtenemos todos los valores del conjunto de entrenamiento y los separamos \n",
        "# en x = inputs e y = target\n",
        "x = [dls.valid.items[i][0] for i in range(len(dls.valid.items))]\n",
        "y = [dls.valid.items[i][1] for i in range(len(dls.valid.items))]\n",
        "\n",
        "aciertos = 0\n",
        "for i in range(len(y)):\n",
        "  pred = predict(x[i], num=True)\n",
        "  target = y[i]\n",
        "  if pred == target:\n",
        "    aciertos += 1\n",
        "\n",
        "aciertos/len(y)\n",
        "## Curioso, no obtuve los mismo resultados al ultimo epoch en el accuracy\n",
        "## No me acuerdo si fastai utiliza todo el conjunto de validacion, o solo una muestra\n",
        "## Quiza la diferencia vaya por ahi."
      ],
      "execution_count": null,
      "outputs": [
        {
          "output_type": "execute_result",
          "data": {
            "text/plain": [
              "0.36988582302568984"
            ]
          },
          "metadata": {},
          "execution_count": 63
        }
      ]
    },
    {
      "cell_type": "markdown",
      "metadata": {
        "id": "XgAFTqmOInDy"
      },
      "source": [
        "### **Creating More Signal**\n",
        "\n",
        "Lo que vamos a hacer ahora es:\n",
        "\n",
        "1. Dejar la extension de la secuencia varaibles (se cambia de 3 a 16)\n",
        "2. Cambiar un poco la architectura del modelo. Ahora en lugar de recibir un solo valor de salida, se tiene un tensor de salida. Para esto, cambiamos el target con una cantidad de tokens igual al que tiene el input."
      ]
    },
    {
      "cell_type": "code",
      "metadata": {
        "id": "h3U2NbtlM5Ob"
      },
      "source": [
        "# sl -> Sequence Lengh (es esta ocacion lo ajustamos a 16)\n",
        "## hacemos la siguiente separacion (ejemplo)\n",
        "## input -> (0, 1, 2, 3, 4, 5, 6, 7, 8, 9, 10, 11, 12, 13, 14, 15)\n",
        "## target-> (1, 2, 3, 4, 5, 6, 7, 8, 9, 10, 11, 12, 13, 14, 15, 16)\n",
        "\n",
        "sl = 16\n",
        "seqs = L((tensor(nums[i:i+sl]), tensor(nums[i+1:i+sl+1]))\n",
        "         for i in range(0,len(nums)-sl-1,sl))\n",
        "cut = int(len(seqs) * 0.8)\n",
        "dls = DataLoaders.from_dsets(group_chunks(seqs[:cut], bs),\n",
        "                             group_chunks(seqs[cut:], bs),\n",
        "                             bs=bs, drop_last=True, shuffle=False)"
      ],
      "execution_count": null,
      "outputs": []
    },
    {
      "cell_type": "code",
      "metadata": {
        "colab": {
          "base_uri": "https://localhost:8080/"
        },
        "id": "Qq0eSDskM49O",
        "outputId": "48c36db4-3506-4544-9f83-85f093a4c672"
      },
      "source": [
        "# Asi queda\n",
        "[L(vocab[o] for o in s) for s in seqs[0]]"
      ],
      "execution_count": null,
      "outputs": [
        {
          "output_type": "execute_result",
          "data": {
            "text/plain": [
              "[(#16) ['one','.','two','.','three','.','four','.','five','.'...],\n",
              " (#16) ['.','two','.','three','.','four','.','five','.','six'...]]"
            ]
          },
          "metadata": {},
          "execution_count": 27
        }
      ]
    },
    {
      "cell_type": "code",
      "metadata": {
        "id": "80UTlVBHM4pW"
      },
      "source": [
        "# Agregamos unas pequeñas variaciones al modelo\n",
        "class LMModel4(Module):\n",
        "    def __init__(self, vocab_sz, n_hidden):\n",
        "        self.i_h = nn.Embedding(vocab_sz, n_hidden)  \n",
        "        self.h_h = nn.Linear(n_hidden, n_hidden)     \n",
        "        self.h_o = nn.Linear(n_hidden,vocab_sz)\n",
        "        self.h = 0\n",
        "        \n",
        "    def forward(self, x):\n",
        "        outs = []  # Aqui agregamos una lista para ir guardando las salidas\n",
        "        for i in range(sl):\n",
        "            self.h = self.h + self.i_h(x[:,i])\n",
        "            self.h = F.relu(self.h_h(self.h))\n",
        "            outs.append(self.h_o(self.h))\n",
        "        self.h = self.h.detach()\n",
        "        return torch.stack(outs, dim=1) # Aqui transformamos esta lista en tensor\n",
        "    \n",
        "    def reset(self): self.h = 0"
      ],
      "execution_count": null,
      "outputs": []
    },
    {
      "cell_type": "code",
      "metadata": {
        "id": "ia95IeqkM4Lo"
      },
      "source": [
        "# Tenemos que cambiar la funcion de salida\n",
        "# tenemos que dejar, tanto la salida del modelo como el target en un formato similar\n",
        "def loss_func(inp, targ):\n",
        "    return F.cross_entropy(inp.view(-1, len(vocab)), targ.view(-1))"
      ],
      "execution_count": null,
      "outputs": []
    },
    {
      "cell_type": "code",
      "metadata": {
        "colab": {
          "base_uri": "https://localhost:8080/",
          "height": 789
        },
        "id": "jpbYjQHWM361",
        "outputId": "bc4fc638-24da-44ed-fe43-cd88eb3c9747"
      },
      "source": [
        "learn = Learner(dls, LMModel4(len(vocab), 64), loss_func=loss_func,\n",
        "                metrics=accuracy, cbs=ModelResetter)\n",
        "lr = learn.lr_find()[0]\n",
        "learn.fit_one_cycle(15, lr)"
      ],
      "execution_count": null,
      "outputs": [
        {
          "output_type": "display_data",
          "data": {
            "text/html": [
              ""
            ],
            "text/plain": [
              "<IPython.core.display.HTML object>"
            ]
          },
          "metadata": {}
        },
        {
          "output_type": "display_data",
          "data": {
            "text/html": [
              "<table border=\"1\" class=\"dataframe\">\n",
              "  <thead>\n",
              "    <tr style=\"text-align: left;\">\n",
              "      <th>epoch</th>\n",
              "      <th>train_loss</th>\n",
              "      <th>valid_loss</th>\n",
              "      <th>accuracy</th>\n",
              "      <th>time</th>\n",
              "    </tr>\n",
              "  </thead>\n",
              "  <tbody>\n",
              "    <tr>\n",
              "      <td>0</td>\n",
              "      <td>3.358870</td>\n",
              "      <td>3.277323</td>\n",
              "      <td>0.132324</td>\n",
              "      <td>00:01</td>\n",
              "    </tr>\n",
              "    <tr>\n",
              "      <td>1</td>\n",
              "      <td>2.775333</td>\n",
              "      <td>2.100921</td>\n",
              "      <td>0.435384</td>\n",
              "      <td>00:00</td>\n",
              "    </tr>\n",
              "    <tr>\n",
              "      <td>2</td>\n",
              "      <td>1.967965</td>\n",
              "      <td>1.870205</td>\n",
              "      <td>0.449382</td>\n",
              "      <td>00:01</td>\n",
              "    </tr>\n",
              "    <tr>\n",
              "      <td>3</td>\n",
              "      <td>1.595540</td>\n",
              "      <td>1.804942</td>\n",
              "      <td>0.478923</td>\n",
              "      <td>00:00</td>\n",
              "    </tr>\n",
              "    <tr>\n",
              "      <td>4</td>\n",
              "      <td>1.372554</td>\n",
              "      <td>1.744057</td>\n",
              "      <td>0.522786</td>\n",
              "      <td>00:01</td>\n",
              "    </tr>\n",
              "    <tr>\n",
              "      <td>5</td>\n",
              "      <td>1.229306</td>\n",
              "      <td>1.749440</td>\n",
              "      <td>0.548096</td>\n",
              "      <td>00:01</td>\n",
              "    </tr>\n",
              "    <tr>\n",
              "      <td>6</td>\n",
              "      <td>1.119603</td>\n",
              "      <td>1.756930</td>\n",
              "      <td>0.548177</td>\n",
              "      <td>00:00</td>\n",
              "    </tr>\n",
              "    <tr>\n",
              "      <td>7</td>\n",
              "      <td>1.040872</td>\n",
              "      <td>1.639826</td>\n",
              "      <td>0.564209</td>\n",
              "      <td>00:00</td>\n",
              "    </tr>\n",
              "    <tr>\n",
              "      <td>8</td>\n",
              "      <td>0.967316</td>\n",
              "      <td>1.668041</td>\n",
              "      <td>0.573079</td>\n",
              "      <td>00:01</td>\n",
              "    </tr>\n",
              "    <tr>\n",
              "      <td>9</td>\n",
              "      <td>0.925106</td>\n",
              "      <td>1.667412</td>\n",
              "      <td>0.579753</td>\n",
              "      <td>00:01</td>\n",
              "    </tr>\n",
              "    <tr>\n",
              "      <td>10</td>\n",
              "      <td>0.899616</td>\n",
              "      <td>1.637196</td>\n",
              "      <td>0.567952</td>\n",
              "      <td>00:00</td>\n",
              "    </tr>\n",
              "    <tr>\n",
              "      <td>11</td>\n",
              "      <td>0.866723</td>\n",
              "      <td>1.661210</td>\n",
              "      <td>0.575033</td>\n",
              "      <td>00:01</td>\n",
              "    </tr>\n",
              "    <tr>\n",
              "      <td>12</td>\n",
              "      <td>0.838973</td>\n",
              "      <td>1.678091</td>\n",
              "      <td>0.580078</td>\n",
              "      <td>00:00</td>\n",
              "    </tr>\n",
              "    <tr>\n",
              "      <td>13</td>\n",
              "      <td>0.823956</td>\n",
              "      <td>1.687132</td>\n",
              "      <td>0.580078</td>\n",
              "      <td>00:01</td>\n",
              "    </tr>\n",
              "    <tr>\n",
              "      <td>14</td>\n",
              "      <td>0.816405</td>\n",
              "      <td>1.684640</td>\n",
              "      <td>0.579183</td>\n",
              "      <td>00:01</td>\n",
              "    </tr>\n",
              "  </tbody>\n",
              "</table>"
            ],
            "text/plain": [
              "<IPython.core.display.HTML object>"
            ]
          },
          "metadata": {}
        },
        {
          "output_type": "display_data",
          "data": {
            "image/png": "[encoded data removed]",
            "text/plain": [
              "<Figure size 432x288 with 1 Axes>"
            ]
          },
          "metadata": {
            "needs_background": "light"
          }
        }
      ]
    },
    {
      "cell_type": "markdown",
      "metadata": {
        "id": "8atWbLTcCsGi"
      },
      "source": [
        "#### **Predicciones a mano**\n",
        "\n",
        "Me volvio a suceder que los aciertos en las predicciones no me calzan con los obtenidos del entrenamiento, aunque si se pudo observar una mejora en relacion a los calculados a mano del paso anterior."
      ]
    },
    {
      "cell_type": "code",
      "metadata": {
        "colab": {
          "base_uri": "https://localhost:8080/"
        },
        "id": "B_aKH9k1CrX1",
        "outputId": "f2083732-0b25-4a85-8597-dff555d57c26"
      },
      "source": [
        "valid_set = learn.dls.valid.items\n",
        "valid_set[0]"
      ],
      "execution_count": null,
      "outputs": [
        {
          "output_type": "execute_result",
          "data": {
            "text/plain": [
              "(tensor([29, 26,  3,  1,  8, 29, 26,  4,  1,  8, 29, 26,  5,  1,  8, 29]),\n",
              " tensor([26,  3,  1,  8, 29, 26,  4,  1,  8, 29, 26,  5,  1,  8, 29, 26]))"
            ]
          },
          "metadata": {},
          "execution_count": 31
        }
      ]
    },
    {
      "cell_type": "code",
      "metadata": {
        "colab": {
          "base_uri": "https://localhost:8080/"
        },
        "id": "zfuvA-twC93x",
        "outputId": "2aaad0fb-3ffa-4fcc-8a84-290a6345c715"
      },
      "source": [
        "total = len(valid_set)\n",
        "x = [valid_set[i][0] for i in range(total)]\n",
        "y = [valid_set[i][1] for i in range(total)]\n",
        "x[0]"
      ],
      "execution_count": null,
      "outputs": [
        {
          "output_type": "execute_result",
          "data": {
            "text/plain": [
              "tensor([29, 26,  3,  1,  8, 29, 26,  4,  1,  8, 29, 26,  5,  1,  8, 29])"
            ]
          },
          "metadata": {},
          "execution_count": 32
        }
      ]
    },
    {
      "cell_type": "code",
      "metadata": {
        "id": "C3cBfAUCFQZ1"
      },
      "source": [
        "funcion_salida = F.softmax"
      ],
      "execution_count": null,
      "outputs": []
    },
    {
      "cell_type": "code",
      "metadata": {
        "colab": {
          "base_uri": "https://localhost:8080/"
        },
        "id": "iqHSjuhnFe8A",
        "outputId": "1fc6d4d0-e25b-4c7d-af69-9e1160b1bc15"
      },
      "source": [
        "tensor_prueba = x[0].unsqueeze(0)\n",
        "res = learn.model.forward(tensor_prueba)\n",
        "res = torch.argmax(res, dim=2)\n",
        "res.shape"
      ],
      "execution_count": null,
      "outputs": [
        {
          "output_type": "execute_result",
          "data": {
            "text/plain": [
              "torch.Size([1, 16])"
            ]
          },
          "metadata": {},
          "execution_count": 34
        }
      ]
    },
    {
      "cell_type": "code",
      "metadata": {
        "id": "NcFKVBW2DzUb"
      },
      "source": [
        "def new_predict(tensor_prueba, num=False):\n",
        "  tensor_prueba = tensor_prueba.unsqueeze(0)\n",
        "  prediccion = learn.model.forward(tensor_prueba)\n",
        "  prediccion = funcion_salida(prediccion, dim=2)\n",
        "  prediccion = torch.argmax(prediccion, dim=2)\n",
        "  prediccion = prediccion.view(-1)\n",
        "  if num == False:\n",
        "    prediccion = vocab[prediccion]\n",
        "  return prediccion[-1]\n"
      ],
      "execution_count": null,
      "outputs": []
    },
    {
      "cell_type": "code",
      "metadata": {
        "id": "_TCAse-iEWM_",
        "colab": {
          "base_uri": "https://localhost:8080/"
        },
        "outputId": "250a7f1d-fd04-4e9f-d2dd-d3c96adf5880"
      },
      "source": [
        "aciertos = 0\n",
        "for i in range(total):\n",
        "  pred = new_predict(x[i], num=True)\n",
        "  target = y[i][-1]\n",
        "  #print(f'prediccion: {pred}')\n",
        "  #print(f'target: {target}')\n",
        "  if pred == target:\n",
        "    aciertos += 1\n",
        "aciertos/len(y)"
      ],
      "execution_count": null,
      "outputs": [
        {
          "output_type": "execute_result",
          "data": {
            "text/plain": [
              "0.5065104166666666"
            ]
          },
          "metadata": {},
          "execution_count": 36
        }
      ]
    },
    {
      "cell_type": "markdown",
      "metadata": {
        "id": "OvBWnVslImt_"
      },
      "source": [
        "## **Multilayer RNNs**\n",
        "\n",
        "La forma en la que estas trabajan es utilizando la salida de una RNN para alimentar a otra RNN.\n",
        "\n",
        "Mas abajo, puede quedar mas claro los avances que hemos realizado hasta el momento."
      ]
    },
    {
      "cell_type": "code",
      "metadata": {
        "colab": {
          "base_uri": "https://localhost:8080/",
          "height": 206
        },
        "id": "GnoRbobK2TWK",
        "outputId": "ce245d32-ace2-4756-dc73-08e60d9c8aa8"
      },
      "source": [
        "print('                                   RNN (1 signal)')\n",
        "gv('''word1 -> 1;\n",
        "      word2 -> 2;\n",
        "      word3 -> 3;\n",
        "      1 -> 2;\n",
        "      2 -> 3;\n",
        "      3 -> resp''')\n"
      ],
      "execution_count": null,
      "outputs": [
        {
          "output_type": "stream",
          "name": "stdout",
          "text": [
            "                                   RNN (1 signal)\n"
          ]
        },
        {
          "output_type": "execute_result",
          "data": {
            "text/plain": [
              "<graphviz.files.Source at 0x7f9c88a718d0>"
            ],
            "image/svg+xml": "<?xml version=\"1.0\" encoding=\"UTF-8\" standalone=\"no\"?>\n<!DOCTYPE svg PUBLIC \"-//W3C//DTD SVG 1.1//EN\"\n \"http://www.w3.org/Graphics/SVG/1.1/DTD/svg11.dtd\">\n<!-- Generated by graphviz version 2.40.1 (20161225.0304)\n -->\n<!-- Title: G Pages: 1 -->\n<svg width=\"471pt\" height=\"125pt\"\n viewBox=\"0.00 0.00 470.58 125.00\" xmlns=\"http://www.w3.org/2000/svg\" xmlns:xlink=\"http://www.w3.org/1999/xlink\">\n<g id=\"graph0\" class=\"graph\" transform=\"scale(1 1) rotate(0) translate(4 121)\">\n<title>G</title>\n<polygon fill=\"#ffffff\" stroke=\"transparent\" points=\"-4,4 -4,-121 466.5813,-121 466.5813,4 -4,4\"/>\n<!-- word1 -->\n<g id=\"node1\" class=\"node\">\n<title>word1</title>\n<ellipse fill=\"none\" stroke=\"#000000\" cx=\"35.0969\" cy=\"-99\" rx=\"35.194\" ry=\"18\"/>\n<text text-anchor=\"middle\" x=\"35.0969\" y=\"-95.3\" font-family=\"Times,serif\" font-size=\"14.00\" fill=\"#000000\">word1</text>\n</g>\n<!-- 1 -->\n<g id=\"node2\" class=\"node\">\n<title>1</title>\n<ellipse fill=\"none\" stroke=\"#000000\" cx=\"141.2907\" cy=\"-99\" rx=\"27\" ry=\"18\"/>\n<text text-anchor=\"middle\" x=\"141.2907\" y=\"-95.3\" font-family=\"Times,serif\" font-size=\"14.00\" fill=\"#000000\">1</text>\n</g>\n<!-- word1&#45;&gt;1 -->\n<g id=\"edge1\" class=\"edge\">\n<title>word1&#45;&gt;1</title>\n<path fill=\"none\" stroke=\"#000000\" d=\"M70.4579,-99C81.2485,-99 93.1433,-99 104.0542,-99\"/>\n<polygon fill=\"#000000\" stroke=\"#000000\" points=\"104.1456,-102.5001 114.1456,-99 104.1456,-95.5001 104.1456,-102.5001\"/>\n</g>\n<!-- 2 -->\n<g id=\"node4\" class=\"node\">\n<title>2</title>\n<ellipse fill=\"none\" stroke=\"#000000\" cx=\"247.4844\" cy=\"-72\" rx=\"27\" ry=\"18\"/>\n<text text-anchor=\"middle\" x=\"247.4844\" y=\"-68.3\" font-family=\"Times,serif\" font-size=\"14.00\" fill=\"#000000\">2</text>\n</g>\n<!-- 1&#45;&gt;2 -->\n<g id=\"edge4\" class=\"edge\">\n<title>1&#45;&gt;2</title>\n<path fill=\"none\" stroke=\"#000000\" d=\"M166.7267,-92.5328C180.3871,-89.0597 197.4363,-84.7248 212.3447,-80.9343\"/>\n<polygon fill=\"#000000\" stroke=\"#000000\" points=\"213.4267,-84.2707 222.2559,-78.4144 211.7018,-77.4865 213.4267,-84.2707\"/>\n</g>\n<!-- word2 -->\n<g id=\"node3\" class=\"node\">\n<title>word2</title>\n<ellipse fill=\"none\" stroke=\"#000000\" cx=\"141.2907\" cy=\"-45\" rx=\"35.194\" ry=\"18\"/>\n<text text-anchor=\"middle\" x=\"141.2907\" y=\"-41.3\" font-family=\"Times,serif\" font-size=\"14.00\" fill=\"#000000\">word2</text>\n</g>\n<!-- word2&#45;&gt;2 -->\n<g id=\"edge2\" class=\"edge\">\n<title>word2&#45;&gt;2</title>\n<path fill=\"none\" stroke=\"#000000\" d=\"M172.8648,-53.0278C185.2148,-56.1678 199.4348,-59.7833 212.1269,-63.0103\"/>\n<polygon fill=\"#000000\" stroke=\"#000000\" points=\"211.3591,-66.4263 221.9132,-65.4985 213.0841,-59.6422 211.3591,-66.4263\"/>\n</g>\n<!-- 3 -->\n<g id=\"node6\" class=\"node\">\n<title>3</title>\n<ellipse fill=\"none\" stroke=\"#000000\" cx=\"345.5813\" cy=\"-45\" rx=\"27\" ry=\"18\"/>\n<text text-anchor=\"middle\" x=\"345.5813\" y=\"-41.3\" font-family=\"Times,serif\" font-size=\"14.00\" fill=\"#000000\">3</text>\n</g>\n<!-- 2&#45;&gt;3 -->\n<g id=\"edge5\" class=\"edge\">\n<title>2&#45;&gt;3</title>\n<path fill=\"none\" stroke=\"#000000\" d=\"M272.4922,-65.1169C284.1379,-61.9116 298.1858,-58.045 310.841,-54.5618\"/>\n<polygon fill=\"#000000\" stroke=\"#000000\" points=\"311.9065,-57.8988 320.6192,-51.8705 310.0489,-51.1498 311.9065,-57.8988\"/>\n</g>\n<!-- word3 -->\n<g id=\"node5\" class=\"node\">\n<title>word3</title>\n<ellipse fill=\"none\" stroke=\"#000000\" cx=\"247.4844\" cy=\"-18\" rx=\"35.194\" ry=\"18\"/>\n<text text-anchor=\"middle\" x=\"247.4844\" y=\"-14.3\" font-family=\"Times,serif\" font-size=\"14.00\" fill=\"#000000\">word3</text>\n</g>\n<!-- word3&#45;&gt;3 -->\n<g id=\"edge3\" class=\"edge\">\n<title>word3&#45;&gt;3</title>\n<path fill=\"none\" stroke=\"#000000\" d=\"M278.5229,-26.543C288.7318,-29.3529 300.1495,-32.4954 310.6291,-35.3798\"/>\n<polygon fill=\"#000000\" stroke=\"#000000\" points=\"309.7486,-38.7676 320.3189,-38.0468 311.6063,-32.0185 309.7486,-38.7676\"/>\n</g>\n<!-- resp -->\n<g id=\"node7\" class=\"node\">\n<title>resp</title>\n<ellipse fill=\"none\" stroke=\"#000000\" cx=\"435.5813\" cy=\"-45\" rx=\"27\" ry=\"18\"/>\n<text text-anchor=\"middle\" x=\"435.5813\" y=\"-41.3\" font-family=\"Times,serif\" font-size=\"14.00\" fill=\"#000000\">resp</text>\n</g>\n<!-- 3&#45;&gt;resp -->\n<g id=\"edge6\" class=\"edge\">\n<title>3&#45;&gt;resp</title>\n<path fill=\"none\" stroke=\"#000000\" d=\"M372.5843,-45C380.609,-45 389.5479,-45 398.1122,-45\"/>\n<polygon fill=\"#000000\" stroke=\"#000000\" points=\"398.2864,-48.5001 408.2863,-45 398.2863,-41.5001 398.2864,-48.5001\"/>\n</g>\n</g>\n</svg>\n"
          },
          "metadata": {},
          "execution_count": 9
        }
      ]
    },
    {
      "cell_type": "code",
      "metadata": {
        "colab": {
          "base_uri": "https://localhost:8080/",
          "height": 242
        },
        "id": "qvPYyNDS2uv_",
        "outputId": "db755eee-e545-40af-8df8-4b7812b9cdf7"
      },
      "source": [
        "print('                                   RNN (3 signals)')\n",
        "gv('''word1 -> 1; word2 -> 2; word3 -> 3; 1 -> 2;\n",
        "      2 -> 3; 1 -> resp1; 2 -> resp2; 3 -> resp3''')\n"
      ],
      "execution_count": null,
      "outputs": [
        {
          "output_type": "stream",
          "name": "stdout",
          "text": [
            "                                   RNN (3 signals)\n"
          ]
        },
        {
          "output_type": "execute_result",
          "data": {
            "text/plain": [
              "<graphviz.files.Source at 0x7f9c88a0d490>"
            ],
            "image/svg+xml": "<?xml version=\"1.0\" encoding=\"UTF-8\" standalone=\"no\"?>\n<!DOCTYPE svg PUBLIC \"-//W3C//DTD SVG 1.1//EN\"\n \"http://www.w3.org/Graphics/SVG/1.1/DTD/svg11.dtd\">\n<!-- Generated by graphviz version 2.40.1 (20161225.0304)\n -->\n<!-- Title: G Pages: 1 -->\n<svg width=\"485pt\" height=\"152pt\"\n viewBox=\"0.00 0.00 484.77 152.00\" xmlns=\"http://www.w3.org/2000/svg\" xmlns:xlink=\"http://www.w3.org/1999/xlink\">\n<g id=\"graph0\" class=\"graph\" transform=\"scale(1 1) rotate(0) translate(4 148)\">\n<title>G</title>\n<polygon fill=\"#ffffff\" stroke=\"transparent\" points=\"-4,4 -4,-148 480.7705,-148 480.7705,4 -4,4\"/>\n<!-- word1 -->\n<g id=\"node1\" class=\"node\">\n<title>word1</title>\n<ellipse fill=\"none\" stroke=\"#000000\" cx=\"35.0969\" cy=\"-72\" rx=\"35.194\" ry=\"18\"/>\n<text text-anchor=\"middle\" x=\"35.0969\" y=\"-68.3\" font-family=\"Times,serif\" font-size=\"14.00\" fill=\"#000000\">word1</text>\n</g>\n<!-- 1 -->\n<g id=\"node2\" class=\"node\">\n<title>1</title>\n<ellipse fill=\"none\" stroke=\"#000000\" cx=\"141.2907\" cy=\"-72\" rx=\"27\" ry=\"18\"/>\n<text text-anchor=\"middle\" x=\"141.2907\" y=\"-68.3\" font-family=\"Times,serif\" font-size=\"14.00\" fill=\"#000000\">1</text>\n</g>\n<!-- word1&#45;&gt;1 -->\n<g id=\"edge1\" class=\"edge\">\n<title>word1&#45;&gt;1</title>\n<path fill=\"none\" stroke=\"#000000\" d=\"M70.4579,-72C81.2485,-72 93.1433,-72 104.0542,-72\"/>\n<polygon fill=\"#000000\" stroke=\"#000000\" points=\"104.1456,-75.5001 114.1456,-72 104.1456,-68.5001 104.1456,-75.5001\"/>\n</g>\n<!-- 2 -->\n<g id=\"node4\" class=\"node\">\n<title>2</title>\n<ellipse fill=\"none\" stroke=\"#000000\" cx=\"247.4844\" cy=\"-126\" rx=\"27\" ry=\"18\"/>\n<text text-anchor=\"middle\" x=\"247.4844\" y=\"-122.3\" font-family=\"Times,serif\" font-size=\"14.00\" fill=\"#000000\">2</text>\n</g>\n<!-- 1&#45;&gt;2 -->\n<g id=\"edge4\" class=\"edge\">\n<title>1&#45;&gt;2</title>\n<path fill=\"none\" stroke=\"#000000\" d=\"M162.7806,-82.9277C178.2236,-90.7806 199.2753,-101.4854 216.5278,-110.2584\"/>\n<polygon fill=\"#000000\" stroke=\"#000000\" points=\"215.1618,-113.4903 225.662,-114.9032 218.3347,-107.2507 215.1618,-113.4903\"/>\n</g>\n<!-- resp1 -->\n<g id=\"node7\" class=\"node\">\n<title>resp1</title>\n<ellipse fill=\"none\" stroke=\"#000000\" cx=\"247.4844\" cy=\"-72\" rx=\"30.5947\" ry=\"18\"/>\n<text text-anchor=\"middle\" x=\"247.4844\" y=\"-68.3\" font-family=\"Times,serif\" font-size=\"14.00\" fill=\"#000000\">resp1</text>\n</g>\n<!-- 1&#45;&gt;resp1 -->\n<g id=\"edge6\" class=\"edge\">\n<title>1&#45;&gt;resp1</title>\n<path fill=\"none\" stroke=\"#000000\" d=\"M168.3626,-72C179.9998,-72 193.8527,-72 206.6903,-72\"/>\n<polygon fill=\"#000000\" stroke=\"#000000\" points=\"206.7064,-75.5001 216.7064,-72 206.7064,-68.5001 206.7064,-75.5001\"/>\n</g>\n<!-- word2 -->\n<g id=\"node3\" class=\"node\">\n<title>word2</title>\n<ellipse fill=\"none\" stroke=\"#000000\" cx=\"141.2907\" cy=\"-126\" rx=\"35.194\" ry=\"18\"/>\n<text text-anchor=\"middle\" x=\"141.2907\" y=\"-122.3\" font-family=\"Times,serif\" font-size=\"14.00\" fill=\"#000000\">word2</text>\n</g>\n<!-- word2&#45;&gt;2 -->\n<g id=\"edge2\" class=\"edge\">\n<title>word2&#45;&gt;2</title>\n<path fill=\"none\" stroke=\"#000000\" d=\"M176.6516,-126C187.4423,-126 199.3371,-126 210.248,-126\"/>\n<polygon fill=\"#000000\" stroke=\"#000000\" points=\"210.3394,-129.5001 220.3394,-126 210.3393,-122.5001 210.3394,-129.5001\"/>\n</g>\n<!-- 3 -->\n<g id=\"node6\" class=\"node\">\n<title>3</title>\n<ellipse fill=\"none\" stroke=\"#000000\" cx=\"349.1286\" cy=\"-45\" rx=\"27\" ry=\"18\"/>\n<text text-anchor=\"middle\" x=\"349.1286\" y=\"-41.3\" font-family=\"Times,serif\" font-size=\"14.00\" fill=\"#000000\">3</text>\n</g>\n<!-- 2&#45;&gt;3 -->\n<g id=\"edge5\" class=\"edge\">\n<title>2&#45;&gt;3</title>\n<path fill=\"none\" stroke=\"#000000\" d=\"M265.4086,-112.3535C270.9385,-108.1052 277.032,-103.3849 282.5813,-99 296.3347,-88.1326 311.5233,-75.8311 323.9133,-65.717\"/>\n<polygon fill=\"#000000\" stroke=\"#000000\" points=\"326.4675,-68.1495 331.9919,-59.1089 322.0355,-62.7313 326.4675,-68.1495\"/>\n</g>\n<!-- resp2 -->\n<g id=\"node8\" class=\"node\">\n<title>resp2</title>\n<ellipse fill=\"none\" stroke=\"#000000\" cx=\"349.1286\" cy=\"-126\" rx=\"30.5947\" ry=\"18\"/>\n<text text-anchor=\"middle\" x=\"349.1286\" y=\"-122.3\" font-family=\"Times,serif\" font-size=\"14.00\" fill=\"#000000\">resp2</text>\n</g>\n<!-- 2&#45;&gt;resp2 -->\n<g id=\"edge7\" class=\"edge\">\n<title>2&#45;&gt;resp2</title>\n<path fill=\"none\" stroke=\"#000000\" d=\"M274.7232,-126C284.9884,-126 296.9029,-126 308.1489,-126\"/>\n<polygon fill=\"#000000\" stroke=\"#000000\" points=\"308.2224,-129.5001 318.2223,-126 308.2223,-122.5001 308.2224,-129.5001\"/>\n</g>\n<!-- word3 -->\n<g id=\"node5\" class=\"node\">\n<title>word3</title>\n<ellipse fill=\"none\" stroke=\"#000000\" cx=\"247.4844\" cy=\"-18\" rx=\"35.194\" ry=\"18\"/>\n<text text-anchor=\"middle\" x=\"247.4844\" y=\"-14.3\" font-family=\"Times,serif\" font-size=\"14.00\" fill=\"#000000\">word3</text>\n</g>\n<!-- word3&#45;&gt;3 -->\n<g id=\"edge3\" class=\"edge\">\n<title>word3&#45;&gt;3</title>\n<path fill=\"none\" stroke=\"#000000\" d=\"M278.8104,-26.3212C289.999,-29.2933 302.6736,-32.66 314.1504,-35.7086\"/>\n<polygon fill=\"#000000\" stroke=\"#000000\" points=\"313.2968,-39.1032 323.8602,-38.2879 315.094,-32.3378 313.2968,-39.1032\"/>\n</g>\n<!-- resp3 -->\n<g id=\"node9\" class=\"node\">\n<title>resp3</title>\n<ellipse fill=\"none\" stroke=\"#000000\" cx=\"446.2232\" cy=\"-45\" rx=\"30.5947\" ry=\"18\"/>\n<text text-anchor=\"middle\" x=\"446.2232\" y=\"-41.3\" font-family=\"Times,serif\" font-size=\"14.00\" fill=\"#000000\">resp3</text>\n</g>\n<!-- 3&#45;&gt;resp3 -->\n<g id=\"edge8\" class=\"edge\">\n<title>3&#45;&gt;resp3</title>\n<path fill=\"none\" stroke=\"#000000\" d=\"M376.1749,-45C385.2537,-45 395.5896,-45 405.4816,-45\"/>\n<polygon fill=\"#000000\" stroke=\"#000000\" points=\"405.5581,-48.5001 415.5581,-45 405.5581,-41.5001 405.5581,-48.5001\"/>\n</g>\n</g>\n</svg>\n"
          },
          "metadata": {},
          "execution_count": 11
        }
      ]
    },
    {
      "cell_type": "code",
      "metadata": {
        "colab": {
          "base_uri": "https://localhost:8080/",
          "height": 283
        },
        "id": "vljX9jJPzLcr",
        "outputId": "35e5715e-df91-4b88-8b39-9a0108477865"
      },
      "source": [
        "# Aqui podemos notar que agregamos una capa adicional (4, 5, 6)\n",
        "print('                                   Multilayer RNNS (2 capas)')\n",
        "gv('''word1 -> 1; word2 -> 2; word3 -> 3; 1 -> 2[label=h];\n",
        "      2 -> 3[label=h]; 1 -> 4[label=res]; 2 -> 5[label=res]; 3 -> 6[label=res]; 4 -> 5[label=h];\n",
        "      5 -> 6[label=h]; 4 -> resp1; 5 -> resp2; 6 -> resp3''')"
      ],
      "execution_count": null,
      "outputs": [
        {
          "output_type": "stream",
          "name": "stdout",
          "text": [
            "                                   Multilayer RNNS (2 capas)\n"
          ]
        },
        {
          "output_type": "execute_result",
          "data": {
            "text/plain": [
              "<graphviz.files.Source at 0x7f9c88a6b710>"
            ],
            "image/svg+xml": "<?xml version=\"1.0\" encoding=\"UTF-8\" standalone=\"no\"?>\n<!DOCTYPE svg PUBLIC \"-//W3C//DTD SVG 1.1//EN\"\n \"http://www.w3.org/Graphics/SVG/1.1/DTD/svg11.dtd\">\n<!-- Generated by graphviz version 2.40.1 (20161225.0304)\n -->\n<!-- Title: G Pages: 1 -->\n<svg width=\"632pt\" height=\"183pt\"\n viewBox=\"0.00 0.00 631.87 183.00\" xmlns=\"http://www.w3.org/2000/svg\" xmlns:xlink=\"http://www.w3.org/1999/xlink\">\n<g id=\"graph0\" class=\"graph\" transform=\"scale(1 1) rotate(0) translate(4 179)\">\n<title>G</title>\n<polygon fill=\"#ffffff\" stroke=\"transparent\" points=\"-4,4 -4,-179 627.8651,-179 627.8651,4 -4,4\"/>\n<!-- word1 -->\n<g id=\"node1\" class=\"node\">\n<title>word1</title>\n<ellipse fill=\"none\" stroke=\"#000000\" cx=\"35.0969\" cy=\"-126\" rx=\"35.194\" ry=\"18\"/>\n<text text-anchor=\"middle\" x=\"35.0969\" y=\"-122.3\" font-family=\"Times,serif\" font-size=\"14.00\" fill=\"#000000\">word1</text>\n</g>\n<!-- 1 -->\n<g id=\"node2\" class=\"node\">\n<title>1</title>\n<ellipse fill=\"none\" stroke=\"#000000\" cx=\"142.2907\" cy=\"-126\" rx=\"27\" ry=\"18\"/>\n<text text-anchor=\"middle\" x=\"142.2907\" y=\"-122.3\" font-family=\"Times,serif\" font-size=\"14.00\" fill=\"#000000\">1</text>\n</g>\n<!-- word1&#45;&gt;1 -->\n<g id=\"edge1\" class=\"edge\">\n<title>word1&#45;&gt;1</title>\n<path fill=\"none\" stroke=\"#000000\" d=\"M70.1961,-126C81.4157,-126 93.868,-126 105.223,-126\"/>\n<polygon fill=\"#000000\" stroke=\"#000000\" points=\"105.2758,-129.5001 115.2758,-126 105.2757,-122.5001 105.2758,-129.5001\"/>\n</g>\n<!-- 2 -->\n<g id=\"node4\" class=\"node\">\n<title>2</title>\n<ellipse fill=\"none\" stroke=\"#000000\" cx=\"264.4844\" cy=\"-81\" rx=\"27\" ry=\"18\"/>\n<text text-anchor=\"middle\" x=\"264.4844\" y=\"-77.3\" font-family=\"Times,serif\" font-size=\"14.00\" fill=\"#000000\">2</text>\n</g>\n<!-- 1&#45;&gt;2 -->\n<g id=\"edge4\" class=\"edge\">\n<title>1&#45;&gt;2</title>\n<path fill=\"none\" stroke=\"#000000\" d=\"M166.1409,-117.2167C184.644,-110.4026 210.5172,-100.8744 231.0813,-93.3013\"/>\n<polygon fill=\"#000000\" stroke=\"#000000\" points=\"232.52,-96.5013 240.6943,-89.7611 230.1009,-89.9326 232.52,-96.5013\"/>\n<text text-anchor=\"middle\" x=\"203.3875\" y=\"-109.8\" font-family=\"Times,serif\" font-size=\"14.00\" fill=\"#000000\">h</text>\n</g>\n<!-- 4 -->\n<g id=\"node7\" class=\"node\">\n<title>4</title>\n<ellipse fill=\"none\" stroke=\"#000000\" cx=\"264.4844\" cy=\"-135\" rx=\"27\" ry=\"18\"/>\n<text text-anchor=\"middle\" x=\"264.4844\" y=\"-131.3\" font-family=\"Times,serif\" font-size=\"14.00\" fill=\"#000000\">4</text>\n</g>\n<!-- 1&#45;&gt;4 -->\n<g id=\"edge6\" class=\"edge\">\n<title>1&#45;&gt;4</title>\n<path fill=\"none\" stroke=\"#000000\" d=\"M169.4094,-127.9974C186.4159,-129.25 208.5725,-130.8819 227.2178,-132.2552\"/>\n<polygon fill=\"#000000\" stroke=\"#000000\" points=\"227.2114,-135.7641 237.4415,-133.0082 227.7256,-128.783 227.2114,-135.7641\"/>\n<text text-anchor=\"middle\" x=\"203.3875\" y=\"-134.8\" font-family=\"Times,serif\" font-size=\"14.00\" fill=\"#000000\">res</text>\n</g>\n<!-- word2 -->\n<g id=\"node3\" class=\"node\">\n<title>word2</title>\n<ellipse fill=\"none\" stroke=\"#000000\" cx=\"142.2907\" cy=\"-64\" rx=\"35.194\" ry=\"18\"/>\n<text text-anchor=\"middle\" x=\"142.2907\" y=\"-60.3\" font-family=\"Times,serif\" font-size=\"14.00\" fill=\"#000000\">word2</text>\n</g>\n<!-- word2&#45;&gt;2 -->\n<g id=\"edge2\" class=\"edge\">\n<title>word2&#45;&gt;2</title>\n<path fill=\"none\" stroke=\"#000000\" d=\"M176.3284,-68.7354C192.3167,-70.9598 211.403,-73.6151 227.7211,-75.8854\"/>\n<polygon fill=\"#000000\" stroke=\"#000000\" points=\"227.5974,-79.4018 237.9843,-77.3132 228.562,-72.4686 227.5974,-79.4018\"/>\n</g>\n<!-- 3 -->\n<g id=\"node6\" class=\"node\">\n<title>3</title>\n<ellipse fill=\"none\" stroke=\"#000000\" cx=\"382.1286\" cy=\"-35\" rx=\"27\" ry=\"18\"/>\n<text text-anchor=\"middle\" x=\"382.1286\" y=\"-31.3\" font-family=\"Times,serif\" font-size=\"14.00\" fill=\"#000000\">3</text>\n</g>\n<!-- 2&#45;&gt;3 -->\n<g id=\"edge5\" class=\"edge\">\n<title>2&#45;&gt;3</title>\n<path fill=\"none\" stroke=\"#000000\" d=\"M288.0087,-71.8018C305.5616,-64.9384 329.769,-55.4731 349.238,-47.8606\"/>\n<polygon fill=\"#000000\" stroke=\"#000000\" points=\"350.6063,-51.0836 358.6451,-44.1823 348.0571,-44.5643 350.6063,-51.0836\"/>\n<text text-anchor=\"middle\" x=\"325.5813\" y=\"-62.8\" font-family=\"Times,serif\" font-size=\"14.00\" fill=\"#000000\">h</text>\n</g>\n<!-- 5 -->\n<g id=\"node8\" class=\"node\">\n<title>5</title>\n<ellipse fill=\"none\" stroke=\"#000000\" cx=\"382.1286\" cy=\"-96\" rx=\"27\" ry=\"18\"/>\n<text text-anchor=\"middle\" x=\"382.1286\" y=\"-92.3\" font-family=\"Times,serif\" font-size=\"14.00\" fill=\"#000000\">5</text>\n</g>\n<!-- 2&#45;&gt;5 -->\n<g id=\"edge7\" class=\"edge\">\n<title>2&#45;&gt;5</title>\n<path fill=\"none\" stroke=\"#000000\" d=\"M291.1797,-84.4037C307.2742,-86.4558 327.9974,-89.0981 345.5965,-91.342\"/>\n<polygon fill=\"#000000\" stroke=\"#000000\" points=\"345.1766,-94.8168 355.539,-92.6097 346.062,-87.873 345.1766,-94.8168\"/>\n<text text-anchor=\"middle\" x=\"325.5813\" y=\"-92.8\" font-family=\"Times,serif\" font-size=\"14.00\" fill=\"#000000\">res</text>\n</g>\n<!-- word3 -->\n<g id=\"node5\" class=\"node\">\n<title>word3</title>\n<ellipse fill=\"none\" stroke=\"#000000\" cx=\"264.4844\" cy=\"-18\" rx=\"35.194\" ry=\"18\"/>\n<text text-anchor=\"middle\" x=\"264.4844\" y=\"-14.3\" font-family=\"Times,serif\" font-size=\"14.00\" fill=\"#000000\">word3</text>\n</g>\n<!-- word3&#45;&gt;3 -->\n<g id=\"edge3\" class=\"edge\">\n<title>word3&#45;&gt;3</title>\n<path fill=\"none\" stroke=\"#000000\" d=\"M298.512,-22.9171C313.2887,-25.0524 330.6206,-27.5569 345.6616,-29.7304\"/>\n<polygon fill=\"#000000\" stroke=\"#000000\" points=\"345.2513,-33.2074 355.6491,-31.1736 346.2525,-26.2793 345.2513,-33.2074\"/>\n</g>\n<!-- 6 -->\n<g id=\"node9\" class=\"node\">\n<title>6</title>\n<ellipse fill=\"none\" stroke=\"#000000\" cx=\"495.2232\" cy=\"-42\" rx=\"27\" ry=\"18\"/>\n<text text-anchor=\"middle\" x=\"495.2232\" y=\"-38.3\" font-family=\"Times,serif\" font-size=\"14.00\" fill=\"#000000\">6</text>\n</g>\n<!-- 3&#45;&gt;6 -->\n<g id=\"edge8\" class=\"edge\">\n<title>3&#45;&gt;6</title>\n<path fill=\"none\" stroke=\"#000000\" d=\"M409.1644,-34.7726C420.7303,-34.8427 434.3772,-35.1472 446.6759,-36 450.6141,-36.2731 454.7228,-36.6448 458.8102,-37.0704\"/>\n<polygon fill=\"#000000\" stroke=\"#000000\" points=\"458.4847,-40.5559 468.8173,-38.2135 459.2792,-33.6011 458.4847,-40.5559\"/>\n<text text-anchor=\"middle\" x=\"438.6759\" y=\"-39.8\" font-family=\"Times,serif\" font-size=\"14.00\" fill=\"#000000\">res</text>\n</g>\n<!-- 4&#45;&gt;5 -->\n<g id=\"edge9\" class=\"edge\">\n<title>4&#45;&gt;5</title>\n<path fill=\"none\" stroke=\"#000000\" d=\"M288.8604,-126.9192C305.9751,-121.2455 329.0968,-113.5805 348.0365,-107.3018\"/>\n<polygon fill=\"#000000\" stroke=\"#000000\" points=\"349.3932,-110.5394 357.7839,-104.0705 347.1905,-103.895 349.3932,-110.5394\"/>\n<text text-anchor=\"middle\" x=\"325.5813\" y=\"-119.8\" font-family=\"Times,serif\" font-size=\"14.00\" fill=\"#000000\">h</text>\n</g>\n<!-- resp1 -->\n<g id=\"node10\" class=\"node\">\n<title>resp1</title>\n<ellipse fill=\"none\" stroke=\"#000000\" cx=\"382.1286\" cy=\"-157\" rx=\"30.5947\" ry=\"18\"/>\n<text text-anchor=\"middle\" x=\"382.1286\" y=\"-153.3\" font-family=\"Times,serif\" font-size=\"14.00\" fill=\"#000000\">resp1</text>\n</g>\n<!-- 4&#45;&gt;resp1 -->\n<g id=\"edge11\" class=\"edge\">\n<title>4&#45;&gt;resp1</title>\n<path fill=\"none\" stroke=\"#000000\" d=\"M290.5935,-139.8825C305.8414,-142.7339 325.3894,-146.3895 342.5027,-149.5898\"/>\n<polygon fill=\"#000000\" stroke=\"#000000\" points=\"342.3104,-153.1144 352.7833,-151.5123 343.5971,-146.2337 342.3104,-153.1144\"/>\n</g>\n<!-- 5&#45;&gt;6 -->\n<g id=\"edge10\" class=\"edge\">\n<title>5&#45;&gt;6</title>\n<path fill=\"none\" stroke=\"#000000\" d=\"M404.2029,-85.4601C421.2502,-77.3203 445.057,-65.9532 464.0475,-56.8856\"/>\n<polygon fill=\"#000000\" stroke=\"#000000\" points=\"465.6886,-59.9806 473.2046,-52.5134 462.6724,-53.6638 465.6886,-59.9806\"/>\n<text text-anchor=\"middle\" x=\"438.6759\" y=\"-75.8\" font-family=\"Times,serif\" font-size=\"14.00\" fill=\"#000000\">h</text>\n</g>\n<!-- resp2 -->\n<g id=\"node11\" class=\"node\">\n<title>resp2</title>\n<ellipse fill=\"none\" stroke=\"#000000\" cx=\"495.2232\" cy=\"-103\" rx=\"30.5947\" ry=\"18\"/>\n<text text-anchor=\"middle\" x=\"495.2232\" y=\"-99.3\" font-family=\"Times,serif\" font-size=\"14.00\" fill=\"#000000\">resp2</text>\n</g>\n<!-- 5&#45;&gt;resp2 -->\n<g id=\"edge12\" class=\"edge\">\n<title>5&#45;&gt;resp2</title>\n<path fill=\"none\" stroke=\"#000000\" d=\"M409.2176,-97.6767C422.8099,-98.518 439.5527,-99.5543 454.643,-100.4883\"/>\n<polygon fill=\"#000000\" stroke=\"#000000\" points=\"454.57,-103.9904 464.7671,-101.1149 455.0025,-97.0037 454.57,-103.9904\"/>\n</g>\n<!-- resp3 -->\n<g id=\"node12\" class=\"node\">\n<title>resp3</title>\n<ellipse fill=\"none\" stroke=\"#000000\" cx=\"593.3178\" cy=\"-42\" rx=\"30.5947\" ry=\"18\"/>\n<text text-anchor=\"middle\" x=\"593.3178\" y=\"-38.3\" font-family=\"Times,serif\" font-size=\"14.00\" fill=\"#000000\">resp3</text>\n</g>\n<!-- 6&#45;&gt;resp3 -->\n<g id=\"edge13\" class=\"edge\">\n<title>6&#45;&gt;resp3</title>\n<path fill=\"none\" stroke=\"#000000\" d=\"M522.2876,-42C531.5473,-42 542.1249,-42 552.2382,-42\"/>\n<polygon fill=\"#000000\" stroke=\"#000000\" points=\"552.5345,-45.5001 562.5345,-42 552.5344,-38.5001 552.5345,-45.5001\"/>\n</g>\n</g>\n</svg>\n"
          },
          "metadata": {},
          "execution_count": 14
        }
      ]
    },
    {
      "cell_type": "markdown",
      "metadata": {
        "id": "yUV53c5tImZN"
      },
      "source": [
        "### **The Model**"
      ]
    },
    {
      "cell_type": "code",
      "metadata": {
        "id": "u1lvVwhbNJQH"
      },
      "source": [
        "class LMModel5(Module):\n",
        "    def __init__(self, vocab_sz, n_hidden, n_layers):\n",
        "        self.i_h = nn.Embedding(vocab_sz, n_hidden)\n",
        "        self.rnn = nn.RNN(n_hidden, n_hidden, n_layers, batch_first=True) # podemos resumir una RNN con esta funcion\n",
        "        self.h_o = nn.Linear(n_hidden, vocab_sz)\n",
        "        self.h = torch.zeros(n_layers, bs, n_hidden)\n",
        "        \n",
        "    def forward(self, x):\n",
        "        # aqui obtenemos lo necesario para la otra capa (h y res(esta actua como la nueva palabra de entrada))\n",
        "        # en el dibujo de arriba puede quedar mas claro (notar que en 1 y 4, h se comienza con 0)\n",
        "        res,h = self.rnn(self.i_h(x), self.h)\n",
        "        self.h = h.detach()\n",
        "        return self.h_o(res)\n",
        "    \n",
        "    def reset(self): self.h.zero_()"
      ],
      "execution_count": null,
      "outputs": []
    },
    {
      "cell_type": "code",
      "metadata": {
        "colab": {
          "base_uri": "https://localhost:8080/",
          "height": 786
        },
        "id": "iz5fv46INI-_",
        "outputId": "e3259e17-ecda-4ec2-c604-982ec572c91e"
      },
      "source": [
        "learn = Learner(dls, LMModel5(len(vocab), 64, 2), # el 2, hacer referencia a utilizar 2 capas RNN\n",
        "                loss_func=CrossEntropyLossFlat(), # Esto es equivalente a la funcion de perdida anterior\n",
        "                metrics=accuracy, cbs=ModelResetter)\n",
        "lr = learn.lr_find()[0]\n",
        "learn.fit_one_cycle(15, 3e-3)"
      ],
      "execution_count": null,
      "outputs": [
        {
          "output_type": "display_data",
          "data": {
            "text/html": [
              ""
            ],
            "text/plain": [
              "<IPython.core.display.HTML object>"
            ]
          },
          "metadata": {}
        },
        {
          "output_type": "display_data",
          "data": {
            "text/html": [
              "<table border=\"1\" class=\"dataframe\">\n",
              "  <thead>\n",
              "    <tr style=\"text-align: left;\">\n",
              "      <th>epoch</th>\n",
              "      <th>train_loss</th>\n",
              "      <th>valid_loss</th>\n",
              "      <th>accuracy</th>\n",
              "      <th>time</th>\n",
              "    </tr>\n",
              "  </thead>\n",
              "  <tbody>\n",
              "    <tr>\n",
              "      <td>0</td>\n",
              "      <td>3.042007</td>\n",
              "      <td>2.699477</td>\n",
              "      <td>0.394043</td>\n",
              "      <td>00:01</td>\n",
              "    </tr>\n",
              "    <tr>\n",
              "      <td>1</td>\n",
              "      <td>2.161693</td>\n",
              "      <td>1.804153</td>\n",
              "      <td>0.471029</td>\n",
              "      <td>00:01</td>\n",
              "    </tr>\n",
              "    <tr>\n",
              "      <td>2</td>\n",
              "      <td>1.709983</td>\n",
              "      <td>1.789562</td>\n",
              "      <td>0.405192</td>\n",
              "      <td>00:01</td>\n",
              "    </tr>\n",
              "    <tr>\n",
              "      <td>3</td>\n",
              "      <td>1.467983</td>\n",
              "      <td>1.722651</td>\n",
              "      <td>0.486979</td>\n",
              "      <td>00:01</td>\n",
              "    </tr>\n",
              "    <tr>\n",
              "      <td>4</td>\n",
              "      <td>1.269960</td>\n",
              "      <td>1.956122</td>\n",
              "      <td>0.485026</td>\n",
              "      <td>00:01</td>\n",
              "    </tr>\n",
              "    <tr>\n",
              "      <td>5</td>\n",
              "      <td>1.068349</td>\n",
              "      <td>1.800050</td>\n",
              "      <td>0.489827</td>\n",
              "      <td>00:01</td>\n",
              "    </tr>\n",
              "    <tr>\n",
              "      <td>6</td>\n",
              "      <td>0.885207</td>\n",
              "      <td>1.979312</td>\n",
              "      <td>0.511963</td>\n",
              "      <td>00:01</td>\n",
              "    </tr>\n",
              "    <tr>\n",
              "      <td>7</td>\n",
              "      <td>0.736110</td>\n",
              "      <td>2.122348</td>\n",
              "      <td>0.519368</td>\n",
              "      <td>00:01</td>\n",
              "    </tr>\n",
              "    <tr>\n",
              "      <td>8</td>\n",
              "      <td>0.612796</td>\n",
              "      <td>2.255913</td>\n",
              "      <td>0.528158</td>\n",
              "      <td>00:01</td>\n",
              "    </tr>\n",
              "    <tr>\n",
              "      <td>9</td>\n",
              "      <td>0.521253</td>\n",
              "      <td>2.341738</td>\n",
              "      <td>0.536051</td>\n",
              "      <td>00:01</td>\n",
              "    </tr>\n",
              "    <tr>\n",
              "      <td>10</td>\n",
              "      <td>0.456608</td>\n",
              "      <td>2.414982</td>\n",
              "      <td>0.542643</td>\n",
              "      <td>00:01</td>\n",
              "    </tr>\n",
              "    <tr>\n",
              "      <td>11</td>\n",
              "      <td>0.410456</td>\n",
              "      <td>2.407657</td>\n",
              "      <td>0.549561</td>\n",
              "      <td>00:01</td>\n",
              "    </tr>\n",
              "    <tr>\n",
              "      <td>12</td>\n",
              "      <td>0.379637</td>\n",
              "      <td>2.431491</td>\n",
              "      <td>0.553223</td>\n",
              "      <td>00:01</td>\n",
              "    </tr>\n",
              "    <tr>\n",
              "      <td>13</td>\n",
              "      <td>0.360985</td>\n",
              "      <td>2.411620</td>\n",
              "      <td>0.553141</td>\n",
              "      <td>00:01</td>\n",
              "    </tr>\n",
              "    <tr>\n",
              "      <td>14</td>\n",
              "      <td>0.351240</td>\n",
              "      <td>2.430721</td>\n",
              "      <td>0.553304</td>\n",
              "      <td>00:01</td>\n",
              "    </tr>\n",
              "  </tbody>\n",
              "</table>"
            ],
            "text/plain": [
              "<IPython.core.display.HTML object>"
            ]
          },
          "metadata": {}
        },
        {
          "output_type": "display_data",
          "data": {
            "image/png": "[encoded data removed]",
            "text/plain": [
              "<Figure size 432x288 with 1 Axes>"
            ]
          },
          "metadata": {
            "needs_background": "light"
          }
        }
      ]
    },
    {
      "cell_type": "markdown",
      "metadata": {
        "id": "tG-MpnhHImDc"
      },
      "source": [
        "### **Exploding or Disappearing Activations**\n",
        "\n",
        "Sorpresivamente, este modelo arrojo un peor desempeño, y la razon se esconde en este concepto de Exploding y Disappearing Activations.\n",
        "\n",
        "Sin entrar mucho en detalles sobre las matematicas, el problema surge de calcular las derivadas de los parametros de las primeras capas. Asi, estos se actualizaban efectuando derivadas parciales sobre la perdida del modelo, pero para realizar este calculo, nosotros antes debiamos calcular las derivadas parciales de las ultimas capas y luego, por regla de la cadena, ir desgranando y multiplicando. \n",
        "\n",
        "El problema entonces, se genera por esta multiplicacion de derivadas parciales, las cuales incrementan o reducen con facilidad el valor final de la cadena que tengo que calcular. (recordando las primeras clases, ya sabemos el problema de presentar un gradiente 0 con el metodo de gradient descent)\n"
      ]
    },
    {
      "cell_type": "markdown",
      "metadata": {
        "id": "d7TdauU-Ilte"
      },
      "source": [
        "## **LSTM**\n",
        "\n",
        "Lo que vamos a hacer aqui es utilizar una estructura que vienen a arreglar el problema anterior, a estas estructuras se las llama LSTM (Long Short Term Memory)\n",
        "\n",
        "Es un poco enredado el recorrido, por lo que voy a dejar la foto de como funcionan.\n",
        "\n",
        "![image.png](data:image/png;base64,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)\n",
        "\n",
        "**Nota:** Existe otra estructura que tambien equivalente, las GRU (Gated Recurrent Units), sin embargo, no se profundizan en la clase."
      ]
    },
    {
      "cell_type": "markdown",
      "metadata": {
        "id": "KeZ35FQiIlZ3"
      },
      "source": [
        "### **Building an LSTM from Scratch**"
      ]
    },
    {
      "cell_type": "code",
      "metadata": {
        "id": "h3n7WDBPNbdV"
      },
      "source": [
        "# Bien, aqui se encuentra el recorrido mostrado en la figura\n",
        "## Si miramos la figura, en la parte de abajo a la izquierda se puede\n",
        "## Observar como H y X se juntan y pasan por distintas 'Puertas' (4)\n",
        "## Recorramoslas\n",
        "class LSTMCell(Module):\n",
        "    def __init__(self, ni, nh):\n",
        "        self.forget_gate = nn.Linear(ni + nh, nh) # Puerta 1\n",
        "        self.input_gate  = nn.Linear(ni + nh, nh) # Puerta 2\n",
        "        self.cell_gate   = nn.Linear(ni + nh, nh) # Puerta 3\n",
        "        self.output_gate = nn.Linear(ni + nh, nh) # Puerta 4\n",
        "\n",
        "    def forward(self, input, state):\n",
        "        h,c = state # Entran H y C (X es el input)\n",
        "        h = torch.cat([h, input], dim=1) # juntamos H y X\n",
        "        forget = torch.sigmoid(self.forget_gate(h)) # Puerta 1, del olvido \n",
        "        c = c * forget # La resultante de la puerta 1, la multiplicamos por C\n",
        "        inp = torch.sigmoid(self.input_gate(h)) # Puerta 2\n",
        "        cell = torch.tanh(self.cell_gate(h)) # Puerta 3\n",
        "        # Multiplicamos lo resultante de la puerta 2 con la 3 y sumamos C\n",
        "        c = c + inp * cell\n",
        "        # Por una parte sacamos C (nuevo), y por otra lo pasamos por tanh y multiplicamos \n",
        "        # por resultante de puerta 4 \n",
        "        out = torch.sigmoid(self.output_gate(h))\n",
        "        h = out * torch.tanh(c) # Aqui generamos el nuevo H\n",
        "        return h, (h,c)"
      ],
      "execution_count": null,
      "outputs": []
    },
    {
      "cell_type": "code",
      "metadata": {
        "id": "MsorC37uNbMc"
      },
      "source": [
        "# Mismo codigo anterior, pero realizando los calculos de manera matricial\n",
        "## Asi, se ejecuta mas rapido\n",
        "class LSTMCell(Module):\n",
        "    def __init__(self, ni, nh):\n",
        "        self.ih = nn.Linear(ni,4*nh)\n",
        "        self.hh = nn.Linear(nh,4*nh)\n",
        "\n",
        "    def forward(self, input, state):\n",
        "        h,c = state\n",
        "        # One big multiplication for all the gates is better than 4 smaller ones\n",
        "        gates = (self.ih(input) + self.hh(h)).chunk(4, 1)\n",
        "        ingate,forgetgate,outgate = map(torch.sigmoid, gates[:3])\n",
        "        cellgate = gates[3].tanh()\n",
        "\n",
        "        c = (forgetgate*c) + (ingate*cellgate)\n",
        "        h = outgate * c.tanh()\n",
        "        return h, (h,c)"
      ],
      "execution_count": null,
      "outputs": []
    },
    {
      "cell_type": "code",
      "metadata": {
        "colab": {
          "base_uri": "https://localhost:8080/"
        },
        "id": "ALHEmI4fNa7b",
        "outputId": "562b7d4d-c7d7-4948-9a84-cc2eb53fd1b9"
      },
      "source": [
        "t = torch.arange(0,10)\n",
        "t"
      ],
      "execution_count": null,
      "outputs": [
        {
          "output_type": "execute_result",
          "data": {
            "text/plain": [
              "tensor([0, 1, 2, 3, 4, 5, 6, 7, 8, 9])"
            ]
          },
          "metadata": {},
          "execution_count": 32
        }
      ]
    },
    {
      "cell_type": "code",
      "metadata": {
        "colab": {
          "base_uri": "https://localhost:8080/"
        },
        "id": "Wml4EMKCNarP",
        "outputId": "fa435898-91ea-47a4-8c9e-bc85465ca1c3"
      },
      "source": [
        "# Aqui podemos ver en accion la funcion chunk (separa el tensor en partes iguales)\n",
        "t.chunk(2)"
      ],
      "execution_count": null,
      "outputs": [
        {
          "output_type": "execute_result",
          "data": {
            "text/plain": [
              "(tensor([0, 1, 2, 3, 4]), tensor([5, 6, 7, 8, 9]))"
            ]
          },
          "metadata": {},
          "execution_count": 33
        }
      ]
    },
    {
      "cell_type": "markdown",
      "metadata": {
        "id": "6bl5boStIlIk"
      },
      "source": [
        "### **Training a Language Model Using LSTMs**\n"
      ]
    },
    {
      "cell_type": "code",
      "metadata": {
        "id": "sPJR_vymNqPX"
      },
      "source": [
        "# Aqui, reemplazamos las capas RNN por estas LSTM\n",
        "class LMModel6(Module):\n",
        "    def __init__(self, vocab_sz, n_hidden, n_layers):\n",
        "        self.i_h = nn.Embedding(vocab_sz, n_hidden)\n",
        "        self.rnn = nn.LSTM(n_hidden, n_hidden, n_layers, batch_first=True)\n",
        "        self.h_o = nn.Linear(n_hidden, vocab_sz)\n",
        "        self.h = [torch.zeros(n_layers, bs, n_hidden) for _ in range(2)]\n",
        "        \n",
        "    def forward(self, x):\n",
        "        res,h = self.rnn(self.i_h(x), self.h)\n",
        "        self.h = [h_.detach() for h_ in h]\n",
        "        return self.h_o(res)\n",
        "    \n",
        "    def reset(self): \n",
        "        for h in self.h: h.zero_()"
      ],
      "execution_count": null,
      "outputs": []
    },
    {
      "cell_type": "code",
      "metadata": {
        "colab": {
          "base_uri": "https://localhost:8080/",
          "height": 786
        },
        "id": "tdoN8ezLNp9W",
        "outputId": "3d306294-c5ee-4df4-fbf9-2b13b5cb64f9"
      },
      "source": [
        "# Volvemos a entrenar\n",
        "learn = Learner(dls, LMModel6(len(vocab), 64, 2), \n",
        "                loss_func=CrossEntropyLossFlat(), \n",
        "                metrics=accuracy, cbs=ModelResetter)\n",
        "lr = learn.lr_find()[0]\n",
        "learn.fit_one_cycle(15, 1e-2)"
      ],
      "execution_count": null,
      "outputs": [
        {
          "output_type": "display_data",
          "data": {
            "text/html": [
              ""
            ],
            "text/plain": [
              "<IPython.core.display.HTML object>"
            ]
          },
          "metadata": {}
        },
        {
          "output_type": "display_data",
          "data": {
            "text/html": [
              "<table border=\"1\" class=\"dataframe\">\n",
              "  <thead>\n",
              "    <tr style=\"text-align: left;\">\n",
              "      <th>epoch</th>\n",
              "      <th>train_loss</th>\n",
              "      <th>valid_loss</th>\n",
              "      <th>accuracy</th>\n",
              "      <th>time</th>\n",
              "    </tr>\n",
              "  </thead>\n",
              "  <tbody>\n",
              "    <tr>\n",
              "      <td>0</td>\n",
              "      <td>3.017374</td>\n",
              "      <td>2.792713</td>\n",
              "      <td>0.239909</td>\n",
              "      <td>00:01</td>\n",
              "    </tr>\n",
              "    <tr>\n",
              "      <td>1</td>\n",
              "      <td>2.244353</td>\n",
              "      <td>1.723741</td>\n",
              "      <td>0.336589</td>\n",
              "      <td>00:01</td>\n",
              "    </tr>\n",
              "    <tr>\n",
              "      <td>2</td>\n",
              "      <td>1.632413</td>\n",
              "      <td>1.774232</td>\n",
              "      <td>0.433757</td>\n",
              "      <td>00:01</td>\n",
              "    </tr>\n",
              "    <tr>\n",
              "      <td>3</td>\n",
              "      <td>1.360035</td>\n",
              "      <td>1.803332</td>\n",
              "      <td>0.482178</td>\n",
              "      <td>00:01</td>\n",
              "    </tr>\n",
              "    <tr>\n",
              "      <td>4</td>\n",
              "      <td>1.144320</td>\n",
              "      <td>2.138382</td>\n",
              "      <td>0.493001</td>\n",
              "      <td>00:01</td>\n",
              "    </tr>\n",
              "    <tr>\n",
              "      <td>5</td>\n",
              "      <td>0.945287</td>\n",
              "      <td>1.843273</td>\n",
              "      <td>0.518880</td>\n",
              "      <td>00:01</td>\n",
              "    </tr>\n",
              "    <tr>\n",
              "      <td>6</td>\n",
              "      <td>0.747629</td>\n",
              "      <td>1.905661</td>\n",
              "      <td>0.559652</td>\n",
              "      <td>00:01</td>\n",
              "    </tr>\n",
              "    <tr>\n",
              "      <td>7</td>\n",
              "      <td>0.564484</td>\n",
              "      <td>1.655866</td>\n",
              "      <td>0.605143</td>\n",
              "      <td>00:01</td>\n",
              "    </tr>\n",
              "    <tr>\n",
              "      <td>8</td>\n",
              "      <td>0.428665</td>\n",
              "      <td>1.582678</td>\n",
              "      <td>0.667643</td>\n",
              "      <td>00:01</td>\n",
              "    </tr>\n",
              "    <tr>\n",
              "      <td>9</td>\n",
              "      <td>0.340310</td>\n",
              "      <td>1.641732</td>\n",
              "      <td>0.684896</td>\n",
              "      <td>00:01</td>\n",
              "    </tr>\n",
              "    <tr>\n",
              "      <td>10</td>\n",
              "      <td>0.269675</td>\n",
              "      <td>1.705125</td>\n",
              "      <td>0.713623</td>\n",
              "      <td>00:01</td>\n",
              "    </tr>\n",
              "    <tr>\n",
              "      <td>11</td>\n",
              "      <td>0.203311</td>\n",
              "      <td>1.608428</td>\n",
              "      <td>0.736165</td>\n",
              "      <td>00:01</td>\n",
              "    </tr>\n",
              "    <tr>\n",
              "      <td>12</td>\n",
              "      <td>0.152202</td>\n",
              "      <td>1.602058</td>\n",
              "      <td>0.745687</td>\n",
              "      <td>00:01</td>\n",
              "    </tr>\n",
              "    <tr>\n",
              "      <td>13</td>\n",
              "      <td>0.121796</td>\n",
              "      <td>1.612655</td>\n",
              "      <td>0.749268</td>\n",
              "      <td>00:01</td>\n",
              "    </tr>\n",
              "    <tr>\n",
              "      <td>14</td>\n",
              "      <td>0.107177</td>\n",
              "      <td>1.611621</td>\n",
              "      <td>0.747396</td>\n",
              "      <td>00:01</td>\n",
              "    </tr>\n",
              "  </tbody>\n",
              "</table>"
            ],
            "text/plain": [
              "<IPython.core.display.HTML object>"
            ]
          },
          "metadata": {}
        },
        {
          "output_type": "display_data",
          "data": {
            "image/png": "[encoded data removed]",
            "text/plain": [
              "<Figure size 432x288 with 1 Axes>"
            ]
          },
          "metadata": {
            "needs_background": "light"
          }
        }
      ]
    },
    {
      "cell_type": "markdown",
      "metadata": {
        "id": "3jIDj2mSIksK"
      },
      "source": [
        "## **Regularizing an LSTM**\n",
        "\n",
        "Ya a partir de este momento, estamos consiguiendo un desempeño destacable con el modelo. Sin embargo, aun podemos agragar un par de tecnicas mas."
      ]
    },
    {
      "cell_type": "markdown",
      "metadata": {
        "id": "igqfuxvlIkAa"
      },
      "source": [
        "### **Dropout**\n",
        "\n",
        "Con esta tecnica lo que se va haciendo es ir desactivando aleatoriamente algunas de las neuronas contenidas en las capas de la red neuronal. Para esto se utiliza el metodo de mas abajo, siendo el parametro p el utilizado para regular con que probabilidad se podra encontrar activa una neurona. (probabilidad p de que no se encuentre activa y (1-p) de que si este activa)\n",
        "\n",
        "Nota: Este metodo se utiliza en los modelos de imagenes de Fastai y tambien se puede utilizar en los modelos tabulares, agregando el parametro `ps`."
      ]
    },
    {
      "cell_type": "code",
      "metadata": {
        "id": "RARJJ6MqNz1C"
      },
      "source": [
        "# Esta es la clase que se utiliza para ir desactivando las neuronas\n",
        "## Notar que esto solo se esta aplicando en el entrenamiento\n",
        "class Dropout(Module):\n",
        "    def __init__(self, p): self.p = p\n",
        "    def forward(self, x):\n",
        "        if not self.training: return x\n",
        "        mask = x.new(*x.shape).bernoulli_(1-p)\n",
        "        return x * mask.div_(1-p)"
      ],
      "execution_count": null,
      "outputs": []
    },
    {
      "cell_type": "code",
      "metadata": {
        "colab": {
          "base_uri": "https://localhost:8080/"
        },
        "id": "eCuUtEzOEn0s",
        "outputId": "4b709ddf-d0cd-413b-e2fe-f1c873f55d9b"
      },
      "source": [
        "# Probemos lo que hace el metodo bernoulli\n",
        "p = 0.5\n",
        "input = torch.rand(4)\n",
        "prob = torch.clone(input).bernoulli_(1-p).div_(1-p)\n",
        "res = input*prob\n",
        "print(input)\n",
        "print(prob)\n",
        "print(res)"
      ],
      "execution_count": null,
      "outputs": [
        {
          "output_type": "stream",
          "name": "stdout",
          "text": [
            "tensor([0.1994, 0.5472, 0.0062, 0.9516])\n",
            "tensor([2., 0., 2., 0.])\n",
            "tensor([0.3987, 0.0000, 0.0123, 0.0000])\n"
          ]
        }
      ]
    },
    {
      "cell_type": "markdown",
      "metadata": {
        "id": "6y0JJ2F4KkQU"
      },
      "source": [
        "### **Activation Regulazation and Temporal Activation Regularization**\n",
        "\n",
        "Estos metodos funcionan bastante paracidos al 'weight decay', ya que en ambos se busca incrementar la funcion de perdida, para asi reducir el valor que pueden tomar las activaciones.\n",
        "\n",
        " - AR (Activation Regulazation): Se aplica solo a las activaciones del final.\n",
        "```\n",
        "loss += alpha * activations.pow(2).mean()\n",
        "```\n",
        " - TAR (Temporal Activation Regularization): Se toma en consideracion, las activaciones las palabras anteriores (se excluye la del final, porque se calcula con el AR)   \n",
        "```\n",
        "loss += beta * (activations[:,1:] - activations[:,:-1]).pow(2).mean()\n",
        "```\n",
        "- Nota: Recordar que la estrucura del tensor es la siguiente. [batch size, secuence lenght, n_hidden]\n"
      ]
    },
    {
      "cell_type": "markdown",
      "metadata": {
        "id": "9hgeTB5gKj3R"
      },
      "source": [
        "### **Training a Weight-Tied Regularized LSTM**"
      ]
    },
    {
      "cell_type": "code",
      "metadata": {
        "id": "ZVNU5cUKODZm"
      },
      "source": [
        "# Ahora para agregar el Dropout hacemos lo siguiente\n",
        "class LMModel7(Module):\n",
        "    def __init__(self, vocab_sz, n_hidden, n_layers, p):\n",
        "        self.i_h = nn.Embedding(vocab_sz, n_hidden)\n",
        "        self.rnn = nn.LSTM(n_hidden, n_hidden, n_layers, batch_first=True) #, batch_first=True\n",
        "        # Con esto, solo definimos la funcion, especificando el valor p\n",
        "        self.drop = nn.Dropout(p)    \n",
        "        self.h_o = nn.Linear(n_hidden, vocab_sz)\n",
        "        self.h_o.weight = self.i_h.weight\n",
        "        self.h = [torch.zeros(n_layers, bs, n_hidden) for _ in range(2)]\n",
        "        \n",
        "    def forward(self, x):\n",
        "        raw,h = self.rnn(self.i_h(x), self.h) # Raw es equivalente al Res \n",
        "        out = self.drop(raw) # Le aplicamos el drop a al Res\n",
        "        self.h = [h_.detach() for h_ in h]\n",
        "        return self.h_o(out),raw,out # Aqui la salida h_o(out), ya tendria desactivadas algunas neuronas\n",
        "    \n",
        "    def reset(self): \n",
        "        for h in self.h: h.zero_()"
      ],
      "execution_count": null,
      "outputs": []
    },
    {
      "cell_type": "code",
      "metadata": {
        "id": "pRmWWo28ODEz"
      },
      "source": [
        "# Por otro lado, para aplicar el AR y TAR, esto lo hacemos similar al WD\n",
        "# Es decir, lo especificamos en el Learner\n",
        "learn = Learner(dls, LMModel7(len(vocab), 64, 2, 0.5),\n",
        "                loss_func=CrossEntropyLossFlat(), metrics=accuracy,\n",
        "                cbs=[ModelResetter, RNNRegularizer(alpha=2, beta=1)])"
      ],
      "execution_count": null,
      "outputs": []
    },
    {
      "cell_type": "code",
      "metadata": {
        "id": "RknsPFy6OCxf"
      },
      "source": [
        "# Ojo, que cuando llamamos al metodo TextLearner, este ya tiene por defecto los\n",
        "# metodos AR y TAR (con parametros alpha=2, beta=1)\n",
        "learn = TextLearner(dls, LMModel7(len(vocab), 64, 2, 0.4),\n",
        "                    loss_func=CrossEntropyLossFlat(), metrics=accuracy)"
      ],
      "execution_count": null,
      "outputs": []
    },
    {
      "cell_type": "code",
      "metadata": {
        "colab": {
          "base_uri": "https://localhost:8080/",
          "height": 781
        },
        "id": "o1jPpfExOCer",
        "outputId": "03338d08-324b-4dba-fe32-864afd04d764"
      },
      "source": [
        "lr = learn.lr_find()[0]\n",
        "learn.fit_one_cycle(15, lr, wd=0.1) # Ojo que aqui tambien agregamos weight decay"
      ],
      "execution_count": null,
      "outputs": [
        {
          "output_type": "display_data",
          "data": {
            "text/html": [
              ""
            ],
            "text/plain": [
              "<IPython.core.display.HTML object>"
            ]
          },
          "metadata": {}
        },
        {
          "output_type": "display_data",
          "data": {
            "text/html": [
              "<table border=\"1\" class=\"dataframe\">\n",
              "  <thead>\n",
              "    <tr style=\"text-align: left;\">\n",
              "      <th>epoch</th>\n",
              "      <th>train_loss</th>\n",
              "      <th>valid_loss</th>\n",
              "      <th>accuracy</th>\n",
              "      <th>time</th>\n",
              "    </tr>\n",
              "  </thead>\n",
              "  <tbody>\n",
              "    <tr>\n",
              "      <td>0</td>\n",
              "      <td>2.947114</td>\n",
              "      <td>2.377033</td>\n",
              "      <td>0.432373</td>\n",
              "      <td>00:01</td>\n",
              "    </tr>\n",
              "    <tr>\n",
              "      <td>1</td>\n",
              "      <td>1.959460</td>\n",
              "      <td>1.468829</td>\n",
              "      <td>0.607178</td>\n",
              "      <td>00:01</td>\n",
              "    </tr>\n",
              "    <tr>\n",
              "      <td>2</td>\n",
              "      <td>1.165395</td>\n",
              "      <td>0.826421</td>\n",
              "      <td>0.753011</td>\n",
              "      <td>00:01</td>\n",
              "    </tr>\n",
              "    <tr>\n",
              "      <td>3</td>\n",
              "      <td>0.613551</td>\n",
              "      <td>0.598541</td>\n",
              "      <td>0.809163</td>\n",
              "      <td>00:01</td>\n",
              "    </tr>\n",
              "    <tr>\n",
              "      <td>4</td>\n",
              "      <td>0.329609</td>\n",
              "      <td>0.410627</td>\n",
              "      <td>0.876221</td>\n",
              "      <td>00:01</td>\n",
              "    </tr>\n",
              "    <tr>\n",
              "      <td>5</td>\n",
              "      <td>0.190185</td>\n",
              "      <td>0.405074</td>\n",
              "      <td>0.874268</td>\n",
              "      <td>00:01</td>\n",
              "    </tr>\n",
              "    <tr>\n",
              "      <td>6</td>\n",
              "      <td>0.119201</td>\n",
              "      <td>0.393952</td>\n",
              "      <td>0.877279</td>\n",
              "      <td>00:01</td>\n",
              "    </tr>\n",
              "    <tr>\n",
              "      <td>7</td>\n",
              "      <td>0.081772</td>\n",
              "      <td>0.267714</td>\n",
              "      <td>0.922119</td>\n",
              "      <td>00:01</td>\n",
              "    </tr>\n",
              "    <tr>\n",
              "      <td>8</td>\n",
              "      <td>0.061589</td>\n",
              "      <td>0.311971</td>\n",
              "      <td>0.903402</td>\n",
              "      <td>00:01</td>\n",
              "    </tr>\n",
              "    <tr>\n",
              "      <td>9</td>\n",
              "      <td>0.047773</td>\n",
              "      <td>0.256904</td>\n",
              "      <td>0.924723</td>\n",
              "      <td>00:01</td>\n",
              "    </tr>\n",
              "    <tr>\n",
              "      <td>10</td>\n",
              "      <td>0.038672</td>\n",
              "      <td>0.286238</td>\n",
              "      <td>0.911133</td>\n",
              "      <td>00:01</td>\n",
              "    </tr>\n",
              "    <tr>\n",
              "      <td>11</td>\n",
              "      <td>0.032951</td>\n",
              "      <td>0.237121</td>\n",
              "      <td>0.930094</td>\n",
              "      <td>00:01</td>\n",
              "    </tr>\n",
              "    <tr>\n",
              "      <td>12</td>\n",
              "      <td>0.028935</td>\n",
              "      <td>0.254946</td>\n",
              "      <td>0.922363</td>\n",
              "      <td>00:01</td>\n",
              "    </tr>\n",
              "    <tr>\n",
              "      <td>13</td>\n",
              "      <td>0.026490</td>\n",
              "      <td>0.269785</td>\n",
              "      <td>0.917806</td>\n",
              "      <td>00:01</td>\n",
              "    </tr>\n",
              "    <tr>\n",
              "      <td>14</td>\n",
              "      <td>0.025092</td>\n",
              "      <td>0.268745</td>\n",
              "      <td>0.917236</td>\n",
              "      <td>00:01</td>\n",
              "    </tr>\n",
              "  </tbody>\n",
              "</table>"
            ],
            "text/plain": [
              "<IPython.core.display.HTML object>"
            ]
          },
          "metadata": {}
        },
        {
          "output_type": "display_data",
          "data": {
            "image/png": "[encoded data removed]",
            "text/plain": [
              "<Figure size 432x288 with 1 Axes>"
            ]
          },
          "metadata": {
            "needs_background": "light"
          }
        }
      ]
    },
    {
      "cell_type": "markdown",
      "metadata": {
        "id": "zNLLegh2Kjda"
      },
      "source": [
        ""
      ]
    }
  ]
}