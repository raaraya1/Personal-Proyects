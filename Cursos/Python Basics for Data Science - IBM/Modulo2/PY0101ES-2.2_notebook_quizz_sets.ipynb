{
 "cells": [
  {
   "cell_type": "markdown",
   "metadata": {},
   "source": [
    "<h3 align=center>Lista para Conjunto  </h3>"
   ]
  },
  {
   "cell_type": "markdown",
   "metadata": {},
   "source": [
    "Transfiera la siguiente lista a un conjunto:"
   ]
  },
  {
   "cell_type": "code",
   "execution_count": 2,
   "metadata": {},
   "outputs": [
    {
     "name": "stdout",
     "output_type": "stream",
     "text": [
      "{'B', 'C', 'A'}\n"
     ]
    }
   ],
   "source": [
    "a_lista = ['A','B','C','A','B','C']\n",
    "a_set = set(a_lista)\n",
    "print(a_set)\n"
   ]
  },
  {
   "cell_type": "markdown",
   "metadata": {},
   "source": [
    "<h3 align=center>Agregar un Elemento al Conjunto</h3> "
   ]
  },
  {
   "cell_type": "markdown",
   "metadata": {},
   "source": [
    "Agregue la cadena <code>D</code>  al conjunto S"
   ]
  },
  {
   "cell_type": "code",
   "execution_count": 3,
   "metadata": {},
   "outputs": [
    {
     "name": "stdout",
     "output_type": "stream",
     "text": [
      "{'B', 'C', 'A', 'D'}\n"
     ]
    }
   ],
   "source": [
    "S={'A','B','C'}\n",
    "S.add('D')\n",
    "print(S)\n"
   ]
  },
  {
   "cell_type": "markdown",
   "metadata": {},
   "source": [
    "<h3 align=center>Intersección</h3> "
   ]
  },
  {
   "cell_type": "markdown",
   "metadata": {},
   "source": [
    "Encuentre la intersección de los conjuntos <code>A</code> y <code>B</code>"
   ]
  },
  {
   "cell_type": "code",
   "execution_count": 4,
   "metadata": {
    "collapsed": false,
    "jupyter": {
     "outputs_hidden": false
    }
   },
   "outputs": [
    {
     "name": "stdout",
     "output_type": "stream",
     "text": [
      "{1, 3}\n"
     ]
    }
   ],
   "source": [
    "A={1,2,3,4,5}\n",
    "B={1,3,9, 12}\n",
    "\n",
    "interseccion = A&B\n",
    "print(interseccion)"
   ]
  },
  {
   "cell_type": "code",
   "execution_count": 5,
   "metadata": {},
   "outputs": [
    {
     "data": {
      "text/plain": [
       "{'A', 'B', 'C', 'Z'}"
      ]
     },
     "execution_count": 5,
     "metadata": {},
     "output_type": "execute_result"
    }
   ],
   "source": [
    "\n",
    "S={'A','B','C'}\n",
    "\n",
    "U={'A','Z','C'}\n",
    "\n",
    "U.union(S)\n"
   ]
  },
  {
   "cell_type": "code",
   "execution_count": 6,
   "metadata": {},
   "outputs": [
    {
     "name": "stdout",
     "output_type": "stream",
     "text": [
      "{'C', 'A'}\n"
     ]
    }
   ],
   "source": [
    "# Cual es la interseccion entre los conjuntos S y U?\n",
    "\n",
    "S={'A','B','C'}\n",
    "U={'A','Z','C'}\n",
    "\n",
    "interseccion = S&U\n",
    "print(interseccion)"
   ]
  },
  {
   "cell_type": "markdown",
   "metadata": {},
   "source": [
    "<hr>\n",
    "<small>Copyright &copy 2020 IBM Cognitive Class. Este cuaderno y su código fuente se publican bajo los términos de la [Licencia MIT] (https://cognitiveclass.ai/mit-license/).\n",
    "\n",
    "</small>"
   ]
  },
  {
   "cell_type": "code",
   "execution_count": null,
   "metadata": {},
   "outputs": [],
   "source": []
  }
 ],
 "metadata": {
  "kernelspec": {
   "display_name": "Python",
   "language": "python",
   "name": "conda-env-python-py"
  },
  "language_info": {
   "codemirror_mode": {
    "name": "ipython",
    "version": 3
   },
   "file_extension": ".py",
   "mimetype": "text/x-python",
   "name": "python",
   "nbconvert_exporter": "python",
   "pygments_lexer": "ipython3",
   "version": "3.6.13"
  }
 },
 "nbformat": 4,
 "nbformat_minor": 4
}
