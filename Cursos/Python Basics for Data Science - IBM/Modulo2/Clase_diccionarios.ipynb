{
 "cells": [
  {
   "cell_type": "code",
   "execution_count": 1,
   "id": "7fd2c6cf-d01a-4223-af10-17702c257638",
   "metadata": {},
   "outputs": [
    {
     "data": {
      "text/plain": [
       "dict_values([0, 1, 2])"
      ]
     },
     "execution_count": 1,
     "metadata": {},
     "output_type": "execute_result"
    }
   ],
   "source": [
    "# cual es el resultado de lo siguiente D.values()\n",
    "D={'a':0,'b':1,'c':2} \n",
    "D.values()\n"
   ]
  },
  {
   "cell_type": "code",
   "execution_count": 2,
   "id": "55c015f6-485d-4f3c-9dc5-27addbd6aefe",
   "metadata": {},
   "outputs": [
    {
     "data": {
      "text/plain": [
       "1"
      ]
     },
     "execution_count": 2,
     "metadata": {},
     "output_type": "execute_result"
    }
   ],
   "source": [
    "# cual es el resultado de lo siguiente? D['b']\n",
    "D={'a':0,'b':1,'c':2}\n",
    "D['b']"
   ]
  }
 ],
 "metadata": {
  "kernelspec": {
   "display_name": "Python",
   "language": "python",
   "name": "conda-env-python-py"
  },
  "language_info": {
   "codemirror_mode": {
    "name": "ipython",
    "version": 3
   },
   "file_extension": ".py",
   "mimetype": "text/x-python",
   "name": "python",
   "nbconvert_exporter": "python",
   "pygments_lexer": "ipython3",
   "version": "3.6.13"
  }
 },
 "nbformat": 4,
 "nbformat_minor": 5
}
